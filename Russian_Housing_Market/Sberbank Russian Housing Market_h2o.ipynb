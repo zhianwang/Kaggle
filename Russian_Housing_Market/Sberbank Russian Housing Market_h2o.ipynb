{
 "cells": [
  {
   "cell_type": "markdown",
   "metadata": {},
   "source": [
    "## Sberbank Russian Housing Market\n",
    "##### Group member: Ying Zhang, Zhian Wang"
   ]
  },
  {
   "cell_type": "code",
   "execution_count": 1,
   "metadata": {
    "collapsed": false
   },
   "outputs": [],
   "source": [
    "wd = \"/Users/zwang/GWU/Kaggle/Housing_Mkt/data\"\n",
    "import pandas as pd\n",
    "import numpy as np\n",
    "train_df = pd.read_csv(wd+\"/train.csv\")\n",
    "train_df = train_df.reset_index(drop=True)\n",
    "test_df = pd.read_csv(wd+\"/test.csv\")\n",
    "test_df = test_df.reset_index(drop=True)"
   ]
  },
  {
   "cell_type": "markdown",
   "metadata": {},
   "source": [
    "### Data Preparation"
   ]
  },
  {
   "cell_type": "code",
   "execution_count": 2,
   "metadata": {
    "collapsed": true
   },
   "outputs": [],
   "source": [
    "# Remove the outlier of full_sq\n",
    "ind = train_df[train_df['full_sq'] > 2000].index\n",
    "train_df = train_df.drop(ind)"
   ]
  },
  {
   "cell_type": "code",
   "execution_count": 3,
   "metadata": {
    "collapsed": true
   },
   "outputs": [],
   "source": [
    "# Remove the outliter in life_sq\n",
    "ind = train_df[train_df['life_sq'] > 2000].index\n",
    "train_df = train_df.drop(ind)"
   ]
  },
  {
   "cell_type": "code",
   "execution_count": 4,
   "metadata": {
    "collapsed": true
   },
   "outputs": [],
   "source": [
    "# Remove the outliter in kitch_sq\n",
    "ind = train_df[train_df['kitch_sq'] > 500].index\n",
    "train_df = train_df.drop(ind)"
   ]
  },
  {
   "cell_type": "code",
   "execution_count": 5,
   "metadata": {
    "collapsed": false
   },
   "outputs": [
    {
     "name": "stderr",
     "output_type": "stream",
     "text": [
      "/anaconda/lib/python3.6/site-packages/pandas/core/indexing.py:141: SettingWithCopyWarning: \n",
      "A value is trying to be set on a copy of a slice from a DataFrame\n",
      "\n",
      "See the caveats in the documentation: http://pandas.pydata.org/pandas-docs/stable/indexing.html#indexing-view-versus-copy\n",
      "  self._setitem_with_indexer(indexer, value)\n"
     ]
    },
    {
     "data": {
      "text/plain": [
       "0"
      ]
     },
     "execution_count": 5,
     "metadata": {},
     "output_type": "execute_result"
    }
   ],
   "source": [
    "(train_df['life_sq'] > train_df['full_sq']).sum()\n",
    "life_sq = train_df['life_sq'].ix[train_df['life_sq'] < train_df['full_sq']].median()\n",
    "full_sq = train_df['full_sq'].median()\n",
    "life_full = life_sq/full_sq \n",
    "life_full\n",
    "train_df['life_sq'].ix[train_df['life_sq'] > train_df['full_sq']] = train_df['full_sq']*life_full\n",
    "(train_df['life_sq'] > train_df['full_sq']).sum()"
   ]
  },
  {
   "cell_type": "code",
   "execution_count": 6,
   "metadata": {
    "collapsed": false
   },
   "outputs": [
    {
     "name": "stderr",
     "output_type": "stream",
     "text": [
      "/anaconda/lib/python3.6/site-packages/pandas/core/indexing.py:141: SettingWithCopyWarning: \n",
      "A value is trying to be set on a copy of a slice from a DataFrame\n",
      "\n",
      "See the caveats in the documentation: http://pandas.pydata.org/pandas-docs/stable/indexing.html#indexing-view-versus-copy\n",
      "  self._setitem_with_indexer(indexer, value)\n"
     ]
    },
    {
     "data": {
      "text/plain": [
       "0"
      ]
     },
     "execution_count": 6,
     "metadata": {},
     "output_type": "execute_result"
    }
   ],
   "source": [
    "(test_df['life_sq'] > test_df['full_sq']).sum()\n",
    "life_sq = test_df['life_sq'].ix[test_df['life_sq'] < test_df['full_sq']].median()\n",
    "full_sq = test_df['full_sq'].median()\n",
    "life_full = life_sq/full_sq \n",
    "life_full\n",
    "test_df['life_sq'].ix[test_df['life_sq'] > test_df['full_sq']] = test_df['full_sq']*life_full\n",
    "(test_df['life_sq'] > test_df['full_sq']).sum()"
   ]
  },
  {
   "cell_type": "code",
   "execution_count": 7,
   "metadata": {
    "collapsed": false
   },
   "outputs": [
    {
     "name": "stderr",
     "output_type": "stream",
     "text": [
      "/anaconda/lib/python3.6/site-packages/pandas/core/indexing.py:141: SettingWithCopyWarning: \n",
      "A value is trying to be set on a copy of a slice from a DataFrame\n",
      "\n",
      "See the caveats in the documentation: http://pandas.pydata.org/pandas-docs/stable/indexing.html#indexing-view-versus-copy\n",
      "  self._setitem_with_indexer(indexer, value)\n"
     ]
    },
    {
     "data": {
      "text/plain": [
       "0"
      ]
     },
     "execution_count": 7,
     "metadata": {},
     "output_type": "execute_result"
    }
   ],
   "source": [
    "kitch_sq = train_df['kitch_sq'].ix[train_df['kitch_sq'] < train_df['full_sq']].median()\n",
    "full_sq = train_df['full_sq'].median()\n",
    "kitch_full = kitch_sq/full_sq \n",
    "kitch_full\n",
    "train_df['kitch_sq'].ix[train_df['kitch_sq'] > train_df['full_sq']] = train_df['full_sq']*kitch_full\n",
    "(train_df['kitch_sq'] > train_df['full_sq']).sum()"
   ]
  },
  {
   "cell_type": "code",
   "execution_count": 8,
   "metadata": {
    "collapsed": false
   },
   "outputs": [
    {
     "name": "stderr",
     "output_type": "stream",
     "text": [
      "/anaconda/lib/python3.6/site-packages/pandas/core/indexing.py:141: SettingWithCopyWarning: \n",
      "A value is trying to be set on a copy of a slice from a DataFrame\n",
      "\n",
      "See the caveats in the documentation: http://pandas.pydata.org/pandas-docs/stable/indexing.html#indexing-view-versus-copy\n",
      "  self._setitem_with_indexer(indexer, value)\n"
     ]
    },
    {
     "data": {
      "text/plain": [
       "0"
      ]
     },
     "execution_count": 8,
     "metadata": {},
     "output_type": "execute_result"
    }
   ],
   "source": [
    "kitch_sq = test_df['kitch_sq'].ix[test_df['kitch_sq'] < test_df['full_sq']].median()\n",
    "full_sq = test_df['full_sq'].median()\n",
    "kitch_full = kitch_sq/full_sq \n",
    "kitch_full\n",
    "test_df['kitch_sq'].ix[test_df['kitch_sq'] > test_df['full_sq']] = test_df['full_sq']*kitch_full\n",
    "(test_df['kitch_sq'] > test_df['full_sq']).sum()"
   ]
  },
  {
   "cell_type": "code",
   "execution_count": 9,
   "metadata": {
    "collapsed": false
   },
   "outputs": [
    {
     "name": "stderr",
     "output_type": "stream",
     "text": [
      "/anaconda/lib/python3.6/site-packages/pandas/core/indexing.py:141: SettingWithCopyWarning: \n",
      "A value is trying to be set on a copy of a slice from a DataFrame\n",
      "\n",
      "See the caveats in the documentation: http://pandas.pydata.org/pandas-docs/stable/indexing.html#indexing-view-versus-copy\n",
      "  self._setitem_with_indexer(indexer, value)\n"
     ]
    },
    {
     "data": {
      "text/plain": [
       "0"
      ]
     },
     "execution_count": 9,
     "metadata": {},
     "output_type": "execute_result"
    }
   ],
   "source": [
    "train_df['floor'].ix[train_df['floor'] > train_df['max_floor']] = train_df['max_floor']*0.5\n",
    "(train_df['floor'] > train_df['max_floor']).sum()"
   ]
  },
  {
   "cell_type": "code",
   "execution_count": 10,
   "metadata": {
    "collapsed": false
   },
   "outputs": [
    {
     "name": "stderr",
     "output_type": "stream",
     "text": [
      "/anaconda/lib/python3.6/site-packages/pandas/core/indexing.py:141: SettingWithCopyWarning: \n",
      "A value is trying to be set on a copy of a slice from a DataFrame\n",
      "\n",
      "See the caveats in the documentation: http://pandas.pydata.org/pandas-docs/stable/indexing.html#indexing-view-versus-copy\n",
      "  self._setitem_with_indexer(indexer, value)\n"
     ]
    },
    {
     "data": {
      "text/plain": [
       "0"
      ]
     },
     "execution_count": 10,
     "metadata": {},
     "output_type": "execute_result"
    }
   ],
   "source": [
    "test_df['floor'].ix[test_df['floor'] > test_df['max_floor']] = test_df['max_floor']*0.5\n",
    "(test_df['floor'] > test_df['max_floor']).sum()"
   ]
  },
  {
   "cell_type": "code",
   "execution_count": 11,
   "metadata": {
    "collapsed": true
   },
   "outputs": [],
   "source": [
    "train_df.loc[train_df['state'] == 33, 'state'] = train_df['state'].mode().iloc[0]"
   ]
  },
  {
   "cell_type": "code",
   "execution_count": 12,
   "metadata": {
    "collapsed": true
   },
   "outputs": [],
   "source": [
    "train_df.loc[train_df['build_year'] == 20052009, 'build_year'] = 2007\n",
    "ind = train_df[(train_df['build_year'] <= 1691) | (train_df['build_year'] >= 2018)].index\n",
    "by_df = train_df.drop(ind).sort_values(by=['build_year'])"
   ]
  },
  {
   "cell_type": "markdown",
   "metadata": {},
   "source": [
    "### Impute Missing Value"
   ]
  },
  {
   "cell_type": "code",
   "execution_count": 13,
   "metadata": {
    "collapsed": false
   },
   "outputs": [
    {
     "data": {
      "text/plain": [
       "['hospital_beds_raion',\n",
       " 'build_year',\n",
       " 'state',\n",
       " 'cafe_sum_500_min_price_avg',\n",
       " 'cafe_sum_500_max_price_avg',\n",
       " 'cafe_avg_price_500',\n",
       " 'max_floor',\n",
       " 'material',\n",
       " 'num_room',\n",
       " 'kitch_sq',\n",
       " 'preschool_quota',\n",
       " 'school_quota',\n",
       " 'cafe_sum_1000_max_price_avg',\n",
       " 'cafe_sum_1000_min_price_avg',\n",
       " 'cafe_avg_price_1000',\n",
       " 'life_sq',\n",
       " 'build_count_before_1920',\n",
       " 'build_count_block',\n",
       " 'raion_build_count_with_material_info',\n",
       " 'build_count_wood',\n",
       " 'build_count_frame',\n",
       " 'build_count_brick',\n",
       " 'build_count_monolith',\n",
       " 'build_count_panel',\n",
       " 'build_count_foam',\n",
       " 'build_count_slag',\n",
       " 'build_count_mix',\n",
       " 'raion_build_count_with_builddate_info',\n",
       " 'build_count_1971-1995',\n",
       " 'build_count_1921-1945',\n",
       " 'build_count_1946-1970',\n",
       " 'build_count_after_1995',\n",
       " 'cafe_sum_1500_min_price_avg',\n",
       " 'cafe_sum_1500_max_price_avg',\n",
       " 'cafe_avg_price_1500',\n",
       " 'cafe_sum_2000_min_price_avg',\n",
       " 'cafe_sum_2000_max_price_avg',\n",
       " 'cafe_avg_price_2000',\n",
       " 'cafe_sum_3000_min_price_avg',\n",
       " 'cafe_sum_3000_max_price_avg',\n",
       " 'cafe_avg_price_3000',\n",
       " 'cafe_sum_5000_max_price_avg',\n",
       " 'cafe_sum_5000_min_price_avg',\n",
       " 'cafe_avg_price_5000',\n",
       " 'prom_part_5000',\n",
       " 'floor',\n",
       " 'railroad_station_walk_km',\n",
       " 'railroad_station_walk_min',\n",
       " 'ID_railroad_station_walk',\n",
       " 'metro_km_walk',\n",
       " 'metro_min_walk']"
      ]
     },
     "execution_count": 13,
     "metadata": {},
     "output_type": "execute_result"
    }
   ],
   "source": [
    "train_na = train_df.isnull().sum()\n",
    "train_na = train_na.drop(train_na[train_na == 0].index).sort_values(ascending=False)\n",
    "train_na_list = train_na.index.tolist()\n",
    "train_na_list"
   ]
  },
  {
   "cell_type": "code",
   "execution_count": 14,
   "metadata": {
    "collapsed": true
   },
   "outputs": [],
   "source": [
    "train_df = train_df.fillna(train_df.mean())"
   ]
  },
  {
   "cell_type": "code",
   "execution_count": 15,
   "metadata": {
    "collapsed": false
   },
   "outputs": [],
   "source": [
    "test_df = test_df.fillna(test_df.mean())"
   ]
  },
  {
   "cell_type": "markdown",
   "metadata": {},
   "source": [
    "#### Add some features"
   ]
  },
  {
   "cell_type": "code",
   "execution_count": 16,
   "metadata": {
    "collapsed": true
   },
   "outputs": [],
   "source": [
    "def add_features(df):\n",
    "    \n",
    "    #Floor\n",
    "    df['floor_ratio'] = df['floor'] / df['max_floor'].astype(float)\n",
    "    df['floor_from_top'] = df['max_floor'] - df['floor']\n",
    "    #Sq areas\n",
    "    df['kitch_sq_ratio'] = df['kitch_sq'] / df['full_sq'].astype(float)\n",
    "    df['life_sq_ratio'] = df['life_sq'] / df['full_sq'].astype(float)\n",
    "    df['full_sq_per_room'] = df['full_sq'] / df['num_room'].astype(float)\n",
    "    df['life_sq_per_room'] = df['life_sq'] / df['num_room'].astype(float)\n",
    "    df['full_living_sq_diff'] = df['full_sq'] - df['life_sq']\n",
    "\n",
    "    #Date\n",
    "    df[\"year\"] = pd.to_datetime(df[\"timestamp\"], coerce=True).dt.year\n",
    "    df[\"month\"] = pd.to_datetime(df[\"timestamp\"], coerce=True).dt.month\n",
    "    df[\"day\"] = pd.to_datetime(df[\"timestamp\"], coerce=True).dt.day\n",
    "    df[\"dayofyear\"] = pd.to_datetime(df[\"timestamp\"], coerce=True).dt.dayofyear\n",
    "    df[\"dayofweek\"] = pd.to_datetime(df[\"timestamp\"], coerce=True).dt.dayofweek\n",
    "    df[\"weekofyear\"] = pd.to_datetime(df[\"timestamp\"], coerce=True).dt.weekofyear\n",
    "    \n",
    "    # Add month-year\n",
    "    month_year = (df['month'] + df['year'] * 100)\n",
    "    month_year_cnt_map = month_year.value_counts().to_dict()\n",
    "    df['month_year_cnt'] = month_year.map(month_year_cnt_map)\n",
    "    \n",
    "    # Add week-year count\n",
    "    week_year = (df[\"weekofyear\"] + df['year'] * 100)\n",
    "    week_year_cnt_map = week_year.value_counts().to_dict()\n",
    "    df['week_year_cnt'] = week_year.map(week_year_cnt_map)\n",
    "    \n",
    "    # building \n",
    "    df[\"year_old\"] = 2020- df[\"build_year\"]\n",
    "    \n",
    "\n",
    "    return df"
   ]
  },
  {
   "cell_type": "code",
   "execution_count": 17,
   "metadata": {
    "collapsed": false
   },
   "outputs": [
    {
     "name": "stdout",
     "output_type": "stream",
     "text": [
      "(30464, 308)\n",
      "(7662, 307)\n"
     ]
    },
    {
     "name": "stderr",
     "output_type": "stream",
     "text": [
      "/anaconda/lib/python3.6/site-packages/ipykernel/__main__.py:14: FutureWarning: the coerce=True keyword is deprecated, use errors='coerce' instead\n",
      "/anaconda/lib/python3.6/site-packages/ipykernel/__main__.py:15: FutureWarning: the coerce=True keyword is deprecated, use errors='coerce' instead\n",
      "/anaconda/lib/python3.6/site-packages/ipykernel/__main__.py:16: FutureWarning: the coerce=True keyword is deprecated, use errors='coerce' instead\n",
      "/anaconda/lib/python3.6/site-packages/ipykernel/__main__.py:17: FutureWarning: the coerce=True keyword is deprecated, use errors='coerce' instead\n",
      "/anaconda/lib/python3.6/site-packages/ipykernel/__main__.py:18: FutureWarning: the coerce=True keyword is deprecated, use errors='coerce' instead\n",
      "/anaconda/lib/python3.6/site-packages/ipykernel/__main__.py:19: FutureWarning: the coerce=True keyword is deprecated, use errors='coerce' instead\n"
     ]
    }
   ],
   "source": [
    "train_df = add_features(train_df)\n",
    "test_df = add_features(test_df)\n",
    "\n",
    "print(train_df.shape)\n",
    "print(test_df.shape)"
   ]
  },
  {
   "cell_type": "code",
   "execution_count": 18,
   "metadata": {
    "collapsed": true
   },
   "outputs": [],
   "source": [
    "# Remove timestamp column (may overfit the model in train)\n",
    "train_df.drop(['timestamp'], axis=1, inplace=True)\n",
    "test_df.drop(['timestamp'], axis=1, inplace=True)"
   ]
  },
  {
   "cell_type": "code",
   "execution_count": 19,
   "metadata": {
    "collapsed": false
   },
   "outputs": [
    {
     "data": {
      "text/html": [
       "<div>\n",
       "<table border=\"1\" class=\"dataframe\">\n",
       "  <thead>\n",
       "    <tr style=\"text-align: right;\">\n",
       "      <th></th>\n",
       "      <th>id</th>\n",
       "      <th>full_sq</th>\n",
       "      <th>life_sq</th>\n",
       "      <th>floor</th>\n",
       "      <th>max_floor</th>\n",
       "      <th>material</th>\n",
       "      <th>build_year</th>\n",
       "      <th>num_room</th>\n",
       "      <th>kitch_sq</th>\n",
       "      <th>state</th>\n",
       "      <th>...</th>\n",
       "      <th>full_living_sq_diff</th>\n",
       "      <th>year</th>\n",
       "      <th>month</th>\n",
       "      <th>day</th>\n",
       "      <th>dayofyear</th>\n",
       "      <th>dayofweek</th>\n",
       "      <th>weekofyear</th>\n",
       "      <th>month_year_cnt</th>\n",
       "      <th>week_year_cnt</th>\n",
       "      <th>year_old</th>\n",
       "    </tr>\n",
       "  </thead>\n",
       "  <tbody>\n",
       "    <tr>\n",
       "      <th>0</th>\n",
       "      <td>1</td>\n",
       "      <td>43</td>\n",
       "      <td>27.0</td>\n",
       "      <td>4.0</td>\n",
       "      <td>12.559613</td>\n",
       "      <td>1.826736</td>\n",
       "      <td>1879.239962</td>\n",
       "      <td>1.909826</td>\n",
       "      <td>5.970745</td>\n",
       "      <td>2.105288</td>\n",
       "      <td>...</td>\n",
       "      <td>16.0</td>\n",
       "      <td>2011</td>\n",
       "      <td>8</td>\n",
       "      <td>20</td>\n",
       "      <td>232</td>\n",
       "      <td>5</td>\n",
       "      <td>33</td>\n",
       "      <td>3</td>\n",
       "      <td>1</td>\n",
       "      <td>140.760038</td>\n",
       "    </tr>\n",
       "    <tr>\n",
       "      <th>1</th>\n",
       "      <td>2</td>\n",
       "      <td>34</td>\n",
       "      <td>19.0</td>\n",
       "      <td>3.0</td>\n",
       "      <td>12.559613</td>\n",
       "      <td>1.826736</td>\n",
       "      <td>1879.239962</td>\n",
       "      <td>1.909826</td>\n",
       "      <td>5.970745</td>\n",
       "      <td>2.105288</td>\n",
       "      <td>...</td>\n",
       "      <td>15.0</td>\n",
       "      <td>2011</td>\n",
       "      <td>8</td>\n",
       "      <td>23</td>\n",
       "      <td>235</td>\n",
       "      <td>1</td>\n",
       "      <td>34</td>\n",
       "      <td>3</td>\n",
       "      <td>2</td>\n",
       "      <td>140.760038</td>\n",
       "    </tr>\n",
       "    <tr>\n",
       "      <th>2</th>\n",
       "      <td>3</td>\n",
       "      <td>43</td>\n",
       "      <td>29.0</td>\n",
       "      <td>2.0</td>\n",
       "      <td>12.559613</td>\n",
       "      <td>1.826736</td>\n",
       "      <td>1879.239962</td>\n",
       "      <td>1.909826</td>\n",
       "      <td>5.970745</td>\n",
       "      <td>2.105288</td>\n",
       "      <td>...</td>\n",
       "      <td>14.0</td>\n",
       "      <td>2011</td>\n",
       "      <td>8</td>\n",
       "      <td>27</td>\n",
       "      <td>239</td>\n",
       "      <td>5</td>\n",
       "      <td>34</td>\n",
       "      <td>3</td>\n",
       "      <td>2</td>\n",
       "      <td>140.760038</td>\n",
       "    </tr>\n",
       "    <tr>\n",
       "      <th>3</th>\n",
       "      <td>4</td>\n",
       "      <td>89</td>\n",
       "      <td>50.0</td>\n",
       "      <td>9.0</td>\n",
       "      <td>12.559613</td>\n",
       "      <td>1.826736</td>\n",
       "      <td>1879.239962</td>\n",
       "      <td>1.909826</td>\n",
       "      <td>5.970745</td>\n",
       "      <td>2.105288</td>\n",
       "      <td>...</td>\n",
       "      <td>39.0</td>\n",
       "      <td>2011</td>\n",
       "      <td>9</td>\n",
       "      <td>1</td>\n",
       "      <td>244</td>\n",
       "      <td>3</td>\n",
       "      <td>35</td>\n",
       "      <td>39</td>\n",
       "      <td>1</td>\n",
       "      <td>140.760038</td>\n",
       "    </tr>\n",
       "    <tr>\n",
       "      <th>4</th>\n",
       "      <td>5</td>\n",
       "      <td>77</td>\n",
       "      <td>77.0</td>\n",
       "      <td>4.0</td>\n",
       "      <td>12.559613</td>\n",
       "      <td>1.826736</td>\n",
       "      <td>1879.239962</td>\n",
       "      <td>1.909826</td>\n",
       "      <td>5.970745</td>\n",
       "      <td>2.105288</td>\n",
       "      <td>...</td>\n",
       "      <td>0.0</td>\n",
       "      <td>2011</td>\n",
       "      <td>9</td>\n",
       "      <td>5</td>\n",
       "      <td>248</td>\n",
       "      <td>0</td>\n",
       "      <td>36</td>\n",
       "      <td>39</td>\n",
       "      <td>5</td>\n",
       "      <td>140.760038</td>\n",
       "    </tr>\n",
       "  </tbody>\n",
       "</table>\n",
       "<p>5 rows × 307 columns</p>\n",
       "</div>"
      ],
      "text/plain": [
       "   id  full_sq  life_sq  floor  max_floor  material   build_year  num_room  \\\n",
       "0   1       43     27.0    4.0  12.559613  1.826736  1879.239962  1.909826   \n",
       "1   2       34     19.0    3.0  12.559613  1.826736  1879.239962  1.909826   \n",
       "2   3       43     29.0    2.0  12.559613  1.826736  1879.239962  1.909826   \n",
       "3   4       89     50.0    9.0  12.559613  1.826736  1879.239962  1.909826   \n",
       "4   5       77     77.0    4.0  12.559613  1.826736  1879.239962  1.909826   \n",
       "\n",
       "   kitch_sq     state     ...     full_living_sq_diff  year  month  day  \\\n",
       "0  5.970745  2.105288     ...                    16.0  2011      8   20   \n",
       "1  5.970745  2.105288     ...                    15.0  2011      8   23   \n",
       "2  5.970745  2.105288     ...                    14.0  2011      8   27   \n",
       "3  5.970745  2.105288     ...                    39.0  2011      9    1   \n",
       "4  5.970745  2.105288     ...                     0.0  2011      9    5   \n",
       "\n",
       "   dayofyear  dayofweek  weekofyear  month_year_cnt  week_year_cnt    year_old  \n",
       "0        232          5          33               3              1  140.760038  \n",
       "1        235          1          34               3              2  140.760038  \n",
       "2        239          5          34               3              2  140.760038  \n",
       "3        244          3          35              39              1  140.760038  \n",
       "4        248          0          36              39              5  140.760038  \n",
       "\n",
       "[5 rows x 307 columns]"
      ]
     },
     "execution_count": 19,
     "metadata": {},
     "output_type": "execute_result"
    }
   ],
   "source": [
    "train_df.head()"
   ]
  },
  {
   "cell_type": "markdown",
   "metadata": {},
   "source": [
    "#### Log the price"
   ]
  },
  {
   "cell_type": "code",
   "execution_count": null,
   "metadata": {
    "collapsed": false
   },
   "outputs": [],
   "source": [
    "#train_df['price_doc_log'] = np.log1p(train_df['price_doc'])"
   ]
  },
  {
   "cell_type": "markdown",
   "metadata": {},
   "source": [
    "### Variable importance"
   ]
  },
  {
   "cell_type": "code",
   "execution_count": null,
   "metadata": {
    "collapsed": true
   },
   "outputs": [],
   "source": [
    "\"\"\"\n",
    "from sklearn.ensemble import RandomForestRegressor\n",
    "from sklearn.preprocessing import LabelEncoder\n",
    "X_train = train_df.drop(labels=['timestamp', 'id', 'incineration_raion'], axis=1).dropna()\n",
    "y_train = X_train['price_doc_log']\n",
    "X_train.drop('price_doc_log', axis=1, inplace=True)\n",
    "for f in X_train.columns:\n",
    "    if X_train[f].dtype == 'object':\n",
    "        lbl = LabelEncoder()\n",
    "        lbl.fit(X_train[f])\n",
    "        X_train[f] = lbl.transform(X_train[f])\n",
    "rf = RandomForestRegressor(random_state=0)\n",
    "rf = rf.fit(X_train, y_train)\n",
    "\"\"\""
   ]
  },
  {
   "cell_type": "code",
   "execution_count": null,
   "metadata": {
    "collapsed": false
   },
   "outputs": [],
   "source": [
    "\"\"\"\n",
    "fi = list(zip(X_train.columns, rf.feature_importances_))\n",
    "print('## rf variable importance')\n",
    "d = [print('## %-40s%s' % (i)) for i in fi[:30]]\n",
    "\"\"\""
   ]
  },
  {
   "cell_type": "code",
   "execution_count": null,
   "metadata": {
    "collapsed": false
   },
   "outputs": [],
   "source": [
    "#print(fi[:30])"
   ]
  },
  {
   "cell_type": "code",
   "execution_count": null,
   "metadata": {
    "collapsed": false
   },
   "outputs": [],
   "source": [
    "#[i[0] for i in fi[:30]]"
   ]
  },
  {
   "cell_type": "code",
   "execution_count": null,
   "metadata": {
    "collapsed": false
   },
   "outputs": [],
   "source": [
    "#train_df = train_df.drop('price_doc_log',axis = 1)"
   ]
  },
  {
   "cell_type": "markdown",
   "metadata": {},
   "source": [
    "## Model"
   ]
  },
  {
   "cell_type": "code",
   "execution_count": 20,
   "metadata": {
    "collapsed": false
   },
   "outputs": [
    {
     "name": "stdout",
     "output_type": "stream",
     "text": [
      "Checking whether there is an H2O instance running at http://localhost:54321..... not found.\n",
      "Attempting to start a local H2O server...\n",
      "  Java Version: java version \"1.8.0_131\"; Java(TM) SE Runtime Environment (build 1.8.0_131-b11); Java HotSpot(TM) 64-Bit Server VM (build 25.131-b11, mixed mode)\n",
      "  Starting server from /anaconda/lib/python3.6/site-packages/h2o/backend/bin/h2o.jar\n",
      "  Ice root: /var/folders/4r/5_zmhl8n2y90_l2743gnnbj00000gn/T/tmpecf7p0xu\n",
      "  JVM stdout: /var/folders/4r/5_zmhl8n2y90_l2743gnnbj00000gn/T/tmpecf7p0xu/h2o_zwang_started_from_python.out\n",
      "  JVM stderr: /var/folders/4r/5_zmhl8n2y90_l2743gnnbj00000gn/T/tmpecf7p0xu/h2o_zwang_started_from_python.err\n",
      "  Server is running at http://127.0.0.1:54321\n",
      "Connecting to H2O server at http://127.0.0.1:54321... successful.\n"
     ]
    },
    {
     "data": {
      "text/html": [
       "<div style=\"overflow:auto\"><table style=\"width:50%\"><tr><td>H2O cluster uptime:</td>\n",
       "<td>04 secs</td></tr>\n",
       "<tr><td>H2O cluster version:</td>\n",
       "<td>3.12.0.1</td></tr>\n",
       "<tr><td>H2O cluster version age:</td>\n",
       "<td>17 days </td></tr>\n",
       "<tr><td>H2O cluster name:</td>\n",
       "<td>H2O_from_python_zwang_uw3og7</td></tr>\n",
       "<tr><td>H2O cluster total nodes:</td>\n",
       "<td>1</td></tr>\n",
       "<tr><td>H2O cluster free memory:</td>\n",
       "<td>3.556 Gb</td></tr>\n",
       "<tr><td>H2O cluster total cores:</td>\n",
       "<td>4</td></tr>\n",
       "<tr><td>H2O cluster allowed cores:</td>\n",
       "<td>4</td></tr>\n",
       "<tr><td>H2O cluster status:</td>\n",
       "<td>accepting new members, healthy</td></tr>\n",
       "<tr><td>H2O connection url:</td>\n",
       "<td>http://127.0.0.1:54321</td></tr>\n",
       "<tr><td>H2O connection proxy:</td>\n",
       "<td>None</td></tr>\n",
       "<tr><td>H2O internal security:</td>\n",
       "<td>False</td></tr>\n",
       "<tr><td>Python version:</td>\n",
       "<td>3.6.0 final</td></tr></table></div>"
      ],
      "text/plain": [
       "--------------------------  ------------------------------\n",
       "H2O cluster uptime:         04 secs\n",
       "H2O cluster version:        3.12.0.1\n",
       "H2O cluster version age:    17 days\n",
       "H2O cluster name:           H2O_from_python_zwang_uw3og7\n",
       "H2O cluster total nodes:    1\n",
       "H2O cluster free memory:    3.556 Gb\n",
       "H2O cluster total cores:    4\n",
       "H2O cluster allowed cores:  4\n",
       "H2O cluster status:         accepting new members, healthy\n",
       "H2O connection url:         http://127.0.0.1:54321\n",
       "H2O connection proxy:\n",
       "H2O internal security:      False\n",
       "Python version:             3.6.0 final\n",
       "--------------------------  ------------------------------"
      ]
     },
     "metadata": {},
     "output_type": "display_data"
    }
   ],
   "source": [
    "import h2o\n",
    "from h2o.estimators.gbm import H2OGradientBoostingEstimator \n",
    "from h2o.estimators.random_forest import H2ORandomForestEstimator\n",
    "from h2o.grid.grid_search import H2OGridSearch \n",
    "from h2o.estimators.xgboost import H2OXGBoostEstimator\n",
    "from h2o.estimators.stackedensemble import H2OStackedEnsembleEstimator\n",
    "import xgboost as xgb\n",
    "h2o.init(nthreads=-1, max_mem_size=\"4g\") # give h2o as much memory as possible\n",
    "h2o.no_progress() # turn off h2o progress bars\n",
    "\n",
    "import numpy as np\n",
    "import pandas as pd"
   ]
  },
  {
   "cell_type": "code",
   "execution_count": 21,
   "metadata": {
    "collapsed": false
   },
   "outputs": [
    {
     "name": "stdout",
     "output_type": "stream",
     "text": [
      "(30464, 307)\n",
      "(7662, 306)\n"
     ]
    }
   ],
   "source": [
    "print(train_df.shape)\n",
    "print(test_df.shape)"
   ]
  },
  {
   "cell_type": "code",
   "execution_count": 22,
   "metadata": {
    "collapsed": false
   },
   "outputs": [
    {
     "name": "stdout",
     "output_type": "stream",
     "text": [
      "(30464, 307)\n",
      "(7662, 307)\n"
     ]
    }
   ],
   "source": [
    "train = h2o.H2OFrame(train_df)\n",
    "test = h2o.H2OFrame(test_df)\n",
    "\n",
    "dummy_col = np.random.rand(test.shape[0])\n",
    "test = test.cbind(h2o.H2OFrame(dummy_col))\n",
    "cols = test.columns\n",
    "cols[-1] = 'price_doc'\n",
    "test.columns = cols\n",
    "print(train.shape)\n",
    "print(test.shape)"
   ]
  },
  {
   "cell_type": "code",
   "execution_count": 23,
   "metadata": {
    "collapsed": true
   },
   "outputs": [],
   "source": [
    "def get_type_lists(frame=train, rejects=['id', 'price_doc']):   \n",
    "    nums, cats = [], []\n",
    "    for key, val in frame.types.items():\n",
    "        if key not in rejects:\n",
    "            if val == 'enum':\n",
    "                cats.append(key)\n",
    "            else: \n",
    "                nums.append(key)                \n",
    "    print('Numeric =', nums)                \n",
    "    print()\n",
    "    print('Categorical =', cats)\n",
    "    \n",
    "    return nums, cats"
   ]
  },
  {
   "cell_type": "code",
   "execution_count": 24,
   "metadata": {
    "collapsed": false,
    "scrolled": true
   },
   "outputs": [
    {
     "name": "stdout",
     "output_type": "stream",
     "text": [
      "Numeric = ['full_sq', 'life_sq', 'floor', 'max_floor', 'material', 'build_year', 'num_room', 'kitch_sq', 'state', 'area_m', 'raion_popul', 'green_zone_part', 'indust_part', 'children_preschool', 'preschool_quota', 'preschool_education_centers_raion', 'children_school', 'school_quota', 'school_education_centers_raion', 'school_education_centers_top_20_raion', 'hospital_beds_raion', 'healthcare_centers_raion', 'university_top_20_raion', 'sport_objects_raion', 'additional_education_raion', 'culture_objects_top_25_raion', 'shopping_centers_raion', 'office_raion', 'full_all', 'male_f', 'female_f', 'young_all', 'young_male', 'young_female', 'work_all', 'work_male', 'work_female', 'ekder_all', 'ekder_male', 'ekder_female', '0_6_all', '0_6_male', '0_6_female', '7_14_all', '7_14_male', '7_14_female', '0_17_all', '0_17_male', '0_17_female', '16_29_all', '16_29_male', '16_29_female', '0_13_all', '0_13_male', '0_13_female', 'raion_build_count_with_material_info', 'build_count_block', 'build_count_wood', 'build_count_frame', 'build_count_brick', 'build_count_monolith', 'build_count_panel', 'build_count_foam', 'build_count_slag', 'build_count_mix', 'raion_build_count_with_builddate_info', 'build_count_before_1920', 'build_count_1921-1945', 'build_count_1946-1970', 'build_count_1971-1995', 'build_count_after_1995', 'ID_metro', 'metro_min_avto', 'metro_km_avto', 'metro_min_walk', 'metro_km_walk', 'kindergarten_km', 'school_km', 'park_km', 'green_zone_km', 'industrial_km', 'water_treatment_km', 'cemetery_km', 'incineration_km', 'railroad_station_walk_km', 'railroad_station_walk_min', 'ID_railroad_station_walk', 'railroad_station_avto_km', 'railroad_station_avto_min', 'ID_railroad_station_avto', 'public_transport_station_km', 'public_transport_station_min_walk', 'water_km', 'mkad_km', 'ttk_km', 'sadovoe_km', 'bulvar_ring_km', 'kremlin_km', 'big_road1_km', 'ID_big_road1', 'big_road2_km', 'ID_big_road2', 'railroad_km', 'zd_vokzaly_avto_km', 'ID_railroad_terminal', 'bus_terminal_avto_km', 'ID_bus_terminal', 'oil_chemistry_km', 'nuclear_reactor_km', 'radiation_km', 'power_transmission_line_km', 'thermal_power_plant_km', 'ts_km', 'big_market_km', 'market_shop_km', 'fitness_km', 'swim_pool_km', 'ice_rink_km', 'stadium_km', 'basketball_km', 'hospice_morgue_km', 'detention_facility_km', 'public_healthcare_km', 'university_km', 'workplaces_km', 'shopping_centers_km', 'office_km', 'additional_education_km', 'preschool_km', 'big_church_km', 'church_synagogue_km', 'mosque_km', 'theater_km', 'museum_km', 'exhibition_km', 'catering_km', 'green_part_500', 'prom_part_500', 'office_count_500', 'office_sqm_500', 'trc_count_500', 'trc_sqm_500', 'cafe_count_500', 'cafe_sum_500_min_price_avg', 'cafe_sum_500_max_price_avg', 'cafe_avg_price_500', 'cafe_count_500_na_price', 'cafe_count_500_price_500', 'cafe_count_500_price_1000', 'cafe_count_500_price_1500', 'cafe_count_500_price_2500', 'cafe_count_500_price_4000', 'cafe_count_500_price_high', 'big_church_count_500', 'church_count_500', 'mosque_count_500', 'leisure_count_500', 'sport_count_500', 'market_count_500', 'green_part_1000', 'prom_part_1000', 'office_count_1000', 'office_sqm_1000', 'trc_count_1000', 'trc_sqm_1000', 'cafe_count_1000', 'cafe_sum_1000_min_price_avg', 'cafe_sum_1000_max_price_avg', 'cafe_avg_price_1000', 'cafe_count_1000_na_price', 'cafe_count_1000_price_500', 'cafe_count_1000_price_1000', 'cafe_count_1000_price_1500', 'cafe_count_1000_price_2500', 'cafe_count_1000_price_4000', 'cafe_count_1000_price_high', 'big_church_count_1000', 'church_count_1000', 'mosque_count_1000', 'leisure_count_1000', 'sport_count_1000', 'market_count_1000', 'green_part_1500', 'prom_part_1500', 'office_count_1500', 'office_sqm_1500', 'trc_count_1500', 'trc_sqm_1500', 'cafe_count_1500', 'cafe_sum_1500_min_price_avg', 'cafe_sum_1500_max_price_avg', 'cafe_avg_price_1500', 'cafe_count_1500_na_price', 'cafe_count_1500_price_500', 'cafe_count_1500_price_1000', 'cafe_count_1500_price_1500', 'cafe_count_1500_price_2500', 'cafe_count_1500_price_4000', 'cafe_count_1500_price_high', 'big_church_count_1500', 'church_count_1500', 'mosque_count_1500', 'leisure_count_1500', 'sport_count_1500', 'market_count_1500', 'green_part_2000', 'prom_part_2000', 'office_count_2000', 'office_sqm_2000', 'trc_count_2000', 'trc_sqm_2000', 'cafe_count_2000', 'cafe_sum_2000_min_price_avg', 'cafe_sum_2000_max_price_avg', 'cafe_avg_price_2000', 'cafe_count_2000_na_price', 'cafe_count_2000_price_500', 'cafe_count_2000_price_1000', 'cafe_count_2000_price_1500', 'cafe_count_2000_price_2500', 'cafe_count_2000_price_4000', 'cafe_count_2000_price_high', 'big_church_count_2000', 'church_count_2000', 'mosque_count_2000', 'leisure_count_2000', 'sport_count_2000', 'market_count_2000', 'green_part_3000', 'prom_part_3000', 'office_count_3000', 'office_sqm_3000', 'trc_count_3000', 'trc_sqm_3000', 'cafe_count_3000', 'cafe_sum_3000_min_price_avg', 'cafe_sum_3000_max_price_avg', 'cafe_avg_price_3000', 'cafe_count_3000_na_price', 'cafe_count_3000_price_500', 'cafe_count_3000_price_1000', 'cafe_count_3000_price_1500', 'cafe_count_3000_price_2500', 'cafe_count_3000_price_4000', 'cafe_count_3000_price_high', 'big_church_count_3000', 'church_count_3000', 'mosque_count_3000', 'leisure_count_3000', 'sport_count_3000', 'market_count_3000', 'green_part_5000', 'prom_part_5000', 'office_count_5000', 'office_sqm_5000', 'trc_count_5000', 'trc_sqm_5000', 'cafe_count_5000', 'cafe_sum_5000_min_price_avg', 'cafe_sum_5000_max_price_avg', 'cafe_avg_price_5000', 'cafe_count_5000_na_price', 'cafe_count_5000_price_500', 'cafe_count_5000_price_1000', 'cafe_count_5000_price_1500', 'cafe_count_5000_price_2500', 'cafe_count_5000_price_4000', 'cafe_count_5000_price_high', 'big_church_count_5000', 'church_count_5000', 'mosque_count_5000', 'leisure_count_5000', 'sport_count_5000', 'market_count_5000', 'floor_ratio', 'floor_from_top', 'kitch_sq_ratio', 'life_sq_ratio', 'full_sq_per_room', 'life_sq_per_room', 'full_living_sq_diff', 'year', 'month', 'day', 'dayofyear', 'dayofweek', 'weekofyear', 'month_year_cnt', 'week_year_cnt', 'year_old']\n",
      "\n",
      "Categorical = ['product_type', 'sub_area', 'culture_objects_top_25', 'thermal_power_plant_raion', 'incineration_raion', 'oil_chemistry_raion', 'radiation_raion', 'railroad_terminal_raion', 'big_market_raion', 'nuclear_reactor_raion', 'detention_facility_raion', 'water_1line', 'big_road1_1line', 'railroad_1line', 'ecology']\n"
     ]
    }
   ],
   "source": [
    "original_nums, cats = get_type_lists()"
   ]
  },
  {
   "cell_type": "code",
   "execution_count": 25,
   "metadata": {
    "collapsed": false
   },
   "outputs": [
    {
     "name": "stdout",
     "output_type": "stream",
     "text": [
      "(21378, 307)\n",
      "(9086, 307)\n"
     ]
    }
   ],
   "source": [
    "train, valid = train.split_frame([0.7], seed=12345)\n",
    "print(train.shape)\n",
    "print(valid.shape)"
   ]
  },
  {
   "cell_type": "markdown",
   "metadata": {},
   "source": [
    "### Encode categorical vars using shrunken averages"
   ]
  },
  {
   "cell_type": "code",
   "execution_count": 26,
   "metadata": {
    "collapsed": true
   },
   "outputs": [],
   "source": [
    "def target_encoder(training_frame, test_frame, x, y, lambda_=0.15, threshold=150, test=False):\n",
    "\n",
    "    # convert to pandas\n",
    "    trdf = training_frame.as_data_frame().loc[:, [x,y]] # df\n",
    "    tss = test_frame.as_data_frame().loc[:, x]          # series\n",
    "\n",
    "\n",
    "    # create dictionary of level:encode val\n",
    "\n",
    "    encode_name = x + '_Tencode'\n",
    "    overall_mean = trdf[y].mean()\n",
    "    row_val_dict = {}\n",
    "\n",
    "    for level in trdf[x].unique():\n",
    "        level_df = trdf[trdf[x] == level][y]\n",
    "        level_n = level_df.shape[0]\n",
    "        level_mean = level_df.mean()\n",
    "        if level_n >= threshold:\n",
    "            row_val_dict[level] = level_mean\n",
    "        else:\n",
    "            row_val_dict[level] = ((1 - lambda_) * level_mean) +\\\n",
    "                                  (lambda_ * overall_mean)\n",
    "\n",
    "    row_val_dict[np.nan] = overall_mean # handle missing values\n",
    "\n",
    "    if test:\n",
    "        print(row_val_dict)\n",
    "\n",
    "    # apply the transform to training data\n",
    "    trdf[encode_name] = trdf[x].apply(lambda i: row_val_dict[i])\n",
    "\n",
    "    # apply the transform to test data\n",
    "    tsdf = pd.DataFrame(columns=[x, encode_name])\n",
    "    tsdf[x] = tss\n",
    "    tsdf.loc[:, encode_name] = overall_mean # handle previously unseen values\n",
    "    # handle values that are seen in tsdf but not row_val_dict\n",
    "    for i, col_i in enumerate(tsdf[x]):\n",
    "        try:\n",
    "            row_val_dict[col_i]\n",
    "        except:\n",
    "            # a value that appeared in tsdf isn't in the row_val_dict so just\n",
    "            # make it the overall_mean\n",
    "            row_val_dict[col_i] = overall_mean\n",
    "    tsdf[encode_name] = tsdf[x].apply(lambda i: row_val_dict[i])\n",
    "\n",
    "\n",
    "    # convert back to H2O\n",
    "\n",
    "    trdf = h2o.H2OFrame(trdf[encode_name].as_matrix())\n",
    "    trdf.columns = [encode_name]\n",
    "\n",
    "    tsdf = h2o.H2OFrame(tsdf[encode_name].as_matrix())\n",
    "    tsdf.columns = [encode_name]\n",
    "\n",
    "    return (trdf, tsdf)"
   ]
  },
  {
   "cell_type": "code",
   "execution_count": 27,
   "metadata": {
    "collapsed": false,
    "scrolled": true
   },
   "outputs": [
    {
     "name": "stdout",
     "output_type": "stream",
     "text": [
      "Encoding: product_type (1/15) ...\n",
      "Encoding: sub_area (2/15) ...\n",
      "Encoding: culture_objects_top_25 (3/15) ...\n",
      "Encoding: thermal_power_plant_raion (4/15) ...\n",
      "Encoding: incineration_raion (5/15) ...\n",
      "Encoding: oil_chemistry_raion (6/15) ...\n",
      "Encoding: radiation_raion (7/15) ...\n",
      "Encoding: railroad_terminal_raion (8/15) ...\n",
      "Encoding: big_market_raion (9/15) ...\n",
      "Encoding: nuclear_reactor_raion (10/15) ...\n",
      "Encoding: detention_facility_raion (11/15) ...\n",
      "Encoding: water_1line (12/15) ...\n",
      "Encoding: big_road1_1line (13/15) ...\n",
      "Encoding: railroad_1line (14/15) ...\n",
      "Encoding: ecology (15/15) ...\n",
      "Done.\n"
     ]
    }
   ],
   "source": [
    "total = len(cats)\n",
    "for i, var in enumerate(cats):\n",
    "    \n",
    "    tr_enc, _ = target_encoder(train, test, var, 'price_doc')\n",
    "    v_enc, ts_enc = target_encoder(valid, test, var, 'price_doc')\n",
    "    \n",
    "    print('Encoding: ' + var + ' (' + str(i+1) + '/' + str(total) + ') ...')\n",
    "\n",
    "    train = train.cbind(tr_enc)\n",
    "    valid = valid.cbind(v_enc)\n",
    "    test = test.cbind(ts_enc)    \n",
    "    \n",
    "print('Done.')"
   ]
  },
  {
   "cell_type": "code",
   "execution_count": 28,
   "metadata": {
    "collapsed": false,
    "scrolled": true
   },
   "outputs": [
    {
     "name": "stdout",
     "output_type": "stream",
     "text": [
      "Numeric = ['full_sq', 'life_sq', 'floor', 'max_floor', 'material', 'build_year', 'num_room', 'kitch_sq', 'state', 'area_m', 'raion_popul', 'green_zone_part', 'indust_part', 'children_preschool', 'preschool_quota', 'preschool_education_centers_raion', 'children_school', 'school_quota', 'school_education_centers_raion', 'school_education_centers_top_20_raion', 'hospital_beds_raion', 'healthcare_centers_raion', 'university_top_20_raion', 'sport_objects_raion', 'additional_education_raion', 'culture_objects_top_25_raion', 'shopping_centers_raion', 'office_raion', 'full_all', 'male_f', 'female_f', 'young_all', 'young_male', 'young_female', 'work_all', 'work_male', 'work_female', 'ekder_all', 'ekder_male', 'ekder_female', '0_6_all', '0_6_male', '0_6_female', '7_14_all', '7_14_male', '7_14_female', '0_17_all', '0_17_male', '0_17_female', '16_29_all', '16_29_male', '16_29_female', '0_13_all', '0_13_male', '0_13_female', 'raion_build_count_with_material_info', 'build_count_block', 'build_count_wood', 'build_count_frame', 'build_count_brick', 'build_count_monolith', 'build_count_panel', 'build_count_foam', 'build_count_slag', 'build_count_mix', 'raion_build_count_with_builddate_info', 'build_count_before_1920', 'build_count_1921-1945', 'build_count_1946-1970', 'build_count_1971-1995', 'build_count_after_1995', 'ID_metro', 'metro_min_avto', 'metro_km_avto', 'metro_min_walk', 'metro_km_walk', 'kindergarten_km', 'school_km', 'park_km', 'green_zone_km', 'industrial_km', 'water_treatment_km', 'cemetery_km', 'incineration_km', 'railroad_station_walk_km', 'railroad_station_walk_min', 'ID_railroad_station_walk', 'railroad_station_avto_km', 'railroad_station_avto_min', 'ID_railroad_station_avto', 'public_transport_station_km', 'public_transport_station_min_walk', 'water_km', 'mkad_km', 'ttk_km', 'sadovoe_km', 'bulvar_ring_km', 'kremlin_km', 'big_road1_km', 'ID_big_road1', 'big_road2_km', 'ID_big_road2', 'railroad_km', 'zd_vokzaly_avto_km', 'ID_railroad_terminal', 'bus_terminal_avto_km', 'ID_bus_terminal', 'oil_chemistry_km', 'nuclear_reactor_km', 'radiation_km', 'power_transmission_line_km', 'thermal_power_plant_km', 'ts_km', 'big_market_km', 'market_shop_km', 'fitness_km', 'swim_pool_km', 'ice_rink_km', 'stadium_km', 'basketball_km', 'hospice_morgue_km', 'detention_facility_km', 'public_healthcare_km', 'university_km', 'workplaces_km', 'shopping_centers_km', 'office_km', 'additional_education_km', 'preschool_km', 'big_church_km', 'church_synagogue_km', 'mosque_km', 'theater_km', 'museum_km', 'exhibition_km', 'catering_km', 'green_part_500', 'prom_part_500', 'office_count_500', 'office_sqm_500', 'trc_count_500', 'trc_sqm_500', 'cafe_count_500', 'cafe_sum_500_min_price_avg', 'cafe_sum_500_max_price_avg', 'cafe_avg_price_500', 'cafe_count_500_na_price', 'cafe_count_500_price_500', 'cafe_count_500_price_1000', 'cafe_count_500_price_1500', 'cafe_count_500_price_2500', 'cafe_count_500_price_4000', 'cafe_count_500_price_high', 'big_church_count_500', 'church_count_500', 'mosque_count_500', 'leisure_count_500', 'sport_count_500', 'market_count_500', 'green_part_1000', 'prom_part_1000', 'office_count_1000', 'office_sqm_1000', 'trc_count_1000', 'trc_sqm_1000', 'cafe_count_1000', 'cafe_sum_1000_min_price_avg', 'cafe_sum_1000_max_price_avg', 'cafe_avg_price_1000', 'cafe_count_1000_na_price', 'cafe_count_1000_price_500', 'cafe_count_1000_price_1000', 'cafe_count_1000_price_1500', 'cafe_count_1000_price_2500', 'cafe_count_1000_price_4000', 'cafe_count_1000_price_high', 'big_church_count_1000', 'church_count_1000', 'mosque_count_1000', 'leisure_count_1000', 'sport_count_1000', 'market_count_1000', 'green_part_1500', 'prom_part_1500', 'office_count_1500', 'office_sqm_1500', 'trc_count_1500', 'trc_sqm_1500', 'cafe_count_1500', 'cafe_sum_1500_min_price_avg', 'cafe_sum_1500_max_price_avg', 'cafe_avg_price_1500', 'cafe_count_1500_na_price', 'cafe_count_1500_price_500', 'cafe_count_1500_price_1000', 'cafe_count_1500_price_1500', 'cafe_count_1500_price_2500', 'cafe_count_1500_price_4000', 'cafe_count_1500_price_high', 'big_church_count_1500', 'church_count_1500', 'mosque_count_1500', 'leisure_count_1500', 'sport_count_1500', 'market_count_1500', 'green_part_2000', 'prom_part_2000', 'office_count_2000', 'office_sqm_2000', 'trc_count_2000', 'trc_sqm_2000', 'cafe_count_2000', 'cafe_sum_2000_min_price_avg', 'cafe_sum_2000_max_price_avg', 'cafe_avg_price_2000', 'cafe_count_2000_na_price', 'cafe_count_2000_price_500', 'cafe_count_2000_price_1000', 'cafe_count_2000_price_1500', 'cafe_count_2000_price_2500', 'cafe_count_2000_price_4000', 'cafe_count_2000_price_high', 'big_church_count_2000', 'church_count_2000', 'mosque_count_2000', 'leisure_count_2000', 'sport_count_2000', 'market_count_2000', 'green_part_3000', 'prom_part_3000', 'office_count_3000', 'office_sqm_3000', 'trc_count_3000', 'trc_sqm_3000', 'cafe_count_3000', 'cafe_sum_3000_min_price_avg', 'cafe_sum_3000_max_price_avg', 'cafe_avg_price_3000', 'cafe_count_3000_na_price', 'cafe_count_3000_price_500', 'cafe_count_3000_price_1000', 'cafe_count_3000_price_1500', 'cafe_count_3000_price_2500', 'cafe_count_3000_price_4000', 'cafe_count_3000_price_high', 'big_church_count_3000', 'church_count_3000', 'mosque_count_3000', 'leisure_count_3000', 'sport_count_3000', 'market_count_3000', 'green_part_5000', 'prom_part_5000', 'office_count_5000', 'office_sqm_5000', 'trc_count_5000', 'trc_sqm_5000', 'cafe_count_5000', 'cafe_sum_5000_min_price_avg', 'cafe_sum_5000_max_price_avg', 'cafe_avg_price_5000', 'cafe_count_5000_na_price', 'cafe_count_5000_price_500', 'cafe_count_5000_price_1000', 'cafe_count_5000_price_1500', 'cafe_count_5000_price_2500', 'cafe_count_5000_price_4000', 'cafe_count_5000_price_high', 'big_church_count_5000', 'church_count_5000', 'mosque_count_5000', 'leisure_count_5000', 'sport_count_5000', 'market_count_5000', 'floor_ratio', 'floor_from_top', 'kitch_sq_ratio', 'life_sq_ratio', 'full_sq_per_room', 'life_sq_per_room', 'full_living_sq_diff', 'year', 'month', 'day', 'dayofyear', 'dayofweek', 'weekofyear', 'month_year_cnt', 'week_year_cnt', 'year_old', 'product_type_Tencode', 'sub_area_Tencode', 'culture_objects_top_25_Tencode', 'thermal_power_plant_raion_Tencode', 'incineration_raion_Tencode', 'oil_chemistry_raion_Tencode', 'radiation_raion_Tencode', 'railroad_terminal_raion_Tencode', 'big_market_raion_Tencode', 'nuclear_reactor_raion_Tencode', 'detention_facility_raion_Tencode', 'water_1line_Tencode', 'big_road1_1line_Tencode', 'railroad_1line_Tencode', 'ecology_Tencode']\n",
      "\n",
      "Categorical = ['product_type', 'sub_area', 'culture_objects_top_25', 'thermal_power_plant_raion', 'incineration_raion', 'oil_chemistry_raion', 'radiation_raion', 'railroad_terminal_raion', 'big_market_raion', 'nuclear_reactor_raion', 'detention_facility_raion', 'water_1line', 'big_road1_1line', 'railroad_1line', 'ecology']\n"
     ]
    }
   ],
   "source": [
    "encoded_nums, cats = get_type_lists(frame=train)"
   ]
  },
  {
   "cell_type": "markdown",
   "metadata": {},
   "source": [
    "### Log the price"
   ]
  },
  {
   "cell_type": "code",
   "execution_count": 29,
   "metadata": {
    "collapsed": false
   },
   "outputs": [
    {
     "data": {
      "text/html": [
       "<table>\n",
       "<thead>\n",
       "<tr><th style=\"text-align: right;\">  price_doc</th></tr>\n",
       "</thead>\n",
       "<tbody>\n",
       "<tr><td style=\"text-align: right;\">    15.582 </td></tr>\n",
       "<tr><td style=\"text-align: right;\">    15.6073</td></tr>\n",
       "<tr><td style=\"text-align: right;\">    15.556 </td></tr>\n",
       "</tbody>\n",
       "</table>"
      ]
     },
     "metadata": {},
     "output_type": "display_data"
    },
    {
     "name": "stdout",
     "output_type": "stream",
     "text": [
      "\n"
     ]
    },
    {
     "data": {
      "image/png": "[encoded data removed]",
      "text/plain": [
       "<matplotlib.figure.Figure at 0x1405ac6d8>"
      ]
     },
     "metadata": {},
     "output_type": "display_data"
    }
   ],
   "source": [
    "# Check log transform - looks good\n",
    "%matplotlib inline\n",
    "train['price_doc'].log().as_data_frame().hist()\n",
    "\n",
    "# Execute log transform\n",
    "train['price_doc'] = train['price_doc'].log()\n",
    "valid['price_doc'] = valid['price_doc'].log()\n",
    "print(train[0:3, 'price_doc'])\n",
    "#print(valid[0:3, 'price_doc'])"
   ]
  },
  {
   "cell_type": "code",
   "execution_count": 30,
   "metadata": {
    "collapsed": false
   },
   "outputs": [
    {
     "name": "stdout",
     "output_type": "stream",
     "text": [
      "(21378, 322)\n",
      "(9086, 322)\n",
      "(7662, 322)\n"
     ]
    }
   ],
   "source": [
    "print(train.shape)\n",
    "print(valid.shape)\n",
    "print(test.shape)"
   ]
  },
  {
   "cell_type": "markdown",
   "metadata": {},
   "source": [
    "#### Define ranked predictions plot function"
   ]
  },
  {
   "cell_type": "code",
   "execution_count": 31,
   "metadata": {
    "collapsed": true
   },
   "outputs": [],
   "source": [
    "def ranked_preds_plot(y, valid, preds):\n",
    "    \n",
    "    \"\"\" Generates ranked prediction plot.\n",
    "    \n",
    "    :param y: Name of target variable.\n",
    "    :param valid: Name of validation H2OFrame.\n",
    "    :param preds: Column vector of predictions to plot.\n",
    "\n",
    "    \"\"\"\n",
    "    \n",
    "    # plot top frame values\n",
    "    preds.columns = ['predict']\n",
    "    yhat_frame = valid.cbind(preds)\n",
    "    print(yhat_frame[0:10, [y, 'predict']])\n",
    "\n",
    "    # plot sorted predictions\n",
    "    yhat_frame_df = yhat_frame[[y, 'predict']].as_data_frame()\n",
    "    yhat_frame_df.sort_values(by='predict', inplace=True)\n",
    "    yhat_frame_df.reset_index(inplace=True, drop=True)\n",
    "    _ = yhat_frame_df.plot(title='Ranked Predictions Plot')"
   ]
  },
  {
   "cell_type": "markdown",
   "metadata": {},
   "source": [
    "### Variable importance"
   ]
  },
  {
   "cell_type": "code",
   "execution_count": null,
   "metadata": {
    "collapsed": false
   },
   "outputs": [],
   "source": [
    "# initialize rf model\n",
    "rf_model1 = H2ORandomForestEstimator(\n",
    "    ntrees=10000,                    \n",
    "    max_depth=10, \n",
    "    col_sample_rate_per_tree=0.1,\n",
    "    sample_rate=0.8,\n",
    "    stopping_rounds=50,\n",
    "    score_each_iteration=True,\n",
    "    nfolds=3,\n",
    "    keep_cross_validation_predictions=True,\n",
    "    seed=12345)           \n",
    "\n",
    "# train rf model\n",
    "rf_model1.train(\n",
    "    x=encoded_nums,\n",
    "    y='price_doc',\n",
    "    training_frame=train,\n",
    "    validation_frame=valid)\n",
    "\n",
    "# print model information\n",
    "print(rf_model1)\n",
    "\n",
    "rf_preds1_val = rf_model1.predict(valid)\n",
    "ranked_preds_plot('price_doc', valid, rf_preds1_val) # valid RMSE not so hot ...\n",
    "rf_preds1_test = rf_model1.predict(test)"
   ]
  },
  {
   "cell_type": "code",
   "execution_count": null,
   "metadata": {
    "collapsed": false
   },
   "outputs": [],
   "source": [
    "l = rf_model1.varimp()\n",
    "FI = [i[0] for i in l[:50]]"
   ]
  },
  {
   "cell_type": "code",
   "execution_count": null,
   "metadata": {
    "collapsed": false
   },
   "outputs": [],
   "source": [
    "print(FI)"
   ]
  },
  {
   "cell_type": "code",
   "execution_count": 32,
   "metadata": {
    "collapsed": true
   },
   "outputs": [],
   "source": [
    "# 50\n",
    "FI = ['full_sq', 'num_room', 'full_living_sq_diff', 'sub_area_Tencode', 'life_sq', 'kitch_sq_ratio', 'cafe_count_3000_price_2500', 'full_sq_per_room', 'cafe_count_3000', 'cafe_count_5000_price_high', 'cafe_count_2000', 'kitch_sq', 'cafe_count_5000_price_2500', 'cafe_count_5000_price_1500', 'sport_count_3000', 'sport_count_2000', 'cafe_count_5000', 'zd_vokzaly_avto_km', 'life_sq_per_room', 'cafe_count_2000_price_1000', 'cafe_count_1500_price_2500', 'build_year', 'swim_pool_km', 'office_sqm_5000', 'trc_count_5000', 'metro_min_avto', 'metro_km_walk', 'floor', 'nuclear_reactor_km', 'metro_km_avto', 'workplaces_km', 'week_year_cnt', 'max_floor', 'life_sq_ratio', 'cafe_count_3000_price_1500', 'ttk_km', 'green_zone_km', 'trc_count_3000', 'metro_min_walk', 'cafe_count_5000_price_1000', 'year', 'market_shop_km', 'month_year_cnt', 'year_old', 'cafe_count_3000_price_500', 'cafe_count_2000_price_2500', 'bulvar_ring_km', 'detention_facility_km', 'state', 'big_road1_km']"
   ]
  },
  {
   "cell_type": "code",
   "execution_count": 33,
   "metadata": {
    "collapsed": false
   },
   "outputs": [
    {
     "name": "stdout",
     "output_type": "stream",
     "text": [
      "['full_sq', 'num_room', 'full_living_sq_diff', 'sub_area_Tencode', 'life_sq', 'kitch_sq_ratio', 'cafe_count_3000_price_2500', 'full_sq_per_room', 'cafe_count_3000', 'cafe_count_5000_price_high', 'cafe_count_2000', 'kitch_sq', 'cafe_count_5000_price_2500', 'cafe_count_5000_price_1500', 'sport_count_3000', 'sport_count_2000', 'cafe_count_5000', 'zd_vokzaly_avto_km', 'life_sq_per_room', 'cafe_count_2000_price_1000', 'cafe_count_1500_price_2500', 'build_year', 'swim_pool_km', 'office_sqm_5000', 'trc_count_5000', 'metro_min_avto', 'metro_km_walk', 'floor', 'nuclear_reactor_km', 'metro_km_avto', 'workplaces_km', 'week_year_cnt', 'max_floor', 'life_sq_ratio', 'cafe_count_3000_price_1500', 'ttk_km', 'green_zone_km', 'trc_count_3000', 'metro_min_walk', 'cafe_count_5000_price_1000', 'year', 'market_shop_km', 'month_year_cnt', 'year_old', 'cafe_count_3000_price_500', 'cafe_count_2000_price_2500', 'bulvar_ring_km', 'detention_facility_km', 'state', 'big_road1_km']\n"
     ]
    }
   ],
   "source": [
    "print(FI)"
   ]
  },
  {
   "cell_type": "markdown",
   "metadata": {
    "collapsed": true
   },
   "source": [
    "### Create combination features"
   ]
  },
  {
   "cell_type": "code",
   "execution_count": 34,
   "metadata": {
    "collapsed": true
   },
   "outputs": [],
   "source": [
    "def feature_combiner(training_frame, test_frame, nums):\n",
    "    total = len(nums)\n",
    "    \n",
    "    # convert to pandas\n",
    "    train_df = training_frame.as_data_frame()\n",
    "    test_df = test_frame.as_data_frame()\n",
    "    \n",
    "    for i, col_i in enumerate(nums):\n",
    "        \n",
    "        print('Combining: ' + col_i + ' (' + str(i+1) + '/' + str(total) + ') ...')        \n",
    "        \n",
    "        for j, col_j in enumerate(nums):\n",
    "            \n",
    "            # don't repeat (i*j = j*i)\n",
    "            if i < j:\n",
    "                \n",
    "                # convert to pandas\n",
    "                col_i_train_df = train_df[col_i]\n",
    "                col_j_train_df = train_df[col_j]\n",
    "                col_i_test_df = test_df[col_i]\n",
    "                col_j_test_df = test_df[col_j] \n",
    "\n",
    "                # multiply, convert back to h2o\n",
    "                train_df[str(col_i + '|' + col_j)] = col_i_train_df.values*col_j_train_df.values\n",
    "                test_df[str(col_i + '|' + col_j)] = col_i_test_df.values*col_j_test_df.values\n",
    "                \n",
    "    print('Done.')\n",
    "    \n",
    "    # convert back to h2o\n",
    "    \n",
    "    print('Converting to H2OFrame ...')\n",
    "    \n",
    "    training_frame = h2o.H2OFrame(train_df)\n",
    "    training_frame.columns = list(train_df)\n",
    "    test_frame = h2o.H2OFrame(test_df)\n",
    "    test_frame.columns = list(test_df)\n",
    "    \n",
    "    print('Done.')\n",
    "    print()\n",
    "    \n",
    "    # conserve memory \n",
    "    del train_df\n",
    "    del test_df \n",
    "    \n",
    "    return training_frame, test_frame"
   ]
  },
  {
   "cell_type": "code",
   "execution_count": 35,
   "metadata": {
    "collapsed": false,
    "scrolled": true
   },
   "outputs": [
    {
     "name": "stdout",
     "output_type": "stream",
     "text": [
      "Combining: full_sq (1/50) ...\n",
      "Combining: num_room (2/50) ...\n",
      "Combining: full_living_sq_diff (3/50) ...\n",
      "Combining: sub_area_Tencode (4/50) ...\n",
      "Combining: life_sq (5/50) ...\n",
      "Combining: kitch_sq_ratio (6/50) ...\n",
      "Combining: cafe_count_3000_price_2500 (7/50) ...\n",
      "Combining: full_sq_per_room (8/50) ...\n",
      "Combining: cafe_count_3000 (9/50) ...\n",
      "Combining: cafe_count_5000_price_high (10/50) ...\n",
      "Combining: cafe_count_2000 (11/50) ...\n",
      "Combining: kitch_sq (12/50) ...\n",
      "Combining: cafe_count_5000_price_2500 (13/50) ...\n",
      "Combining: cafe_count_5000_price_1500 (14/50) ...\n",
      "Combining: sport_count_3000 (15/50) ...\n",
      "Combining: sport_count_2000 (16/50) ...\n",
      "Combining: cafe_count_5000 (17/50) ...\n",
      "Combining: zd_vokzaly_avto_km (18/50) ...\n",
      "Combining: life_sq_per_room (19/50) ...\n",
      "Combining: cafe_count_2000_price_1000 (20/50) ...\n",
      "Combining: cafe_count_1500_price_2500 (21/50) ...\n",
      "Combining: build_year (22/50) ...\n",
      "Combining: swim_pool_km (23/50) ...\n",
      "Combining: office_sqm_5000 (24/50) ...\n",
      "Combining: trc_count_5000 (25/50) ...\n",
      "Combining: metro_min_avto (26/50) ...\n",
      "Combining: metro_km_walk (27/50) ...\n",
      "Combining: floor (28/50) ...\n",
      "Combining: nuclear_reactor_km (29/50) ...\n",
      "Combining: metro_km_avto (30/50) ...\n",
      "Combining: workplaces_km (31/50) ...\n",
      "Combining: week_year_cnt (32/50) ...\n",
      "Combining: max_floor (33/50) ...\n",
      "Combining: life_sq_ratio (34/50) ...\n",
      "Combining: cafe_count_3000_price_1500 (35/50) ...\n",
      "Combining: ttk_km (36/50) ...\n",
      "Combining: green_zone_km (37/50) ...\n",
      "Combining: trc_count_3000 (38/50) ...\n",
      "Combining: metro_min_walk (39/50) ...\n",
      "Combining: cafe_count_5000_price_1000 (40/50) ...\n",
      "Combining: year (41/50) ...\n",
      "Combining: market_shop_km (42/50) ...\n",
      "Combining: month_year_cnt (43/50) ...\n",
      "Combining: year_old (44/50) ...\n",
      "Combining: cafe_count_3000_price_500 (45/50) ...\n",
      "Combining: cafe_count_2000_price_2500 (46/50) ...\n",
      "Combining: bulvar_ring_km (47/50) ...\n",
      "Combining: detention_facility_km (48/50) ...\n",
      "Combining: state (49/50) ...\n",
      "Combining: big_road1_km (50/50) ...\n",
      "Done.\n",
      "Converting to H2OFrame ...\n",
      "Done.\n",
      "\n",
      "Combining: full_sq (1/50) ...\n",
      "Combining: num_room (2/50) ...\n",
      "Combining: full_living_sq_diff (3/50) ...\n",
      "Combining: sub_area_Tencode (4/50) ...\n",
      "Combining: life_sq (5/50) ...\n",
      "Combining: kitch_sq_ratio (6/50) ...\n",
      "Combining: cafe_count_3000_price_2500 (7/50) ...\n",
      "Combining: full_sq_per_room (8/50) ...\n",
      "Combining: cafe_count_3000 (9/50) ...\n",
      "Combining: cafe_count_5000_price_high (10/50) ...\n",
      "Combining: cafe_count_2000 (11/50) ...\n",
      "Combining: kitch_sq (12/50) ...\n",
      "Combining: cafe_count_5000_price_2500 (13/50) ...\n",
      "Combining: cafe_count_5000_price_1500 (14/50) ...\n",
      "Combining: sport_count_3000 (15/50) ...\n",
      "Combining: sport_count_2000 (16/50) ...\n",
      "Combining: cafe_count_5000 (17/50) ...\n",
      "Combining: zd_vokzaly_avto_km (18/50) ...\n",
      "Combining: life_sq_per_room (19/50) ...\n",
      "Combining: cafe_count_2000_price_1000 (20/50) ...\n",
      "Combining: cafe_count_1500_price_2500 (21/50) ...\n",
      "Combining: build_year (22/50) ...\n",
      "Combining: swim_pool_km (23/50) ...\n",
      "Combining: office_sqm_5000 (24/50) ...\n",
      "Combining: trc_count_5000 (25/50) ...\n",
      "Combining: metro_min_avto (26/50) ...\n",
      "Combining: metro_km_walk (27/50) ...\n",
      "Combining: floor (28/50) ...\n",
      "Combining: nuclear_reactor_km (29/50) ...\n",
      "Combining: metro_km_avto (30/50) ...\n",
      "Combining: workplaces_km (31/50) ...\n",
      "Combining: week_year_cnt (32/50) ...\n",
      "Combining: max_floor (33/50) ...\n",
      "Combining: life_sq_ratio (34/50) ...\n",
      "Combining: cafe_count_3000_price_1500 (35/50) ...\n",
      "Combining: ttk_km (36/50) ...\n",
      "Combining: green_zone_km (37/50) ...\n",
      "Combining: trc_count_3000 (38/50) ...\n",
      "Combining: metro_min_walk (39/50) ...\n",
      "Combining: cafe_count_5000_price_1000 (40/50) ...\n",
      "Combining: year (41/50) ...\n",
      "Combining: market_shop_km (42/50) ...\n",
      "Combining: month_year_cnt (43/50) ...\n",
      "Combining: year_old (44/50) ...\n",
      "Combining: cafe_count_3000_price_500 (45/50) ...\n",
      "Combining: cafe_count_2000_price_2500 (46/50) ...\n",
      "Combining: bulvar_ring_km (47/50) ...\n",
      "Combining: detention_facility_km (48/50) ...\n",
      "Combining: state (49/50) ...\n",
      "Combining: big_road1_km (50/50) ...\n",
      "Done.\n",
      "Converting to H2OFrame ...\n",
      "Done.\n",
      "\n"
     ]
    }
   ],
   "source": [
    "train, _ = feature_combiner(train, test, FI)\n",
    "valid, test = feature_combiner(valid, test, FI)"
   ]
  },
  {
   "cell_type": "code",
   "execution_count": 36,
   "metadata": {
    "collapsed": false
   },
   "outputs": [
    {
     "name": "stdout",
     "output_type": "stream",
     "text": [
      "Numeric = ['full_sq', 'life_sq', 'floor', 'max_floor', 'material', 'build_year', 'num_room', 'kitch_sq', 'state', 'area_m', 'raion_popul', 'green_zone_part', 'indust_part', 'children_preschool', 'preschool_quota', 'preschool_education_centers_raion', 'children_school', 'school_quota', 'school_education_centers_raion', 'school_education_centers_top_20_raion', 'hospital_beds_raion', 'healthcare_centers_raion', 'university_top_20_raion', 'sport_objects_raion', 'additional_education_raion', 'culture_objects_top_25_raion', 'shopping_centers_raion', 'office_raion', 'full_all', 'male_f', 'female_f', 'young_all', 'young_male', 'young_female', 'work_all', 'work_male', 'work_female', 'ekder_all', 'ekder_male', 'ekder_female', '0_6_all', '0_6_male', '0_6_female', '7_14_all', '7_14_male', '7_14_female', '0_17_all', '0_17_male', '0_17_female', '16_29_all', '16_29_male', '16_29_female', '0_13_all', '0_13_male', '0_13_female', 'raion_build_count_with_material_info', 'build_count_block', 'build_count_wood', 'build_count_frame', 'build_count_brick', 'build_count_monolith', 'build_count_panel', 'build_count_foam', 'build_count_slag', 'build_count_mix', 'raion_build_count_with_builddate_info', 'build_count_before_1920', 'build_count_1921-1945', 'build_count_1946-1970', 'build_count_1971-1995', 'build_count_after_1995', 'ID_metro', 'metro_min_avto', 'metro_km_avto', 'metro_min_walk', 'metro_km_walk', 'kindergarten_km', 'school_km', 'park_km', 'green_zone_km', 'industrial_km', 'water_treatment_km', 'cemetery_km', 'incineration_km', 'railroad_station_walk_km', 'railroad_station_walk_min', 'ID_railroad_station_walk', 'railroad_station_avto_km', 'railroad_station_avto_min', 'ID_railroad_station_avto', 'public_transport_station_km', 'public_transport_station_min_walk', 'water_km', 'mkad_km', 'ttk_km', 'sadovoe_km', 'bulvar_ring_km', 'kremlin_km', 'big_road1_km', 'ID_big_road1', 'big_road2_km', 'ID_big_road2', 'railroad_km', 'zd_vokzaly_avto_km', 'ID_railroad_terminal', 'bus_terminal_avto_km', 'ID_bus_terminal', 'oil_chemistry_km', 'nuclear_reactor_km', 'radiation_km', 'power_transmission_line_km', 'thermal_power_plant_km', 'ts_km', 'big_market_km', 'market_shop_km', 'fitness_km', 'swim_pool_km', 'ice_rink_km', 'stadium_km', 'basketball_km', 'hospice_morgue_km', 'detention_facility_km', 'public_healthcare_km', 'university_km', 'workplaces_km', 'shopping_centers_km', 'office_km', 'additional_education_km', 'preschool_km', 'big_church_km', 'church_synagogue_km', 'mosque_km', 'theater_km', 'museum_km', 'exhibition_km', 'catering_km', 'green_part_500', 'prom_part_500', 'office_count_500', 'office_sqm_500', 'trc_count_500', 'trc_sqm_500', 'cafe_count_500', 'cafe_sum_500_min_price_avg', 'cafe_sum_500_max_price_avg', 'cafe_avg_price_500', 'cafe_count_500_na_price', 'cafe_count_500_price_500', 'cafe_count_500_price_1000', 'cafe_count_500_price_1500', 'cafe_count_500_price_2500', 'cafe_count_500_price_4000', 'cafe_count_500_price_high', 'big_church_count_500', 'church_count_500', 'mosque_count_500', 'leisure_count_500', 'sport_count_500', 'market_count_500', 'green_part_1000', 'prom_part_1000', 'office_count_1000', 'office_sqm_1000', 'trc_count_1000', 'trc_sqm_1000', 'cafe_count_1000', 'cafe_sum_1000_min_price_avg', 'cafe_sum_1000_max_price_avg', 'cafe_avg_price_1000', 'cafe_count_1000_na_price', 'cafe_count_1000_price_500', 'cafe_count_1000_price_1000', 'cafe_count_1000_price_1500', 'cafe_count_1000_price_2500', 'cafe_count_1000_price_4000', 'cafe_count_1000_price_high', 'big_church_count_1000', 'church_count_1000', 'mosque_count_1000', 'leisure_count_1000', 'sport_count_1000', 'market_count_1000', 'green_part_1500', 'prom_part_1500', 'office_count_1500', 'office_sqm_1500', 'trc_count_1500', 'trc_sqm_1500', 'cafe_count_1500', 'cafe_sum_1500_min_price_avg', 'cafe_sum_1500_max_price_avg', 'cafe_avg_price_1500', 'cafe_count_1500_na_price', 'cafe_count_1500_price_500', 'cafe_count_1500_price_1000', 'cafe_count_1500_price_1500', 'cafe_count_1500_price_2500', 'cafe_count_1500_price_4000', 'cafe_count_1500_price_high', 'big_church_count_1500', 'church_count_1500', 'mosque_count_1500', 'leisure_count_1500', 'sport_count_1500', 'market_count_1500', 'green_part_2000', 'prom_part_2000', 'office_count_2000', 'office_sqm_2000', 'trc_count_2000', 'trc_sqm_2000', 'cafe_count_2000', 'cafe_sum_2000_min_price_avg', 'cafe_sum_2000_max_price_avg', 'cafe_avg_price_2000', 'cafe_count_2000_na_price', 'cafe_count_2000_price_500', 'cafe_count_2000_price_1000', 'cafe_count_2000_price_1500', 'cafe_count_2000_price_2500', 'cafe_count_2000_price_4000', 'cafe_count_2000_price_high', 'big_church_count_2000', 'church_count_2000', 'mosque_count_2000', 'leisure_count_2000', 'sport_count_2000', 'market_count_2000', 'green_part_3000', 'prom_part_3000', 'office_count_3000', 'office_sqm_3000', 'trc_count_3000', 'trc_sqm_3000', 'cafe_count_3000', 'cafe_sum_3000_min_price_avg', 'cafe_sum_3000_max_price_avg', 'cafe_avg_price_3000', 'cafe_count_3000_na_price', 'cafe_count_3000_price_500', 'cafe_count_3000_price_1000', 'cafe_count_3000_price_1500', 'cafe_count_3000_price_2500', 'cafe_count_3000_price_4000', 'cafe_count_3000_price_high', 'big_church_count_3000', 'church_count_3000', 'mosque_count_3000', 'leisure_count_3000', 'sport_count_3000', 'market_count_3000', 'green_part_5000', 'prom_part_5000', 'office_count_5000', 'office_sqm_5000', 'trc_count_5000', 'trc_sqm_5000', 'cafe_count_5000', 'cafe_sum_5000_min_price_avg', 'cafe_sum_5000_max_price_avg', 'cafe_avg_price_5000', 'cafe_count_5000_na_price', 'cafe_count_5000_price_500', 'cafe_count_5000_price_1000', 'cafe_count_5000_price_1500', 'cafe_count_5000_price_2500', 'cafe_count_5000_price_4000', 'cafe_count_5000_price_high', 'big_church_count_5000', 'church_count_5000', 'mosque_count_5000', 'leisure_count_5000', 'sport_count_5000', 'market_count_5000', 'floor_ratio', 'floor_from_top', 'kitch_sq_ratio', 'life_sq_ratio', 'full_sq_per_room', 'life_sq_per_room', 'full_living_sq_diff', 'year', 'month', 'day', 'dayofyear', 'dayofweek', 'weekofyear', 'month_year_cnt', 'week_year_cnt', 'year_old', 'product_type_Tencode', 'sub_area_Tencode', 'culture_objects_top_25_Tencode', 'thermal_power_plant_raion_Tencode', 'incineration_raion_Tencode', 'oil_chemistry_raion_Tencode', 'radiation_raion_Tencode', 'railroad_terminal_raion_Tencode', 'big_market_raion_Tencode', 'nuclear_reactor_raion_Tencode', 'detention_facility_raion_Tencode', 'water_1line_Tencode', 'big_road1_1line_Tencode', 'railroad_1line_Tencode', 'ecology_Tencode', 'full_sq|num_room', 'full_sq|full_living_sq_diff', 'full_sq|sub_area_Tencode', 'full_sq|life_sq', 'full_sq|kitch_sq_ratio', 'full_sq|cafe_count_3000_price_2500', 'full_sq|full_sq_per_room', 'full_sq|cafe_count_3000', 'full_sq|cafe_count_5000_price_high', 'full_sq|cafe_count_2000', 'full_sq|kitch_sq', 'full_sq|cafe_count_5000_price_2500', 'full_sq|cafe_count_5000_price_1500', 'full_sq|sport_count_3000', 'full_sq|sport_count_2000', 'full_sq|cafe_count_5000', 'full_sq|zd_vokzaly_avto_km', 'full_sq|life_sq_per_room', 'full_sq|cafe_count_2000_price_1000', 'full_sq|cafe_count_1500_price_2500', 'full_sq|build_year', 'full_sq|swim_pool_km', 'full_sq|office_sqm_5000', 'full_sq|trc_count_5000', 'full_sq|metro_min_avto', 'full_sq|metro_km_walk', 'full_sq|floor', 'full_sq|nuclear_reactor_km', 'full_sq|metro_km_avto', 'full_sq|workplaces_km', 'full_sq|week_year_cnt', 'full_sq|max_floor', 'full_sq|life_sq_ratio', 'full_sq|cafe_count_3000_price_1500', 'full_sq|ttk_km', 'full_sq|green_zone_km', 'full_sq|trc_count_3000', 'full_sq|metro_min_walk', 'full_sq|cafe_count_5000_price_1000', 'full_sq|year', 'full_sq|market_shop_km', 'full_sq|month_year_cnt', 'full_sq|year_old', 'full_sq|cafe_count_3000_price_500', 'full_sq|cafe_count_2000_price_2500', 'full_sq|bulvar_ring_km', 'full_sq|detention_facility_km', 'full_sq|state', 'full_sq|big_road1_km', 'num_room|full_living_sq_diff', 'num_room|sub_area_Tencode', 'num_room|life_sq', 'num_room|kitch_sq_ratio', 'num_room|cafe_count_3000_price_2500', 'num_room|full_sq_per_room', 'num_room|cafe_count_3000', 'num_room|cafe_count_5000_price_high', 'num_room|cafe_count_2000', 'num_room|kitch_sq', 'num_room|cafe_count_5000_price_2500', 'num_room|cafe_count_5000_price_1500', 'num_room|sport_count_3000', 'num_room|sport_count_2000', 'num_room|cafe_count_5000', 'num_room|zd_vokzaly_avto_km', 'num_room|life_sq_per_room', 'num_room|cafe_count_2000_price_1000', 'num_room|cafe_count_1500_price_2500', 'num_room|build_year', 'num_room|swim_pool_km', 'num_room|office_sqm_5000', 'num_room|trc_count_5000', 'num_room|metro_min_avto', 'num_room|metro_km_walk', 'num_room|floor', 'num_room|nuclear_reactor_km', 'num_room|metro_km_avto', 'num_room|workplaces_km', 'num_room|week_year_cnt', 'num_room|max_floor', 'num_room|life_sq_ratio', 'num_room|cafe_count_3000_price_1500', 'num_room|ttk_km', 'num_room|green_zone_km', 'num_room|trc_count_3000', 'num_room|metro_min_walk', 'num_room|cafe_count_5000_price_1000', 'num_room|year', 'num_room|market_shop_km', 'num_room|month_year_cnt', 'num_room|year_old', 'num_room|cafe_count_3000_price_500', 'num_room|cafe_count_2000_price_2500', 'num_room|bulvar_ring_km', 'num_room|detention_facility_km', 'num_room|state', 'num_room|big_road1_km', 'full_living_sq_diff|sub_area_Tencode', 'full_living_sq_diff|life_sq', 'full_living_sq_diff|kitch_sq_ratio', 'full_living_sq_diff|cafe_count_3000_price_2500', 'full_living_sq_diff|full_sq_per_room', 'full_living_sq_diff|cafe_count_3000', 'full_living_sq_diff|cafe_count_5000_price_high', 'full_living_sq_diff|cafe_count_2000', 'full_living_sq_diff|kitch_sq', 'full_living_sq_diff|cafe_count_5000_price_2500', 'full_living_sq_diff|cafe_count_5000_price_1500', 'full_living_sq_diff|sport_count_3000', 'full_living_sq_diff|sport_count_2000', 'full_living_sq_diff|cafe_count_5000', 'full_living_sq_diff|zd_vokzaly_avto_km', 'full_living_sq_diff|life_sq_per_room', 'full_living_sq_diff|cafe_count_2000_price_1000', 'full_living_sq_diff|cafe_count_1500_price_2500', 'full_living_sq_diff|build_year', 'full_living_sq_diff|swim_pool_km', 'full_living_sq_diff|office_sqm_5000', 'full_living_sq_diff|trc_count_5000', 'full_living_sq_diff|metro_min_avto', 'full_living_sq_diff|metro_km_walk', 'full_living_sq_diff|floor', 'full_living_sq_diff|nuclear_reactor_km', 'full_living_sq_diff|metro_km_avto', 'full_living_sq_diff|workplaces_km', 'full_living_sq_diff|week_year_cnt', 'full_living_sq_diff|max_floor', 'full_living_sq_diff|life_sq_ratio', 'full_living_sq_diff|cafe_count_3000_price_1500', 'full_living_sq_diff|ttk_km', 'full_living_sq_diff|green_zone_km', 'full_living_sq_diff|trc_count_3000', 'full_living_sq_diff|metro_min_walk', 'full_living_sq_diff|cafe_count_5000_price_1000', 'full_living_sq_diff|year', 'full_living_sq_diff|market_shop_km', 'full_living_sq_diff|month_year_cnt', 'full_living_sq_diff|year_old', 'full_living_sq_diff|cafe_count_3000_price_500', 'full_living_sq_diff|cafe_count_2000_price_2500', 'full_living_sq_diff|bulvar_ring_km', 'full_living_sq_diff|detention_facility_km', 'full_living_sq_diff|state', 'full_living_sq_diff|big_road1_km', 'sub_area_Tencode|life_sq', 'sub_area_Tencode|kitch_sq_ratio', 'sub_area_Tencode|cafe_count_3000_price_2500', 'sub_area_Tencode|full_sq_per_room', 'sub_area_Tencode|cafe_count_3000', 'sub_area_Tencode|cafe_count_5000_price_high', 'sub_area_Tencode|cafe_count_2000', 'sub_area_Tencode|kitch_sq', 'sub_area_Tencode|cafe_count_5000_price_2500', 'sub_area_Tencode|cafe_count_5000_price_1500', 'sub_area_Tencode|sport_count_3000', 'sub_area_Tencode|sport_count_2000', 'sub_area_Tencode|cafe_count_5000', 'sub_area_Tencode|zd_vokzaly_avto_km', 'sub_area_Tencode|life_sq_per_room', 'sub_area_Tencode|cafe_count_2000_price_1000', 'sub_area_Tencode|cafe_count_1500_price_2500', 'sub_area_Tencode|build_year', 'sub_area_Tencode|swim_pool_km', 'sub_area_Tencode|office_sqm_5000', 'sub_area_Tencode|trc_count_5000', 'sub_area_Tencode|metro_min_avto', 'sub_area_Tencode|metro_km_walk', 'sub_area_Tencode|floor', 'sub_area_Tencode|nuclear_reactor_km', 'sub_area_Tencode|metro_km_avto', 'sub_area_Tencode|workplaces_km', 'sub_area_Tencode|week_year_cnt', 'sub_area_Tencode|max_floor', 'sub_area_Tencode|life_sq_ratio', 'sub_area_Tencode|cafe_count_3000_price_1500', 'sub_area_Tencode|ttk_km', 'sub_area_Tencode|green_zone_km', 'sub_area_Tencode|trc_count_3000', 'sub_area_Tencode|metro_min_walk', 'sub_area_Tencode|cafe_count_5000_price_1000', 'sub_area_Tencode|year', 'sub_area_Tencode|market_shop_km', 'sub_area_Tencode|month_year_cnt', 'sub_area_Tencode|year_old', 'sub_area_Tencode|cafe_count_3000_price_500', 'sub_area_Tencode|cafe_count_2000_price_2500', 'sub_area_Tencode|bulvar_ring_km', 'sub_area_Tencode|detention_facility_km', 'sub_area_Tencode|state', 'sub_area_Tencode|big_road1_km', 'life_sq|kitch_sq_ratio', 'life_sq|cafe_count_3000_price_2500', 'life_sq|full_sq_per_room', 'life_sq|cafe_count_3000', 'life_sq|cafe_count_5000_price_high', 'life_sq|cafe_count_2000', 'life_sq|kitch_sq', 'life_sq|cafe_count_5000_price_2500', 'life_sq|cafe_count_5000_price_1500', 'life_sq|sport_count_3000', 'life_sq|sport_count_2000', 'life_sq|cafe_count_5000', 'life_sq|zd_vokzaly_avto_km', 'life_sq|life_sq_per_room', 'life_sq|cafe_count_2000_price_1000', 'life_sq|cafe_count_1500_price_2500', 'life_sq|build_year', 'life_sq|swim_pool_km', 'life_sq|office_sqm_5000', 'life_sq|trc_count_5000', 'life_sq|metro_min_avto', 'life_sq|metro_km_walk', 'life_sq|floor', 'life_sq|nuclear_reactor_km', 'life_sq|metro_km_avto', 'life_sq|workplaces_km', 'life_sq|week_year_cnt', 'life_sq|max_floor', 'life_sq|life_sq_ratio', 'life_sq|cafe_count_3000_price_1500', 'life_sq|ttk_km', 'life_sq|green_zone_km', 'life_sq|trc_count_3000', 'life_sq|metro_min_walk', 'life_sq|cafe_count_5000_price_1000', 'life_sq|year', 'life_sq|market_shop_km', 'life_sq|month_year_cnt', 'life_sq|year_old', 'life_sq|cafe_count_3000_price_500', 'life_sq|cafe_count_2000_price_2500', 'life_sq|bulvar_ring_km', 'life_sq|detention_facility_km', 'life_sq|state', 'life_sq|big_road1_km', 'kitch_sq_ratio|cafe_count_3000_price_2500', 'kitch_sq_ratio|full_sq_per_room', 'kitch_sq_ratio|cafe_count_3000', 'kitch_sq_ratio|cafe_count_5000_price_high', 'kitch_sq_ratio|cafe_count_2000', 'kitch_sq_ratio|kitch_sq', 'kitch_sq_ratio|cafe_count_5000_price_2500', 'kitch_sq_ratio|cafe_count_5000_price_1500', 'kitch_sq_ratio|sport_count_3000', 'kitch_sq_ratio|sport_count_2000', 'kitch_sq_ratio|cafe_count_5000', 'kitch_sq_ratio|zd_vokzaly_avto_km', 'kitch_sq_ratio|life_sq_per_room', 'kitch_sq_ratio|cafe_count_2000_price_1000', 'kitch_sq_ratio|cafe_count_1500_price_2500', 'kitch_sq_ratio|build_year', 'kitch_sq_ratio|swim_pool_km', 'kitch_sq_ratio|office_sqm_5000', 'kitch_sq_ratio|trc_count_5000', 'kitch_sq_ratio|metro_min_avto', 'kitch_sq_ratio|metro_km_walk', 'kitch_sq_ratio|floor', 'kitch_sq_ratio|nuclear_reactor_km', 'kitch_sq_ratio|metro_km_avto', 'kitch_sq_ratio|workplaces_km', 'kitch_sq_ratio|week_year_cnt', 'kitch_sq_ratio|max_floor', 'kitch_sq_ratio|life_sq_ratio', 'kitch_sq_ratio|cafe_count_3000_price_1500', 'kitch_sq_ratio|ttk_km', 'kitch_sq_ratio|green_zone_km', 'kitch_sq_ratio|trc_count_3000', 'kitch_sq_ratio|metro_min_walk', 'kitch_sq_ratio|cafe_count_5000_price_1000', 'kitch_sq_ratio|year', 'kitch_sq_ratio|market_shop_km', 'kitch_sq_ratio|month_year_cnt', 'kitch_sq_ratio|year_old', 'kitch_sq_ratio|cafe_count_3000_price_500', 'kitch_sq_ratio|cafe_count_2000_price_2500', 'kitch_sq_ratio|bulvar_ring_km', 'kitch_sq_ratio|detention_facility_km', 'kitch_sq_ratio|state', 'kitch_sq_ratio|big_road1_km', 'cafe_count_3000_price_2500|full_sq_per_room', 'cafe_count_3000_price_2500|cafe_count_3000', 'cafe_count_3000_price_2500|cafe_count_5000_price_high', 'cafe_count_3000_price_2500|cafe_count_2000', 'cafe_count_3000_price_2500|kitch_sq', 'cafe_count_3000_price_2500|cafe_count_5000_price_2500', 'cafe_count_3000_price_2500|cafe_count_5000_price_1500', 'cafe_count_3000_price_2500|sport_count_3000', 'cafe_count_3000_price_2500|sport_count_2000', 'cafe_count_3000_price_2500|cafe_count_5000', 'cafe_count_3000_price_2500|zd_vokzaly_avto_km', 'cafe_count_3000_price_2500|life_sq_per_room', 'cafe_count_3000_price_2500|cafe_count_2000_price_1000', 'cafe_count_3000_price_2500|cafe_count_1500_price_2500', 'cafe_count_3000_price_2500|build_year', 'cafe_count_3000_price_2500|swim_pool_km', 'cafe_count_3000_price_2500|office_sqm_5000', 'cafe_count_3000_price_2500|trc_count_5000', 'cafe_count_3000_price_2500|metro_min_avto', 'cafe_count_3000_price_2500|metro_km_walk', 'cafe_count_3000_price_2500|floor', 'cafe_count_3000_price_2500|nuclear_reactor_km', 'cafe_count_3000_price_2500|metro_km_avto', 'cafe_count_3000_price_2500|workplaces_km', 'cafe_count_3000_price_2500|week_year_cnt', 'cafe_count_3000_price_2500|max_floor', 'cafe_count_3000_price_2500|life_sq_ratio', 'cafe_count_3000_price_2500|cafe_count_3000_price_1500', 'cafe_count_3000_price_2500|ttk_km', 'cafe_count_3000_price_2500|green_zone_km', 'cafe_count_3000_price_2500|trc_count_3000', 'cafe_count_3000_price_2500|metro_min_walk', 'cafe_count_3000_price_2500|cafe_count_5000_price_1000', 'cafe_count_3000_price_2500|year', 'cafe_count_3000_price_2500|market_shop_km', 'cafe_count_3000_price_2500|month_year_cnt', 'cafe_count_3000_price_2500|year_old', 'cafe_count_3000_price_2500|cafe_count_3000_price_500', 'cafe_count_3000_price_2500|cafe_count_2000_price_2500', 'cafe_count_3000_price_2500|bulvar_ring_km', 'cafe_count_3000_price_2500|detention_facility_km', 'cafe_count_3000_price_2500|state', 'cafe_count_3000_price_2500|big_road1_km', 'full_sq_per_room|cafe_count_3000', 'full_sq_per_room|cafe_count_5000_price_high', 'full_sq_per_room|cafe_count_2000', 'full_sq_per_room|kitch_sq', 'full_sq_per_room|cafe_count_5000_price_2500', 'full_sq_per_room|cafe_count_5000_price_1500', 'full_sq_per_room|sport_count_3000', 'full_sq_per_room|sport_count_2000', 'full_sq_per_room|cafe_count_5000', 'full_sq_per_room|zd_vokzaly_avto_km', 'full_sq_per_room|life_sq_per_room', 'full_sq_per_room|cafe_count_2000_price_1000', 'full_sq_per_room|cafe_count_1500_price_2500', 'full_sq_per_room|build_year', 'full_sq_per_room|swim_pool_km', 'full_sq_per_room|office_sqm_5000', 'full_sq_per_room|trc_count_5000', 'full_sq_per_room|metro_min_avto', 'full_sq_per_room|metro_km_walk', 'full_sq_per_room|floor', 'full_sq_per_room|nuclear_reactor_km', 'full_sq_per_room|metro_km_avto', 'full_sq_per_room|workplaces_km', 'full_sq_per_room|week_year_cnt', 'full_sq_per_room|max_floor', 'full_sq_per_room|life_sq_ratio', 'full_sq_per_room|cafe_count_3000_price_1500', 'full_sq_per_room|ttk_km', 'full_sq_per_room|green_zone_km', 'full_sq_per_room|trc_count_3000', 'full_sq_per_room|metro_min_walk', 'full_sq_per_room|cafe_count_5000_price_1000', 'full_sq_per_room|year', 'full_sq_per_room|market_shop_km', 'full_sq_per_room|month_year_cnt', 'full_sq_per_room|year_old', 'full_sq_per_room|cafe_count_3000_price_500', 'full_sq_per_room|cafe_count_2000_price_2500', 'full_sq_per_room|bulvar_ring_km', 'full_sq_per_room|detention_facility_km', 'full_sq_per_room|state', 'full_sq_per_room|big_road1_km', 'cafe_count_3000|cafe_count_5000_price_high', 'cafe_count_3000|cafe_count_2000', 'cafe_count_3000|kitch_sq', 'cafe_count_3000|cafe_count_5000_price_2500', 'cafe_count_3000|cafe_count_5000_price_1500', 'cafe_count_3000|sport_count_3000', 'cafe_count_3000|sport_count_2000', 'cafe_count_3000|cafe_count_5000', 'cafe_count_3000|zd_vokzaly_avto_km', 'cafe_count_3000|life_sq_per_room', 'cafe_count_3000|cafe_count_2000_price_1000', 'cafe_count_3000|cafe_count_1500_price_2500', 'cafe_count_3000|build_year', 'cafe_count_3000|swim_pool_km', 'cafe_count_3000|office_sqm_5000', 'cafe_count_3000|trc_count_5000', 'cafe_count_3000|metro_min_avto', 'cafe_count_3000|metro_km_walk', 'cafe_count_3000|floor', 'cafe_count_3000|nuclear_reactor_km', 'cafe_count_3000|metro_km_avto', 'cafe_count_3000|workplaces_km', 'cafe_count_3000|week_year_cnt', 'cafe_count_3000|max_floor', 'cafe_count_3000|life_sq_ratio', 'cafe_count_3000|cafe_count_3000_price_1500', 'cafe_count_3000|ttk_km', 'cafe_count_3000|green_zone_km', 'cafe_count_3000|trc_count_3000', 'cafe_count_3000|metro_min_walk', 'cafe_count_3000|cafe_count_5000_price_1000', 'cafe_count_3000|year', 'cafe_count_3000|market_shop_km', 'cafe_count_3000|month_year_cnt', 'cafe_count_3000|year_old', 'cafe_count_3000|cafe_count_3000_price_500', 'cafe_count_3000|cafe_count_2000_price_2500', 'cafe_count_3000|bulvar_ring_km', 'cafe_count_3000|detention_facility_km', 'cafe_count_3000|state', 'cafe_count_3000|big_road1_km', 'cafe_count_5000_price_high|cafe_count_2000', 'cafe_count_5000_price_high|kitch_sq', 'cafe_count_5000_price_high|cafe_count_5000_price_2500', 'cafe_count_5000_price_high|cafe_count_5000_price_1500', 'cafe_count_5000_price_high|sport_count_3000', 'cafe_count_5000_price_high|sport_count_2000', 'cafe_count_5000_price_high|cafe_count_5000', 'cafe_count_5000_price_high|zd_vokzaly_avto_km', 'cafe_count_5000_price_high|life_sq_per_room', 'cafe_count_5000_price_high|cafe_count_2000_price_1000', 'cafe_count_5000_price_high|cafe_count_1500_price_2500', 'cafe_count_5000_price_high|build_year', 'cafe_count_5000_price_high|swim_pool_km', 'cafe_count_5000_price_high|office_sqm_5000', 'cafe_count_5000_price_high|trc_count_5000', 'cafe_count_5000_price_high|metro_min_avto', 'cafe_count_5000_price_high|metro_km_walk', 'cafe_count_5000_price_high|floor', 'cafe_count_5000_price_high|nuclear_reactor_km', 'cafe_count_5000_price_high|metro_km_avto', 'cafe_count_5000_price_high|workplaces_km', 'cafe_count_5000_price_high|week_year_cnt', 'cafe_count_5000_price_high|max_floor', 'cafe_count_5000_price_high|life_sq_ratio', 'cafe_count_5000_price_high|cafe_count_3000_price_1500', 'cafe_count_5000_price_high|ttk_km', 'cafe_count_5000_price_high|green_zone_km', 'cafe_count_5000_price_high|trc_count_3000', 'cafe_count_5000_price_high|metro_min_walk', 'cafe_count_5000_price_high|cafe_count_5000_price_1000', 'cafe_count_5000_price_high|year', 'cafe_count_5000_price_high|market_shop_km', 'cafe_count_5000_price_high|month_year_cnt', 'cafe_count_5000_price_high|year_old', 'cafe_count_5000_price_high|cafe_count_3000_price_500', 'cafe_count_5000_price_high|cafe_count_2000_price_2500', 'cafe_count_5000_price_high|bulvar_ring_km', 'cafe_count_5000_price_high|detention_facility_km', 'cafe_count_5000_price_high|state', 'cafe_count_5000_price_high|big_road1_km', 'cafe_count_2000|kitch_sq', 'cafe_count_2000|cafe_count_5000_price_2500', 'cafe_count_2000|cafe_count_5000_price_1500', 'cafe_count_2000|sport_count_3000', 'cafe_count_2000|sport_count_2000', 'cafe_count_2000|cafe_count_5000', 'cafe_count_2000|zd_vokzaly_avto_km', 'cafe_count_2000|life_sq_per_room', 'cafe_count_2000|cafe_count_2000_price_1000', 'cafe_count_2000|cafe_count_1500_price_2500', 'cafe_count_2000|build_year', 'cafe_count_2000|swim_pool_km', 'cafe_count_2000|office_sqm_5000', 'cafe_count_2000|trc_count_5000', 'cafe_count_2000|metro_min_avto', 'cafe_count_2000|metro_km_walk', 'cafe_count_2000|floor', 'cafe_count_2000|nuclear_reactor_km', 'cafe_count_2000|metro_km_avto', 'cafe_count_2000|workplaces_km', 'cafe_count_2000|week_year_cnt', 'cafe_count_2000|max_floor', 'cafe_count_2000|life_sq_ratio', 'cafe_count_2000|cafe_count_3000_price_1500', 'cafe_count_2000|ttk_km', 'cafe_count_2000|green_zone_km', 'cafe_count_2000|trc_count_3000', 'cafe_count_2000|metro_min_walk', 'cafe_count_2000|cafe_count_5000_price_1000', 'cafe_count_2000|year', 'cafe_count_2000|market_shop_km', 'cafe_count_2000|month_year_cnt', 'cafe_count_2000|year_old', 'cafe_count_2000|cafe_count_3000_price_500', 'cafe_count_2000|cafe_count_2000_price_2500', 'cafe_count_2000|bulvar_ring_km', 'cafe_count_2000|detention_facility_km', 'cafe_count_2000|state', 'cafe_count_2000|big_road1_km', 'kitch_sq|cafe_count_5000_price_2500', 'kitch_sq|cafe_count_5000_price_1500', 'kitch_sq|sport_count_3000', 'kitch_sq|sport_count_2000', 'kitch_sq|cafe_count_5000', 'kitch_sq|zd_vokzaly_avto_km', 'kitch_sq|life_sq_per_room', 'kitch_sq|cafe_count_2000_price_1000', 'kitch_sq|cafe_count_1500_price_2500', 'kitch_sq|build_year', 'kitch_sq|swim_pool_km', 'kitch_sq|office_sqm_5000', 'kitch_sq|trc_count_5000', 'kitch_sq|metro_min_avto', 'kitch_sq|metro_km_walk', 'kitch_sq|floor', 'kitch_sq|nuclear_reactor_km', 'kitch_sq|metro_km_avto', 'kitch_sq|workplaces_km', 'kitch_sq|week_year_cnt', 'kitch_sq|max_floor', 'kitch_sq|life_sq_ratio', 'kitch_sq|cafe_count_3000_price_1500', 'kitch_sq|ttk_km', 'kitch_sq|green_zone_km', 'kitch_sq|trc_count_3000', 'kitch_sq|metro_min_walk', 'kitch_sq|cafe_count_5000_price_1000', 'kitch_sq|year', 'kitch_sq|market_shop_km', 'kitch_sq|month_year_cnt', 'kitch_sq|year_old', 'kitch_sq|cafe_count_3000_price_500', 'kitch_sq|cafe_count_2000_price_2500', 'kitch_sq|bulvar_ring_km', 'kitch_sq|detention_facility_km', 'kitch_sq|state', 'kitch_sq|big_road1_km', 'cafe_count_5000_price_2500|cafe_count_5000_price_1500', 'cafe_count_5000_price_2500|sport_count_3000', 'cafe_count_5000_price_2500|sport_count_2000', 'cafe_count_5000_price_2500|cafe_count_5000', 'cafe_count_5000_price_2500|zd_vokzaly_avto_km', 'cafe_count_5000_price_2500|life_sq_per_room', 'cafe_count_5000_price_2500|cafe_count_2000_price_1000', 'cafe_count_5000_price_2500|cafe_count_1500_price_2500', 'cafe_count_5000_price_2500|build_year', 'cafe_count_5000_price_2500|swim_pool_km', 'cafe_count_5000_price_2500|office_sqm_5000', 'cafe_count_5000_price_2500|trc_count_5000', 'cafe_count_5000_price_2500|metro_min_avto', 'cafe_count_5000_price_2500|metro_km_walk', 'cafe_count_5000_price_2500|floor', 'cafe_count_5000_price_2500|nuclear_reactor_km', 'cafe_count_5000_price_2500|metro_km_avto', 'cafe_count_5000_price_2500|workplaces_km', 'cafe_count_5000_price_2500|week_year_cnt', 'cafe_count_5000_price_2500|max_floor', 'cafe_count_5000_price_2500|life_sq_ratio', 'cafe_count_5000_price_2500|cafe_count_3000_price_1500', 'cafe_count_5000_price_2500|ttk_km', 'cafe_count_5000_price_2500|green_zone_km', 'cafe_count_5000_price_2500|trc_count_3000', 'cafe_count_5000_price_2500|metro_min_walk', 'cafe_count_5000_price_2500|cafe_count_5000_price_1000', 'cafe_count_5000_price_2500|year', 'cafe_count_5000_price_2500|market_shop_km', 'cafe_count_5000_price_2500|month_year_cnt', 'cafe_count_5000_price_2500|year_old', 'cafe_count_5000_price_2500|cafe_count_3000_price_500', 'cafe_count_5000_price_2500|cafe_count_2000_price_2500', 'cafe_count_5000_price_2500|bulvar_ring_km', 'cafe_count_5000_price_2500|detention_facility_km', 'cafe_count_5000_price_2500|state', 'cafe_count_5000_price_2500|big_road1_km', 'cafe_count_5000_price_1500|sport_count_3000', 'cafe_count_5000_price_1500|sport_count_2000', 'cafe_count_5000_price_1500|cafe_count_5000', 'cafe_count_5000_price_1500|zd_vokzaly_avto_km', 'cafe_count_5000_price_1500|life_sq_per_room', 'cafe_count_5000_price_1500|cafe_count_2000_price_1000', 'cafe_count_5000_price_1500|cafe_count_1500_price_2500', 'cafe_count_5000_price_1500|build_year', 'cafe_count_5000_price_1500|swim_pool_km', 'cafe_count_5000_price_1500|office_sqm_5000', 'cafe_count_5000_price_1500|trc_count_5000', 'cafe_count_5000_price_1500|metro_min_avto', 'cafe_count_5000_price_1500|metro_km_walk', 'cafe_count_5000_price_1500|floor', 'cafe_count_5000_price_1500|nuclear_reactor_km', 'cafe_count_5000_price_1500|metro_km_avto', 'cafe_count_5000_price_1500|workplaces_km', 'cafe_count_5000_price_1500|week_year_cnt', 'cafe_count_5000_price_1500|max_floor', 'cafe_count_5000_price_1500|life_sq_ratio', 'cafe_count_5000_price_1500|cafe_count_3000_price_1500', 'cafe_count_5000_price_1500|ttk_km', 'cafe_count_5000_price_1500|green_zone_km', 'cafe_count_5000_price_1500|trc_count_3000', 'cafe_count_5000_price_1500|metro_min_walk', 'cafe_count_5000_price_1500|cafe_count_5000_price_1000', 'cafe_count_5000_price_1500|year', 'cafe_count_5000_price_1500|market_shop_km', 'cafe_count_5000_price_1500|month_year_cnt', 'cafe_count_5000_price_1500|year_old', 'cafe_count_5000_price_1500|cafe_count_3000_price_500', 'cafe_count_5000_price_1500|cafe_count_2000_price_2500', 'cafe_count_5000_price_1500|bulvar_ring_km', 'cafe_count_5000_price_1500|detention_facility_km', 'cafe_count_5000_price_1500|state', 'cafe_count_5000_price_1500|big_road1_km', 'sport_count_3000|sport_count_2000', 'sport_count_3000|cafe_count_5000', 'sport_count_3000|zd_vokzaly_avto_km', 'sport_count_3000|life_sq_per_room', 'sport_count_3000|cafe_count_2000_price_1000', 'sport_count_3000|cafe_count_1500_price_2500', 'sport_count_3000|build_year', 'sport_count_3000|swim_pool_km', 'sport_count_3000|office_sqm_5000', 'sport_count_3000|trc_count_5000', 'sport_count_3000|metro_min_avto', 'sport_count_3000|metro_km_walk', 'sport_count_3000|floor', 'sport_count_3000|nuclear_reactor_km', 'sport_count_3000|metro_km_avto', 'sport_count_3000|workplaces_km', 'sport_count_3000|week_year_cnt', 'sport_count_3000|max_floor', 'sport_count_3000|life_sq_ratio', 'sport_count_3000|cafe_count_3000_price_1500', 'sport_count_3000|ttk_km', 'sport_count_3000|green_zone_km', 'sport_count_3000|trc_count_3000', 'sport_count_3000|metro_min_walk', 'sport_count_3000|cafe_count_5000_price_1000', 'sport_count_3000|year', 'sport_count_3000|market_shop_km', 'sport_count_3000|month_year_cnt', 'sport_count_3000|year_old', 'sport_count_3000|cafe_count_3000_price_500', 'sport_count_3000|cafe_count_2000_price_2500', 'sport_count_3000|bulvar_ring_km', 'sport_count_3000|detention_facility_km', 'sport_count_3000|state', 'sport_count_3000|big_road1_km', 'sport_count_2000|cafe_count_5000', 'sport_count_2000|zd_vokzaly_avto_km', 'sport_count_2000|life_sq_per_room', 'sport_count_2000|cafe_count_2000_price_1000', 'sport_count_2000|cafe_count_1500_price_2500', 'sport_count_2000|build_year', 'sport_count_2000|swim_pool_km', 'sport_count_2000|office_sqm_5000', 'sport_count_2000|trc_count_5000', 'sport_count_2000|metro_min_avto', 'sport_count_2000|metro_km_walk', 'sport_count_2000|floor', 'sport_count_2000|nuclear_reactor_km', 'sport_count_2000|metro_km_avto', 'sport_count_2000|workplaces_km', 'sport_count_2000|week_year_cnt', 'sport_count_2000|max_floor', 'sport_count_2000|life_sq_ratio', 'sport_count_2000|cafe_count_3000_price_1500', 'sport_count_2000|ttk_km', 'sport_count_2000|green_zone_km', 'sport_count_2000|trc_count_3000', 'sport_count_2000|metro_min_walk', 'sport_count_2000|cafe_count_5000_price_1000', 'sport_count_2000|year', 'sport_count_2000|market_shop_km', 'sport_count_2000|month_year_cnt', 'sport_count_2000|year_old', 'sport_count_2000|cafe_count_3000_price_500', 'sport_count_2000|cafe_count_2000_price_2500', 'sport_count_2000|bulvar_ring_km', 'sport_count_2000|detention_facility_km', 'sport_count_2000|state', 'sport_count_2000|big_road1_km', 'cafe_count_5000|zd_vokzaly_avto_km', 'cafe_count_5000|life_sq_per_room', 'cafe_count_5000|cafe_count_2000_price_1000', 'cafe_count_5000|cafe_count_1500_price_2500', 'cafe_count_5000|build_year', 'cafe_count_5000|swim_pool_km', 'cafe_count_5000|office_sqm_5000', 'cafe_count_5000|trc_count_5000', 'cafe_count_5000|metro_min_avto', 'cafe_count_5000|metro_km_walk', 'cafe_count_5000|floor', 'cafe_count_5000|nuclear_reactor_km', 'cafe_count_5000|metro_km_avto', 'cafe_count_5000|workplaces_km', 'cafe_count_5000|week_year_cnt', 'cafe_count_5000|max_floor', 'cafe_count_5000|life_sq_ratio', 'cafe_count_5000|cafe_count_3000_price_1500', 'cafe_count_5000|ttk_km', 'cafe_count_5000|green_zone_km', 'cafe_count_5000|trc_count_3000', 'cafe_count_5000|metro_min_walk', 'cafe_count_5000|cafe_count_5000_price_1000', 'cafe_count_5000|year', 'cafe_count_5000|market_shop_km', 'cafe_count_5000|month_year_cnt', 'cafe_count_5000|year_old', 'cafe_count_5000|cafe_count_3000_price_500', 'cafe_count_5000|cafe_count_2000_price_2500', 'cafe_count_5000|bulvar_ring_km', 'cafe_count_5000|detention_facility_km', 'cafe_count_5000|state', 'cafe_count_5000|big_road1_km', 'zd_vokzaly_avto_km|life_sq_per_room', 'zd_vokzaly_avto_km|cafe_count_2000_price_1000', 'zd_vokzaly_avto_km|cafe_count_1500_price_2500', 'zd_vokzaly_avto_km|build_year', 'zd_vokzaly_avto_km|swim_pool_km', 'zd_vokzaly_avto_km|office_sqm_5000', 'zd_vokzaly_avto_km|trc_count_5000', 'zd_vokzaly_avto_km|metro_min_avto', 'zd_vokzaly_avto_km|metro_km_walk', 'zd_vokzaly_avto_km|floor', 'zd_vokzaly_avto_km|nuclear_reactor_km', 'zd_vokzaly_avto_km|metro_km_avto', 'zd_vokzaly_avto_km|workplaces_km', 'zd_vokzaly_avto_km|week_year_cnt', 'zd_vokzaly_avto_km|max_floor', 'zd_vokzaly_avto_km|life_sq_ratio', 'zd_vokzaly_avto_km|cafe_count_3000_price_1500', 'zd_vokzaly_avto_km|ttk_km', 'zd_vokzaly_avto_km|green_zone_km', 'zd_vokzaly_avto_km|trc_count_3000', 'zd_vokzaly_avto_km|metro_min_walk', 'zd_vokzaly_avto_km|cafe_count_5000_price_1000', 'zd_vokzaly_avto_km|year', 'zd_vokzaly_avto_km|market_shop_km', 'zd_vokzaly_avto_km|month_year_cnt', 'zd_vokzaly_avto_km|year_old', 'zd_vokzaly_avto_km|cafe_count_3000_price_500', 'zd_vokzaly_avto_km|cafe_count_2000_price_2500', 'zd_vokzaly_avto_km|bulvar_ring_km', 'zd_vokzaly_avto_km|detention_facility_km', 'zd_vokzaly_avto_km|state', 'zd_vokzaly_avto_km|big_road1_km', 'life_sq_per_room|cafe_count_2000_price_1000', 'life_sq_per_room|cafe_count_1500_price_2500', 'life_sq_per_room|build_year', 'life_sq_per_room|swim_pool_km', 'life_sq_per_room|office_sqm_5000', 'life_sq_per_room|trc_count_5000', 'life_sq_per_room|metro_min_avto', 'life_sq_per_room|metro_km_walk', 'life_sq_per_room|floor', 'life_sq_per_room|nuclear_reactor_km', 'life_sq_per_room|metro_km_avto', 'life_sq_per_room|workplaces_km', 'life_sq_per_room|week_year_cnt', 'life_sq_per_room|max_floor', 'life_sq_per_room|life_sq_ratio', 'life_sq_per_room|cafe_count_3000_price_1500', 'life_sq_per_room|ttk_km', 'life_sq_per_room|green_zone_km', 'life_sq_per_room|trc_count_3000', 'life_sq_per_room|metro_min_walk', 'life_sq_per_room|cafe_count_5000_price_1000', 'life_sq_per_room|year', 'life_sq_per_room|market_shop_km', 'life_sq_per_room|month_year_cnt', 'life_sq_per_room|year_old', 'life_sq_per_room|cafe_count_3000_price_500', 'life_sq_per_room|cafe_count_2000_price_2500', 'life_sq_per_room|bulvar_ring_km', 'life_sq_per_room|detention_facility_km', 'life_sq_per_room|state', 'life_sq_per_room|big_road1_km', 'cafe_count_2000_price_1000|cafe_count_1500_price_2500', 'cafe_count_2000_price_1000|build_year', 'cafe_count_2000_price_1000|swim_pool_km', 'cafe_count_2000_price_1000|office_sqm_5000', 'cafe_count_2000_price_1000|trc_count_5000', 'cafe_count_2000_price_1000|metro_min_avto', 'cafe_count_2000_price_1000|metro_km_walk', 'cafe_count_2000_price_1000|floor', 'cafe_count_2000_price_1000|nuclear_reactor_km', 'cafe_count_2000_price_1000|metro_km_avto', 'cafe_count_2000_price_1000|workplaces_km', 'cafe_count_2000_price_1000|week_year_cnt', 'cafe_count_2000_price_1000|max_floor', 'cafe_count_2000_price_1000|life_sq_ratio', 'cafe_count_2000_price_1000|cafe_count_3000_price_1500', 'cafe_count_2000_price_1000|ttk_km', 'cafe_count_2000_price_1000|green_zone_km', 'cafe_count_2000_price_1000|trc_count_3000', 'cafe_count_2000_price_1000|metro_min_walk', 'cafe_count_2000_price_1000|cafe_count_5000_price_1000', 'cafe_count_2000_price_1000|year', 'cafe_count_2000_price_1000|market_shop_km', 'cafe_count_2000_price_1000|month_year_cnt', 'cafe_count_2000_price_1000|year_old', 'cafe_count_2000_price_1000|cafe_count_3000_price_500', 'cafe_count_2000_price_1000|cafe_count_2000_price_2500', 'cafe_count_2000_price_1000|bulvar_ring_km', 'cafe_count_2000_price_1000|detention_facility_km', 'cafe_count_2000_price_1000|state', 'cafe_count_2000_price_1000|big_road1_km', 'cafe_count_1500_price_2500|build_year', 'cafe_count_1500_price_2500|swim_pool_km', 'cafe_count_1500_price_2500|office_sqm_5000', 'cafe_count_1500_price_2500|trc_count_5000', 'cafe_count_1500_price_2500|metro_min_avto', 'cafe_count_1500_price_2500|metro_km_walk', 'cafe_count_1500_price_2500|floor', 'cafe_count_1500_price_2500|nuclear_reactor_km', 'cafe_count_1500_price_2500|metro_km_avto', 'cafe_count_1500_price_2500|workplaces_km', 'cafe_count_1500_price_2500|week_year_cnt', 'cafe_count_1500_price_2500|max_floor', 'cafe_count_1500_price_2500|life_sq_ratio', 'cafe_count_1500_price_2500|cafe_count_3000_price_1500', 'cafe_count_1500_price_2500|ttk_km', 'cafe_count_1500_price_2500|green_zone_km', 'cafe_count_1500_price_2500|trc_count_3000', 'cafe_count_1500_price_2500|metro_min_walk', 'cafe_count_1500_price_2500|cafe_count_5000_price_1000', 'cafe_count_1500_price_2500|year', 'cafe_count_1500_price_2500|market_shop_km', 'cafe_count_1500_price_2500|month_year_cnt', 'cafe_count_1500_price_2500|year_old', 'cafe_count_1500_price_2500|cafe_count_3000_price_500', 'cafe_count_1500_price_2500|cafe_count_2000_price_2500', 'cafe_count_1500_price_2500|bulvar_ring_km', 'cafe_count_1500_price_2500|detention_facility_km', 'cafe_count_1500_price_2500|state', 'cafe_count_1500_price_2500|big_road1_km', 'build_year|swim_pool_km', 'build_year|office_sqm_5000', 'build_year|trc_count_5000', 'build_year|metro_min_avto', 'build_year|metro_km_walk', 'build_year|floor', 'build_year|nuclear_reactor_km', 'build_year|metro_km_avto', 'build_year|workplaces_km', 'build_year|week_year_cnt', 'build_year|max_floor', 'build_year|life_sq_ratio', 'build_year|cafe_count_3000_price_1500', 'build_year|ttk_km', 'build_year|green_zone_km', 'build_year|trc_count_3000', 'build_year|metro_min_walk', 'build_year|cafe_count_5000_price_1000', 'build_year|year', 'build_year|market_shop_km', 'build_year|month_year_cnt', 'build_year|year_old', 'build_year|cafe_count_3000_price_500', 'build_year|cafe_count_2000_price_2500', 'build_year|bulvar_ring_km', 'build_year|detention_facility_km', 'build_year|state', 'build_year|big_road1_km', 'swim_pool_km|office_sqm_5000', 'swim_pool_km|trc_count_5000', 'swim_pool_km|metro_min_avto', 'swim_pool_km|metro_km_walk', 'swim_pool_km|floor', 'swim_pool_km|nuclear_reactor_km', 'swim_pool_km|metro_km_avto', 'swim_pool_km|workplaces_km', 'swim_pool_km|week_year_cnt', 'swim_pool_km|max_floor', 'swim_pool_km|life_sq_ratio', 'swim_pool_km|cafe_count_3000_price_1500', 'swim_pool_km|ttk_km', 'swim_pool_km|green_zone_km', 'swim_pool_km|trc_count_3000', 'swim_pool_km|metro_min_walk', 'swim_pool_km|cafe_count_5000_price_1000', 'swim_pool_km|year', 'swim_pool_km|market_shop_km', 'swim_pool_km|month_year_cnt', 'swim_pool_km|year_old', 'swim_pool_km|cafe_count_3000_price_500', 'swim_pool_km|cafe_count_2000_price_2500', 'swim_pool_km|bulvar_ring_km', 'swim_pool_km|detention_facility_km', 'swim_pool_km|state', 'swim_pool_km|big_road1_km', 'office_sqm_5000|trc_count_5000', 'office_sqm_5000|metro_min_avto', 'office_sqm_5000|metro_km_walk', 'office_sqm_5000|floor', 'office_sqm_5000|nuclear_reactor_km', 'office_sqm_5000|metro_km_avto', 'office_sqm_5000|workplaces_km', 'office_sqm_5000|week_year_cnt', 'office_sqm_5000|max_floor', 'office_sqm_5000|life_sq_ratio', 'office_sqm_5000|cafe_count_3000_price_1500', 'office_sqm_5000|ttk_km', 'office_sqm_5000|green_zone_km', 'office_sqm_5000|trc_count_3000', 'office_sqm_5000|metro_min_walk', 'office_sqm_5000|cafe_count_5000_price_1000', 'office_sqm_5000|year', 'office_sqm_5000|market_shop_km', 'office_sqm_5000|month_year_cnt', 'office_sqm_5000|year_old', 'office_sqm_5000|cafe_count_3000_price_500', 'office_sqm_5000|cafe_count_2000_price_2500', 'office_sqm_5000|bulvar_ring_km', 'office_sqm_5000|detention_facility_km', 'office_sqm_5000|state', 'office_sqm_5000|big_road1_km', 'trc_count_5000|metro_min_avto', 'trc_count_5000|metro_km_walk', 'trc_count_5000|floor', 'trc_count_5000|nuclear_reactor_km', 'trc_count_5000|metro_km_avto', 'trc_count_5000|workplaces_km', 'trc_count_5000|week_year_cnt', 'trc_count_5000|max_floor', 'trc_count_5000|life_sq_ratio', 'trc_count_5000|cafe_count_3000_price_1500', 'trc_count_5000|ttk_km', 'trc_count_5000|green_zone_km', 'trc_count_5000|trc_count_3000', 'trc_count_5000|metro_min_walk', 'trc_count_5000|cafe_count_5000_price_1000', 'trc_count_5000|year', 'trc_count_5000|market_shop_km', 'trc_count_5000|month_year_cnt', 'trc_count_5000|year_old', 'trc_count_5000|cafe_count_3000_price_500', 'trc_count_5000|cafe_count_2000_price_2500', 'trc_count_5000|bulvar_ring_km', 'trc_count_5000|detention_facility_km', 'trc_count_5000|state', 'trc_count_5000|big_road1_km', 'metro_min_avto|metro_km_walk', 'metro_min_avto|floor', 'metro_min_avto|nuclear_reactor_km', 'metro_min_avto|metro_km_avto', 'metro_min_avto|workplaces_km', 'metro_min_avto|week_year_cnt', 'metro_min_avto|max_floor', 'metro_min_avto|life_sq_ratio', 'metro_min_avto|cafe_count_3000_price_1500', 'metro_min_avto|ttk_km', 'metro_min_avto|green_zone_km', 'metro_min_avto|trc_count_3000', 'metro_min_avto|metro_min_walk', 'metro_min_avto|cafe_count_5000_price_1000', 'metro_min_avto|year', 'metro_min_avto|market_shop_km', 'metro_min_avto|month_year_cnt', 'metro_min_avto|year_old', 'metro_min_avto|cafe_count_3000_price_500', 'metro_min_avto|cafe_count_2000_price_2500', 'metro_min_avto|bulvar_ring_km', 'metro_min_avto|detention_facility_km', 'metro_min_avto|state', 'metro_min_avto|big_road1_km', 'metro_km_walk|floor', 'metro_km_walk|nuclear_reactor_km', 'metro_km_walk|metro_km_avto', 'metro_km_walk|workplaces_km', 'metro_km_walk|week_year_cnt', 'metro_km_walk|max_floor', 'metro_km_walk|life_sq_ratio', 'metro_km_walk|cafe_count_3000_price_1500', 'metro_km_walk|ttk_km', 'metro_km_walk|green_zone_km', 'metro_km_walk|trc_count_3000', 'metro_km_walk|metro_min_walk', 'metro_km_walk|cafe_count_5000_price_1000', 'metro_km_walk|year', 'metro_km_walk|market_shop_km', 'metro_km_walk|month_year_cnt', 'metro_km_walk|year_old', 'metro_km_walk|cafe_count_3000_price_500', 'metro_km_walk|cafe_count_2000_price_2500', 'metro_km_walk|bulvar_ring_km', 'metro_km_walk|detention_facility_km', 'metro_km_walk|state', 'metro_km_walk|big_road1_km', 'floor|nuclear_reactor_km', 'floor|metro_km_avto', 'floor|workplaces_km', 'floor|week_year_cnt', 'floor|max_floor', 'floor|life_sq_ratio', 'floor|cafe_count_3000_price_1500', 'floor|ttk_km', 'floor|green_zone_km', 'floor|trc_count_3000', 'floor|metro_min_walk', 'floor|cafe_count_5000_price_1000', 'floor|year', 'floor|market_shop_km', 'floor|month_year_cnt', 'floor|year_old', 'floor|cafe_count_3000_price_500', 'floor|cafe_count_2000_price_2500', 'floor|bulvar_ring_km', 'floor|detention_facility_km', 'floor|state', 'floor|big_road1_km', 'nuclear_reactor_km|metro_km_avto', 'nuclear_reactor_km|workplaces_km', 'nuclear_reactor_km|week_year_cnt', 'nuclear_reactor_km|max_floor', 'nuclear_reactor_km|life_sq_ratio', 'nuclear_reactor_km|cafe_count_3000_price_1500', 'nuclear_reactor_km|ttk_km', 'nuclear_reactor_km|green_zone_km', 'nuclear_reactor_km|trc_count_3000', 'nuclear_reactor_km|metro_min_walk', 'nuclear_reactor_km|cafe_count_5000_price_1000', 'nuclear_reactor_km|year', 'nuclear_reactor_km|market_shop_km', 'nuclear_reactor_km|month_year_cnt', 'nuclear_reactor_km|year_old', 'nuclear_reactor_km|cafe_count_3000_price_500', 'nuclear_reactor_km|cafe_count_2000_price_2500', 'nuclear_reactor_km|bulvar_ring_km', 'nuclear_reactor_km|detention_facility_km', 'nuclear_reactor_km|state', 'nuclear_reactor_km|big_road1_km', 'metro_km_avto|workplaces_km', 'metro_km_avto|week_year_cnt', 'metro_km_avto|max_floor', 'metro_km_avto|life_sq_ratio', 'metro_km_avto|cafe_count_3000_price_1500', 'metro_km_avto|ttk_km', 'metro_km_avto|green_zone_km', 'metro_km_avto|trc_count_3000', 'metro_km_avto|metro_min_walk', 'metro_km_avto|cafe_count_5000_price_1000', 'metro_km_avto|year', 'metro_km_avto|market_shop_km', 'metro_km_avto|month_year_cnt', 'metro_km_avto|year_old', 'metro_km_avto|cafe_count_3000_price_500', 'metro_km_avto|cafe_count_2000_price_2500', 'metro_km_avto|bulvar_ring_km', 'metro_km_avto|detention_facility_km', 'metro_km_avto|state', 'metro_km_avto|big_road1_km', 'workplaces_km|week_year_cnt', 'workplaces_km|max_floor', 'workplaces_km|life_sq_ratio', 'workplaces_km|cafe_count_3000_price_1500', 'workplaces_km|ttk_km', 'workplaces_km|green_zone_km', 'workplaces_km|trc_count_3000', 'workplaces_km|metro_min_walk', 'workplaces_km|cafe_count_5000_price_1000', 'workplaces_km|year', 'workplaces_km|market_shop_km', 'workplaces_km|month_year_cnt', 'workplaces_km|year_old', 'workplaces_km|cafe_count_3000_price_500', 'workplaces_km|cafe_count_2000_price_2500', 'workplaces_km|bulvar_ring_km', 'workplaces_km|detention_facility_km', 'workplaces_km|state', 'workplaces_km|big_road1_km', 'week_year_cnt|max_floor', 'week_year_cnt|life_sq_ratio', 'week_year_cnt|cafe_count_3000_price_1500', 'week_year_cnt|ttk_km', 'week_year_cnt|green_zone_km', 'week_year_cnt|trc_count_3000', 'week_year_cnt|metro_min_walk', 'week_year_cnt|cafe_count_5000_price_1000', 'week_year_cnt|year', 'week_year_cnt|market_shop_km', 'week_year_cnt|month_year_cnt', 'week_year_cnt|year_old', 'week_year_cnt|cafe_count_3000_price_500', 'week_year_cnt|cafe_count_2000_price_2500', 'week_year_cnt|bulvar_ring_km', 'week_year_cnt|detention_facility_km', 'week_year_cnt|state', 'week_year_cnt|big_road1_km', 'max_floor|life_sq_ratio', 'max_floor|cafe_count_3000_price_1500', 'max_floor|ttk_km', 'max_floor|green_zone_km', 'max_floor|trc_count_3000', 'max_floor|metro_min_walk', 'max_floor|cafe_count_5000_price_1000', 'max_floor|year', 'max_floor|market_shop_km', 'max_floor|month_year_cnt', 'max_floor|year_old', 'max_floor|cafe_count_3000_price_500', 'max_floor|cafe_count_2000_price_2500', 'max_floor|bulvar_ring_km', 'max_floor|detention_facility_km', 'max_floor|state', 'max_floor|big_road1_km', 'life_sq_ratio|cafe_count_3000_price_1500', 'life_sq_ratio|ttk_km', 'life_sq_ratio|green_zone_km', 'life_sq_ratio|trc_count_3000', 'life_sq_ratio|metro_min_walk', 'life_sq_ratio|cafe_count_5000_price_1000', 'life_sq_ratio|year', 'life_sq_ratio|market_shop_km', 'life_sq_ratio|month_year_cnt', 'life_sq_ratio|year_old', 'life_sq_ratio|cafe_count_3000_price_500', 'life_sq_ratio|cafe_count_2000_price_2500', 'life_sq_ratio|bulvar_ring_km', 'life_sq_ratio|detention_facility_km', 'life_sq_ratio|state', 'life_sq_ratio|big_road1_km', 'cafe_count_3000_price_1500|ttk_km', 'cafe_count_3000_price_1500|green_zone_km', 'cafe_count_3000_price_1500|trc_count_3000', 'cafe_count_3000_price_1500|metro_min_walk', 'cafe_count_3000_price_1500|cafe_count_5000_price_1000', 'cafe_count_3000_price_1500|year', 'cafe_count_3000_price_1500|market_shop_km', 'cafe_count_3000_price_1500|month_year_cnt', 'cafe_count_3000_price_1500|year_old', 'cafe_count_3000_price_1500|cafe_count_3000_price_500', 'cafe_count_3000_price_1500|cafe_count_2000_price_2500', 'cafe_count_3000_price_1500|bulvar_ring_km', 'cafe_count_3000_price_1500|detention_facility_km', 'cafe_count_3000_price_1500|state', 'cafe_count_3000_price_1500|big_road1_km', 'ttk_km|green_zone_km', 'ttk_km|trc_count_3000', 'ttk_km|metro_min_walk', 'ttk_km|cafe_count_5000_price_1000', 'ttk_km|year', 'ttk_km|market_shop_km', 'ttk_km|month_year_cnt', 'ttk_km|year_old', 'ttk_km|cafe_count_3000_price_500', 'ttk_km|cafe_count_2000_price_2500', 'ttk_km|bulvar_ring_km', 'ttk_km|detention_facility_km', 'ttk_km|state', 'ttk_km|big_road1_km', 'green_zone_km|trc_count_3000', 'green_zone_km|metro_min_walk', 'green_zone_km|cafe_count_5000_price_1000', 'green_zone_km|year', 'green_zone_km|market_shop_km', 'green_zone_km|month_year_cnt', 'green_zone_km|year_old', 'green_zone_km|cafe_count_3000_price_500', 'green_zone_km|cafe_count_2000_price_2500', 'green_zone_km|bulvar_ring_km', 'green_zone_km|detention_facility_km', 'green_zone_km|state', 'green_zone_km|big_road1_km', 'trc_count_3000|metro_min_walk', 'trc_count_3000|cafe_count_5000_price_1000', 'trc_count_3000|year', 'trc_count_3000|market_shop_km', 'trc_count_3000|month_year_cnt', 'trc_count_3000|year_old', 'trc_count_3000|cafe_count_3000_price_500', 'trc_count_3000|cafe_count_2000_price_2500', 'trc_count_3000|bulvar_ring_km', 'trc_count_3000|detention_facility_km', 'trc_count_3000|state', 'trc_count_3000|big_road1_km', 'metro_min_walk|cafe_count_5000_price_1000', 'metro_min_walk|year', 'metro_min_walk|market_shop_km', 'metro_min_walk|month_year_cnt', 'metro_min_walk|year_old', 'metro_min_walk|cafe_count_3000_price_500', 'metro_min_walk|cafe_count_2000_price_2500', 'metro_min_walk|bulvar_ring_km', 'metro_min_walk|detention_facility_km', 'metro_min_walk|state', 'metro_min_walk|big_road1_km', 'cafe_count_5000_price_1000|year', 'cafe_count_5000_price_1000|market_shop_km', 'cafe_count_5000_price_1000|month_year_cnt', 'cafe_count_5000_price_1000|year_old', 'cafe_count_5000_price_1000|cafe_count_3000_price_500', 'cafe_count_5000_price_1000|cafe_count_2000_price_2500', 'cafe_count_5000_price_1000|bulvar_ring_km', 'cafe_count_5000_price_1000|detention_facility_km', 'cafe_count_5000_price_1000|state', 'cafe_count_5000_price_1000|big_road1_km', 'year|market_shop_km', 'year|month_year_cnt', 'year|year_old', 'year|cafe_count_3000_price_500', 'year|cafe_count_2000_price_2500', 'year|bulvar_ring_km', 'year|detention_facility_km', 'year|state', 'year|big_road1_km', 'market_shop_km|month_year_cnt', 'market_shop_km|year_old', 'market_shop_km|cafe_count_3000_price_500', 'market_shop_km|cafe_count_2000_price_2500', 'market_shop_km|bulvar_ring_km', 'market_shop_km|detention_facility_km', 'market_shop_km|state', 'market_shop_km|big_road1_km', 'month_year_cnt|year_old', 'month_year_cnt|cafe_count_3000_price_500', 'month_year_cnt|cafe_count_2000_price_2500', 'month_year_cnt|bulvar_ring_km', 'month_year_cnt|detention_facility_km', 'month_year_cnt|state', 'month_year_cnt|big_road1_km', 'year_old|cafe_count_3000_price_500', 'year_old|cafe_count_2000_price_2500', 'year_old|bulvar_ring_km', 'year_old|detention_facility_km', 'year_old|state', 'year_old|big_road1_km', 'cafe_count_3000_price_500|cafe_count_2000_price_2500', 'cafe_count_3000_price_500|bulvar_ring_km', 'cafe_count_3000_price_500|detention_facility_km', 'cafe_count_3000_price_500|state', 'cafe_count_3000_price_500|big_road1_km', 'cafe_count_2000_price_2500|bulvar_ring_km', 'cafe_count_2000_price_2500|detention_facility_km', 'cafe_count_2000_price_2500|state', 'cafe_count_2000_price_2500|big_road1_km', 'bulvar_ring_km|detention_facility_km', 'bulvar_ring_km|state', 'bulvar_ring_km|big_road1_km', 'detention_facility_km|state', 'detention_facility_km|big_road1_km', 'state|big_road1_km']\n",
      "\n",
      "Categorical = ['product_type', 'sub_area', 'culture_objects_top_25', 'thermal_power_plant_raion', 'incineration_raion', 'oil_chemistry_raion', 'radiation_raion', 'railroad_terminal_raion', 'big_market_raion', 'nuclear_reactor_raion', 'detention_facility_raion', 'water_1line', 'big_road1_1line', 'railroad_1line', 'ecology']\n"
     ]
    }
   ],
   "source": [
    "encoded_combined_nums, cats = get_type_lists(frame=train)"
   ]
  },
  {
   "cell_type": "code",
   "execution_count": null,
   "metadata": {
    "collapsed": false
   },
   "outputs": [],
   "source": [
    "#encoded_combined_nums"
   ]
  },
  {
   "cell_type": "code",
   "execution_count": null,
   "metadata": {
    "collapsed": true
   },
   "outputs": [],
   "source": [
    "newtrain_df = train.as_data_frame()\n",
    "newvalid_df = valid.as_data_frame()\n",
    "newtest_df = test.as_data_frame()"
   ]
  },
  {
   "cell_type": "code",
   "execution_count": null,
   "metadata": {
    "collapsed": false
   },
   "outputs": [],
   "source": [
    "#newtest_df.head()"
   ]
  },
  {
   "cell_type": "code",
   "execution_count": null,
   "metadata": {
    "collapsed": true
   },
   "outputs": [],
   "source": [
    "newvalid_df.to_csv('/Users/zwang/GWU/Kaggle/Housing_Mkt/data/newvalid.csv')\n",
    "newtrain_df.to_csv('/Users/zwang/GWU/Kaggle/Housing_Mkt/data/newtrain.csv')\n",
    "newtest_df.to_csv('/Users/zwang/GWU/Kaggle/Housing_Mkt/data/newtest.csv')"
   ]
  },
  {
   "cell_type": "markdown",
   "metadata": {},
   "source": [
    "#### Function to generate submission file"
   ]
  },
  {
   "cell_type": "code",
   "execution_count": 37,
   "metadata": {
    "collapsed": true
   },
   "outputs": [],
   "source": [
    "import re\n",
    "import time\n",
    "\n",
    "def gen_submission(preds, test=test):\n",
    "    # create time stamp\n",
    "    time_stamp = re.sub('[: ]', '_', time.asctime())\n",
    "\n",
    "    # create predictions column\n",
    "    sub = test['id'].cbind(preds.exp())\n",
    "    sub.columns = ['id', 'price_doc']\n",
    "    \n",
    "    # save file for submission\n",
    "    sub_fname = wd+'/submission_' + str(time_stamp) + '.csv'\n",
    "    h2o.download_csv(sub, sub_fname)\n",
    "    return sub"
   ]
  },
  {
   "cell_type": "markdown",
   "metadata": {},
   "source": [
    "### Native XGBoost"
   ]
  },
  {
   "cell_type": "code",
   "execution_count": null,
   "metadata": {
    "collapsed": false
   },
   "outputs": [],
   "source": [
    "\n",
    "ave_y = train['price_doc'].mean()[0] ###\n",
    "\n",
    "# XGBoost uses SVMLight data structure, not Numpy arrays or Pandas data frames \n",
    "dtrain1 = xgb.DMatrix(train.as_data_frame()[encoded_combined_nums],\n",
    "                      train.as_data_frame()['price_doc'], feature_names = encoded_combined_nums) ###\n",
    "dvalid1 = xgb.DMatrix(valid.as_data_frame()[encoded_combined_nums],\n",
    "                      valid.as_data_frame()['price_doc'], feature_names = encoded_combined_nums)\n",
    "dtest = xgb.DMatrix(test.as_data_frame()[encoded_combined_nums], feature_names = encoded_combined_nums)\n",
    "\n"
   ]
  },
  {
   "cell_type": "code",
   "execution_count": null,
   "metadata": {
    "collapsed": false,
    "scrolled": true
   },
   "outputs": [],
   "source": [
    "# tuning parameters\n",
    "params1 = {\n",
    "    'objective': 'reg:linear',\n",
    "    'booster': 'gbtree', \n",
    "    'eval_metric': 'rmse',\n",
    "    'eta': 0.005,\n",
    "    'subsample': 0.1, \n",
    "    'colsample_bytree': 0.8,\n",
    "    'max_depth': 5,\n",
    "    'reg_alpha' : 0.007,\n",
    "    'reg_lambda' : 0.0,\n",
    "    'base_score': ave_y,\n",
    "    'silent': 0,\n",
    "    'seed': 12345,\n",
    "}\n",
    "\n",
    "# watchlist is used for early stopping\n",
    "watchlist = [(dtrain1, 'train'), (dvalid1, 'eval')]\n",
    "\n",
    "# train model\n",
    "xgb_model1 = xgb.train(params1, \n",
    "                       dtrain1, \n",
    "                       10000,\n",
    "                       evals=watchlist, \n",
    "                       early_stopping_rounds=50,   ###\n",
    "                       verbose_eval=True)\n",
    "\n",
    "num_boost_round = xgb_model1.best_iteration\n",
    "\n",
    "# create assessment stats and submission file\n",
    "#xgb_preds1_val = h2o.H2OFrame(xgb_model1.predict(dvalid1).tolist())\n",
    "#ranked_preds_plot('price_log', valid, xgb_preds1_val) \n",
    "#xgb_preds1_test = h2o.H2OFrame(xgb_model1.predict(dtest).tolist())\n",
    "#gen_submission(xgb_preds1_test) \n"
   ]
  },
  {
   "cell_type": "code",
   "execution_count": null,
   "metadata": {
    "collapsed": true
   },
   "outputs": [],
   "source": [
    "#[820]\ttrain-rmse:0.437213\n",
    "#0.33717 public leaderborad"
   ]
  },
  {
   "cell_type": "code",
   "execution_count": null,
   "metadata": {
    "collapsed": false
   },
   "outputs": [],
   "source": [
    "\n",
    "xgb_preds1_val = h2o.H2OFrame(xgb_model1.predict(dvalid1).tolist())\n",
    "#ranked_preds_plot('SalePrice', valid, xgb_preds1_val) \n",
    "xgb_preds1_test = h2o.H2OFrame(xgb_model1.predict(dtest).tolist())\n",
    "gen_submission(xgb_preds1_test)\n"
   ]
  },
  {
   "cell_type": "markdown",
   "metadata": {
    "collapsed": true
   },
   "source": [
    "### H2O Random forest model"
   ]
  },
  {
   "cell_type": "code",
   "execution_count": 46,
   "metadata": {
    "collapsed": false
   },
   "outputs": [
    {
     "name": "stdout",
     "output_type": "stream",
     "text": [
      "Model Details\n",
      "=============\n",
      "H2ORandomForestEstimator :  Distributed Random Forest\n",
      "Model Key:  rf_model\n",
      "\n",
      "\n",
      "ModelMetricsRegression: drf\n",
      "** Reported on train data. **\n",
      "\n",
      "MSE: 0.21087304405913812\n",
      "RMSE: 0.45920915067008206\n",
      "MAE: 0.27613661006642737\n",
      "RMSLE: 0.028566875822818125\n",
      "Mean Residual Deviance: 0.21087304405913812\n",
      "\n",
      "ModelMetricsRegression: drf\n",
      "** Reported on validation data. **\n",
      "\n",
      "MSE: 0.23449870284470417\n",
      "RMSE: 0.4842506611711585\n",
      "MAE: 0.2894006744590209\n",
      "RMSLE: 0.030241798287013122\n",
      "Mean Residual Deviance: 0.23449870284470417\n",
      "\n",
      "ModelMetricsRegression: drf\n",
      "** Reported on cross-validation data. **\n",
      "\n",
      "MSE: 0.21293312784770813\n",
      "RMSE: 0.4614467768309885\n",
      "MAE: 0.2784887450090397\n",
      "RMSLE: 0.028698655098503615\n",
      "Mean Residual Deviance: 0.21293312784770813\n",
      "Cross-Validation Metrics Summary: \n"
     ]
    },
    {
     "data": {
      "text/html": [
       "<div style=\"overflow:auto\"><table style=\"width:50%\"><tr><td><b></b></td>\n",
       "<td><b>mean</b></td>\n",
       "<td><b>sd</b></td>\n",
       "<td><b>cv_1_valid</b></td>\n",
       "<td><b>cv_2_valid</b></td>\n",
       "<td><b>cv_3_valid</b></td></tr>\n",
       "<tr><td>mae</td>\n",
       "<td>0.2784825</td>\n",
       "<td>0.0024481</td>\n",
       "<td>0.2767853</td>\n",
       "<td>0.2833084</td>\n",
       "<td>0.2753539</td></tr>\n",
       "<tr><td>mean_residual_deviance</td>\n",
       "<td>0.2129385</td>\n",
       "<td>0.0050979</td>\n",
       "<td>0.2047048</td>\n",
       "<td>0.222263</td>\n",
       "<td>0.2118476</td></tr>\n",
       "<tr><td>mse</td>\n",
       "<td>0.2129385</td>\n",
       "<td>0.0050979</td>\n",
       "<td>0.2047048</td>\n",
       "<td>0.222263</td>\n",
       "<td>0.2118476</td></tr>\n",
       "<tr><td>r2</td>\n",
       "<td>0.4106753</td>\n",
       "<td>0.0097938</td>\n",
       "<td>0.4302433</td>\n",
       "<td>0.4016493</td>\n",
       "<td>0.4001332</td></tr>\n",
       "<tr><td>residual_deviance</td>\n",
       "<td>0.2129385</td>\n",
       "<td>0.0050979</td>\n",
       "<td>0.2047048</td>\n",
       "<td>0.222263</td>\n",
       "<td>0.2118476</td></tr>\n",
       "<tr><td>rmse</td>\n",
       "<td>0.4613867</td>\n",
       "<td>0.0055146</td>\n",
       "<td>0.4524431</td>\n",
       "<td>0.4714478</td>\n",
       "<td>0.4602691</td></tr>\n",
       "<tr><td>rmsle</td>\n",
       "<td>0.0286947</td>\n",
       "<td>0.0003535</td>\n",
       "<td>0.0281247</td>\n",
       "<td>0.0293419</td>\n",
       "<td>0.0286173</td></tr></table></div>"
      ],
      "text/plain": [
       "                        mean       sd           cv_1_valid    cv_2_valid    cv_3_valid\n",
       "----------------------  ---------  -----------  ------------  ------------  ------------\n",
       "mae                     0.278483   0.00244807   0.276785      0.283308      0.275354\n",
       "mean_residual_deviance  0.212938   0.00509788   0.204705      0.222263      0.211848\n",
       "mse                     0.212938   0.00509788   0.204705      0.222263      0.211848\n",
       "r2                      0.410675   0.00979379   0.430243      0.401649      0.400133\n",
       "residual_deviance       0.212938   0.00509788   0.204705      0.222263      0.211848\n",
       "rmse                    0.461387   0.00551455   0.452443      0.471448      0.460269\n",
       "rmsle                   0.0286947  0.000353519  0.0281247     0.0293419     0.0286173"
      ]
     },
     "metadata": {},
     "output_type": "display_data"
    },
    {
     "name": "stdout",
     "output_type": "stream",
     "text": [
      "Scoring History: \n"
     ]
    },
    {
     "data": {
      "text/html": [
       "<div style=\"overflow:auto\"><table style=\"width:50%\"><tr><td><b></b></td>\n",
       "<td><b>timestamp</b></td>\n",
       "<td><b>duration</b></td>\n",
       "<td><b>number_of_trees</b></td>\n",
       "<td><b>training_rmse</b></td>\n",
       "<td><b>training_mae</b></td>\n",
       "<td><b>training_deviance</b></td>\n",
       "<td><b>validation_rmse</b></td>\n",
       "<td><b>validation_mae</b></td>\n",
       "<td><b>validation_deviance</b></td></tr>\n",
       "<tr><td></td>\n",
       "<td>2017-06-22 15:06:20</td>\n",
       "<td>14 min 46.189 sec</td>\n",
       "<td>0.0</td>\n",
       "<td>nan</td>\n",
       "<td>nan</td>\n",
       "<td>nan</td>\n",
       "<td>nan</td>\n",
       "<td>nan</td>\n",
       "<td>nan</td></tr>\n",
       "<tr><td></td>\n",
       "<td>2017-06-22 15:06:22</td>\n",
       "<td>14 min 47.625 sec</td>\n",
       "<td>1.0</td>\n",
       "<td>0.5178954</td>\n",
       "<td>0.3036241</td>\n",
       "<td>0.2682157</td>\n",
       "<td>0.5583581</td>\n",
       "<td>0.3278889</td>\n",
       "<td>0.3117638</td></tr>\n",
       "<tr><td></td>\n",
       "<td>2017-06-22 15:06:23</td>\n",
       "<td>14 min 48.982 sec</td>\n",
       "<td>2.0</td>\n",
       "<td>0.5182218</td>\n",
       "<td>0.3087735</td>\n",
       "<td>0.2685539</td>\n",
       "<td>0.5217345</td>\n",
       "<td>0.3123916</td>\n",
       "<td>0.2722069</td></tr>\n",
       "<tr><td></td>\n",
       "<td>2017-06-22 15:06:25</td>\n",
       "<td>14 min 50.372 sec</td>\n",
       "<td>3.0</td>\n",
       "<td>0.5172782</td>\n",
       "<td>0.3093072</td>\n",
       "<td>0.2675767</td>\n",
       "<td>0.5107986</td>\n",
       "<td>0.3075538</td>\n",
       "<td>0.2609152</td></tr>\n",
       "<tr><td></td>\n",
       "<td>2017-06-22 15:06:26</td>\n",
       "<td>14 min 51.852 sec</td>\n",
       "<td>4.0</td>\n",
       "<td>0.5091419</td>\n",
       "<td>0.3040594</td>\n",
       "<td>0.2592255</td>\n",
       "<td>0.5022548</td>\n",
       "<td>0.3024393</td>\n",
       "<td>0.2522599</td></tr>\n",
       "<tr><td>---</td>\n",
       "<td>---</td>\n",
       "<td>---</td>\n",
       "<td>---</td>\n",
       "<td>---</td>\n",
       "<td>---</td>\n",
       "<td>---</td>\n",
       "<td>---</td>\n",
       "<td>---</td>\n",
       "<td>---</td></tr>\n",
       "<tr><td></td>\n",
       "<td>2017-06-22 15:11:10</td>\n",
       "<td>19 min 35.961 sec</td>\n",
       "<td>188.0</td>\n",
       "<td>0.4592928</td>\n",
       "<td>0.2761169</td>\n",
       "<td>0.2109499</td>\n",
       "<td>0.4842389</td>\n",
       "<td>0.2893335</td>\n",
       "<td>0.2344873</td></tr>\n",
       "<tr><td></td>\n",
       "<td>2017-06-22 15:11:12</td>\n",
       "<td>19 min 37.862 sec</td>\n",
       "<td>189.0</td>\n",
       "<td>0.4592529</td>\n",
       "<td>0.2760998</td>\n",
       "<td>0.2109132</td>\n",
       "<td>0.4842403</td>\n",
       "<td>0.2893458</td>\n",
       "<td>0.2344887</td></tr>\n",
       "<tr><td></td>\n",
       "<td>2017-06-22 15:11:14</td>\n",
       "<td>19 min 39.684 sec</td>\n",
       "<td>190.0</td>\n",
       "<td>0.4592347</td>\n",
       "<td>0.2760900</td>\n",
       "<td>0.2108965</td>\n",
       "<td>0.4842411</td>\n",
       "<td>0.2893501</td>\n",
       "<td>0.2344895</td></tr>\n",
       "<tr><td></td>\n",
       "<td>2017-06-22 15:11:16</td>\n",
       "<td>19 min 41.433 sec</td>\n",
       "<td>191.0</td>\n",
       "<td>0.4592300</td>\n",
       "<td>0.2761295</td>\n",
       "<td>0.2108922</td>\n",
       "<td>0.4842573</td>\n",
       "<td>0.2893847</td>\n",
       "<td>0.2345052</td></tr>\n",
       "<tr><td></td>\n",
       "<td>2017-06-22 15:11:17</td>\n",
       "<td>19 min 43.314 sec</td>\n",
       "<td>192.0</td>\n",
       "<td>0.4592092</td>\n",
       "<td>0.2761366</td>\n",
       "<td>0.2108730</td>\n",
       "<td>0.4842507</td>\n",
       "<td>0.2894007</td>\n",
       "<td>0.2344987</td></tr></table></div>"
      ],
      "text/plain": [
       "     timestamp            duration           number_of_trees    training_rmse        training_mae         training_deviance    validation_rmse      validation_mae       validation_deviance\n",
       "---  -------------------  -----------------  -----------------  -------------------  -------------------  -------------------  -------------------  -------------------  ---------------------\n",
       "     2017-06-22 15:06:20  14 min 46.189 sec  0.0                nan                  nan                  nan                  nan                  nan                  nan\n",
       "     2017-06-22 15:06:22  14 min 47.625 sec  1.0                0.5178954160881923   0.3036240979920082   0.26821566200516184  0.5583581346708384   0.3278889382119066   0.3117638065530981\n",
       "     2017-06-22 15:06:23  14 min 48.982 sec  2.0                0.5182218308566368   0.3087735487215094   0.2685538659764046   0.521734482724495    0.3123916397266862   0.2722068704637963\n",
       "     2017-06-22 15:06:25  14 min 50.372 sec  3.0                0.5172782014939084   0.30930717388333345  0.26757673774077245  0.5107985657712348   0.3075538309245495   0.26091517479395054\n",
       "     2017-06-22 15:06:26  14 min 51.852 sec  4.0                0.5091418818651667   0.30405943769066474  0.2592254558692034   0.5022547942009384   0.30243927422741185  0.252259878297827\n",
       "---  ---                  ---                ---                ---                  ---                  ---                  ---                  ---                  ---\n",
       "     2017-06-22 15:11:10  19 min 35.961 sec  188.0              0.45929280139793466  0.27611692828628465  0.21094987741596266  0.4842389037571543   0.2893335109485693   0.23448731591193053\n",
       "     2017-06-22 15:11:12  19 min 37.862 sec  189.0              0.45925285764356527  0.27609980181939525  0.21091318725378083  0.48424032404582223  0.2893458313628167   0.23448869143200293\n",
       "     2017-06-22 15:11:14  19 min 39.684 sec  190.0              0.4592347259383081   0.2760900098611648   0.21089653350763296  0.48424111757495675  0.28935010388091476  0.23448945995024306\n",
       "     2017-06-22 15:11:16  19 min 41.433 sec  191.0              0.45922998797197406  0.2761295025205749   0.21089218185273945  0.4842573204398406   0.2893847179310518   0.23450515239957445\n",
       "     2017-06-22 15:11:17  19 min 43.314 sec  192.0              0.45920915067008206  0.27613661006642737  0.21087304405913812  0.4842506611711585   0.2894006744590209   0.23449870284470417"
      ]
     },
     "metadata": {},
     "output_type": "display_data"
    },
    {
     "name": "stdout",
     "output_type": "stream",
     "text": [
      "\n",
      "See the whole table with table.as_data_frame()\n",
      "Variable Importances: \n"
     ]
    },
    {
     "data": {
      "text/html": [
       "<div style=\"overflow:auto\"><table style=\"width:50%\"><tr><td><b>variable</b></td>\n",
       "<td><b>relative_importance</b></td>\n",
       "<td><b>scaled_importance</b></td>\n",
       "<td><b>percentage</b></td></tr>\n",
       "<tr><td>full_sq|sub_area_Tencode</td>\n",
       "<td>49747.6484375</td>\n",
       "<td>1.0</td>\n",
       "<td>0.0722210</td></tr>\n",
       "<tr><td>full_sq</td>\n",
       "<td>28770.9921875</td>\n",
       "<td>0.5783387</td>\n",
       "<td>0.0417682</td></tr>\n",
       "<tr><td>num_room|full_sq_per_room</td>\n",
       "<td>27223.4707031</td>\n",
       "<td>0.5472313</td>\n",
       "<td>0.0395216</td></tr>\n",
       "<tr><td>sub_area_Tencode|life_sq</td>\n",
       "<td>26808.5039062</td>\n",
       "<td>0.5388899</td>\n",
       "<td>0.0389192</td></tr>\n",
       "<tr><td>full_sq|build_year</td>\n",
       "<td>26386.6425781</td>\n",
       "<td>0.5304098</td>\n",
       "<td>0.0383068</td></tr>\n",
       "<tr><td>---</td>\n",
       "<td>---</td>\n",
       "<td>---</td>\n",
       "<td>---</td></tr>\n",
       "<tr><td>cafe_count_5000_price_2500|office_sqm_5000</td>\n",
       "<td>7.4723792</td>\n",
       "<td>0.0001502</td>\n",
       "<td>0.0000108</td></tr>\n",
       "<tr><td>cafe_count_3000|cafe_count_2000_price_2500</td>\n",
       "<td>4.7895188</td>\n",
       "<td>0.0000963</td>\n",
       "<td>0.0000070</td></tr>\n",
       "<tr><td>cafe_count_3000_price_1500</td>\n",
       "<td>2.7974470</td>\n",
       "<td>0.0000562</td>\n",
       "<td>0.0000041</td></tr>\n",
       "<tr><td>incineration_raion_Tencode</td>\n",
       "<td>1.7595201</td>\n",
       "<td>0.0000354</td>\n",
       "<td>0.0000026</td></tr>\n",
       "<tr><td>oil_chemistry_raion_Tencode</td>\n",
       "<td>0.0</td>\n",
       "<td>0.0</td>\n",
       "<td>0.0</td></tr></table></div>"
      ],
      "text/plain": [
       "variable                                    relative_importance    scaled_importance       percentage\n",
       "------------------------------------------  ---------------------  ----------------------  ----------------------\n",
       "full_sq|sub_area_Tencode                    49747.6484375          1.0                     0.07222104253856686\n",
       "full_sq                                     28770.9921875          0.5783387374308993      0.041768226557698025\n",
       "num_room|full_sq_per_room                   27223.470703125        0.5472313075727983      0.03952161554265063\n",
       "sub_area_Tencode|life_sq                    26808.50390625         0.5388898721500498      0.0389191883801516\n",
       "full_sq|build_year                          26386.642578125        0.5304098466337683      0.03830675209661211\n",
       "---                                         ---                    ---                     ---\n",
       "cafe_count_5000_price_2500|office_sqm_5000  7.472379207611084      0.00015020567689745052  1.0848010580745002e-05\n",
       "cafe_count_3000|cafe_count_2000_price_2500  4.7895188331604        9.627628608772671e-05   6.953173752996943e-06\n",
       "cafe_count_3000_price_1500                  2.7974469661712646     5.62327477586365e-05    4.061187667936987e-06\n",
       "incineration_raion_Tencode                  1.7595200538635254     3.5368909066608087e-05  2.5543794862422057e-06\n",
       "oil_chemistry_raion_Tencode                 0.0                    0.0                     0.0"
      ]
     },
     "metadata": {},
     "output_type": "display_data"
    },
    {
     "name": "stdout",
     "output_type": "stream",
     "text": [
      "\n",
      "See the whole table with table.as_data_frame()\n",
      "\n"
     ]
    }
   ],
   "source": [
    "# initialize rf model\n",
    "rf_model1 = H2ORandomForestEstimator(\n",
    "    ntrees=10000,                    \n",
    "    max_depth=10, \n",
    "    col_sample_rate_per_tree=0.1,\n",
    "    sample_rate=0.8,\n",
    "    stopping_rounds=50,\n",
    "    score_each_iteration=True,\n",
    "    nfolds=3,\n",
    "    keep_cross_validation_predictions=True,\n",
    "    model_id = 'rf_model',\n",
    "    seed=12345)           \n",
    "\n",
    "# train rf model\n",
    "rf_model1.train(\n",
    "    x=encoded_combined_nums,\n",
    "    y='price_doc',\n",
    "    training_frame=train,\n",
    "    validation_frame=valid)\n",
    "\n",
    "# print model information\n",
    "print(rf_model1)\n",
    "\n",
    "#rf_preds1_val = rf_model1.predict(valid)\n",
    "#ranked_preds_plot('price_doc', valid, rf_preds1_val) # valid RMSE not so hot ...\n",
    "#rf_preds1_test = rf_model1.predict(test)\n",
    "#gen_submission(rf_preds1_test) \n",
    "\n",
    "#Training RMSE: 0.4592090940116257"
   ]
  },
  {
   "cell_type": "code",
   "execution_count": null,
   "metadata": {
    "collapsed": false
   },
   "outputs": [],
   "source": [
    "# save the model\n",
    "model_path = h2o.save_model(model=rf_model1, path=\"/Users/zwang/GWU/Kaggle/Housing_Mkt/mymodel\", force=True)"
   ]
  },
  {
   "cell_type": "code",
   "execution_count": 47,
   "metadata": {
    "collapsed": false
   },
   "outputs": [
    {
     "data": {
      "text/html": [
       "<table>\n",
       "<thead>\n",
       "<tr><th style=\"text-align: right;\">  price_doc</th><th style=\"text-align: right;\">  predict</th></tr>\n",
       "</thead>\n",
       "<tbody>\n",
       "<tr><td style=\"text-align: right;\">    16.3881</td><td style=\"text-align: right;\">  16.1366</td></tr>\n",
       "<tr><td style=\"text-align: right;\">    14.5087</td><td style=\"text-align: right;\">  15.4027</td></tr>\n",
       "<tr><td style=\"text-align: right;\">    14.5087</td><td style=\"text-align: right;\">  15.3107</td></tr>\n",
       "<tr><td style=\"text-align: right;\">    14.4307</td><td style=\"text-align: right;\">  15.4668</td></tr>\n",
       "<tr><td style=\"text-align: right;\">    15.6561</td><td style=\"text-align: right;\">  15.3474</td></tr>\n",
       "<tr><td style=\"text-align: right;\">    15.8824</td><td style=\"text-align: right;\">  15.5021</td></tr>\n",
       "<tr><td style=\"text-align: right;\">    15.4642</td><td style=\"text-align: right;\">  15.3713</td></tr>\n",
       "<tr><td style=\"text-align: right;\">    15.5905</td><td style=\"text-align: right;\">  15.2444</td></tr>\n",
       "<tr><td style=\"text-align: right;\">    16.7224</td><td style=\"text-align: right;\">  15.9588</td></tr>\n",
       "<tr><td style=\"text-align: right;\">    15.556 </td><td style=\"text-align: right;\">  15.2885</td></tr>\n",
       "</tbody>\n",
       "</table>"
      ]
     },
     "metadata": {},
     "output_type": "display_data"
    },
    {
     "name": "stdout",
     "output_type": "stream",
     "text": [
      "\n"
     ]
    },
    {
     "data": {
      "image/png": "[encoded data removed]",
      "text/plain": [
       "<matplotlib.figure.Figure at 0x17bcde550>"
      ]
     },
     "metadata": {},
     "output_type": "display_data"
    }
   ],
   "source": [
    "rf_preds1_val = rf_model1.predict(valid)\n",
    "ranked_preds_plot('price_doc', valid, rf_preds1_val) # valid RMSE not so hot ...\n",
    "rf_preds1_test = rf_model1.predict(test)"
   ]
  },
  {
   "cell_type": "code",
   "execution_count": null,
   "metadata": {
    "collapsed": false
   },
   "outputs": [],
   "source": [
    "rf_preds1_val = rf_model1.predict(valid)\n",
    "ranked_preds_plot('price_doc', valid, rf_preds1_val) # valid RMSE not so hot ...\n",
    "rf_preds1_test = rf_model1.predict(test)\n",
    "gen_submission(rf_preds1_test) \n",
    "#  public leaderboard"
   ]
  },
  {
   "cell_type": "markdown",
   "metadata": {
    "collapsed": true
   },
   "source": [
    "### H2O Extremely random trees model"
   ]
  },
  {
   "cell_type": "code",
   "execution_count": 48,
   "metadata": {
    "collapsed": false,
    "scrolled": true
   },
   "outputs": [
    {
     "name": "stdout",
     "output_type": "stream",
     "text": [
      "Model Details\n",
      "=============\n",
      "H2ORandomForestEstimator :  Distributed Random Forest\n",
      "Model Key:  ert_model\n",
      "\n",
      "\n",
      "ModelMetricsRegression: drf\n",
      "** Reported on train data. **\n",
      "\n",
      "MSE: 0.21107960001361667\n",
      "RMSE: 0.45943399962738574\n",
      "MAE: 0.27654776705068884\n",
      "RMSLE: 0.028580307840361925\n",
      "Mean Residual Deviance: 0.21107960001361667\n",
      "\n",
      "ModelMetricsRegression: drf\n",
      "** Reported on validation data. **\n",
      "\n",
      "MSE: 0.23437853710589307\n",
      "RMSE: 0.4841265713694024\n",
      "MAE: 0.28896246561435573\n",
      "RMSLE: 0.030236003635527673\n",
      "Mean Residual Deviance: 0.23437853710589307\n",
      "\n",
      "ModelMetricsRegression: drf\n",
      "** Reported on cross-validation data. **\n",
      "\n",
      "MSE: 0.21319674094337507\n",
      "RMSE: 0.46173232607580666\n",
      "MAE: 0.27932796062363346\n",
      "RMSLE: 0.028715964136247513\n",
      "Mean Residual Deviance: 0.21319674094337507\n",
      "Cross-Validation Metrics Summary: \n"
     ]
    },
    {
     "data": {
      "text/html": [
       "<div style=\"overflow:auto\"><table style=\"width:50%\"><tr><td><b></b></td>\n",
       "<td><b>mean</b></td>\n",
       "<td><b>sd</b></td>\n",
       "<td><b>cv_1_valid</b></td>\n",
       "<td><b>cv_2_valid</b></td>\n",
       "<td><b>cv_3_valid</b></td></tr>\n",
       "<tr><td>mae</td>\n",
       "<td>0.2793229</td>\n",
       "<td>0.0024786</td>\n",
       "<td>0.2772179</td>\n",
       "<td>0.2842621</td>\n",
       "<td>0.2764887</td></tr>\n",
       "<tr><td>mean_residual_deviance</td>\n",
       "<td>0.2132017</td>\n",
       "<td>0.0054635</td>\n",
       "<td>0.2045259</td>\n",
       "<td>0.2232927</td>\n",
       "<td>0.2117864</td></tr>\n",
       "<tr><td>mse</td>\n",
       "<td>0.2132017</td>\n",
       "<td>0.0054635</td>\n",
       "<td>0.2045259</td>\n",
       "<td>0.2232927</td>\n",
       "<td>0.2117864</td></tr>\n",
       "<tr><td>r2</td>\n",
       "<td>0.4099749</td>\n",
       "<td>0.0103913</td>\n",
       "<td>0.4307411</td>\n",
       "<td>0.3988771</td>\n",
       "<td>0.4003065</td></tr>\n",
       "<tr><td>residual_deviance</td>\n",
       "<td>0.2132017</td>\n",
       "<td>0.0054635</td>\n",
       "<td>0.2045259</td>\n",
       "<td>0.2232927</td>\n",
       "<td>0.2117864</td></tr>\n",
       "<tr><td>rmse</td>\n",
       "<td>0.4616622</td>\n",
       "<td>0.0059034</td>\n",
       "<td>0.4522454</td>\n",
       "<td>0.4725386</td>\n",
       "<td>0.4602026</td></tr>\n",
       "<tr><td>rmsle</td>\n",
       "<td>0.0287113</td>\n",
       "<td>0.0003768</td>\n",
       "<td>0.0281135</td>\n",
       "<td>0.0294076</td>\n",
       "<td>0.0286129</td></tr></table></div>"
      ],
      "text/plain": [
       "                        mean       sd           cv_1_valid    cv_2_valid    cv_3_valid\n",
       "----------------------  ---------  -----------  ------------  ------------  ------------\n",
       "mae                     0.279323   0.00247857   0.277218      0.284262      0.276489\n",
       "mean_residual_deviance  0.213202   0.00546354   0.204526      0.223293      0.211786\n",
       "mse                     0.213202   0.00546354   0.204526      0.223293      0.211786\n",
       "r2                      0.409975   0.0103913    0.430741      0.398877      0.400307\n",
       "residual_deviance       0.213202   0.00546354   0.204526      0.223293      0.211786\n",
       "rmse                    0.461662   0.00590343   0.452245      0.472539      0.460203\n",
       "rmsle                   0.0287113  0.000376798  0.0281135     0.0294076     0.0286129"
      ]
     },
     "metadata": {},
     "output_type": "display_data"
    },
    {
     "name": "stdout",
     "output_type": "stream",
     "text": [
      "Scoring History: \n"
     ]
    },
    {
     "data": {
      "text/html": [
       "<div style=\"overflow:auto\"><table style=\"width:50%\"><tr><td><b></b></td>\n",
       "<td><b>timestamp</b></td>\n",
       "<td><b>duration</b></td>\n",
       "<td><b>number_of_trees</b></td>\n",
       "<td><b>training_rmse</b></td>\n",
       "<td><b>training_mae</b></td>\n",
       "<td><b>training_deviance</b></td>\n",
       "<td><b>validation_rmse</b></td>\n",
       "<td><b>validation_mae</b></td>\n",
       "<td><b>validation_deviance</b></td></tr>\n",
       "<tr><td></td>\n",
       "<td>2017-06-22 15:28:31</td>\n",
       "<td>16 min 22.818 sec</td>\n",
       "<td>0.0</td>\n",
       "<td>nan</td>\n",
       "<td>nan</td>\n",
       "<td>nan</td>\n",
       "<td>nan</td>\n",
       "<td>nan</td>\n",
       "<td>nan</td></tr>\n",
       "<tr><td></td>\n",
       "<td>2017-06-22 15:28:33</td>\n",
       "<td>16 min 24.479 sec</td>\n",
       "<td>1.0</td>\n",
       "<td>0.5142457</td>\n",
       "<td>0.2979621</td>\n",
       "<td>0.2644486</td>\n",
       "<td>0.5746864</td>\n",
       "<td>0.3359816</td>\n",
       "<td>0.3302645</td></tr>\n",
       "<tr><td></td>\n",
       "<td>2017-06-22 15:28:35</td>\n",
       "<td>16 min 26.259 sec</td>\n",
       "<td>2.0</td>\n",
       "<td>0.5206384</td>\n",
       "<td>0.3068509</td>\n",
       "<td>0.2710643</td>\n",
       "<td>0.5228722</td>\n",
       "<td>0.3142846</td>\n",
       "<td>0.2733954</td></tr>\n",
       "<tr><td></td>\n",
       "<td>2017-06-22 15:28:37</td>\n",
       "<td>16 min 27.889 sec</td>\n",
       "<td>3.0</td>\n",
       "<td>0.5203004</td>\n",
       "<td>0.3055518</td>\n",
       "<td>0.2707125</td>\n",
       "<td>0.5116072</td>\n",
       "<td>0.3076641</td>\n",
       "<td>0.2617419</td></tr>\n",
       "<tr><td></td>\n",
       "<td>2017-06-22 15:28:38</td>\n",
       "<td>16 min 29.517 sec</td>\n",
       "<td>4.0</td>\n",
       "<td>0.5137737</td>\n",
       "<td>0.3026483</td>\n",
       "<td>0.2639634</td>\n",
       "<td>0.5036373</td>\n",
       "<td>0.3025331</td>\n",
       "<td>0.2536505</td></tr>\n",
       "<tr><td>---</td>\n",
       "<td>---</td>\n",
       "<td>---</td>\n",
       "<td>---</td>\n",
       "<td>---</td>\n",
       "<td>---</td>\n",
       "<td>---</td>\n",
       "<td>---</td>\n",
       "<td>---</td>\n",
       "<td>---</td></tr>\n",
       "<tr><td></td>\n",
       "<td>2017-06-22 15:34:21</td>\n",
       "<td>22 min 11.973 sec</td>\n",
       "<td>182.0</td>\n",
       "<td>0.4594992</td>\n",
       "<td>0.2765433</td>\n",
       "<td>0.2111395</td>\n",
       "<td>0.4841328</td>\n",
       "<td>0.2889640</td>\n",
       "<td>0.2343846</td></tr>\n",
       "<tr><td></td>\n",
       "<td>2017-06-22 15:34:23</td>\n",
       "<td>22 min 14.188 sec</td>\n",
       "<td>183.0</td>\n",
       "<td>0.4594692</td>\n",
       "<td>0.2765486</td>\n",
       "<td>0.2111119</td>\n",
       "<td>0.4841349</td>\n",
       "<td>0.2889510</td>\n",
       "<td>0.2343866</td></tr>\n",
       "<tr><td></td>\n",
       "<td>2017-06-22 15:34:25</td>\n",
       "<td>22 min 16.454 sec</td>\n",
       "<td>184.0</td>\n",
       "<td>0.4594544</td>\n",
       "<td>0.2765453</td>\n",
       "<td>0.2110984</td>\n",
       "<td>0.4841352</td>\n",
       "<td>0.2889644</td>\n",
       "<td>0.2343869</td></tr>\n",
       "<tr><td></td>\n",
       "<td>2017-06-22 15:34:27</td>\n",
       "<td>22 min 18.685 sec</td>\n",
       "<td>185.0</td>\n",
       "<td>0.4594623</td>\n",
       "<td>0.2765727</td>\n",
       "<td>0.2111056</td>\n",
       "<td>0.4841258</td>\n",
       "<td>0.2889705</td>\n",
       "<td>0.2343778</td></tr>\n",
       "<tr><td></td>\n",
       "<td>2017-06-22 15:34:30</td>\n",
       "<td>22 min 20.884 sec</td>\n",
       "<td>186.0</td>\n",
       "<td>0.4594340</td>\n",
       "<td>0.2765478</td>\n",
       "<td>0.2110796</td>\n",
       "<td>0.4841266</td>\n",
       "<td>0.2889625</td>\n",
       "<td>0.2343785</td></tr></table></div>"
      ],
      "text/plain": [
       "     timestamp            duration           number_of_trees    training_rmse        training_mae         training_deviance    validation_rmse      validation_mae       validation_deviance\n",
       "---  -------------------  -----------------  -----------------  -------------------  -------------------  -------------------  -------------------  -------------------  ---------------------\n",
       "     2017-06-22 15:28:31  16 min 22.818 sec  0.0                nan                  nan                  nan                  nan                  nan                  nan\n",
       "     2017-06-22 15:28:33  16 min 24.479 sec  1.0                0.5142456665890097   0.29796211759465074  0.2644486056055749   0.5746864024186125   0.3359816178807387   0.33026446112484736\n",
       "     2017-06-22 15:28:35  16 min 26.259 sec  2.0                0.5206383848971964   0.3068509130939341   0.27106432782836115  0.5228722411164022   0.31428455004942935  0.27339538053008905\n",
       "     2017-06-22 15:28:37  16 min 27.889 sec  3.0                0.5203003913873504   0.30555178541815853  0.27071249727783     0.5116072125060435   0.3076641346005493   0.26174193988820393\n",
       "     2017-06-22 15:28:38  16 min 29.517 sec  4.0                0.5137737048829513   0.30264827749426176  0.26396341982915394  0.5036372570457592   0.30253309201700895  0.2536504866845762\n",
       "---  ---                  ---                ---                ---                  ---                  ---                  ---                  ---                  ---\n",
       "     2017-06-22 15:34:21  22 min 11.973 sec  182.0              0.45949918529381245  0.2765433076603873   0.2111395012856774   0.4841328379277463   0.2889640224502361   0.23438460475997347\n",
       "     2017-06-22 15:34:23  22 min 14.188 sec  183.0              0.45946916133265214  0.27654855485546653  0.21111191021573072  0.48413486402480266  0.2889509567477896   0.23438656656431417\n",
       "     2017-06-22 15:34:25  22 min 16.454 sec  184.0              0.45945441373235074  0.27654531902056045  0.21109835829813814  0.4841351907384037   0.2889644134815767   0.23438688291131055\n",
       "     2017-06-22 15:34:27  22 min 18.685 sec  185.0              0.4594623186027158   0.27657274475568633  0.21110562221578352  0.4841258102531914   0.2889704914643239   0.23437780015330908\n",
       "     2017-06-22 15:34:30  22 min 20.884 sec  186.0              0.45943399962738574  0.27654776705068884  0.21107960001361667  0.4841265713694024   0.28896246561435573  0.23437853710589307"
      ]
     },
     "metadata": {},
     "output_type": "display_data"
    },
    {
     "name": "stdout",
     "output_type": "stream",
     "text": [
      "\n",
      "See the whole table with table.as_data_frame()\n",
      "Variable Importances: \n"
     ]
    },
    {
     "data": {
      "text/html": [
       "<div style=\"overflow:auto\"><table style=\"width:50%\"><tr><td><b>variable</b></td>\n",
       "<td><b>relative_importance</b></td>\n",
       "<td><b>scaled_importance</b></td>\n",
       "<td><b>percentage</b></td></tr>\n",
       "<tr><td>full_sq|sub_area_Tencode</td>\n",
       "<td>47048.2421875</td>\n",
       "<td>1.0</td>\n",
       "<td>0.0708147</td></tr>\n",
       "<tr><td>full_sq</td>\n",
       "<td>26953.7617188</td>\n",
       "<td>0.5728963</td>\n",
       "<td>0.0405695</td></tr>\n",
       "<tr><td>sub_area_Tencode|life_sq</td>\n",
       "<td>26175.9257812</td>\n",
       "<td>0.5563635</td>\n",
       "<td>0.0393987</td></tr>\n",
       "<tr><td>num_room|full_sq_per_room</td>\n",
       "<td>26114.1953125</td>\n",
       "<td>0.5550515</td>\n",
       "<td>0.0393058</td></tr>\n",
       "<tr><td>full_sq|build_year</td>\n",
       "<td>24003.9628906</td>\n",
       "<td>0.5101989</td>\n",
       "<td>0.0361296</td></tr>\n",
       "<tr><td>---</td>\n",
       "<td>---</td>\n",
       "<td>---</td>\n",
       "<td>---</td></tr>\n",
       "<tr><td>cafe_count_500_price_high</td>\n",
       "<td>6.1851797</td>\n",
       "<td>0.0001315</td>\n",
       "<td>0.0000093</td></tr>\n",
       "<tr><td>incineration_raion_Tencode</td>\n",
       "<td>5.7001019</td>\n",
       "<td>0.0001212</td>\n",
       "<td>0.0000086</td></tr>\n",
       "<tr><td>water_1line_Tencode</td>\n",
       "<td>5.1562023</td>\n",
       "<td>0.0001096</td>\n",
       "<td>0.0000078</td></tr>\n",
       "<tr><td>oil_chemistry_raion_Tencode</td>\n",
       "<td>3.0478532</td>\n",
       "<td>0.0000648</td>\n",
       "<td>0.0000046</td></tr>\n",
       "<tr><td>railroad_terminal_raion_Tencode</td>\n",
       "<td>2.2072501</td>\n",
       "<td>0.0000469</td>\n",
       "<td>0.0000033</td></tr></table></div>"
      ],
      "text/plain": [
       "variable                         relative_importance    scaled_importance       percentage\n",
       "-------------------------------  ---------------------  ----------------------  ----------------------\n",
       "full_sq|sub_area_Tencode         47048.2421875          1.0                     0.07081467004803269\n",
       "full_sq                          26953.76171875         0.5728962542602963      0.04056945921719673\n",
       "sub_area_Tencode|life_sq         26175.92578125         0.5563635231457074      0.039398699318324265\n",
       "num_room|full_sq_per_room        26114.1953125          0.5550514556617834      0.039305785692369435\n",
       "full_sq|build_year               24003.962890625        0.5101989314491857      0.03612956898943294\n",
       "---                              ---                    ---                     ---\n",
       "cafe_count_500_price_high        6.185179710388184      0.00013146462912978906  9.309624334813e-06\n",
       "incineration_raion_Tencode       5.700101852416992      0.00012115440635806415  8.579509311111587e-06\n",
       "water_1line_Tencode              5.15620231628418       0.00010959394180414469  7.760858828123803e-06\n",
       "oil_chemistry_raion_Tencode      3.0478532314300537     6.478144750410722e-05   4.587476830237304e-06\n",
       "railroad_terminal_raion_Tencode  2.2072501182556152     4.691461392880791e-05   3.3222429057993706e-06"
      ]
     },
     "metadata": {},
     "output_type": "display_data"
    },
    {
     "name": "stdout",
     "output_type": "stream",
     "text": [
      "\n",
      "See the whole table with table.as_data_frame()\n",
      "\n"
     ]
    }
   ],
   "source": [
    "# initialize extra trees model\n",
    "ert_model1 = H2ORandomForestEstimator(\n",
    "    ntrees=10000,                    \n",
    "    max_depth=10, \n",
    "    col_sample_rate_per_tree=0.1,\n",
    "    sample_rate=0.8,\n",
    "    stopping_rounds=50,\n",
    "    score_each_iteration=True,\n",
    "    nfolds=3,\n",
    "    keep_cross_validation_predictions=True,\n",
    "    seed=12345,\n",
    "    model_id='ert_model',\n",
    "    histogram_type='random') # <- this is what makes it ERT instead of RF\n",
    "\n",
    "# train ert model\n",
    "ert_model1.train(\n",
    "    x=encoded_combined_nums,\n",
    "    y='price_doc',\n",
    "    training_frame=train,\n",
    "    validation_frame=valid)\n",
    "\n",
    "# print model information/create submission\n",
    "print(ert_model1)\n",
    "\n",
    "#Training RMSE: 0.45943399962738574"
   ]
  },
  {
   "cell_type": "code",
   "execution_count": 49,
   "metadata": {
    "collapsed": true
   },
   "outputs": [],
   "source": [
    "# save the model\n",
    "model_path = h2o.save_model(model=ert_model1, path=\"/Users/zwang/GWU/Kaggle/Housing_Mkt/mymodel\", force=True)"
   ]
  },
  {
   "cell_type": "code",
   "execution_count": null,
   "metadata": {
    "collapsed": true
   },
   "outputs": [],
   "source": []
  },
  {
   "cell_type": "code",
   "execution_count": 50,
   "metadata": {
    "collapsed": false
   },
   "outputs": [
    {
     "data": {
      "text/html": [
       "<table>\n",
       "<thead>\n",
       "<tr><th style=\"text-align: right;\">  price_doc</th><th style=\"text-align: right;\">  predict</th></tr>\n",
       "</thead>\n",
       "<tbody>\n",
       "<tr><td style=\"text-align: right;\">    16.3881</td><td style=\"text-align: right;\">  16.1159</td></tr>\n",
       "<tr><td style=\"text-align: right;\">    14.5087</td><td style=\"text-align: right;\">  15.3653</td></tr>\n",
       "<tr><td style=\"text-align: right;\">    14.5087</td><td style=\"text-align: right;\">  15.3778</td></tr>\n",
       "<tr><td style=\"text-align: right;\">    14.4307</td><td style=\"text-align: right;\">  15.4822</td></tr>\n",
       "<tr><td style=\"text-align: right;\">    15.6561</td><td style=\"text-align: right;\">  15.3779</td></tr>\n",
       "<tr><td style=\"text-align: right;\">    15.8824</td><td style=\"text-align: right;\">  15.5099</td></tr>\n",
       "<tr><td style=\"text-align: right;\">    15.4642</td><td style=\"text-align: right;\">  15.3695</td></tr>\n",
       "<tr><td style=\"text-align: right;\">    15.5905</td><td style=\"text-align: right;\">  15.2449</td></tr>\n",
       "<tr><td style=\"text-align: right;\">    16.7224</td><td style=\"text-align: right;\">  15.9167</td></tr>\n",
       "<tr><td style=\"text-align: right;\">    15.556 </td><td style=\"text-align: right;\">  15.2741</td></tr>\n",
       "</tbody>\n",
       "</table>"
      ]
     },
     "metadata": {},
     "output_type": "display_data"
    },
    {
     "name": "stdout",
     "output_type": "stream",
     "text": [
      "\n"
     ]
    },
    {
     "data": {
      "text/html": [
       "<table>\n",
       "<thead>\n",
       "<tr><th style=\"text-align: right;\">   id</th><th style=\"text-align: right;\">  price_doc</th></tr>\n",
       "</thead>\n",
       "<tbody>\n",
       "<tr><td style=\"text-align: right;\">30474</td><td style=\"text-align: right;\">4.79363e+06</td></tr>\n",
       "<tr><td style=\"text-align: right;\">30475</td><td style=\"text-align: right;\">7.91118e+06</td></tr>\n",
       "<tr><td style=\"text-align: right;\">30476</td><td style=\"text-align: right;\">4.82013e+06</td></tr>\n",
       "<tr><td style=\"text-align: right;\">30477</td><td style=\"text-align: right;\">5.33236e+06</td></tr>\n",
       "<tr><td style=\"text-align: right;\">30478</td><td style=\"text-align: right;\">4.87335e+06</td></tr>\n",
       "<tr><td style=\"text-align: right;\">30479</td><td style=\"text-align: right;\">7.18906e+06</td></tr>\n",
       "<tr><td style=\"text-align: right;\">30480</td><td style=\"text-align: right;\">4.45144e+06</td></tr>\n",
       "<tr><td style=\"text-align: right;\">30481</td><td style=\"text-align: right;\">4.38338e+06</td></tr>\n",
       "<tr><td style=\"text-align: right;\">30482</td><td style=\"text-align: right;\">4.0125e+06 </td></tr>\n",
       "<tr><td style=\"text-align: right;\">30483</td><td style=\"text-align: right;\">4.75677e+06</td></tr>\n",
       "</tbody>\n",
       "</table>"
      ]
     },
     "metadata": {},
     "output_type": "display_data"
    },
    {
     "data": {
      "text/plain": []
     },
     "execution_count": 50,
     "metadata": {},
     "output_type": "execute_result"
    },
    {
     "data": {
      "image/png": "[encoded data removed]",
      "text/plain": [
       "<matplotlib.figure.Figure at 0x13f3eaa58>"
      ]
     },
     "metadata": {},
     "output_type": "display_data"
    }
   ],
   "source": [
    "ert_preds1_val = ert_model1.predict(valid)\n",
    "ranked_preds_plot('price_doc', valid, ert_preds1_val) # valid RMSE not so hot ...\n",
    "ert_preds1_test = ert_model1.predict(test)\n",
    "gen_submission(ert_preds1_test) \n",
    "\n",
    "#  public leaderboard"
   ]
  },
  {
   "cell_type": "markdown",
   "metadata": {},
   "source": [
    "### H2O GBM model"
   ]
  },
  {
   "cell_type": "code",
   "execution_count": 51,
   "metadata": {
    "collapsed": false
   },
   "outputs": [
    {
     "name": "stdout",
     "output_type": "stream",
     "text": [
      "Model Details\n",
      "=============\n",
      "H2OGradientBoostingEstimator :  Gradient Boosting Machine\n",
      "Model Key:  gbm_model\n",
      "\n",
      "\n",
      "ModelMetricsRegression: gbm\n",
      "** Reported on train data. **\n",
      "\n",
      "MSE: 0.15961218191269164\n",
      "RMSE: 0.3995149332787094\n",
      "MAE: 0.2388394995750151\n",
      "RMSLE: 0.02501694017566479\n",
      "Mean Residual Deviance: 0.15961218191269164\n",
      "\n",
      "ModelMetricsRegression: gbm\n",
      "** Reported on validation data. **\n",
      "\n",
      "MSE: 0.23021018433422347\n",
      "RMSE: 0.47980223460736765\n",
      "MAE: 0.28288788724725816\n",
      "RMSLE: 0.029981731806314655\n",
      "Mean Residual Deviance: 0.23021018433422347\n",
      "\n",
      "ModelMetricsRegression: gbm\n",
      "** Reported on cross-validation data. **\n",
      "\n",
      "MSE: 0.20891911569866078\n",
      "RMSE: 0.4570767065807016\n",
      "MAE: 0.2708378555290558\n",
      "RMSLE: 0.028451360713217543\n",
      "Mean Residual Deviance: 0.20891911569866078\n",
      "Cross-Validation Metrics Summary: \n"
     ]
    },
    {
     "data": {
      "text/html": [
       "<div style=\"overflow:auto\"><table style=\"width:50%\"><tr><td><b></b></td>\n",
       "<td><b>mean</b></td>\n",
       "<td><b>sd</b></td>\n",
       "<td><b>cv_1_valid</b></td>\n",
       "<td><b>cv_2_valid</b></td>\n",
       "<td><b>cv_3_valid</b></td></tr>\n",
       "<tr><td>mae</td>\n",
       "<td>0.2708321</td>\n",
       "<td>0.0020952</td>\n",
       "<td>0.2695125</td>\n",
       "<td>0.2749363</td>\n",
       "<td>0.2680475</td></tr>\n",
       "<tr><td>mean_residual_deviance</td>\n",
       "<td>0.2089223</td>\n",
       "<td>0.0048875</td>\n",
       "<td>0.2014072</td>\n",
       "<td>0.2180932</td>\n",
       "<td>0.2072666</td></tr>\n",
       "<tr><td>mse</td>\n",
       "<td>0.2089223</td>\n",
       "<td>0.0048875</td>\n",
       "<td>0.2014072</td>\n",
       "<td>0.2180932</td>\n",
       "<td>0.2072666</td></tr>\n",
       "<tr><td>r2</td>\n",
       "<td>0.4218004</td>\n",
       "<td>0.0088108</td>\n",
       "<td>0.4394215</td>\n",
       "<td>0.4128747</td>\n",
       "<td>0.4131049</td></tr>\n",
       "<tr><td>residual_deviance</td>\n",
       "<td>0.2089223</td>\n",
       "<td>0.0048875</td>\n",
       "<td>0.2014072</td>\n",
       "<td>0.2180932</td>\n",
       "<td>0.2072666</td></tr>\n",
       "<tr><td>rmse</td>\n",
       "<td>0.457018</td>\n",
       "<td>0.0053323</td>\n",
       "<td>0.4487841</td>\n",
       "<td>0.4670045</td>\n",
       "<td>0.4552654</td></tr>\n",
       "<tr><td>rmsle</td>\n",
       "<td>0.0284474</td>\n",
       "<td>0.0003444</td>\n",
       "<td>0.0279194</td>\n",
       "<td>0.0290946</td>\n",
       "<td>0.0283282</td></tr></table></div>"
      ],
      "text/plain": [
       "                        mean       sd           cv_1_valid    cv_2_valid    cv_3_valid\n",
       "----------------------  ---------  -----------  ------------  ------------  ------------\n",
       "mae                     0.270832   0.00209524   0.269512      0.274936      0.268047\n",
       "mean_residual_deviance  0.208922   0.00488747   0.201407      0.218093      0.207267\n",
       "mse                     0.208922   0.00488747   0.201407      0.218093      0.207267\n",
       "r2                      0.4218     0.00881082   0.439422      0.412875      0.413105\n",
       "residual_deviance       0.208922   0.00488747   0.201407      0.218093      0.207267\n",
       "rmse                    0.457018   0.00533228   0.448784      0.467004      0.455265\n",
       "rmsle                   0.0284474  0.000344444  0.0279194     0.0290946     0.0283282"
      ]
     },
     "metadata": {},
     "output_type": "display_data"
    },
    {
     "name": "stdout",
     "output_type": "stream",
     "text": [
      "Scoring History: \n"
     ]
    },
    {
     "data": {
      "text/html": [
       "<div style=\"overflow:auto\"><table style=\"width:50%\"><tr><td><b></b></td>\n",
       "<td><b>timestamp</b></td>\n",
       "<td><b>duration</b></td>\n",
       "<td><b>number_of_trees</b></td>\n",
       "<td><b>training_rmse</b></td>\n",
       "<td><b>training_mae</b></td>\n",
       "<td><b>training_deviance</b></td>\n",
       "<td><b>validation_rmse</b></td>\n",
       "<td><b>validation_mae</b></td>\n",
       "<td><b>validation_deviance</b></td></tr>\n",
       "<tr><td></td>\n",
       "<td>2017-06-22 15:52:45</td>\n",
       "<td>16 min 48.786 sec</td>\n",
       "<td>0.0</td>\n",
       "<td>0.6011072</td>\n",
       "<td>0.4210946</td>\n",
       "<td>0.3613298</td>\n",
       "<td>0.6125376</td>\n",
       "<td>0.4277439</td>\n",
       "<td>0.3752023</td></tr>\n",
       "<tr><td></td>\n",
       "<td>2017-06-22 15:52:48</td>\n",
       "<td>16 min 51.446 sec</td>\n",
       "<td>1.0</td>\n",
       "<td>0.5894260</td>\n",
       "<td>0.4110419</td>\n",
       "<td>0.3474230</td>\n",
       "<td>0.6023481</td>\n",
       "<td>0.4185538</td>\n",
       "<td>0.3628232</td></tr>\n",
       "<tr><td></td>\n",
       "<td>2017-06-22 15:52:53</td>\n",
       "<td>16 min 56.591 sec</td>\n",
       "<td>4.0</td>\n",
       "<td>0.5595245</td>\n",
       "<td>0.3845794</td>\n",
       "<td>0.3130677</td>\n",
       "<td>0.5760800</td>\n",
       "<td>0.3938475</td>\n",
       "<td>0.3318682</td></tr>\n",
       "<tr><td></td>\n",
       "<td>2017-06-22 15:52:58</td>\n",
       "<td>17 min  1.601 sec</td>\n",
       "<td>7.0</td>\n",
       "<td>0.5357907</td>\n",
       "<td>0.3633345</td>\n",
       "<td>0.2870716</td>\n",
       "<td>0.5556925</td>\n",
       "<td>0.3743028</td>\n",
       "<td>0.3087942</td></tr>\n",
       "<tr><td></td>\n",
       "<td>2017-06-22 15:53:03</td>\n",
       "<td>17 min  6.603 sec</td>\n",
       "<td>10.0</td>\n",
       "<td>0.5170506</td>\n",
       "<td>0.3460632</td>\n",
       "<td>0.2673414</td>\n",
       "<td>0.5398903</td>\n",
       "<td>0.3588344</td>\n",
       "<td>0.2914815</td></tr>\n",
       "<tr><td>---</td>\n",
       "<td>---</td>\n",
       "<td>---</td>\n",
       "<td>---</td>\n",
       "<td>---</td>\n",
       "<td>---</td>\n",
       "<td>---</td>\n",
       "<td>---</td>\n",
       "<td>---</td>\n",
       "<td>---</td></tr>\n",
       "<tr><td></td>\n",
       "<td>2017-06-22 15:57:18</td>\n",
       "<td>21 min 21.228 sec</td>\n",
       "<td>162.0</td>\n",
       "<td>0.4029686</td>\n",
       "<td>0.2410313</td>\n",
       "<td>0.1623837</td>\n",
       "<td>0.4801938</td>\n",
       "<td>0.2833374</td>\n",
       "<td>0.2305861</td></tr>\n",
       "<tr><td></td>\n",
       "<td>2017-06-22 15:57:23</td>\n",
       "<td>21 min 26.385 sec</td>\n",
       "<td>165.0</td>\n",
       "<td>0.4023074</td>\n",
       "<td>0.2405695</td>\n",
       "<td>0.1618512</td>\n",
       "<td>0.4801147</td>\n",
       "<td>0.2832014</td>\n",
       "<td>0.2305102</td></tr>\n",
       "<tr><td></td>\n",
       "<td>2017-06-22 15:57:28</td>\n",
       "<td>21 min 31.716 sec</td>\n",
       "<td>168.0</td>\n",
       "<td>0.4013262</td>\n",
       "<td>0.2399848</td>\n",
       "<td>0.1610627</td>\n",
       "<td>0.4799584</td>\n",
       "<td>0.2830823</td>\n",
       "<td>0.2303600</td></tr>\n",
       "<tr><td></td>\n",
       "<td>2017-06-22 15:57:35</td>\n",
       "<td>21 min 38.205 sec</td>\n",
       "<td>172.0</td>\n",
       "<td>0.4006004</td>\n",
       "<td>0.2394052</td>\n",
       "<td>0.1604807</td>\n",
       "<td>0.4799175</td>\n",
       "<td>0.2828581</td>\n",
       "<td>0.2303208</td></tr>\n",
       "<tr><td></td>\n",
       "<td>2017-06-22 15:57:42</td>\n",
       "<td>21 min 45.021 sec</td>\n",
       "<td>176.0</td>\n",
       "<td>0.3995149</td>\n",
       "<td>0.2388395</td>\n",
       "<td>0.1596122</td>\n",
       "<td>0.4798022</td>\n",
       "<td>0.2828879</td>\n",
       "<td>0.2302102</td></tr></table></div>"
      ],
      "text/plain": [
       "     timestamp            duration           number_of_trees    training_rmse        training_mae         training_deviance    validation_rmse      validation_mae       validation_deviance\n",
       "---  -------------------  -----------------  -----------------  -------------------  -------------------  -------------------  -------------------  -------------------  ---------------------\n",
       "     2017-06-22 15:52:45  16 min 48.786 sec  0.0                0.6011071720741765   0.42109463597337554  0.3613298323190136   0.6125375831417345   0.4277438664549245   0.3752022907611172\n",
       "     2017-06-22 15:52:48  16 min 51.446 sec  1.0                0.5894260015583773   0.41104188546662423  0.34742301131309616  0.602348107098767    0.4185538351030593   0.3628232421254677\n",
       "     2017-06-22 15:52:53  16 min 56.591 sec  4.0                0.5595245429176872   0.384579367561351    0.31306771412724677  0.5760799859901277   0.3938474994121603   0.3318681502583857\n",
       "     2017-06-22 15:52:58  17 min  1.601 sec  7.0                0.5357906539299592   0.3633344824961633   0.2870716248386933   0.5556925080087198   0.3743028354295192   0.30879416345702115\n",
       "     2017-06-22 15:53:03  17 min  6.603 sec  10.0               0.5170506317654311   0.346063238453158    0.2673413558090314   0.5398902790645026   0.3588343617403114   0.29148151342834655\n",
       "---  ---                  ---                ---                ---                  ---                  ---                  ---                  ---                  ---\n",
       "     2017-06-22 15:57:18  21 min 21.228 sec  162.0              0.40296855375911456  0.24103133410106642  0.16238365531871238  0.48019380373063275  0.28333738643256967  0.23058608914129344\n",
       "     2017-06-22 15:57:23  21 min 26.385 sec  165.0              0.4023073804766316   0.24056952277808163  0.16185122838596924  0.4801147475098589   0.28320135453035467  0.23051017077645555\n",
       "     2017-06-22 15:57:28  21 min 31.716 sec  168.0              0.40132621905567617  0.2399847987704331   0.16106273410152458  0.47995836649822315  0.283082312089687    0.2303600335716427\n",
       "     2017-06-22 15:57:35  21 min 38.205 sec  172.0              0.4006004119868925   0.23940515683245778  0.160480690084068    0.47991749457009886  0.2828580782267071   0.23032080159444085\n",
       "     2017-06-22 15:57:42  21 min 45.021 sec  176.0              0.3995149332787094   0.2388394995750151   0.15961218191269164  0.47980223460736765  0.28288788724725816  0.23021018433422347"
      ]
     },
     "metadata": {},
     "output_type": "display_data"
    },
    {
     "name": "stdout",
     "output_type": "stream",
     "text": [
      "\n",
      "See the whole table with table.as_data_frame()\n",
      "Variable Importances: \n"
     ]
    },
    {
     "data": {
      "text/html": [
       "<div style=\"overflow:auto\"><table style=\"width:50%\"><tr><td><b>variable</b></td>\n",
       "<td><b>relative_importance</b></td>\n",
       "<td><b>scaled_importance</b></td>\n",
       "<td><b>percentage</b></td></tr>\n",
       "<tr><td>full_sq|sub_area_Tencode</td>\n",
       "<td>21997.9667969</td>\n",
       "<td>1.0</td>\n",
       "<td>0.5552647</td></tr>\n",
       "<tr><td>sub_area_Tencode|life_sq</td>\n",
       "<td>1055.9908447</td>\n",
       "<td>0.0480040</td>\n",
       "<td>0.0266549</td></tr>\n",
       "<tr><td>full_sq|year</td>\n",
       "<td>791.4220581</td>\n",
       "<td>0.0359771</td>\n",
       "<td>0.0199768</td></tr>\n",
       "<tr><td>year</td>\n",
       "<td>429.6901550</td>\n",
       "<td>0.0195332</td>\n",
       "<td>0.0108461</td></tr>\n",
       "<tr><td>num_room|year</td>\n",
       "<td>289.5960999</td>\n",
       "<td>0.0131647</td>\n",
       "<td>0.0073099</td></tr>\n",
       "<tr><td>---</td>\n",
       "<td>---</td>\n",
       "<td>---</td>\n",
       "<td>---</td></tr>\n",
       "<tr><td>year_old|cafe_count_2000_price_2500</td>\n",
       "<td>0.0</td>\n",
       "<td>0.0</td>\n",
       "<td>0.0</td></tr>\n",
       "<tr><td>cafe_count_3000_price_500|cafe_count_2000_price_2500</td>\n",
       "<td>0.0</td>\n",
       "<td>0.0</td>\n",
       "<td>0.0</td></tr>\n",
       "<tr><td>cafe_count_3000_price_500|detention_facility_km</td>\n",
       "<td>0.0</td>\n",
       "<td>0.0</td>\n",
       "<td>0.0</td></tr>\n",
       "<tr><td>cafe_count_2000_price_2500|big_road1_km</td>\n",
       "<td>0.0</td>\n",
       "<td>0.0</td>\n",
       "<td>0.0</td></tr>\n",
       "<tr><td>bulvar_ring_km|detention_facility_km</td>\n",
       "<td>0.0</td>\n",
       "<td>0.0</td>\n",
       "<td>0.0</td></tr></table></div>"
      ],
      "text/plain": [
       "variable                                              relative_importance    scaled_importance     percentage\n",
       "----------------------------------------------------  ---------------------  --------------------  --------------------\n",
       "full_sq|sub_area_Tencode                              21997.966796875        1.0                   0.5552646795620816\n",
       "sub_area_Tencode|life_sq                              1055.9908447265625     0.04800402030230244   0.026654936950849625\n",
       "full_sq|year                                          791.4220581054688      0.035977054852992005  0.019976787834534042\n",
       "year                                                  429.6901550292969      0.019533175906526874  0.010846082660567417\n",
       "num_room|year                                         289.5960998535156      0.01316467574151695   0.007309879457152118\n",
       "---                                                   ---                    ---                   ---\n",
       "year_old|cafe_count_2000_price_2500                   0.0                    0.0                   0.0\n",
       "cafe_count_3000_price_500|cafe_count_2000_price_2500  0.0                    0.0                   0.0\n",
       "cafe_count_3000_price_500|detention_facility_km       0.0                    0.0                   0.0\n",
       "cafe_count_2000_price_2500|big_road1_km               0.0                    0.0                   0.0\n",
       "bulvar_ring_km|detention_facility_km                  0.0                    0.0                   0.0"
      ]
     },
     "metadata": {},
     "output_type": "display_data"
    },
    {
     "name": "stdout",
     "output_type": "stream",
     "text": [
      "\n",
      "See the whole table with table.as_data_frame()\n",
      "\n"
     ]
    }
   ],
   "source": [
    "# initialize H2O GBM\n",
    "h2o_gbm_model = H2OGradientBoostingEstimator(\n",
    "    ntrees = 10000,\n",
    "    learn_rate = 0.05,\n",
    "    sample_rate = 0.7, \n",
    "    col_sample_rate = 0.8,\n",
    "    max_depth = 5,\n",
    "    nfolds = 3,\n",
    "    keep_cross_validation_predictions=True,\n",
    "    stopping_rounds = 10,\n",
    "    model_id='gbm_model',\n",
    "    seed = 12345)\n",
    "\n",
    "# execute training\n",
    "h2o_gbm_model.train(x=encoded_combined_nums,\n",
    "                    y='price_doc',\n",
    "                    training_frame=train,\n",
    "                    validation_frame=valid)\n",
    "\n",
    "# print model information/create submission\n",
    "print(h2o_gbm_model)\n",
    "\n",
    "#Training RMSE: 0.3995149332787094"
   ]
  },
  {
   "cell_type": "code",
   "execution_count": 52,
   "metadata": {
    "collapsed": true
   },
   "outputs": [],
   "source": [
    "# save the model\n",
    "model_path = h2o.save_model(model=h2o_gbm_model, path=\"/Users/zwang/GWU/Kaggle/Housing_Mkt/mymodel\", force=True)"
   ]
  },
  {
   "cell_type": "code",
   "execution_count": 53,
   "metadata": {
    "collapsed": false,
    "scrolled": true
   },
   "outputs": [
    {
     "data": {
      "text/html": [
       "<table>\n",
       "<thead>\n",
       "<tr><th style=\"text-align: right;\">  price_doc</th><th style=\"text-align: right;\">  predict</th></tr>\n",
       "</thead>\n",
       "<tbody>\n",
       "<tr><td style=\"text-align: right;\">    16.3881</td><td style=\"text-align: right;\">  16.1678</td></tr>\n",
       "<tr><td style=\"text-align: right;\">    14.5087</td><td style=\"text-align: right;\">  15.4116</td></tr>\n",
       "<tr><td style=\"text-align: right;\">    14.5087</td><td style=\"text-align: right;\">  15.2646</td></tr>\n",
       "<tr><td style=\"text-align: right;\">    14.4307</td><td style=\"text-align: right;\">  15.508 </td></tr>\n",
       "<tr><td style=\"text-align: right;\">    15.6561</td><td style=\"text-align: right;\">  15.3386</td></tr>\n",
       "<tr><td style=\"text-align: right;\">    15.8824</td><td style=\"text-align: right;\">  15.5194</td></tr>\n",
       "<tr><td style=\"text-align: right;\">    15.4642</td><td style=\"text-align: right;\">  15.3231</td></tr>\n",
       "<tr><td style=\"text-align: right;\">    15.5905</td><td style=\"text-align: right;\">  15.1378</td></tr>\n",
       "<tr><td style=\"text-align: right;\">    16.7224</td><td style=\"text-align: right;\">  15.9643</td></tr>\n",
       "<tr><td style=\"text-align: right;\">    15.556 </td><td style=\"text-align: right;\">  15.3553</td></tr>\n",
       "</tbody>\n",
       "</table>"
      ]
     },
     "metadata": {},
     "output_type": "display_data"
    },
    {
     "name": "stdout",
     "output_type": "stream",
     "text": [
      "\n"
     ]
    },
    {
     "data": {
      "text/html": [
       "<table>\n",
       "<thead>\n",
       "<tr><th style=\"text-align: right;\">   id</th><th style=\"text-align: right;\">  price_doc</th></tr>\n",
       "</thead>\n",
       "<tbody>\n",
       "<tr><td style=\"text-align: right;\">30474</td><td style=\"text-align: right;\">5.69839e+06</td></tr>\n",
       "<tr><td style=\"text-align: right;\">30475</td><td style=\"text-align: right;\">7.3929e+06 </td></tr>\n",
       "<tr><td style=\"text-align: right;\">30476</td><td style=\"text-align: right;\">4.89755e+06</td></tr>\n",
       "<tr><td style=\"text-align: right;\">30477</td><td style=\"text-align: right;\">5.73469e+06</td></tr>\n",
       "<tr><td style=\"text-align: right;\">30478</td><td style=\"text-align: right;\">5.14255e+06</td></tr>\n",
       "<tr><td style=\"text-align: right;\">30479</td><td style=\"text-align: right;\">8.28925e+06</td></tr>\n",
       "<tr><td style=\"text-align: right;\">30480</td><td style=\"text-align: right;\">4.86499e+06</td></tr>\n",
       "<tr><td style=\"text-align: right;\">30481</td><td style=\"text-align: right;\">4.4799e+06 </td></tr>\n",
       "<tr><td style=\"text-align: right;\">30482</td><td style=\"text-align: right;\">4.17026e+06</td></tr>\n",
       "<tr><td style=\"text-align: right;\">30483</td><td style=\"text-align: right;\">5.01473e+06</td></tr>\n",
       "</tbody>\n",
       "</table>"
      ]
     },
     "metadata": {},
     "output_type": "display_data"
    },
    {
     "data": {
      "text/plain": []
     },
     "execution_count": 53,
     "metadata": {},
     "output_type": "execute_result"
    },
    {
     "data": {
      "image/png": "[encoded data removed]",
      "text/plain": [
       "<matplotlib.figure.Figure at 0x13f218208>"
      ]
     },
     "metadata": {},
     "output_type": "display_data"
    }
   ],
   "source": [
    "h2o_gbm_preds1_val = h2o_gbm_model.predict(valid)\n",
    "ranked_preds_plot('price_doc', valid, h2o_gbm_preds1_val) # better validation error\n",
    "h2o_gbm_preds1_test = h2o_gbm_model.predict(test)\n",
    "gen_submission(h2o_gbm_preds1_test) \n",
    "\n",
    "#  public leaderboard"
   ]
  },
  {
   "cell_type": "markdown",
   "metadata": {},
   "source": [
    "### H2O XGBoost"
   ]
  },
  {
   "cell_type": "code",
   "execution_count": null,
   "metadata": {
    "collapsed": false
   },
   "outputs": [],
   "source": [
    "# initialize XGB GBM\n",
    "h2o_xgb_model = H2OXGBoostEstimator(\n",
    "    ntrees = 10000,\n",
    "    learn_rate = 0.05,\n",
    "    sample_rate = 0.7, \n",
    "    col_sample_rate = 0.8,\n",
    "    max_depth = 5,\n",
    "    nfolds = 3,\n",
    "    keep_cross_validation_predictions=True,\n",
    "    stopping_rounds = 10,\n",
    "    model_id='xgb_model',\n",
    "    seed = 12345)\n",
    "\n",
    "# execute training \n",
    "h2o_xgb_model.train(x=encoded_combined_nums,\n",
    "                    y='price_doc',\n",
    "                    training_frame=train,\n",
    "                    validation_frame=valid)\n",
    "\n",
    "# print model information/create submission\n",
    "print(h2o_xgb_model)\n",
    "\n",
    "#Training RMSE: 0.42416106883643906  sample_rate = 0.1\n",
    "# RMSE: 0.4133154479408961 sample_rate = 0.7\n",
    "# RMSE: 0.4045552475581364 learn_rate=0.05 sample_rate = 0.7"
   ]
  },
  {
   "cell_type": "code",
   "execution_count": null,
   "metadata": {
    "collapsed": false
   },
   "outputs": [],
   "source": [
    "h2o_xgb_preds1_val = h2o_xgb_model.predict(valid)\n",
    "ranked_preds_plot('price_doc', valid, h2o_xgb_preds1_val) \n",
    "h2o_xgb_preds1_test = h2o_xgb_model.predict(test)\n",
    "gen_submission(h2o_xgb_preds1_test) \n",
    "\n",
    "# 0.33357 on public leaderboard"
   ]
  },
  {
   "cell_type": "code",
   "execution_count": null,
   "metadata": {
    "collapsed": false
   },
   "outputs": [],
   "source": [
    "h2o_xgb_preds1_val = h2o_xgb_model.predict(valid)\n",
    "ranked_preds_plot('price_doc', valid, h2o_xgb_preds1_val) \n",
    "h2o_xgb_preds1_test = h2o_xgb_model.predict(test)"
   ]
  },
  {
   "cell_type": "code",
   "execution_count": 60,
   "metadata": {
    "collapsed": true
   },
   "outputs": [],
   "source": [
    "# save the model\n",
    "model_path = h2o.save_model(model=h2o_xgb_model, path=\"/Users/zwang/GWU/Kaggle/Housing_Mkt/mymodel\", force=True)"
   ]
  },
  {
   "cell_type": "markdown",
   "metadata": {},
   "source": [
    "### load saved model"
   ]
  },
  {
   "cell_type": "code",
   "execution_count": null,
   "metadata": {
    "collapsed": true
   },
   "outputs": [],
   "source": [
    "# load data\n",
    "train = h2o.import_file('/Users/zwang/GWU/Kaggle/Housing_Mkt/data/newtrain.csv')\n",
    "valid = h2o.import_file('/Users/zwang/GWU/Kaggle/Housing_Mkt/data/newvalid.csv')\n",
    "test = h2o.import_file('/Users/zwang/GWU/Kaggle/Housing_Mkt/data/newtest.csv')"
   ]
  },
  {
   "cell_type": "code",
   "execution_count": null,
   "metadata": {
    "collapsed": true
   },
   "outputs": [],
   "source": [
    "def get_type_lists(frame=train, rejects=['id', 'price_doc']):   \n",
    "    nums, cats = [], []\n",
    "    for key, val in frame.types.items():\n",
    "        if key not in rejects:\n",
    "            if val == 'enum':\n",
    "                cats.append(key)\n",
    "            else: \n",
    "                nums.append(key)                \n",
    "    print('Numeric =', nums)                \n",
    "    print()\n",
    "    print('Categorical =', cats)\n",
    "    \n",
    "    return nums, cats"
   ]
  },
  {
   "cell_type": "code",
   "execution_count": null,
   "metadata": {
    "collapsed": false
   },
   "outputs": [],
   "source": [
    "encoded_combined_nums, cats = get_type_lists(frame=train)"
   ]
  },
  {
   "cell_type": "code",
   "execution_count": 41,
   "metadata": {
    "collapsed": true
   },
   "outputs": [],
   "source": [
    "# load the model\n",
    "rf_model1 = h2o.load_model(\"/Users/zwang/GWU/Kaggle/Housing_Mkt/mymodel/rf_model\")\n",
    "ert_model1 = h2o.load_model(\"/Users/zwang/GWU/Kaggle/Housing_Mkt/mymodel/ert_model\")\n",
    "h2o_gbm_model = h2o.load_model(\"/Users/zwang/GWU/Kaggle/Housing_Mkt/mymodel/gbm_model\")\n",
    "#h2o_xgb_model2 = h2o.load_model(\"/Users/zwang/GWU/Kaggle/Housing_Mkt/mymodel2/xgb_model\")"
   ]
  },
  {
   "cell_type": "code",
   "execution_count": 42,
   "metadata": {
    "collapsed": false
   },
   "outputs": [],
   "source": [
    "h2o_gbm_preds1_val = h2o_gbm_model.predict(valid)\n",
    "h2o_gbm_preds1_test = h2o_gbm_model.predict(test)"
   ]
  },
  {
   "cell_type": "code",
   "execution_count": 43,
   "metadata": {
    "collapsed": true
   },
   "outputs": [],
   "source": [
    "rf_preds1_val = rf_model1.predict(valid)\n",
    "rf_preds1_test = rf_model1.predict(test)"
   ]
  },
  {
   "cell_type": "code",
   "execution_count": 44,
   "metadata": {
    "collapsed": true
   },
   "outputs": [],
   "source": [
    "ert_preds1_val = ert_model1.predict(valid)\n",
    "ert_preds1_test = ert_model1.predict(test)"
   ]
  },
  {
   "cell_type": "code",
   "execution_count": null,
   "metadata": {
    "collapsed": true
   },
   "outputs": [],
   "source": [
    "h2o_xgb_model2 = h2o.load_model(\"/Users/zwang/GWU/Kaggle/Housing_Mkt/mymodel2/xgb_model\")"
   ]
  },
  {
   "cell_type": "code",
   "execution_count": null,
   "metadata": {
    "collapsed": false
   },
   "outputs": [],
   "source": [
    "h2o_xgb_preds1_val = h2o_xgb_model2.predict(valid)\n",
    "h2o_xgb_preds1_test = h2o_xgb_model2.predict(test)"
   ]
  },
  {
   "cell_type": "code",
   "execution_count": null,
   "metadata": {
    "collapsed": false
   },
   "outputs": [],
   "source": [
    "h2o_xgb_model2"
   ]
  },
  {
   "cell_type": "markdown",
   "metadata": {},
   "source": [
    "### Train H2O stacked ensemble"
   ]
  },
  {
   "cell_type": "code",
   "execution_count": 54,
   "metadata": {
    "collapsed": false,
    "scrolled": false
   },
   "outputs": [
    {
     "name": "stdout",
     "output_type": "stream",
     "text": [
      "Model Details\n",
      "=============\n",
      "H2OStackedEnsembleEstimator :  Stacked Ensemble\n",
      "Model Key:  StackedEnsemble_model_python_1498154664878_2\n",
      "No model summary for this model\n",
      "\n",
      "\n",
      "ModelMetricsRegressionGLM: stackedensemble\n",
      "** Reported on train data. **\n",
      "\n",
      "MSE: 0.15029133869917316\n",
      "RMSE: 0.387674268812328\n",
      "MAE: 0.23202236477425303\n",
      "RMSLE: 0.024303754747282025\n",
      "R^2: 0.5840605306934936\n",
      "Mean Residual Deviance: 0.15029133869917316\n",
      "Null degrees of freedom: 21377\n",
      "Residual degrees of freedom: 21374\n",
      "Null deviance: 7724.509155315873\n",
      "Residual deviance: 3212.928238710924\n",
      "AIC: 20162.986209528957\n",
      "\n",
      "ModelMetricsRegressionGLM: stackedensemble\n",
      "** Reported on validation data. **\n",
      "\n",
      "MSE: 0.22988971584685264\n",
      "RMSE: 0.4794681593670769\n",
      "MAE: 0.2814473317648257\n",
      "RMSLE: 0.02996763643569494\n",
      "R^2: 0.38711614662976157\n",
      "Mean Residual Deviance: 0.22988971584685264\n",
      "Null degrees of freedom: 9085\n",
      "Residual degrees of freedom: 9082\n",
      "Null deviance: 3409.0880138555112\n",
      "Residual deviance: 2088.777958184503\n",
      "AIC: 12437.117413048463\n",
      "\n"
     ]
    }
   ],
   "source": [
    "stack = H2OStackedEnsembleEstimator(training_frame=train, \n",
    "                                    validation_frame=valid,\n",
    "                                    base_models=[rf_model1, ert_model1, \n",
    "                                                 h2o_gbm_model])\n",
    "\n",
    "stack.train(x=encoded_combined_nums,\n",
    "            y='price_doc',\n",
    "            training_frame=train,\n",
    "            validation_frame=valid)\n",
    "\n",
    "# print model information/create submission\n",
    "print(stack)\n",
    "\n",
    "# stacking without xgb\n",
    "# RMSE: 0.39708713580391003\n",
    "# 0.32659 in public leaderboard\n",
    "\n",
    "# stacking all four model\n",
    "# \n"
   ]
  },
  {
   "cell_type": "code",
   "execution_count": 56,
   "metadata": {
    "collapsed": true
   },
   "outputs": [],
   "source": [
    "model_path = h2o.save_model(model=stack, path=\"/Users/zwang/GWU/Kaggle/Housing_Mkt/mymodel\", force=True)"
   ]
  },
  {
   "cell_type": "code",
   "execution_count": 55,
   "metadata": {
    "collapsed": false
   },
   "outputs": [
    {
     "data": {
      "text/html": [
       "<table>\n",
       "<thead>\n",
       "<tr><th style=\"text-align: right;\">  price_doc</th><th style=\"text-align: right;\">  predict</th></tr>\n",
       "</thead>\n",
       "<tbody>\n",
       "<tr><td style=\"text-align: right;\">    16.3881</td><td style=\"text-align: right;\">  16.1778</td></tr>\n",
       "<tr><td style=\"text-align: right;\">    14.5087</td><td style=\"text-align: right;\">  15.4029</td></tr>\n",
       "<tr><td style=\"text-align: right;\">    14.5087</td><td style=\"text-align: right;\">  15.2739</td></tr>\n",
       "<tr><td style=\"text-align: right;\">    14.4307</td><td style=\"text-align: right;\">  15.4946</td></tr>\n",
       "<tr><td style=\"text-align: right;\">    15.6561</td><td style=\"text-align: right;\">  15.3365</td></tr>\n",
       "<tr><td style=\"text-align: right;\">    15.8824</td><td style=\"text-align: right;\">  15.5138</td></tr>\n",
       "<tr><td style=\"text-align: right;\">    15.4642</td><td style=\"text-align: right;\">  15.3316</td></tr>\n",
       "<tr><td style=\"text-align: right;\">    15.5905</td><td style=\"text-align: right;\">  15.1591</td></tr>\n",
       "<tr><td style=\"text-align: right;\">    16.7224</td><td style=\"text-align: right;\">  15.9748</td></tr>\n",
       "<tr><td style=\"text-align: right;\">    15.556 </td><td style=\"text-align: right;\">  15.3271</td></tr>\n",
       "</tbody>\n",
       "</table>"
      ]
     },
     "metadata": {},
     "output_type": "display_data"
    },
    {
     "name": "stdout",
     "output_type": "stream",
     "text": [
      "\n"
     ]
    },
    {
     "data": {
      "text/html": [
       "<table>\n",
       "<thead>\n",
       "<tr><th style=\"text-align: right;\">   id</th><th style=\"text-align: right;\">  price_doc</th></tr>\n",
       "</thead>\n",
       "<tbody>\n",
       "<tr><td style=\"text-align: right;\">30474</td><td style=\"text-align: right;\">5.42643e+06</td></tr>\n",
       "<tr><td style=\"text-align: right;\">30475</td><td style=\"text-align: right;\">7.69591e+06</td></tr>\n",
       "<tr><td style=\"text-align: right;\">30476</td><td style=\"text-align: right;\">4.83971e+06</td></tr>\n",
       "<tr><td style=\"text-align: right;\">30477</td><td style=\"text-align: right;\">5.61104e+06</td></tr>\n",
       "<tr><td style=\"text-align: right;\">30478</td><td style=\"text-align: right;\">5.05391e+06</td></tr>\n",
       "<tr><td style=\"text-align: right;\">30479</td><td style=\"text-align: right;\">7.96666e+06</td></tr>\n",
       "<tr><td style=\"text-align: right;\">30480</td><td style=\"text-align: right;\">4.71819e+06</td></tr>\n",
       "<tr><td style=\"text-align: right;\">30481</td><td style=\"text-align: right;\">4.42609e+06</td></tr>\n",
       "<tr><td style=\"text-align: right;\">30482</td><td style=\"text-align: right;\">4.09199e+06</td></tr>\n",
       "<tr><td style=\"text-align: right;\">30483</td><td style=\"text-align: right;\">4.9342e+06 </td></tr>\n",
       "</tbody>\n",
       "</table>"
      ]
     },
     "metadata": {},
     "output_type": "display_data"
    },
    {
     "data": {
      "text/plain": []
     },
     "execution_count": 55,
     "metadata": {},
     "output_type": "execute_result"
    },
    {
     "data": {
      "image/png": "[encoded data removed]",
      "text/plain": [
       "<matplotlib.figure.Figure at 0x17bd1fc88>"
      ]
     },
     "metadata": {},
     "output_type": "display_data"
    }
   ],
   "source": [
    "stack_preds1_val = stack.predict(valid)\n",
    "ranked_preds_plot('price_doc', valid, stack_preds1_val) \n",
    "stack_preds1_test = stack.predict(test)\n",
    "gen_submission(stack_preds1_test)"
   ]
  },
  {
   "cell_type": "code",
   "execution_count": 57,
   "metadata": {
    "collapsed": false
   },
   "outputs": [
    {
     "name": "stdout",
     "output_type": "stream",
     "text": [
      "Model Details\n",
      "=============\n",
      "H2OStackedEnsembleEstimator :  Stacked Ensemble\n",
      "Model Key:  StackedEnsemble_model_python_1498154664878_3\n",
      "No model summary for this model\n",
      "\n",
      "\n",
      "ModelMetricsRegressionGLM: stackedensemble\n",
      "** Reported on train data. **\n",
      "\n",
      "MSE: 0.1540126929638647\n",
      "RMSE: 0.39244450940720865\n",
      "MAE: 0.2351103821869461\n",
      "RMSLE: 0.02458876481616801\n",
      "R^2: 0.573761479987348\n",
      "Mean Residual Deviance: 0.1540126929638647\n",
      "Null degrees of freedom: 21377\n",
      "Residual degrees of freedom: 21374\n",
      "Null deviance: 7724.509155315873\n",
      "Residual deviance: 3292.483350181499\n",
      "AIC: 20685.878247572768\n",
      "\n",
      "ModelMetricsRegressionGLM: stackedensemble\n",
      "** Reported on validation data. **\n",
      "\n",
      "MSE: 0.22946625425236963\n",
      "RMSE: 0.4790263607071845\n",
      "MAE: 0.28186667338907806\n",
      "RMSLE: 0.029938237916001417\n",
      "R^2: 0.38824509131884877\n",
      "Mean Residual Deviance: 0.22946625425236963\n",
      "Null degrees of freedom: 9085\n",
      "Residual degrees of freedom: 9082\n",
      "Null deviance: 3409.0880138555112\n",
      "Residual deviance: 2084.9303861370304\n",
      "AIC: 12420.365380255407\n",
      "\n"
     ]
    }
   ],
   "source": [
    "stackall = H2OStackedEnsembleEstimator(training_frame=train, \n",
    "                                    validation_frame=valid,\n",
    "                                    base_models=[rf_model1, ert_model1, \n",
    "                                                 h2o_gbm_model,h2o_xgb_model])\n",
    "\n",
    "stackall.train(x=encoded_combined_nums,\n",
    "            y='price_doc',\n",
    "            training_frame=train,\n",
    "            validation_frame=valid)\n",
    "\n",
    "# print model information/create submission\n",
    "print(stackall)"
   ]
  },
  {
   "cell_type": "code",
   "execution_count": 59,
   "metadata": {
    "collapsed": true
   },
   "outputs": [],
   "source": [
    "model_path = h2o.save_model(model=stackall, path=\"/Users/zwang/GWU/Kaggle/Housing_Mkt/mymodel\", force=True)"
   ]
  },
  {
   "cell_type": "code",
   "execution_count": 58,
   "metadata": {
    "collapsed": false
   },
   "outputs": [
    {
     "data": {
      "text/html": [
       "<table>\n",
       "<thead>\n",
       "<tr><th style=\"text-align: right;\">  price_doc</th><th style=\"text-align: right;\">  predict</th></tr>\n",
       "</thead>\n",
       "<tbody>\n",
       "<tr><td style=\"text-align: right;\">    16.3881</td><td style=\"text-align: right;\">  16.0117</td></tr>\n",
       "<tr><td style=\"text-align: right;\">    14.5087</td><td style=\"text-align: right;\">  15.4108</td></tr>\n",
       "<tr><td style=\"text-align: right;\">    14.5087</td><td style=\"text-align: right;\">  15.2753</td></tr>\n",
       "<tr><td style=\"text-align: right;\">    14.4307</td><td style=\"text-align: right;\">  15.4705</td></tr>\n",
       "<tr><td style=\"text-align: right;\">    15.6561</td><td style=\"text-align: right;\">  15.3623</td></tr>\n",
       "<tr><td style=\"text-align: right;\">    15.8824</td><td style=\"text-align: right;\">  15.4476</td></tr>\n",
       "<tr><td style=\"text-align: right;\">    15.4642</td><td style=\"text-align: right;\">  15.2392</td></tr>\n",
       "<tr><td style=\"text-align: right;\">    15.5905</td><td style=\"text-align: right;\">  15.1048</td></tr>\n",
       "<tr><td style=\"text-align: right;\">    16.7224</td><td style=\"text-align: right;\">  15.9043</td></tr>\n",
       "<tr><td style=\"text-align: right;\">    15.556 </td><td style=\"text-align: right;\">  15.3064</td></tr>\n",
       "</tbody>\n",
       "</table>"
      ]
     },
     "metadata": {},
     "output_type": "display_data"
    },
    {
     "name": "stdout",
     "output_type": "stream",
     "text": [
      "\n"
     ]
    },
    {
     "data": {
      "text/html": [
       "<table>\n",
       "<thead>\n",
       "<tr><th style=\"text-align: right;\">   id</th><th style=\"text-align: right;\">  price_doc</th></tr>\n",
       "</thead>\n",
       "<tbody>\n",
       "<tr><td style=\"text-align: right;\">30474</td><td style=\"text-align: right;\">5.46227e+06</td></tr>\n",
       "<tr><td style=\"text-align: right;\">30475</td><td style=\"text-align: right;\">7.91218e+06</td></tr>\n",
       "<tr><td style=\"text-align: right;\">30476</td><td style=\"text-align: right;\">4.83752e+06</td></tr>\n",
       "<tr><td style=\"text-align: right;\">30477</td><td style=\"text-align: right;\">5.34608e+06</td></tr>\n",
       "<tr><td style=\"text-align: right;\">30478</td><td style=\"text-align: right;\">5.02407e+06</td></tr>\n",
       "<tr><td style=\"text-align: right;\">30479</td><td style=\"text-align: right;\">7.92004e+06</td></tr>\n",
       "<tr><td style=\"text-align: right;\">30480</td><td style=\"text-align: right;\">4.63137e+06</td></tr>\n",
       "<tr><td style=\"text-align: right;\">30481</td><td style=\"text-align: right;\">4.5195e+06 </td></tr>\n",
       "<tr><td style=\"text-align: right;\">30482</td><td style=\"text-align: right;\">4.3593e+06 </td></tr>\n",
       "<tr><td style=\"text-align: right;\">30483</td><td style=\"text-align: right;\">5.01032e+06</td></tr>\n",
       "</tbody>\n",
       "</table>"
      ]
     },
     "metadata": {},
     "output_type": "display_data"
    },
    {
     "data": {
      "text/plain": []
     },
     "execution_count": 58,
     "metadata": {},
     "output_type": "execute_result"
    },
    {
     "data": {
      "image/png": "[encoded data removed]",
      "text/plain": [
       "<matplotlib.figure.Figure at 0x13f208518>"
      ]
     },
     "metadata": {},
     "output_type": "display_data"
    }
   ],
   "source": [
    "stackall_preds1_val = stackall.predict(valid)\n",
    "ranked_preds_plot('price_doc', valid, stackall_preds1_val) \n",
    "stackall_preds1_test = stackall.predict(test)\n",
    "gen_submission(stackall_preds1_test)"
   ]
  },
  {
   "cell_type": "markdown",
   "metadata": {},
   "source": [
    "### Blending"
   ]
  },
  {
   "cell_type": "code",
   "execution_count": null,
   "metadata": {
    "collapsed": true
   },
   "outputs": [],
   "source": [
    "import os\n",
    "\n",
    "def pred_blender(dir_, files):\n",
    "    \n",
    "    \"\"\" Performs simple blending of prediction files. \n",
    "    \n",
    "    :param dir_: Directory in which files to be read are stored.\n",
    "    :param files: List of prediction files to be blended.\n",
    "    \n",
    "    \"\"\"\n",
    "    \n",
    "    # read predictions in files list and cbind\n",
    "    for i, file in enumerate(files):\n",
    "        if i == 0:\n",
    "            df = pd.read_csv(dir_ + os.sep + file).drop('price_doc', axis=1)\n",
    "        col = pd.read_csv(dir_ + os.sep + file).drop('id', axis=1)\n",
    "        col.columns = ['price_doc' + str(i)]\n",
    "        df = pd.concat([df, col], axis=1)\n",
    "        \n",
    "    # create mean prediction    \n",
    "    df['mean'] = df.iloc[:, 1:].mean(axis=1)\n",
    "    print(df.head())\n",
    "        \n",
    "    # create time stamp\n",
    "    time_stamp = re.sub('[: ]', '_', time.asctime())        \n",
    "        \n",
    "    # write new submission file    \n",
    "    df = df[['id', 'mean']]\n",
    "    df.columns = ['id', 'price_doc']\n",
    "    \n",
    "    # save file for submission\n",
    "    sub_fname = wd+'/submission_' + str(time_stamp) + '.csv'\n",
    "    df.to_csv(sub_fname, index=False)"
   ]
  },
  {
   "cell_type": "code",
   "execution_count": null,
   "metadata": {
    "collapsed": false
   },
   "outputs": [],
   "source": [
    "# create blending\n",
    "pred_blender(wd,\n",
    "            ['submissionRF_Mon_Jun_19_22_31_58_2017.csv',\n",
    "             'submissionERF_Mon_Jun_19_22_56_05_2017.csv',\n",
    "             'submissionGBM_Tue_Jun_20_00_52_56_2017.csv',\n",
    "             'submissionXGB2_Wed_Jun_21_08_32_32_2017.csv'])"
   ]
  },
  {
   "cell_type": "markdown",
   "metadata": {},
   "source": [
    "#### Shutdown H2O"
   ]
  },
  {
   "cell_type": "code",
   "execution_count": 61,
   "metadata": {
    "collapsed": false
   },
   "outputs": [
    {
     "name": "stdout",
     "output_type": "stream",
     "text": [
      "Are you sure you want to shutdown the H2O instance running at http://127.0.0.1:54321 (Y/N)? Y\n"
     ]
    }
   ],
   "source": [
    "# Shutdown H2O - this will erase all your unsaved frames and models in H2O\n",
    "h2o.cluster().shutdown(prompt=True)"
   ]
  },
  {
   "cell_type": "code",
   "execution_count": null,
   "metadata": {
    "collapsed": true
   },
   "outputs": [],
   "source": []
  }
 ],
 "metadata": {
  "anaconda-cloud": {},
  "kernelspec": {
   "display_name": "Python 3",
   "language": "python",
   "name": "python3"
  },
  "language_info": {
   "codemirror_mode": {
    "name": "ipython",
    "version": 3
   },
   "file_extension": ".py",
   "mimetype": "text/x-python",
   "name": "python",
   "nbconvert_exporter": "python",
   "pygments_lexer": "ipython3",
   "version": "3.6.0"
  }
 },
 "nbformat": 4,
 "nbformat_minor": 1
}
