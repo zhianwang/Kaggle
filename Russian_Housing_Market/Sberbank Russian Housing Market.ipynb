{
 "cells": [
  {
   "cell_type": "markdown",
   "metadata": {},
   "source": [
    "## Sberbank Russian Housing Market\n",
    "##### Group member: Ying Zhang, Zhian Wang"
   ]
  },
  {
   "cell_type": "code",
   "execution_count": 1,
   "metadata": {
    "collapsed": false
   },
   "outputs": [],
   "source": [
    "wd = \"/Users/zwang/GWU/Kaggle/Housing_Mkt/data\"\n",
    "import pandas as pd\n",
    "import numpy as np\n",
    "train_df = pd.read_csv(wd+\"/train.csv\")\n",
    "train_df = train_df.reset_index(drop=True)\n",
    "test_df = pd.read_csv(wd+\"/test.csv\")\n",
    "test_df = test_df.reset_index(drop=True)"
   ]
  },
  {
   "cell_type": "markdown",
   "metadata": {},
   "source": [
    "### Data Preparation"
   ]
  },
  {
   "cell_type": "code",
   "execution_count": 2,
   "metadata": {
    "collapsed": true
   },
   "outputs": [],
   "source": [
    "# Remove the outlier of full_sq\n",
    "ind = train_df[train_df['full_sq'] > 2000].index\n",
    "train_df = train_df.drop(ind)\n",
    "\n",
    "# Remove the outliter in life_sq\n",
    "ind = train_df[train_df['life_sq'] > 2000].index\n",
    "train_df = train_df.drop(ind)\n",
    "\n",
    "# Remove the outliter in kitch_sq\n",
    "ind = train_df[train_df['kitch_sq'] > 500].index\n",
    "train_df = train_df.drop(ind)"
   ]
  },
  {
   "cell_type": "code",
   "execution_count": 3,
   "metadata": {
    "collapsed": false
   },
   "outputs": [
    {
     "name": "stderr",
     "output_type": "stream",
     "text": [
      "/anaconda/lib/python3.6/site-packages/pandas/core/indexing.py:141: SettingWithCopyWarning: \n",
      "A value is trying to be set on a copy of a slice from a DataFrame\n",
      "\n",
      "See the caveats in the documentation: http://pandas.pydata.org/pandas-docs/stable/indexing.html#indexing-view-versus-copy\n",
      "  self._setitem_with_indexer(indexer, value)\n"
     ]
    },
    {
     "data": {
      "text/plain": [
       "0"
      ]
     },
     "execution_count": 3,
     "metadata": {},
     "output_type": "execute_result"
    }
   ],
   "source": [
    "(train_df['life_sq'] > train_df['full_sq']).sum()\n",
    "life_sq = train_df['life_sq'].ix[train_df['life_sq'] < train_df['full_sq']].median()\n",
    "full_sq = train_df['full_sq'].median()\n",
    "life_full = life_sq/full_sq \n",
    "life_full\n",
    "train_df['life_sq'].ix[train_df['life_sq'] > train_df['full_sq']] = train_df['full_sq']*life_full\n",
    "(train_df['life_sq'] > train_df['full_sq']).sum()\n",
    "\n",
    "(test_df['life_sq'] > test_df['full_sq']).sum()\n",
    "life_sq = test_df['life_sq'].ix[test_df['life_sq'] < test_df['full_sq']].median()\n",
    "full_sq = test_df['full_sq'].median()\n",
    "life_full = life_sq/full_sq \n",
    "life_full\n",
    "test_df['life_sq'].ix[test_df['life_sq'] > test_df['full_sq']] = test_df['full_sq']*life_full\n",
    "(test_df['life_sq'] > test_df['full_sq']).sum()"
   ]
  },
  {
   "cell_type": "code",
   "execution_count": 4,
   "metadata": {
    "collapsed": false
   },
   "outputs": [
    {
     "name": "stderr",
     "output_type": "stream",
     "text": [
      "/anaconda/lib/python3.6/site-packages/pandas/core/indexing.py:141: SettingWithCopyWarning: \n",
      "A value is trying to be set on a copy of a slice from a DataFrame\n",
      "\n",
      "See the caveats in the documentation: http://pandas.pydata.org/pandas-docs/stable/indexing.html#indexing-view-versus-copy\n",
      "  self._setitem_with_indexer(indexer, value)\n"
     ]
    },
    {
     "data": {
      "text/plain": [
       "0"
      ]
     },
     "execution_count": 4,
     "metadata": {},
     "output_type": "execute_result"
    }
   ],
   "source": [
    "kitch_sq = train_df['kitch_sq'].ix[train_df['kitch_sq'] < train_df['full_sq']].median()\n",
    "full_sq = train_df['full_sq'].median()\n",
    "kitch_full = kitch_sq/full_sq \n",
    "kitch_full\n",
    "train_df['kitch_sq'].ix[train_df['kitch_sq'] > train_df['full_sq']] = train_df['full_sq']*kitch_full\n",
    "(train_df['kitch_sq'] > train_df['full_sq']).sum()\n",
    "\n",
    "kitch_sq = test_df['kitch_sq'].ix[test_df['kitch_sq'] < test_df['full_sq']].median()\n",
    "full_sq = test_df['full_sq'].median()\n",
    "kitch_full = kitch_sq/full_sq \n",
    "kitch_full\n",
    "test_df['kitch_sq'].ix[test_df['kitch_sq'] > test_df['full_sq']] = test_df['full_sq']*kitch_full\n",
    "(test_df['kitch_sq'] > test_df['full_sq']).sum()"
   ]
  },
  {
   "cell_type": "code",
   "execution_count": 5,
   "metadata": {
    "collapsed": false
   },
   "outputs": [
    {
     "name": "stderr",
     "output_type": "stream",
     "text": [
      "/anaconda/lib/python3.6/site-packages/pandas/core/indexing.py:141: SettingWithCopyWarning: \n",
      "A value is trying to be set on a copy of a slice from a DataFrame\n",
      "\n",
      "See the caveats in the documentation: http://pandas.pydata.org/pandas-docs/stable/indexing.html#indexing-view-versus-copy\n",
      "  self._setitem_with_indexer(indexer, value)\n"
     ]
    },
    {
     "data": {
      "text/plain": [
       "0"
      ]
     },
     "execution_count": 5,
     "metadata": {},
     "output_type": "execute_result"
    }
   ],
   "source": [
    "train_df['floor'].ix[train_df['floor'] > train_df['max_floor']] = train_df['max_floor']*0.5\n",
    "(train_df['floor'] > train_df['max_floor']).sum()\n",
    "\n",
    "test_df['floor'].ix[test_df['floor'] > test_df['max_floor']] = test_df['max_floor']*0.5\n",
    "(test_df['floor'] > test_df['max_floor']).sum()"
   ]
  },
  {
   "cell_type": "code",
   "execution_count": 6,
   "metadata": {
    "collapsed": true
   },
   "outputs": [],
   "source": [
    "train_df.loc[train_df['state'] == 33, 'state'] = train_df['state'].mode().iloc[0]\n",
    "train_df.loc[train_df['build_year'] == 20052009, 'build_year'] = 2007\n",
    "ind = train_df[(train_df['build_year'] <= 1691) | (train_df['build_year'] >= 2018)].index\n",
    "by_df = train_df.drop(ind).sort_values(by=['build_year'])"
   ]
  },
  {
   "cell_type": "markdown",
   "metadata": {},
   "source": [
    "### Impute Missing Value"
   ]
  },
  {
   "cell_type": "code",
   "execution_count": 7,
   "metadata": {
    "collapsed": false
   },
   "outputs": [
    {
     "data": {
      "text/plain": [
       "['hospital_beds_raion',\n",
       " 'build_year',\n",
       " 'state',\n",
       " 'cafe_sum_500_min_price_avg',\n",
       " 'cafe_sum_500_max_price_avg',\n",
       " 'cafe_avg_price_500',\n",
       " 'max_floor',\n",
       " 'material',\n",
       " 'num_room',\n",
       " 'kitch_sq',\n",
       " 'preschool_quota',\n",
       " 'school_quota',\n",
       " 'cafe_sum_1000_max_price_avg',\n",
       " 'cafe_sum_1000_min_price_avg',\n",
       " 'cafe_avg_price_1000',\n",
       " 'life_sq',\n",
       " 'build_count_before_1920',\n",
       " 'build_count_block',\n",
       " 'raion_build_count_with_material_info',\n",
       " 'build_count_wood',\n",
       " 'build_count_frame',\n",
       " 'build_count_brick',\n",
       " 'build_count_monolith',\n",
       " 'build_count_panel',\n",
       " 'build_count_foam',\n",
       " 'build_count_slag',\n",
       " 'build_count_mix',\n",
       " 'raion_build_count_with_builddate_info',\n",
       " 'build_count_1971-1995',\n",
       " 'build_count_1921-1945',\n",
       " 'build_count_1946-1970',\n",
       " 'build_count_after_1995',\n",
       " 'cafe_sum_1500_min_price_avg',\n",
       " 'cafe_sum_1500_max_price_avg',\n",
       " 'cafe_avg_price_1500',\n",
       " 'cafe_sum_2000_min_price_avg',\n",
       " 'cafe_sum_2000_max_price_avg',\n",
       " 'cafe_avg_price_2000',\n",
       " 'cafe_sum_3000_min_price_avg',\n",
       " 'cafe_sum_3000_max_price_avg',\n",
       " 'cafe_avg_price_3000',\n",
       " 'cafe_sum_5000_max_price_avg',\n",
       " 'cafe_sum_5000_min_price_avg',\n",
       " 'cafe_avg_price_5000',\n",
       " 'prom_part_5000',\n",
       " 'floor',\n",
       " 'railroad_station_walk_km',\n",
       " 'railroad_station_walk_min',\n",
       " 'ID_railroad_station_walk',\n",
       " 'metro_km_walk',\n",
       " 'metro_min_walk']"
      ]
     },
     "execution_count": 7,
     "metadata": {},
     "output_type": "execute_result"
    }
   ],
   "source": [
    "train_na = train_df.isnull().sum()\n",
    "train_na = train_na.drop(train_na[train_na == 0].index).sort_values(ascending=False)\n",
    "train_na_list = train_na.index.tolist()\n",
    "train_na_list"
   ]
  },
  {
   "cell_type": "code",
   "execution_count": 8,
   "metadata": {
    "collapsed": true
   },
   "outputs": [],
   "source": [
    "train_df = train_df.fillna(train_df.mean())\n",
    "test_df = test_df.fillna(test_df.mean())"
   ]
  },
  {
   "cell_type": "code",
   "execution_count": 9,
   "metadata": {
    "collapsed": false
   },
   "outputs": [
    {
     "name": "stdout",
     "output_type": "stream",
     "text": [
      "id                                       0\n",
      "timestamp                                0\n",
      "full_sq                                  0\n",
      "life_sq                                  0\n",
      "floor                                    0\n",
      "max_floor                                0\n",
      "material                                 0\n",
      "build_year                               0\n",
      "num_room                                 0\n",
      "kitch_sq                                 0\n",
      "state                                    0\n",
      "product_type                             0\n",
      "sub_area                                 0\n",
      "area_m                                   0\n",
      "raion_popul                              0\n",
      "green_zone_part                          0\n",
      "indust_part                              0\n",
      "children_preschool                       0\n",
      "preschool_quota                          0\n",
      "preschool_education_centers_raion        0\n",
      "children_school                          0\n",
      "school_quota                             0\n",
      "school_education_centers_raion           0\n",
      "school_education_centers_top_20_raion    0\n",
      "hospital_beds_raion                      0\n",
      "healthcare_centers_raion                 0\n",
      "university_top_20_raion                  0\n",
      "sport_objects_raion                      0\n",
      "additional_education_raion               0\n",
      "culture_objects_top_25                   0\n",
      "                                        ..\n",
      "big_church_count_3000                    0\n",
      "church_count_3000                        0\n",
      "mosque_count_3000                        0\n",
      "leisure_count_3000                       0\n",
      "sport_count_3000                         0\n",
      "market_count_3000                        0\n",
      "green_part_5000                          0\n",
      "prom_part_5000                           0\n",
      "office_count_5000                        0\n",
      "office_sqm_5000                          0\n",
      "trc_count_5000                           0\n",
      "trc_sqm_5000                             0\n",
      "cafe_count_5000                          0\n",
      "cafe_sum_5000_min_price_avg              0\n",
      "cafe_sum_5000_max_price_avg              0\n",
      "cafe_avg_price_5000                      0\n",
      "cafe_count_5000_na_price                 0\n",
      "cafe_count_5000_price_500                0\n",
      "cafe_count_5000_price_1000               0\n",
      "cafe_count_5000_price_1500               0\n",
      "cafe_count_5000_price_2500               0\n",
      "cafe_count_5000_price_4000               0\n",
      "cafe_count_5000_price_high               0\n",
      "big_church_count_5000                    0\n",
      "church_count_5000                        0\n",
      "mosque_count_5000                        0\n",
      "leisure_count_5000                       0\n",
      "sport_count_5000                         0\n",
      "market_count_5000                        0\n",
      "price_doc                                0\n",
      "dtype: int64\n",
      "id                                        0\n",
      "timestamp                                 0\n",
      "full_sq                                   0\n",
      "life_sq                                   0\n",
      "floor                                     0\n",
      "max_floor                                 0\n",
      "material                                  0\n",
      "build_year                                0\n",
      "num_room                                  0\n",
      "kitch_sq                                  0\n",
      "state                                     0\n",
      "product_type                             33\n",
      "sub_area                                  0\n",
      "area_m                                    0\n",
      "raion_popul                               0\n",
      "green_zone_part                           0\n",
      "indust_part                               0\n",
      "children_preschool                        0\n",
      "preschool_quota                           0\n",
      "preschool_education_centers_raion         0\n",
      "children_school                           0\n",
      "school_quota                              0\n",
      "school_education_centers_raion            0\n",
      "school_education_centers_top_20_raion     0\n",
      "hospital_beds_raion                       0\n",
      "healthcare_centers_raion                  0\n",
      "university_top_20_raion                   0\n",
      "sport_objects_raion                       0\n",
      "additional_education_raion                0\n",
      "culture_objects_top_25                    0\n",
      "                                         ..\n",
      "cafe_count_3000_price_high                0\n",
      "big_church_count_3000                     0\n",
      "church_count_3000                         0\n",
      "mosque_count_3000                         0\n",
      "leisure_count_3000                        0\n",
      "sport_count_3000                          0\n",
      "market_count_3000                         0\n",
      "green_part_5000                           0\n",
      "prom_part_5000                            0\n",
      "office_count_5000                         0\n",
      "office_sqm_5000                           0\n",
      "trc_count_5000                            0\n",
      "trc_sqm_5000                              0\n",
      "cafe_count_5000                           0\n",
      "cafe_sum_5000_min_price_avg               0\n",
      "cafe_sum_5000_max_price_avg               0\n",
      "cafe_avg_price_5000                       0\n",
      "cafe_count_5000_na_price                  0\n",
      "cafe_count_5000_price_500                 0\n",
      "cafe_count_5000_price_1000                0\n",
      "cafe_count_5000_price_1500                0\n",
      "cafe_count_5000_price_2500                0\n",
      "cafe_count_5000_price_4000                0\n",
      "cafe_count_5000_price_high                0\n",
      "big_church_count_5000                     0\n",
      "church_count_5000                         0\n",
      "mosque_count_5000                         0\n",
      "leisure_count_5000                        0\n",
      "sport_count_5000                          0\n",
      "market_count_5000                         0\n",
      "dtype: int64\n"
     ]
    }
   ],
   "source": [
    "print(train_df.isnull().sum())\n",
    "print(test_df.isnull().sum())"
   ]
  },
  {
   "cell_type": "markdown",
   "metadata": {},
   "source": [
    "#### Add some features"
   ]
  },
  {
   "cell_type": "code",
   "execution_count": 10,
   "metadata": {
    "collapsed": true
   },
   "outputs": [],
   "source": [
    "def add_features(df):\n",
    "    \n",
    "    #Floor\n",
    "    df['floor_ratio'] = df['floor'] / df['max_floor'].astype(float)\n",
    "    df['floor_from_top'] = df['max_floor'] - df['floor']\n",
    "    #Sq areas\n",
    "    df['kitch_sq_ratio'] = df['kitch_sq'] / df['full_sq'].astype(float)\n",
    "    df['life_sq_ratio'] = df['life_sq'] / df['full_sq'].astype(float)\n",
    "    df['full_sq_per_room'] = df['full_sq'] / df['num_room'].astype(float)\n",
    "    df['life_sq_per_room'] = df['life_sq'] / df['num_room'].astype(float)\n",
    "    df['full_living_sq_diff'] = df['full_sq'] - df['life_sq']\n",
    "\n",
    "    #Date\n",
    "    df[\"year\"] = pd.to_datetime(df[\"timestamp\"], coerce=True).dt.year\n",
    "    df[\"month\"] = pd.to_datetime(df[\"timestamp\"], coerce=True).dt.month\n",
    "    df[\"day\"] = pd.to_datetime(df[\"timestamp\"], coerce=True).dt.day\n",
    "    df[\"dayofyear\"] = pd.to_datetime(df[\"timestamp\"], coerce=True).dt.dayofyear\n",
    "    df[\"dayofweek\"] = pd.to_datetime(df[\"timestamp\"], coerce=True).dt.dayofweek\n",
    "    df[\"weekofyear\"] = pd.to_datetime(df[\"timestamp\"], coerce=True).dt.weekofyear\n",
    "    \n",
    "    # Add month-year\n",
    "    month_year = (df['month'] + df['year'] * 100)\n",
    "    month_year_cnt_map = month_year.value_counts().to_dict()\n",
    "    df['month_year_cnt'] = month_year.map(month_year_cnt_map)\n",
    "    \n",
    "    # Add week-year count\n",
    "    week_year = (df[\"weekofyear\"] + df['year'] * 100)\n",
    "    week_year_cnt_map = week_year.value_counts().to_dict()\n",
    "    df['week_year_cnt'] = week_year.map(week_year_cnt_map)\n",
    "    \n",
    "    # building \n",
    "    df[\"year_old\"] = 2020- df[\"build_year\"]\n",
    "    \n",
    "\n",
    "    return df"
   ]
  },
  {
   "cell_type": "code",
   "execution_count": 11,
   "metadata": {
    "collapsed": false
   },
   "outputs": [
    {
     "name": "stdout",
     "output_type": "stream",
     "text": [
      "(30464, 308)\n",
      "(7662, 307)\n"
     ]
    },
    {
     "name": "stderr",
     "output_type": "stream",
     "text": [
      "/anaconda/lib/python3.6/site-packages/ipykernel/__main__.py:14: FutureWarning: the coerce=True keyword is deprecated, use errors='coerce' instead\n",
      "/anaconda/lib/python3.6/site-packages/ipykernel/__main__.py:15: FutureWarning: the coerce=True keyword is deprecated, use errors='coerce' instead\n",
      "/anaconda/lib/python3.6/site-packages/ipykernel/__main__.py:16: FutureWarning: the coerce=True keyword is deprecated, use errors='coerce' instead\n",
      "/anaconda/lib/python3.6/site-packages/ipykernel/__main__.py:17: FutureWarning: the coerce=True keyword is deprecated, use errors='coerce' instead\n",
      "/anaconda/lib/python3.6/site-packages/ipykernel/__main__.py:18: FutureWarning: the coerce=True keyword is deprecated, use errors='coerce' instead\n",
      "/anaconda/lib/python3.6/site-packages/ipykernel/__main__.py:19: FutureWarning: the coerce=True keyword is deprecated, use errors='coerce' instead\n"
     ]
    }
   ],
   "source": [
    "train_df = add_features(train_df)\n",
    "test_df = add_features(test_df)\n",
    "\n",
    "print(train_df.shape)\n",
    "print(test_df.shape)"
   ]
  },
  {
   "cell_type": "code",
   "execution_count": 13,
   "metadata": {
    "collapsed": false
   },
   "outputs": [],
   "source": [
    "# Remove timestamp column (may overfit the model in train)\n",
    "train_df.drop(['timestamp'], axis=1, inplace=True)\n",
    "test_df.drop(['timestamp'], axis=1, inplace=True)"
   ]
  },
  {
   "cell_type": "code",
   "execution_count": 14,
   "metadata": {
    "collapsed": false
   },
   "outputs": [
    {
     "data": {
      "text/html": [
       "<div>\n",
       "<table border=\"1\" class=\"dataframe\">\n",
       "  <thead>\n",
       "    <tr style=\"text-align: right;\">\n",
       "      <th></th>\n",
       "      <th>id</th>\n",
       "      <th>full_sq</th>\n",
       "      <th>life_sq</th>\n",
       "      <th>floor</th>\n",
       "      <th>max_floor</th>\n",
       "      <th>material</th>\n",
       "      <th>build_year</th>\n",
       "      <th>num_room</th>\n",
       "      <th>kitch_sq</th>\n",
       "      <th>state</th>\n",
       "      <th>...</th>\n",
       "      <th>full_living_sq_diff</th>\n",
       "      <th>year</th>\n",
       "      <th>month</th>\n",
       "      <th>day</th>\n",
       "      <th>dayofyear</th>\n",
       "      <th>dayofweek</th>\n",
       "      <th>weekofyear</th>\n",
       "      <th>month_year_cnt</th>\n",
       "      <th>week_year_cnt</th>\n",
       "      <th>year_old</th>\n",
       "    </tr>\n",
       "  </thead>\n",
       "  <tbody>\n",
       "    <tr>\n",
       "      <th>0</th>\n",
       "      <td>1</td>\n",
       "      <td>43</td>\n",
       "      <td>27.0</td>\n",
       "      <td>4.0</td>\n",
       "      <td>12.559613</td>\n",
       "      <td>1.826736</td>\n",
       "      <td>1879.239962</td>\n",
       "      <td>1.909826</td>\n",
       "      <td>5.970745</td>\n",
       "      <td>2.105288</td>\n",
       "      <td>...</td>\n",
       "      <td>16.0</td>\n",
       "      <td>2011</td>\n",
       "      <td>8</td>\n",
       "      <td>20</td>\n",
       "      <td>232</td>\n",
       "      <td>5</td>\n",
       "      <td>33</td>\n",
       "      <td>3</td>\n",
       "      <td>1</td>\n",
       "      <td>140.760038</td>\n",
       "    </tr>\n",
       "    <tr>\n",
       "      <th>1</th>\n",
       "      <td>2</td>\n",
       "      <td>34</td>\n",
       "      <td>19.0</td>\n",
       "      <td>3.0</td>\n",
       "      <td>12.559613</td>\n",
       "      <td>1.826736</td>\n",
       "      <td>1879.239962</td>\n",
       "      <td>1.909826</td>\n",
       "      <td>5.970745</td>\n",
       "      <td>2.105288</td>\n",
       "      <td>...</td>\n",
       "      <td>15.0</td>\n",
       "      <td>2011</td>\n",
       "      <td>8</td>\n",
       "      <td>23</td>\n",
       "      <td>235</td>\n",
       "      <td>1</td>\n",
       "      <td>34</td>\n",
       "      <td>3</td>\n",
       "      <td>2</td>\n",
       "      <td>140.760038</td>\n",
       "    </tr>\n",
       "    <tr>\n",
       "      <th>2</th>\n",
       "      <td>3</td>\n",
       "      <td>43</td>\n",
       "      <td>29.0</td>\n",
       "      <td>2.0</td>\n",
       "      <td>12.559613</td>\n",
       "      <td>1.826736</td>\n",
       "      <td>1879.239962</td>\n",
       "      <td>1.909826</td>\n",
       "      <td>5.970745</td>\n",
       "      <td>2.105288</td>\n",
       "      <td>...</td>\n",
       "      <td>14.0</td>\n",
       "      <td>2011</td>\n",
       "      <td>8</td>\n",
       "      <td>27</td>\n",
       "      <td>239</td>\n",
       "      <td>5</td>\n",
       "      <td>34</td>\n",
       "      <td>3</td>\n",
       "      <td>2</td>\n",
       "      <td>140.760038</td>\n",
       "    </tr>\n",
       "    <tr>\n",
       "      <th>3</th>\n",
       "      <td>4</td>\n",
       "      <td>89</td>\n",
       "      <td>50.0</td>\n",
       "      <td>9.0</td>\n",
       "      <td>12.559613</td>\n",
       "      <td>1.826736</td>\n",
       "      <td>1879.239962</td>\n",
       "      <td>1.909826</td>\n",
       "      <td>5.970745</td>\n",
       "      <td>2.105288</td>\n",
       "      <td>...</td>\n",
       "      <td>39.0</td>\n",
       "      <td>2011</td>\n",
       "      <td>9</td>\n",
       "      <td>1</td>\n",
       "      <td>244</td>\n",
       "      <td>3</td>\n",
       "      <td>35</td>\n",
       "      <td>39</td>\n",
       "      <td>1</td>\n",
       "      <td>140.760038</td>\n",
       "    </tr>\n",
       "    <tr>\n",
       "      <th>4</th>\n",
       "      <td>5</td>\n",
       "      <td>77</td>\n",
       "      <td>77.0</td>\n",
       "      <td>4.0</td>\n",
       "      <td>12.559613</td>\n",
       "      <td>1.826736</td>\n",
       "      <td>1879.239962</td>\n",
       "      <td>1.909826</td>\n",
       "      <td>5.970745</td>\n",
       "      <td>2.105288</td>\n",
       "      <td>...</td>\n",
       "      <td>0.0</td>\n",
       "      <td>2011</td>\n",
       "      <td>9</td>\n",
       "      <td>5</td>\n",
       "      <td>248</td>\n",
       "      <td>0</td>\n",
       "      <td>36</td>\n",
       "      <td>39</td>\n",
       "      <td>5</td>\n",
       "      <td>140.760038</td>\n",
       "    </tr>\n",
       "  </tbody>\n",
       "</table>\n",
       "<p>5 rows × 307 columns</p>\n",
       "</div>"
      ],
      "text/plain": [
       "   id  full_sq  life_sq  floor  max_floor  material   build_year  num_room  \\\n",
       "0   1       43     27.0    4.0  12.559613  1.826736  1879.239962  1.909826   \n",
       "1   2       34     19.0    3.0  12.559613  1.826736  1879.239962  1.909826   \n",
       "2   3       43     29.0    2.0  12.559613  1.826736  1879.239962  1.909826   \n",
       "3   4       89     50.0    9.0  12.559613  1.826736  1879.239962  1.909826   \n",
       "4   5       77     77.0    4.0  12.559613  1.826736  1879.239962  1.909826   \n",
       "\n",
       "   kitch_sq     state     ...     full_living_sq_diff  year  month  day  \\\n",
       "0  5.970745  2.105288     ...                    16.0  2011      8   20   \n",
       "1  5.970745  2.105288     ...                    15.0  2011      8   23   \n",
       "2  5.970745  2.105288     ...                    14.0  2011      8   27   \n",
       "3  5.970745  2.105288     ...                    39.0  2011      9    1   \n",
       "4  5.970745  2.105288     ...                     0.0  2011      9    5   \n",
       "\n",
       "   dayofyear  dayofweek  weekofyear  month_year_cnt  week_year_cnt    year_old  \n",
       "0        232          5          33               3              1  140.760038  \n",
       "1        235          1          34               3              2  140.760038  \n",
       "2        239          5          34               3              2  140.760038  \n",
       "3        244          3          35              39              1  140.760038  \n",
       "4        248          0          36              39              5  140.760038  \n",
       "\n",
       "[5 rows x 307 columns]"
      ]
     },
     "execution_count": 14,
     "metadata": {},
     "output_type": "execute_result"
    }
   ],
   "source": [
    "train_df.head()"
   ]
  },
  {
   "cell_type": "markdown",
   "metadata": {},
   "source": [
    "#### Log the price"
   ]
  },
  {
   "cell_type": "code",
   "execution_count": null,
   "metadata": {
    "collapsed": false
   },
   "outputs": [],
   "source": [
    "#train_df['price_doc_log'] = np.log1p(train_df['price_doc'])"
   ]
  },
  {
   "cell_type": "markdown",
   "metadata": {},
   "source": [
    "### Variable importance"
   ]
  },
  {
   "cell_type": "code",
   "execution_count": null,
   "metadata": {
    "collapsed": true
   },
   "outputs": [],
   "source": [
    "\"\"\"\n",
    "from sklearn.ensemble import RandomForestRegressor\n",
    "from sklearn.preprocessing import LabelEncoder\n",
    "X_train = train_df.drop(labels=['timestamp', 'id', 'incineration_raion'], axis=1).dropna()\n",
    "y_train = X_train['price_doc_log']\n",
    "X_train.drop('price_doc_log', axis=1, inplace=True)\n",
    "for f in X_train.columns:\n",
    "    if X_train[f].dtype == 'object':\n",
    "        lbl = LabelEncoder()\n",
    "        lbl.fit(X_train[f])\n",
    "        X_train[f] = lbl.transform(X_train[f])\n",
    "rf = RandomForestRegressor(random_state=0)\n",
    "rf = rf.fit(X_train, y_train)\n",
    "\"\"\""
   ]
  },
  {
   "cell_type": "code",
   "execution_count": null,
   "metadata": {
    "collapsed": false
   },
   "outputs": [],
   "source": [
    "\"\"\"\n",
    "fi = list(zip(X_train.columns, rf.feature_importances_))\n",
    "print('## rf variable importance')\n",
    "d = [print('## %-40s%s' % (i)) for i in fi[:30]]\n",
    "\"\"\""
   ]
  },
  {
   "cell_type": "code",
   "execution_count": null,
   "metadata": {
    "collapsed": false
   },
   "outputs": [],
   "source": [
    "#print(fi[:30])"
   ]
  },
  {
   "cell_type": "code",
   "execution_count": null,
   "metadata": {
    "collapsed": false
   },
   "outputs": [],
   "source": [
    "#[i[0] for i in fi[:30]]"
   ]
  },
  {
   "cell_type": "code",
   "execution_count": null,
   "metadata": {
    "collapsed": false
   },
   "outputs": [],
   "source": [
    "#train_df = train_df.drop('price_doc_log',axis = 1)"
   ]
  },
  {
   "cell_type": "markdown",
   "metadata": {},
   "source": [
    "## Model"
   ]
  },
  {
   "cell_type": "code",
   "execution_count": 15,
   "metadata": {
    "collapsed": false
   },
   "outputs": [
    {
     "name": "stdout",
     "output_type": "stream",
     "text": [
      "Checking whether there is an H2O instance running at http://localhost:54321..... not found.\n",
      "Attempting to start a local H2O server...\n",
      "  Java Version: java version \"1.8.0_131\"; Java(TM) SE Runtime Environment (build 1.8.0_131-b11); Java HotSpot(TM) 64-Bit Server VM (build 25.131-b11, mixed mode)\n",
      "  Starting server from /anaconda/lib/python3.6/site-packages/h2o/backend/bin/h2o.jar\n",
      "  Ice root: /var/folders/4r/5_zmhl8n2y90_l2743gnnbj00000gn/T/tmppmpwyus0\n",
      "  JVM stdout: /var/folders/4r/5_zmhl8n2y90_l2743gnnbj00000gn/T/tmppmpwyus0/h2o_zwang_started_from_python.out\n",
      "  JVM stderr: /var/folders/4r/5_zmhl8n2y90_l2743gnnbj00000gn/T/tmppmpwyus0/h2o_zwang_started_from_python.err\n",
      "  Server is running at http://127.0.0.1:54321\n",
      "Connecting to H2O server at http://127.0.0.1:54321... successful.\n"
     ]
    },
    {
     "data": {
      "text/html": [
       "<div style=\"overflow:auto\"><table style=\"width:50%\"><tr><td>H2O cluster uptime:</td>\n",
       "<td>04 secs</td></tr>\n",
       "<tr><td>H2O cluster version:</td>\n",
       "<td>3.12.0.1</td></tr>\n",
       "<tr><td>H2O cluster version age:</td>\n",
       "<td>14 days, 22 hours and 10 minutes </td></tr>\n",
       "<tr><td>H2O cluster name:</td>\n",
       "<td>H2O_from_python_zwang_udglak</td></tr>\n",
       "<tr><td>H2O cluster total nodes:</td>\n",
       "<td>1</td></tr>\n",
       "<tr><td>H2O cluster free memory:</td>\n",
       "<td>3.556 Gb</td></tr>\n",
       "<tr><td>H2O cluster total cores:</td>\n",
       "<td>4</td></tr>\n",
       "<tr><td>H2O cluster allowed cores:</td>\n",
       "<td>4</td></tr>\n",
       "<tr><td>H2O cluster status:</td>\n",
       "<td>accepting new members, healthy</td></tr>\n",
       "<tr><td>H2O connection url:</td>\n",
       "<td>http://127.0.0.1:54321</td></tr>\n",
       "<tr><td>H2O connection proxy:</td>\n",
       "<td>None</td></tr>\n",
       "<tr><td>H2O internal security:</td>\n",
       "<td>False</td></tr>\n",
       "<tr><td>Python version:</td>\n",
       "<td>3.6.0 final</td></tr></table></div>"
      ],
      "text/plain": [
       "--------------------------  --------------------------------\n",
       "H2O cluster uptime:         04 secs\n",
       "H2O cluster version:        3.12.0.1\n",
       "H2O cluster version age:    14 days, 22 hours and 10 minutes\n",
       "H2O cluster name:           H2O_from_python_zwang_udglak\n",
       "H2O cluster total nodes:    1\n",
       "H2O cluster free memory:    3.556 Gb\n",
       "H2O cluster total cores:    4\n",
       "H2O cluster allowed cores:  4\n",
       "H2O cluster status:         accepting new members, healthy\n",
       "H2O connection url:         http://127.0.0.1:54321\n",
       "H2O connection proxy:\n",
       "H2O internal security:      False\n",
       "Python version:             3.6.0 final\n",
       "--------------------------  --------------------------------"
      ]
     },
     "metadata": {},
     "output_type": "display_data"
    }
   ],
   "source": [
    "import h2o\n",
    "from h2o.estimators.gbm import H2OGradientBoostingEstimator \n",
    "from h2o.estimators.random_forest import H2ORandomForestEstimator\n",
    "from h2o.grid.grid_search import H2OGridSearch \n",
    "from h2o.estimators.xgboost import H2OXGBoostEstimator\n",
    "from h2o.estimators.stackedensemble import H2OStackedEnsembleEstimator\n",
    "import xgboost as xgb\n",
    "h2o.init(nthreads=-1, max_mem_size=\"4g\") # give h2o as much memory as possible\n",
    "h2o.no_progress() # turn off h2o progress bars\n",
    "\n",
    "import numpy as np\n",
    "import pandas as pd"
   ]
  },
  {
   "cell_type": "code",
   "execution_count": 16,
   "metadata": {
    "collapsed": false
   },
   "outputs": [
    {
     "name": "stdout",
     "output_type": "stream",
     "text": [
      "(30464, 307)\n",
      "(7662, 306)\n"
     ]
    }
   ],
   "source": [
    "print(train_df.shape)\n",
    "print(test_df.shape)"
   ]
  },
  {
   "cell_type": "code",
   "execution_count": 17,
   "metadata": {
    "collapsed": false
   },
   "outputs": [
    {
     "name": "stdout",
     "output_type": "stream",
     "text": [
      "(30464, 307)\n",
      "(7662, 307)\n"
     ]
    }
   ],
   "source": [
    "train = h2o.H2OFrame(train_df)\n",
    "test = h2o.H2OFrame(test_df)\n",
    "\n",
    "dummy_col = np.random.rand(test.shape[0])\n",
    "test = test.cbind(h2o.H2OFrame(dummy_col))\n",
    "cols = test.columns\n",
    "cols[-1] = 'price_doc'\n",
    "test.columns = cols\n",
    "print(train.shape)\n",
    "print(test.shape)"
   ]
  },
  {
   "cell_type": "code",
   "execution_count": 18,
   "metadata": {
    "collapsed": true
   },
   "outputs": [],
   "source": [
    "def get_type_lists(frame=train, rejects=['id', 'price_doc']):   \n",
    "    nums, cats = [], []\n",
    "    for key, val in frame.types.items():\n",
    "        if key not in rejects:\n",
    "            if val == 'enum':\n",
    "                cats.append(key)\n",
    "            else: \n",
    "                nums.append(key)                \n",
    "    print('Numeric =', nums)                \n",
    "    print()\n",
    "    print('Categorical =', cats)\n",
    "    \n",
    "    return nums, cats"
   ]
  },
  {
   "cell_type": "code",
   "execution_count": 19,
   "metadata": {
    "collapsed": false,
    "scrolled": true
   },
   "outputs": [
    {
     "name": "stdout",
     "output_type": "stream",
     "text": [
      "Numeric = ['full_sq', 'life_sq', 'floor', 'max_floor', 'material', 'build_year', 'num_room', 'kitch_sq', 'state', 'area_m', 'raion_popul', 'green_zone_part', 'indust_part', 'children_preschool', 'preschool_quota', 'preschool_education_centers_raion', 'children_school', 'school_quota', 'school_education_centers_raion', 'school_education_centers_top_20_raion', 'hospital_beds_raion', 'healthcare_centers_raion', 'university_top_20_raion', 'sport_objects_raion', 'additional_education_raion', 'culture_objects_top_25_raion', 'shopping_centers_raion', 'office_raion', 'full_all', 'male_f', 'female_f', 'young_all', 'young_male', 'young_female', 'work_all', 'work_male', 'work_female', 'ekder_all', 'ekder_male', 'ekder_female', '0_6_all', '0_6_male', '0_6_female', '7_14_all', '7_14_male', '7_14_female', '0_17_all', '0_17_male', '0_17_female', '16_29_all', '16_29_male', '16_29_female', '0_13_all', '0_13_male', '0_13_female', 'raion_build_count_with_material_info', 'build_count_block', 'build_count_wood', 'build_count_frame', 'build_count_brick', 'build_count_monolith', 'build_count_panel', 'build_count_foam', 'build_count_slag', 'build_count_mix', 'raion_build_count_with_builddate_info', 'build_count_before_1920', 'build_count_1921-1945', 'build_count_1946-1970', 'build_count_1971-1995', 'build_count_after_1995', 'ID_metro', 'metro_min_avto', 'metro_km_avto', 'metro_min_walk', 'metro_km_walk', 'kindergarten_km', 'school_km', 'park_km', 'green_zone_km', 'industrial_km', 'water_treatment_km', 'cemetery_km', 'incineration_km', 'railroad_station_walk_km', 'railroad_station_walk_min', 'ID_railroad_station_walk', 'railroad_station_avto_km', 'railroad_station_avto_min', 'ID_railroad_station_avto', 'public_transport_station_km', 'public_transport_station_min_walk', 'water_km', 'mkad_km', 'ttk_km', 'sadovoe_km', 'bulvar_ring_km', 'kremlin_km', 'big_road1_km', 'ID_big_road1', 'big_road2_km', 'ID_big_road2', 'railroad_km', 'zd_vokzaly_avto_km', 'ID_railroad_terminal', 'bus_terminal_avto_km', 'ID_bus_terminal', 'oil_chemistry_km', 'nuclear_reactor_km', 'radiation_km', 'power_transmission_line_km', 'thermal_power_plant_km', 'ts_km', 'big_market_km', 'market_shop_km', 'fitness_km', 'swim_pool_km', 'ice_rink_km', 'stadium_km', 'basketball_km', 'hospice_morgue_km', 'detention_facility_km', 'public_healthcare_km', 'university_km', 'workplaces_km', 'shopping_centers_km', 'office_km', 'additional_education_km', 'preschool_km', 'big_church_km', 'church_synagogue_km', 'mosque_km', 'theater_km', 'museum_km', 'exhibition_km', 'catering_km', 'green_part_500', 'prom_part_500', 'office_count_500', 'office_sqm_500', 'trc_count_500', 'trc_sqm_500', 'cafe_count_500', 'cafe_sum_500_min_price_avg', 'cafe_sum_500_max_price_avg', 'cafe_avg_price_500', 'cafe_count_500_na_price', 'cafe_count_500_price_500', 'cafe_count_500_price_1000', 'cafe_count_500_price_1500', 'cafe_count_500_price_2500', 'cafe_count_500_price_4000', 'cafe_count_500_price_high', 'big_church_count_500', 'church_count_500', 'mosque_count_500', 'leisure_count_500', 'sport_count_500', 'market_count_500', 'green_part_1000', 'prom_part_1000', 'office_count_1000', 'office_sqm_1000', 'trc_count_1000', 'trc_sqm_1000', 'cafe_count_1000', 'cafe_sum_1000_min_price_avg', 'cafe_sum_1000_max_price_avg', 'cafe_avg_price_1000', 'cafe_count_1000_na_price', 'cafe_count_1000_price_500', 'cafe_count_1000_price_1000', 'cafe_count_1000_price_1500', 'cafe_count_1000_price_2500', 'cafe_count_1000_price_4000', 'cafe_count_1000_price_high', 'big_church_count_1000', 'church_count_1000', 'mosque_count_1000', 'leisure_count_1000', 'sport_count_1000', 'market_count_1000', 'green_part_1500', 'prom_part_1500', 'office_count_1500', 'office_sqm_1500', 'trc_count_1500', 'trc_sqm_1500', 'cafe_count_1500', 'cafe_sum_1500_min_price_avg', 'cafe_sum_1500_max_price_avg', 'cafe_avg_price_1500', 'cafe_count_1500_na_price', 'cafe_count_1500_price_500', 'cafe_count_1500_price_1000', 'cafe_count_1500_price_1500', 'cafe_count_1500_price_2500', 'cafe_count_1500_price_4000', 'cafe_count_1500_price_high', 'big_church_count_1500', 'church_count_1500', 'mosque_count_1500', 'leisure_count_1500', 'sport_count_1500', 'market_count_1500', 'green_part_2000', 'prom_part_2000', 'office_count_2000', 'office_sqm_2000', 'trc_count_2000', 'trc_sqm_2000', 'cafe_count_2000', 'cafe_sum_2000_min_price_avg', 'cafe_sum_2000_max_price_avg', 'cafe_avg_price_2000', 'cafe_count_2000_na_price', 'cafe_count_2000_price_500', 'cafe_count_2000_price_1000', 'cafe_count_2000_price_1500', 'cafe_count_2000_price_2500', 'cafe_count_2000_price_4000', 'cafe_count_2000_price_high', 'big_church_count_2000', 'church_count_2000', 'mosque_count_2000', 'leisure_count_2000', 'sport_count_2000', 'market_count_2000', 'green_part_3000', 'prom_part_3000', 'office_count_3000', 'office_sqm_3000', 'trc_count_3000', 'trc_sqm_3000', 'cafe_count_3000', 'cafe_sum_3000_min_price_avg', 'cafe_sum_3000_max_price_avg', 'cafe_avg_price_3000', 'cafe_count_3000_na_price', 'cafe_count_3000_price_500', 'cafe_count_3000_price_1000', 'cafe_count_3000_price_1500', 'cafe_count_3000_price_2500', 'cafe_count_3000_price_4000', 'cafe_count_3000_price_high', 'big_church_count_3000', 'church_count_3000', 'mosque_count_3000', 'leisure_count_3000', 'sport_count_3000', 'market_count_3000', 'green_part_5000', 'prom_part_5000', 'office_count_5000', 'office_sqm_5000', 'trc_count_5000', 'trc_sqm_5000', 'cafe_count_5000', 'cafe_sum_5000_min_price_avg', 'cafe_sum_5000_max_price_avg', 'cafe_avg_price_5000', 'cafe_count_5000_na_price', 'cafe_count_5000_price_500', 'cafe_count_5000_price_1000', 'cafe_count_5000_price_1500', 'cafe_count_5000_price_2500', 'cafe_count_5000_price_4000', 'cafe_count_5000_price_high', 'big_church_count_5000', 'church_count_5000', 'mosque_count_5000', 'leisure_count_5000', 'sport_count_5000', 'market_count_5000', 'floor_ratio', 'floor_from_top', 'kitch_sq_ratio', 'life_sq_ratio', 'full_sq_per_room', 'life_sq_per_room', 'full_living_sq_diff', 'year', 'month', 'day', 'dayofyear', 'dayofweek', 'weekofyear', 'month_year_cnt', 'week_year_cnt', 'year_old']\n",
      "\n",
      "Categorical = ['product_type', 'sub_area', 'culture_objects_top_25', 'thermal_power_plant_raion', 'incineration_raion', 'oil_chemistry_raion', 'radiation_raion', 'railroad_terminal_raion', 'big_market_raion', 'nuclear_reactor_raion', 'detention_facility_raion', 'water_1line', 'big_road1_1line', 'railroad_1line', 'ecology']\n"
     ]
    }
   ],
   "source": [
    "original_nums, cats = get_type_lists()"
   ]
  },
  {
   "cell_type": "code",
   "execution_count": 20,
   "metadata": {
    "collapsed": false
   },
   "outputs": [
    {
     "name": "stdout",
     "output_type": "stream",
     "text": [
      "(21378, 307)\n",
      "(9086, 307)\n"
     ]
    }
   ],
   "source": [
    "train, valid = train.split_frame([0.7], seed=12345)\n",
    "print(train.shape)\n",
    "print(valid.shape)"
   ]
  },
  {
   "cell_type": "markdown",
   "metadata": {},
   "source": [
    "### Encode categorical vars using shrunken averages"
   ]
  },
  {
   "cell_type": "code",
   "execution_count": 21,
   "metadata": {
    "collapsed": true
   },
   "outputs": [],
   "source": [
    "def target_encoder(training_frame, test_frame, x, y, lambda_=0.15, threshold=150, test=False):\n",
    "\n",
    "    # convert to pandas\n",
    "    trdf = training_frame.as_data_frame().loc[:, [x,y]] # df\n",
    "    tss = test_frame.as_data_frame().loc[:, x]          # series\n",
    "\n",
    "\n",
    "    # create dictionary of level:encode val\n",
    "\n",
    "    encode_name = x + '_Tencode'\n",
    "    overall_mean = trdf[y].mean()\n",
    "    row_val_dict = {}\n",
    "\n",
    "    for level in trdf[x].unique():\n",
    "        level_df = trdf[trdf[x] == level][y]\n",
    "        level_n = level_df.shape[0]\n",
    "        level_mean = level_df.mean()\n",
    "        if level_n >= threshold:\n",
    "            row_val_dict[level] = level_mean\n",
    "        else:\n",
    "            row_val_dict[level] = ((1 - lambda_) * level_mean) +\\\n",
    "                                  (lambda_ * overall_mean)\n",
    "\n",
    "    row_val_dict[np.nan] = overall_mean # handle missing values\n",
    "\n",
    "    if test:\n",
    "        print(row_val_dict)\n",
    "\n",
    "    # apply the transform to training data\n",
    "    trdf[encode_name] = trdf[x].apply(lambda i: row_val_dict[i])\n",
    "\n",
    "    # apply the transform to test data\n",
    "    tsdf = pd.DataFrame(columns=[x, encode_name])\n",
    "    tsdf[x] = tss\n",
    "    tsdf.loc[:, encode_name] = overall_mean # handle previously unseen values\n",
    "    # handle values that are seen in tsdf but not row_val_dict\n",
    "    for i, col_i in enumerate(tsdf[x]):\n",
    "        try:\n",
    "            row_val_dict[col_i]\n",
    "        except:\n",
    "            # a value that appeared in tsdf isn't in the row_val_dict so just\n",
    "            # make it the overall_mean\n",
    "            row_val_dict[col_i] = overall_mean\n",
    "    tsdf[encode_name] = tsdf[x].apply(lambda i: row_val_dict[i])\n",
    "\n",
    "\n",
    "    # convert back to H2O\n",
    "\n",
    "    trdf = h2o.H2OFrame(trdf[encode_name].as_matrix())\n",
    "    trdf.columns = [encode_name]\n",
    "\n",
    "    tsdf = h2o.H2OFrame(tsdf[encode_name].as_matrix())\n",
    "    tsdf.columns = [encode_name]\n",
    "\n",
    "    return (trdf, tsdf)"
   ]
  },
  {
   "cell_type": "code",
   "execution_count": 22,
   "metadata": {
    "collapsed": false,
    "scrolled": true
   },
   "outputs": [
    {
     "name": "stdout",
     "output_type": "stream",
     "text": [
      "Encoding: product_type (1/15) ...\n",
      "Encoding: sub_area (2/15) ...\n",
      "Encoding: culture_objects_top_25 (3/15) ...\n",
      "Encoding: thermal_power_plant_raion (4/15) ...\n",
      "Encoding: incineration_raion (5/15) ...\n",
      "Encoding: oil_chemistry_raion (6/15) ...\n",
      "Encoding: radiation_raion (7/15) ...\n",
      "Encoding: railroad_terminal_raion (8/15) ...\n",
      "Encoding: big_market_raion (9/15) ...\n",
      "Encoding: nuclear_reactor_raion (10/15) ...\n",
      "Encoding: detention_facility_raion (11/15) ...\n",
      "Encoding: water_1line (12/15) ...\n",
      "Encoding: big_road1_1line (13/15) ...\n",
      "Encoding: railroad_1line (14/15) ...\n",
      "Encoding: ecology (15/15) ...\n",
      "Done.\n"
     ]
    }
   ],
   "source": [
    "total = len(cats)\n",
    "for i, var in enumerate(cats):\n",
    "    \n",
    "    tr_enc, _ = target_encoder(train, test, var, 'price_doc')\n",
    "    v_enc, ts_enc = target_encoder(valid, test, var, 'price_doc')\n",
    "    \n",
    "    print('Encoding: ' + var + ' (' + str(i+1) + '/' + str(total) + ') ...')\n",
    "\n",
    "    train = train.cbind(tr_enc)\n",
    "    valid = valid.cbind(v_enc)\n",
    "    test = test.cbind(ts_enc)    \n",
    "    \n",
    "print('Done.')"
   ]
  },
  {
   "cell_type": "code",
   "execution_count": 23,
   "metadata": {
    "collapsed": false,
    "scrolled": true
   },
   "outputs": [
    {
     "name": "stdout",
     "output_type": "stream",
     "text": [
      "Numeric = ['full_sq', 'life_sq', 'floor', 'max_floor', 'material', 'build_year', 'num_room', 'kitch_sq', 'state', 'area_m', 'raion_popul', 'green_zone_part', 'indust_part', 'children_preschool', 'preschool_quota', 'preschool_education_centers_raion', 'children_school', 'school_quota', 'school_education_centers_raion', 'school_education_centers_top_20_raion', 'hospital_beds_raion', 'healthcare_centers_raion', 'university_top_20_raion', 'sport_objects_raion', 'additional_education_raion', 'culture_objects_top_25_raion', 'shopping_centers_raion', 'office_raion', 'full_all', 'male_f', 'female_f', 'young_all', 'young_male', 'young_female', 'work_all', 'work_male', 'work_female', 'ekder_all', 'ekder_male', 'ekder_female', '0_6_all', '0_6_male', '0_6_female', '7_14_all', '7_14_male', '7_14_female', '0_17_all', '0_17_male', '0_17_female', '16_29_all', '16_29_male', '16_29_female', '0_13_all', '0_13_male', '0_13_female', 'raion_build_count_with_material_info', 'build_count_block', 'build_count_wood', 'build_count_frame', 'build_count_brick', 'build_count_monolith', 'build_count_panel', 'build_count_foam', 'build_count_slag', 'build_count_mix', 'raion_build_count_with_builddate_info', 'build_count_before_1920', 'build_count_1921-1945', 'build_count_1946-1970', 'build_count_1971-1995', 'build_count_after_1995', 'ID_metro', 'metro_min_avto', 'metro_km_avto', 'metro_min_walk', 'metro_km_walk', 'kindergarten_km', 'school_km', 'park_km', 'green_zone_km', 'industrial_km', 'water_treatment_km', 'cemetery_km', 'incineration_km', 'railroad_station_walk_km', 'railroad_station_walk_min', 'ID_railroad_station_walk', 'railroad_station_avto_km', 'railroad_station_avto_min', 'ID_railroad_station_avto', 'public_transport_station_km', 'public_transport_station_min_walk', 'water_km', 'mkad_km', 'ttk_km', 'sadovoe_km', 'bulvar_ring_km', 'kremlin_km', 'big_road1_km', 'ID_big_road1', 'big_road2_km', 'ID_big_road2', 'railroad_km', 'zd_vokzaly_avto_km', 'ID_railroad_terminal', 'bus_terminal_avto_km', 'ID_bus_terminal', 'oil_chemistry_km', 'nuclear_reactor_km', 'radiation_km', 'power_transmission_line_km', 'thermal_power_plant_km', 'ts_km', 'big_market_km', 'market_shop_km', 'fitness_km', 'swim_pool_km', 'ice_rink_km', 'stadium_km', 'basketball_km', 'hospice_morgue_km', 'detention_facility_km', 'public_healthcare_km', 'university_km', 'workplaces_km', 'shopping_centers_km', 'office_km', 'additional_education_km', 'preschool_km', 'big_church_km', 'church_synagogue_km', 'mosque_km', 'theater_km', 'museum_km', 'exhibition_km', 'catering_km', 'green_part_500', 'prom_part_500', 'office_count_500', 'office_sqm_500', 'trc_count_500', 'trc_sqm_500', 'cafe_count_500', 'cafe_sum_500_min_price_avg', 'cafe_sum_500_max_price_avg', 'cafe_avg_price_500', 'cafe_count_500_na_price', 'cafe_count_500_price_500', 'cafe_count_500_price_1000', 'cafe_count_500_price_1500', 'cafe_count_500_price_2500', 'cafe_count_500_price_4000', 'cafe_count_500_price_high', 'big_church_count_500', 'church_count_500', 'mosque_count_500', 'leisure_count_500', 'sport_count_500', 'market_count_500', 'green_part_1000', 'prom_part_1000', 'office_count_1000', 'office_sqm_1000', 'trc_count_1000', 'trc_sqm_1000', 'cafe_count_1000', 'cafe_sum_1000_min_price_avg', 'cafe_sum_1000_max_price_avg', 'cafe_avg_price_1000', 'cafe_count_1000_na_price', 'cafe_count_1000_price_500', 'cafe_count_1000_price_1000', 'cafe_count_1000_price_1500', 'cafe_count_1000_price_2500', 'cafe_count_1000_price_4000', 'cafe_count_1000_price_high', 'big_church_count_1000', 'church_count_1000', 'mosque_count_1000', 'leisure_count_1000', 'sport_count_1000', 'market_count_1000', 'green_part_1500', 'prom_part_1500', 'office_count_1500', 'office_sqm_1500', 'trc_count_1500', 'trc_sqm_1500', 'cafe_count_1500', 'cafe_sum_1500_min_price_avg', 'cafe_sum_1500_max_price_avg', 'cafe_avg_price_1500', 'cafe_count_1500_na_price', 'cafe_count_1500_price_500', 'cafe_count_1500_price_1000', 'cafe_count_1500_price_1500', 'cafe_count_1500_price_2500', 'cafe_count_1500_price_4000', 'cafe_count_1500_price_high', 'big_church_count_1500', 'church_count_1500', 'mosque_count_1500', 'leisure_count_1500', 'sport_count_1500', 'market_count_1500', 'green_part_2000', 'prom_part_2000', 'office_count_2000', 'office_sqm_2000', 'trc_count_2000', 'trc_sqm_2000', 'cafe_count_2000', 'cafe_sum_2000_min_price_avg', 'cafe_sum_2000_max_price_avg', 'cafe_avg_price_2000', 'cafe_count_2000_na_price', 'cafe_count_2000_price_500', 'cafe_count_2000_price_1000', 'cafe_count_2000_price_1500', 'cafe_count_2000_price_2500', 'cafe_count_2000_price_4000', 'cafe_count_2000_price_high', 'big_church_count_2000', 'church_count_2000', 'mosque_count_2000', 'leisure_count_2000', 'sport_count_2000', 'market_count_2000', 'green_part_3000', 'prom_part_3000', 'office_count_3000', 'office_sqm_3000', 'trc_count_3000', 'trc_sqm_3000', 'cafe_count_3000', 'cafe_sum_3000_min_price_avg', 'cafe_sum_3000_max_price_avg', 'cafe_avg_price_3000', 'cafe_count_3000_na_price', 'cafe_count_3000_price_500', 'cafe_count_3000_price_1000', 'cafe_count_3000_price_1500', 'cafe_count_3000_price_2500', 'cafe_count_3000_price_4000', 'cafe_count_3000_price_high', 'big_church_count_3000', 'church_count_3000', 'mosque_count_3000', 'leisure_count_3000', 'sport_count_3000', 'market_count_3000', 'green_part_5000', 'prom_part_5000', 'office_count_5000', 'office_sqm_5000', 'trc_count_5000', 'trc_sqm_5000', 'cafe_count_5000', 'cafe_sum_5000_min_price_avg', 'cafe_sum_5000_max_price_avg', 'cafe_avg_price_5000', 'cafe_count_5000_na_price', 'cafe_count_5000_price_500', 'cafe_count_5000_price_1000', 'cafe_count_5000_price_1500', 'cafe_count_5000_price_2500', 'cafe_count_5000_price_4000', 'cafe_count_5000_price_high', 'big_church_count_5000', 'church_count_5000', 'mosque_count_5000', 'leisure_count_5000', 'sport_count_5000', 'market_count_5000', 'floor_ratio', 'floor_from_top', 'kitch_sq_ratio', 'life_sq_ratio', 'full_sq_per_room', 'life_sq_per_room', 'full_living_sq_diff', 'year', 'month', 'day', 'dayofyear', 'dayofweek', 'weekofyear', 'month_year_cnt', 'week_year_cnt', 'year_old', 'product_type_Tencode', 'sub_area_Tencode', 'culture_objects_top_25_Tencode', 'thermal_power_plant_raion_Tencode', 'incineration_raion_Tencode', 'oil_chemistry_raion_Tencode', 'radiation_raion_Tencode', 'railroad_terminal_raion_Tencode', 'big_market_raion_Tencode', 'nuclear_reactor_raion_Tencode', 'detention_facility_raion_Tencode', 'water_1line_Tencode', 'big_road1_1line_Tencode', 'railroad_1line_Tencode', 'ecology_Tencode']\n",
      "\n",
      "Categorical = ['product_type', 'sub_area', 'culture_objects_top_25', 'thermal_power_plant_raion', 'incineration_raion', 'oil_chemistry_raion', 'radiation_raion', 'railroad_terminal_raion', 'big_market_raion', 'nuclear_reactor_raion', 'detention_facility_raion', 'water_1line', 'big_road1_1line', 'railroad_1line', 'ecology']\n"
     ]
    }
   ],
   "source": [
    "encoded_nums, cats = get_type_lists(frame=train)"
   ]
  },
  {
   "cell_type": "markdown",
   "metadata": {},
   "source": [
    "### Log the price"
   ]
  },
  {
   "cell_type": "code",
   "execution_count": 24,
   "metadata": {
    "collapsed": false
   },
   "outputs": [
    {
     "data": {
      "text/html": [
       "<table>\n",
       "<thead>\n",
       "<tr><th style=\"text-align: right;\">  price_doc</th></tr>\n",
       "</thead>\n",
       "<tbody>\n",
       "<tr><td style=\"text-align: right;\">    15.582 </td></tr>\n",
       "<tr><td style=\"text-align: right;\">    15.6073</td></tr>\n",
       "<tr><td style=\"text-align: right;\">    15.556 </td></tr>\n",
       "</tbody>\n",
       "</table>"
      ]
     },
     "metadata": {},
     "output_type": "display_data"
    },
    {
     "name": "stdout",
     "output_type": "stream",
     "text": [
      "\n"
     ]
    },
    {
     "data": {
      "image/png": "[encoded data removed]",
      "text/plain": [
       "<matplotlib.figure.Figure at 0x1133375c0>"
      ]
     },
     "metadata": {},
     "output_type": "display_data"
    }
   ],
   "source": [
    "# Check log transform - looks good\n",
    "%matplotlib inline\n",
    "train['price_doc'].log().as_data_frame().hist()\n",
    "\n",
    "# Execute log transform\n",
    "train['price_doc'] = train['price_doc'].log()\n",
    "valid['price_doc'] = valid['price_doc'].log()\n",
    "print(train[0:3, 'price_doc'])\n",
    "#print(valid[0:3, 'price_doc'])"
   ]
  },
  {
   "cell_type": "code",
   "execution_count": 25,
   "metadata": {
    "collapsed": false
   },
   "outputs": [
    {
     "name": "stdout",
     "output_type": "stream",
     "text": [
      "(21378, 322)\n",
      "(9086, 322)\n",
      "(7662, 322)\n"
     ]
    }
   ],
   "source": [
    "print(train.shape)\n",
    "print(valid.shape)\n",
    "print(test.shape)"
   ]
  },
  {
   "cell_type": "markdown",
   "metadata": {},
   "source": [
    "#### Define ranked predictions plot function"
   ]
  },
  {
   "cell_type": "code",
   "execution_count": 26,
   "metadata": {
    "collapsed": true
   },
   "outputs": [],
   "source": [
    "def ranked_preds_plot(y, valid, preds):\n",
    "    \n",
    "    \"\"\" Generates ranked prediction plot.\n",
    "    \n",
    "    :param y: Name of target variable.\n",
    "    :param valid: Name of validation H2OFrame.\n",
    "    :param preds: Column vector of predictions to plot.\n",
    "\n",
    "    \"\"\"\n",
    "    \n",
    "    # plot top frame values\n",
    "    preds.columns = ['predict']\n",
    "    yhat_frame = valid.cbind(preds)\n",
    "    print(yhat_frame[0:10, [y, 'predict']])\n",
    "\n",
    "    # plot sorted predictions\n",
    "    yhat_frame_df = yhat_frame[[y, 'predict']].as_data_frame()\n",
    "    yhat_frame_df.sort_values(by='predict', inplace=True)\n",
    "    yhat_frame_df.reset_index(inplace=True, drop=True)\n",
    "    _ = yhat_frame_df.plot(title='Ranked Predictions Plot')"
   ]
  },
  {
   "cell_type": "markdown",
   "metadata": {},
   "source": [
    "### Variable importance"
   ]
  },
  {
   "cell_type": "code",
   "execution_count": 27,
   "metadata": {
    "collapsed": false
   },
   "outputs": [
    {
     "name": "stdout",
     "output_type": "stream",
     "text": [
      "Model Details\n",
      "=============\n",
      "H2ORandomForestEstimator :  Distributed Random Forest\n",
      "Model Key:  DRF_model_python_1498095397446_1\n",
      "\n",
      "\n",
      "ModelMetricsRegression: drf\n",
      "** Reported on train data. **\n",
      "\n",
      "MSE: 0.23669719676101203\n",
      "RMSE: 0.4865153612795921\n",
      "MAE: 0.30447225794413274\n",
      "RMSLE: 0.030114150213881263\n",
      "Mean Residual Deviance: 0.23669719676101203\n",
      "\n",
      "ModelMetricsRegression: drf\n",
      "** Reported on validation data. **\n",
      "\n",
      "MSE: 0.25551985625692347\n",
      "RMSE: 0.505489719239594\n",
      "MAE: 0.31181652871643295\n",
      "RMSLE: 0.0314361606093039\n",
      "Mean Residual Deviance: 0.25551985625692347\n",
      "\n",
      "ModelMetricsRegression: drf\n",
      "** Reported on cross-validation data. **\n",
      "\n",
      "MSE: 0.2383465523816157\n",
      "RMSE: 0.4882074890675231\n",
      "MAE: 0.3052507786192846\n",
      "RMSLE: 0.030211631391341257\n",
      "Mean Residual Deviance: 0.2383465523816157\n",
      "Cross-Validation Metrics Summary: \n"
     ]
    },
    {
     "data": {
      "text/html": [
       "<div style=\"overflow:auto\"><table style=\"width:50%\"><tr><td><b></b></td>\n",
       "<td><b>mean</b></td>\n",
       "<td><b>sd</b></td>\n",
       "<td><b>cv_1_valid</b></td>\n",
       "<td><b>cv_2_valid</b></td>\n",
       "<td><b>cv_3_valid</b></td></tr>\n",
       "<tr><td>mae</td>\n",
       "<td>0.3052364</td>\n",
       "<td>0.0037644</td>\n",
       "<td>0.3043423</td>\n",
       "<td>0.3121576</td>\n",
       "<td>0.2992094</td></tr>\n",
       "<tr><td>mean_residual_deviance</td>\n",
       "<td>0.2383389</td>\n",
       "<td>0.0053991</td>\n",
       "<td>0.2327559</td>\n",
       "<td>0.2491349</td>\n",
       "<td>0.2331258</td></tr>\n",
       "<tr><td>mse</td>\n",
       "<td>0.2383389</td>\n",
       "<td>0.0053991</td>\n",
       "<td>0.2327559</td>\n",
       "<td>0.2491349</td>\n",
       "<td>0.2331258</td></tr>\n",
       "<tr><td>r2</td>\n",
       "<td>0.3404527</td>\n",
       "<td>0.0066054</td>\n",
       "<td>0.3521683</td>\n",
       "<td>0.3293079</td>\n",
       "<td>0.3398820</td></tr>\n",
       "<tr><td>residual_deviance</td>\n",
       "<td>0.2383389</td>\n",
       "<td>0.0053991</td>\n",
       "<td>0.2327559</td>\n",
       "<td>0.2491349</td>\n",
       "<td>0.2331258</td></tr>\n",
       "<tr><td>rmse</td>\n",
       "<td>0.4881377</td>\n",
       "<td>0.0054993</td>\n",
       "<td>0.4824478</td>\n",
       "<td>0.4991341</td>\n",
       "<td>0.4828310</td></tr>\n",
       "<tr><td>rmsle</td>\n",
       "<td>0.0302072</td>\n",
       "<td>0.0003456</td>\n",
       "<td>0.0298313</td>\n",
       "<td>0.0308976</td>\n",
       "<td>0.0298929</td></tr></table></div>"
      ],
      "text/plain": [
       "                        mean       sd           cv_1_valid    cv_2_valid    cv_3_valid\n",
       "----------------------  ---------  -----------  ------------  ------------  ------------\n",
       "mae                     0.305236   0.00376445   0.304342      0.312158      0.299209\n",
       "mean_residual_deviance  0.238339   0.00539906   0.232756      0.249135      0.233126\n",
       "mse                     0.238339   0.00539906   0.232756      0.249135      0.233126\n",
       "r2                      0.340453   0.00660538   0.352168      0.329308      0.339882\n",
       "residual_deviance       0.238339   0.00539906   0.232756      0.249135      0.233126\n",
       "rmse                    0.488138   0.00549935   0.482448      0.499134      0.482831\n",
       "rmsle                   0.0302072  0.000345616  0.0298313     0.0308976     0.0298929"
      ]
     },
     "metadata": {},
     "output_type": "display_data"
    },
    {
     "name": "stdout",
     "output_type": "stream",
     "text": [
      "Scoring History: \n"
     ]
    },
    {
     "data": {
      "text/html": [
       "<div style=\"overflow:auto\"><table style=\"width:50%\"><tr><td><b></b></td>\n",
       "<td><b>timestamp</b></td>\n",
       "<td><b>duration</b></td>\n",
       "<td><b>number_of_trees</b></td>\n",
       "<td><b>training_rmse</b></td>\n",
       "<td><b>training_mae</b></td>\n",
       "<td><b>training_deviance</b></td>\n",
       "<td><b>validation_rmse</b></td>\n",
       "<td><b>validation_mae</b></td>\n",
       "<td><b>validation_deviance</b></td></tr>\n",
       "<tr><td></td>\n",
       "<td>2017-06-21 21:42:45</td>\n",
       "<td> 1 min 23.779 sec</td>\n",
       "<td>0.0</td>\n",
       "<td>nan</td>\n",
       "<td>nan</td>\n",
       "<td>nan</td>\n",
       "<td>nan</td>\n",
       "<td>nan</td>\n",
       "<td>nan</td></tr>\n",
       "<tr><td></td>\n",
       "<td>2017-06-21 21:42:45</td>\n",
       "<td> 1 min 23.967 sec</td>\n",
       "<td>1.0</td>\n",
       "<td>0.5308110</td>\n",
       "<td>0.3396138</td>\n",
       "<td>0.2817603</td>\n",
       "<td>0.5655292</td>\n",
       "<td>0.3623749</td>\n",
       "<td>0.3198233</td></tr>\n",
       "<tr><td></td>\n",
       "<td>2017-06-21 21:42:46</td>\n",
       "<td> 1 min 24.170 sec</td>\n",
       "<td>2.0</td>\n",
       "<td>0.5534625</td>\n",
       "<td>0.3617748</td>\n",
       "<td>0.3063207</td>\n",
       "<td>0.5510524</td>\n",
       "<td>0.3551969</td>\n",
       "<td>0.3036587</td></tr>\n",
       "<tr><td></td>\n",
       "<td>2017-06-21 21:42:46</td>\n",
       "<td> 1 min 24.383 sec</td>\n",
       "<td>3.0</td>\n",
       "<td>0.5341712</td>\n",
       "<td>0.3351211</td>\n",
       "<td>0.2853388</td>\n",
       "<td>0.5166383</td>\n",
       "<td>0.3164895</td>\n",
       "<td>0.2669152</td></tr>\n",
       "<tr><td></td>\n",
       "<td>2017-06-21 21:42:46</td>\n",
       "<td> 1 min 24.568 sec</td>\n",
       "<td>4.0</td>\n",
       "<td>0.5232888</td>\n",
       "<td>0.3266118</td>\n",
       "<td>0.2738312</td>\n",
       "<td>0.5078345</td>\n",
       "<td>0.3090444</td>\n",
       "<td>0.2578959</td></tr>\n",
       "<tr><td>---</td>\n",
       "<td>---</td>\n",
       "<td>---</td>\n",
       "<td>---</td>\n",
       "<td>---</td>\n",
       "<td>---</td>\n",
       "<td>---</td>\n",
       "<td>---</td>\n",
       "<td>---</td>\n",
       "<td>---</td></tr>\n",
       "<tr><td></td>\n",
       "<td>2017-06-21 21:43:12</td>\n",
       "<td> 1 min 50.443 sec</td>\n",
       "<td>107.0</td>\n",
       "<td>0.4856925</td>\n",
       "<td>0.3034286</td>\n",
       "<td>0.2358972</td>\n",
       "<td>0.5047047</td>\n",
       "<td>0.3107567</td>\n",
       "<td>0.2547269</td></tr>\n",
       "<tr><td></td>\n",
       "<td>2017-06-21 21:43:12</td>\n",
       "<td> 1 min 50.800 sec</td>\n",
       "<td>108.0</td>\n",
       "<td>0.4859519</td>\n",
       "<td>0.3037313</td>\n",
       "<td>0.2361493</td>\n",
       "<td>0.5049113</td>\n",
       "<td>0.3110112</td>\n",
       "<td>0.2549354</td></tr>\n",
       "<tr><td></td>\n",
       "<td>2017-06-21 21:43:13</td>\n",
       "<td> 1 min 51.164 sec</td>\n",
       "<td>109.0</td>\n",
       "<td>0.4861677</td>\n",
       "<td>0.3039898</td>\n",
       "<td>0.2363591</td>\n",
       "<td>0.5050902</td>\n",
       "<td>0.3112495</td>\n",
       "<td>0.2551161</td></tr>\n",
       "<tr><td></td>\n",
       "<td>2017-06-21 21:43:13</td>\n",
       "<td> 1 min 51.537 sec</td>\n",
       "<td>110.0</td>\n",
       "<td>0.4865015</td>\n",
       "<td>0.3043202</td>\n",
       "<td>0.2366837</td>\n",
       "<td>0.5053277</td>\n",
       "<td>0.3115526</td>\n",
       "<td>0.2553561</td></tr>\n",
       "<tr><td></td>\n",
       "<td>2017-06-21 21:43:13</td>\n",
       "<td> 1 min 51.948 sec</td>\n",
       "<td>111.0</td>\n",
       "<td>0.4865154</td>\n",
       "<td>0.3044723</td>\n",
       "<td>0.2366972</td>\n",
       "<td>0.5054897</td>\n",
       "<td>0.3118165</td>\n",
       "<td>0.2555199</td></tr></table></div>"
      ],
      "text/plain": [
       "     timestamp            duration          number_of_trees    training_rmse       training_mae         training_deviance    validation_rmse     validation_mae       validation_deviance\n",
       "---  -------------------  ----------------  -----------------  ------------------  -------------------  -------------------  ------------------  -------------------  ---------------------\n",
       "     2017-06-21 21:42:45  1 min 23.779 sec  0.0                nan                 nan                  nan                  nan                 nan                  nan\n",
       "     2017-06-21 21:42:45  1 min 23.967 sec  1.0                0.5308109996179553  0.33961378101585665  0.28176031731541296  0.5655292479876928  0.3623749256238994   0.31982333032952526\n",
       "     2017-06-21 21:42:46  1 min 24.170 sec  2.0                0.5534624561180491  0.36177477500738375  0.3063206903322235   0.5510523808698411  0.35519689451407     0.3036587264623204\n",
       "     2017-06-21 21:42:46  1 min 24.383 sec  3.0                0.5341711619224339  0.33512109541586294  0.285338830229563    0.516638321187917   0.31648946814285495  0.2669151549198693\n",
       "     2017-06-21 21:42:46  1 min 24.568 sec  4.0                0.5232888104791721  0.3266118178560912   0.2738311791727069   0.5078344865715136  0.3090443725814752   0.2578958657513528\n",
       "---  ---                  ---               ---                ---                 ---                  ---                  ---                 ---                  ---\n",
       "     2017-06-21 21:43:12  1 min 50.443 sec  107.0              0.4856925416076519  0.30342861184741277  0.2358972449733007   0.5047047383055745  0.3107567101038367   0.2547268728680985\n",
       "     2017-06-21 21:43:12  1 min 50.800 sec  108.0              0.4859519479067032  0.30373128730005833  0.2361492956743192   0.5049113045255023  0.3110112174345014   0.25493542543764447\n",
       "     2017-06-21 21:43:13  1 min 51.164 sec  109.0              0.4861677317455937  0.30398982583607453  0.23635906339065557  0.5050902361011971  0.31124950178287436  0.255116146604763\n",
       "     2017-06-21 21:43:13  1 min 51.537 sec  110.0              0.4865014577409066  0.3043201806010139   0.23668366838402713  0.5053277243775194  0.3115525973131098   0.2553561090245622\n",
       "     2017-06-21 21:43:13  1 min 51.948 sec  111.0              0.4865153612795921  0.30447225794413274  0.23669719676101203  0.505489719239594   0.31181652871643295  0.25551985625692347"
      ]
     },
     "metadata": {},
     "output_type": "display_data"
    },
    {
     "name": "stdout",
     "output_type": "stream",
     "text": [
      "\n",
      "See the whole table with table.as_data_frame()\n",
      "Variable Importances: \n"
     ]
    },
    {
     "data": {
      "text/html": [
       "<div style=\"overflow:auto\"><table style=\"width:50%\"><tr><td><b>variable</b></td>\n",
       "<td><b>relative_importance</b></td>\n",
       "<td><b>scaled_importance</b></td>\n",
       "<td><b>percentage</b></td></tr>\n",
       "<tr><td>full_sq</td>\n",
       "<td>22220.6718750</td>\n",
       "<td>1.0</td>\n",
       "<td>0.0785837</td></tr>\n",
       "<tr><td>num_room</td>\n",
       "<td>12713.7226562</td>\n",
       "<td>0.5721574</td>\n",
       "<td>0.0449623</td></tr>\n",
       "<tr><td>full_living_sq_diff</td>\n",
       "<td>10257.8388672</td>\n",
       "<td>0.4616350</td>\n",
       "<td>0.0362770</td></tr>\n",
       "<tr><td>sub_area_Tencode</td>\n",
       "<td>9143.8828125</td>\n",
       "<td>0.4115034</td>\n",
       "<td>0.0323375</td></tr>\n",
       "<tr><td>life_sq</td>\n",
       "<td>8233.3134766</td>\n",
       "<td>0.3705250</td>\n",
       "<td>0.0291172</td></tr>\n",
       "<tr><td>---</td>\n",
       "<td>---</td>\n",
       "<td>---</td>\n",
       "<td>---</td></tr>\n",
       "<tr><td>railroad_terminal_raion_Tencode</td>\n",
       "<td>19.6329803</td>\n",
       "<td>0.0008835</td>\n",
       "<td>0.0000694</td></tr>\n",
       "<tr><td>detention_facility_raion_Tencode</td>\n",
       "<td>18.1225834</td>\n",
       "<td>0.0008156</td>\n",
       "<td>0.0000641</td></tr>\n",
       "<tr><td>nuclear_reactor_raion_Tencode</td>\n",
       "<td>11.2551060</td>\n",
       "<td>0.0005065</td>\n",
       "<td>0.0000398</td></tr>\n",
       "<tr><td>cafe_count_500_price_high</td>\n",
       "<td>7.3869133</td>\n",
       "<td>0.0003324</td>\n",
       "<td>0.0000261</td></tr>\n",
       "<tr><td>oil_chemistry_raion_Tencode</td>\n",
       "<td>2.4132168</td>\n",
       "<td>0.0001086</td>\n",
       "<td>0.0000085</td></tr></table></div>"
      ],
      "text/plain": [
       "variable                          relative_importance    scaled_importance       percentage\n",
       "--------------------------------  ---------------------  ----------------------  ----------------------\n",
       "full_sq                           22220.671875           1.0                     0.07858374484008056\n",
       "num_room                          12713.72265625         0.5721574364524025      0.044962273994530205\n",
       "full_living_sq_diff               10257.8388671875       0.46163495527461407     0.03627700353456227\n",
       "sub_area_Tencode                  9143.8828125           0.4115034353568573      0.032337480964899856\n",
       "life_sq                           8233.3134765625        0.3705249563504704      0.02911723862672735\n",
       "---                               ---                    ---                     ---\n",
       "railroad_terminal_raion_Tencode   19.632980346679688     0.0008835457567225198   6.943233430081839e-05\n",
       "detention_facility_raion_Tencode  18.122583389282227     0.000815573151488347    6.409079243498062e-05\n",
       "nuclear_reactor_raion_Tencode     11.255105972290039     0.0005065151060960005   3.980385385509443e-05\n",
       "cafe_count_500_price_high         7.386913299560547      0.0003324342909663053   2.6123931497389233e-05\n",
       "oil_chemistry_raion_Tencode       2.4132168292999268     0.00010860233402820664  8.534378106309788e-06"
      ]
     },
     "metadata": {},
     "output_type": "display_data"
    },
    {
     "name": "stdout",
     "output_type": "stream",
     "text": [
      "\n",
      "See the whole table with table.as_data_frame()\n",
      "\n"
     ]
    },
    {
     "data": {
      "text/html": [
       "<table>\n",
       "<thead>\n",
       "<tr><th style=\"text-align: right;\">  price_doc</th><th style=\"text-align: right;\">  predict</th></tr>\n",
       "</thead>\n",
       "<tbody>\n",
       "<tr><td style=\"text-align: right;\">    16.3881</td><td style=\"text-align: right;\">  15.9405</td></tr>\n",
       "<tr><td style=\"text-align: right;\">    14.5087</td><td style=\"text-align: right;\">  15.5831</td></tr>\n",
       "<tr><td style=\"text-align: right;\">    14.5087</td><td style=\"text-align: right;\">  15.468 </td></tr>\n",
       "<tr><td style=\"text-align: right;\">    14.4307</td><td style=\"text-align: right;\">  15.6717</td></tr>\n",
       "<tr><td style=\"text-align: right;\">    15.6561</td><td style=\"text-align: right;\">  15.5098</td></tr>\n",
       "<tr><td style=\"text-align: right;\">    15.8824</td><td style=\"text-align: right;\">  15.4289</td></tr>\n",
       "<tr><td style=\"text-align: right;\">    15.4642</td><td style=\"text-align: right;\">  15.5403</td></tr>\n",
       "<tr><td style=\"text-align: right;\">    15.5905</td><td style=\"text-align: right;\">  15.4356</td></tr>\n",
       "<tr><td style=\"text-align: right;\">    16.7224</td><td style=\"text-align: right;\">  15.802 </td></tr>\n",
       "<tr><td style=\"text-align: right;\">    15.556 </td><td style=\"text-align: right;\">  15.4381</td></tr>\n",
       "</tbody>\n",
       "</table>"
      ]
     },
     "metadata": {},
     "output_type": "display_data"
    },
    {
     "name": "stdout",
     "output_type": "stream",
     "text": [
      "\n"
     ]
    },
    {
     "data": {
      "image/png": "[encoded data removed]",
      "text/plain": [
       "<matplotlib.figure.Figure at 0x10edb0da0>"
      ]
     },
     "metadata": {},
     "output_type": "display_data"
    }
   ],
   "source": [
    "# initialize rf model\n",
    "rf_model1 = H2ORandomForestEstimator(\n",
    "    ntrees=10000,                    \n",
    "    max_depth=10, \n",
    "    col_sample_rate_per_tree=0.1,\n",
    "    sample_rate=0.8,\n",
    "    stopping_rounds=50,\n",
    "    score_each_iteration=True,\n",
    "    nfolds=3,\n",
    "    keep_cross_validation_predictions=True,\n",
    "    seed=12345)           \n",
    "\n",
    "# train rf model\n",
    "rf_model1.train(\n",
    "    x=encoded_nums,\n",
    "    y='price_doc',\n",
    "    training_frame=train,\n",
    "    validation_frame=valid)\n",
    "\n",
    "# print model information\n",
    "print(rf_model1)\n",
    "\n",
    "rf_preds1_val = rf_model1.predict(valid)\n",
    "ranked_preds_plot('price_doc', valid, rf_preds1_val) # valid RMSE not so hot ...\n",
    "rf_preds1_test = rf_model1.predict(test)"
   ]
  },
  {
   "cell_type": "code",
   "execution_count": 28,
   "metadata": {
    "collapsed": false
   },
   "outputs": [],
   "source": [
    "l = rf_model1.varimp()\n",
    "FI100 = [i[0] for i in l[:100]]\n",
    "FI50 = [i[0] for i in l[:50]]"
   ]
  },
  {
   "cell_type": "code",
   "execution_count": 29,
   "metadata": {
    "collapsed": false
   },
   "outputs": [
    {
     "name": "stdout",
     "output_type": "stream",
     "text": [
      "['full_sq', 'num_room', 'full_living_sq_diff', 'sub_area_Tencode', 'life_sq', 'kitch_sq_ratio', 'cafe_count_3000_price_2500', 'full_sq_per_room', 'cafe_count_3000', 'cafe_count_5000_price_high', 'cafe_count_2000', 'kitch_sq', 'cafe_count_5000_price_2500', 'cafe_count_5000_price_1500', 'sport_count_3000', 'sport_count_2000', 'cafe_count_5000', 'zd_vokzaly_avto_km', 'life_sq_per_room', 'cafe_count_2000_price_1000', 'cafe_count_1500_price_2500', 'build_year', 'swim_pool_km', 'office_sqm_5000', 'trc_count_5000', 'metro_min_avto', 'metro_km_walk', 'floor', 'nuclear_reactor_km', 'metro_km_avto', 'workplaces_km', 'week_year_cnt', 'max_floor', 'life_sq_ratio', 'cafe_count_3000_price_1500', 'ttk_km', 'green_zone_km', 'trc_count_3000', 'metro_min_walk', 'cafe_count_5000_price_1000', 'year', 'market_shop_km', 'month_year_cnt', 'year_old', 'cafe_count_3000_price_500', 'cafe_count_2000_price_2500', 'bulvar_ring_km', 'detention_facility_km', 'state', 'big_road1_km']\n"
     ]
    }
   ],
   "source": [
    "print(FI50)"
   ]
  },
  {
   "cell_type": "code",
   "execution_count": 30,
   "metadata": {
    "collapsed": false
   },
   "outputs": [
    {
     "name": "stdout",
     "output_type": "stream",
     "text": [
      "['full_sq', 'num_room', 'full_living_sq_diff', 'sub_area_Tencode', 'life_sq', 'kitch_sq_ratio', 'cafe_count_3000_price_2500', 'full_sq_per_room', 'cafe_count_3000', 'cafe_count_5000_price_high', 'cafe_count_2000', 'kitch_sq', 'cafe_count_5000_price_2500', 'cafe_count_5000_price_1500', 'sport_count_3000', 'sport_count_2000', 'cafe_count_5000', 'zd_vokzaly_avto_km', 'life_sq_per_room', 'cafe_count_2000_price_1000', 'cafe_count_1500_price_2500', 'build_year', 'swim_pool_km', 'office_sqm_5000', 'trc_count_5000', 'metro_min_avto', 'metro_km_walk', 'floor', 'nuclear_reactor_km', 'metro_km_avto', 'workplaces_km', 'week_year_cnt', 'max_floor', 'life_sq_ratio', 'cafe_count_3000_price_1500', 'ttk_km', 'green_zone_km', 'trc_count_3000', 'metro_min_walk', 'cafe_count_5000_price_1000', 'year', 'market_shop_km', 'month_year_cnt', 'year_old', 'cafe_count_3000_price_500', 'cafe_count_2000_price_2500', 'bulvar_ring_km', 'detention_facility_km', 'state', 'big_road1_km', 'cafe_count_1000', 'stadium_km', 'green_part_3000', 'big_church_km', 'prom_part_5000', 'trc_sqm_3000', 'cafe_avg_price_5000', 'additional_education_km', 'exhibition_km', 'railroad_station_avto_km', 'theater_km', 'radiation_km', 'cafe_count_3000_price_1000', 'church_synagogue_km', 'material', 'public_transport_station_km', 'sadovoe_km', 'ice_rink_km', 'big_road2_km', 'cafe_count_2000_price_1500', 'ts_km', 'public_transport_station_min_walk', 'cafe_sum_5000_min_price_avg', 'shopping_centers_km', 'green_part_1500', 'railroad_station_walk_min', 'cafe_count_1500', 'sport_count_5000', 'preschool_km', 'cafe_avg_price_2000', 'green_part_1000', 'cafe_count_1500_price_1500', 'trc_sqm_5000', 'water_treatment_km', 'product_type_Tencode', 'prom_part_1500', 'office_count_3000', 'big_market_km', 'trc_sqm_1500', 'prom_part_3000', 'cafe_sum_3000_max_price_avg', 'cafe_count_1000_price_1000', 'museum_km', 'green_part_2000', 'kremlin_km', 'school_km', 'mosque_km', 'leisure_count_3000', 'railroad_station_avto_min', 'trc_sqm_2000']\n"
     ]
    }
   ],
   "source": [
    "print(FI100)"
   ]
  },
  {
   "cell_type": "code",
   "execution_count": 31,
   "metadata": {
    "collapsed": true
   },
   "outputs": [],
   "source": [
    "# 50\n",
    "FI = ['full_sq', 'num_room', 'full_living_sq_diff', 'sub_area_Tencode', 'life_sq', 'kitch_sq_ratio', 'cafe_count_3000_price_2500', 'full_sq_per_room', 'cafe_count_3000', 'cafe_count_5000_price_high', 'cafe_count_2000', 'kitch_sq', 'cafe_count_5000_price_2500', 'cafe_count_5000_price_1500', 'sport_count_3000', 'sport_count_2000', 'cafe_count_5000', 'zd_vokzaly_avto_km', 'life_sq_per_room', 'cafe_count_2000_price_1000', 'cafe_count_1500_price_2500', 'build_year', 'swim_pool_km', 'office_sqm_5000', 'trc_count_5000', 'metro_min_avto', 'metro_km_walk', 'floor', 'nuclear_reactor_km', 'metro_km_avto', 'workplaces_km', 'week_year_cnt', 'max_floor', 'life_sq_ratio', 'cafe_count_3000_price_1500', 'ttk_km', 'green_zone_km', 'trc_count_3000', 'metro_min_walk', 'cafe_count_5000_price_1000', 'year', 'market_shop_km', 'month_year_cnt', 'year_old', 'cafe_count_3000_price_500', 'cafe_count_2000_price_2500', 'bulvar_ring_km', 'detention_facility_km', 'state', 'big_road1_km']"
   ]
  },
  {
   "cell_type": "code",
   "execution_count": null,
   "metadata": {
    "collapsed": true
   },
   "outputs": [],
   "source": [
    "# 100\n",
    "FI = ['full_sq', 'num_room', 'full_living_sq_diff', 'sub_area_Tencode', 'life_sq', 'kitch_sq_ratio', 'cafe_count_3000_price_2500', 'full_sq_per_room', 'cafe_count_3000', 'cafe_count_5000_price_high', 'cafe_count_2000', 'kitch_sq', 'cafe_count_5000_price_2500', 'cafe_count_5000_price_1500', 'sport_count_3000', 'sport_count_2000', 'cafe_count_5000', 'zd_vokzaly_avto_km', 'life_sq_per_room', 'cafe_count_2000_price_1000', 'cafe_count_1500_price_2500', 'build_year', 'swim_pool_km', 'office_sqm_5000', 'trc_count_5000', 'metro_min_avto', 'metro_km_walk', 'floor', 'nuclear_reactor_km', 'metro_km_avto', 'workplaces_km', 'week_year_cnt', 'max_floor', 'life_sq_ratio', 'cafe_count_3000_price_1500', 'ttk_km', 'green_zone_km', 'trc_count_3000', 'metro_min_walk', 'cafe_count_5000_price_1000', 'year', 'market_shop_km', 'month_year_cnt', 'year_old', 'cafe_count_3000_price_500', 'cafe_count_2000_price_2500', 'bulvar_ring_km', 'detention_facility_km', 'state', 'big_road1_km', 'cafe_count_1000', 'stadium_km', 'green_part_3000', 'big_church_km', 'prom_part_5000', 'trc_sqm_3000', 'cafe_avg_price_5000', 'additional_education_km', 'exhibition_km', 'railroad_station_avto_km', 'theater_km', 'radiation_km', 'cafe_count_3000_price_1000', 'church_synagogue_km', 'material', 'public_transport_station_km', 'sadovoe_km', 'ice_rink_km', 'big_road2_km', 'cafe_count_2000_price_1500', 'ts_km', 'public_transport_station_min_walk', 'cafe_sum_5000_min_price_avg', 'shopping_centers_km', 'green_part_1500', 'railroad_station_walk_min', 'cafe_count_1500', 'sport_count_5000', 'preschool_km', 'cafe_avg_price_2000', 'green_part_1000', 'cafe_count_1500_price_1500', 'trc_sqm_5000', 'water_treatment_km', 'product_type_Tencode', 'prom_part_1500', 'office_count_3000', 'big_market_km', 'trc_sqm_1500', 'prom_part_3000', 'cafe_sum_3000_max_price_avg', 'cafe_count_1000_price_1000', 'museum_km', 'green_part_2000', 'kremlin_km', 'school_km', 'mosque_km', 'leisure_count_3000', 'railroad_station_avto_min', 'trc_sqm_2000']"
   ]
  },
  {
   "cell_type": "code",
   "execution_count": 32,
   "metadata": {
    "collapsed": false
   },
   "outputs": [
    {
     "name": "stdout",
     "output_type": "stream",
     "text": [
      "['full_sq', 'num_room', 'full_living_sq_diff', 'sub_area_Tencode', 'life_sq', 'kitch_sq_ratio', 'cafe_count_3000_price_2500', 'full_sq_per_room', 'cafe_count_3000', 'cafe_count_5000_price_high', 'cafe_count_2000', 'kitch_sq', 'cafe_count_5000_price_2500', 'cafe_count_5000_price_1500', 'sport_count_3000', 'sport_count_2000', 'cafe_count_5000', 'zd_vokzaly_avto_km', 'life_sq_per_room', 'cafe_count_2000_price_1000', 'cafe_count_1500_price_2500', 'build_year', 'swim_pool_km', 'office_sqm_5000', 'trc_count_5000', 'metro_min_avto', 'metro_km_walk', 'floor', 'nuclear_reactor_km', 'metro_km_avto', 'workplaces_km', 'week_year_cnt', 'max_floor', 'life_sq_ratio', 'cafe_count_3000_price_1500', 'ttk_km', 'green_zone_km', 'trc_count_3000', 'metro_min_walk', 'cafe_count_5000_price_1000', 'year', 'market_shop_km', 'month_year_cnt', 'year_old', 'cafe_count_3000_price_500', 'cafe_count_2000_price_2500', 'bulvar_ring_km', 'detention_facility_km', 'state', 'big_road1_km']\n"
     ]
    }
   ],
   "source": [
    "print(FI)"
   ]
  },
  {
   "cell_type": "markdown",
   "metadata": {
    "collapsed": true
   },
   "source": [
    "### Create combination features"
   ]
  },
  {
   "cell_type": "code",
   "execution_count": 33,
   "metadata": {
    "collapsed": true
   },
   "outputs": [],
   "source": [
    "def feature_combiner(training_frame, test_frame, nums):\n",
    "    total = len(nums)\n",
    "    \n",
    "    # convert to pandas\n",
    "    train_df = training_frame.as_data_frame()\n",
    "    test_df = test_frame.as_data_frame()\n",
    "    \n",
    "    for i, col_i in enumerate(nums):\n",
    "        \n",
    "        print('Combining: ' + col_i + ' (' + str(i+1) + '/' + str(total) + ') ...')        \n",
    "        \n",
    "        for j, col_j in enumerate(nums):\n",
    "            \n",
    "            # don't repeat (i*j = j*i)\n",
    "            if i < j:\n",
    "                \n",
    "                # convert to pandas\n",
    "                col_i_train_df = train_df[col_i]\n",
    "                col_j_train_df = train_df[col_j]\n",
    "                col_i_test_df = test_df[col_i]\n",
    "                col_j_test_df = test_df[col_j] \n",
    "\n",
    "                # multiply, convert back to h2o\n",
    "                train_df[str(col_i + '|' + col_j)] = col_i_train_df.values*col_j_train_df.values\n",
    "                test_df[str(col_i + '|' + col_j)] = col_i_test_df.values*col_j_test_df.values\n",
    "                \n",
    "    print('Done.')\n",
    "    \n",
    "    # convert back to h2o\n",
    "    \n",
    "    print('Converting to H2OFrame ...')\n",
    "    \n",
    "    training_frame = h2o.H2OFrame(train_df)\n",
    "    training_frame.columns = list(train_df)\n",
    "    test_frame = h2o.H2OFrame(test_df)\n",
    "    test_frame.columns = list(test_df)\n",
    "    \n",
    "    print('Done.')\n",
    "    print()\n",
    "    \n",
    "    # conserve memory \n",
    "    del train_df\n",
    "    del test_df \n",
    "    \n",
    "    return training_frame, test_frame"
   ]
  },
  {
   "cell_type": "code",
   "execution_count": 34,
   "metadata": {
    "collapsed": false,
    "scrolled": true
   },
   "outputs": [
    {
     "name": "stdout",
     "output_type": "stream",
     "text": [
      "Combining: full_sq (1/50) ...\n",
      "Combining: num_room (2/50) ...\n",
      "Combining: full_living_sq_diff (3/50) ...\n",
      "Combining: sub_area_Tencode (4/50) ...\n",
      "Combining: life_sq (5/50) ...\n",
      "Combining: kitch_sq_ratio (6/50) ...\n",
      "Combining: cafe_count_3000_price_2500 (7/50) ...\n",
      "Combining: full_sq_per_room (8/50) ...\n",
      "Combining: cafe_count_3000 (9/50) ...\n",
      "Combining: cafe_count_5000_price_high (10/50) ...\n",
      "Combining: cafe_count_2000 (11/50) ...\n",
      "Combining: kitch_sq (12/50) ...\n",
      "Combining: cafe_count_5000_price_2500 (13/50) ...\n",
      "Combining: cafe_count_5000_price_1500 (14/50) ...\n",
      "Combining: sport_count_3000 (15/50) ...\n",
      "Combining: sport_count_2000 (16/50) ...\n",
      "Combining: cafe_count_5000 (17/50) ...\n",
      "Combining: zd_vokzaly_avto_km (18/50) ...\n",
      "Combining: life_sq_per_room (19/50) ...\n",
      "Combining: cafe_count_2000_price_1000 (20/50) ...\n",
      "Combining: cafe_count_1500_price_2500 (21/50) ...\n",
      "Combining: build_year (22/50) ...\n",
      "Combining: swim_pool_km (23/50) ...\n",
      "Combining: office_sqm_5000 (24/50) ...\n",
      "Combining: trc_count_5000 (25/50) ...\n",
      "Combining: metro_min_avto (26/50) ...\n",
      "Combining: metro_km_walk (27/50) ...\n",
      "Combining: floor (28/50) ...\n",
      "Combining: nuclear_reactor_km (29/50) ...\n",
      "Combining: metro_km_avto (30/50) ...\n",
      "Combining: workplaces_km (31/50) ...\n",
      "Combining: week_year_cnt (32/50) ...\n",
      "Combining: max_floor (33/50) ...\n",
      "Combining: life_sq_ratio (34/50) ...\n",
      "Combining: cafe_count_3000_price_1500 (35/50) ...\n",
      "Combining: ttk_km (36/50) ...\n",
      "Combining: green_zone_km (37/50) ...\n",
      "Combining: trc_count_3000 (38/50) ...\n",
      "Combining: metro_min_walk (39/50) ...\n",
      "Combining: cafe_count_5000_price_1000 (40/50) ...\n",
      "Combining: year (41/50) ...\n",
      "Combining: market_shop_km (42/50) ...\n",
      "Combining: month_year_cnt (43/50) ...\n",
      "Combining: year_old (44/50) ...\n",
      "Combining: cafe_count_3000_price_500 (45/50) ...\n",
      "Combining: cafe_count_2000_price_2500 (46/50) ...\n",
      "Combining: bulvar_ring_km (47/50) ...\n",
      "Combining: detention_facility_km (48/50) ...\n",
      "Combining: state (49/50) ...\n",
      "Combining: big_road1_km (50/50) ...\n",
      "Done.\n",
      "Converting to H2OFrame ...\n",
      "Done.\n",
      "\n",
      "Combining: full_sq (1/50) ...\n",
      "Combining: num_room (2/50) ...\n",
      "Combining: full_living_sq_diff (3/50) ...\n",
      "Combining: sub_area_Tencode (4/50) ...\n",
      "Combining: life_sq (5/50) ...\n",
      "Combining: kitch_sq_ratio (6/50) ...\n",
      "Combining: cafe_count_3000_price_2500 (7/50) ...\n",
      "Combining: full_sq_per_room (8/50) ...\n",
      "Combining: cafe_count_3000 (9/50) ...\n",
      "Combining: cafe_count_5000_price_high (10/50) ...\n",
      "Combining: cafe_count_2000 (11/50) ...\n",
      "Combining: kitch_sq (12/50) ...\n",
      "Combining: cafe_count_5000_price_2500 (13/50) ...\n",
      "Combining: cafe_count_5000_price_1500 (14/50) ...\n",
      "Combining: sport_count_3000 (15/50) ...\n",
      "Combining: sport_count_2000 (16/50) ...\n",
      "Combining: cafe_count_5000 (17/50) ...\n",
      "Combining: zd_vokzaly_avto_km (18/50) ...\n",
      "Combining: life_sq_per_room (19/50) ...\n",
      "Combining: cafe_count_2000_price_1000 (20/50) ...\n",
      "Combining: cafe_count_1500_price_2500 (21/50) ...\n",
      "Combining: build_year (22/50) ...\n",
      "Combining: swim_pool_km (23/50) ...\n",
      "Combining: office_sqm_5000 (24/50) ...\n",
      "Combining: trc_count_5000 (25/50) ...\n",
      "Combining: metro_min_avto (26/50) ...\n",
      "Combining: metro_km_walk (27/50) ...\n",
      "Combining: floor (28/50) ...\n",
      "Combining: nuclear_reactor_km (29/50) ...\n",
      "Combining: metro_km_avto (30/50) ...\n",
      "Combining: workplaces_km (31/50) ...\n",
      "Combining: week_year_cnt (32/50) ...\n",
      "Combining: max_floor (33/50) ...\n",
      "Combining: life_sq_ratio (34/50) ...\n",
      "Combining: cafe_count_3000_price_1500 (35/50) ...\n",
      "Combining: ttk_km (36/50) ...\n",
      "Combining: green_zone_km (37/50) ...\n",
      "Combining: trc_count_3000 (38/50) ...\n",
      "Combining: metro_min_walk (39/50) ...\n",
      "Combining: cafe_count_5000_price_1000 (40/50) ...\n",
      "Combining: year (41/50) ...\n",
      "Combining: market_shop_km (42/50) ...\n",
      "Combining: month_year_cnt (43/50) ...\n",
      "Combining: year_old (44/50) ...\n",
      "Combining: cafe_count_3000_price_500 (45/50) ...\n",
      "Combining: cafe_count_2000_price_2500 (46/50) ...\n",
      "Combining: bulvar_ring_km (47/50) ...\n",
      "Combining: detention_facility_km (48/50) ...\n",
      "Combining: state (49/50) ...\n",
      "Combining: big_road1_km (50/50) ...\n",
      "Done.\n",
      "Converting to H2OFrame ...\n",
      "Done.\n",
      "\n"
     ]
    }
   ],
   "source": [
    "train, _ = feature_combiner(train, test, FI)\n",
    "valid, test = feature_combiner(valid, test, FI)"
   ]
  },
  {
   "cell_type": "code",
   "execution_count": 35,
   "metadata": {
    "collapsed": false
   },
   "outputs": [
    {
     "name": "stdout",
     "output_type": "stream",
     "text": [
      "Numeric = ['full_sq', 'life_sq', 'floor', 'max_floor', 'material', 'build_year', 'num_room', 'kitch_sq', 'state', 'area_m', 'raion_popul', 'green_zone_part', 'indust_part', 'children_preschool', 'preschool_quota', 'preschool_education_centers_raion', 'children_school', 'school_quota', 'school_education_centers_raion', 'school_education_centers_top_20_raion', 'hospital_beds_raion', 'healthcare_centers_raion', 'university_top_20_raion', 'sport_objects_raion', 'additional_education_raion', 'culture_objects_top_25_raion', 'shopping_centers_raion', 'office_raion', 'full_all', 'male_f', 'female_f', 'young_all', 'young_male', 'young_female', 'work_all', 'work_male', 'work_female', 'ekder_all', 'ekder_male', 'ekder_female', '0_6_all', '0_6_male', '0_6_female', '7_14_all', '7_14_male', '7_14_female', '0_17_all', '0_17_male', '0_17_female', '16_29_all', '16_29_male', '16_29_female', '0_13_all', '0_13_male', '0_13_female', 'raion_build_count_with_material_info', 'build_count_block', 'build_count_wood', 'build_count_frame', 'build_count_brick', 'build_count_monolith', 'build_count_panel', 'build_count_foam', 'build_count_slag', 'build_count_mix', 'raion_build_count_with_builddate_info', 'build_count_before_1920', 'build_count_1921-1945', 'build_count_1946-1970', 'build_count_1971-1995', 'build_count_after_1995', 'ID_metro', 'metro_min_avto', 'metro_km_avto', 'metro_min_walk', 'metro_km_walk', 'kindergarten_km', 'school_km', 'park_km', 'green_zone_km', 'industrial_km', 'water_treatment_km', 'cemetery_km', 'incineration_km', 'railroad_station_walk_km', 'railroad_station_walk_min', 'ID_railroad_station_walk', 'railroad_station_avto_km', 'railroad_station_avto_min', 'ID_railroad_station_avto', 'public_transport_station_km', 'public_transport_station_min_walk', 'water_km', 'mkad_km', 'ttk_km', 'sadovoe_km', 'bulvar_ring_km', 'kremlin_km', 'big_road1_km', 'ID_big_road1', 'big_road2_km', 'ID_big_road2', 'railroad_km', 'zd_vokzaly_avto_km', 'ID_railroad_terminal', 'bus_terminal_avto_km', 'ID_bus_terminal', 'oil_chemistry_km', 'nuclear_reactor_km', 'radiation_km', 'power_transmission_line_km', 'thermal_power_plant_km', 'ts_km', 'big_market_km', 'market_shop_km', 'fitness_km', 'swim_pool_km', 'ice_rink_km', 'stadium_km', 'basketball_km', 'hospice_morgue_km', 'detention_facility_km', 'public_healthcare_km', 'university_km', 'workplaces_km', 'shopping_centers_km', 'office_km', 'additional_education_km', 'preschool_km', 'big_church_km', 'church_synagogue_km', 'mosque_km', 'theater_km', 'museum_km', 'exhibition_km', 'catering_km', 'green_part_500', 'prom_part_500', 'office_count_500', 'office_sqm_500', 'trc_count_500', 'trc_sqm_500', 'cafe_count_500', 'cafe_sum_500_min_price_avg', 'cafe_sum_500_max_price_avg', 'cafe_avg_price_500', 'cafe_count_500_na_price', 'cafe_count_500_price_500', 'cafe_count_500_price_1000', 'cafe_count_500_price_1500', 'cafe_count_500_price_2500', 'cafe_count_500_price_4000', 'cafe_count_500_price_high', 'big_church_count_500', 'church_count_500', 'mosque_count_500', 'leisure_count_500', 'sport_count_500', 'market_count_500', 'green_part_1000', 'prom_part_1000', 'office_count_1000', 'office_sqm_1000', 'trc_count_1000', 'trc_sqm_1000', 'cafe_count_1000', 'cafe_sum_1000_min_price_avg', 'cafe_sum_1000_max_price_avg', 'cafe_avg_price_1000', 'cafe_count_1000_na_price', 'cafe_count_1000_price_500', 'cafe_count_1000_price_1000', 'cafe_count_1000_price_1500', 'cafe_count_1000_price_2500', 'cafe_count_1000_price_4000', 'cafe_count_1000_price_high', 'big_church_count_1000', 'church_count_1000', 'mosque_count_1000', 'leisure_count_1000', 'sport_count_1000', 'market_count_1000', 'green_part_1500', 'prom_part_1500', 'office_count_1500', 'office_sqm_1500', 'trc_count_1500', 'trc_sqm_1500', 'cafe_count_1500', 'cafe_sum_1500_min_price_avg', 'cafe_sum_1500_max_price_avg', 'cafe_avg_price_1500', 'cafe_count_1500_na_price', 'cafe_count_1500_price_500', 'cafe_count_1500_price_1000', 'cafe_count_1500_price_1500', 'cafe_count_1500_price_2500', 'cafe_count_1500_price_4000', 'cafe_count_1500_price_high', 'big_church_count_1500', 'church_count_1500', 'mosque_count_1500', 'leisure_count_1500', 'sport_count_1500', 'market_count_1500', 'green_part_2000', 'prom_part_2000', 'office_count_2000', 'office_sqm_2000', 'trc_count_2000', 'trc_sqm_2000', 'cafe_count_2000', 'cafe_sum_2000_min_price_avg', 'cafe_sum_2000_max_price_avg', 'cafe_avg_price_2000', 'cafe_count_2000_na_price', 'cafe_count_2000_price_500', 'cafe_count_2000_price_1000', 'cafe_count_2000_price_1500', 'cafe_count_2000_price_2500', 'cafe_count_2000_price_4000', 'cafe_count_2000_price_high', 'big_church_count_2000', 'church_count_2000', 'mosque_count_2000', 'leisure_count_2000', 'sport_count_2000', 'market_count_2000', 'green_part_3000', 'prom_part_3000', 'office_count_3000', 'office_sqm_3000', 'trc_count_3000', 'trc_sqm_3000', 'cafe_count_3000', 'cafe_sum_3000_min_price_avg', 'cafe_sum_3000_max_price_avg', 'cafe_avg_price_3000', 'cafe_count_3000_na_price', 'cafe_count_3000_price_500', 'cafe_count_3000_price_1000', 'cafe_count_3000_price_1500', 'cafe_count_3000_price_2500', 'cafe_count_3000_price_4000', 'cafe_count_3000_price_high', 'big_church_count_3000', 'church_count_3000', 'mosque_count_3000', 'leisure_count_3000', 'sport_count_3000', 'market_count_3000', 'green_part_5000', 'prom_part_5000', 'office_count_5000', 'office_sqm_5000', 'trc_count_5000', 'trc_sqm_5000', 'cafe_count_5000', 'cafe_sum_5000_min_price_avg', 'cafe_sum_5000_max_price_avg', 'cafe_avg_price_5000', 'cafe_count_5000_na_price', 'cafe_count_5000_price_500', 'cafe_count_5000_price_1000', 'cafe_count_5000_price_1500', 'cafe_count_5000_price_2500', 'cafe_count_5000_price_4000', 'cafe_count_5000_price_high', 'big_church_count_5000', 'church_count_5000', 'mosque_count_5000', 'leisure_count_5000', 'sport_count_5000', 'market_count_5000', 'floor_ratio', 'floor_from_top', 'kitch_sq_ratio', 'life_sq_ratio', 'full_sq_per_room', 'life_sq_per_room', 'full_living_sq_diff', 'year', 'month', 'day', 'dayofyear', 'dayofweek', 'weekofyear', 'month_year_cnt', 'week_year_cnt', 'year_old', 'product_type_Tencode', 'sub_area_Tencode', 'culture_objects_top_25_Tencode', 'thermal_power_plant_raion_Tencode', 'incineration_raion_Tencode', 'oil_chemistry_raion_Tencode', 'radiation_raion_Tencode', 'railroad_terminal_raion_Tencode', 'big_market_raion_Tencode', 'nuclear_reactor_raion_Tencode', 'detention_facility_raion_Tencode', 'water_1line_Tencode', 'big_road1_1line_Tencode', 'railroad_1line_Tencode', 'ecology_Tencode', 'full_sq|num_room', 'full_sq|full_living_sq_diff', 'full_sq|sub_area_Tencode', 'full_sq|life_sq', 'full_sq|kitch_sq_ratio', 'full_sq|cafe_count_3000_price_2500', 'full_sq|full_sq_per_room', 'full_sq|cafe_count_3000', 'full_sq|cafe_count_5000_price_high', 'full_sq|cafe_count_2000', 'full_sq|kitch_sq', 'full_sq|cafe_count_5000_price_2500', 'full_sq|cafe_count_5000_price_1500', 'full_sq|sport_count_3000', 'full_sq|sport_count_2000', 'full_sq|cafe_count_5000', 'full_sq|zd_vokzaly_avto_km', 'full_sq|life_sq_per_room', 'full_sq|cafe_count_2000_price_1000', 'full_sq|cafe_count_1500_price_2500', 'full_sq|build_year', 'full_sq|swim_pool_km', 'full_sq|office_sqm_5000', 'full_sq|trc_count_5000', 'full_sq|metro_min_avto', 'full_sq|metro_km_walk', 'full_sq|floor', 'full_sq|nuclear_reactor_km', 'full_sq|metro_km_avto', 'full_sq|workplaces_km', 'full_sq|week_year_cnt', 'full_sq|max_floor', 'full_sq|life_sq_ratio', 'full_sq|cafe_count_3000_price_1500', 'full_sq|ttk_km', 'full_sq|green_zone_km', 'full_sq|trc_count_3000', 'full_sq|metro_min_walk', 'full_sq|cafe_count_5000_price_1000', 'full_sq|year', 'full_sq|market_shop_km', 'full_sq|month_year_cnt', 'full_sq|year_old', 'full_sq|cafe_count_3000_price_500', 'full_sq|cafe_count_2000_price_2500', 'full_sq|bulvar_ring_km', 'full_sq|detention_facility_km', 'full_sq|state', 'full_sq|big_road1_km', 'num_room|full_living_sq_diff', 'num_room|sub_area_Tencode', 'num_room|life_sq', 'num_room|kitch_sq_ratio', 'num_room|cafe_count_3000_price_2500', 'num_room|full_sq_per_room', 'num_room|cafe_count_3000', 'num_room|cafe_count_5000_price_high', 'num_room|cafe_count_2000', 'num_room|kitch_sq', 'num_room|cafe_count_5000_price_2500', 'num_room|cafe_count_5000_price_1500', 'num_room|sport_count_3000', 'num_room|sport_count_2000', 'num_room|cafe_count_5000', 'num_room|zd_vokzaly_avto_km', 'num_room|life_sq_per_room', 'num_room|cafe_count_2000_price_1000', 'num_room|cafe_count_1500_price_2500', 'num_room|build_year', 'num_room|swim_pool_km', 'num_room|office_sqm_5000', 'num_room|trc_count_5000', 'num_room|metro_min_avto', 'num_room|metro_km_walk', 'num_room|floor', 'num_room|nuclear_reactor_km', 'num_room|metro_km_avto', 'num_room|workplaces_km', 'num_room|week_year_cnt', 'num_room|max_floor', 'num_room|life_sq_ratio', 'num_room|cafe_count_3000_price_1500', 'num_room|ttk_km', 'num_room|green_zone_km', 'num_room|trc_count_3000', 'num_room|metro_min_walk', 'num_room|cafe_count_5000_price_1000', 'num_room|year', 'num_room|market_shop_km', 'num_room|month_year_cnt', 'num_room|year_old', 'num_room|cafe_count_3000_price_500', 'num_room|cafe_count_2000_price_2500', 'num_room|bulvar_ring_km', 'num_room|detention_facility_km', 'num_room|state', 'num_room|big_road1_km', 'full_living_sq_diff|sub_area_Tencode', 'full_living_sq_diff|life_sq', 'full_living_sq_diff|kitch_sq_ratio', 'full_living_sq_diff|cafe_count_3000_price_2500', 'full_living_sq_diff|full_sq_per_room', 'full_living_sq_diff|cafe_count_3000', 'full_living_sq_diff|cafe_count_5000_price_high', 'full_living_sq_diff|cafe_count_2000', 'full_living_sq_diff|kitch_sq', 'full_living_sq_diff|cafe_count_5000_price_2500', 'full_living_sq_diff|cafe_count_5000_price_1500', 'full_living_sq_diff|sport_count_3000', 'full_living_sq_diff|sport_count_2000', 'full_living_sq_diff|cafe_count_5000', 'full_living_sq_diff|zd_vokzaly_avto_km', 'full_living_sq_diff|life_sq_per_room', 'full_living_sq_diff|cafe_count_2000_price_1000', 'full_living_sq_diff|cafe_count_1500_price_2500', 'full_living_sq_diff|build_year', 'full_living_sq_diff|swim_pool_km', 'full_living_sq_diff|office_sqm_5000', 'full_living_sq_diff|trc_count_5000', 'full_living_sq_diff|metro_min_avto', 'full_living_sq_diff|metro_km_walk', 'full_living_sq_diff|floor', 'full_living_sq_diff|nuclear_reactor_km', 'full_living_sq_diff|metro_km_avto', 'full_living_sq_diff|workplaces_km', 'full_living_sq_diff|week_year_cnt', 'full_living_sq_diff|max_floor', 'full_living_sq_diff|life_sq_ratio', 'full_living_sq_diff|cafe_count_3000_price_1500', 'full_living_sq_diff|ttk_km', 'full_living_sq_diff|green_zone_km', 'full_living_sq_diff|trc_count_3000', 'full_living_sq_diff|metro_min_walk', 'full_living_sq_diff|cafe_count_5000_price_1000', 'full_living_sq_diff|year', 'full_living_sq_diff|market_shop_km', 'full_living_sq_diff|month_year_cnt', 'full_living_sq_diff|year_old', 'full_living_sq_diff|cafe_count_3000_price_500', 'full_living_sq_diff|cafe_count_2000_price_2500', 'full_living_sq_diff|bulvar_ring_km', 'full_living_sq_diff|detention_facility_km', 'full_living_sq_diff|state', 'full_living_sq_diff|big_road1_km', 'sub_area_Tencode|life_sq', 'sub_area_Tencode|kitch_sq_ratio', 'sub_area_Tencode|cafe_count_3000_price_2500', 'sub_area_Tencode|full_sq_per_room', 'sub_area_Tencode|cafe_count_3000', 'sub_area_Tencode|cafe_count_5000_price_high', 'sub_area_Tencode|cafe_count_2000', 'sub_area_Tencode|kitch_sq', 'sub_area_Tencode|cafe_count_5000_price_2500', 'sub_area_Tencode|cafe_count_5000_price_1500', 'sub_area_Tencode|sport_count_3000', 'sub_area_Tencode|sport_count_2000', 'sub_area_Tencode|cafe_count_5000', 'sub_area_Tencode|zd_vokzaly_avto_km', 'sub_area_Tencode|life_sq_per_room', 'sub_area_Tencode|cafe_count_2000_price_1000', 'sub_area_Tencode|cafe_count_1500_price_2500', 'sub_area_Tencode|build_year', 'sub_area_Tencode|swim_pool_km', 'sub_area_Tencode|office_sqm_5000', 'sub_area_Tencode|trc_count_5000', 'sub_area_Tencode|metro_min_avto', 'sub_area_Tencode|metro_km_walk', 'sub_area_Tencode|floor', 'sub_area_Tencode|nuclear_reactor_km', 'sub_area_Tencode|metro_km_avto', 'sub_area_Tencode|workplaces_km', 'sub_area_Tencode|week_year_cnt', 'sub_area_Tencode|max_floor', 'sub_area_Tencode|life_sq_ratio', 'sub_area_Tencode|cafe_count_3000_price_1500', 'sub_area_Tencode|ttk_km', 'sub_area_Tencode|green_zone_km', 'sub_area_Tencode|trc_count_3000', 'sub_area_Tencode|metro_min_walk', 'sub_area_Tencode|cafe_count_5000_price_1000', 'sub_area_Tencode|year', 'sub_area_Tencode|market_shop_km', 'sub_area_Tencode|month_year_cnt', 'sub_area_Tencode|year_old', 'sub_area_Tencode|cafe_count_3000_price_500', 'sub_area_Tencode|cafe_count_2000_price_2500', 'sub_area_Tencode|bulvar_ring_km', 'sub_area_Tencode|detention_facility_km', 'sub_area_Tencode|state', 'sub_area_Tencode|big_road1_km', 'life_sq|kitch_sq_ratio', 'life_sq|cafe_count_3000_price_2500', 'life_sq|full_sq_per_room', 'life_sq|cafe_count_3000', 'life_sq|cafe_count_5000_price_high', 'life_sq|cafe_count_2000', 'life_sq|kitch_sq', 'life_sq|cafe_count_5000_price_2500', 'life_sq|cafe_count_5000_price_1500', 'life_sq|sport_count_3000', 'life_sq|sport_count_2000', 'life_sq|cafe_count_5000', 'life_sq|zd_vokzaly_avto_km', 'life_sq|life_sq_per_room', 'life_sq|cafe_count_2000_price_1000', 'life_sq|cafe_count_1500_price_2500', 'life_sq|build_year', 'life_sq|swim_pool_km', 'life_sq|office_sqm_5000', 'life_sq|trc_count_5000', 'life_sq|metro_min_avto', 'life_sq|metro_km_walk', 'life_sq|floor', 'life_sq|nuclear_reactor_km', 'life_sq|metro_km_avto', 'life_sq|workplaces_km', 'life_sq|week_year_cnt', 'life_sq|max_floor', 'life_sq|life_sq_ratio', 'life_sq|cafe_count_3000_price_1500', 'life_sq|ttk_km', 'life_sq|green_zone_km', 'life_sq|trc_count_3000', 'life_sq|metro_min_walk', 'life_sq|cafe_count_5000_price_1000', 'life_sq|year', 'life_sq|market_shop_km', 'life_sq|month_year_cnt', 'life_sq|year_old', 'life_sq|cafe_count_3000_price_500', 'life_sq|cafe_count_2000_price_2500', 'life_sq|bulvar_ring_km', 'life_sq|detention_facility_km', 'life_sq|state', 'life_sq|big_road1_km', 'kitch_sq_ratio|cafe_count_3000_price_2500', 'kitch_sq_ratio|full_sq_per_room', 'kitch_sq_ratio|cafe_count_3000', 'kitch_sq_ratio|cafe_count_5000_price_high', 'kitch_sq_ratio|cafe_count_2000', 'kitch_sq_ratio|kitch_sq', 'kitch_sq_ratio|cafe_count_5000_price_2500', 'kitch_sq_ratio|cafe_count_5000_price_1500', 'kitch_sq_ratio|sport_count_3000', 'kitch_sq_ratio|sport_count_2000', 'kitch_sq_ratio|cafe_count_5000', 'kitch_sq_ratio|zd_vokzaly_avto_km', 'kitch_sq_ratio|life_sq_per_room', 'kitch_sq_ratio|cafe_count_2000_price_1000', 'kitch_sq_ratio|cafe_count_1500_price_2500', 'kitch_sq_ratio|build_year', 'kitch_sq_ratio|swim_pool_km', 'kitch_sq_ratio|office_sqm_5000', 'kitch_sq_ratio|trc_count_5000', 'kitch_sq_ratio|metro_min_avto', 'kitch_sq_ratio|metro_km_walk', 'kitch_sq_ratio|floor', 'kitch_sq_ratio|nuclear_reactor_km', 'kitch_sq_ratio|metro_km_avto', 'kitch_sq_ratio|workplaces_km', 'kitch_sq_ratio|week_year_cnt', 'kitch_sq_ratio|max_floor', 'kitch_sq_ratio|life_sq_ratio', 'kitch_sq_ratio|cafe_count_3000_price_1500', 'kitch_sq_ratio|ttk_km', 'kitch_sq_ratio|green_zone_km', 'kitch_sq_ratio|trc_count_3000', 'kitch_sq_ratio|metro_min_walk', 'kitch_sq_ratio|cafe_count_5000_price_1000', 'kitch_sq_ratio|year', 'kitch_sq_ratio|market_shop_km', 'kitch_sq_ratio|month_year_cnt', 'kitch_sq_ratio|year_old', 'kitch_sq_ratio|cafe_count_3000_price_500', 'kitch_sq_ratio|cafe_count_2000_price_2500', 'kitch_sq_ratio|bulvar_ring_km', 'kitch_sq_ratio|detention_facility_km', 'kitch_sq_ratio|state', 'kitch_sq_ratio|big_road1_km', 'cafe_count_3000_price_2500|full_sq_per_room', 'cafe_count_3000_price_2500|cafe_count_3000', 'cafe_count_3000_price_2500|cafe_count_5000_price_high', 'cafe_count_3000_price_2500|cafe_count_2000', 'cafe_count_3000_price_2500|kitch_sq', 'cafe_count_3000_price_2500|cafe_count_5000_price_2500', 'cafe_count_3000_price_2500|cafe_count_5000_price_1500', 'cafe_count_3000_price_2500|sport_count_3000', 'cafe_count_3000_price_2500|sport_count_2000', 'cafe_count_3000_price_2500|cafe_count_5000', 'cafe_count_3000_price_2500|zd_vokzaly_avto_km', 'cafe_count_3000_price_2500|life_sq_per_room', 'cafe_count_3000_price_2500|cafe_count_2000_price_1000', 'cafe_count_3000_price_2500|cafe_count_1500_price_2500', 'cafe_count_3000_price_2500|build_year', 'cafe_count_3000_price_2500|swim_pool_km', 'cafe_count_3000_price_2500|office_sqm_5000', 'cafe_count_3000_price_2500|trc_count_5000', 'cafe_count_3000_price_2500|metro_min_avto', 'cafe_count_3000_price_2500|metro_km_walk', 'cafe_count_3000_price_2500|floor', 'cafe_count_3000_price_2500|nuclear_reactor_km', 'cafe_count_3000_price_2500|metro_km_avto', 'cafe_count_3000_price_2500|workplaces_km', 'cafe_count_3000_price_2500|week_year_cnt', 'cafe_count_3000_price_2500|max_floor', 'cafe_count_3000_price_2500|life_sq_ratio', 'cafe_count_3000_price_2500|cafe_count_3000_price_1500', 'cafe_count_3000_price_2500|ttk_km', 'cafe_count_3000_price_2500|green_zone_km', 'cafe_count_3000_price_2500|trc_count_3000', 'cafe_count_3000_price_2500|metro_min_walk', 'cafe_count_3000_price_2500|cafe_count_5000_price_1000', 'cafe_count_3000_price_2500|year', 'cafe_count_3000_price_2500|market_shop_km', 'cafe_count_3000_price_2500|month_year_cnt', 'cafe_count_3000_price_2500|year_old', 'cafe_count_3000_price_2500|cafe_count_3000_price_500', 'cafe_count_3000_price_2500|cafe_count_2000_price_2500', 'cafe_count_3000_price_2500|bulvar_ring_km', 'cafe_count_3000_price_2500|detention_facility_km', 'cafe_count_3000_price_2500|state', 'cafe_count_3000_price_2500|big_road1_km', 'full_sq_per_room|cafe_count_3000', 'full_sq_per_room|cafe_count_5000_price_high', 'full_sq_per_room|cafe_count_2000', 'full_sq_per_room|kitch_sq', 'full_sq_per_room|cafe_count_5000_price_2500', 'full_sq_per_room|cafe_count_5000_price_1500', 'full_sq_per_room|sport_count_3000', 'full_sq_per_room|sport_count_2000', 'full_sq_per_room|cafe_count_5000', 'full_sq_per_room|zd_vokzaly_avto_km', 'full_sq_per_room|life_sq_per_room', 'full_sq_per_room|cafe_count_2000_price_1000', 'full_sq_per_room|cafe_count_1500_price_2500', 'full_sq_per_room|build_year', 'full_sq_per_room|swim_pool_km', 'full_sq_per_room|office_sqm_5000', 'full_sq_per_room|trc_count_5000', 'full_sq_per_room|metro_min_avto', 'full_sq_per_room|metro_km_walk', 'full_sq_per_room|floor', 'full_sq_per_room|nuclear_reactor_km', 'full_sq_per_room|metro_km_avto', 'full_sq_per_room|workplaces_km', 'full_sq_per_room|week_year_cnt', 'full_sq_per_room|max_floor', 'full_sq_per_room|life_sq_ratio', 'full_sq_per_room|cafe_count_3000_price_1500', 'full_sq_per_room|ttk_km', 'full_sq_per_room|green_zone_km', 'full_sq_per_room|trc_count_3000', 'full_sq_per_room|metro_min_walk', 'full_sq_per_room|cafe_count_5000_price_1000', 'full_sq_per_room|year', 'full_sq_per_room|market_shop_km', 'full_sq_per_room|month_year_cnt', 'full_sq_per_room|year_old', 'full_sq_per_room|cafe_count_3000_price_500', 'full_sq_per_room|cafe_count_2000_price_2500', 'full_sq_per_room|bulvar_ring_km', 'full_sq_per_room|detention_facility_km', 'full_sq_per_room|state', 'full_sq_per_room|big_road1_km', 'cafe_count_3000|cafe_count_5000_price_high', 'cafe_count_3000|cafe_count_2000', 'cafe_count_3000|kitch_sq', 'cafe_count_3000|cafe_count_5000_price_2500', 'cafe_count_3000|cafe_count_5000_price_1500', 'cafe_count_3000|sport_count_3000', 'cafe_count_3000|sport_count_2000', 'cafe_count_3000|cafe_count_5000', 'cafe_count_3000|zd_vokzaly_avto_km', 'cafe_count_3000|life_sq_per_room', 'cafe_count_3000|cafe_count_2000_price_1000', 'cafe_count_3000|cafe_count_1500_price_2500', 'cafe_count_3000|build_year', 'cafe_count_3000|swim_pool_km', 'cafe_count_3000|office_sqm_5000', 'cafe_count_3000|trc_count_5000', 'cafe_count_3000|metro_min_avto', 'cafe_count_3000|metro_km_walk', 'cafe_count_3000|floor', 'cafe_count_3000|nuclear_reactor_km', 'cafe_count_3000|metro_km_avto', 'cafe_count_3000|workplaces_km', 'cafe_count_3000|week_year_cnt', 'cafe_count_3000|max_floor', 'cafe_count_3000|life_sq_ratio', 'cafe_count_3000|cafe_count_3000_price_1500', 'cafe_count_3000|ttk_km', 'cafe_count_3000|green_zone_km', 'cafe_count_3000|trc_count_3000', 'cafe_count_3000|metro_min_walk', 'cafe_count_3000|cafe_count_5000_price_1000', 'cafe_count_3000|year', 'cafe_count_3000|market_shop_km', 'cafe_count_3000|month_year_cnt', 'cafe_count_3000|year_old', 'cafe_count_3000|cafe_count_3000_price_500', 'cafe_count_3000|cafe_count_2000_price_2500', 'cafe_count_3000|bulvar_ring_km', 'cafe_count_3000|detention_facility_km', 'cafe_count_3000|state', 'cafe_count_3000|big_road1_km', 'cafe_count_5000_price_high|cafe_count_2000', 'cafe_count_5000_price_high|kitch_sq', 'cafe_count_5000_price_high|cafe_count_5000_price_2500', 'cafe_count_5000_price_high|cafe_count_5000_price_1500', 'cafe_count_5000_price_high|sport_count_3000', 'cafe_count_5000_price_high|sport_count_2000', 'cafe_count_5000_price_high|cafe_count_5000', 'cafe_count_5000_price_high|zd_vokzaly_avto_km', 'cafe_count_5000_price_high|life_sq_per_room', 'cafe_count_5000_price_high|cafe_count_2000_price_1000', 'cafe_count_5000_price_high|cafe_count_1500_price_2500', 'cafe_count_5000_price_high|build_year', 'cafe_count_5000_price_high|swim_pool_km', 'cafe_count_5000_price_high|office_sqm_5000', 'cafe_count_5000_price_high|trc_count_5000', 'cafe_count_5000_price_high|metro_min_avto', 'cafe_count_5000_price_high|metro_km_walk', 'cafe_count_5000_price_high|floor', 'cafe_count_5000_price_high|nuclear_reactor_km', 'cafe_count_5000_price_high|metro_km_avto', 'cafe_count_5000_price_high|workplaces_km', 'cafe_count_5000_price_high|week_year_cnt', 'cafe_count_5000_price_high|max_floor', 'cafe_count_5000_price_high|life_sq_ratio', 'cafe_count_5000_price_high|cafe_count_3000_price_1500', 'cafe_count_5000_price_high|ttk_km', 'cafe_count_5000_price_high|green_zone_km', 'cafe_count_5000_price_high|trc_count_3000', 'cafe_count_5000_price_high|metro_min_walk', 'cafe_count_5000_price_high|cafe_count_5000_price_1000', 'cafe_count_5000_price_high|year', 'cafe_count_5000_price_high|market_shop_km', 'cafe_count_5000_price_high|month_year_cnt', 'cafe_count_5000_price_high|year_old', 'cafe_count_5000_price_high|cafe_count_3000_price_500', 'cafe_count_5000_price_high|cafe_count_2000_price_2500', 'cafe_count_5000_price_high|bulvar_ring_km', 'cafe_count_5000_price_high|detention_facility_km', 'cafe_count_5000_price_high|state', 'cafe_count_5000_price_high|big_road1_km', 'cafe_count_2000|kitch_sq', 'cafe_count_2000|cafe_count_5000_price_2500', 'cafe_count_2000|cafe_count_5000_price_1500', 'cafe_count_2000|sport_count_3000', 'cafe_count_2000|sport_count_2000', 'cafe_count_2000|cafe_count_5000', 'cafe_count_2000|zd_vokzaly_avto_km', 'cafe_count_2000|life_sq_per_room', 'cafe_count_2000|cafe_count_2000_price_1000', 'cafe_count_2000|cafe_count_1500_price_2500', 'cafe_count_2000|build_year', 'cafe_count_2000|swim_pool_km', 'cafe_count_2000|office_sqm_5000', 'cafe_count_2000|trc_count_5000', 'cafe_count_2000|metro_min_avto', 'cafe_count_2000|metro_km_walk', 'cafe_count_2000|floor', 'cafe_count_2000|nuclear_reactor_km', 'cafe_count_2000|metro_km_avto', 'cafe_count_2000|workplaces_km', 'cafe_count_2000|week_year_cnt', 'cafe_count_2000|max_floor', 'cafe_count_2000|life_sq_ratio', 'cafe_count_2000|cafe_count_3000_price_1500', 'cafe_count_2000|ttk_km', 'cafe_count_2000|green_zone_km', 'cafe_count_2000|trc_count_3000', 'cafe_count_2000|metro_min_walk', 'cafe_count_2000|cafe_count_5000_price_1000', 'cafe_count_2000|year', 'cafe_count_2000|market_shop_km', 'cafe_count_2000|month_year_cnt', 'cafe_count_2000|year_old', 'cafe_count_2000|cafe_count_3000_price_500', 'cafe_count_2000|cafe_count_2000_price_2500', 'cafe_count_2000|bulvar_ring_km', 'cafe_count_2000|detention_facility_km', 'cafe_count_2000|state', 'cafe_count_2000|big_road1_km', 'kitch_sq|cafe_count_5000_price_2500', 'kitch_sq|cafe_count_5000_price_1500', 'kitch_sq|sport_count_3000', 'kitch_sq|sport_count_2000', 'kitch_sq|cafe_count_5000', 'kitch_sq|zd_vokzaly_avto_km', 'kitch_sq|life_sq_per_room', 'kitch_sq|cafe_count_2000_price_1000', 'kitch_sq|cafe_count_1500_price_2500', 'kitch_sq|build_year', 'kitch_sq|swim_pool_km', 'kitch_sq|office_sqm_5000', 'kitch_sq|trc_count_5000', 'kitch_sq|metro_min_avto', 'kitch_sq|metro_km_walk', 'kitch_sq|floor', 'kitch_sq|nuclear_reactor_km', 'kitch_sq|metro_km_avto', 'kitch_sq|workplaces_km', 'kitch_sq|week_year_cnt', 'kitch_sq|max_floor', 'kitch_sq|life_sq_ratio', 'kitch_sq|cafe_count_3000_price_1500', 'kitch_sq|ttk_km', 'kitch_sq|green_zone_km', 'kitch_sq|trc_count_3000', 'kitch_sq|metro_min_walk', 'kitch_sq|cafe_count_5000_price_1000', 'kitch_sq|year', 'kitch_sq|market_shop_km', 'kitch_sq|month_year_cnt', 'kitch_sq|year_old', 'kitch_sq|cafe_count_3000_price_500', 'kitch_sq|cafe_count_2000_price_2500', 'kitch_sq|bulvar_ring_km', 'kitch_sq|detention_facility_km', 'kitch_sq|state', 'kitch_sq|big_road1_km', 'cafe_count_5000_price_2500|cafe_count_5000_price_1500', 'cafe_count_5000_price_2500|sport_count_3000', 'cafe_count_5000_price_2500|sport_count_2000', 'cafe_count_5000_price_2500|cafe_count_5000', 'cafe_count_5000_price_2500|zd_vokzaly_avto_km', 'cafe_count_5000_price_2500|life_sq_per_room', 'cafe_count_5000_price_2500|cafe_count_2000_price_1000', 'cafe_count_5000_price_2500|cafe_count_1500_price_2500', 'cafe_count_5000_price_2500|build_year', 'cafe_count_5000_price_2500|swim_pool_km', 'cafe_count_5000_price_2500|office_sqm_5000', 'cafe_count_5000_price_2500|trc_count_5000', 'cafe_count_5000_price_2500|metro_min_avto', 'cafe_count_5000_price_2500|metro_km_walk', 'cafe_count_5000_price_2500|floor', 'cafe_count_5000_price_2500|nuclear_reactor_km', 'cafe_count_5000_price_2500|metro_km_avto', 'cafe_count_5000_price_2500|workplaces_km', 'cafe_count_5000_price_2500|week_year_cnt', 'cafe_count_5000_price_2500|max_floor', 'cafe_count_5000_price_2500|life_sq_ratio', 'cafe_count_5000_price_2500|cafe_count_3000_price_1500', 'cafe_count_5000_price_2500|ttk_km', 'cafe_count_5000_price_2500|green_zone_km', 'cafe_count_5000_price_2500|trc_count_3000', 'cafe_count_5000_price_2500|metro_min_walk', 'cafe_count_5000_price_2500|cafe_count_5000_price_1000', 'cafe_count_5000_price_2500|year', 'cafe_count_5000_price_2500|market_shop_km', 'cafe_count_5000_price_2500|month_year_cnt', 'cafe_count_5000_price_2500|year_old', 'cafe_count_5000_price_2500|cafe_count_3000_price_500', 'cafe_count_5000_price_2500|cafe_count_2000_price_2500', 'cafe_count_5000_price_2500|bulvar_ring_km', 'cafe_count_5000_price_2500|detention_facility_km', 'cafe_count_5000_price_2500|state', 'cafe_count_5000_price_2500|big_road1_km', 'cafe_count_5000_price_1500|sport_count_3000', 'cafe_count_5000_price_1500|sport_count_2000', 'cafe_count_5000_price_1500|cafe_count_5000', 'cafe_count_5000_price_1500|zd_vokzaly_avto_km', 'cafe_count_5000_price_1500|life_sq_per_room', 'cafe_count_5000_price_1500|cafe_count_2000_price_1000', 'cafe_count_5000_price_1500|cafe_count_1500_price_2500', 'cafe_count_5000_price_1500|build_year', 'cafe_count_5000_price_1500|swim_pool_km', 'cafe_count_5000_price_1500|office_sqm_5000', 'cafe_count_5000_price_1500|trc_count_5000', 'cafe_count_5000_price_1500|metro_min_avto', 'cafe_count_5000_price_1500|metro_km_walk', 'cafe_count_5000_price_1500|floor', 'cafe_count_5000_price_1500|nuclear_reactor_km', 'cafe_count_5000_price_1500|metro_km_avto', 'cafe_count_5000_price_1500|workplaces_km', 'cafe_count_5000_price_1500|week_year_cnt', 'cafe_count_5000_price_1500|max_floor', 'cafe_count_5000_price_1500|life_sq_ratio', 'cafe_count_5000_price_1500|cafe_count_3000_price_1500', 'cafe_count_5000_price_1500|ttk_km', 'cafe_count_5000_price_1500|green_zone_km', 'cafe_count_5000_price_1500|trc_count_3000', 'cafe_count_5000_price_1500|metro_min_walk', 'cafe_count_5000_price_1500|cafe_count_5000_price_1000', 'cafe_count_5000_price_1500|year', 'cafe_count_5000_price_1500|market_shop_km', 'cafe_count_5000_price_1500|month_year_cnt', 'cafe_count_5000_price_1500|year_old', 'cafe_count_5000_price_1500|cafe_count_3000_price_500', 'cafe_count_5000_price_1500|cafe_count_2000_price_2500', 'cafe_count_5000_price_1500|bulvar_ring_km', 'cafe_count_5000_price_1500|detention_facility_km', 'cafe_count_5000_price_1500|state', 'cafe_count_5000_price_1500|big_road1_km', 'sport_count_3000|sport_count_2000', 'sport_count_3000|cafe_count_5000', 'sport_count_3000|zd_vokzaly_avto_km', 'sport_count_3000|life_sq_per_room', 'sport_count_3000|cafe_count_2000_price_1000', 'sport_count_3000|cafe_count_1500_price_2500', 'sport_count_3000|build_year', 'sport_count_3000|swim_pool_km', 'sport_count_3000|office_sqm_5000', 'sport_count_3000|trc_count_5000', 'sport_count_3000|metro_min_avto', 'sport_count_3000|metro_km_walk', 'sport_count_3000|floor', 'sport_count_3000|nuclear_reactor_km', 'sport_count_3000|metro_km_avto', 'sport_count_3000|workplaces_km', 'sport_count_3000|week_year_cnt', 'sport_count_3000|max_floor', 'sport_count_3000|life_sq_ratio', 'sport_count_3000|cafe_count_3000_price_1500', 'sport_count_3000|ttk_km', 'sport_count_3000|green_zone_km', 'sport_count_3000|trc_count_3000', 'sport_count_3000|metro_min_walk', 'sport_count_3000|cafe_count_5000_price_1000', 'sport_count_3000|year', 'sport_count_3000|market_shop_km', 'sport_count_3000|month_year_cnt', 'sport_count_3000|year_old', 'sport_count_3000|cafe_count_3000_price_500', 'sport_count_3000|cafe_count_2000_price_2500', 'sport_count_3000|bulvar_ring_km', 'sport_count_3000|detention_facility_km', 'sport_count_3000|state', 'sport_count_3000|big_road1_km', 'sport_count_2000|cafe_count_5000', 'sport_count_2000|zd_vokzaly_avto_km', 'sport_count_2000|life_sq_per_room', 'sport_count_2000|cafe_count_2000_price_1000', 'sport_count_2000|cafe_count_1500_price_2500', 'sport_count_2000|build_year', 'sport_count_2000|swim_pool_km', 'sport_count_2000|office_sqm_5000', 'sport_count_2000|trc_count_5000', 'sport_count_2000|metro_min_avto', 'sport_count_2000|metro_km_walk', 'sport_count_2000|floor', 'sport_count_2000|nuclear_reactor_km', 'sport_count_2000|metro_km_avto', 'sport_count_2000|workplaces_km', 'sport_count_2000|week_year_cnt', 'sport_count_2000|max_floor', 'sport_count_2000|life_sq_ratio', 'sport_count_2000|cafe_count_3000_price_1500', 'sport_count_2000|ttk_km', 'sport_count_2000|green_zone_km', 'sport_count_2000|trc_count_3000', 'sport_count_2000|metro_min_walk', 'sport_count_2000|cafe_count_5000_price_1000', 'sport_count_2000|year', 'sport_count_2000|market_shop_km', 'sport_count_2000|month_year_cnt', 'sport_count_2000|year_old', 'sport_count_2000|cafe_count_3000_price_500', 'sport_count_2000|cafe_count_2000_price_2500', 'sport_count_2000|bulvar_ring_km', 'sport_count_2000|detention_facility_km', 'sport_count_2000|state', 'sport_count_2000|big_road1_km', 'cafe_count_5000|zd_vokzaly_avto_km', 'cafe_count_5000|life_sq_per_room', 'cafe_count_5000|cafe_count_2000_price_1000', 'cafe_count_5000|cafe_count_1500_price_2500', 'cafe_count_5000|build_year', 'cafe_count_5000|swim_pool_km', 'cafe_count_5000|office_sqm_5000', 'cafe_count_5000|trc_count_5000', 'cafe_count_5000|metro_min_avto', 'cafe_count_5000|metro_km_walk', 'cafe_count_5000|floor', 'cafe_count_5000|nuclear_reactor_km', 'cafe_count_5000|metro_km_avto', 'cafe_count_5000|workplaces_km', 'cafe_count_5000|week_year_cnt', 'cafe_count_5000|max_floor', 'cafe_count_5000|life_sq_ratio', 'cafe_count_5000|cafe_count_3000_price_1500', 'cafe_count_5000|ttk_km', 'cafe_count_5000|green_zone_km', 'cafe_count_5000|trc_count_3000', 'cafe_count_5000|metro_min_walk', 'cafe_count_5000|cafe_count_5000_price_1000', 'cafe_count_5000|year', 'cafe_count_5000|market_shop_km', 'cafe_count_5000|month_year_cnt', 'cafe_count_5000|year_old', 'cafe_count_5000|cafe_count_3000_price_500', 'cafe_count_5000|cafe_count_2000_price_2500', 'cafe_count_5000|bulvar_ring_km', 'cafe_count_5000|detention_facility_km', 'cafe_count_5000|state', 'cafe_count_5000|big_road1_km', 'zd_vokzaly_avto_km|life_sq_per_room', 'zd_vokzaly_avto_km|cafe_count_2000_price_1000', 'zd_vokzaly_avto_km|cafe_count_1500_price_2500', 'zd_vokzaly_avto_km|build_year', 'zd_vokzaly_avto_km|swim_pool_km', 'zd_vokzaly_avto_km|office_sqm_5000', 'zd_vokzaly_avto_km|trc_count_5000', 'zd_vokzaly_avto_km|metro_min_avto', 'zd_vokzaly_avto_km|metro_km_walk', 'zd_vokzaly_avto_km|floor', 'zd_vokzaly_avto_km|nuclear_reactor_km', 'zd_vokzaly_avto_km|metro_km_avto', 'zd_vokzaly_avto_km|workplaces_km', 'zd_vokzaly_avto_km|week_year_cnt', 'zd_vokzaly_avto_km|max_floor', 'zd_vokzaly_avto_km|life_sq_ratio', 'zd_vokzaly_avto_km|cafe_count_3000_price_1500', 'zd_vokzaly_avto_km|ttk_km', 'zd_vokzaly_avto_km|green_zone_km', 'zd_vokzaly_avto_km|trc_count_3000', 'zd_vokzaly_avto_km|metro_min_walk', 'zd_vokzaly_avto_km|cafe_count_5000_price_1000', 'zd_vokzaly_avto_km|year', 'zd_vokzaly_avto_km|market_shop_km', 'zd_vokzaly_avto_km|month_year_cnt', 'zd_vokzaly_avto_km|year_old', 'zd_vokzaly_avto_km|cafe_count_3000_price_500', 'zd_vokzaly_avto_km|cafe_count_2000_price_2500', 'zd_vokzaly_avto_km|bulvar_ring_km', 'zd_vokzaly_avto_km|detention_facility_km', 'zd_vokzaly_avto_km|state', 'zd_vokzaly_avto_km|big_road1_km', 'life_sq_per_room|cafe_count_2000_price_1000', 'life_sq_per_room|cafe_count_1500_price_2500', 'life_sq_per_room|build_year', 'life_sq_per_room|swim_pool_km', 'life_sq_per_room|office_sqm_5000', 'life_sq_per_room|trc_count_5000', 'life_sq_per_room|metro_min_avto', 'life_sq_per_room|metro_km_walk', 'life_sq_per_room|floor', 'life_sq_per_room|nuclear_reactor_km', 'life_sq_per_room|metro_km_avto', 'life_sq_per_room|workplaces_km', 'life_sq_per_room|week_year_cnt', 'life_sq_per_room|max_floor', 'life_sq_per_room|life_sq_ratio', 'life_sq_per_room|cafe_count_3000_price_1500', 'life_sq_per_room|ttk_km', 'life_sq_per_room|green_zone_km', 'life_sq_per_room|trc_count_3000', 'life_sq_per_room|metro_min_walk', 'life_sq_per_room|cafe_count_5000_price_1000', 'life_sq_per_room|year', 'life_sq_per_room|market_shop_km', 'life_sq_per_room|month_year_cnt', 'life_sq_per_room|year_old', 'life_sq_per_room|cafe_count_3000_price_500', 'life_sq_per_room|cafe_count_2000_price_2500', 'life_sq_per_room|bulvar_ring_km', 'life_sq_per_room|detention_facility_km', 'life_sq_per_room|state', 'life_sq_per_room|big_road1_km', 'cafe_count_2000_price_1000|cafe_count_1500_price_2500', 'cafe_count_2000_price_1000|build_year', 'cafe_count_2000_price_1000|swim_pool_km', 'cafe_count_2000_price_1000|office_sqm_5000', 'cafe_count_2000_price_1000|trc_count_5000', 'cafe_count_2000_price_1000|metro_min_avto', 'cafe_count_2000_price_1000|metro_km_walk', 'cafe_count_2000_price_1000|floor', 'cafe_count_2000_price_1000|nuclear_reactor_km', 'cafe_count_2000_price_1000|metro_km_avto', 'cafe_count_2000_price_1000|workplaces_km', 'cafe_count_2000_price_1000|week_year_cnt', 'cafe_count_2000_price_1000|max_floor', 'cafe_count_2000_price_1000|life_sq_ratio', 'cafe_count_2000_price_1000|cafe_count_3000_price_1500', 'cafe_count_2000_price_1000|ttk_km', 'cafe_count_2000_price_1000|green_zone_km', 'cafe_count_2000_price_1000|trc_count_3000', 'cafe_count_2000_price_1000|metro_min_walk', 'cafe_count_2000_price_1000|cafe_count_5000_price_1000', 'cafe_count_2000_price_1000|year', 'cafe_count_2000_price_1000|market_shop_km', 'cafe_count_2000_price_1000|month_year_cnt', 'cafe_count_2000_price_1000|year_old', 'cafe_count_2000_price_1000|cafe_count_3000_price_500', 'cafe_count_2000_price_1000|cafe_count_2000_price_2500', 'cafe_count_2000_price_1000|bulvar_ring_km', 'cafe_count_2000_price_1000|detention_facility_km', 'cafe_count_2000_price_1000|state', 'cafe_count_2000_price_1000|big_road1_km', 'cafe_count_1500_price_2500|build_year', 'cafe_count_1500_price_2500|swim_pool_km', 'cafe_count_1500_price_2500|office_sqm_5000', 'cafe_count_1500_price_2500|trc_count_5000', 'cafe_count_1500_price_2500|metro_min_avto', 'cafe_count_1500_price_2500|metro_km_walk', 'cafe_count_1500_price_2500|floor', 'cafe_count_1500_price_2500|nuclear_reactor_km', 'cafe_count_1500_price_2500|metro_km_avto', 'cafe_count_1500_price_2500|workplaces_km', 'cafe_count_1500_price_2500|week_year_cnt', 'cafe_count_1500_price_2500|max_floor', 'cafe_count_1500_price_2500|life_sq_ratio', 'cafe_count_1500_price_2500|cafe_count_3000_price_1500', 'cafe_count_1500_price_2500|ttk_km', 'cafe_count_1500_price_2500|green_zone_km', 'cafe_count_1500_price_2500|trc_count_3000', 'cafe_count_1500_price_2500|metro_min_walk', 'cafe_count_1500_price_2500|cafe_count_5000_price_1000', 'cafe_count_1500_price_2500|year', 'cafe_count_1500_price_2500|market_shop_km', 'cafe_count_1500_price_2500|month_year_cnt', 'cafe_count_1500_price_2500|year_old', 'cafe_count_1500_price_2500|cafe_count_3000_price_500', 'cafe_count_1500_price_2500|cafe_count_2000_price_2500', 'cafe_count_1500_price_2500|bulvar_ring_km', 'cafe_count_1500_price_2500|detention_facility_km', 'cafe_count_1500_price_2500|state', 'cafe_count_1500_price_2500|big_road1_km', 'build_year|swim_pool_km', 'build_year|office_sqm_5000', 'build_year|trc_count_5000', 'build_year|metro_min_avto', 'build_year|metro_km_walk', 'build_year|floor', 'build_year|nuclear_reactor_km', 'build_year|metro_km_avto', 'build_year|workplaces_km', 'build_year|week_year_cnt', 'build_year|max_floor', 'build_year|life_sq_ratio', 'build_year|cafe_count_3000_price_1500', 'build_year|ttk_km', 'build_year|green_zone_km', 'build_year|trc_count_3000', 'build_year|metro_min_walk', 'build_year|cafe_count_5000_price_1000', 'build_year|year', 'build_year|market_shop_km', 'build_year|month_year_cnt', 'build_year|year_old', 'build_year|cafe_count_3000_price_500', 'build_year|cafe_count_2000_price_2500', 'build_year|bulvar_ring_km', 'build_year|detention_facility_km', 'build_year|state', 'build_year|big_road1_km', 'swim_pool_km|office_sqm_5000', 'swim_pool_km|trc_count_5000', 'swim_pool_km|metro_min_avto', 'swim_pool_km|metro_km_walk', 'swim_pool_km|floor', 'swim_pool_km|nuclear_reactor_km', 'swim_pool_km|metro_km_avto', 'swim_pool_km|workplaces_km', 'swim_pool_km|week_year_cnt', 'swim_pool_km|max_floor', 'swim_pool_km|life_sq_ratio', 'swim_pool_km|cafe_count_3000_price_1500', 'swim_pool_km|ttk_km', 'swim_pool_km|green_zone_km', 'swim_pool_km|trc_count_3000', 'swim_pool_km|metro_min_walk', 'swim_pool_km|cafe_count_5000_price_1000', 'swim_pool_km|year', 'swim_pool_km|market_shop_km', 'swim_pool_km|month_year_cnt', 'swim_pool_km|year_old', 'swim_pool_km|cafe_count_3000_price_500', 'swim_pool_km|cafe_count_2000_price_2500', 'swim_pool_km|bulvar_ring_km', 'swim_pool_km|detention_facility_km', 'swim_pool_km|state', 'swim_pool_km|big_road1_km', 'office_sqm_5000|trc_count_5000', 'office_sqm_5000|metro_min_avto', 'office_sqm_5000|metro_km_walk', 'office_sqm_5000|floor', 'office_sqm_5000|nuclear_reactor_km', 'office_sqm_5000|metro_km_avto', 'office_sqm_5000|workplaces_km', 'office_sqm_5000|week_year_cnt', 'office_sqm_5000|max_floor', 'office_sqm_5000|life_sq_ratio', 'office_sqm_5000|cafe_count_3000_price_1500', 'office_sqm_5000|ttk_km', 'office_sqm_5000|green_zone_km', 'office_sqm_5000|trc_count_3000', 'office_sqm_5000|metro_min_walk', 'office_sqm_5000|cafe_count_5000_price_1000', 'office_sqm_5000|year', 'office_sqm_5000|market_shop_km', 'office_sqm_5000|month_year_cnt', 'office_sqm_5000|year_old', 'office_sqm_5000|cafe_count_3000_price_500', 'office_sqm_5000|cafe_count_2000_price_2500', 'office_sqm_5000|bulvar_ring_km', 'office_sqm_5000|detention_facility_km', 'office_sqm_5000|state', 'office_sqm_5000|big_road1_km', 'trc_count_5000|metro_min_avto', 'trc_count_5000|metro_km_walk', 'trc_count_5000|floor', 'trc_count_5000|nuclear_reactor_km', 'trc_count_5000|metro_km_avto', 'trc_count_5000|workplaces_km', 'trc_count_5000|week_year_cnt', 'trc_count_5000|max_floor', 'trc_count_5000|life_sq_ratio', 'trc_count_5000|cafe_count_3000_price_1500', 'trc_count_5000|ttk_km', 'trc_count_5000|green_zone_km', 'trc_count_5000|trc_count_3000', 'trc_count_5000|metro_min_walk', 'trc_count_5000|cafe_count_5000_price_1000', 'trc_count_5000|year', 'trc_count_5000|market_shop_km', 'trc_count_5000|month_year_cnt', 'trc_count_5000|year_old', 'trc_count_5000|cafe_count_3000_price_500', 'trc_count_5000|cafe_count_2000_price_2500', 'trc_count_5000|bulvar_ring_km', 'trc_count_5000|detention_facility_km', 'trc_count_5000|state', 'trc_count_5000|big_road1_km', 'metro_min_avto|metro_km_walk', 'metro_min_avto|floor', 'metro_min_avto|nuclear_reactor_km', 'metro_min_avto|metro_km_avto', 'metro_min_avto|workplaces_km', 'metro_min_avto|week_year_cnt', 'metro_min_avto|max_floor', 'metro_min_avto|life_sq_ratio', 'metro_min_avto|cafe_count_3000_price_1500', 'metro_min_avto|ttk_km', 'metro_min_avto|green_zone_km', 'metro_min_avto|trc_count_3000', 'metro_min_avto|metro_min_walk', 'metro_min_avto|cafe_count_5000_price_1000', 'metro_min_avto|year', 'metro_min_avto|market_shop_km', 'metro_min_avto|month_year_cnt', 'metro_min_avto|year_old', 'metro_min_avto|cafe_count_3000_price_500', 'metro_min_avto|cafe_count_2000_price_2500', 'metro_min_avto|bulvar_ring_km', 'metro_min_avto|detention_facility_km', 'metro_min_avto|state', 'metro_min_avto|big_road1_km', 'metro_km_walk|floor', 'metro_km_walk|nuclear_reactor_km', 'metro_km_walk|metro_km_avto', 'metro_km_walk|workplaces_km', 'metro_km_walk|week_year_cnt', 'metro_km_walk|max_floor', 'metro_km_walk|life_sq_ratio', 'metro_km_walk|cafe_count_3000_price_1500', 'metro_km_walk|ttk_km', 'metro_km_walk|green_zone_km', 'metro_km_walk|trc_count_3000', 'metro_km_walk|metro_min_walk', 'metro_km_walk|cafe_count_5000_price_1000', 'metro_km_walk|year', 'metro_km_walk|market_shop_km', 'metro_km_walk|month_year_cnt', 'metro_km_walk|year_old', 'metro_km_walk|cafe_count_3000_price_500', 'metro_km_walk|cafe_count_2000_price_2500', 'metro_km_walk|bulvar_ring_km', 'metro_km_walk|detention_facility_km', 'metro_km_walk|state', 'metro_km_walk|big_road1_km', 'floor|nuclear_reactor_km', 'floor|metro_km_avto', 'floor|workplaces_km', 'floor|week_year_cnt', 'floor|max_floor', 'floor|life_sq_ratio', 'floor|cafe_count_3000_price_1500', 'floor|ttk_km', 'floor|green_zone_km', 'floor|trc_count_3000', 'floor|metro_min_walk', 'floor|cafe_count_5000_price_1000', 'floor|year', 'floor|market_shop_km', 'floor|month_year_cnt', 'floor|year_old', 'floor|cafe_count_3000_price_500', 'floor|cafe_count_2000_price_2500', 'floor|bulvar_ring_km', 'floor|detention_facility_km', 'floor|state', 'floor|big_road1_km', 'nuclear_reactor_km|metro_km_avto', 'nuclear_reactor_km|workplaces_km', 'nuclear_reactor_km|week_year_cnt', 'nuclear_reactor_km|max_floor', 'nuclear_reactor_km|life_sq_ratio', 'nuclear_reactor_km|cafe_count_3000_price_1500', 'nuclear_reactor_km|ttk_km', 'nuclear_reactor_km|green_zone_km', 'nuclear_reactor_km|trc_count_3000', 'nuclear_reactor_km|metro_min_walk', 'nuclear_reactor_km|cafe_count_5000_price_1000', 'nuclear_reactor_km|year', 'nuclear_reactor_km|market_shop_km', 'nuclear_reactor_km|month_year_cnt', 'nuclear_reactor_km|year_old', 'nuclear_reactor_km|cafe_count_3000_price_500', 'nuclear_reactor_km|cafe_count_2000_price_2500', 'nuclear_reactor_km|bulvar_ring_km', 'nuclear_reactor_km|detention_facility_km', 'nuclear_reactor_km|state', 'nuclear_reactor_km|big_road1_km', 'metro_km_avto|workplaces_km', 'metro_km_avto|week_year_cnt', 'metro_km_avto|max_floor', 'metro_km_avto|life_sq_ratio', 'metro_km_avto|cafe_count_3000_price_1500', 'metro_km_avto|ttk_km', 'metro_km_avto|green_zone_km', 'metro_km_avto|trc_count_3000', 'metro_km_avto|metro_min_walk', 'metro_km_avto|cafe_count_5000_price_1000', 'metro_km_avto|year', 'metro_km_avto|market_shop_km', 'metro_km_avto|month_year_cnt', 'metro_km_avto|year_old', 'metro_km_avto|cafe_count_3000_price_500', 'metro_km_avto|cafe_count_2000_price_2500', 'metro_km_avto|bulvar_ring_km', 'metro_km_avto|detention_facility_km', 'metro_km_avto|state', 'metro_km_avto|big_road1_km', 'workplaces_km|week_year_cnt', 'workplaces_km|max_floor', 'workplaces_km|life_sq_ratio', 'workplaces_km|cafe_count_3000_price_1500', 'workplaces_km|ttk_km', 'workplaces_km|green_zone_km', 'workplaces_km|trc_count_3000', 'workplaces_km|metro_min_walk', 'workplaces_km|cafe_count_5000_price_1000', 'workplaces_km|year', 'workplaces_km|market_shop_km', 'workplaces_km|month_year_cnt', 'workplaces_km|year_old', 'workplaces_km|cafe_count_3000_price_500', 'workplaces_km|cafe_count_2000_price_2500', 'workplaces_km|bulvar_ring_km', 'workplaces_km|detention_facility_km', 'workplaces_km|state', 'workplaces_km|big_road1_km', 'week_year_cnt|max_floor', 'week_year_cnt|life_sq_ratio', 'week_year_cnt|cafe_count_3000_price_1500', 'week_year_cnt|ttk_km', 'week_year_cnt|green_zone_km', 'week_year_cnt|trc_count_3000', 'week_year_cnt|metro_min_walk', 'week_year_cnt|cafe_count_5000_price_1000', 'week_year_cnt|year', 'week_year_cnt|market_shop_km', 'week_year_cnt|month_year_cnt', 'week_year_cnt|year_old', 'week_year_cnt|cafe_count_3000_price_500', 'week_year_cnt|cafe_count_2000_price_2500', 'week_year_cnt|bulvar_ring_km', 'week_year_cnt|detention_facility_km', 'week_year_cnt|state', 'week_year_cnt|big_road1_km', 'max_floor|life_sq_ratio', 'max_floor|cafe_count_3000_price_1500', 'max_floor|ttk_km', 'max_floor|green_zone_km', 'max_floor|trc_count_3000', 'max_floor|metro_min_walk', 'max_floor|cafe_count_5000_price_1000', 'max_floor|year', 'max_floor|market_shop_km', 'max_floor|month_year_cnt', 'max_floor|year_old', 'max_floor|cafe_count_3000_price_500', 'max_floor|cafe_count_2000_price_2500', 'max_floor|bulvar_ring_km', 'max_floor|detention_facility_km', 'max_floor|state', 'max_floor|big_road1_km', 'life_sq_ratio|cafe_count_3000_price_1500', 'life_sq_ratio|ttk_km', 'life_sq_ratio|green_zone_km', 'life_sq_ratio|trc_count_3000', 'life_sq_ratio|metro_min_walk', 'life_sq_ratio|cafe_count_5000_price_1000', 'life_sq_ratio|year', 'life_sq_ratio|market_shop_km', 'life_sq_ratio|month_year_cnt', 'life_sq_ratio|year_old', 'life_sq_ratio|cafe_count_3000_price_500', 'life_sq_ratio|cafe_count_2000_price_2500', 'life_sq_ratio|bulvar_ring_km', 'life_sq_ratio|detention_facility_km', 'life_sq_ratio|state', 'life_sq_ratio|big_road1_km', 'cafe_count_3000_price_1500|ttk_km', 'cafe_count_3000_price_1500|green_zone_km', 'cafe_count_3000_price_1500|trc_count_3000', 'cafe_count_3000_price_1500|metro_min_walk', 'cafe_count_3000_price_1500|cafe_count_5000_price_1000', 'cafe_count_3000_price_1500|year', 'cafe_count_3000_price_1500|market_shop_km', 'cafe_count_3000_price_1500|month_year_cnt', 'cafe_count_3000_price_1500|year_old', 'cafe_count_3000_price_1500|cafe_count_3000_price_500', 'cafe_count_3000_price_1500|cafe_count_2000_price_2500', 'cafe_count_3000_price_1500|bulvar_ring_km', 'cafe_count_3000_price_1500|detention_facility_km', 'cafe_count_3000_price_1500|state', 'cafe_count_3000_price_1500|big_road1_km', 'ttk_km|green_zone_km', 'ttk_km|trc_count_3000', 'ttk_km|metro_min_walk', 'ttk_km|cafe_count_5000_price_1000', 'ttk_km|year', 'ttk_km|market_shop_km', 'ttk_km|month_year_cnt', 'ttk_km|year_old', 'ttk_km|cafe_count_3000_price_500', 'ttk_km|cafe_count_2000_price_2500', 'ttk_km|bulvar_ring_km', 'ttk_km|detention_facility_km', 'ttk_km|state', 'ttk_km|big_road1_km', 'green_zone_km|trc_count_3000', 'green_zone_km|metro_min_walk', 'green_zone_km|cafe_count_5000_price_1000', 'green_zone_km|year', 'green_zone_km|market_shop_km', 'green_zone_km|month_year_cnt', 'green_zone_km|year_old', 'green_zone_km|cafe_count_3000_price_500', 'green_zone_km|cafe_count_2000_price_2500', 'green_zone_km|bulvar_ring_km', 'green_zone_km|detention_facility_km', 'green_zone_km|state', 'green_zone_km|big_road1_km', 'trc_count_3000|metro_min_walk', 'trc_count_3000|cafe_count_5000_price_1000', 'trc_count_3000|year', 'trc_count_3000|market_shop_km', 'trc_count_3000|month_year_cnt', 'trc_count_3000|year_old', 'trc_count_3000|cafe_count_3000_price_500', 'trc_count_3000|cafe_count_2000_price_2500', 'trc_count_3000|bulvar_ring_km', 'trc_count_3000|detention_facility_km', 'trc_count_3000|state', 'trc_count_3000|big_road1_km', 'metro_min_walk|cafe_count_5000_price_1000', 'metro_min_walk|year', 'metro_min_walk|market_shop_km', 'metro_min_walk|month_year_cnt', 'metro_min_walk|year_old', 'metro_min_walk|cafe_count_3000_price_500', 'metro_min_walk|cafe_count_2000_price_2500', 'metro_min_walk|bulvar_ring_km', 'metro_min_walk|detention_facility_km', 'metro_min_walk|state', 'metro_min_walk|big_road1_km', 'cafe_count_5000_price_1000|year', 'cafe_count_5000_price_1000|market_shop_km', 'cafe_count_5000_price_1000|month_year_cnt', 'cafe_count_5000_price_1000|year_old', 'cafe_count_5000_price_1000|cafe_count_3000_price_500', 'cafe_count_5000_price_1000|cafe_count_2000_price_2500', 'cafe_count_5000_price_1000|bulvar_ring_km', 'cafe_count_5000_price_1000|detention_facility_km', 'cafe_count_5000_price_1000|state', 'cafe_count_5000_price_1000|big_road1_km', 'year|market_shop_km', 'year|month_year_cnt', 'year|year_old', 'year|cafe_count_3000_price_500', 'year|cafe_count_2000_price_2500', 'year|bulvar_ring_km', 'year|detention_facility_km', 'year|state', 'year|big_road1_km', 'market_shop_km|month_year_cnt', 'market_shop_km|year_old', 'market_shop_km|cafe_count_3000_price_500', 'market_shop_km|cafe_count_2000_price_2500', 'market_shop_km|bulvar_ring_km', 'market_shop_km|detention_facility_km', 'market_shop_km|state', 'market_shop_km|big_road1_km', 'month_year_cnt|year_old', 'month_year_cnt|cafe_count_3000_price_500', 'month_year_cnt|cafe_count_2000_price_2500', 'month_year_cnt|bulvar_ring_km', 'month_year_cnt|detention_facility_km', 'month_year_cnt|state', 'month_year_cnt|big_road1_km', 'year_old|cafe_count_3000_price_500', 'year_old|cafe_count_2000_price_2500', 'year_old|bulvar_ring_km', 'year_old|detention_facility_km', 'year_old|state', 'year_old|big_road1_km', 'cafe_count_3000_price_500|cafe_count_2000_price_2500', 'cafe_count_3000_price_500|bulvar_ring_km', 'cafe_count_3000_price_500|detention_facility_km', 'cafe_count_3000_price_500|state', 'cafe_count_3000_price_500|big_road1_km', 'cafe_count_2000_price_2500|bulvar_ring_km', 'cafe_count_2000_price_2500|detention_facility_km', 'cafe_count_2000_price_2500|state', 'cafe_count_2000_price_2500|big_road1_km', 'bulvar_ring_km|detention_facility_km', 'bulvar_ring_km|state', 'bulvar_ring_km|big_road1_km', 'detention_facility_km|state', 'detention_facility_km|big_road1_km', 'state|big_road1_km']\n",
      "\n",
      "Categorical = ['product_type', 'sub_area', 'culture_objects_top_25', 'thermal_power_plant_raion', 'incineration_raion', 'oil_chemistry_raion', 'radiation_raion', 'railroad_terminal_raion', 'big_market_raion', 'nuclear_reactor_raion', 'detention_facility_raion', 'water_1line', 'big_road1_1line', 'railroad_1line', 'ecology']\n"
     ]
    }
   ],
   "source": [
    "encoded_combined_nums, cats = get_type_lists(frame=train)"
   ]
  },
  {
   "cell_type": "code",
   "execution_count": 36,
   "metadata": {
    "collapsed": false
   },
   "outputs": [],
   "source": [
    "#encoded_combined_nums"
   ]
  },
  {
   "cell_type": "code",
   "execution_count": null,
   "metadata": {
    "collapsed": true
   },
   "outputs": [],
   "source": [
    "newtrain_df = train.as_data_frame()\n",
    "newvalid_df = valid.as_data_frame()\n",
    "newtest_df = test.as_data_frame()"
   ]
  },
  {
   "cell_type": "code",
   "execution_count": null,
   "metadata": {
    "collapsed": false
   },
   "outputs": [],
   "source": [
    "#newtest_df.head()"
   ]
  },
  {
   "cell_type": "code",
   "execution_count": null,
   "metadata": {
    "collapsed": true
   },
   "outputs": [],
   "source": [
    "newvalid_df.to_csv('/Users/zwang/GWU/Kaggle/Housing_Mkt/data/newvalid.csv')\n",
    "newtrain_df.to_csv('/Users/zwang/GWU/Kaggle/Housing_Mkt/data/newtrain.csv')\n",
    "newtest_df.to_csv('/Users/zwang/GWU/Kaggle/Housing_Mkt/data/newtest.csv')"
   ]
  },
  {
   "cell_type": "markdown",
   "metadata": {},
   "source": [
    "#### Function to generate submission file"
   ]
  },
  {
   "cell_type": "code",
   "execution_count": 37,
   "metadata": {
    "collapsed": true
   },
   "outputs": [],
   "source": [
    "import re\n",
    "import time\n",
    "\n",
    "def gen_submission(preds, test=test):\n",
    "    # create time stamp\n",
    "    time_stamp = re.sub('[: ]', '_', time.asctime())\n",
    "\n",
    "    # create predictions column\n",
    "    sub = test['id'].cbind(preds.exp())\n",
    "    sub.columns = ['id', 'price_doc']\n",
    "    \n",
    "    # save file for submission\n",
    "    sub_fname = wd+'/submission_' + str(time_stamp) + '.csv'\n",
    "    h2o.download_csv(sub, sub_fname)\n",
    "    return sub"
   ]
  },
  {
   "cell_type": "markdown",
   "metadata": {},
   "source": [
    "### Native XGBoost"
   ]
  },
  {
   "cell_type": "code",
   "execution_count": 38,
   "metadata": {
    "collapsed": false
   },
   "outputs": [],
   "source": [
    "\n",
    "ave_y = train['price_doc'].mean()[0] ###\n",
    "\n",
    "# XGBoost uses SVMLight data structure, not Numpy arrays or Pandas data frames \n",
    "dtrain1 = xgb.DMatrix(train.as_data_frame()[encoded_combined_nums],\n",
    "                      train.as_data_frame()['price_doc'], feature_names = encoded_combined_nums) ###\n",
    "dvalid1 = xgb.DMatrix(valid.as_data_frame()[encoded_combined_nums],\n",
    "                      valid.as_data_frame()['price_doc'], feature_names = encoded_combined_nums)\n",
    "dtest = xgb.DMatrix(test.as_data_frame()[encoded_combined_nums], feature_names = encoded_combined_nums)\n",
    "\n"
   ]
  },
  {
   "cell_type": "code",
   "execution_count": 41,
   "metadata": {
    "collapsed": false,
    "scrolled": true
   },
   "outputs": [
    {
     "name": "stdout",
     "output_type": "stream",
     "text": [
      "[0]\ttrain-rmse:0.589309\teval-rmse:0.602181\n",
      "Multiple eval metrics have been passed: 'eval-rmse' will be used for early stopping.\n",
      "\n",
      "Will train until eval-rmse hasn't improved in 50 rounds.\n",
      "[1]\ttrain-rmse:0.578856\teval-rmse:0.593019\n",
      "[2]\ttrain-rmse:0.568711\teval-rmse:0.584446\n",
      "[3]\ttrain-rmse:0.559515\teval-rmse:0.576484\n",
      "[4]\ttrain-rmse:0.551162\teval-rmse:0.569441\n",
      "[5]\ttrain-rmse:0.542967\teval-rmse:0.562563\n",
      "[6]\ttrain-rmse:0.53542\teval-rmse:0.556299\n",
      "[7]\ttrain-rmse:0.528495\teval-rmse:0.5506\n",
      "[8]\ttrain-rmse:0.522061\teval-rmse:0.545389\n",
      "[9]\ttrain-rmse:0.516115\teval-rmse:0.540568\n",
      "[10]\ttrain-rmse:0.510571\teval-rmse:0.536125\n",
      "[11]\ttrain-rmse:0.505396\teval-rmse:0.532123\n",
      "[12]\ttrain-rmse:0.500661\teval-rmse:0.528449\n",
      "[13]\ttrain-rmse:0.496293\teval-rmse:0.525059\n",
      "[14]\ttrain-rmse:0.492218\teval-rmse:0.52189\n",
      "[15]\ttrain-rmse:0.488356\teval-rmse:0.518766\n",
      "[16]\ttrain-rmse:0.484813\teval-rmse:0.516135\n",
      "[17]\ttrain-rmse:0.481581\teval-rmse:0.513849\n",
      "[18]\ttrain-rmse:0.478504\teval-rmse:0.511653\n",
      "[19]\ttrain-rmse:0.475662\teval-rmse:0.509602\n",
      "[20]\ttrain-rmse:0.472986\teval-rmse:0.507733\n",
      "[21]\ttrain-rmse:0.470393\teval-rmse:0.506052\n",
      "[22]\ttrain-rmse:0.468028\teval-rmse:0.504469\n",
      "[23]\ttrain-rmse:0.465873\teval-rmse:0.503069\n",
      "[24]\ttrain-rmse:0.463853\teval-rmse:0.501832\n",
      "[25]\ttrain-rmse:0.461835\teval-rmse:0.500656\n",
      "[26]\ttrain-rmse:0.460058\teval-rmse:0.499583\n",
      "[27]\ttrain-rmse:0.458351\teval-rmse:0.498505\n",
      "[28]\ttrain-rmse:0.456511\teval-rmse:0.497475\n",
      "[29]\ttrain-rmse:0.454753\teval-rmse:0.496512\n",
      "[30]\ttrain-rmse:0.453227\teval-rmse:0.495751\n",
      "[31]\ttrain-rmse:0.451775\teval-rmse:0.495063\n",
      "[32]\ttrain-rmse:0.450529\teval-rmse:0.494446\n",
      "[33]\ttrain-rmse:0.449119\teval-rmse:0.493691\n",
      "[34]\ttrain-rmse:0.447841\teval-rmse:0.493187\n",
      "[35]\ttrain-rmse:0.446642\teval-rmse:0.492605\n",
      "[36]\ttrain-rmse:0.44532\teval-rmse:0.492096\n",
      "[37]\ttrain-rmse:0.444275\teval-rmse:0.491707\n",
      "[38]\ttrain-rmse:0.443162\teval-rmse:0.491243\n",
      "[39]\ttrain-rmse:0.441884\teval-rmse:0.490757\n",
      "[40]\ttrain-rmse:0.440856\teval-rmse:0.490285\n",
      "[41]\ttrain-rmse:0.439823\teval-rmse:0.489907\n",
      "[42]\ttrain-rmse:0.438878\teval-rmse:0.489706\n",
      "[43]\ttrain-rmse:0.438007\teval-rmse:0.489568\n",
      "[44]\ttrain-rmse:0.437059\teval-rmse:0.489206\n",
      "[45]\ttrain-rmse:0.436257\teval-rmse:0.48891\n",
      "[46]\ttrain-rmse:0.4353\teval-rmse:0.488359\n",
      "[47]\ttrain-rmse:0.434382\teval-rmse:0.487942\n",
      "[48]\ttrain-rmse:0.433767\teval-rmse:0.487742\n",
      "[49]\ttrain-rmse:0.433059\teval-rmse:0.48753\n",
      "[50]\ttrain-rmse:0.432258\teval-rmse:0.48728\n",
      "[51]\ttrain-rmse:0.431447\teval-rmse:0.486881\n",
      "[52]\ttrain-rmse:0.430701\teval-rmse:0.486621\n",
      "[53]\ttrain-rmse:0.430091\teval-rmse:0.486515\n",
      "[54]\ttrain-rmse:0.429451\teval-rmse:0.486262\n",
      "[55]\ttrain-rmse:0.428771\teval-rmse:0.486042\n",
      "[56]\ttrain-rmse:0.428026\teval-rmse:0.485865\n",
      "[57]\ttrain-rmse:0.427422\teval-rmse:0.485744\n",
      "[58]\ttrain-rmse:0.426789\teval-rmse:0.485608\n",
      "[59]\ttrain-rmse:0.426055\teval-rmse:0.485486\n",
      "[60]\ttrain-rmse:0.425458\teval-rmse:0.485255\n",
      "[61]\ttrain-rmse:0.42483\teval-rmse:0.48502\n",
      "[62]\ttrain-rmse:0.424153\teval-rmse:0.484706\n",
      "[63]\ttrain-rmse:0.423452\teval-rmse:0.484597\n",
      "[64]\ttrain-rmse:0.423001\teval-rmse:0.484498\n",
      "[65]\ttrain-rmse:0.422281\teval-rmse:0.484286\n",
      "[66]\ttrain-rmse:0.421627\teval-rmse:0.48414\n",
      "[67]\ttrain-rmse:0.421162\teval-rmse:0.484051\n",
      "[68]\ttrain-rmse:0.42061\teval-rmse:0.483801\n",
      "[69]\ttrain-rmse:0.420023\teval-rmse:0.483575\n",
      "[70]\ttrain-rmse:0.419751\teval-rmse:0.483531\n",
      "[71]\ttrain-rmse:0.419008\teval-rmse:0.483474\n",
      "[72]\ttrain-rmse:0.418398\teval-rmse:0.483364\n",
      "[73]\ttrain-rmse:0.417847\teval-rmse:0.483314\n",
      "[74]\ttrain-rmse:0.417411\teval-rmse:0.483197\n",
      "[75]\ttrain-rmse:0.417096\teval-rmse:0.483208\n",
      "[76]\ttrain-rmse:0.416578\teval-rmse:0.483133\n",
      "[77]\ttrain-rmse:0.416177\teval-rmse:0.483003\n",
      "[78]\ttrain-rmse:0.415755\teval-rmse:0.482907\n",
      "[79]\ttrain-rmse:0.41525\teval-rmse:0.482849\n",
      "[80]\ttrain-rmse:0.414959\teval-rmse:0.482804\n",
      "[81]\ttrain-rmse:0.414461\teval-rmse:0.482768\n",
      "[82]\ttrain-rmse:0.413915\teval-rmse:0.482726\n",
      "[83]\ttrain-rmse:0.41342\teval-rmse:0.482516\n",
      "[84]\ttrain-rmse:0.41285\teval-rmse:0.482424\n",
      "[85]\ttrain-rmse:0.412329\teval-rmse:0.482421\n",
      "[86]\ttrain-rmse:0.411977\teval-rmse:0.482372\n",
      "[87]\ttrain-rmse:0.411377\teval-rmse:0.482285\n",
      "[88]\ttrain-rmse:0.411055\teval-rmse:0.48233\n",
      "[89]\ttrain-rmse:0.410502\teval-rmse:0.482264\n",
      "[90]\ttrain-rmse:0.410187\teval-rmse:0.482267\n",
      "[91]\ttrain-rmse:0.409765\teval-rmse:0.482221\n",
      "[92]\ttrain-rmse:0.409167\teval-rmse:0.48202\n",
      "[93]\ttrain-rmse:0.40882\teval-rmse:0.482024\n",
      "[94]\ttrain-rmse:0.40854\teval-rmse:0.481956\n",
      "[95]\ttrain-rmse:0.408094\teval-rmse:0.481709\n",
      "[96]\ttrain-rmse:0.407545\teval-rmse:0.481722\n",
      "[97]\ttrain-rmse:0.407143\teval-rmse:0.481691\n",
      "[98]\ttrain-rmse:0.406778\teval-rmse:0.481689\n",
      "[99]\ttrain-rmse:0.406335\teval-rmse:0.481593\n",
      "[100]\ttrain-rmse:0.406038\teval-rmse:0.48158\n",
      "[101]\ttrain-rmse:0.405854\teval-rmse:0.481541\n",
      "[102]\ttrain-rmse:0.405628\teval-rmse:0.481508\n",
      "[103]\ttrain-rmse:0.405135\teval-rmse:0.481386\n",
      "[104]\ttrain-rmse:0.404882\teval-rmse:0.481271\n",
      "[105]\ttrain-rmse:0.404702\teval-rmse:0.48125\n",
      "[106]\ttrain-rmse:0.404614\teval-rmse:0.481254\n",
      "[107]\ttrain-rmse:0.404278\teval-rmse:0.481177\n",
      "[108]\ttrain-rmse:0.404069\teval-rmse:0.481078\n",
      "[109]\ttrain-rmse:0.40389\teval-rmse:0.481083\n",
      "[110]\ttrain-rmse:0.403385\teval-rmse:0.481059\n",
      "[111]\ttrain-rmse:0.40316\teval-rmse:0.481075\n",
      "[112]\ttrain-rmse:0.402942\teval-rmse:0.481061\n",
      "[113]\ttrain-rmse:0.402586\teval-rmse:0.481061\n",
      "[114]\ttrain-rmse:0.402498\teval-rmse:0.481044\n",
      "[115]\ttrain-rmse:0.402374\teval-rmse:0.481034\n",
      "[116]\ttrain-rmse:0.402162\teval-rmse:0.481045\n",
      "[117]\ttrain-rmse:0.401745\teval-rmse:0.481015\n",
      "[118]\ttrain-rmse:0.401505\teval-rmse:0.481038\n",
      "[119]\ttrain-rmse:0.401267\teval-rmse:0.481021\n",
      "[120]\ttrain-rmse:0.400671\teval-rmse:0.480971\n",
      "[121]\ttrain-rmse:0.400392\teval-rmse:0.480949\n",
      "[122]\ttrain-rmse:0.400119\teval-rmse:0.481005\n",
      "[123]\ttrain-rmse:0.399875\teval-rmse:0.480921\n",
      "[124]\ttrain-rmse:0.399613\teval-rmse:0.480899\n",
      "[125]\ttrain-rmse:0.399494\teval-rmse:0.480899\n",
      "[126]\ttrain-rmse:0.399052\teval-rmse:0.480961\n",
      "[127]\ttrain-rmse:0.39883\teval-rmse:0.480941\n",
      "[128]\ttrain-rmse:0.398445\teval-rmse:0.480998\n",
      "[129]\ttrain-rmse:0.398197\teval-rmse:0.481063\n",
      "[130]\ttrain-rmse:0.398072\teval-rmse:0.481058\n",
      "[131]\ttrain-rmse:0.397882\teval-rmse:0.481114\n",
      "[132]\ttrain-rmse:0.397677\teval-rmse:0.481099\n",
      "[133]\ttrain-rmse:0.39743\teval-rmse:0.481126\n",
      "[134]\ttrain-rmse:0.397366\teval-rmse:0.481137\n",
      "[135]\ttrain-rmse:0.396994\teval-rmse:0.481029\n",
      "[136]\ttrain-rmse:0.396824\teval-rmse:0.48099\n",
      "[137]\ttrain-rmse:0.396488\teval-rmse:0.48101\n",
      "[138]\ttrain-rmse:0.396105\teval-rmse:0.480967\n",
      "[139]\ttrain-rmse:0.39604\teval-rmse:0.481018\n",
      "[140]\ttrain-rmse:0.395896\teval-rmse:0.481079\n",
      "[141]\ttrain-rmse:0.395586\teval-rmse:0.481068\n",
      "[142]\ttrain-rmse:0.395312\teval-rmse:0.481015\n",
      "[143]\ttrain-rmse:0.395134\teval-rmse:0.480959\n",
      "[144]\ttrain-rmse:0.394957\teval-rmse:0.480993\n",
      "[145]\ttrain-rmse:0.394825\teval-rmse:0.48099\n",
      "[146]\ttrain-rmse:0.394505\teval-rmse:0.480991\n",
      "[147]\ttrain-rmse:0.394192\teval-rmse:0.480994\n",
      "[148]\ttrain-rmse:0.393812\teval-rmse:0.480944\n",
      "[149]\ttrain-rmse:0.393565\teval-rmse:0.480985\n",
      "[150]\ttrain-rmse:0.393032\teval-rmse:0.480933\n",
      "[151]\ttrain-rmse:0.392702\teval-rmse:0.480791\n",
      "[152]\ttrain-rmse:0.392356\teval-rmse:0.480751\n",
      "[153]\ttrain-rmse:0.392163\teval-rmse:0.48082\n",
      "[154]\ttrain-rmse:0.391924\teval-rmse:0.480914\n",
      "[155]\ttrain-rmse:0.391726\teval-rmse:0.480889\n",
      "[156]\ttrain-rmse:0.391319\teval-rmse:0.480836\n",
      "[157]\ttrain-rmse:0.391209\teval-rmse:0.480854\n",
      "[158]\ttrain-rmse:0.390994\teval-rmse:0.480767\n",
      "[159]\ttrain-rmse:0.390561\teval-rmse:0.480746\n",
      "[160]\ttrain-rmse:0.390143\teval-rmse:0.480612\n",
      "[161]\ttrain-rmse:0.390042\teval-rmse:0.480603\n",
      "[162]\ttrain-rmse:0.389899\teval-rmse:0.48063\n",
      "[163]\ttrain-rmse:0.389793\teval-rmse:0.480628\n",
      "[164]\ttrain-rmse:0.389487\teval-rmse:0.480607\n",
      "[165]\ttrain-rmse:0.389324\teval-rmse:0.480561\n",
      "[166]\ttrain-rmse:0.389062\teval-rmse:0.480558\n",
      "[167]\ttrain-rmse:0.388863\teval-rmse:0.480572\n",
      "[168]\ttrain-rmse:0.388667\teval-rmse:0.480637\n",
      "[169]\ttrain-rmse:0.388494\teval-rmse:0.480621\n",
      "[170]\ttrain-rmse:0.38803\teval-rmse:0.48059\n",
      "[171]\ttrain-rmse:0.387767\teval-rmse:0.480503\n",
      "[172]\ttrain-rmse:0.387672\teval-rmse:0.480554\n",
      "[173]\ttrain-rmse:0.387423\teval-rmse:0.480503\n",
      "[174]\ttrain-rmse:0.387244\teval-rmse:0.48047\n",
      "[175]\ttrain-rmse:0.387037\teval-rmse:0.480416\n",
      "[176]\ttrain-rmse:0.386849\teval-rmse:0.480447\n",
      "[177]\ttrain-rmse:0.386705\teval-rmse:0.480471\n",
      "[178]\ttrain-rmse:0.386497\teval-rmse:0.480511\n",
      "[179]\ttrain-rmse:0.386254\teval-rmse:0.480528\n",
      "[180]\ttrain-rmse:0.38613\teval-rmse:0.480547\n",
      "[181]\ttrain-rmse:0.38596\teval-rmse:0.480532\n",
      "[182]\ttrain-rmse:0.385724\teval-rmse:0.480545\n",
      "[183]\ttrain-rmse:0.385465\teval-rmse:0.480566\n",
      "[184]\ttrain-rmse:0.385232\teval-rmse:0.48064\n",
      "[185]\ttrain-rmse:0.384795\teval-rmse:0.48071\n",
      "[186]\ttrain-rmse:0.384513\teval-rmse:0.480702\n",
      "[187]\ttrain-rmse:0.384368\teval-rmse:0.480716\n",
      "[188]\ttrain-rmse:0.384279\teval-rmse:0.480771\n",
      "[189]\ttrain-rmse:0.384104\teval-rmse:0.480799\n",
      "[190]\ttrain-rmse:0.383829\teval-rmse:0.480659\n",
      "[191]\ttrain-rmse:0.383507\teval-rmse:0.480657\n",
      "[192]\ttrain-rmse:0.383252\teval-rmse:0.480682\n",
      "[193]\ttrain-rmse:0.38309\teval-rmse:0.480695\n",
      "[194]\ttrain-rmse:0.382799\teval-rmse:0.480613\n",
      "[195]\ttrain-rmse:0.382605\teval-rmse:0.480583\n",
      "[196]\ttrain-rmse:0.38228\teval-rmse:0.480598\n",
      "[197]\ttrain-rmse:0.382196\teval-rmse:0.480646\n",
      "[198]\ttrain-rmse:0.382031\teval-rmse:0.480668\n",
      "[199]\ttrain-rmse:0.381956\teval-rmse:0.480693\n",
      "[200]\ttrain-rmse:0.381719\teval-rmse:0.480743\n",
      "[201]\ttrain-rmse:0.38157\teval-rmse:0.4807\n",
      "[202]\ttrain-rmse:0.381336\teval-rmse:0.480661\n",
      "[203]\ttrain-rmse:0.381012\teval-rmse:0.480651\n",
      "[204]\ttrain-rmse:0.380719\teval-rmse:0.480681\n",
      "[205]\ttrain-rmse:0.380594\teval-rmse:0.480629\n",
      "[206]\ttrain-rmse:0.380538\teval-rmse:0.480627\n",
      "[207]\ttrain-rmse:0.380435\teval-rmse:0.480645\n",
      "[208]\ttrain-rmse:0.379979\teval-rmse:0.480563\n",
      "[209]\ttrain-rmse:0.379742\teval-rmse:0.480496\n",
      "[210]\ttrain-rmse:0.37962\teval-rmse:0.480572\n",
      "[211]\ttrain-rmse:0.379327\teval-rmse:0.480535\n",
      "[212]\ttrain-rmse:0.379221\teval-rmse:0.480539\n",
      "[213]\ttrain-rmse:0.379135\teval-rmse:0.480548\n",
      "[214]\ttrain-rmse:0.378891\teval-rmse:0.480508\n",
      "[215]\ttrain-rmse:0.37876\teval-rmse:0.480526\n",
      "[216]\ttrain-rmse:0.37854\teval-rmse:0.48056\n",
      "[217]\ttrain-rmse:0.378152\teval-rmse:0.480578\n",
      "[218]\ttrain-rmse:0.377785\teval-rmse:0.480587\n",
      "[219]\ttrain-rmse:0.377529\teval-rmse:0.480572\n",
      "[220]\ttrain-rmse:0.377179\teval-rmse:0.480567\n",
      "[221]\ttrain-rmse:0.37711\teval-rmse:0.480568\n",
      "[222]\ttrain-rmse:0.376787\teval-rmse:0.480637\n",
      "[223]\ttrain-rmse:0.376703\teval-rmse:0.480616\n",
      "[224]\ttrain-rmse:0.376532\teval-rmse:0.48059\n",
      "[225]\ttrain-rmse:0.376198\teval-rmse:0.480579\n",
      "Stopping. Best iteration:\n",
      "[175]\ttrain-rmse:0.387037\teval-rmse:0.480416\n",
      "\n"
     ]
    }
   ],
   "source": [
    "# tuning parameters\n",
    "params1 = {\n",
    "    'objective': 'reg:linear',\n",
    "    'booster': 'gbtree', \n",
    "    'eval_metric': 'rmse',\n",
    "    'eta': 0.05, #0.005\n",
    "    'subsample': 1, ##0.1\n",
    "    'colsample_bytree': 0.7, ## 0.8\n",
    "    'max_depth': 5,\n",
    "    'reg_alpha' : 0.007,\n",
    "    'reg_lambda' : 0.0,\n",
    "    'base_score': ave_y,\n",
    "    'silent': 1,  ##0\n",
    "    'seed': 12345,\n",
    "}\n",
    "\n",
    "# watchlist is used for early stopping\n",
    "watchlist = [(dtrain1, 'train'), (dvalid1, 'eval')]\n",
    "\n",
    "# train model\n",
    "xgb_model1 = xgb.train(params1, \n",
    "                       dtrain1, \n",
    "                       1000,  #10000\n",
    "                       evals=watchlist, \n",
    "                       early_stopping_rounds=50,   ###\n",
    "                       verbose_eval=True)\n",
    "\n",
    "num_boost_round = xgb_model1.best_iteration\n",
    "\n",
    "# create assessment stats and submission file\n",
    "#xgb_preds1_val = h2o.H2OFrame(xgb_model1.predict(dvalid1).tolist())\n",
    "#ranked_preds_plot('price_log', valid, xgb_preds1_val) \n",
    "#xgb_preds1_test = h2o.H2OFrame(xgb_model1.predict(dtest).tolist())\n",
    "#gen_submission(xgb_preds1_test) \n"
   ]
  },
  {
   "cell_type": "code",
   "execution_count": null,
   "metadata": {
    "collapsed": true
   },
   "outputs": [],
   "source": [
    "#[820]\ttrain-rmse:0.437213\n",
    "\n",
    "#0.37414 \n",
    "#0.33206 public leaderborad"
   ]
  },
  {
   "cell_type": "code",
   "execution_count": 40,
   "metadata": {
    "collapsed": false
   },
   "outputs": [
    {
     "data": {
      "text/html": [
       "<table>\n",
       "<thead>\n",
       "<tr><th style=\"text-align: right;\">   id</th><th style=\"text-align: right;\">  price_doc</th></tr>\n",
       "</thead>\n",
       "<tbody>\n",
       "<tr><td style=\"text-align: right;\">30474</td><td style=\"text-align: right;\">5.76763e+06</td></tr>\n",
       "<tr><td style=\"text-align: right;\">30475</td><td style=\"text-align: right;\">7.53196e+06</td></tr>\n",
       "<tr><td style=\"text-align: right;\">30476</td><td style=\"text-align: right;\">5.24025e+06</td></tr>\n",
       "<tr><td style=\"text-align: right;\">30477</td><td style=\"text-align: right;\">5.58228e+06</td></tr>\n",
       "<tr><td style=\"text-align: right;\">30478</td><td style=\"text-align: right;\">5.33133e+06</td></tr>\n",
       "<tr><td style=\"text-align: right;\">30479</td><td style=\"text-align: right;\">8.25972e+06</td></tr>\n",
       "<tr><td style=\"text-align: right;\">30480</td><td style=\"text-align: right;\">4.73497e+06</td></tr>\n",
       "<tr><td style=\"text-align: right;\">30481</td><td style=\"text-align: right;\">4.42068e+06</td></tr>\n",
       "<tr><td style=\"text-align: right;\">30482</td><td style=\"text-align: right;\">4.56821e+06</td></tr>\n",
       "<tr><td style=\"text-align: right;\">30483</td><td style=\"text-align: right;\">4.90335e+06</td></tr>\n",
       "</tbody>\n",
       "</table>"
      ]
     },
     "metadata": {},
     "output_type": "display_data"
    },
    {
     "data": {
      "text/plain": []
     },
     "execution_count": 40,
     "metadata": {},
     "output_type": "execute_result"
    }
   ],
   "source": [
    "\n",
    "xgb_preds1_val = h2o.H2OFrame(xgb_model1.predict(dvalid1).tolist())\n",
    "ranked_preds_plot('SalePrice', valid, xgb_preds1_val) \n",
    "xgb_preds1_test = h2o.H2OFrame(xgb_model1.predict(dtest).tolist())\n",
    "gen_submission(xgb_preds1_test)\n"
   ]
  },
  {
   "cell_type": "markdown",
   "metadata": {
    "collapsed": true
   },
   "source": [
    "### H2O Random forest model"
   ]
  },
  {
   "cell_type": "code",
   "execution_count": null,
   "metadata": {
    "collapsed": false
   },
   "outputs": [],
   "source": [
    "# initialize rf model\n",
    "rf_model1 = H2ORandomForestEstimator(\n",
    "    ntrees=10000,                    \n",
    "    max_depth=10, \n",
    "    col_sample_rate_per_tree=0.1,\n",
    "    sample_rate=0.8,\n",
    "    stopping_rounds=50,\n",
    "    score_each_iteration=True,\n",
    "    nfolds=3,\n",
    "    keep_cross_validation_predictions=True,\n",
    "    model_id = 'rf_model',\n",
    "    seed=12345)           \n",
    "\n",
    "# train rf model\n",
    "rf_model1.train(\n",
    "    x=encoded_combined_nums,\n",
    "    y='price_doc',\n",
    "    training_frame=train,\n",
    "    validation_frame=valid)\n",
    "\n",
    "# print model information\n",
    "print(rf_model1)\n",
    "\n",
    "#rf_preds1_val = rf_model1.predict(valid)\n",
    "#ranked_preds_plot('price_doc', valid, rf_preds1_val) # valid RMSE not so hot ...\n",
    "#rf_preds1_test = rf_model1.predict(test)\n",
    "#gen_submission(rf_preds1_test) \n",
    "\n",
    "#Training RMSE: 0.4592090940116257"
   ]
  },
  {
   "cell_type": "code",
   "execution_count": null,
   "metadata": {
    "collapsed": false
   },
   "outputs": [],
   "source": [
    "# save the model\n",
    "model_path = h2o.save_model(model=rf_model1, path=\"/Users/zwang/GWU/Kaggle/Housing_Mkt/mymodel\", force=True)"
   ]
  },
  {
   "cell_type": "code",
   "execution_count": null,
   "metadata": {
    "collapsed": false
   },
   "outputs": [],
   "source": [
    "rf_preds1_val = rf_model1.predict(valid)\n",
    "ranked_preds_plot('price_doc', valid, rf_preds1_val) # valid RMSE not so hot ...\n",
    "rf_preds1_test = rf_model1.predict(test)"
   ]
  },
  {
   "cell_type": "code",
   "execution_count": null,
   "metadata": {
    "collapsed": false
   },
   "outputs": [],
   "source": [
    "rf_preds1_val = rf_model1.predict(valid)\n",
    "ranked_preds_plot('price_doc', valid, rf_preds1_val) # valid RMSE not so hot ...\n",
    "rf_preds1_test = rf_model1.predict(test)\n",
    "gen_submission(rf_preds1_test) \n",
    "#  public leaderboard"
   ]
  },
  {
   "cell_type": "markdown",
   "metadata": {
    "collapsed": true
   },
   "source": [
    "### H2O Extremely random trees model"
   ]
  },
  {
   "cell_type": "code",
   "execution_count": null,
   "metadata": {
    "collapsed": false,
    "scrolled": true
   },
   "outputs": [],
   "source": [
    "# initialize extra trees model\n",
    "ert_model1 = H2ORandomForestEstimator(\n",
    "    ntrees=10000,                    \n",
    "    max_depth=10, \n",
    "    col_sample_rate_per_tree=0.1,\n",
    "    sample_rate=0.8,\n",
    "    stopping_rounds=50,\n",
    "    score_each_iteration=True,\n",
    "    nfolds=3,\n",
    "    keep_cross_validation_predictions=True,\n",
    "    seed=12345,\n",
    "    model_id='ert_model',\n",
    "    histogram_type='random') # <- this is what makes it ERT instead of RF\n",
    "\n",
    "# train ert model\n",
    "ert_model1.train(\n",
    "    x=encoded_combined_nums,\n",
    "    y='price_doc',\n",
    "    training_frame=train,\n",
    "    validation_frame=valid)\n",
    "\n",
    "# print model information/create submission\n",
    "print(ert_model1)\n",
    "\n",
    "#Training RMSE: 0.4595724410094952"
   ]
  },
  {
   "cell_type": "code",
   "execution_count": null,
   "metadata": {
    "collapsed": true
   },
   "outputs": [],
   "source": [
    "# save the model\n",
    "model_path = h2o.save_model(model=ert_model1, path=\"/Users/zwang/GWU/Kaggle/Housing_Mkt/mymodel\", force=True)"
   ]
  },
  {
   "cell_type": "code",
   "execution_count": null,
   "metadata": {
    "collapsed": true
   },
   "outputs": [],
   "source": []
  },
  {
   "cell_type": "code",
   "execution_count": null,
   "metadata": {
    "collapsed": false
   },
   "outputs": [],
   "source": [
    "ert_preds1_val = ert_model1.predict(valid)\n",
    "ranked_preds_plot('price_doc', valid, ert_preds1_val) # valid RMSE not so hot ...\n",
    "ert_preds1_test = ert_model1.predict(test)\n",
    "gen_submission(ert_preds1_test) \n",
    "\n",
    "#  public leaderboard"
   ]
  },
  {
   "cell_type": "markdown",
   "metadata": {},
   "source": [
    "### H2O GBM model"
   ]
  },
  {
   "cell_type": "code",
   "execution_count": null,
   "metadata": {
    "collapsed": false
   },
   "outputs": [],
   "source": [
    "# initialize H2O GBM\n",
    "h2o_gbm_model = H2OGradientBoostingEstimator(\n",
    "    ntrees = 10000,\n",
    "    learn_rate = 0.005,\n",
    "    sample_rate = 0.1, \n",
    "    col_sample_rate = 0.8,\n",
    "    max_depth = 5,\n",
    "    nfolds = 3,\n",
    "    keep_cross_validation_predictions=True,\n",
    "    stopping_rounds = 10,\n",
    "    model_id='gbm_model',\n",
    "    seed = 12345)\n",
    "\n",
    "# execute training\n",
    "h2o_gbm_model.train(x=encoded_combined_nums,\n",
    "                    y='price_doc',\n",
    "                    training_frame=train,\n",
    "                    validation_frame=valid)\n",
    "\n",
    "# print model information/create submission\n",
    "print(h2o_gbm_model)\n",
    "\n",
    "#Training RMSE: 0.4294278354558745"
   ]
  },
  {
   "cell_type": "code",
   "execution_count": null,
   "metadata": {
    "collapsed": true
   },
   "outputs": [],
   "source": [
    "# save the model\n",
    "model_path = h2o.save_model(model=h2o_gbm_model, path=\"/Users/zwang/GWU/Kaggle/Housing_Mkt/mymodel\", force=True)"
   ]
  },
  {
   "cell_type": "code",
   "execution_count": null,
   "metadata": {
    "collapsed": false,
    "scrolled": true
   },
   "outputs": [],
   "source": [
    "h2o_gbm_preds1_val = h2o_gbm_model.predict(valid)\n",
    "ranked_preds_plot('price_doc', valid, h2o_gbm_preds1_val) # better validation error\n",
    "h2o_gbm_preds1_test = h2o_gbm_model.predict(test)\n",
    "gen_submission(h2o_gbm_preds1_test) \n",
    "\n",
    "#  public leaderboard"
   ]
  },
  {
   "cell_type": "markdown",
   "metadata": {},
   "source": [
    "### H2O XGBoost"
   ]
  },
  {
   "cell_type": "code",
   "execution_count": 38,
   "metadata": {
    "collapsed": false
   },
   "outputs": [
    {
     "name": "stdout",
     "output_type": "stream",
     "text": [
      "Model Details\n",
      "=============\n",
      "H2OXGBoostEstimator :  XGBoost\n",
      "Model Key:  xgb_model\n",
      "\n",
      "\n",
      "ModelMetricsRegression: xgboost\n",
      "** Reported on train data. **\n",
      "\n",
      "MSE: 0.17089050216885737\n",
      "RMSE: 0.4133890445680163\n",
      "MAE: 0.25614880864195744\n",
      "RMSLE: 0.02581482042404049\n",
      "Mean Residual Deviance: 0.17089050216885737\n",
      "\n",
      "ModelMetricsRegression: xgboost\n",
      "** Reported on validation data. **\n",
      "\n",
      "MSE: 0.22939851045798793\n",
      "RMSE: 0.47895564560613324\n",
      "MAE: 0.2914141784699877\n",
      "RMSLE: 0.029906534125360006\n",
      "Mean Residual Deviance: 0.22939851045798793\n",
      "\n",
      "ModelMetricsRegression: xgboost\n",
      "** Reported on cross-validation data. **\n",
      "\n",
      "MSE: 0.20829181730105992\n",
      "RMSE: 0.45638998378695816\n",
      "MAE: 0.2773486070118134\n",
      "RMSLE: 0.028397290342500443\n",
      "Mean Residual Deviance: 0.20829181730105992\n",
      "Cross-Validation Metrics Summary: \n"
     ]
    },
    {
     "data": {
      "text/html": [
       "<div style=\"overflow:auto\"><table style=\"width:50%\"><tr><td><b></b></td>\n",
       "<td><b>mean</b></td>\n",
       "<td><b>sd</b></td>\n",
       "<td><b>cv_1_valid</b></td>\n",
       "<td><b>cv_2_valid</b></td>\n",
       "<td><b>cv_3_valid</b></td></tr>\n",
       "<tr><td>mae</td>\n",
       "<td>0.2773493</td>\n",
       "<td>0.0026555</td>\n",
       "<td>0.2734894</td>\n",
       "<td>0.2824384</td>\n",
       "<td>0.2761201</td></tr>\n",
       "<tr><td>mean_residual_deviance</td>\n",
       "<td>0.2082962</td>\n",
       "<td>0.0048022</td>\n",
       "<td>0.2006743</td>\n",
       "<td>0.2171681</td>\n",
       "<td>0.2070461</td></tr>\n",
       "<tr><td>mse</td>\n",
       "<td>0.2082962</td>\n",
       "<td>0.0048022</td>\n",
       "<td>0.2006743</td>\n",
       "<td>0.2171681</td>\n",
       "<td>0.2070461</td></tr>\n",
       "<tr><td>r2</td>\n",
       "<td>0.4235186</td>\n",
       "<td>0.0089838</td>\n",
       "<td>0.4414614</td>\n",
       "<td>0.4153653</td>\n",
       "<td>0.4137292</td></tr>\n",
       "<tr><td>residual_deviance</td>\n",
       "<td>0.2082962</td>\n",
       "<td>0.0048022</td>\n",
       "<td>0.2006743</td>\n",
       "<td>0.2171681</td>\n",
       "<td>0.2070461</td></tr>\n",
       "<tr><td>rmse</td>\n",
       "<td>0.4563343</td>\n",
       "<td>0.0052506</td>\n",
       "<td>0.4479668</td>\n",
       "<td>0.4660129</td>\n",
       "<td>0.4550232</td></tr>\n",
       "<tr><td>rmsle</td>\n",
       "<td>0.0283935</td>\n",
       "<td>0.0003396</td>\n",
       "<td>0.0278574</td>\n",
       "<td>0.0290229</td>\n",
       "<td>0.0283002</td></tr></table></div>"
      ],
      "text/plain": [
       "                        mean       sd           cv_1_valid    cv_2_valid    cv_3_valid\n",
       "----------------------  ---------  -----------  ------------  ------------  ------------\n",
       "mae                     0.277349   0.00265546   0.273489      0.282438      0.27612\n",
       "mean_residual_deviance  0.208296   0.0048022    0.200674      0.217168      0.207046\n",
       "mse                     0.208296   0.0048022    0.200674      0.217168      0.207046\n",
       "r2                      0.423519   0.00898383   0.441461      0.415365      0.413729\n",
       "residual_deviance       0.208296   0.0048022    0.200674      0.217168      0.207046\n",
       "rmse                    0.456334   0.00525055   0.447967      0.466013      0.455023\n",
       "rmsle                   0.0283935  0.000339648  0.0278574     0.0290229     0.0283002"
      ]
     },
     "metadata": {},
     "output_type": "display_data"
    },
    {
     "name": "stdout",
     "output_type": "stream",
     "text": [
      "Scoring History: \n"
     ]
    },
    {
     "data": {
      "text/html": [
       "<div style=\"overflow:auto\"><table style=\"width:50%\"><tr><td><b></b></td>\n",
       "<td><b>timestamp</b></td>\n",
       "<td><b>duration</b></td>\n",
       "<td><b>number_of_trees</b></td>\n",
       "<td><b>training_rmse</b></td>\n",
       "<td><b>training_mae</b></td>\n",
       "<td><b>training_deviance</b></td>\n",
       "<td><b>validation_rmse</b></td>\n",
       "<td><b>validation_mae</b></td>\n",
       "<td><b>validation_deviance</b></td></tr>\n",
       "<tr><td></td>\n",
       "<td>2017-06-21 11:02:36</td>\n",
       "<td> 2:02:43.986</td>\n",
       "<td>0.0</td>\n",
       "<td>15.1245910</td>\n",
       "<td>15.1126412</td>\n",
       "<td>228.7532544</td>\n",
       "<td>15.1147002</td>\n",
       "<td>15.1022868</td>\n",
       "<td>228.4541615</td></tr>\n",
       "<tr><td></td>\n",
       "<td>2017-06-21 11:02:53</td>\n",
       "<td> 2:03:01.039</td>\n",
       "<td>1.0</td>\n",
       "<td>15.0490651</td>\n",
       "<td>15.0370898</td>\n",
       "<td>226.4743618</td>\n",
       "<td>15.0391592</td>\n",
       "<td>15.0267166</td>\n",
       "<td>226.1763092</td></tr>\n",
       "<tr><td></td>\n",
       "<td>2017-06-21 11:03:00</td>\n",
       "<td> 2:03:07.221</td>\n",
       "<td>4.0</td>\n",
       "<td>14.8247340</td>\n",
       "<td>14.8126634</td>\n",
       "<td>219.7727380</td>\n",
       "<td>14.8148224</td>\n",
       "<td>14.8022743</td>\n",
       "<td>219.4789617</td></tr>\n",
       "<tr><td></td>\n",
       "<td>2017-06-21 11:03:04</td>\n",
       "<td> 2:03:11.602</td>\n",
       "<td>6.0</td>\n",
       "<td>14.6770792</td>\n",
       "<td>14.6649538</td>\n",
       "<td>215.4166530</td>\n",
       "<td>14.6671594</td>\n",
       "<td>14.6545491</td>\n",
       "<td>215.1255648</td></tr>\n",
       "<tr><td></td>\n",
       "<td>2017-06-21 11:03:09</td>\n",
       "<td> 2:03:17.009</td>\n",
       "<td>8.0</td>\n",
       "<td>14.5308968</td>\n",
       "<td>14.5187138</td>\n",
       "<td>211.1469616</td>\n",
       "<td>14.5210009</td>\n",
       "<td>14.5083250</td>\n",
       "<td>210.8594659</td></tr>\n",
       "<tr><td>---</td>\n",
       "<td>---</td>\n",
       "<td>---</td>\n",
       "<td>---</td>\n",
       "<td>---</td>\n",
       "<td>---</td>\n",
       "<td>---</td>\n",
       "<td>---</td>\n",
       "<td>---</td>\n",
       "<td>---</td></tr>\n",
       "<tr><td></td>\n",
       "<td>2017-06-21 12:23:35</td>\n",
       "<td> 3:23:42.255</td>\n",
       "<td>1310.0</td>\n",
       "<td>0.4138591</td>\n",
       "<td>0.2570026</td>\n",
       "<td>0.1712793</td>\n",
       "<td>0.4790063</td>\n",
       "<td>0.2920327</td>\n",
       "<td>0.2294470</td></tr>\n",
       "<tr><td></td>\n",
       "<td>2017-06-21 12:23:46</td>\n",
       "<td> 3:23:53.856</td>\n",
       "<td>1313.0</td>\n",
       "<td>0.4137103</td>\n",
       "<td>0.2567616</td>\n",
       "<td>0.1711562</td>\n",
       "<td>0.4789948</td>\n",
       "<td>0.2918738</td>\n",
       "<td>0.2294360</td></tr>\n",
       "<tr><td></td>\n",
       "<td>2017-06-21 12:23:58</td>\n",
       "<td> 3:24:05.434</td>\n",
       "<td>1316.0</td>\n",
       "<td>0.4135830</td>\n",
       "<td>0.2565244</td>\n",
       "<td>0.1710509</td>\n",
       "<td>0.4789762</td>\n",
       "<td>0.2916902</td>\n",
       "<td>0.2294182</td></tr>\n",
       "<tr><td></td>\n",
       "<td>2017-06-21 12:24:09</td>\n",
       "<td> 3:24:16.834</td>\n",
       "<td>1319.0</td>\n",
       "<td>0.4134743</td>\n",
       "<td>0.2563246</td>\n",
       "<td>0.1709610</td>\n",
       "<td>0.4789672</td>\n",
       "<td>0.2915441</td>\n",
       "<td>0.2294096</td></tr>\n",
       "<tr><td></td>\n",
       "<td>2017-06-21 12:24:22</td>\n",
       "<td> 3:24:29.639</td>\n",
       "<td>1322.0</td>\n",
       "<td>0.4133890</td>\n",
       "<td>0.2561488</td>\n",
       "<td>0.1708905</td>\n",
       "<td>0.4789556</td>\n",
       "<td>0.2914142</td>\n",
       "<td>0.2293985</td></tr></table></div>"
      ],
      "text/plain": [
       "     timestamp            duration     number_of_trees    training_rmse        training_mae         training_deviance    validation_rmse      validation_mae      validation_deviance\n",
       "---  -------------------  -----------  -----------------  -------------------  -------------------  -------------------  -------------------  ------------------  ---------------------\n",
       "     2017-06-21 11:02:36  2:02:43.986  0.0                15.124591047517928   15.112641215960096   228.75325435465948   15.11470017858498    15.102286794126336  228.45416148851683\n",
       "     2017-06-21 11:02:53  2:03:01.039  1.0                15.049065146951024   15.03708980529901    226.47436179717607   15.039159191214353   15.026716586837889  226.17630917868712\n",
       "     2017-06-21 11:03:00  2:03:07.221  4.0                14.824733994739958   14.812663434304918   219.77273801479853   14.814822365272928   14.802274345124893  219.47896171459092\n",
       "     2017-06-21 11:03:04  2:03:11.602  6.0                14.677079171342642   14.664953760756045   215.41665300186003   14.667159396650076   14.654549080062589  215.12556476674064\n",
       "     2017-06-21 11:03:09  2:03:17.009  8.0                14.530896792818602   14.518713833624615   211.14696160354592   14.521000856055581   14.508324990208497  210.85946586156692\n",
       "---  ---                  ---          ---                ---                  ---                  ---                  ---                  ---                 ---\n",
       "     2017-06-21 12:23:35  3:23:42.255  1310.0             0.4138590511401847   0.2570026349793851   0.171279314210654    0.479006306383945    0.2920327455284258  0.22944704155558976\n",
       "     2017-06-21 12:23:46  3:23:53.856  1313.0             0.41371033348187086  0.25676161937979497  0.1711562400296808   0.47899482794257137  0.2918738321719546  0.22943604519573355\n",
       "     2017-06-21 12:23:58  3:24:05.434  1316.0             0.4135829540007842   0.2565244202172637   0.17105085984001478  0.47897615678954847  0.29169016915115    0.22941815877288613\n",
       "     2017-06-21 12:24:09  3:24:16.834  1319.0             0.4134743318168011   0.25632462393123384  0.17096102307135014  0.4789672224907354   0.2915441084611319  0.22940960022048967\n",
       "     2017-06-21 12:24:22  3:24:29.639  1322.0             0.4133890445680163   0.25614880864195744  0.17089050216885737  0.47895564560613324  0.2914141784699877  0.22939851045798793"
      ]
     },
     "metadata": {},
     "output_type": "display_data"
    },
    {
     "name": "stdout",
     "output_type": "stream",
     "text": [
      "\n",
      "See the whole table with table.as_data_frame()\n",
      "Variable Importances: \n"
     ]
    },
    {
     "data": {
      "text/html": [
       "<div style=\"overflow:auto\"><table style=\"width:50%\"><tr><td><b>variable</b></td>\n",
       "<td><b>relative_importance</b></td>\n",
       "<td><b>scaled_importance</b></td>\n",
       "<td><b>percentage</b></td></tr>\n",
       "<tr><td>full_sq|sub_area_Tencode</td>\n",
       "<td>1001.0</td>\n",
       "<td>1.0</td>\n",
       "<td>0.0461163</td></tr>\n",
       "<tr><td>timestamp</td>\n",
       "<td>532.0</td>\n",
       "<td>0.5314685</td>\n",
       "<td>0.0245094</td></tr>\n",
       "<tr><td>full_sq|timestamp</td>\n",
       "<td>238.0</td>\n",
       "<td>0.2377622</td>\n",
       "<td>0.0109647</td></tr>\n",
       "<tr><td>state</td>\n",
       "<td>195.0</td>\n",
       "<td>0.1948052</td>\n",
       "<td>0.0089837</td></tr>\n",
       "<tr><td>num_room|timestamp</td>\n",
       "<td>162.0</td>\n",
       "<td>0.1618382</td>\n",
       "<td>0.0074634</td></tr>\n",
       "<tr><td>---</td>\n",
       "<td>---</td>\n",
       "<td>---</td>\n",
       "<td>---</td></tr>\n",
       "<tr><td>mosque_count_500</td>\n",
       "<td>1.0</td>\n",
       "<td>0.0009990</td>\n",
       "<td>0.0000461</td></tr>\n",
       "<tr><td>cafe_count_3000_price_1000|cafe_count_1500</td>\n",
       "<td>1.0</td>\n",
       "<td>0.0009990</td>\n",
       "<td>0.0000461</td></tr>\n",
       "<tr><td>cafe_count_5000_price_2500|cafe_sum_5000_min_price_avg</td>\n",
       "<td>1.0</td>\n",
       "<td>0.0009990</td>\n",
       "<td>0.0000461</td></tr>\n",
       "<tr><td>year|office_count_3000</td>\n",
       "<td>1.0</td>\n",
       "<td>0.0009990</td>\n",
       "<td>0.0000461</td></tr>\n",
       "<tr><td>ID_railroad_terminal</td>\n",
       "<td>1.0</td>\n",
       "<td>0.0009990</td>\n",
       "<td>0.0000461</td></tr></table></div>"
      ],
      "text/plain": [
       "variable                                                relative_importance    scaled_importance     percentage\n",
       "------------------------------------------------------  ---------------------  --------------------  ---------------------\n",
       "full_sq|sub_area_Tencode                                1001.0                 1.0                   0.04611628121256795\n",
       "timestamp                                               532.0                  0.5314685314685315    0.02450935225283332\n",
       "full_sq|timestamp                                       238.0                  0.23776223776223776   0.0109647102183728\n",
       "state                                                   195.0                  0.19480519480519481   0.008983691145305445\n",
       "num_room|timestamp                                      162.0                  0.16183816183816183   0.007463374182253755\n",
       "---                                                     ---                    ---                   ---\n",
       "mosque_count_500                                        1.0                    0.000999000999000999  4.607021100156639e-05\n",
       "cafe_count_3000_price_1000|cafe_count_1500              1.0                    0.000999000999000999  4.607021100156639e-05\n",
       "cafe_count_5000_price_2500|cafe_sum_5000_min_price_avg  1.0                    0.000999000999000999  4.607021100156639e-05\n",
       "year|office_count_3000                                  1.0                    0.000999000999000999  4.607021100156639e-05\n",
       "ID_railroad_terminal                                    1.0                    0.000999000999000999  4.607021100156639e-05"
      ]
     },
     "metadata": {},
     "output_type": "display_data"
    },
    {
     "name": "stdout",
     "output_type": "stream",
     "text": [
      "\n",
      "See the whole table with table.as_data_frame()\n",
      "\n"
     ]
    }
   ],
   "source": [
    "# initialize XGB GBM\n",
    "h2o_xgb_model = H2OXGBoostEstimator(\n",
    "    ntrees = 10000,\n",
    "    learn_rate = 0.005,\n",
    "    sample_rate = 0.7, \n",
    "    col_sample_rate = 0.8,\n",
    "    max_depth = 5,\n",
    "    nfolds = 3,\n",
    "    keep_cross_validation_predictions=True,\n",
    "    stopping_rounds = 10,\n",
    "    model_id='xgb_model',\n",
    "    seed = 12345)\n",
    "\n",
    "# execute training \n",
    "h2o_xgb_model.train(x=encoded_combined_nums,\n",
    "                    y='price_doc',\n",
    "                    training_frame=train,\n",
    "                    validation_frame=valid)\n",
    "\n",
    "# print model information/create submission\n",
    "print(h2o_xgb_model)\n",
    "\n",
    "#Training RMSE: 0.42416106883643906  sample_rate = 0.1\n",
    "# RMSE: 0.4133154479408961 sample_rate = 0.7"
   ]
  },
  {
   "cell_type": "code",
   "execution_count": 39,
   "metadata": {
    "collapsed": false
   },
   "outputs": [
    {
     "data": {
      "text/html": [
       "<table>\n",
       "<thead>\n",
       "<tr><th style=\"text-align: right;\">  price_doc</th><th style=\"text-align: right;\">  predict</th></tr>\n",
       "</thead>\n",
       "<tbody>\n",
       "<tr><td style=\"text-align: right;\">    16.3881</td><td style=\"text-align: right;\">  15.8527</td></tr>\n",
       "<tr><td style=\"text-align: right;\">    14.5087</td><td style=\"text-align: right;\">  15.4019</td></tr>\n",
       "<tr><td style=\"text-align: right;\">    14.5087</td><td style=\"text-align: right;\">  15.2663</td></tr>\n",
       "<tr><td style=\"text-align: right;\">    14.4307</td><td style=\"text-align: right;\">  15.488 </td></tr>\n",
       "<tr><td style=\"text-align: right;\">    15.6561</td><td style=\"text-align: right;\">  15.2926</td></tr>\n",
       "<tr><td style=\"text-align: right;\">    15.8824</td><td style=\"text-align: right;\">  15.3378</td></tr>\n",
       "<tr><td style=\"text-align: right;\">    15.4642</td><td style=\"text-align: right;\">  15.253 </td></tr>\n",
       "<tr><td style=\"text-align: right;\">    15.5905</td><td style=\"text-align: right;\">  15.1   </td></tr>\n",
       "<tr><td style=\"text-align: right;\">    16.7224</td><td style=\"text-align: right;\">  15.9562</td></tr>\n",
       "<tr><td style=\"text-align: right;\">    15.556 </td><td style=\"text-align: right;\">  15.276 </td></tr>\n",
       "</tbody>\n",
       "</table>"
      ]
     },
     "metadata": {},
     "output_type": "display_data"
    },
    {
     "name": "stdout",
     "output_type": "stream",
     "text": [
      "\n"
     ]
    },
    {
     "data": {
      "image/png": "[encoded data removed]",
      "text/plain": [
       "<matplotlib.figure.Figure at 0x1113fd9b0>"
      ]
     },
     "metadata": {},
     "output_type": "display_data"
    }
   ],
   "source": [
    "h2o_xgb_preds1_val = h2o_xgb_model.predict(valid)\n",
    "ranked_preds_plot('price_doc', valid, h2o_xgb_preds1_val) \n",
    "h2o_xgb_preds1_test = h2o_xgb_model.predict(test)\n",
    "#gen_submission(h2o_xgb_preds1_test) \n",
    "\n",
    "#  on public leaderboard"
   ]
  },
  {
   "cell_type": "code",
   "execution_count": 44,
   "metadata": {
    "collapsed": false
   },
   "outputs": [
    {
     "data": {
      "text/html": [
       "<table>\n",
       "<thead>\n",
       "<tr><th style=\"text-align: right;\">  price_doc</th><th style=\"text-align: right;\">  predict</th></tr>\n",
       "</thead>\n",
       "<tbody>\n",
       "<tr><td style=\"text-align: right;\">    16.3881</td><td style=\"text-align: right;\">  15.8527</td></tr>\n",
       "<tr><td style=\"text-align: right;\">    14.5087</td><td style=\"text-align: right;\">  15.4019</td></tr>\n",
       "<tr><td style=\"text-align: right;\">    14.5087</td><td style=\"text-align: right;\">  15.2663</td></tr>\n",
       "<tr><td style=\"text-align: right;\">    14.4307</td><td style=\"text-align: right;\">  15.488 </td></tr>\n",
       "<tr><td style=\"text-align: right;\">    15.6561</td><td style=\"text-align: right;\">  15.2926</td></tr>\n",
       "<tr><td style=\"text-align: right;\">    15.8824</td><td style=\"text-align: right;\">  15.3378</td></tr>\n",
       "<tr><td style=\"text-align: right;\">    15.4642</td><td style=\"text-align: right;\">  15.253 </td></tr>\n",
       "<tr><td style=\"text-align: right;\">    15.5905</td><td style=\"text-align: right;\">  15.1   </td></tr>\n",
       "<tr><td style=\"text-align: right;\">    16.7224</td><td style=\"text-align: right;\">  15.9562</td></tr>\n",
       "<tr><td style=\"text-align: right;\">    15.556 </td><td style=\"text-align: right;\">  15.276 </td></tr>\n",
       "</tbody>\n",
       "</table>"
      ]
     },
     "metadata": {},
     "output_type": "display_data"
    },
    {
     "name": "stdout",
     "output_type": "stream",
     "text": [
      "\n"
     ]
    },
    {
     "data": {
      "image/png": "[encoded data removed]",
      "text/plain": [
       "<matplotlib.figure.Figure at 0x113ad32b0>"
      ]
     },
     "metadata": {},
     "output_type": "display_data"
    }
   ],
   "source": [
    "h2o_xgb_preds1_val = h2o_xgb_model.predict(valid)\n",
    "ranked_preds_plot('price_doc', valid, h2o_xgb_preds1_val) \n",
    "h2o_xgb_preds1_test = h2o_xgb_model.predict(test)"
   ]
  },
  {
   "cell_type": "code",
   "execution_count": 40,
   "metadata": {
    "collapsed": true
   },
   "outputs": [],
   "source": [
    "# save the model\n",
    "model_path = h2o.save_model(model=h2o_xgb_model, path=\"/Users/zwang/GWU/Kaggle/Housing_Mkt/mymodel2\", force=True)"
   ]
  },
  {
   "cell_type": "markdown",
   "metadata": {},
   "source": [
    "### load saved model"
   ]
  },
  {
   "cell_type": "code",
   "execution_count": null,
   "metadata": {
    "collapsed": true
   },
   "outputs": [],
   "source": [
    "# load data\n",
    "train = h2o.import_file('/Users/zwang/GWU/Kaggle/Housing_Mkt/data/newtrain.csv')\n",
    "valid = h2o.import_file('/Users/zwang/GWU/Kaggle/Housing_Mkt/data/newvalid.csv')\n",
    "test = h2o.import_file('/Users/zwang/GWU/Kaggle/Housing_Mkt/data/newtest.csv')"
   ]
  },
  {
   "cell_type": "code",
   "execution_count": null,
   "metadata": {
    "collapsed": true
   },
   "outputs": [],
   "source": [
    "def get_type_lists(frame=train, rejects=['id', 'price_doc']):   \n",
    "    nums, cats = [], []\n",
    "    for key, val in frame.types.items():\n",
    "        if key not in rejects:\n",
    "            if val == 'enum':\n",
    "                cats.append(key)\n",
    "            else: \n",
    "                nums.append(key)                \n",
    "    print('Numeric =', nums)                \n",
    "    print()\n",
    "    print('Categorical =', cats)\n",
    "    \n",
    "    return nums, cats"
   ]
  },
  {
   "cell_type": "code",
   "execution_count": null,
   "metadata": {
    "collapsed": false
   },
   "outputs": [],
   "source": [
    "encoded_combined_nums, cats = get_type_lists(frame=train)"
   ]
  },
  {
   "cell_type": "code",
   "execution_count": 41,
   "metadata": {
    "collapsed": true
   },
   "outputs": [],
   "source": [
    "# load the model\n",
    "rf_model1 = h2o.load_model(\"/Users/zwang/GWU/Kaggle/Housing_Mkt/mymodel/rf_model\")\n",
    "ert_model1 = h2o.load_model(\"/Users/zwang/GWU/Kaggle/Housing_Mkt/mymodel/ert_model\")\n",
    "h2o_gbm_model = h2o.load_model(\"/Users/zwang/GWU/Kaggle/Housing_Mkt/mymodel/gbm_model\")\n",
    "#h2o_xgb_model2 = h2o.load_model(\"/Users/zwang/GWU/Kaggle/Housing_Mkt/mymodel2/xgb_model\")"
   ]
  },
  {
   "cell_type": "code",
   "execution_count": 42,
   "metadata": {
    "collapsed": false
   },
   "outputs": [],
   "source": [
    "h2o_gbm_preds1_val = h2o_gbm_model.predict(valid)\n",
    "h2o_gbm_preds1_test = h2o_gbm_model.predict(test)"
   ]
  },
  {
   "cell_type": "code",
   "execution_count": 48,
   "metadata": {
    "collapsed": true
   },
   "outputs": [],
   "source": [
    "rf_preds1_val = rf_model1.predict(valid)\n",
    "rf_preds1_test = rf_model1.predict(test)"
   ]
  },
  {
   "cell_type": "code",
   "execution_count": 49,
   "metadata": {
    "collapsed": true
   },
   "outputs": [],
   "source": [
    "ert_preds1_val = ert_model1.predict(valid)\n",
    "ert_preds1_test = ert_model1.predict(test)"
   ]
  },
  {
   "cell_type": "code",
   "execution_count": null,
   "metadata": {
    "collapsed": false
   },
   "outputs": [],
   "source": [
    "h2o_xgb_preds1_val = h2o_xgb_model2.predict(valid)\n",
    "#ranked_preds_plot('price_doc', valid, h2o_xgb_preds1_val) \n",
    "h2o_xgb_preds1_test = h2o_xgb_model2.predict(test)"
   ]
  },
  {
   "cell_type": "code",
   "execution_count": null,
   "metadata": {
    "collapsed": false
   },
   "outputs": [],
   "source": [
    "h2o_xgb_model2"
   ]
  },
  {
   "cell_type": "markdown",
   "metadata": {},
   "source": [
    "### Train H2O stacked ensemble"
   ]
  },
  {
   "cell_type": "code",
   "execution_count": 50,
   "metadata": {
    "collapsed": false,
    "scrolled": true
   },
   "outputs": [
    {
     "ename": "OSError",
     "evalue": "Job with key $03017f00000132d4ffffffff$_ae96705963134e8ff53388092a66462e failed with an exception: java.lang.NullPointerException\nstacktrace: \njava.lang.NullPointerException\n\tat hex.StackedEnsembleModel.checkAndInheritModelProperties(StackedEnsembleModel.java:265)\n\tat hex.ensemble.StackedEnsemble$StackedEnsembleDriver.computeImpl(StackedEnsemble.java:115)\n\tat hex.ModelBuilder$Driver.compute2(ModelBuilder.java:173)\n\tat water.H2O$H2OCountedCompleter.compute(H2O.java:1349)\n\tat jsr166y.CountedCompleter.exec(CountedCompleter.java:468)\n\tat jsr166y.ForkJoinTask.doExec(ForkJoinTask.java:263)\n\tat jsr166y.ForkJoinPool$WorkQueue.runTask(ForkJoinPool.java:974)\n\tat jsr166y.ForkJoinPool.runWorker(ForkJoinPool.java:1477)\n\tat jsr166y.ForkJoinWorkerThread.run(ForkJoinWorkerThread.java:104)\n",
     "output_type": "error",
     "traceback": [
      "\u001b[0;31m---------------------------------------------------------------------------\u001b[0m",
      "\u001b[0;31mOSError\u001b[0m                                   Traceback (most recent call last)",
      "\u001b[0;32m<ipython-input-50-a6bc660c1623>\u001b[0m in \u001b[0;36m<module>\u001b[0;34m()\u001b[0m\n\u001b[1;32m      7\u001b[0m             \u001b[0my\u001b[0m\u001b[0;34m=\u001b[0m\u001b[0;34m'price_doc'\u001b[0m\u001b[0;34m,\u001b[0m\u001b[0;34m\u001b[0m\u001b[0m\n\u001b[1;32m      8\u001b[0m             \u001b[0mtraining_frame\u001b[0m\u001b[0;34m=\u001b[0m\u001b[0mtrain\u001b[0m\u001b[0;34m,\u001b[0m\u001b[0;34m\u001b[0m\u001b[0m\n\u001b[0;32m----> 9\u001b[0;31m             validation_frame=valid)\n\u001b[0m\u001b[1;32m     10\u001b[0m \u001b[0;34m\u001b[0m\u001b[0m\n\u001b[1;32m     11\u001b[0m \u001b[0;31m# print model information/create submission\u001b[0m\u001b[0;34m\u001b[0m\u001b[0;34m\u001b[0m\u001b[0m\n",
      "\u001b[0;32m/anaconda/lib/python3.6/site-packages/h2o/estimators/estimator_base.py\u001b[0m in \u001b[0;36mtrain\u001b[0;34m(self, x, y, training_frame, offset_column, fold_column, weights_column, validation_frame, max_runtime_secs, ignored_columns, model_id)\u001b[0m\n\u001b[1;32m    202\u001b[0m             \u001b[0;32mreturn\u001b[0m\u001b[0;34m\u001b[0m\u001b[0m\n\u001b[1;32m    203\u001b[0m \u001b[0;34m\u001b[0m\u001b[0m\n\u001b[0;32m--> 204\u001b[0;31m         \u001b[0mmodel\u001b[0m\u001b[0;34m.\u001b[0m\u001b[0mpoll\u001b[0m\u001b[0;34m(\u001b[0m\u001b[0;34m)\u001b[0m\u001b[0;34m\u001b[0m\u001b[0m\n\u001b[0m\u001b[1;32m    205\u001b[0m         \u001b[0mmodel_json\u001b[0m \u001b[0;34m=\u001b[0m \u001b[0mh2o\u001b[0m\u001b[0;34m.\u001b[0m\u001b[0mapi\u001b[0m\u001b[0;34m(\u001b[0m\u001b[0;34m\"GET /%d/Models/%s\"\u001b[0m \u001b[0;34m%\u001b[0m \u001b[0;34m(\u001b[0m\u001b[0mrest_ver\u001b[0m\u001b[0;34m,\u001b[0m \u001b[0mmodel\u001b[0m\u001b[0;34m.\u001b[0m\u001b[0mdest_key\u001b[0m\u001b[0;34m)\u001b[0m\u001b[0;34m)\u001b[0m\u001b[0;34m[\u001b[0m\u001b[0;34m\"models\"\u001b[0m\u001b[0;34m]\u001b[0m\u001b[0;34m[\u001b[0m\u001b[0;36m0\u001b[0m\u001b[0;34m]\u001b[0m\u001b[0;34m\u001b[0m\u001b[0m\n\u001b[1;32m    206\u001b[0m         \u001b[0mself\u001b[0m\u001b[0;34m.\u001b[0m\u001b[0m_resolve_model\u001b[0m\u001b[0;34m(\u001b[0m\u001b[0mmodel\u001b[0m\u001b[0;34m.\u001b[0m\u001b[0mdest_key\u001b[0m\u001b[0;34m,\u001b[0m \u001b[0mmodel_json\u001b[0m\u001b[0;34m)\u001b[0m\u001b[0;34m\u001b[0m\u001b[0m\n",
      "\u001b[0;32m/anaconda/lib/python3.6/site-packages/h2o/job.py\u001b[0m in \u001b[0;36mpoll\u001b[0;34m(self)\u001b[0m\n\u001b[1;32m     71\u001b[0m             \u001b[0;32mif\u001b[0m \u001b[0;34m(\u001b[0m\u001b[0misinstance\u001b[0m\u001b[0;34m(\u001b[0m\u001b[0mself\u001b[0m\u001b[0;34m.\u001b[0m\u001b[0mjob\u001b[0m\u001b[0;34m,\u001b[0m \u001b[0mdict\u001b[0m\u001b[0;34m)\u001b[0m\u001b[0;34m)\u001b[0m \u001b[0;32mand\u001b[0m \u001b[0;34m(\u001b[0m\u001b[0;34m\"stacktrace\"\u001b[0m \u001b[0;32min\u001b[0m \u001b[0mlist\u001b[0m\u001b[0;34m(\u001b[0m\u001b[0mself\u001b[0m\u001b[0;34m.\u001b[0m\u001b[0mjob\u001b[0m\u001b[0;34m)\u001b[0m\u001b[0;34m)\u001b[0m\u001b[0;34m:\u001b[0m\u001b[0;34m\u001b[0m\u001b[0m\n\u001b[1;32m     72\u001b[0m                 raise EnvironmentError(\"Job with key {} failed with an exception: {}\\nstacktrace: \"\n\u001b[0;32m---> 73\u001b[0;31m                                        \"\\n{}\".format(self.job_key, self.exception, self.job[\"stacktrace\"]))\n\u001b[0m\u001b[1;32m     74\u001b[0m             \u001b[0;32melse\u001b[0m\u001b[0;34m:\u001b[0m\u001b[0;34m\u001b[0m\u001b[0m\n\u001b[1;32m     75\u001b[0m                 \u001b[0;32mraise\u001b[0m \u001b[0mEnvironmentError\u001b[0m\u001b[0;34m(\u001b[0m\u001b[0;34m\"Job with key %s failed with an exception: %s\"\u001b[0m \u001b[0;34m%\u001b[0m \u001b[0;34m(\u001b[0m\u001b[0mself\u001b[0m\u001b[0;34m.\u001b[0m\u001b[0mjob_key\u001b[0m\u001b[0;34m,\u001b[0m \u001b[0mself\u001b[0m\u001b[0;34m.\u001b[0m\u001b[0mexception\u001b[0m\u001b[0;34m)\u001b[0m\u001b[0;34m)\u001b[0m\u001b[0;34m\u001b[0m\u001b[0m\n",
      "\u001b[0;31mOSError\u001b[0m: Job with key $03017f00000132d4ffffffff$_ae96705963134e8ff53388092a66462e failed with an exception: java.lang.NullPointerException\nstacktrace: \njava.lang.NullPointerException\n\tat hex.StackedEnsembleModel.checkAndInheritModelProperties(StackedEnsembleModel.java:265)\n\tat hex.ensemble.StackedEnsemble$StackedEnsembleDriver.computeImpl(StackedEnsemble.java:115)\n\tat hex.ModelBuilder$Driver.compute2(ModelBuilder.java:173)\n\tat water.H2O$H2OCountedCompleter.compute(H2O.java:1349)\n\tat jsr166y.CountedCompleter.exec(CountedCompleter.java:468)\n\tat jsr166y.ForkJoinTask.doExec(ForkJoinTask.java:263)\n\tat jsr166y.ForkJoinPool$WorkQueue.runTask(ForkJoinPool.java:974)\n\tat jsr166y.ForkJoinPool.runWorker(ForkJoinPool.java:1477)\n\tat jsr166y.ForkJoinWorkerThread.run(ForkJoinWorkerThread.java:104)\n"
     ]
    }
   ],
   "source": [
    "stack = H2OStackedEnsembleEstimator(training_frame=train, \n",
    "                                    validation_frame=valid,\n",
    "                                    base_models=[rf_model1, ert_model1, \n",
    "                                                 h2o_gbm_model])\n",
    "\n",
    "stack.train(x=encoded_combined_nums,\n",
    "            y='price_doc',\n",
    "            training_frame=train,\n",
    "            validation_frame=valid)\n",
    "\n",
    "# print model information/create submission\n",
    "print(stack)\n",
    "\n",
    "# stacking without xgb\n",
    "# RMSE: 0.39708713580391003\n",
    "# 0.32659 in public leaderboard\n",
    "\n",
    "# stacking all four model\n",
    "# \n"
   ]
  },
  {
   "cell_type": "code",
   "execution_count": null,
   "metadata": {
    "collapsed": false
   },
   "outputs": [],
   "source": [
    "stack_preds1_val = stack.predict(valid)\n",
    "ranked_preds_plot('price_doc', valid, stack_preds1_val) \n",
    "stack_preds1_test = stack.predict(test)\n",
    "gen_submission(stack_preds1_test)"
   ]
  },
  {
   "cell_type": "markdown",
   "metadata": {},
   "source": [
    "### Blending"
   ]
  },
  {
   "cell_type": "code",
   "execution_count": 46,
   "metadata": {
    "collapsed": true
   },
   "outputs": [],
   "source": [
    "import os\n",
    "\n",
    "def pred_blender(dir_, files):\n",
    "    \n",
    "    \"\"\" Performs simple blending of prediction files. \n",
    "    \n",
    "    :param dir_: Directory in which files to be read are stored.\n",
    "    :param files: List of prediction files to be blended.\n",
    "    \n",
    "    \"\"\"\n",
    "    \n",
    "    # read predictions in files list and cbind\n",
    "    for i, file in enumerate(files):\n",
    "        if i == 0:\n",
    "            df = pd.read_csv(dir_ + os.sep + file).drop('price_doc', axis=1)\n",
    "        col = pd.read_csv(dir_ + os.sep + file).drop('id', axis=1)\n",
    "        col.columns = ['price_doc' + str(i)]\n",
    "        df = pd.concat([df, col], axis=1)\n",
    "        \n",
    "    # create mean prediction    \n",
    "    df['mean'] = df.iloc[:, 1:].mean(axis=1)\n",
    "    print(df.head())\n",
    "        \n",
    "    # create time stamp\n",
    "    time_stamp = re.sub('[: ]', '_', time.asctime())        \n",
    "        \n",
    "    # write new submission file    \n",
    "    df = df[['id', 'mean']]\n",
    "    df.columns = ['id', 'price_doc']\n",
    "    \n",
    "    # save file for submission\n",
    "    sub_fname = wd+'/submission_' + str(time_stamp) + '.csv'\n",
    "    df.to_csv(sub_fname, index=False)"
   ]
  },
  {
   "cell_type": "code",
   "execution_count": 47,
   "metadata": {
    "collapsed": false
   },
   "outputs": [
    {
     "name": "stdout",
     "output_type": "stream",
     "text": [
      "      id    price_doc0    price_doc1    price_doc2    price_doc3          mean\n",
      "0  30474  5.247417e+06  5.222947e+06  5.288612e+06  5.414453e+06  5.293357e+06\n",
      "1  30475  8.301841e+06  8.325911e+06  8.611005e+06  8.420023e+06  8.414695e+06\n",
      "2  30476  5.125878e+06  5.273051e+06  5.040201e+06  5.045863e+06  5.121248e+06\n",
      "3  30477  5.770156e+06  5.719346e+06  5.696058e+06  5.963532e+06  5.787273e+06\n",
      "4  30478  5.026728e+06  5.014547e+06  5.067373e+06  5.068685e+06  5.044333e+06\n"
     ]
    }
   ],
   "source": [
    "# create blending\n",
    "pred_blender(wd,\n",
    "            ['submissionRF_Mon_Jun_19_22_31_58_2017.csv',\n",
    "             'submissionERF_Mon_Jun_19_22_56_05_2017.csv',\n",
    "             'submissionGBM_Tue_Jun_20_00_52_56_2017.csv',\n",
    "             'submissionXGB2_Wed_Jun_21_08_32_32_2017.csv'])"
   ]
  },
  {
   "cell_type": "markdown",
   "metadata": {},
   "source": [
    "#### Shutdown H2O"
   ]
  },
  {
   "cell_type": "code",
   "execution_count": 57,
   "metadata": {
    "collapsed": false
   },
   "outputs": [
    {
     "name": "stdout",
     "output_type": "stream",
     "text": [
      "Are you sure you want to shutdown the H2O instance running at http://127.0.0.1:54321 (Y/N)? Y\n",
      "H2O session _sid_b903 closed.\n"
     ]
    }
   ],
   "source": [
    "# Shutdown H2O - this will erase all your unsaved frames and models in H2O\n",
    "h2o.cluster().shutdown(prompt=True)"
   ]
  },
  {
   "cell_type": "code",
   "execution_count": null,
   "metadata": {
    "collapsed": true
   },
   "outputs": [],
   "source": []
  }
 ],
 "metadata": {
  "anaconda-cloud": {},
  "kernelspec": {
   "display_name": "Python 3",
   "language": "python",
   "name": "python3"
  },
  "language_info": {
   "codemirror_mode": {
    "name": "ipython",
    "version": 3
   },
   "file_extension": ".py",
   "mimetype": "text/x-python",
   "name": "python",
   "nbconvert_exporter": "python",
   "pygments_lexer": "ipython3",
   "version": "3.6.0"
  }
 },
 "nbformat": 4,
 "nbformat_minor": 1
}
