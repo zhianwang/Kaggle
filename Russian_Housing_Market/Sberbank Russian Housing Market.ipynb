{
 "cells": [
  {
   "cell_type": "markdown",
   "metadata": {},
   "source": [
    "## Sberbank Russian Housing Market\n",
    "##### Group member: Ying Zhang, Zhian Wang"
   ]
  },
  {
   "cell_type": "code",
   "execution_count": 1,
   "metadata": {
    "collapsed": false
   },
   "outputs": [],
   "source": [
    "wd = \"/Users/zwang/GWU/Kaggle/Housing_Mkt/data\"\n",
    "import pandas as pd\n",
    "import numpy as np\n",
    "train_df = pd.read_csv(wd+\"/train.csv\")\n",
    "train_df = train_df.reset_index(drop=True)\n",
    "test_df = pd.read_csv(wd+\"/test.csv\")\n",
    "test_df = test_df.reset_index(drop=True)"
   ]
  },
  {
   "cell_type": "markdown",
   "metadata": {},
   "source": [
    "### Data Preparation"
   ]
  },
  {
   "cell_type": "code",
   "execution_count": 2,
   "metadata": {
    "collapsed": false
   },
   "outputs": [
    {
     "name": "stderr",
     "output_type": "stream",
     "text": [
      "/anaconda/lib/python3.6/site-packages/ipykernel/__main__.py:1: FutureWarning: the coerce=True keyword is deprecated, use errors='coerce' instead\n",
      "  if __name__ == '__main__':\n",
      "/anaconda/lib/python3.6/site-packages/ipykernel/__main__.py:2: FutureWarning: the coerce=True keyword is deprecated, use errors='coerce' instead\n",
      "  from ipykernel import kernelapp as app\n",
      "/anaconda/lib/python3.6/site-packages/ipykernel/__main__.py:3: FutureWarning: the coerce=True keyword is deprecated, use errors='coerce' instead\n",
      "  app.launch_new_instance()\n",
      "/anaconda/lib/python3.6/site-packages/ipykernel/__main__.py:4: FutureWarning: the coerce=True keyword is deprecated, use errors='coerce' instead\n",
      "/anaconda/lib/python3.6/site-packages/ipykernel/__main__.py:6: FutureWarning: the coerce=True keyword is deprecated, use errors='coerce' instead\n",
      "/anaconda/lib/python3.6/site-packages/ipykernel/__main__.py:7: FutureWarning: the coerce=True keyword is deprecated, use errors='coerce' instead\n",
      "/anaconda/lib/python3.6/site-packages/ipykernel/__main__.py:8: FutureWarning: the coerce=True keyword is deprecated, use errors='coerce' instead\n",
      "/anaconda/lib/python3.6/site-packages/ipykernel/__main__.py:9: FutureWarning: the coerce=True keyword is deprecated, use errors='coerce' instead\n"
     ]
    }
   ],
   "source": [
    "train_df[\"year\"] = pd.to_datetime(train_df[\"timestamp\"], coerce=True).dt.year\n",
    "train_df[\"month\"] = pd.to_datetime(train_df[\"timestamp\"], coerce=True).dt.month\n",
    "train_df[\"day\"] = pd.to_datetime(train_df[\"timestamp\"], coerce=True).dt.day\n",
    "train_df[\"dayofyear\"] = pd.to_datetime(train_df[\"timestamp\"], coerce=True).dt.dayofyear\n",
    "\n",
    "test_df[\"year\"] = pd.to_datetime(test_df[\"timestamp\"], coerce=True).dt.year\n",
    "test_df[\"month\"] = pd.to_datetime(test_df[\"timestamp\"], coerce=True).dt.month\n",
    "test_df[\"day\"] = pd.to_datetime(test_df[\"timestamp\"], coerce=True).dt.day\n",
    "test_df[\"dayofyear\"] = pd.to_datetime(test_df[\"timestamp\"], coerce=True).dt.dayofyear"
   ]
  },
  {
   "cell_type": "code",
   "execution_count": 3,
   "metadata": {
    "collapsed": true
   },
   "outputs": [],
   "source": [
    "# Romove the outlier of full_sq\n",
    "ind = train_df[train_df['full_sq'] > 2000].index\n",
    "train_df = train_df.drop(ind)"
   ]
  },
  {
   "cell_type": "code",
   "execution_count": 4,
   "metadata": {
    "collapsed": true
   },
   "outputs": [],
   "source": [
    "# Remove the outliter in life_sq\n",
    "ind = train_df[train_df['life_sq'] > 2000].index\n",
    "train_df = train_df.drop(ind)"
   ]
  },
  {
   "cell_type": "code",
   "execution_count": 5,
   "metadata": {
    "collapsed": true
   },
   "outputs": [],
   "source": [
    "# Remove the outliter in kitch_sq\n",
    "ind = train_df[train_df['kitch_sq'] > 500].index\n",
    "train_df = train_df.drop(ind)"
   ]
  },
  {
   "cell_type": "code",
   "execution_count": 6,
   "metadata": {
    "collapsed": false
   },
   "outputs": [
    {
     "name": "stderr",
     "output_type": "stream",
     "text": [
      "/anaconda/lib/python3.6/site-packages/pandas/core/indexing.py:141: SettingWithCopyWarning: \n",
      "A value is trying to be set on a copy of a slice from a DataFrame\n",
      "\n",
      "See the caveats in the documentation: http://pandas.pydata.org/pandas-docs/stable/indexing.html#indexing-view-versus-copy\n",
      "  self._setitem_with_indexer(indexer, value)\n"
     ]
    },
    {
     "data": {
      "text/plain": [
       "0"
      ]
     },
     "execution_count": 6,
     "metadata": {},
     "output_type": "execute_result"
    }
   ],
   "source": [
    "(train_df['life_sq'] > train_df['full_sq']).sum()\n",
    "life_sq = train_df['life_sq'].ix[train_df['life_sq'] < train_df['full_sq']].median()\n",
    "full_sq = train_df['full_sq'].median()\n",
    "life_full = life_sq/full_sq \n",
    "life_full\n",
    "train_df['life_sq'].ix[train_df['life_sq'] > train_df['full_sq']] = train_df['full_sq']*life_full\n",
    "(train_df['life_sq'] > train_df['full_sq']).sum()"
   ]
  },
  {
   "cell_type": "code",
   "execution_count": 7,
   "metadata": {
    "collapsed": false
   },
   "outputs": [
    {
     "name": "stderr",
     "output_type": "stream",
     "text": [
      "/anaconda/lib/python3.6/site-packages/pandas/core/indexing.py:141: SettingWithCopyWarning: \n",
      "A value is trying to be set on a copy of a slice from a DataFrame\n",
      "\n",
      "See the caveats in the documentation: http://pandas.pydata.org/pandas-docs/stable/indexing.html#indexing-view-versus-copy\n",
      "  self._setitem_with_indexer(indexer, value)\n"
     ]
    },
    {
     "data": {
      "text/plain": [
       "0"
      ]
     },
     "execution_count": 7,
     "metadata": {},
     "output_type": "execute_result"
    }
   ],
   "source": [
    "(test_df['life_sq'] > test_df['full_sq']).sum()\n",
    "life_sq = test_df['life_sq'].ix[test_df['life_sq'] < test_df['full_sq']].median()\n",
    "full_sq = test_df['full_sq'].median()\n",
    "life_full = life_sq/full_sq \n",
    "life_full\n",
    "test_df['life_sq'].ix[test_df['life_sq'] > test_df['full_sq']] = test_df['full_sq']*life_full\n",
    "(test_df['life_sq'] > test_df['full_sq']).sum()"
   ]
  },
  {
   "cell_type": "code",
   "execution_count": 8,
   "metadata": {
    "collapsed": false
   },
   "outputs": [
    {
     "name": "stderr",
     "output_type": "stream",
     "text": [
      "/anaconda/lib/python3.6/site-packages/pandas/core/indexing.py:141: SettingWithCopyWarning: \n",
      "A value is trying to be set on a copy of a slice from a DataFrame\n",
      "\n",
      "See the caveats in the documentation: http://pandas.pydata.org/pandas-docs/stable/indexing.html#indexing-view-versus-copy\n",
      "  self._setitem_with_indexer(indexer, value)\n"
     ]
    },
    {
     "data": {
      "text/plain": [
       "0"
      ]
     },
     "execution_count": 8,
     "metadata": {},
     "output_type": "execute_result"
    }
   ],
   "source": [
    "kitch_sq = train_df['kitch_sq'].ix[train_df['kitch_sq'] < train_df['full_sq']].median()\n",
    "full_sq = train_df['full_sq'].median()\n",
    "kitch_full = kitch_sq/full_sq \n",
    "kitch_full\n",
    "train_df['kitch_sq'].ix[train_df['kitch_sq'] > train_df['full_sq']] = train_df['full_sq']*kitch_full\n",
    "(train_df['kitch_sq'] > train_df['full_sq']).sum()"
   ]
  },
  {
   "cell_type": "code",
   "execution_count": 9,
   "metadata": {
    "collapsed": false
   },
   "outputs": [
    {
     "name": "stderr",
     "output_type": "stream",
     "text": [
      "/anaconda/lib/python3.6/site-packages/pandas/core/indexing.py:141: SettingWithCopyWarning: \n",
      "A value is trying to be set on a copy of a slice from a DataFrame\n",
      "\n",
      "See the caveats in the documentation: http://pandas.pydata.org/pandas-docs/stable/indexing.html#indexing-view-versus-copy\n",
      "  self._setitem_with_indexer(indexer, value)\n"
     ]
    },
    {
     "data": {
      "text/plain": [
       "0"
      ]
     },
     "execution_count": 9,
     "metadata": {},
     "output_type": "execute_result"
    }
   ],
   "source": [
    "kitch_sq = test_df['kitch_sq'].ix[test_df['kitch_sq'] < test_df['full_sq']].median()\n",
    "full_sq = test_df['full_sq'].median()\n",
    "kitch_full = kitch_sq/full_sq \n",
    "kitch_full\n",
    "test_df['kitch_sq'].ix[test_df['kitch_sq'] > test_df['full_sq']] = test_df['full_sq']*kitch_full\n",
    "(test_df['kitch_sq'] > test_df['full_sq']).sum()"
   ]
  },
  {
   "cell_type": "code",
   "execution_count": 10,
   "metadata": {
    "collapsed": false
   },
   "outputs": [
    {
     "name": "stderr",
     "output_type": "stream",
     "text": [
      "/anaconda/lib/python3.6/site-packages/pandas/core/indexing.py:141: SettingWithCopyWarning: \n",
      "A value is trying to be set on a copy of a slice from a DataFrame\n",
      "\n",
      "See the caveats in the documentation: http://pandas.pydata.org/pandas-docs/stable/indexing.html#indexing-view-versus-copy\n",
      "  self._setitem_with_indexer(indexer, value)\n"
     ]
    },
    {
     "data": {
      "text/plain": [
       "0"
      ]
     },
     "execution_count": 10,
     "metadata": {},
     "output_type": "execute_result"
    }
   ],
   "source": [
    "train_df['floor'].ix[train_df['floor'] > train_df['max_floor']] = train_df['max_floor']*0.5\n",
    "(train_df['floor'] > train_df['max_floor']).sum()"
   ]
  },
  {
   "cell_type": "code",
   "execution_count": 11,
   "metadata": {
    "collapsed": false
   },
   "outputs": [
    {
     "name": "stderr",
     "output_type": "stream",
     "text": [
      "/anaconda/lib/python3.6/site-packages/pandas/core/indexing.py:141: SettingWithCopyWarning: \n",
      "A value is trying to be set on a copy of a slice from a DataFrame\n",
      "\n",
      "See the caveats in the documentation: http://pandas.pydata.org/pandas-docs/stable/indexing.html#indexing-view-versus-copy\n",
      "  self._setitem_with_indexer(indexer, value)\n"
     ]
    },
    {
     "data": {
      "text/plain": [
       "0"
      ]
     },
     "execution_count": 11,
     "metadata": {},
     "output_type": "execute_result"
    }
   ],
   "source": [
    "test_df['floor'].ix[test_df['floor'] > test_df['max_floor']] = test_df['max_floor']*0.5\n",
    "(test_df['floor'] > test_df['max_floor']).sum()"
   ]
  },
  {
   "cell_type": "code",
   "execution_count": 12,
   "metadata": {
    "collapsed": true
   },
   "outputs": [],
   "source": [
    "train_df.loc[train_df['state'] == 33, 'state'] = train_df['state'].mode().iloc[0]"
   ]
  },
  {
   "cell_type": "code",
   "execution_count": 13,
   "metadata": {
    "collapsed": true
   },
   "outputs": [],
   "source": [
    "train_df.loc[train_df['build_year'] == 20052009, 'build_year'] = 2007\n",
    "ind = train_df[(train_df['build_year'] <= 1691) | (train_df['build_year'] >= 2018)].index\n",
    "by_df = train_df.drop(ind).sort_values(by=['build_year'])"
   ]
  },
  {
   "cell_type": "code",
   "execution_count": 14,
   "metadata": {
    "collapsed": false
   },
   "outputs": [],
   "source": [
    "train_df['rel_floor'] = train_df['floor'] /train_df['max_floor'].astype(float)\n",
    "train_df['rel_kitch_sq'] = train_df['kitch_sq'] / train_df['full_sq'].astype(float)\n",
    "train_df['rel_life_sq'] = train_df['life_sq'] / train_df['full_sq'].astype(float)\n",
    "\n",
    "test_df['rel_floor'] = test_df['floor'] /test_df['max_floor'].astype(float)\n",
    "test_df['rel_kitch_sq'] = test_df['kitch_sq'] / test_df['full_sq'].astype(float)\n",
    "test_df['rel_life_sq'] = test_df['life_sq'] / test_df['full_sq'].astype(float)"
   ]
  },
  {
   "cell_type": "markdown",
   "metadata": {},
   "source": [
    "### Impute Missing Value"
   ]
  },
  {
   "cell_type": "code",
   "execution_count": 15,
   "metadata": {
    "collapsed": false
   },
   "outputs": [
    {
     "data": {
      "text/plain": [
       "['hospital_beds_raion',\n",
       " 'build_year',\n",
       " 'state',\n",
       " 'cafe_avg_price_500',\n",
       " 'cafe_sum_500_min_price_avg',\n",
       " 'cafe_sum_500_max_price_avg',\n",
       " 'rel_floor',\n",
       " 'rel_kitch_sq',\n",
       " 'max_floor',\n",
       " 'material',\n",
       " 'num_room',\n",
       " 'kitch_sq',\n",
       " 'preschool_quota',\n",
       " 'school_quota',\n",
       " 'cafe_avg_price_1000',\n",
       " 'cafe_sum_1000_max_price_avg',\n",
       " 'cafe_sum_1000_min_price_avg',\n",
       " 'rel_life_sq',\n",
       " 'life_sq',\n",
       " 'build_count_panel',\n",
       " 'build_count_before_1920',\n",
       " 'raion_build_count_with_material_info',\n",
       " 'build_count_block',\n",
       " 'build_count_wood',\n",
       " 'build_count_frame',\n",
       " 'build_count_brick',\n",
       " 'build_count_monolith',\n",
       " 'build_count_foam',\n",
       " 'build_count_slag',\n",
       " 'build_count_mix',\n",
       " 'raion_build_count_with_builddate_info',\n",
       " 'build_count_after_1995',\n",
       " 'build_count_1921-1945',\n",
       " 'build_count_1971-1995',\n",
       " 'build_count_1946-1970',\n",
       " 'cafe_avg_price_1500',\n",
       " 'cafe_sum_1500_min_price_avg',\n",
       " 'cafe_sum_1500_max_price_avg',\n",
       " 'cafe_sum_2000_max_price_avg',\n",
       " 'cafe_sum_2000_min_price_avg',\n",
       " 'cafe_avg_price_2000',\n",
       " 'cafe_avg_price_3000',\n",
       " 'cafe_sum_3000_max_price_avg',\n",
       " 'cafe_sum_3000_min_price_avg',\n",
       " 'cafe_sum_5000_min_price_avg',\n",
       " 'cafe_sum_5000_max_price_avg',\n",
       " 'cafe_avg_price_5000',\n",
       " 'prom_part_5000',\n",
       " 'floor',\n",
       " 'ID_railroad_station_walk',\n",
       " 'metro_km_walk',\n",
       " 'railroad_station_walk_min',\n",
       " 'railroad_station_walk_km',\n",
       " 'metro_min_walk']"
      ]
     },
     "execution_count": 15,
     "metadata": {},
     "output_type": "execute_result"
    }
   ],
   "source": [
    "train_na = train_df.isnull().sum()\n",
    "train_na = train_na.drop(train_na[train_na == 0].index).sort_values(ascending=False)\n",
    "train_na_list = train_na.index.tolist()\n",
    "train_na_list"
   ]
  },
  {
   "cell_type": "code",
   "execution_count": 16,
   "metadata": {
    "collapsed": true
   },
   "outputs": [],
   "source": [
    "train_df = train_df.fillna(train_df.mean())"
   ]
  },
  {
   "cell_type": "code",
   "execution_count": 17,
   "metadata": {
    "collapsed": false
   },
   "outputs": [],
   "source": [
    "test_df = test_df.fillna(test_df.mean())"
   ]
  },
  {
   "cell_type": "markdown",
   "metadata": {},
   "source": [
    "#### Log the price"
   ]
  },
  {
   "cell_type": "code",
   "execution_count": 18,
   "metadata": {
    "collapsed": false
   },
   "outputs": [],
   "source": [
    "train_df['price_doc_log'] = np.log1p(train_df['price_doc'])"
   ]
  },
  {
   "cell_type": "markdown",
   "metadata": {},
   "source": [
    "### Variable importance"
   ]
  },
  {
   "cell_type": "code",
   "execution_count": 19,
   "metadata": {
    "collapsed": true
   },
   "outputs": [],
   "source": [
    "from sklearn.ensemble import RandomForestRegressor\n",
    "from sklearn.preprocessing import LabelEncoder\n",
    "X_train = train_df.drop(labels=['timestamp', 'id', 'incineration_raion'], axis=1).dropna()\n",
    "y_train = X_train['price_doc_log']\n",
    "X_train.drop('price_doc_log', axis=1, inplace=True)\n",
    "for f in X_train.columns:\n",
    "    if X_train[f].dtype == 'object':\n",
    "        lbl = LabelEncoder()\n",
    "        lbl.fit(X_train[f])\n",
    "        X_train[f] = lbl.transform(X_train[f])\n",
    "rf = RandomForestRegressor(random_state=0)\n",
    "rf = rf.fit(X_train, y_train)"
   ]
  },
  {
   "cell_type": "code",
   "execution_count": 20,
   "metadata": {
    "collapsed": false
   },
   "outputs": [
    {
     "name": "stdout",
     "output_type": "stream",
     "text": [
      "## rf variable importance\n",
      "## full_sq                                 1.53407307586e-08\n",
      "## life_sq                                 4.34767577988e-09\n",
      "## floor                                   2.93624072786e-07\n",
      "## max_floor                               1.57076497458e-08\n",
      "## material                                8.04179550487e-09\n",
      "## build_year                              1.86418605279e-06\n",
      "## num_room                                2.12831524042e-07\n",
      "## kitch_sq                                3.4202127109e-07\n",
      "## state                                   3.21240504166e-08\n",
      "## product_type                            6.05249030829e-09\n",
      "## sub_area                                1.33966926996e-08\n",
      "## area_m                                  2.4736040986e-08\n",
      "## raion_popul                             2.4965033974e-06\n",
      "## green_zone_part                         3.90024817512e-08\n",
      "## indust_part                             4.06176249196e-07\n",
      "## children_preschool                      1.3271328202e-08\n",
      "## preschool_quota                         6.59942593375e-08\n",
      "## preschool_education_centers_raion       7.10998837715e-09\n",
      "## children_school                         2.88795078951e-08\n",
      "## school_quota                            1.16584782863e-08\n",
      "## school_education_centers_raion          7.47157731358e-10\n",
      "## school_education_centers_top_20_raion   1.00535170507e-09\n",
      "## hospital_beds_raion                     9.26260748193e-10\n",
      "## healthcare_centers_raion                9.2870434901e-07\n",
      "## university_top_20_raion                 7.39254623141e-11\n",
      "## sport_objects_raion                     3.24363456976e-08\n",
      "## additional_education_raion              6.0406336929e-08\n",
      "## culture_objects_top_25                  0.0\n",
      "## culture_objects_top_25_raion            8.6873817553e-11\n",
      "## shopping_centers_raion                  3.29452733903e-07\n"
     ]
    }
   ],
   "source": [
    "fi = list(zip(X_train.columns, rf.feature_importances_))\n",
    "print('## rf variable importance')\n",
    "d = [print('## %-40s%s' % (i)) for i in fi[:30]]"
   ]
  },
  {
   "cell_type": "code",
   "execution_count": 21,
   "metadata": {
    "collapsed": false
   },
   "outputs": [
    {
     "name": "stdout",
     "output_type": "stream",
     "text": [
      "[('full_sq', 1.5340730758585236e-08), ('life_sq', 4.347675779880679e-09), ('floor', 2.9362407278572317e-07), ('max_floor', 1.570764974581535e-08), ('material', 8.0417955048664453e-09), ('build_year', 1.8641860527888459e-06), ('num_room', 2.1283152404248847e-07), ('kitch_sq', 3.4202127108988602e-07), ('state', 3.2124050416556529e-08), ('product_type', 6.0524903082897139e-09), ('sub_area', 1.3396692699588572e-08), ('area_m', 2.4736040986034181e-08), ('raion_popul', 2.496503397399252e-06), ('green_zone_part', 3.9002481751156949e-08), ('indust_part', 4.0617624919569357e-07), ('children_preschool', 1.3271328201962945e-08), ('preschool_quota', 6.5994259337474961e-08), ('preschool_education_centers_raion', 7.1099883771525288e-09), ('children_school', 2.8879507895056936e-08), ('school_quota', 1.1658478286298456e-08), ('school_education_centers_raion', 7.4715773135753403e-10), ('school_education_centers_top_20_raion', 1.0053517050691346e-09), ('hospital_beds_raion', 9.262607481930407e-10), ('healthcare_centers_raion', 9.2870434901042443e-07), ('university_top_20_raion', 7.3925462314090871e-11), ('sport_objects_raion', 3.2436345697607138e-08), ('additional_education_raion', 6.0406336929004765e-08), ('culture_objects_top_25', 0.0), ('culture_objects_top_25_raion', 8.6873817552995345e-11), ('shopping_centers_raion', 3.2945273390314426e-07)]\n"
     ]
    }
   ],
   "source": [
    "print(fi[:30])"
   ]
  },
  {
   "cell_type": "code",
   "execution_count": 23,
   "metadata": {
    "collapsed": false
   },
   "outputs": [
    {
     "data": {
      "text/plain": [
       "['full_sq',\n",
       " 'life_sq',\n",
       " 'floor',\n",
       " 'max_floor',\n",
       " 'material',\n",
       " 'build_year',\n",
       " 'num_room',\n",
       " 'kitch_sq',\n",
       " 'state',\n",
       " 'product_type',\n",
       " 'sub_area',\n",
       " 'area_m',\n",
       " 'raion_popul',\n",
       " 'green_zone_part',\n",
       " 'indust_part',\n",
       " 'children_preschool',\n",
       " 'preschool_quota',\n",
       " 'preschool_education_centers_raion',\n",
       " 'children_school',\n",
       " 'school_quota',\n",
       " 'school_education_centers_raion',\n",
       " 'school_education_centers_top_20_raion',\n",
       " 'hospital_beds_raion',\n",
       " 'healthcare_centers_raion',\n",
       " 'university_top_20_raion',\n",
       " 'sport_objects_raion',\n",
       " 'additional_education_raion',\n",
       " 'culture_objects_top_25',\n",
       " 'culture_objects_top_25_raion',\n",
       " 'shopping_centers_raion']"
      ]
     },
     "execution_count": 23,
     "metadata": {},
     "output_type": "execute_result"
    }
   ],
   "source": [
    "[i[0] for i in fi[:30]]"
   ]
  },
  {
   "cell_type": "code",
   "execution_count": 24,
   "metadata": {
    "collapsed": false
   },
   "outputs": [],
   "source": [
    "train_df = train_df.drop('price_doc_log',axis = 1)"
   ]
  },
  {
   "cell_type": "code",
   "execution_count": null,
   "metadata": {
    "collapsed": false
   },
   "outputs": [],
   "source": [
    "train_df.head(12)"
   ]
  },
  {
   "cell_type": "markdown",
   "metadata": {},
   "source": [
    "## Model"
   ]
  },
  {
   "cell_type": "code",
   "execution_count": null,
   "metadata": {
    "collapsed": false
   },
   "outputs": [],
   "source": [
    "import h2o\n",
    "from h2o.estimators.gbm import H2OGradientBoostingEstimator \n",
    "from h2o.estimators.random_forest import H2ORandomForestEstimator\n",
    "from h2o.grid.grid_search import H2OGridSearch \n",
    "from h2o.estimators.xgboost import H2OXGBoostEstimator\n",
    "from h2o.estimators.stackedensemble import H2OStackedEnsembleEstimator\n",
    "import xgboost as xgb\n",
    "h2o.init() # give h2o as much memory as possible\n",
    "h2o.no_progress() # turn off h2o progress bars\n",
    "\n",
    "import numpy as np\n",
    "import pandas as pd"
   ]
  },
  {
   "cell_type": "code",
   "execution_count": 26,
   "metadata": {
    "collapsed": false
   },
   "outputs": [
    {
     "name": "stdout",
     "output_type": "stream",
     "text": [
      "(30464, 299)\n",
      "(7662, 298)\n"
     ]
    }
   ],
   "source": [
    "print(train_df.shape)\n",
    "print(test_df.shape)"
   ]
  },
  {
   "cell_type": "code",
   "execution_count": 27,
   "metadata": {
    "collapsed": false
   },
   "outputs": [
    {
     "name": "stdout",
     "output_type": "stream",
     "text": [
      "(30464, 299)\n",
      "(7662, 299)\n"
     ]
    }
   ],
   "source": [
    "train = h2o.H2OFrame(train_df)\n",
    "test = h2o.H2OFrame(test_df)\n",
    "\n",
    "# bug fix - from Keston\n",
    "dummy_col = np.random.rand(test.shape[0])\n",
    "test = test.cbind(h2o.H2OFrame(dummy_col))\n",
    "cols = test.columns\n",
    "cols[-1] = 'price_doc'\n",
    "test.columns = cols\n",
    "print(train.shape)\n",
    "print(test.shape)"
   ]
  },
  {
   "cell_type": "code",
   "execution_count": 28,
   "metadata": {
    "collapsed": true
   },
   "outputs": [],
   "source": [
    "def get_type_lists(frame=train, rejects=['id', 'price_doc']):   \n",
    "    nums, cats = [], []\n",
    "    for key, val in frame.types.items():\n",
    "        if key not in rejects:\n",
    "            if val == 'enum':\n",
    "                cats.append(key)\n",
    "            else: \n",
    "                nums.append(key)                \n",
    "    print('Numeric =', nums)                \n",
    "    print()\n",
    "    print('Categorical =', cats)\n",
    "    \n",
    "    return nums, cats"
   ]
  },
  {
   "cell_type": "code",
   "execution_count": 29,
   "metadata": {
    "collapsed": false
   },
   "outputs": [
    {
     "name": "stdout",
     "output_type": "stream",
     "text": [
      "Numeric = ['timestamp', 'full_sq', 'life_sq', 'floor', 'max_floor', 'material', 'build_year', 'num_room', 'kitch_sq', 'state', 'area_m', 'raion_popul', 'green_zone_part', 'indust_part', 'children_preschool', 'preschool_quota', 'preschool_education_centers_raion', 'children_school', 'school_quota', 'school_education_centers_raion', 'school_education_centers_top_20_raion', 'hospital_beds_raion', 'healthcare_centers_raion', 'university_top_20_raion', 'sport_objects_raion', 'additional_education_raion', 'culture_objects_top_25_raion', 'shopping_centers_raion', 'office_raion', 'full_all', 'male_f', 'female_f', 'young_all', 'young_male', 'young_female', 'work_all', 'work_male', 'work_female', 'ekder_all', 'ekder_male', 'ekder_female', '0_6_all', '0_6_male', '0_6_female', '7_14_all', '7_14_male', '7_14_female', '0_17_all', '0_17_male', '0_17_female', '16_29_all', '16_29_male', '16_29_female', '0_13_all', '0_13_male', '0_13_female', 'raion_build_count_with_material_info', 'build_count_block', 'build_count_wood', 'build_count_frame', 'build_count_brick', 'build_count_monolith', 'build_count_panel', 'build_count_foam', 'build_count_slag', 'build_count_mix', 'raion_build_count_with_builddate_info', 'build_count_before_1920', 'build_count_1921-1945', 'build_count_1946-1970', 'build_count_1971-1995', 'build_count_after_1995', 'ID_metro', 'metro_min_avto', 'metro_km_avto', 'metro_min_walk', 'metro_km_walk', 'kindergarten_km', 'school_km', 'park_km', 'green_zone_km', 'industrial_km', 'water_treatment_km', 'cemetery_km', 'incineration_km', 'railroad_station_walk_km', 'railroad_station_walk_min', 'ID_railroad_station_walk', 'railroad_station_avto_km', 'railroad_station_avto_min', 'ID_railroad_station_avto', 'public_transport_station_km', 'public_transport_station_min_walk', 'water_km', 'mkad_km', 'ttk_km', 'sadovoe_km', 'bulvar_ring_km', 'kremlin_km', 'big_road1_km', 'ID_big_road1', 'big_road2_km', 'ID_big_road2', 'railroad_km', 'zd_vokzaly_avto_km', 'ID_railroad_terminal', 'bus_terminal_avto_km', 'ID_bus_terminal', 'oil_chemistry_km', 'nuclear_reactor_km', 'radiation_km', 'power_transmission_line_km', 'thermal_power_plant_km', 'ts_km', 'big_market_km', 'market_shop_km', 'fitness_km', 'swim_pool_km', 'ice_rink_km', 'stadium_km', 'basketball_km', 'hospice_morgue_km', 'detention_facility_km', 'public_healthcare_km', 'university_km', 'workplaces_km', 'shopping_centers_km', 'office_km', 'additional_education_km', 'preschool_km', 'big_church_km', 'church_synagogue_km', 'mosque_km', 'theater_km', 'museum_km', 'exhibition_km', 'catering_km', 'green_part_500', 'prom_part_500', 'office_count_500', 'office_sqm_500', 'trc_count_500', 'trc_sqm_500', 'cafe_count_500', 'cafe_sum_500_min_price_avg', 'cafe_sum_500_max_price_avg', 'cafe_avg_price_500', 'cafe_count_500_na_price', 'cafe_count_500_price_500', 'cafe_count_500_price_1000', 'cafe_count_500_price_1500', 'cafe_count_500_price_2500', 'cafe_count_500_price_4000', 'cafe_count_500_price_high', 'big_church_count_500', 'church_count_500', 'mosque_count_500', 'leisure_count_500', 'sport_count_500', 'market_count_500', 'green_part_1000', 'prom_part_1000', 'office_count_1000', 'office_sqm_1000', 'trc_count_1000', 'trc_sqm_1000', 'cafe_count_1000', 'cafe_sum_1000_min_price_avg', 'cafe_sum_1000_max_price_avg', 'cafe_avg_price_1000', 'cafe_count_1000_na_price', 'cafe_count_1000_price_500', 'cafe_count_1000_price_1000', 'cafe_count_1000_price_1500', 'cafe_count_1000_price_2500', 'cafe_count_1000_price_4000', 'cafe_count_1000_price_high', 'big_church_count_1000', 'church_count_1000', 'mosque_count_1000', 'leisure_count_1000', 'sport_count_1000', 'market_count_1000', 'green_part_1500', 'prom_part_1500', 'office_count_1500', 'office_sqm_1500', 'trc_count_1500', 'trc_sqm_1500', 'cafe_count_1500', 'cafe_sum_1500_min_price_avg', 'cafe_sum_1500_max_price_avg', 'cafe_avg_price_1500', 'cafe_count_1500_na_price', 'cafe_count_1500_price_500', 'cafe_count_1500_price_1000', 'cafe_count_1500_price_1500', 'cafe_count_1500_price_2500', 'cafe_count_1500_price_4000', 'cafe_count_1500_price_high', 'big_church_count_1500', 'church_count_1500', 'mosque_count_1500', 'leisure_count_1500', 'sport_count_1500', 'market_count_1500', 'green_part_2000', 'prom_part_2000', 'office_count_2000', 'office_sqm_2000', 'trc_count_2000', 'trc_sqm_2000', 'cafe_count_2000', 'cafe_sum_2000_min_price_avg', 'cafe_sum_2000_max_price_avg', 'cafe_avg_price_2000', 'cafe_count_2000_na_price', 'cafe_count_2000_price_500', 'cafe_count_2000_price_1000', 'cafe_count_2000_price_1500', 'cafe_count_2000_price_2500', 'cafe_count_2000_price_4000', 'cafe_count_2000_price_high', 'big_church_count_2000', 'church_count_2000', 'mosque_count_2000', 'leisure_count_2000', 'sport_count_2000', 'market_count_2000', 'green_part_3000', 'prom_part_3000', 'office_count_3000', 'office_sqm_3000', 'trc_count_3000', 'trc_sqm_3000', 'cafe_count_3000', 'cafe_sum_3000_min_price_avg', 'cafe_sum_3000_max_price_avg', 'cafe_avg_price_3000', 'cafe_count_3000_na_price', 'cafe_count_3000_price_500', 'cafe_count_3000_price_1000', 'cafe_count_3000_price_1500', 'cafe_count_3000_price_2500', 'cafe_count_3000_price_4000', 'cafe_count_3000_price_high', 'big_church_count_3000', 'church_count_3000', 'mosque_count_3000', 'leisure_count_3000', 'sport_count_3000', 'market_count_3000', 'green_part_5000', 'prom_part_5000', 'office_count_5000', 'office_sqm_5000', 'trc_count_5000', 'trc_sqm_5000', 'cafe_count_5000', 'cafe_sum_5000_min_price_avg', 'cafe_sum_5000_max_price_avg', 'cafe_avg_price_5000', 'cafe_count_5000_na_price', 'cafe_count_5000_price_500', 'cafe_count_5000_price_1000', 'cafe_count_5000_price_1500', 'cafe_count_5000_price_2500', 'cafe_count_5000_price_4000', 'cafe_count_5000_price_high', 'big_church_count_5000', 'church_count_5000', 'mosque_count_5000', 'leisure_count_5000', 'sport_count_5000', 'market_count_5000', 'year', 'month', 'day', 'dayofyear', 'rel_floor', 'rel_kitch_sq', 'rel_life_sq']\n",
      "\n",
      "Categorical = ['product_type', 'sub_area', 'culture_objects_top_25', 'thermal_power_plant_raion', 'incineration_raion', 'oil_chemistry_raion', 'radiation_raion', 'railroad_terminal_raion', 'big_market_raion', 'nuclear_reactor_raion', 'detention_facility_raion', 'water_1line', 'big_road1_1line', 'railroad_1line', 'ecology']\n"
     ]
    }
   ],
   "source": [
    "original_nums, cats = get_type_lists()"
   ]
  },
  {
   "cell_type": "code",
   "execution_count": 30,
   "metadata": {
    "collapsed": false
   },
   "outputs": [
    {
     "name": "stdout",
     "output_type": "stream",
     "text": [
      "(21378, 299)\n",
      "(9086, 299)\n"
     ]
    }
   ],
   "source": [
    "train, valid = train.split_frame([0.7], seed=12345)\n",
    "print(train.shape)\n",
    "print(valid.shape)"
   ]
  },
  {
   "cell_type": "markdown",
   "metadata": {},
   "source": [
    "### Encode categorical vars using shrunken averages"
   ]
  },
  {
   "cell_type": "code",
   "execution_count": 31,
   "metadata": {
    "collapsed": true
   },
   "outputs": [],
   "source": [
    "def target_encoder(training_frame, test_frame, x, y, lambda_=0.15, threshold=150, test=False):\n",
    "\n",
    "    # convert to pandas\n",
    "    trdf = training_frame.as_data_frame().loc[:, [x,y]] # df\n",
    "    tss = test_frame.as_data_frame().loc[:, x]          # series\n",
    "\n",
    "\n",
    "    # create dictionary of level:encode val\n",
    "\n",
    "    encode_name = x + '_Tencode'\n",
    "    overall_mean = trdf[y].mean()\n",
    "    row_val_dict = {}\n",
    "\n",
    "    for level in trdf[x].unique():\n",
    "        level_df = trdf[trdf[x] == level][y]\n",
    "        level_n = level_df.shape[0]\n",
    "        level_mean = level_df.mean()\n",
    "        if level_n >= threshold:\n",
    "            row_val_dict[level] = level_mean\n",
    "        else:\n",
    "            row_val_dict[level] = ((1 - lambda_) * level_mean) +\\\n",
    "                                  (lambda_ * overall_mean)\n",
    "\n",
    "    row_val_dict[np.nan] = overall_mean # handle missing values\n",
    "\n",
    "    if test:\n",
    "        print(row_val_dict)\n",
    "\n",
    "    # apply the transform to training data\n",
    "    trdf[encode_name] = trdf[x].apply(lambda i: row_val_dict[i])\n",
    "\n",
    "    # apply the transform to test data\n",
    "    tsdf = pd.DataFrame(columns=[x, encode_name])\n",
    "    tsdf[x] = tss\n",
    "    tsdf.loc[:, encode_name] = overall_mean # handle previously unseen values\n",
    "    # handle values that are seen in tsdf but not row_val_dict\n",
    "    for i, col_i in enumerate(tsdf[x]):\n",
    "        try:\n",
    "            row_val_dict[col_i]\n",
    "        except:\n",
    "            # a value that appeared in tsdf isn't in the row_val_dict so just\n",
    "            # make it the overall_mean\n",
    "            row_val_dict[col_i] = overall_mean\n",
    "    tsdf[encode_name] = tsdf[x].apply(lambda i: row_val_dict[i])\n",
    "\n",
    "\n",
    "    # convert back to H2O\n",
    "\n",
    "    trdf = h2o.H2OFrame(trdf[encode_name].as_matrix())\n",
    "    trdf.columns = [encode_name]\n",
    "\n",
    "    tsdf = h2o.H2OFrame(tsdf[encode_name].as_matrix())\n",
    "    tsdf.columns = [encode_name]\n",
    "\n",
    "    return (trdf, tsdf)"
   ]
  },
  {
   "cell_type": "code",
   "execution_count": 32,
   "metadata": {
    "collapsed": false
   },
   "outputs": [
    {
     "name": "stdout",
     "output_type": "stream",
     "text": [
      "Encoding: product_type (1/15) ...\n",
      "Encoding: sub_area (2/15) ...\n",
      "Encoding: culture_objects_top_25 (3/15) ...\n",
      "Encoding: thermal_power_plant_raion (4/15) ...\n",
      "Encoding: incineration_raion (5/15) ...\n",
      "Encoding: oil_chemistry_raion (6/15) ...\n",
      "Encoding: radiation_raion (7/15) ...\n",
      "Encoding: railroad_terminal_raion (8/15) ...\n",
      "Encoding: big_market_raion (9/15) ...\n",
      "Encoding: nuclear_reactor_raion (10/15) ...\n",
      "Encoding: detention_facility_raion (11/15) ...\n",
      "Encoding: water_1line (12/15) ...\n",
      "Encoding: big_road1_1line (13/15) ...\n",
      "Encoding: railroad_1line (14/15) ...\n",
      "Encoding: ecology (15/15) ...\n",
      "Done.\n"
     ]
    }
   ],
   "source": [
    "total = len(cats)\n",
    "for i, var in enumerate(cats):\n",
    "    \n",
    "    tr_enc, _ = target_encoder(train, test, var, 'price_doc')\n",
    "    v_enc, ts_enc = target_encoder(valid, test, var, 'price_doc')\n",
    "    \n",
    "    print('Encoding: ' + var + ' (' + str(i+1) + '/' + str(total) + ') ...')\n",
    "\n",
    "    train = train.cbind(tr_enc)\n",
    "    valid = valid.cbind(v_enc)\n",
    "    test = test.cbind(ts_enc)    \n",
    "    \n",
    "print('Done.')"
   ]
  },
  {
   "cell_type": "code",
   "execution_count": 33,
   "metadata": {
    "collapsed": false
   },
   "outputs": [
    {
     "name": "stdout",
     "output_type": "stream",
     "text": [
      "Numeric = ['timestamp', 'full_sq', 'life_sq', 'floor', 'max_floor', 'material', 'build_year', 'num_room', 'kitch_sq', 'state', 'area_m', 'raion_popul', 'green_zone_part', 'indust_part', 'children_preschool', 'preschool_quota', 'preschool_education_centers_raion', 'children_school', 'school_quota', 'school_education_centers_raion', 'school_education_centers_top_20_raion', 'hospital_beds_raion', 'healthcare_centers_raion', 'university_top_20_raion', 'sport_objects_raion', 'additional_education_raion', 'culture_objects_top_25_raion', 'shopping_centers_raion', 'office_raion', 'full_all', 'male_f', 'female_f', 'young_all', 'young_male', 'young_female', 'work_all', 'work_male', 'work_female', 'ekder_all', 'ekder_male', 'ekder_female', '0_6_all', '0_6_male', '0_6_female', '7_14_all', '7_14_male', '7_14_female', '0_17_all', '0_17_male', '0_17_female', '16_29_all', '16_29_male', '16_29_female', '0_13_all', '0_13_male', '0_13_female', 'raion_build_count_with_material_info', 'build_count_block', 'build_count_wood', 'build_count_frame', 'build_count_brick', 'build_count_monolith', 'build_count_panel', 'build_count_foam', 'build_count_slag', 'build_count_mix', 'raion_build_count_with_builddate_info', 'build_count_before_1920', 'build_count_1921-1945', 'build_count_1946-1970', 'build_count_1971-1995', 'build_count_after_1995', 'ID_metro', 'metro_min_avto', 'metro_km_avto', 'metro_min_walk', 'metro_km_walk', 'kindergarten_km', 'school_km', 'park_km', 'green_zone_km', 'industrial_km', 'water_treatment_km', 'cemetery_km', 'incineration_km', 'railroad_station_walk_km', 'railroad_station_walk_min', 'ID_railroad_station_walk', 'railroad_station_avto_km', 'railroad_station_avto_min', 'ID_railroad_station_avto', 'public_transport_station_km', 'public_transport_station_min_walk', 'water_km', 'mkad_km', 'ttk_km', 'sadovoe_km', 'bulvar_ring_km', 'kremlin_km', 'big_road1_km', 'ID_big_road1', 'big_road2_km', 'ID_big_road2', 'railroad_km', 'zd_vokzaly_avto_km', 'ID_railroad_terminal', 'bus_terminal_avto_km', 'ID_bus_terminal', 'oil_chemistry_km', 'nuclear_reactor_km', 'radiation_km', 'power_transmission_line_km', 'thermal_power_plant_km', 'ts_km', 'big_market_km', 'market_shop_km', 'fitness_km', 'swim_pool_km', 'ice_rink_km', 'stadium_km', 'basketball_km', 'hospice_morgue_km', 'detention_facility_km', 'public_healthcare_km', 'university_km', 'workplaces_km', 'shopping_centers_km', 'office_km', 'additional_education_km', 'preschool_km', 'big_church_km', 'church_synagogue_km', 'mosque_km', 'theater_km', 'museum_km', 'exhibition_km', 'catering_km', 'green_part_500', 'prom_part_500', 'office_count_500', 'office_sqm_500', 'trc_count_500', 'trc_sqm_500', 'cafe_count_500', 'cafe_sum_500_min_price_avg', 'cafe_sum_500_max_price_avg', 'cafe_avg_price_500', 'cafe_count_500_na_price', 'cafe_count_500_price_500', 'cafe_count_500_price_1000', 'cafe_count_500_price_1500', 'cafe_count_500_price_2500', 'cafe_count_500_price_4000', 'cafe_count_500_price_high', 'big_church_count_500', 'church_count_500', 'mosque_count_500', 'leisure_count_500', 'sport_count_500', 'market_count_500', 'green_part_1000', 'prom_part_1000', 'office_count_1000', 'office_sqm_1000', 'trc_count_1000', 'trc_sqm_1000', 'cafe_count_1000', 'cafe_sum_1000_min_price_avg', 'cafe_sum_1000_max_price_avg', 'cafe_avg_price_1000', 'cafe_count_1000_na_price', 'cafe_count_1000_price_500', 'cafe_count_1000_price_1000', 'cafe_count_1000_price_1500', 'cafe_count_1000_price_2500', 'cafe_count_1000_price_4000', 'cafe_count_1000_price_high', 'big_church_count_1000', 'church_count_1000', 'mosque_count_1000', 'leisure_count_1000', 'sport_count_1000', 'market_count_1000', 'green_part_1500', 'prom_part_1500', 'office_count_1500', 'office_sqm_1500', 'trc_count_1500', 'trc_sqm_1500', 'cafe_count_1500', 'cafe_sum_1500_min_price_avg', 'cafe_sum_1500_max_price_avg', 'cafe_avg_price_1500', 'cafe_count_1500_na_price', 'cafe_count_1500_price_500', 'cafe_count_1500_price_1000', 'cafe_count_1500_price_1500', 'cafe_count_1500_price_2500', 'cafe_count_1500_price_4000', 'cafe_count_1500_price_high', 'big_church_count_1500', 'church_count_1500', 'mosque_count_1500', 'leisure_count_1500', 'sport_count_1500', 'market_count_1500', 'green_part_2000', 'prom_part_2000', 'office_count_2000', 'office_sqm_2000', 'trc_count_2000', 'trc_sqm_2000', 'cafe_count_2000', 'cafe_sum_2000_min_price_avg', 'cafe_sum_2000_max_price_avg', 'cafe_avg_price_2000', 'cafe_count_2000_na_price', 'cafe_count_2000_price_500', 'cafe_count_2000_price_1000', 'cafe_count_2000_price_1500', 'cafe_count_2000_price_2500', 'cafe_count_2000_price_4000', 'cafe_count_2000_price_high', 'big_church_count_2000', 'church_count_2000', 'mosque_count_2000', 'leisure_count_2000', 'sport_count_2000', 'market_count_2000', 'green_part_3000', 'prom_part_3000', 'office_count_3000', 'office_sqm_3000', 'trc_count_3000', 'trc_sqm_3000', 'cafe_count_3000', 'cafe_sum_3000_min_price_avg', 'cafe_sum_3000_max_price_avg', 'cafe_avg_price_3000', 'cafe_count_3000_na_price', 'cafe_count_3000_price_500', 'cafe_count_3000_price_1000', 'cafe_count_3000_price_1500', 'cafe_count_3000_price_2500', 'cafe_count_3000_price_4000', 'cafe_count_3000_price_high', 'big_church_count_3000', 'church_count_3000', 'mosque_count_3000', 'leisure_count_3000', 'sport_count_3000', 'market_count_3000', 'green_part_5000', 'prom_part_5000', 'office_count_5000', 'office_sqm_5000', 'trc_count_5000', 'trc_sqm_5000', 'cafe_count_5000', 'cafe_sum_5000_min_price_avg', 'cafe_sum_5000_max_price_avg', 'cafe_avg_price_5000', 'cafe_count_5000_na_price', 'cafe_count_5000_price_500', 'cafe_count_5000_price_1000', 'cafe_count_5000_price_1500', 'cafe_count_5000_price_2500', 'cafe_count_5000_price_4000', 'cafe_count_5000_price_high', 'big_church_count_5000', 'church_count_5000', 'mosque_count_5000', 'leisure_count_5000', 'sport_count_5000', 'market_count_5000', 'year', 'month', 'day', 'dayofyear', 'rel_floor', 'rel_kitch_sq', 'rel_life_sq', 'product_type_Tencode', 'sub_area_Tencode', 'culture_objects_top_25_Tencode', 'thermal_power_plant_raion_Tencode', 'incineration_raion_Tencode', 'oil_chemistry_raion_Tencode', 'radiation_raion_Tencode', 'railroad_terminal_raion_Tencode', 'big_market_raion_Tencode', 'nuclear_reactor_raion_Tencode', 'detention_facility_raion_Tencode', 'water_1line_Tencode', 'big_road1_1line_Tencode', 'railroad_1line_Tencode', 'ecology_Tencode']\n",
      "\n",
      "Categorical = ['product_type', 'sub_area', 'culture_objects_top_25', 'thermal_power_plant_raion', 'incineration_raion', 'oil_chemistry_raion', 'radiation_raion', 'railroad_terminal_raion', 'big_market_raion', 'nuclear_reactor_raion', 'detention_facility_raion', 'water_1line', 'big_road1_1line', 'railroad_1line', 'ecology']\n"
     ]
    }
   ],
   "source": [
    "encoded_nums, cats = get_type_lists(frame=train)"
   ]
  },
  {
   "cell_type": "markdown",
   "metadata": {},
   "source": [
    "### Log the price"
   ]
  },
  {
   "cell_type": "code",
   "execution_count": 34,
   "metadata": {
    "collapsed": false
   },
   "outputs": [
    {
     "data": {
      "text/html": [
       "<table>\n",
       "<thead>\n",
       "<tr><th style=\"text-align: right;\">  price_doc</th></tr>\n",
       "</thead>\n",
       "<tbody>\n",
       "<tr><td style=\"text-align: right;\">    15.582 </td></tr>\n",
       "<tr><td style=\"text-align: right;\">    15.6073</td></tr>\n",
       "<tr><td style=\"text-align: right;\">    15.556 </td></tr>\n",
       "</tbody>\n",
       "</table>"
      ]
     },
     "metadata": {},
     "output_type": "display_data"
    },
    {
     "name": "stdout",
     "output_type": "stream",
     "text": [
      "\n"
     ]
    },
    {
     "data": {
      "image/png": "[encoded data removed]",
      "text/plain": [
       "<matplotlib.figure.Figure at 0x12b6b24a8>"
      ]
     },
     "metadata": {},
     "output_type": "display_data"
    }
   ],
   "source": [
    "# Check log transform - looks good\n",
    "%matplotlib inline\n",
    "train['price_doc'].log().as_data_frame().hist()\n",
    "\n",
    "# Execute log transform\n",
    "train['price_doc'] = train['price_doc'].log()\n",
    "valid['price_doc'] = valid['price_doc'].log()\n",
    "print(train[0:3, 'price_doc'])\n",
    "#print(valid[0:3, 'price_doc'])"
   ]
  },
  {
   "cell_type": "code",
   "execution_count": 35,
   "metadata": {
    "collapsed": false
   },
   "outputs": [
    {
     "name": "stdout",
     "output_type": "stream",
     "text": [
      "(21378, 314)\n",
      "(9086, 314)\n",
      "(7662, 314)\n"
     ]
    }
   ],
   "source": [
    "print(train.shape)\n",
    "print(valid.shape)\n",
    "print(test.shape)"
   ]
  },
  {
   "cell_type": "markdown",
   "metadata": {},
   "source": [
    "#### Define ranked predictions plot function"
   ]
  },
  {
   "cell_type": "code",
   "execution_count": 36,
   "metadata": {
    "collapsed": true
   },
   "outputs": [],
   "source": [
    "def ranked_preds_plot(y, valid, preds):\n",
    "    \n",
    "    \"\"\" Generates ranked prediction plot.\n",
    "    \n",
    "    :param y: Name of target variable.\n",
    "    :param valid: Name of validation H2OFrame.\n",
    "    :param preds: Column vector of predictions to plot.\n",
    "\n",
    "    \"\"\"\n",
    "    \n",
    "    # plot top frame values\n",
    "    preds.columns = ['predict']\n",
    "    yhat_frame = valid.cbind(preds)\n",
    "    print(yhat_frame[0:10, [y, 'predict']])\n",
    "\n",
    "    # plot sorted predictions\n",
    "    yhat_frame_df = yhat_frame[[y, 'predict']].as_data_frame()\n",
    "    yhat_frame_df.sort_values(by='predict', inplace=True)\n",
    "    yhat_frame_df.reset_index(inplace=True, drop=True)\n",
    "    _ = yhat_frame_df.plot(title='Ranked Predictions Plot')"
   ]
  },
  {
   "cell_type": "markdown",
   "metadata": {},
   "source": [
    "### Variable importance"
   ]
  },
  {
   "cell_type": "code",
   "execution_count": 37,
   "metadata": {
    "collapsed": false
   },
   "outputs": [
    {
     "name": "stdout",
     "output_type": "stream",
     "text": [
      "Model Details\n",
      "=============\n",
      "H2ORandomForestEstimator :  Distributed Random Forest\n",
      "Model Key:  DRF_model_python_1497744124618_3\n",
      "\n",
      "\n",
      "ModelMetricsRegression: drf\n",
      "** Reported on train data. **\n",
      "\n",
      "MSE: 0.24956447929627887\n",
      "RMSE: 0.49956428945259773\n",
      "MAE: 0.3204704382333566\n",
      "RMSLE: 0.03085909215680295\n",
      "Mean Residual Deviance: 0.24956447929627887\n",
      "\n",
      "ModelMetricsRegression: drf\n",
      "** Reported on validation data. **\n",
      "\n",
      "MSE: 0.2680992060867657\n",
      "RMSE: 0.5177829719938323\n",
      "MAE: 0.32716261090030613\n",
      "RMSLE: 0.032132915139929996\n",
      "Mean Residual Deviance: 0.2680992060867657\n",
      "\n",
      "ModelMetricsRegression: drf\n",
      "** Reported on cross-validation data. **\n",
      "\n",
      "MSE: 0.25243450508422716\n",
      "RMSE: 0.5024286069524975\n",
      "MAE: 0.32227814680422334\n",
      "RMSLE: 0.03102577397001638\n",
      "Mean Residual Deviance: 0.25243450508422716\n",
      "Cross-Validation Metrics Summary: \n"
     ]
    },
    {
     "data": {
      "text/html": [
       "<div style=\"overflow:auto\"><table style=\"width:50%\"><tr><td><b></b></td>\n",
       "<td><b>mean</b></td>\n",
       "<td><b>sd</b></td>\n",
       "<td><b>cv_1_valid</b></td>\n",
       "<td><b>cv_2_valid</b></td>\n",
       "<td><b>cv_3_valid</b></td></tr>\n",
       "<tr><td>mae</td>\n",
       "<td>0.3222634</td>\n",
       "<td>0.0038766</td>\n",
       "<td>0.3213457</td>\n",
       "<td>0.3293894</td>\n",
       "<td>0.3160550</td></tr>\n",
       "<tr><td>mean_residual_deviance</td>\n",
       "<td>0.2524235</td>\n",
       "<td>0.0055805</td>\n",
       "<td>0.2475356</td>\n",
       "<td>0.2635569</td>\n",
       "<td>0.2461781</td></tr>\n",
       "<tr><td>mse</td>\n",
       "<td>0.2524235</td>\n",
       "<td>0.0055805</td>\n",
       "<td>0.2475356</td>\n",
       "<td>0.2635569</td>\n",
       "<td>0.2461781</td></tr>\n",
       "<tr><td>r2</td>\n",
       "<td>0.3014792</td>\n",
       "<td>0.0059759</td>\n",
       "<td>0.3110319</td>\n",
       "<td>0.2904825</td>\n",
       "<td>0.3029233</td></tr>\n",
       "<tr><td>residual_deviance</td>\n",
       "<td>0.2524235</td>\n",
       "<td>0.0055805</td>\n",
       "<td>0.2475356</td>\n",
       "<td>0.2635569</td>\n",
       "<td>0.2461781</td></tr>\n",
       "<tr><td>rmse</td>\n",
       "<td>0.5023570</td>\n",
       "<td>0.0055246</td>\n",
       "<td>0.4975295</td>\n",
       "<td>0.5133780</td>\n",
       "<td>0.4961633</td></tr>\n",
       "<tr><td>rmsle</td>\n",
       "<td>0.0310214</td>\n",
       "<td>0.0003432</td>\n",
       "<td>0.0307015</td>\n",
       "<td>0.0317073</td>\n",
       "<td>0.0306553</td></tr></table></div>"
      ],
      "text/plain": [
       "                        mean       sd           cv_1_valid    cv_2_valid    cv_3_valid\n",
       "----------------------  ---------  -----------  ------------  ------------  ------------\n",
       "mae                     0.322263   0.00387657   0.321346      0.329389      0.316055\n",
       "mean_residual_deviance  0.252424   0.00558048   0.247536      0.263557      0.246178\n",
       "mse                     0.252424   0.00558048   0.247536      0.263557      0.246178\n",
       "r2                      0.301479   0.00597587   0.311032      0.290483      0.302923\n",
       "residual_deviance       0.252424   0.00558048   0.247536      0.263557      0.246178\n",
       "rmse                    0.502357   0.00552461   0.497529      0.513378      0.496163\n",
       "rmsle                   0.0310214  0.000343232  0.0307015     0.0317073     0.0306553"
      ]
     },
     "metadata": {},
     "output_type": "display_data"
    },
    {
     "name": "stdout",
     "output_type": "stream",
     "text": [
      "Scoring History: \n"
     ]
    },
    {
     "data": {
      "text/html": [
       "<div style=\"overflow:auto\"><table style=\"width:50%\"><tr><td><b></b></td>\n",
       "<td><b>timestamp</b></td>\n",
       "<td><b>duration</b></td>\n",
       "<td><b>number_of_trees</b></td>\n",
       "<td><b>training_rmse</b></td>\n",
       "<td><b>training_mae</b></td>\n",
       "<td><b>training_deviance</b></td>\n",
       "<td><b>validation_rmse</b></td>\n",
       "<td><b>validation_mae</b></td>\n",
       "<td><b>validation_deviance</b></td></tr>\n",
       "<tr><td></td>\n",
       "<td>2017-06-18 19:31:56</td>\n",
       "<td> 1 min 12.944 sec</td>\n",
       "<td>0.0</td>\n",
       "<td>nan</td>\n",
       "<td>nan</td>\n",
       "<td>nan</td>\n",
       "<td>nan</td>\n",
       "<td>nan</td>\n",
       "<td>nan</td></tr>\n",
       "<tr><td></td>\n",
       "<td>2017-06-18 19:31:56</td>\n",
       "<td> 1 min 13.080 sec</td>\n",
       "<td>1.0</td>\n",
       "<td>0.4911879</td>\n",
       "<td>0.2945486</td>\n",
       "<td>0.2412656</td>\n",
       "<td>0.5342019</td>\n",
       "<td>0.3144698</td>\n",
       "<td>0.2853717</td></tr>\n",
       "<tr><td></td>\n",
       "<td>2017-06-18 19:31:56</td>\n",
       "<td> 1 min 13.213 sec</td>\n",
       "<td>2.0</td>\n",
       "<td>0.5314183</td>\n",
       "<td>0.3333626</td>\n",
       "<td>0.2824054</td>\n",
       "<td>0.5186470</td>\n",
       "<td>0.3138964</td>\n",
       "<td>0.2689947</td></tr>\n",
       "<tr><td></td>\n",
       "<td>2017-06-18 19:31:56</td>\n",
       "<td> 1 min 13.340 sec</td>\n",
       "<td>3.0</td>\n",
       "<td>0.5334070</td>\n",
       "<td>0.3413388</td>\n",
       "<td>0.2845231</td>\n",
       "<td>0.5128716</td>\n",
       "<td>0.3174460</td>\n",
       "<td>0.2630373</td></tr>\n",
       "<tr><td></td>\n",
       "<td>2017-06-18 19:31:56</td>\n",
       "<td> 1 min 13.479 sec</td>\n",
       "<td>4.0</td>\n",
       "<td>0.5226856</td>\n",
       "<td>0.3276008</td>\n",
       "<td>0.2732002</td>\n",
       "<td>0.5025890</td>\n",
       "<td>0.3045899</td>\n",
       "<td>0.2525958</td></tr>\n",
       "<tr><td>---</td>\n",
       "<td>---</td>\n",
       "<td>---</td>\n",
       "<td>---</td>\n",
       "<td>---</td>\n",
       "<td>---</td>\n",
       "<td>---</td>\n",
       "<td>---</td>\n",
       "<td>---</td>\n",
       "<td>---</td></tr>\n",
       "<tr><td></td>\n",
       "<td>2017-06-18 19:32:18</td>\n",
       "<td> 1 min 35.609 sec</td>\n",
       "<td>97.0</td>\n",
       "<td>0.4993560</td>\n",
       "<td>0.3202965</td>\n",
       "<td>0.2493565</td>\n",
       "<td>0.5174016</td>\n",
       "<td>0.3267523</td>\n",
       "<td>0.2677044</td></tr>\n",
       "<tr><td></td>\n",
       "<td>2017-06-18 19:32:19</td>\n",
       "<td> 1 min 35.944 sec</td>\n",
       "<td>98.0</td>\n",
       "<td>0.4993914</td>\n",
       "<td>0.3204283</td>\n",
       "<td>0.2493918</td>\n",
       "<td>0.5174133</td>\n",
       "<td>0.3268850</td>\n",
       "<td>0.2677165</td></tr>\n",
       "<tr><td></td>\n",
       "<td>2017-06-18 19:32:19</td>\n",
       "<td> 1 min 36.261 sec</td>\n",
       "<td>99.0</td>\n",
       "<td>0.4996081</td>\n",
       "<td>0.3206310</td>\n",
       "<td>0.2496083</td>\n",
       "<td>0.5176800</td>\n",
       "<td>0.3271624</td>\n",
       "<td>0.2679926</td></tr>\n",
       "<tr><td></td>\n",
       "<td>2017-06-18 19:32:19</td>\n",
       "<td> 1 min 36.602 sec</td>\n",
       "<td>100.0</td>\n",
       "<td>0.4993749</td>\n",
       "<td>0.3202534</td>\n",
       "<td>0.2493753</td>\n",
       "<td>0.5174835</td>\n",
       "<td>0.3268779</td>\n",
       "<td>0.2677892</td></tr>\n",
       "<tr><td></td>\n",
       "<td>2017-06-18 19:32:20</td>\n",
       "<td> 1 min 36.927 sec</td>\n",
       "<td>101.0</td>\n",
       "<td>0.4995643</td>\n",
       "<td>0.3204704</td>\n",
       "<td>0.2495645</td>\n",
       "<td>0.5177830</td>\n",
       "<td>0.3271626</td>\n",
       "<td>0.2680992</td></tr></table></div>"
      ],
      "text/plain": [
       "     timestamp            duration          number_of_trees    training_rmse        training_mae         training_deviance    validation_rmse     validation_mae       validation_deviance\n",
       "---  -------------------  ----------------  -----------------  -------------------  -------------------  -------------------  ------------------  -------------------  ---------------------\n",
       "     2017-06-18 19:31:56  1 min 12.944 sec  0.0                nan                  nan                  nan                  nan                 nan                  nan\n",
       "     2017-06-18 19:31:56  1 min 13.080 sec  1.0                0.4911879158089162   0.2945485939978428   0.24126556863670695  0.534201903574063   0.3144698067433557   0.2853716737821526\n",
       "     2017-06-18 19:31:56  1 min 13.213 sec  2.0                0.5314182987950499   0.3333625957990283   0.2824054082942249   0.5186470094343568  0.31389636539977317  0.26899472039520184\n",
       "     2017-06-18 19:31:56  1 min 13.340 sec  3.0                0.533407041654555    0.3413387965342145   0.28452307208666416  0.5128715836343642  0.3174459914117121   0.2630372612996207\n",
       "     2017-06-18 19:31:56  1 min 13.479 sec  4.0                0.5226856129528893   0.32760083076063684  0.2732002499879376   0.5025890474043673  0.30458985045699855  0.25259575057082934\n",
       "---  ---                  ---               ---                ---                  ---                  ---                  ---                 ---                  ---\n",
       "     2017-06-18 19:32:18  1 min 35.609 sec  97.0               0.4993560421955013   0.3202965023174519   0.24935645687715524  0.5174015763716207  0.3267522653299209   0.267704391231838\n",
       "     2017-06-18 19:32:19  1 min 35.944 sec  98.0               0.49939142695007355  0.3204282535013968   0.24939179731123065  0.5174133150832925  0.32688496239387     0.26771653862548245\n",
       "     2017-06-18 19:32:19  1 min 36.261 sec  99.0               0.4996081273186041   0.3206309787501268   0.2496082808828025   0.5176799884399222  0.3271623663449287   0.267992570431158\n",
       "     2017-06-18 19:32:19  1 min 36.602 sec  100.0              0.4993748775332556   0.3202534142424607   0.249375268311354    0.5174834897870932  0.3268779477447553   0.2677891622022286\n",
       "     2017-06-18 19:32:20  1 min 36.927 sec  101.0              0.49956428945259773  0.3204704382333566   0.24956447929627887  0.5177829719938323  0.32716261090030613  0.2680992060867657"
      ]
     },
     "metadata": {},
     "output_type": "display_data"
    },
    {
     "name": "stdout",
     "output_type": "stream",
     "text": [
      "\n",
      "See the whole table with table.as_data_frame()\n",
      "Variable Importances: \n"
     ]
    },
    {
     "data": {
      "text/html": [
       "<div style=\"overflow:auto\"><table style=\"width:50%\"><tr><td><b>variable</b></td>\n",
       "<td><b>relative_importance</b></td>\n",
       "<td><b>scaled_importance</b></td>\n",
       "<td><b>percentage</b></td></tr>\n",
       "<tr><td>sub_area_Tencode</td>\n",
       "<td>13842.0322266</td>\n",
       "<td>1.0</td>\n",
       "<td>0.0582354</td></tr>\n",
       "<tr><td>num_room</td>\n",
       "<td>13775.5302734</td>\n",
       "<td>0.9951957</td>\n",
       "<td>0.0579557</td></tr>\n",
       "<tr><td>full_sq</td>\n",
       "<td>13105.7675781</td>\n",
       "<td>0.9468095</td>\n",
       "<td>0.0551379</td></tr>\n",
       "<tr><td>life_sq</td>\n",
       "<td>8130.4121094</td>\n",
       "<td>0.5873713</td>\n",
       "<td>0.0342058</td></tr>\n",
       "<tr><td>cafe_count_2000</td>\n",
       "<td>4392.7954102</td>\n",
       "<td>0.3173519</td>\n",
       "<td>0.0184811</td></tr>\n",
       "<tr><td>---</td>\n",
       "<td>---</td>\n",
       "<td>---</td>\n",
       "<td>---</td></tr>\n",
       "<tr><td>railroad_terminal_raion_Tencode</td>\n",
       "<td>8.5154839</td>\n",
       "<td>0.0006152</td>\n",
       "<td>0.0000358</td></tr>\n",
       "<tr><td>detention_facility_raion_Tencode</td>\n",
       "<td>7.3217444</td>\n",
       "<td>0.0005290</td>\n",
       "<td>0.0000308</td></tr>\n",
       "<tr><td>incineration_raion_Tencode</td>\n",
       "<td>4.8688302</td>\n",
       "<td>0.0003517</td>\n",
       "<td>0.0000205</td></tr>\n",
       "<tr><td>big_market_raion_Tencode</td>\n",
       "<td>0.5154082</td>\n",
       "<td>0.0000372</td>\n",
       "<td>0.0000022</td></tr>\n",
       "<tr><td>oil_chemistry_raion_Tencode</td>\n",
       "<td>0.0</td>\n",
       "<td>0.0</td>\n",
       "<td>0.0</td></tr></table></div>"
      ],
      "text/plain": [
       "variable                          relative_importance    scaled_importance       percentage\n",
       "--------------------------------  ---------------------  ----------------------  ----------------------\n",
       "sub_area_Tencode                  13842.0322265625       1.0                     0.05823544537846408\n",
       "num_room                          13775.5302734375       0.9951956510405037      0.057955661977054256\n",
       "full_sq                           13105.767578125        0.9468094975949682      0.055137872781002795\n",
       "life_sq                           8130.412109375         0.5873712744125065      0.03420582776792836\n",
       "cafe_count_2000                   4392.79541015625       0.31735191323471923     0.018481130008931566\n",
       "---                               ---                    ---                     ---\n",
       "railroad_terminal_raion_Tencode   8.515483856201172      0.0006151902926407136   3.582588068443961e-05\n",
       "detention_facility_raion_Tencode  7.321744441986084      0.0005289501080582551   3.080364512575919e-05\n",
       "incineration_raion_Tencode        4.86883020401001       0.00035174244101721216  2.0483877711145484e-05\n",
       "big_market_raion_Tencode          0.5154081583023071     3.723500638246256e-05   2.1683971803526603e-06\n",
       "oil_chemistry_raion_Tencode       0.0                    0.0                     0.0"
      ]
     },
     "metadata": {},
     "output_type": "display_data"
    },
    {
     "name": "stdout",
     "output_type": "stream",
     "text": [
      "\n",
      "See the whole table with table.as_data_frame()\n",
      "\n"
     ]
    },
    {
     "data": {
      "text/html": [
       "<table>\n",
       "<thead>\n",
       "<tr><th style=\"text-align: right;\">  price_doc</th><th style=\"text-align: right;\">  predict</th></tr>\n",
       "</thead>\n",
       "<tbody>\n",
       "<tr><td style=\"text-align: right;\">    16.3881</td><td style=\"text-align: right;\">  15.8063</td></tr>\n",
       "<tr><td style=\"text-align: right;\">    14.5087</td><td style=\"text-align: right;\">  15.5958</td></tr>\n",
       "<tr><td style=\"text-align: right;\">    14.5087</td><td style=\"text-align: right;\">  15.513 </td></tr>\n",
       "<tr><td style=\"text-align: right;\">    14.4307</td><td style=\"text-align: right;\">  15.6437</td></tr>\n",
       "<tr><td style=\"text-align: right;\">    15.6561</td><td style=\"text-align: right;\">  15.4678</td></tr>\n",
       "<tr><td style=\"text-align: right;\">    15.8824</td><td style=\"text-align: right;\">  15.4255</td></tr>\n",
       "<tr><td style=\"text-align: right;\">    15.4642</td><td style=\"text-align: right;\">  15.5258</td></tr>\n",
       "<tr><td style=\"text-align: right;\">    15.5905</td><td style=\"text-align: right;\">  15.5181</td></tr>\n",
       "<tr><td style=\"text-align: right;\">    16.7224</td><td style=\"text-align: right;\">  15.6361</td></tr>\n",
       "<tr><td style=\"text-align: right;\">    15.556 </td><td style=\"text-align: right;\">  15.4692</td></tr>\n",
       "</tbody>\n",
       "</table>"
      ]
     },
     "metadata": {},
     "output_type": "display_data"
    },
    {
     "name": "stdout",
     "output_type": "stream",
     "text": [
      "\n"
     ]
    },
    {
     "data": {
      "image/png": "[encoded data removed]",
      "text/plain": [
       "<matplotlib.figure.Figure at 0x10c939f28>"
      ]
     },
     "metadata": {},
     "output_type": "display_data"
    }
   ],
   "source": [
    "# initialize rf model\n",
    "rf_model1 = H2ORandomForestEstimator(\n",
    "    ntrees=10000,                    \n",
    "    max_depth=10, \n",
    "    col_sample_rate_per_tree=0.1,\n",
    "    sample_rate=0.8,\n",
    "    stopping_rounds=50,\n",
    "    score_each_iteration=True,\n",
    "    nfolds=3,\n",
    "    keep_cross_validation_predictions=True,\n",
    "    seed=12345)           \n",
    "\n",
    "# train rf model\n",
    "rf_model1.train(\n",
    "    x=encoded_nums,\n",
    "    y='price_doc',\n",
    "    training_frame=train,\n",
    "    validation_frame=valid)\n",
    "\n",
    "# print model information\n",
    "print(rf_model1)\n",
    "\n",
    "rf_preds1_val = rf_model1.predict(valid)\n",
    "ranked_preds_plot('price_doc', valid, rf_preds1_val) # valid RMSE not so hot ...\n",
    "rf_preds1_test = rf_model1.predict(test)"
   ]
  },
  {
   "cell_type": "code",
   "execution_count": 38,
   "metadata": {
    "collapsed": false
   },
   "outputs": [],
   "source": [
    "l = rf_model1.varimp()\n",
    "FI = [i[0] for i in l[:50]]"
   ]
  },
  {
   "cell_type": "code",
   "execution_count": 39,
   "metadata": {
    "collapsed": false
   },
   "outputs": [
    {
     "name": "stdout",
     "output_type": "stream",
     "text": [
      "['sub_area_Tencode', 'num_room', 'full_sq', 'life_sq', 'cafe_count_2000', 'sport_count_3000', 'cafe_count_3000', 'cafe_count_3000_price_1000', 'rel_kitch_sq', 'kitch_sq', 'nuclear_reactor_km', 'cafe_count_5000_price_high', 'cafe_count_5000_price_1000', 'max_floor', 'cafe_count_5000_price_1500', 'cafe_count_2000_price_1500', 'cafe_count_3000_price_2500', 'office_sqm_5000', 'cafe_count_3000_price_1500', 'cafe_count_2000_price_1000', 'sport_count_2000', 'bulvar_ring_km', 'cafe_count_5000', 'cafe_count_1500_price_2500', 'cafe_sum_5000_min_price_avg', 'timestamp', 'state', 'cafe_count_5000_price_2500', 'metro_min_avto', 'cafe_count_2000_price_2500', 'industrial_km', 'product_type_Tencode', 'prom_part_5000', 'material', 'trc_count_3000', 'ttk_km', 'year', 'cafe_sum_5000_max_price_avg', 'big_church_km', 'market_shop_km', 'workplaces_km', 'ts_km', 'build_year', 'basketball_km', 'catering_km', 'railroad_station_avto_km', 'public_healthcare_km', 'rel_life_sq', 'railroad_km', 'swim_pool_km']\n"
     ]
    }
   ],
   "source": [
    "print(FI)"
   ]
  },
  {
   "cell_type": "markdown",
   "metadata": {
    "collapsed": true
   },
   "source": [
    "### Create combination features"
   ]
  },
  {
   "cell_type": "code",
   "execution_count": 40,
   "metadata": {
    "collapsed": true
   },
   "outputs": [],
   "source": [
    "def feature_combiner(training_frame, test_frame, nums):\n",
    "    total = len(nums)\n",
    "    \n",
    "    # convert to pandas\n",
    "    train_df = training_frame.as_data_frame()\n",
    "    test_df = test_frame.as_data_frame()\n",
    "    \n",
    "    for i, col_i in enumerate(nums):\n",
    "        \n",
    "        print('Combining: ' + col_i + ' (' + str(i+1) + '/' + str(total) + ') ...')        \n",
    "        \n",
    "        for j, col_j in enumerate(nums):\n",
    "            \n",
    "            # don't repeat (i*j = j*i)\n",
    "            if i < j:\n",
    "                \n",
    "                # convert to pandas\n",
    "                col_i_train_df = train_df[col_i]\n",
    "                col_j_train_df = train_df[col_j]\n",
    "                col_i_test_df = test_df[col_i]\n",
    "                col_j_test_df = test_df[col_j] \n",
    "\n",
    "                # multiply, convert back to h2o\n",
    "                train_df[str(col_i + '|' + col_j)] = col_i_train_df.values*col_j_train_df.values\n",
    "                test_df[str(col_i + '|' + col_j)] = col_i_test_df.values*col_j_test_df.values\n",
    "                \n",
    "    print('Done.')\n",
    "    \n",
    "    # convert back to h2o\n",
    "    \n",
    "    print('Converting to H2OFrame ...')\n",
    "    \n",
    "    training_frame = h2o.H2OFrame(train_df)\n",
    "    training_frame.columns = list(train_df)\n",
    "    test_frame = h2o.H2OFrame(test_df)\n",
    "    test_frame.columns = list(test_df)\n",
    "    \n",
    "    print('Done.')\n",
    "    print()\n",
    "    \n",
    "    # conserve memory \n",
    "    del train_df\n",
    "    del test_df \n",
    "    \n",
    "    return training_frame, test_frame"
   ]
  },
  {
   "cell_type": "code",
   "execution_count": 41,
   "metadata": {
    "collapsed": false
   },
   "outputs": [
    {
     "name": "stdout",
     "output_type": "stream",
     "text": [
      "Combining: sub_area_Tencode (1/50) ...\n",
      "Combining: num_room (2/50) ...\n",
      "Combining: full_sq (3/50) ...\n",
      "Combining: life_sq (4/50) ...\n",
      "Combining: cafe_count_2000 (5/50) ...\n",
      "Combining: sport_count_3000 (6/50) ...\n",
      "Combining: cafe_count_3000 (7/50) ...\n",
      "Combining: cafe_count_3000_price_1000 (8/50) ...\n",
      "Combining: rel_kitch_sq (9/50) ...\n",
      "Combining: kitch_sq (10/50) ...\n",
      "Combining: nuclear_reactor_km (11/50) ...\n",
      "Combining: cafe_count_5000_price_high (12/50) ...\n",
      "Combining: cafe_count_5000_price_1000 (13/50) ...\n",
      "Combining: max_floor (14/50) ...\n",
      "Combining: cafe_count_5000_price_1500 (15/50) ...\n",
      "Combining: cafe_count_2000_price_1500 (16/50) ...\n",
      "Combining: cafe_count_3000_price_2500 (17/50) ...\n",
      "Combining: office_sqm_5000 (18/50) ...\n",
      "Combining: cafe_count_3000_price_1500 (19/50) ...\n",
      "Combining: cafe_count_2000_price_1000 (20/50) ...\n",
      "Combining: sport_count_2000 (21/50) ...\n",
      "Combining: bulvar_ring_km (22/50) ...\n",
      "Combining: cafe_count_5000 (23/50) ...\n",
      "Combining: cafe_count_1500_price_2500 (24/50) ...\n",
      "Combining: cafe_sum_5000_min_price_avg (25/50) ...\n",
      "Combining: timestamp (26/50) ...\n",
      "Combining: state (27/50) ...\n",
      "Combining: cafe_count_5000_price_2500 (28/50) ...\n",
      "Combining: metro_min_avto (29/50) ...\n",
      "Combining: cafe_count_2000_price_2500 (30/50) ...\n",
      "Combining: industrial_km (31/50) ...\n",
      "Combining: product_type_Tencode (32/50) ...\n",
      "Combining: prom_part_5000 (33/50) ...\n",
      "Combining: material (34/50) ...\n",
      "Combining: trc_count_3000 (35/50) ...\n",
      "Combining: ttk_km (36/50) ...\n",
      "Combining: year (37/50) ...\n",
      "Combining: cafe_sum_5000_max_price_avg (38/50) ...\n",
      "Combining: big_church_km (39/50) ...\n",
      "Combining: market_shop_km (40/50) ...\n",
      "Combining: workplaces_km (41/50) ...\n",
      "Combining: ts_km (42/50) ...\n",
      "Combining: build_year (43/50) ...\n",
      "Combining: basketball_km (44/50) ...\n",
      "Combining: catering_km (45/50) ...\n",
      "Combining: railroad_station_avto_km (46/50) ...\n",
      "Combining: public_healthcare_km (47/50) ...\n",
      "Combining: rel_life_sq (48/50) ...\n",
      "Combining: railroad_km (49/50) ...\n",
      "Combining: swim_pool_km (50/50) ...\n",
      "Done.\n",
      "Converting to H2OFrame ...\n",
      "Done.\n",
      "\n",
      "Combining: sub_area_Tencode (1/50) ...\n",
      "Combining: num_room (2/50) ...\n",
      "Combining: full_sq (3/50) ...\n",
      "Combining: life_sq (4/50) ...\n",
      "Combining: cafe_count_2000 (5/50) ...\n",
      "Combining: sport_count_3000 (6/50) ...\n",
      "Combining: cafe_count_3000 (7/50) ...\n",
      "Combining: cafe_count_3000_price_1000 (8/50) ...\n",
      "Combining: rel_kitch_sq (9/50) ...\n",
      "Combining: kitch_sq (10/50) ...\n",
      "Combining: nuclear_reactor_km (11/50) ...\n",
      "Combining: cafe_count_5000_price_high (12/50) ...\n",
      "Combining: cafe_count_5000_price_1000 (13/50) ...\n",
      "Combining: max_floor (14/50) ...\n",
      "Combining: cafe_count_5000_price_1500 (15/50) ...\n",
      "Combining: cafe_count_2000_price_1500 (16/50) ...\n",
      "Combining: cafe_count_3000_price_2500 (17/50) ...\n",
      "Combining: office_sqm_5000 (18/50) ...\n",
      "Combining: cafe_count_3000_price_1500 (19/50) ...\n",
      "Combining: cafe_count_2000_price_1000 (20/50) ...\n",
      "Combining: sport_count_2000 (21/50) ...\n",
      "Combining: bulvar_ring_km (22/50) ...\n",
      "Combining: cafe_count_5000 (23/50) ...\n",
      "Combining: cafe_count_1500_price_2500 (24/50) ...\n",
      "Combining: cafe_sum_5000_min_price_avg (25/50) ...\n",
      "Combining: timestamp (26/50) ...\n",
      "Combining: state (27/50) ...\n",
      "Combining: cafe_count_5000_price_2500 (28/50) ...\n",
      "Combining: metro_min_avto (29/50) ...\n",
      "Combining: cafe_count_2000_price_2500 (30/50) ...\n",
      "Combining: industrial_km (31/50) ...\n",
      "Combining: product_type_Tencode (32/50) ...\n",
      "Combining: prom_part_5000 (33/50) ...\n",
      "Combining: material (34/50) ...\n",
      "Combining: trc_count_3000 (35/50) ...\n",
      "Combining: ttk_km (36/50) ...\n",
      "Combining: year (37/50) ...\n",
      "Combining: cafe_sum_5000_max_price_avg (38/50) ...\n",
      "Combining: big_church_km (39/50) ...\n",
      "Combining: market_shop_km (40/50) ...\n",
      "Combining: workplaces_km (41/50) ...\n",
      "Combining: ts_km (42/50) ...\n",
      "Combining: build_year (43/50) ...\n",
      "Combining: basketball_km (44/50) ...\n",
      "Combining: catering_km (45/50) ...\n",
      "Combining: railroad_station_avto_km (46/50) ...\n",
      "Combining: public_healthcare_km (47/50) ...\n",
      "Combining: rel_life_sq (48/50) ...\n",
      "Combining: railroad_km (49/50) ...\n",
      "Combining: swim_pool_km (50/50) ...\n",
      "Done.\n",
      "Converting to H2OFrame ...\n",
      "Done.\n",
      "\n"
     ]
    }
   ],
   "source": [
    "train, _ = feature_combiner(train, test, FI)\n",
    "valid, test = feature_combiner(valid, test, FI)"
   ]
  },
  {
   "cell_type": "code",
   "execution_count": 42,
   "metadata": {
    "collapsed": false
   },
   "outputs": [
    {
     "name": "stdout",
     "output_type": "stream",
     "text": [
      "Numeric = ['timestamp', 'full_sq', 'life_sq', 'floor', 'max_floor', 'material', 'build_year', 'num_room', 'kitch_sq', 'state', 'area_m', 'raion_popul', 'green_zone_part', 'indust_part', 'children_preschool', 'preschool_quota', 'preschool_education_centers_raion', 'children_school', 'school_quota', 'school_education_centers_raion', 'school_education_centers_top_20_raion', 'hospital_beds_raion', 'healthcare_centers_raion', 'university_top_20_raion', 'sport_objects_raion', 'additional_education_raion', 'culture_objects_top_25_raion', 'shopping_centers_raion', 'office_raion', 'full_all', 'male_f', 'female_f', 'young_all', 'young_male', 'young_female', 'work_all', 'work_male', 'work_female', 'ekder_all', 'ekder_male', 'ekder_female', '0_6_all', '0_6_male', '0_6_female', '7_14_all', '7_14_male', '7_14_female', '0_17_all', '0_17_male', '0_17_female', '16_29_all', '16_29_male', '16_29_female', '0_13_all', '0_13_male', '0_13_female', 'raion_build_count_with_material_info', 'build_count_block', 'build_count_wood', 'build_count_frame', 'build_count_brick', 'build_count_monolith', 'build_count_panel', 'build_count_foam', 'build_count_slag', 'build_count_mix', 'raion_build_count_with_builddate_info', 'build_count_before_1920', 'build_count_1921-1945', 'build_count_1946-1970', 'build_count_1971-1995', 'build_count_after_1995', 'ID_metro', 'metro_min_avto', 'metro_km_avto', 'metro_min_walk', 'metro_km_walk', 'kindergarten_km', 'school_km', 'park_km', 'green_zone_km', 'industrial_km', 'water_treatment_km', 'cemetery_km', 'incineration_km', 'railroad_station_walk_km', 'railroad_station_walk_min', 'ID_railroad_station_walk', 'railroad_station_avto_km', 'railroad_station_avto_min', 'ID_railroad_station_avto', 'public_transport_station_km', 'public_transport_station_min_walk', 'water_km', 'mkad_km', 'ttk_km', 'sadovoe_km', 'bulvar_ring_km', 'kremlin_km', 'big_road1_km', 'ID_big_road1', 'big_road2_km', 'ID_big_road2', 'railroad_km', 'zd_vokzaly_avto_km', 'ID_railroad_terminal', 'bus_terminal_avto_km', 'ID_bus_terminal', 'oil_chemistry_km', 'nuclear_reactor_km', 'radiation_km', 'power_transmission_line_km', 'thermal_power_plant_km', 'ts_km', 'big_market_km', 'market_shop_km', 'fitness_km', 'swim_pool_km', 'ice_rink_km', 'stadium_km', 'basketball_km', 'hospice_morgue_km', 'detention_facility_km', 'public_healthcare_km', 'university_km', 'workplaces_km', 'shopping_centers_km', 'office_km', 'additional_education_km', 'preschool_km', 'big_church_km', 'church_synagogue_km', 'mosque_km', 'theater_km', 'museum_km', 'exhibition_km', 'catering_km', 'green_part_500', 'prom_part_500', 'office_count_500', 'office_sqm_500', 'trc_count_500', 'trc_sqm_500', 'cafe_count_500', 'cafe_sum_500_min_price_avg', 'cafe_sum_500_max_price_avg', 'cafe_avg_price_500', 'cafe_count_500_na_price', 'cafe_count_500_price_500', 'cafe_count_500_price_1000', 'cafe_count_500_price_1500', 'cafe_count_500_price_2500', 'cafe_count_500_price_4000', 'cafe_count_500_price_high', 'big_church_count_500', 'church_count_500', 'mosque_count_500', 'leisure_count_500', 'sport_count_500', 'market_count_500', 'green_part_1000', 'prom_part_1000', 'office_count_1000', 'office_sqm_1000', 'trc_count_1000', 'trc_sqm_1000', 'cafe_count_1000', 'cafe_sum_1000_min_price_avg', 'cafe_sum_1000_max_price_avg', 'cafe_avg_price_1000', 'cafe_count_1000_na_price', 'cafe_count_1000_price_500', 'cafe_count_1000_price_1000', 'cafe_count_1000_price_1500', 'cafe_count_1000_price_2500', 'cafe_count_1000_price_4000', 'cafe_count_1000_price_high', 'big_church_count_1000', 'church_count_1000', 'mosque_count_1000', 'leisure_count_1000', 'sport_count_1000', 'market_count_1000', 'green_part_1500', 'prom_part_1500', 'office_count_1500', 'office_sqm_1500', 'trc_count_1500', 'trc_sqm_1500', 'cafe_count_1500', 'cafe_sum_1500_min_price_avg', 'cafe_sum_1500_max_price_avg', 'cafe_avg_price_1500', 'cafe_count_1500_na_price', 'cafe_count_1500_price_500', 'cafe_count_1500_price_1000', 'cafe_count_1500_price_1500', 'cafe_count_1500_price_2500', 'cafe_count_1500_price_4000', 'cafe_count_1500_price_high', 'big_church_count_1500', 'church_count_1500', 'mosque_count_1500', 'leisure_count_1500', 'sport_count_1500', 'market_count_1500', 'green_part_2000', 'prom_part_2000', 'office_count_2000', 'office_sqm_2000', 'trc_count_2000', 'trc_sqm_2000', 'cafe_count_2000', 'cafe_sum_2000_min_price_avg', 'cafe_sum_2000_max_price_avg', 'cafe_avg_price_2000', 'cafe_count_2000_na_price', 'cafe_count_2000_price_500', 'cafe_count_2000_price_1000', 'cafe_count_2000_price_1500', 'cafe_count_2000_price_2500', 'cafe_count_2000_price_4000', 'cafe_count_2000_price_high', 'big_church_count_2000', 'church_count_2000', 'mosque_count_2000', 'leisure_count_2000', 'sport_count_2000', 'market_count_2000', 'green_part_3000', 'prom_part_3000', 'office_count_3000', 'office_sqm_3000', 'trc_count_3000', 'trc_sqm_3000', 'cafe_count_3000', 'cafe_sum_3000_min_price_avg', 'cafe_sum_3000_max_price_avg', 'cafe_avg_price_3000', 'cafe_count_3000_na_price', 'cafe_count_3000_price_500', 'cafe_count_3000_price_1000', 'cafe_count_3000_price_1500', 'cafe_count_3000_price_2500', 'cafe_count_3000_price_4000', 'cafe_count_3000_price_high', 'big_church_count_3000', 'church_count_3000', 'mosque_count_3000', 'leisure_count_3000', 'sport_count_3000', 'market_count_3000', 'green_part_5000', 'prom_part_5000', 'office_count_5000', 'office_sqm_5000', 'trc_count_5000', 'trc_sqm_5000', 'cafe_count_5000', 'cafe_sum_5000_min_price_avg', 'cafe_sum_5000_max_price_avg', 'cafe_avg_price_5000', 'cafe_count_5000_na_price', 'cafe_count_5000_price_500', 'cafe_count_5000_price_1000', 'cafe_count_5000_price_1500', 'cafe_count_5000_price_2500', 'cafe_count_5000_price_4000', 'cafe_count_5000_price_high', 'big_church_count_5000', 'church_count_5000', 'mosque_count_5000', 'leisure_count_5000', 'sport_count_5000', 'market_count_5000', 'year', 'month', 'day', 'dayofyear', 'rel_floor', 'rel_kitch_sq', 'rel_life_sq', 'product_type_Tencode', 'sub_area_Tencode', 'culture_objects_top_25_Tencode', 'thermal_power_plant_raion_Tencode', 'incineration_raion_Tencode', 'oil_chemistry_raion_Tencode', 'radiation_raion_Tencode', 'railroad_terminal_raion_Tencode', 'big_market_raion_Tencode', 'nuclear_reactor_raion_Tencode', 'detention_facility_raion_Tencode', 'water_1line_Tencode', 'big_road1_1line_Tencode', 'railroad_1line_Tencode', 'ecology_Tencode', 'sub_area_Tencode|num_room', 'sub_area_Tencode|full_sq', 'sub_area_Tencode|life_sq', 'sub_area_Tencode|cafe_count_2000', 'sub_area_Tencode|sport_count_3000', 'sub_area_Tencode|cafe_count_3000', 'sub_area_Tencode|cafe_count_3000_price_1000', 'sub_area_Tencode|rel_kitch_sq', 'sub_area_Tencode|kitch_sq', 'sub_area_Tencode|nuclear_reactor_km', 'sub_area_Tencode|cafe_count_5000_price_high', 'sub_area_Tencode|cafe_count_5000_price_1000', 'sub_area_Tencode|max_floor', 'sub_area_Tencode|cafe_count_5000_price_1500', 'sub_area_Tencode|cafe_count_2000_price_1500', 'sub_area_Tencode|cafe_count_3000_price_2500', 'sub_area_Tencode|office_sqm_5000', 'sub_area_Tencode|cafe_count_3000_price_1500', 'sub_area_Tencode|cafe_count_2000_price_1000', 'sub_area_Tencode|sport_count_2000', 'sub_area_Tencode|bulvar_ring_km', 'sub_area_Tencode|cafe_count_5000', 'sub_area_Tencode|cafe_count_1500_price_2500', 'sub_area_Tencode|cafe_sum_5000_min_price_avg', 'sub_area_Tencode|timestamp', 'sub_area_Tencode|state', 'sub_area_Tencode|cafe_count_5000_price_2500', 'sub_area_Tencode|metro_min_avto', 'sub_area_Tencode|cafe_count_2000_price_2500', 'sub_area_Tencode|industrial_km', 'sub_area_Tencode|product_type_Tencode', 'sub_area_Tencode|prom_part_5000', 'sub_area_Tencode|material', 'sub_area_Tencode|trc_count_3000', 'sub_area_Tencode|ttk_km', 'sub_area_Tencode|year', 'sub_area_Tencode|cafe_sum_5000_max_price_avg', 'sub_area_Tencode|big_church_km', 'sub_area_Tencode|market_shop_km', 'sub_area_Tencode|workplaces_km', 'sub_area_Tencode|ts_km', 'sub_area_Tencode|build_year', 'sub_area_Tencode|basketball_km', 'sub_area_Tencode|catering_km', 'sub_area_Tencode|railroad_station_avto_km', 'sub_area_Tencode|public_healthcare_km', 'sub_area_Tencode|rel_life_sq', 'sub_area_Tencode|railroad_km', 'sub_area_Tencode|swim_pool_km', 'num_room|full_sq', 'num_room|life_sq', 'num_room|cafe_count_2000', 'num_room|sport_count_3000', 'num_room|cafe_count_3000', 'num_room|cafe_count_3000_price_1000', 'num_room|rel_kitch_sq', 'num_room|kitch_sq', 'num_room|nuclear_reactor_km', 'num_room|cafe_count_5000_price_high', 'num_room|cafe_count_5000_price_1000', 'num_room|max_floor', 'num_room|cafe_count_5000_price_1500', 'num_room|cafe_count_2000_price_1500', 'num_room|cafe_count_3000_price_2500', 'num_room|office_sqm_5000', 'num_room|cafe_count_3000_price_1500', 'num_room|cafe_count_2000_price_1000', 'num_room|sport_count_2000', 'num_room|bulvar_ring_km', 'num_room|cafe_count_5000', 'num_room|cafe_count_1500_price_2500', 'num_room|cafe_sum_5000_min_price_avg', 'num_room|timestamp', 'num_room|state', 'num_room|cafe_count_5000_price_2500', 'num_room|metro_min_avto', 'num_room|cafe_count_2000_price_2500', 'num_room|industrial_km', 'num_room|product_type_Tencode', 'num_room|prom_part_5000', 'num_room|material', 'num_room|trc_count_3000', 'num_room|ttk_km', 'num_room|year', 'num_room|cafe_sum_5000_max_price_avg', 'num_room|big_church_km', 'num_room|market_shop_km', 'num_room|workplaces_km', 'num_room|ts_km', 'num_room|build_year', 'num_room|basketball_km', 'num_room|catering_km', 'num_room|railroad_station_avto_km', 'num_room|public_healthcare_km', 'num_room|rel_life_sq', 'num_room|railroad_km', 'num_room|swim_pool_km', 'full_sq|life_sq', 'full_sq|cafe_count_2000', 'full_sq|sport_count_3000', 'full_sq|cafe_count_3000', 'full_sq|cafe_count_3000_price_1000', 'full_sq|rel_kitch_sq', 'full_sq|kitch_sq', 'full_sq|nuclear_reactor_km', 'full_sq|cafe_count_5000_price_high', 'full_sq|cafe_count_5000_price_1000', 'full_sq|max_floor', 'full_sq|cafe_count_5000_price_1500', 'full_sq|cafe_count_2000_price_1500', 'full_sq|cafe_count_3000_price_2500', 'full_sq|office_sqm_5000', 'full_sq|cafe_count_3000_price_1500', 'full_sq|cafe_count_2000_price_1000', 'full_sq|sport_count_2000', 'full_sq|bulvar_ring_km', 'full_sq|cafe_count_5000', 'full_sq|cafe_count_1500_price_2500', 'full_sq|cafe_sum_5000_min_price_avg', 'full_sq|timestamp', 'full_sq|state', 'full_sq|cafe_count_5000_price_2500', 'full_sq|metro_min_avto', 'full_sq|cafe_count_2000_price_2500', 'full_sq|industrial_km', 'full_sq|product_type_Tencode', 'full_sq|prom_part_5000', 'full_sq|material', 'full_sq|trc_count_3000', 'full_sq|ttk_km', 'full_sq|year', 'full_sq|cafe_sum_5000_max_price_avg', 'full_sq|big_church_km', 'full_sq|market_shop_km', 'full_sq|workplaces_km', 'full_sq|ts_km', 'full_sq|build_year', 'full_sq|basketball_km', 'full_sq|catering_km', 'full_sq|railroad_station_avto_km', 'full_sq|public_healthcare_km', 'full_sq|rel_life_sq', 'full_sq|railroad_km', 'full_sq|swim_pool_km', 'life_sq|cafe_count_2000', 'life_sq|sport_count_3000', 'life_sq|cafe_count_3000', 'life_sq|cafe_count_3000_price_1000', 'life_sq|rel_kitch_sq', 'life_sq|kitch_sq', 'life_sq|nuclear_reactor_km', 'life_sq|cafe_count_5000_price_high', 'life_sq|cafe_count_5000_price_1000', 'life_sq|max_floor', 'life_sq|cafe_count_5000_price_1500', 'life_sq|cafe_count_2000_price_1500', 'life_sq|cafe_count_3000_price_2500', 'life_sq|office_sqm_5000', 'life_sq|cafe_count_3000_price_1500', 'life_sq|cafe_count_2000_price_1000', 'life_sq|sport_count_2000', 'life_sq|bulvar_ring_km', 'life_sq|cafe_count_5000', 'life_sq|cafe_count_1500_price_2500', 'life_sq|cafe_sum_5000_min_price_avg', 'life_sq|timestamp', 'life_sq|state', 'life_sq|cafe_count_5000_price_2500', 'life_sq|metro_min_avto', 'life_sq|cafe_count_2000_price_2500', 'life_sq|industrial_km', 'life_sq|product_type_Tencode', 'life_sq|prom_part_5000', 'life_sq|material', 'life_sq|trc_count_3000', 'life_sq|ttk_km', 'life_sq|year', 'life_sq|cafe_sum_5000_max_price_avg', 'life_sq|big_church_km', 'life_sq|market_shop_km', 'life_sq|workplaces_km', 'life_sq|ts_km', 'life_sq|build_year', 'life_sq|basketball_km', 'life_sq|catering_km', 'life_sq|railroad_station_avto_km', 'life_sq|public_healthcare_km', 'life_sq|rel_life_sq', 'life_sq|railroad_km', 'life_sq|swim_pool_km', 'cafe_count_2000|sport_count_3000', 'cafe_count_2000|cafe_count_3000', 'cafe_count_2000|cafe_count_3000_price_1000', 'cafe_count_2000|rel_kitch_sq', 'cafe_count_2000|kitch_sq', 'cafe_count_2000|nuclear_reactor_km', 'cafe_count_2000|cafe_count_5000_price_high', 'cafe_count_2000|cafe_count_5000_price_1000', 'cafe_count_2000|max_floor', 'cafe_count_2000|cafe_count_5000_price_1500', 'cafe_count_2000|cafe_count_2000_price_1500', 'cafe_count_2000|cafe_count_3000_price_2500', 'cafe_count_2000|office_sqm_5000', 'cafe_count_2000|cafe_count_3000_price_1500', 'cafe_count_2000|cafe_count_2000_price_1000', 'cafe_count_2000|sport_count_2000', 'cafe_count_2000|bulvar_ring_km', 'cafe_count_2000|cafe_count_5000', 'cafe_count_2000|cafe_count_1500_price_2500', 'cafe_count_2000|cafe_sum_5000_min_price_avg', 'cafe_count_2000|timestamp', 'cafe_count_2000|state', 'cafe_count_2000|cafe_count_5000_price_2500', 'cafe_count_2000|metro_min_avto', 'cafe_count_2000|cafe_count_2000_price_2500', 'cafe_count_2000|industrial_km', 'cafe_count_2000|product_type_Tencode', 'cafe_count_2000|prom_part_5000', 'cafe_count_2000|material', 'cafe_count_2000|trc_count_3000', 'cafe_count_2000|ttk_km', 'cafe_count_2000|year', 'cafe_count_2000|cafe_sum_5000_max_price_avg', 'cafe_count_2000|big_church_km', 'cafe_count_2000|market_shop_km', 'cafe_count_2000|workplaces_km', 'cafe_count_2000|ts_km', 'cafe_count_2000|build_year', 'cafe_count_2000|basketball_km', 'cafe_count_2000|catering_km', 'cafe_count_2000|railroad_station_avto_km', 'cafe_count_2000|public_healthcare_km', 'cafe_count_2000|rel_life_sq', 'cafe_count_2000|railroad_km', 'cafe_count_2000|swim_pool_km', 'sport_count_3000|cafe_count_3000', 'sport_count_3000|cafe_count_3000_price_1000', 'sport_count_3000|rel_kitch_sq', 'sport_count_3000|kitch_sq', 'sport_count_3000|nuclear_reactor_km', 'sport_count_3000|cafe_count_5000_price_high', 'sport_count_3000|cafe_count_5000_price_1000', 'sport_count_3000|max_floor', 'sport_count_3000|cafe_count_5000_price_1500', 'sport_count_3000|cafe_count_2000_price_1500', 'sport_count_3000|cafe_count_3000_price_2500', 'sport_count_3000|office_sqm_5000', 'sport_count_3000|cafe_count_3000_price_1500', 'sport_count_3000|cafe_count_2000_price_1000', 'sport_count_3000|sport_count_2000', 'sport_count_3000|bulvar_ring_km', 'sport_count_3000|cafe_count_5000', 'sport_count_3000|cafe_count_1500_price_2500', 'sport_count_3000|cafe_sum_5000_min_price_avg', 'sport_count_3000|timestamp', 'sport_count_3000|state', 'sport_count_3000|cafe_count_5000_price_2500', 'sport_count_3000|metro_min_avto', 'sport_count_3000|cafe_count_2000_price_2500', 'sport_count_3000|industrial_km', 'sport_count_3000|product_type_Tencode', 'sport_count_3000|prom_part_5000', 'sport_count_3000|material', 'sport_count_3000|trc_count_3000', 'sport_count_3000|ttk_km', 'sport_count_3000|year', 'sport_count_3000|cafe_sum_5000_max_price_avg', 'sport_count_3000|big_church_km', 'sport_count_3000|market_shop_km', 'sport_count_3000|workplaces_km', 'sport_count_3000|ts_km', 'sport_count_3000|build_year', 'sport_count_3000|basketball_km', 'sport_count_3000|catering_km', 'sport_count_3000|railroad_station_avto_km', 'sport_count_3000|public_healthcare_km', 'sport_count_3000|rel_life_sq', 'sport_count_3000|railroad_km', 'sport_count_3000|swim_pool_km', 'cafe_count_3000|cafe_count_3000_price_1000', 'cafe_count_3000|rel_kitch_sq', 'cafe_count_3000|kitch_sq', 'cafe_count_3000|nuclear_reactor_km', 'cafe_count_3000|cafe_count_5000_price_high', 'cafe_count_3000|cafe_count_5000_price_1000', 'cafe_count_3000|max_floor', 'cafe_count_3000|cafe_count_5000_price_1500', 'cafe_count_3000|cafe_count_2000_price_1500', 'cafe_count_3000|cafe_count_3000_price_2500', 'cafe_count_3000|office_sqm_5000', 'cafe_count_3000|cafe_count_3000_price_1500', 'cafe_count_3000|cafe_count_2000_price_1000', 'cafe_count_3000|sport_count_2000', 'cafe_count_3000|bulvar_ring_km', 'cafe_count_3000|cafe_count_5000', 'cafe_count_3000|cafe_count_1500_price_2500', 'cafe_count_3000|cafe_sum_5000_min_price_avg', 'cafe_count_3000|timestamp', 'cafe_count_3000|state', 'cafe_count_3000|cafe_count_5000_price_2500', 'cafe_count_3000|metro_min_avto', 'cafe_count_3000|cafe_count_2000_price_2500', 'cafe_count_3000|industrial_km', 'cafe_count_3000|product_type_Tencode', 'cafe_count_3000|prom_part_5000', 'cafe_count_3000|material', 'cafe_count_3000|trc_count_3000', 'cafe_count_3000|ttk_km', 'cafe_count_3000|year', 'cafe_count_3000|cafe_sum_5000_max_price_avg', 'cafe_count_3000|big_church_km', 'cafe_count_3000|market_shop_km', 'cafe_count_3000|workplaces_km', 'cafe_count_3000|ts_km', 'cafe_count_3000|build_year', 'cafe_count_3000|basketball_km', 'cafe_count_3000|catering_km', 'cafe_count_3000|railroad_station_avto_km', 'cafe_count_3000|public_healthcare_km', 'cafe_count_3000|rel_life_sq', 'cafe_count_3000|railroad_km', 'cafe_count_3000|swim_pool_km', 'cafe_count_3000_price_1000|rel_kitch_sq', 'cafe_count_3000_price_1000|kitch_sq', 'cafe_count_3000_price_1000|nuclear_reactor_km', 'cafe_count_3000_price_1000|cafe_count_5000_price_high', 'cafe_count_3000_price_1000|cafe_count_5000_price_1000', 'cafe_count_3000_price_1000|max_floor', 'cafe_count_3000_price_1000|cafe_count_5000_price_1500', 'cafe_count_3000_price_1000|cafe_count_2000_price_1500', 'cafe_count_3000_price_1000|cafe_count_3000_price_2500', 'cafe_count_3000_price_1000|office_sqm_5000', 'cafe_count_3000_price_1000|cafe_count_3000_price_1500', 'cafe_count_3000_price_1000|cafe_count_2000_price_1000', 'cafe_count_3000_price_1000|sport_count_2000', 'cafe_count_3000_price_1000|bulvar_ring_km', 'cafe_count_3000_price_1000|cafe_count_5000', 'cafe_count_3000_price_1000|cafe_count_1500_price_2500', 'cafe_count_3000_price_1000|cafe_sum_5000_min_price_avg', 'cafe_count_3000_price_1000|timestamp', 'cafe_count_3000_price_1000|state', 'cafe_count_3000_price_1000|cafe_count_5000_price_2500', 'cafe_count_3000_price_1000|metro_min_avto', 'cafe_count_3000_price_1000|cafe_count_2000_price_2500', 'cafe_count_3000_price_1000|industrial_km', 'cafe_count_3000_price_1000|product_type_Tencode', 'cafe_count_3000_price_1000|prom_part_5000', 'cafe_count_3000_price_1000|material', 'cafe_count_3000_price_1000|trc_count_3000', 'cafe_count_3000_price_1000|ttk_km', 'cafe_count_3000_price_1000|year', 'cafe_count_3000_price_1000|cafe_sum_5000_max_price_avg', 'cafe_count_3000_price_1000|big_church_km', 'cafe_count_3000_price_1000|market_shop_km', 'cafe_count_3000_price_1000|workplaces_km', 'cafe_count_3000_price_1000|ts_km', 'cafe_count_3000_price_1000|build_year', 'cafe_count_3000_price_1000|basketball_km', 'cafe_count_3000_price_1000|catering_km', 'cafe_count_3000_price_1000|railroad_station_avto_km', 'cafe_count_3000_price_1000|public_healthcare_km', 'cafe_count_3000_price_1000|rel_life_sq', 'cafe_count_3000_price_1000|railroad_km', 'cafe_count_3000_price_1000|swim_pool_km', 'rel_kitch_sq|kitch_sq', 'rel_kitch_sq|nuclear_reactor_km', 'rel_kitch_sq|cafe_count_5000_price_high', 'rel_kitch_sq|cafe_count_5000_price_1000', 'rel_kitch_sq|max_floor', 'rel_kitch_sq|cafe_count_5000_price_1500', 'rel_kitch_sq|cafe_count_2000_price_1500', 'rel_kitch_sq|cafe_count_3000_price_2500', 'rel_kitch_sq|office_sqm_5000', 'rel_kitch_sq|cafe_count_3000_price_1500', 'rel_kitch_sq|cafe_count_2000_price_1000', 'rel_kitch_sq|sport_count_2000', 'rel_kitch_sq|bulvar_ring_km', 'rel_kitch_sq|cafe_count_5000', 'rel_kitch_sq|cafe_count_1500_price_2500', 'rel_kitch_sq|cafe_sum_5000_min_price_avg', 'rel_kitch_sq|timestamp', 'rel_kitch_sq|state', 'rel_kitch_sq|cafe_count_5000_price_2500', 'rel_kitch_sq|metro_min_avto', 'rel_kitch_sq|cafe_count_2000_price_2500', 'rel_kitch_sq|industrial_km', 'rel_kitch_sq|product_type_Tencode', 'rel_kitch_sq|prom_part_5000', 'rel_kitch_sq|material', 'rel_kitch_sq|trc_count_3000', 'rel_kitch_sq|ttk_km', 'rel_kitch_sq|year', 'rel_kitch_sq|cafe_sum_5000_max_price_avg', 'rel_kitch_sq|big_church_km', 'rel_kitch_sq|market_shop_km', 'rel_kitch_sq|workplaces_km', 'rel_kitch_sq|ts_km', 'rel_kitch_sq|build_year', 'rel_kitch_sq|basketball_km', 'rel_kitch_sq|catering_km', 'rel_kitch_sq|railroad_station_avto_km', 'rel_kitch_sq|public_healthcare_km', 'rel_kitch_sq|rel_life_sq', 'rel_kitch_sq|railroad_km', 'rel_kitch_sq|swim_pool_km', 'kitch_sq|nuclear_reactor_km', 'kitch_sq|cafe_count_5000_price_high', 'kitch_sq|cafe_count_5000_price_1000', 'kitch_sq|max_floor', 'kitch_sq|cafe_count_5000_price_1500', 'kitch_sq|cafe_count_2000_price_1500', 'kitch_sq|cafe_count_3000_price_2500', 'kitch_sq|office_sqm_5000', 'kitch_sq|cafe_count_3000_price_1500', 'kitch_sq|cafe_count_2000_price_1000', 'kitch_sq|sport_count_2000', 'kitch_sq|bulvar_ring_km', 'kitch_sq|cafe_count_5000', 'kitch_sq|cafe_count_1500_price_2500', 'kitch_sq|cafe_sum_5000_min_price_avg', 'kitch_sq|timestamp', 'kitch_sq|state', 'kitch_sq|cafe_count_5000_price_2500', 'kitch_sq|metro_min_avto', 'kitch_sq|cafe_count_2000_price_2500', 'kitch_sq|industrial_km', 'kitch_sq|product_type_Tencode', 'kitch_sq|prom_part_5000', 'kitch_sq|material', 'kitch_sq|trc_count_3000', 'kitch_sq|ttk_km', 'kitch_sq|year', 'kitch_sq|cafe_sum_5000_max_price_avg', 'kitch_sq|big_church_km', 'kitch_sq|market_shop_km', 'kitch_sq|workplaces_km', 'kitch_sq|ts_km', 'kitch_sq|build_year', 'kitch_sq|basketball_km', 'kitch_sq|catering_km', 'kitch_sq|railroad_station_avto_km', 'kitch_sq|public_healthcare_km', 'kitch_sq|rel_life_sq', 'kitch_sq|railroad_km', 'kitch_sq|swim_pool_km', 'nuclear_reactor_km|cafe_count_5000_price_high', 'nuclear_reactor_km|cafe_count_5000_price_1000', 'nuclear_reactor_km|max_floor', 'nuclear_reactor_km|cafe_count_5000_price_1500', 'nuclear_reactor_km|cafe_count_2000_price_1500', 'nuclear_reactor_km|cafe_count_3000_price_2500', 'nuclear_reactor_km|office_sqm_5000', 'nuclear_reactor_km|cafe_count_3000_price_1500', 'nuclear_reactor_km|cafe_count_2000_price_1000', 'nuclear_reactor_km|sport_count_2000', 'nuclear_reactor_km|bulvar_ring_km', 'nuclear_reactor_km|cafe_count_5000', 'nuclear_reactor_km|cafe_count_1500_price_2500', 'nuclear_reactor_km|cafe_sum_5000_min_price_avg', 'nuclear_reactor_km|timestamp', 'nuclear_reactor_km|state', 'nuclear_reactor_km|cafe_count_5000_price_2500', 'nuclear_reactor_km|metro_min_avto', 'nuclear_reactor_km|cafe_count_2000_price_2500', 'nuclear_reactor_km|industrial_km', 'nuclear_reactor_km|product_type_Tencode', 'nuclear_reactor_km|prom_part_5000', 'nuclear_reactor_km|material', 'nuclear_reactor_km|trc_count_3000', 'nuclear_reactor_km|ttk_km', 'nuclear_reactor_km|year', 'nuclear_reactor_km|cafe_sum_5000_max_price_avg', 'nuclear_reactor_km|big_church_km', 'nuclear_reactor_km|market_shop_km', 'nuclear_reactor_km|workplaces_km', 'nuclear_reactor_km|ts_km', 'nuclear_reactor_km|build_year', 'nuclear_reactor_km|basketball_km', 'nuclear_reactor_km|catering_km', 'nuclear_reactor_km|railroad_station_avto_km', 'nuclear_reactor_km|public_healthcare_km', 'nuclear_reactor_km|rel_life_sq', 'nuclear_reactor_km|railroad_km', 'nuclear_reactor_km|swim_pool_km', 'cafe_count_5000_price_high|cafe_count_5000_price_1000', 'cafe_count_5000_price_high|max_floor', 'cafe_count_5000_price_high|cafe_count_5000_price_1500', 'cafe_count_5000_price_high|cafe_count_2000_price_1500', 'cafe_count_5000_price_high|cafe_count_3000_price_2500', 'cafe_count_5000_price_high|office_sqm_5000', 'cafe_count_5000_price_high|cafe_count_3000_price_1500', 'cafe_count_5000_price_high|cafe_count_2000_price_1000', 'cafe_count_5000_price_high|sport_count_2000', 'cafe_count_5000_price_high|bulvar_ring_km', 'cafe_count_5000_price_high|cafe_count_5000', 'cafe_count_5000_price_high|cafe_count_1500_price_2500', 'cafe_count_5000_price_high|cafe_sum_5000_min_price_avg', 'cafe_count_5000_price_high|timestamp', 'cafe_count_5000_price_high|state', 'cafe_count_5000_price_high|cafe_count_5000_price_2500', 'cafe_count_5000_price_high|metro_min_avto', 'cafe_count_5000_price_high|cafe_count_2000_price_2500', 'cafe_count_5000_price_high|industrial_km', 'cafe_count_5000_price_high|product_type_Tencode', 'cafe_count_5000_price_high|prom_part_5000', 'cafe_count_5000_price_high|material', 'cafe_count_5000_price_high|trc_count_3000', 'cafe_count_5000_price_high|ttk_km', 'cafe_count_5000_price_high|year', 'cafe_count_5000_price_high|cafe_sum_5000_max_price_avg', 'cafe_count_5000_price_high|big_church_km', 'cafe_count_5000_price_high|market_shop_km', 'cafe_count_5000_price_high|workplaces_km', 'cafe_count_5000_price_high|ts_km', 'cafe_count_5000_price_high|build_year', 'cafe_count_5000_price_high|basketball_km', 'cafe_count_5000_price_high|catering_km', 'cafe_count_5000_price_high|railroad_station_avto_km', 'cafe_count_5000_price_high|public_healthcare_km', 'cafe_count_5000_price_high|rel_life_sq', 'cafe_count_5000_price_high|railroad_km', 'cafe_count_5000_price_high|swim_pool_km', 'cafe_count_5000_price_1000|max_floor', 'cafe_count_5000_price_1000|cafe_count_5000_price_1500', 'cafe_count_5000_price_1000|cafe_count_2000_price_1500', 'cafe_count_5000_price_1000|cafe_count_3000_price_2500', 'cafe_count_5000_price_1000|office_sqm_5000', 'cafe_count_5000_price_1000|cafe_count_3000_price_1500', 'cafe_count_5000_price_1000|cafe_count_2000_price_1000', 'cafe_count_5000_price_1000|sport_count_2000', 'cafe_count_5000_price_1000|bulvar_ring_km', 'cafe_count_5000_price_1000|cafe_count_5000', 'cafe_count_5000_price_1000|cafe_count_1500_price_2500', 'cafe_count_5000_price_1000|cafe_sum_5000_min_price_avg', 'cafe_count_5000_price_1000|timestamp', 'cafe_count_5000_price_1000|state', 'cafe_count_5000_price_1000|cafe_count_5000_price_2500', 'cafe_count_5000_price_1000|metro_min_avto', 'cafe_count_5000_price_1000|cafe_count_2000_price_2500', 'cafe_count_5000_price_1000|industrial_km', 'cafe_count_5000_price_1000|product_type_Tencode', 'cafe_count_5000_price_1000|prom_part_5000', 'cafe_count_5000_price_1000|material', 'cafe_count_5000_price_1000|trc_count_3000', 'cafe_count_5000_price_1000|ttk_km', 'cafe_count_5000_price_1000|year', 'cafe_count_5000_price_1000|cafe_sum_5000_max_price_avg', 'cafe_count_5000_price_1000|big_church_km', 'cafe_count_5000_price_1000|market_shop_km', 'cafe_count_5000_price_1000|workplaces_km', 'cafe_count_5000_price_1000|ts_km', 'cafe_count_5000_price_1000|build_year', 'cafe_count_5000_price_1000|basketball_km', 'cafe_count_5000_price_1000|catering_km', 'cafe_count_5000_price_1000|railroad_station_avto_km', 'cafe_count_5000_price_1000|public_healthcare_km', 'cafe_count_5000_price_1000|rel_life_sq', 'cafe_count_5000_price_1000|railroad_km', 'cafe_count_5000_price_1000|swim_pool_km', 'max_floor|cafe_count_5000_price_1500', 'max_floor|cafe_count_2000_price_1500', 'max_floor|cafe_count_3000_price_2500', 'max_floor|office_sqm_5000', 'max_floor|cafe_count_3000_price_1500', 'max_floor|cafe_count_2000_price_1000', 'max_floor|sport_count_2000', 'max_floor|bulvar_ring_km', 'max_floor|cafe_count_5000', 'max_floor|cafe_count_1500_price_2500', 'max_floor|cafe_sum_5000_min_price_avg', 'max_floor|timestamp', 'max_floor|state', 'max_floor|cafe_count_5000_price_2500', 'max_floor|metro_min_avto', 'max_floor|cafe_count_2000_price_2500', 'max_floor|industrial_km', 'max_floor|product_type_Tencode', 'max_floor|prom_part_5000', 'max_floor|material', 'max_floor|trc_count_3000', 'max_floor|ttk_km', 'max_floor|year', 'max_floor|cafe_sum_5000_max_price_avg', 'max_floor|big_church_km', 'max_floor|market_shop_km', 'max_floor|workplaces_km', 'max_floor|ts_km', 'max_floor|build_year', 'max_floor|basketball_km', 'max_floor|catering_km', 'max_floor|railroad_station_avto_km', 'max_floor|public_healthcare_km', 'max_floor|rel_life_sq', 'max_floor|railroad_km', 'max_floor|swim_pool_km', 'cafe_count_5000_price_1500|cafe_count_2000_price_1500', 'cafe_count_5000_price_1500|cafe_count_3000_price_2500', 'cafe_count_5000_price_1500|office_sqm_5000', 'cafe_count_5000_price_1500|cafe_count_3000_price_1500', 'cafe_count_5000_price_1500|cafe_count_2000_price_1000', 'cafe_count_5000_price_1500|sport_count_2000', 'cafe_count_5000_price_1500|bulvar_ring_km', 'cafe_count_5000_price_1500|cafe_count_5000', 'cafe_count_5000_price_1500|cafe_count_1500_price_2500', 'cafe_count_5000_price_1500|cafe_sum_5000_min_price_avg', 'cafe_count_5000_price_1500|timestamp', 'cafe_count_5000_price_1500|state', 'cafe_count_5000_price_1500|cafe_count_5000_price_2500', 'cafe_count_5000_price_1500|metro_min_avto', 'cafe_count_5000_price_1500|cafe_count_2000_price_2500', 'cafe_count_5000_price_1500|industrial_km', 'cafe_count_5000_price_1500|product_type_Tencode', 'cafe_count_5000_price_1500|prom_part_5000', 'cafe_count_5000_price_1500|material', 'cafe_count_5000_price_1500|trc_count_3000', 'cafe_count_5000_price_1500|ttk_km', 'cafe_count_5000_price_1500|year', 'cafe_count_5000_price_1500|cafe_sum_5000_max_price_avg', 'cafe_count_5000_price_1500|big_church_km', 'cafe_count_5000_price_1500|market_shop_km', 'cafe_count_5000_price_1500|workplaces_km', 'cafe_count_5000_price_1500|ts_km', 'cafe_count_5000_price_1500|build_year', 'cafe_count_5000_price_1500|basketball_km', 'cafe_count_5000_price_1500|catering_km', 'cafe_count_5000_price_1500|railroad_station_avto_km', 'cafe_count_5000_price_1500|public_healthcare_km', 'cafe_count_5000_price_1500|rel_life_sq', 'cafe_count_5000_price_1500|railroad_km', 'cafe_count_5000_price_1500|swim_pool_km', 'cafe_count_2000_price_1500|cafe_count_3000_price_2500', 'cafe_count_2000_price_1500|office_sqm_5000', 'cafe_count_2000_price_1500|cafe_count_3000_price_1500', 'cafe_count_2000_price_1500|cafe_count_2000_price_1000', 'cafe_count_2000_price_1500|sport_count_2000', 'cafe_count_2000_price_1500|bulvar_ring_km', 'cafe_count_2000_price_1500|cafe_count_5000', 'cafe_count_2000_price_1500|cafe_count_1500_price_2500', 'cafe_count_2000_price_1500|cafe_sum_5000_min_price_avg', 'cafe_count_2000_price_1500|timestamp', 'cafe_count_2000_price_1500|state', 'cafe_count_2000_price_1500|cafe_count_5000_price_2500', 'cafe_count_2000_price_1500|metro_min_avto', 'cafe_count_2000_price_1500|cafe_count_2000_price_2500', 'cafe_count_2000_price_1500|industrial_km', 'cafe_count_2000_price_1500|product_type_Tencode', 'cafe_count_2000_price_1500|prom_part_5000', 'cafe_count_2000_price_1500|material', 'cafe_count_2000_price_1500|trc_count_3000', 'cafe_count_2000_price_1500|ttk_km', 'cafe_count_2000_price_1500|year', 'cafe_count_2000_price_1500|cafe_sum_5000_max_price_avg', 'cafe_count_2000_price_1500|big_church_km', 'cafe_count_2000_price_1500|market_shop_km', 'cafe_count_2000_price_1500|workplaces_km', 'cafe_count_2000_price_1500|ts_km', 'cafe_count_2000_price_1500|build_year', 'cafe_count_2000_price_1500|basketball_km', 'cafe_count_2000_price_1500|catering_km', 'cafe_count_2000_price_1500|railroad_station_avto_km', 'cafe_count_2000_price_1500|public_healthcare_km', 'cafe_count_2000_price_1500|rel_life_sq', 'cafe_count_2000_price_1500|railroad_km', 'cafe_count_2000_price_1500|swim_pool_km', 'cafe_count_3000_price_2500|office_sqm_5000', 'cafe_count_3000_price_2500|cafe_count_3000_price_1500', 'cafe_count_3000_price_2500|cafe_count_2000_price_1000', 'cafe_count_3000_price_2500|sport_count_2000', 'cafe_count_3000_price_2500|bulvar_ring_km', 'cafe_count_3000_price_2500|cafe_count_5000', 'cafe_count_3000_price_2500|cafe_count_1500_price_2500', 'cafe_count_3000_price_2500|cafe_sum_5000_min_price_avg', 'cafe_count_3000_price_2500|timestamp', 'cafe_count_3000_price_2500|state', 'cafe_count_3000_price_2500|cafe_count_5000_price_2500', 'cafe_count_3000_price_2500|metro_min_avto', 'cafe_count_3000_price_2500|cafe_count_2000_price_2500', 'cafe_count_3000_price_2500|industrial_km', 'cafe_count_3000_price_2500|product_type_Tencode', 'cafe_count_3000_price_2500|prom_part_5000', 'cafe_count_3000_price_2500|material', 'cafe_count_3000_price_2500|trc_count_3000', 'cafe_count_3000_price_2500|ttk_km', 'cafe_count_3000_price_2500|year', 'cafe_count_3000_price_2500|cafe_sum_5000_max_price_avg', 'cafe_count_3000_price_2500|big_church_km', 'cafe_count_3000_price_2500|market_shop_km', 'cafe_count_3000_price_2500|workplaces_km', 'cafe_count_3000_price_2500|ts_km', 'cafe_count_3000_price_2500|build_year', 'cafe_count_3000_price_2500|basketball_km', 'cafe_count_3000_price_2500|catering_km', 'cafe_count_3000_price_2500|railroad_station_avto_km', 'cafe_count_3000_price_2500|public_healthcare_km', 'cafe_count_3000_price_2500|rel_life_sq', 'cafe_count_3000_price_2500|railroad_km', 'cafe_count_3000_price_2500|swim_pool_km', 'office_sqm_5000|cafe_count_3000_price_1500', 'office_sqm_5000|cafe_count_2000_price_1000', 'office_sqm_5000|sport_count_2000', 'office_sqm_5000|bulvar_ring_km', 'office_sqm_5000|cafe_count_5000', 'office_sqm_5000|cafe_count_1500_price_2500', 'office_sqm_5000|cafe_sum_5000_min_price_avg', 'office_sqm_5000|timestamp', 'office_sqm_5000|state', 'office_sqm_5000|cafe_count_5000_price_2500', 'office_sqm_5000|metro_min_avto', 'office_sqm_5000|cafe_count_2000_price_2500', 'office_sqm_5000|industrial_km', 'office_sqm_5000|product_type_Tencode', 'office_sqm_5000|prom_part_5000', 'office_sqm_5000|material', 'office_sqm_5000|trc_count_3000', 'office_sqm_5000|ttk_km', 'office_sqm_5000|year', 'office_sqm_5000|cafe_sum_5000_max_price_avg', 'office_sqm_5000|big_church_km', 'office_sqm_5000|market_shop_km', 'office_sqm_5000|workplaces_km', 'office_sqm_5000|ts_km', 'office_sqm_5000|build_year', 'office_sqm_5000|basketball_km', 'office_sqm_5000|catering_km', 'office_sqm_5000|railroad_station_avto_km', 'office_sqm_5000|public_healthcare_km', 'office_sqm_5000|rel_life_sq', 'office_sqm_5000|railroad_km', 'office_sqm_5000|swim_pool_km', 'cafe_count_3000_price_1500|cafe_count_2000_price_1000', 'cafe_count_3000_price_1500|sport_count_2000', 'cafe_count_3000_price_1500|bulvar_ring_km', 'cafe_count_3000_price_1500|cafe_count_5000', 'cafe_count_3000_price_1500|cafe_count_1500_price_2500', 'cafe_count_3000_price_1500|cafe_sum_5000_min_price_avg', 'cafe_count_3000_price_1500|timestamp', 'cafe_count_3000_price_1500|state', 'cafe_count_3000_price_1500|cafe_count_5000_price_2500', 'cafe_count_3000_price_1500|metro_min_avto', 'cafe_count_3000_price_1500|cafe_count_2000_price_2500', 'cafe_count_3000_price_1500|industrial_km', 'cafe_count_3000_price_1500|product_type_Tencode', 'cafe_count_3000_price_1500|prom_part_5000', 'cafe_count_3000_price_1500|material', 'cafe_count_3000_price_1500|trc_count_3000', 'cafe_count_3000_price_1500|ttk_km', 'cafe_count_3000_price_1500|year', 'cafe_count_3000_price_1500|cafe_sum_5000_max_price_avg', 'cafe_count_3000_price_1500|big_church_km', 'cafe_count_3000_price_1500|market_shop_km', 'cafe_count_3000_price_1500|workplaces_km', 'cafe_count_3000_price_1500|ts_km', 'cafe_count_3000_price_1500|build_year', 'cafe_count_3000_price_1500|basketball_km', 'cafe_count_3000_price_1500|catering_km', 'cafe_count_3000_price_1500|railroad_station_avto_km', 'cafe_count_3000_price_1500|public_healthcare_km', 'cafe_count_3000_price_1500|rel_life_sq', 'cafe_count_3000_price_1500|railroad_km', 'cafe_count_3000_price_1500|swim_pool_km', 'cafe_count_2000_price_1000|sport_count_2000', 'cafe_count_2000_price_1000|bulvar_ring_km', 'cafe_count_2000_price_1000|cafe_count_5000', 'cafe_count_2000_price_1000|cafe_count_1500_price_2500', 'cafe_count_2000_price_1000|cafe_sum_5000_min_price_avg', 'cafe_count_2000_price_1000|timestamp', 'cafe_count_2000_price_1000|state', 'cafe_count_2000_price_1000|cafe_count_5000_price_2500', 'cafe_count_2000_price_1000|metro_min_avto', 'cafe_count_2000_price_1000|cafe_count_2000_price_2500', 'cafe_count_2000_price_1000|industrial_km', 'cafe_count_2000_price_1000|product_type_Tencode', 'cafe_count_2000_price_1000|prom_part_5000', 'cafe_count_2000_price_1000|material', 'cafe_count_2000_price_1000|trc_count_3000', 'cafe_count_2000_price_1000|ttk_km', 'cafe_count_2000_price_1000|year', 'cafe_count_2000_price_1000|cafe_sum_5000_max_price_avg', 'cafe_count_2000_price_1000|big_church_km', 'cafe_count_2000_price_1000|market_shop_km', 'cafe_count_2000_price_1000|workplaces_km', 'cafe_count_2000_price_1000|ts_km', 'cafe_count_2000_price_1000|build_year', 'cafe_count_2000_price_1000|basketball_km', 'cafe_count_2000_price_1000|catering_km', 'cafe_count_2000_price_1000|railroad_station_avto_km', 'cafe_count_2000_price_1000|public_healthcare_km', 'cafe_count_2000_price_1000|rel_life_sq', 'cafe_count_2000_price_1000|railroad_km', 'cafe_count_2000_price_1000|swim_pool_km', 'sport_count_2000|bulvar_ring_km', 'sport_count_2000|cafe_count_5000', 'sport_count_2000|cafe_count_1500_price_2500', 'sport_count_2000|cafe_sum_5000_min_price_avg', 'sport_count_2000|timestamp', 'sport_count_2000|state', 'sport_count_2000|cafe_count_5000_price_2500', 'sport_count_2000|metro_min_avto', 'sport_count_2000|cafe_count_2000_price_2500', 'sport_count_2000|industrial_km', 'sport_count_2000|product_type_Tencode', 'sport_count_2000|prom_part_5000', 'sport_count_2000|material', 'sport_count_2000|trc_count_3000', 'sport_count_2000|ttk_km', 'sport_count_2000|year', 'sport_count_2000|cafe_sum_5000_max_price_avg', 'sport_count_2000|big_church_km', 'sport_count_2000|market_shop_km', 'sport_count_2000|workplaces_km', 'sport_count_2000|ts_km', 'sport_count_2000|build_year', 'sport_count_2000|basketball_km', 'sport_count_2000|catering_km', 'sport_count_2000|railroad_station_avto_km', 'sport_count_2000|public_healthcare_km', 'sport_count_2000|rel_life_sq', 'sport_count_2000|railroad_km', 'sport_count_2000|swim_pool_km', 'bulvar_ring_km|cafe_count_5000', 'bulvar_ring_km|cafe_count_1500_price_2500', 'bulvar_ring_km|cafe_sum_5000_min_price_avg', 'bulvar_ring_km|timestamp', 'bulvar_ring_km|state', 'bulvar_ring_km|cafe_count_5000_price_2500', 'bulvar_ring_km|metro_min_avto', 'bulvar_ring_km|cafe_count_2000_price_2500', 'bulvar_ring_km|industrial_km', 'bulvar_ring_km|product_type_Tencode', 'bulvar_ring_km|prom_part_5000', 'bulvar_ring_km|material', 'bulvar_ring_km|trc_count_3000', 'bulvar_ring_km|ttk_km', 'bulvar_ring_km|year', 'bulvar_ring_km|cafe_sum_5000_max_price_avg', 'bulvar_ring_km|big_church_km', 'bulvar_ring_km|market_shop_km', 'bulvar_ring_km|workplaces_km', 'bulvar_ring_km|ts_km', 'bulvar_ring_km|build_year', 'bulvar_ring_km|basketball_km', 'bulvar_ring_km|catering_km', 'bulvar_ring_km|railroad_station_avto_km', 'bulvar_ring_km|public_healthcare_km', 'bulvar_ring_km|rel_life_sq', 'bulvar_ring_km|railroad_km', 'bulvar_ring_km|swim_pool_km', 'cafe_count_5000|cafe_count_1500_price_2500', 'cafe_count_5000|cafe_sum_5000_min_price_avg', 'cafe_count_5000|timestamp', 'cafe_count_5000|state', 'cafe_count_5000|cafe_count_5000_price_2500', 'cafe_count_5000|metro_min_avto', 'cafe_count_5000|cafe_count_2000_price_2500', 'cafe_count_5000|industrial_km', 'cafe_count_5000|product_type_Tencode', 'cafe_count_5000|prom_part_5000', 'cafe_count_5000|material', 'cafe_count_5000|trc_count_3000', 'cafe_count_5000|ttk_km', 'cafe_count_5000|year', 'cafe_count_5000|cafe_sum_5000_max_price_avg', 'cafe_count_5000|big_church_km', 'cafe_count_5000|market_shop_km', 'cafe_count_5000|workplaces_km', 'cafe_count_5000|ts_km', 'cafe_count_5000|build_year', 'cafe_count_5000|basketball_km', 'cafe_count_5000|catering_km', 'cafe_count_5000|railroad_station_avto_km', 'cafe_count_5000|public_healthcare_km', 'cafe_count_5000|rel_life_sq', 'cafe_count_5000|railroad_km', 'cafe_count_5000|swim_pool_km', 'cafe_count_1500_price_2500|cafe_sum_5000_min_price_avg', 'cafe_count_1500_price_2500|timestamp', 'cafe_count_1500_price_2500|state', 'cafe_count_1500_price_2500|cafe_count_5000_price_2500', 'cafe_count_1500_price_2500|metro_min_avto', 'cafe_count_1500_price_2500|cafe_count_2000_price_2500', 'cafe_count_1500_price_2500|industrial_km', 'cafe_count_1500_price_2500|product_type_Tencode', 'cafe_count_1500_price_2500|prom_part_5000', 'cafe_count_1500_price_2500|material', 'cafe_count_1500_price_2500|trc_count_3000', 'cafe_count_1500_price_2500|ttk_km', 'cafe_count_1500_price_2500|year', 'cafe_count_1500_price_2500|cafe_sum_5000_max_price_avg', 'cafe_count_1500_price_2500|big_church_km', 'cafe_count_1500_price_2500|market_shop_km', 'cafe_count_1500_price_2500|workplaces_km', 'cafe_count_1500_price_2500|ts_km', 'cafe_count_1500_price_2500|build_year', 'cafe_count_1500_price_2500|basketball_km', 'cafe_count_1500_price_2500|catering_km', 'cafe_count_1500_price_2500|railroad_station_avto_km', 'cafe_count_1500_price_2500|public_healthcare_km', 'cafe_count_1500_price_2500|rel_life_sq', 'cafe_count_1500_price_2500|railroad_km', 'cafe_count_1500_price_2500|swim_pool_km', 'cafe_sum_5000_min_price_avg|timestamp', 'cafe_sum_5000_min_price_avg|state', 'cafe_sum_5000_min_price_avg|cafe_count_5000_price_2500', 'cafe_sum_5000_min_price_avg|metro_min_avto', 'cafe_sum_5000_min_price_avg|cafe_count_2000_price_2500', 'cafe_sum_5000_min_price_avg|industrial_km', 'cafe_sum_5000_min_price_avg|product_type_Tencode', 'cafe_sum_5000_min_price_avg|prom_part_5000', 'cafe_sum_5000_min_price_avg|material', 'cafe_sum_5000_min_price_avg|trc_count_3000', 'cafe_sum_5000_min_price_avg|ttk_km', 'cafe_sum_5000_min_price_avg|year', 'cafe_sum_5000_min_price_avg|cafe_sum_5000_max_price_avg', 'cafe_sum_5000_min_price_avg|big_church_km', 'cafe_sum_5000_min_price_avg|market_shop_km', 'cafe_sum_5000_min_price_avg|workplaces_km', 'cafe_sum_5000_min_price_avg|ts_km', 'cafe_sum_5000_min_price_avg|build_year', 'cafe_sum_5000_min_price_avg|basketball_km', 'cafe_sum_5000_min_price_avg|catering_km', 'cafe_sum_5000_min_price_avg|railroad_station_avto_km', 'cafe_sum_5000_min_price_avg|public_healthcare_km', 'cafe_sum_5000_min_price_avg|rel_life_sq', 'cafe_sum_5000_min_price_avg|railroad_km', 'cafe_sum_5000_min_price_avg|swim_pool_km', 'timestamp|state', 'timestamp|cafe_count_5000_price_2500', 'timestamp|metro_min_avto', 'timestamp|cafe_count_2000_price_2500', 'timestamp|industrial_km', 'timestamp|product_type_Tencode', 'timestamp|prom_part_5000', 'timestamp|material', 'timestamp|trc_count_3000', 'timestamp|ttk_km', 'timestamp|year', 'timestamp|cafe_sum_5000_max_price_avg', 'timestamp|big_church_km', 'timestamp|market_shop_km', 'timestamp|workplaces_km', 'timestamp|ts_km', 'timestamp|build_year', 'timestamp|basketball_km', 'timestamp|catering_km', 'timestamp|railroad_station_avto_km', 'timestamp|public_healthcare_km', 'timestamp|rel_life_sq', 'timestamp|railroad_km', 'timestamp|swim_pool_km', 'state|cafe_count_5000_price_2500', 'state|metro_min_avto', 'state|cafe_count_2000_price_2500', 'state|industrial_km', 'state|product_type_Tencode', 'state|prom_part_5000', 'state|material', 'state|trc_count_3000', 'state|ttk_km', 'state|year', 'state|cafe_sum_5000_max_price_avg', 'state|big_church_km', 'state|market_shop_km', 'state|workplaces_km', 'state|ts_km', 'state|build_year', 'state|basketball_km', 'state|catering_km', 'state|railroad_station_avto_km', 'state|public_healthcare_km', 'state|rel_life_sq', 'state|railroad_km', 'state|swim_pool_km', 'cafe_count_5000_price_2500|metro_min_avto', 'cafe_count_5000_price_2500|cafe_count_2000_price_2500', 'cafe_count_5000_price_2500|industrial_km', 'cafe_count_5000_price_2500|product_type_Tencode', 'cafe_count_5000_price_2500|prom_part_5000', 'cafe_count_5000_price_2500|material', 'cafe_count_5000_price_2500|trc_count_3000', 'cafe_count_5000_price_2500|ttk_km', 'cafe_count_5000_price_2500|year', 'cafe_count_5000_price_2500|cafe_sum_5000_max_price_avg', 'cafe_count_5000_price_2500|big_church_km', 'cafe_count_5000_price_2500|market_shop_km', 'cafe_count_5000_price_2500|workplaces_km', 'cafe_count_5000_price_2500|ts_km', 'cafe_count_5000_price_2500|build_year', 'cafe_count_5000_price_2500|basketball_km', 'cafe_count_5000_price_2500|catering_km', 'cafe_count_5000_price_2500|railroad_station_avto_km', 'cafe_count_5000_price_2500|public_healthcare_km', 'cafe_count_5000_price_2500|rel_life_sq', 'cafe_count_5000_price_2500|railroad_km', 'cafe_count_5000_price_2500|swim_pool_km', 'metro_min_avto|cafe_count_2000_price_2500', 'metro_min_avto|industrial_km', 'metro_min_avto|product_type_Tencode', 'metro_min_avto|prom_part_5000', 'metro_min_avto|material', 'metro_min_avto|trc_count_3000', 'metro_min_avto|ttk_km', 'metro_min_avto|year', 'metro_min_avto|cafe_sum_5000_max_price_avg', 'metro_min_avto|big_church_km', 'metro_min_avto|market_shop_km', 'metro_min_avto|workplaces_km', 'metro_min_avto|ts_km', 'metro_min_avto|build_year', 'metro_min_avto|basketball_km', 'metro_min_avto|catering_km', 'metro_min_avto|railroad_station_avto_km', 'metro_min_avto|public_healthcare_km', 'metro_min_avto|rel_life_sq', 'metro_min_avto|railroad_km', 'metro_min_avto|swim_pool_km', 'cafe_count_2000_price_2500|industrial_km', 'cafe_count_2000_price_2500|product_type_Tencode', 'cafe_count_2000_price_2500|prom_part_5000', 'cafe_count_2000_price_2500|material', 'cafe_count_2000_price_2500|trc_count_3000', 'cafe_count_2000_price_2500|ttk_km', 'cafe_count_2000_price_2500|year', 'cafe_count_2000_price_2500|cafe_sum_5000_max_price_avg', 'cafe_count_2000_price_2500|big_church_km', 'cafe_count_2000_price_2500|market_shop_km', 'cafe_count_2000_price_2500|workplaces_km', 'cafe_count_2000_price_2500|ts_km', 'cafe_count_2000_price_2500|build_year', 'cafe_count_2000_price_2500|basketball_km', 'cafe_count_2000_price_2500|catering_km', 'cafe_count_2000_price_2500|railroad_station_avto_km', 'cafe_count_2000_price_2500|public_healthcare_km', 'cafe_count_2000_price_2500|rel_life_sq', 'cafe_count_2000_price_2500|railroad_km', 'cafe_count_2000_price_2500|swim_pool_km', 'industrial_km|product_type_Tencode', 'industrial_km|prom_part_5000', 'industrial_km|material', 'industrial_km|trc_count_3000', 'industrial_km|ttk_km', 'industrial_km|year', 'industrial_km|cafe_sum_5000_max_price_avg', 'industrial_km|big_church_km', 'industrial_km|market_shop_km', 'industrial_km|workplaces_km', 'industrial_km|ts_km', 'industrial_km|build_year', 'industrial_km|basketball_km', 'industrial_km|catering_km', 'industrial_km|railroad_station_avto_km', 'industrial_km|public_healthcare_km', 'industrial_km|rel_life_sq', 'industrial_km|railroad_km', 'industrial_km|swim_pool_km', 'product_type_Tencode|prom_part_5000', 'product_type_Tencode|material', 'product_type_Tencode|trc_count_3000', 'product_type_Tencode|ttk_km', 'product_type_Tencode|year', 'product_type_Tencode|cafe_sum_5000_max_price_avg', 'product_type_Tencode|big_church_km', 'product_type_Tencode|market_shop_km', 'product_type_Tencode|workplaces_km', 'product_type_Tencode|ts_km', 'product_type_Tencode|build_year', 'product_type_Tencode|basketball_km', 'product_type_Tencode|catering_km', 'product_type_Tencode|railroad_station_avto_km', 'product_type_Tencode|public_healthcare_km', 'product_type_Tencode|rel_life_sq', 'product_type_Tencode|railroad_km', 'product_type_Tencode|swim_pool_km', 'prom_part_5000|material', 'prom_part_5000|trc_count_3000', 'prom_part_5000|ttk_km', 'prom_part_5000|year', 'prom_part_5000|cafe_sum_5000_max_price_avg', 'prom_part_5000|big_church_km', 'prom_part_5000|market_shop_km', 'prom_part_5000|workplaces_km', 'prom_part_5000|ts_km', 'prom_part_5000|build_year', 'prom_part_5000|basketball_km', 'prom_part_5000|catering_km', 'prom_part_5000|railroad_station_avto_km', 'prom_part_5000|public_healthcare_km', 'prom_part_5000|rel_life_sq', 'prom_part_5000|railroad_km', 'prom_part_5000|swim_pool_km', 'material|trc_count_3000', 'material|ttk_km', 'material|year', 'material|cafe_sum_5000_max_price_avg', 'material|big_church_km', 'material|market_shop_km', 'material|workplaces_km', 'material|ts_km', 'material|build_year', 'material|basketball_km', 'material|catering_km', 'material|railroad_station_avto_km', 'material|public_healthcare_km', 'material|rel_life_sq', 'material|railroad_km', 'material|swim_pool_km', 'trc_count_3000|ttk_km', 'trc_count_3000|year', 'trc_count_3000|cafe_sum_5000_max_price_avg', 'trc_count_3000|big_church_km', 'trc_count_3000|market_shop_km', 'trc_count_3000|workplaces_km', 'trc_count_3000|ts_km', 'trc_count_3000|build_year', 'trc_count_3000|basketball_km', 'trc_count_3000|catering_km', 'trc_count_3000|railroad_station_avto_km', 'trc_count_3000|public_healthcare_km', 'trc_count_3000|rel_life_sq', 'trc_count_3000|railroad_km', 'trc_count_3000|swim_pool_km', 'ttk_km|year', 'ttk_km|cafe_sum_5000_max_price_avg', 'ttk_km|big_church_km', 'ttk_km|market_shop_km', 'ttk_km|workplaces_km', 'ttk_km|ts_km', 'ttk_km|build_year', 'ttk_km|basketball_km', 'ttk_km|catering_km', 'ttk_km|railroad_station_avto_km', 'ttk_km|public_healthcare_km', 'ttk_km|rel_life_sq', 'ttk_km|railroad_km', 'ttk_km|swim_pool_km', 'year|cafe_sum_5000_max_price_avg', 'year|big_church_km', 'year|market_shop_km', 'year|workplaces_km', 'year|ts_km', 'year|build_year', 'year|basketball_km', 'year|catering_km', 'year|railroad_station_avto_km', 'year|public_healthcare_km', 'year|rel_life_sq', 'year|railroad_km', 'year|swim_pool_km', 'cafe_sum_5000_max_price_avg|big_church_km', 'cafe_sum_5000_max_price_avg|market_shop_km', 'cafe_sum_5000_max_price_avg|workplaces_km', 'cafe_sum_5000_max_price_avg|ts_km', 'cafe_sum_5000_max_price_avg|build_year', 'cafe_sum_5000_max_price_avg|basketball_km', 'cafe_sum_5000_max_price_avg|catering_km', 'cafe_sum_5000_max_price_avg|railroad_station_avto_km', 'cafe_sum_5000_max_price_avg|public_healthcare_km', 'cafe_sum_5000_max_price_avg|rel_life_sq', 'cafe_sum_5000_max_price_avg|railroad_km', 'cafe_sum_5000_max_price_avg|swim_pool_km', 'big_church_km|market_shop_km', 'big_church_km|workplaces_km', 'big_church_km|ts_km', 'big_church_km|build_year', 'big_church_km|basketball_km', 'big_church_km|catering_km', 'big_church_km|railroad_station_avto_km', 'big_church_km|public_healthcare_km', 'big_church_km|rel_life_sq', 'big_church_km|railroad_km', 'big_church_km|swim_pool_km', 'market_shop_km|workplaces_km', 'market_shop_km|ts_km', 'market_shop_km|build_year', 'market_shop_km|basketball_km', 'market_shop_km|catering_km', 'market_shop_km|railroad_station_avto_km', 'market_shop_km|public_healthcare_km', 'market_shop_km|rel_life_sq', 'market_shop_km|railroad_km', 'market_shop_km|swim_pool_km', 'workplaces_km|ts_km', 'workplaces_km|build_year', 'workplaces_km|basketball_km', 'workplaces_km|catering_km', 'workplaces_km|railroad_station_avto_km', 'workplaces_km|public_healthcare_km', 'workplaces_km|rel_life_sq', 'workplaces_km|railroad_km', 'workplaces_km|swim_pool_km', 'ts_km|build_year', 'ts_km|basketball_km', 'ts_km|catering_km', 'ts_km|railroad_station_avto_km', 'ts_km|public_healthcare_km', 'ts_km|rel_life_sq', 'ts_km|railroad_km', 'ts_km|swim_pool_km', 'build_year|basketball_km', 'build_year|catering_km', 'build_year|railroad_station_avto_km', 'build_year|public_healthcare_km', 'build_year|rel_life_sq', 'build_year|railroad_km', 'build_year|swim_pool_km', 'basketball_km|catering_km', 'basketball_km|railroad_station_avto_km', 'basketball_km|public_healthcare_km', 'basketball_km|rel_life_sq', 'basketball_km|railroad_km', 'basketball_km|swim_pool_km', 'catering_km|railroad_station_avto_km', 'catering_km|public_healthcare_km', 'catering_km|rel_life_sq', 'catering_km|railroad_km', 'catering_km|swim_pool_km', 'railroad_station_avto_km|public_healthcare_km', 'railroad_station_avto_km|rel_life_sq', 'railroad_station_avto_km|railroad_km', 'railroad_station_avto_km|swim_pool_km', 'public_healthcare_km|rel_life_sq', 'public_healthcare_km|railroad_km', 'public_healthcare_km|swim_pool_km', 'rel_life_sq|railroad_km', 'rel_life_sq|swim_pool_km', 'railroad_km|swim_pool_km']\n",
      "\n",
      "Categorical = ['product_type', 'sub_area', 'culture_objects_top_25', 'thermal_power_plant_raion', 'incineration_raion', 'oil_chemistry_raion', 'radiation_raion', 'railroad_terminal_raion', 'big_market_raion', 'nuclear_reactor_raion', 'detention_facility_raion', 'water_1line', 'big_road1_1line', 'railroad_1line', 'ecology']\n"
     ]
    }
   ],
   "source": [
    "encoded_combined_nums, cats = get_type_lists(frame=train)"
   ]
  },
  {
   "cell_type": "markdown",
   "metadata": {},
   "source": [
    "#### Function to generate submission file"
   ]
  },
  {
   "cell_type": "code",
   "execution_count": 47,
   "metadata": {
    "collapsed": true
   },
   "outputs": [],
   "source": [
    "import re\n",
    "import time\n",
    "\n",
    "def gen_submission(preds, test=test):\n",
    "    # create time stamp\n",
    "    time_stamp = re.sub('[: ]', '_', time.asctime())\n",
    "\n",
    "    # create predictions column\n",
    "    sub = test['id'].cbind(preds.exp())\n",
    "    sub.columns = ['id', 'price_doc']\n",
    "    \n",
    "    # save file for submission\n",
    "    sub_fname = wd+'/submission_' + str(time_stamp) + '.csv'\n",
    "    h2o.download_csv(sub, sub_fname)\n",
    "    return sub"
   ]
  },
  {
   "cell_type": "markdown",
   "metadata": {},
   "source": [
    "### Native XGBoost"
   ]
  },
  {
   "cell_type": "code",
   "execution_count": 45,
   "metadata": {
    "collapsed": false
   },
   "outputs": [],
   "source": [
    "\n",
    "ave_y = train['price_doc'].mean()[0] ###\n",
    "\n",
    "# XGBoost uses SVMLight data structure, not Numpy arrays or Pandas data frames \n",
    "dtrain1 = xgb.DMatrix(train.as_data_frame()[encoded_combined_nums],\n",
    "                      train.as_data_frame()['price_doc'], feature_names = encoded_combined_nums) ###\n",
    "dvalid1 = xgb.DMatrix(valid.as_data_frame()[encoded_combined_nums],\n",
    "                      valid.as_data_frame()['price_doc'], feature_names = encoded_combined_nums)\n",
    "dtest = xgb.DMatrix(test.as_data_frame()[encoded_combined_nums], feature_names = encoded_combined_nums)\n",
    "\n"
   ]
  },
  {
   "cell_type": "code",
   "execution_count": 49,
   "metadata": {
    "collapsed": false
   },
   "outputs": [
    {
     "name": "stdout",
     "output_type": "stream",
     "text": [
      "[0]\ttrain-rmse:0.599988\teval-rmse:0.611546\n",
      "Multiple eval metrics have been passed: 'eval-rmse' will be used for early stopping.\n",
      "\n",
      "Will train until eval-rmse hasn't improved in 50 rounds.\n",
      "[1]\ttrain-rmse:0.598816\teval-rmse:0.610512\n",
      "[2]\ttrain-rmse:0.597796\teval-rmse:0.609641\n",
      "[3]\ttrain-rmse:0.596706\teval-rmse:0.608727\n",
      "[4]\ttrain-rmse:0.595598\teval-rmse:0.607768\n",
      "[5]\ttrain-rmse:0.594567\teval-rmse:0.606843\n",
      "[6]\ttrain-rmse:0.593481\teval-rmse:0.605891\n",
      "[7]\ttrain-rmse:0.592335\teval-rmse:0.60489\n",
      "[8]\ttrain-rmse:0.591222\teval-rmse:0.6039\n",
      "[9]\ttrain-rmse:0.590236\teval-rmse:0.603027\n",
      "[10]\ttrain-rmse:0.589125\teval-rmse:0.602035\n",
      "[11]\ttrain-rmse:0.588151\teval-rmse:0.601156\n",
      "[12]\ttrain-rmse:0.587214\teval-rmse:0.600323\n",
      "[13]\ttrain-rmse:0.586236\teval-rmse:0.599471\n",
      "[14]\ttrain-rmse:0.585155\teval-rmse:0.598509\n",
      "[15]\ttrain-rmse:0.584167\teval-rmse:0.597625\n",
      "[16]\ttrain-rmse:0.583154\teval-rmse:0.59677\n",
      "[17]\ttrain-rmse:0.582108\teval-rmse:0.595813\n",
      "[18]\ttrain-rmse:0.581033\teval-rmse:0.594867\n",
      "[19]\ttrain-rmse:0.580011\teval-rmse:0.593933\n",
      "[20]\ttrain-rmse:0.579076\teval-rmse:0.59314\n",
      "[21]\ttrain-rmse:0.578086\teval-rmse:0.592324\n",
      "[22]\ttrain-rmse:0.577117\teval-rmse:0.591484\n",
      "[23]\ttrain-rmse:0.576225\teval-rmse:0.590725\n",
      "[24]\ttrain-rmse:0.575323\teval-rmse:0.589956\n",
      "[25]\ttrain-rmse:0.574508\teval-rmse:0.589255\n",
      "[26]\ttrain-rmse:0.573508\teval-rmse:0.58837\n",
      "[27]\ttrain-rmse:0.572547\teval-rmse:0.587534\n",
      "[28]\ttrain-rmse:0.571582\teval-rmse:0.586705\n",
      "[29]\ttrain-rmse:0.570654\teval-rmse:0.585925\n",
      "[30]\ttrain-rmse:0.569809\teval-rmse:0.585195\n",
      "[31]\ttrain-rmse:0.568981\teval-rmse:0.584486\n",
      "[32]\ttrain-rmse:0.568058\teval-rmse:0.583684\n",
      "[33]\ttrain-rmse:0.567173\teval-rmse:0.58293\n",
      "[34]\ttrain-rmse:0.566375\teval-rmse:0.582246\n",
      "[35]\ttrain-rmse:0.565487\teval-rmse:0.581499\n",
      "[36]\ttrain-rmse:0.564641\teval-rmse:0.580766\n",
      "[37]\ttrain-rmse:0.563752\teval-rmse:0.580021\n",
      "[38]\ttrain-rmse:0.562888\teval-rmse:0.579261\n",
      "[39]\ttrain-rmse:0.562079\teval-rmse:0.578561\n",
      "[40]\ttrain-rmse:0.561237\teval-rmse:0.577806\n",
      "[41]\ttrain-rmse:0.560378\teval-rmse:0.577097\n",
      "[42]\ttrain-rmse:0.559525\teval-rmse:0.576367\n",
      "[43]\ttrain-rmse:0.558652\teval-rmse:0.575638\n",
      "[44]\ttrain-rmse:0.557826\teval-rmse:0.574893\n",
      "[45]\ttrain-rmse:0.557041\teval-rmse:0.574204\n",
      "[46]\ttrain-rmse:0.556282\teval-rmse:0.573541\n",
      "[47]\ttrain-rmse:0.555509\teval-rmse:0.572893\n",
      "[48]\ttrain-rmse:0.554685\teval-rmse:0.57221\n",
      "[49]\ttrain-rmse:0.553874\teval-rmse:0.571511\n",
      "[50]\ttrain-rmse:0.553132\teval-rmse:0.570876\n",
      "[51]\ttrain-rmse:0.552375\teval-rmse:0.570208\n",
      "[52]\ttrain-rmse:0.551608\teval-rmse:0.56957\n",
      "[53]\ttrain-rmse:0.550802\teval-rmse:0.568876\n",
      "[54]\ttrain-rmse:0.550046\teval-rmse:0.568193\n",
      "[55]\ttrain-rmse:0.549262\teval-rmse:0.567509\n",
      "[56]\ttrain-rmse:0.548536\teval-rmse:0.566917\n",
      "[57]\ttrain-rmse:0.547789\teval-rmse:0.566262\n",
      "[58]\ttrain-rmse:0.547039\teval-rmse:0.565616\n",
      "[59]\ttrain-rmse:0.546259\teval-rmse:0.564939\n",
      "[60]\ttrain-rmse:0.545601\teval-rmse:0.564393\n",
      "[61]\ttrain-rmse:0.544804\teval-rmse:0.563737\n",
      "[62]\ttrain-rmse:0.544062\teval-rmse:0.563108\n",
      "[63]\ttrain-rmse:0.543332\teval-rmse:0.562465\n",
      "[64]\ttrain-rmse:0.542629\teval-rmse:0.561863\n",
      "[65]\ttrain-rmse:0.541903\teval-rmse:0.561282\n",
      "[66]\ttrain-rmse:0.541249\teval-rmse:0.560704\n",
      "[67]\ttrain-rmse:0.540539\teval-rmse:0.56012\n",
      "[68]\ttrain-rmse:0.539842\teval-rmse:0.5595\n",
      "[69]\ttrain-rmse:0.539204\teval-rmse:0.558927\n",
      "[70]\ttrain-rmse:0.5385\teval-rmse:0.558364\n",
      "[71]\ttrain-rmse:0.537782\teval-rmse:0.557763\n",
      "[72]\ttrain-rmse:0.537135\teval-rmse:0.557203\n",
      "[73]\ttrain-rmse:0.536483\teval-rmse:0.556674\n",
      "[74]\ttrain-rmse:0.535831\teval-rmse:0.55614\n",
      "[75]\ttrain-rmse:0.535159\teval-rmse:0.55557\n",
      "[76]\ttrain-rmse:0.534483\teval-rmse:0.554989\n",
      "[77]\ttrain-rmse:0.533814\teval-rmse:0.554426\n",
      "[78]\ttrain-rmse:0.533229\teval-rmse:0.553977\n",
      "[79]\ttrain-rmse:0.532535\teval-rmse:0.553396\n",
      "[80]\ttrain-rmse:0.532008\teval-rmse:0.552947\n",
      "[81]\ttrain-rmse:0.531453\teval-rmse:0.552449\n",
      "[82]\ttrain-rmse:0.530811\teval-rmse:0.551919\n",
      "[83]\ttrain-rmse:0.530178\teval-rmse:0.551381\n",
      "[84]\ttrain-rmse:0.529526\teval-rmse:0.55089\n",
      "[85]\ttrain-rmse:0.528977\teval-rmse:0.550426\n",
      "[86]\ttrain-rmse:0.528383\teval-rmse:0.549939\n",
      "[87]\ttrain-rmse:0.527801\teval-rmse:0.549426\n",
      "[88]\ttrain-rmse:0.527264\teval-rmse:0.548942\n",
      "[89]\ttrain-rmse:0.526595\teval-rmse:0.548385\n",
      "[90]\ttrain-rmse:0.526077\teval-rmse:0.547957\n",
      "[91]\ttrain-rmse:0.525519\teval-rmse:0.547496\n",
      "[92]\ttrain-rmse:0.524998\teval-rmse:0.547091\n",
      "[93]\ttrain-rmse:0.524417\teval-rmse:0.546615\n",
      "[94]\ttrain-rmse:0.523892\teval-rmse:0.546167\n",
      "[95]\ttrain-rmse:0.523373\teval-rmse:0.545748\n",
      "[96]\ttrain-rmse:0.522852\teval-rmse:0.545322\n",
      "[97]\ttrain-rmse:0.522224\teval-rmse:0.544774\n",
      "[98]\ttrain-rmse:0.521709\teval-rmse:0.544336\n",
      "[99]\ttrain-rmse:0.521158\teval-rmse:0.543873\n",
      "[100]\ttrain-rmse:0.520639\teval-rmse:0.543427\n",
      "[101]\ttrain-rmse:0.520126\teval-rmse:0.543\n",
      "[102]\ttrain-rmse:0.519626\teval-rmse:0.542537\n",
      "[103]\ttrain-rmse:0.519016\teval-rmse:0.542026\n",
      "[104]\ttrain-rmse:0.518508\teval-rmse:0.541601\n",
      "[105]\ttrain-rmse:0.518105\teval-rmse:0.541253\n",
      "[106]\ttrain-rmse:0.517626\teval-rmse:0.540873\n",
      "[107]\ttrain-rmse:0.517068\teval-rmse:0.540419\n",
      "[108]\ttrain-rmse:0.516516\teval-rmse:0.539989\n",
      "[109]\ttrain-rmse:0.516008\teval-rmse:0.539568\n",
      "[110]\ttrain-rmse:0.515553\teval-rmse:0.539199\n",
      "[111]\ttrain-rmse:0.515114\teval-rmse:0.538816\n",
      "[112]\ttrain-rmse:0.514694\teval-rmse:0.538459\n",
      "[113]\ttrain-rmse:0.514262\teval-rmse:0.538084\n",
      "[114]\ttrain-rmse:0.51376\teval-rmse:0.537667\n",
      "[115]\ttrain-rmse:0.513217\teval-rmse:0.537205\n",
      "[116]\ttrain-rmse:0.512685\teval-rmse:0.536789\n",
      "[117]\ttrain-rmse:0.512219\teval-rmse:0.53641\n",
      "[118]\ttrain-rmse:0.511701\teval-rmse:0.535962\n",
      "[119]\ttrain-rmse:0.51128\teval-rmse:0.53562\n",
      "[120]\ttrain-rmse:0.51082\teval-rmse:0.535281\n",
      "[121]\ttrain-rmse:0.510367\teval-rmse:0.534896\n",
      "[122]\ttrain-rmse:0.509895\teval-rmse:0.534505\n",
      "[123]\ttrain-rmse:0.509458\teval-rmse:0.534124\n",
      "[124]\ttrain-rmse:0.509002\teval-rmse:0.533782\n",
      "[125]\ttrain-rmse:0.50854\teval-rmse:0.533441\n",
      "[126]\ttrain-rmse:0.508084\teval-rmse:0.533099\n",
      "[127]\ttrain-rmse:0.507651\teval-rmse:0.532777\n",
      "[128]\ttrain-rmse:0.507249\teval-rmse:0.532428\n",
      "[129]\ttrain-rmse:0.506833\teval-rmse:0.532098\n",
      "[130]\ttrain-rmse:0.506397\teval-rmse:0.531758\n",
      "[131]\ttrain-rmse:0.505983\teval-rmse:0.531388\n",
      "[132]\ttrain-rmse:0.505598\teval-rmse:0.531115\n",
      "[133]\ttrain-rmse:0.505181\teval-rmse:0.530771\n",
      "[134]\ttrain-rmse:0.504794\teval-rmse:0.530444\n",
      "[135]\ttrain-rmse:0.504434\teval-rmse:0.530163\n",
      "[136]\ttrain-rmse:0.504015\teval-rmse:0.529833\n",
      "[137]\ttrain-rmse:0.503679\teval-rmse:0.529601\n",
      "[138]\ttrain-rmse:0.503311\teval-rmse:0.529265\n",
      "[139]\ttrain-rmse:0.502954\teval-rmse:0.528988\n",
      "[140]\ttrain-rmse:0.502579\teval-rmse:0.528685\n",
      "[141]\ttrain-rmse:0.502185\teval-rmse:0.528371\n",
      "[142]\ttrain-rmse:0.501723\teval-rmse:0.528018\n",
      "[143]\ttrain-rmse:0.501358\teval-rmse:0.527706\n",
      "[144]\ttrain-rmse:0.501032\teval-rmse:0.527439\n",
      "[145]\ttrain-rmse:0.500657\teval-rmse:0.527126\n",
      "[146]\ttrain-rmse:0.500283\teval-rmse:0.526803\n",
      "[147]\ttrain-rmse:0.499961\teval-rmse:0.526574\n",
      "[148]\ttrain-rmse:0.499587\teval-rmse:0.526311\n",
      "[149]\ttrain-rmse:0.49921\teval-rmse:0.525997\n",
      "[150]\ttrain-rmse:0.498833\teval-rmse:0.525692\n",
      "[151]\ttrain-rmse:0.498469\teval-rmse:0.525438\n",
      "[152]\ttrain-rmse:0.498145\teval-rmse:0.525193\n",
      "[153]\ttrain-rmse:0.497773\teval-rmse:0.524922\n",
      "[154]\ttrain-rmse:0.497477\teval-rmse:0.524698\n",
      "[155]\ttrain-rmse:0.497099\teval-rmse:0.524396\n",
      "[156]\ttrain-rmse:0.496793\teval-rmse:0.524177\n",
      "[157]\ttrain-rmse:0.496443\teval-rmse:0.523906\n",
      "[158]\ttrain-rmse:0.496068\teval-rmse:0.523622\n",
      "[159]\ttrain-rmse:0.495711\teval-rmse:0.523343\n",
      "[160]\ttrain-rmse:0.495397\teval-rmse:0.523075\n",
      "[161]\ttrain-rmse:0.495114\teval-rmse:0.522872\n",
      "[162]\ttrain-rmse:0.494788\teval-rmse:0.522634\n",
      "[163]\ttrain-rmse:0.494449\teval-rmse:0.522362\n",
      "[164]\ttrain-rmse:0.494109\teval-rmse:0.52209\n",
      "[165]\ttrain-rmse:0.493771\teval-rmse:0.521846\n",
      "[166]\ttrain-rmse:0.493439\teval-rmse:0.521602\n",
      "[167]\ttrain-rmse:0.493122\teval-rmse:0.521343\n",
      "[168]\ttrain-rmse:0.492776\teval-rmse:0.521089\n",
      "[169]\ttrain-rmse:0.492472\teval-rmse:0.520879\n",
      "[170]\ttrain-rmse:0.492199\teval-rmse:0.520677\n",
      "[171]\ttrain-rmse:0.491857\teval-rmse:0.52038\n",
      "[172]\ttrain-rmse:0.49149\teval-rmse:0.520085\n",
      "[173]\ttrain-rmse:0.491138\teval-rmse:0.519823\n",
      "[174]\ttrain-rmse:0.49079\teval-rmse:0.519548\n",
      "[175]\ttrain-rmse:0.490475\teval-rmse:0.519293\n",
      "[176]\ttrain-rmse:0.490218\teval-rmse:0.519094\n",
      "[177]\ttrain-rmse:0.48989\teval-rmse:0.518852\n",
      "[178]\ttrain-rmse:0.489627\teval-rmse:0.518635\n",
      "[179]\ttrain-rmse:0.489377\teval-rmse:0.518469\n",
      "[180]\ttrain-rmse:0.489067\teval-rmse:0.51824\n",
      "[181]\ttrain-rmse:0.488786\teval-rmse:0.518027\n",
      "[182]\ttrain-rmse:0.488472\teval-rmse:0.517806\n",
      "[183]\ttrain-rmse:0.488202\teval-rmse:0.517613\n",
      "[184]\ttrain-rmse:0.487911\teval-rmse:0.517383\n",
      "[185]\ttrain-rmse:0.487662\teval-rmse:0.517168\n",
      "[186]\ttrain-rmse:0.487385\teval-rmse:0.517008\n",
      "[187]\ttrain-rmse:0.487074\teval-rmse:0.516785\n",
      "[188]\ttrain-rmse:0.486803\teval-rmse:0.516574\n",
      "[189]\ttrain-rmse:0.486501\teval-rmse:0.516332\n",
      "[190]\ttrain-rmse:0.486226\teval-rmse:0.516125\n",
      "[191]\ttrain-rmse:0.48597\teval-rmse:0.515947\n",
      "[192]\ttrain-rmse:0.485727\teval-rmse:0.515749\n",
      "[193]\ttrain-rmse:0.485414\teval-rmse:0.515513\n",
      "[194]\ttrain-rmse:0.485152\teval-rmse:0.515306\n",
      "[195]\ttrain-rmse:0.484898\teval-rmse:0.515122\n",
      "[196]\ttrain-rmse:0.484646\teval-rmse:0.514943\n",
      "[197]\ttrain-rmse:0.484382\teval-rmse:0.514755\n",
      "[198]\ttrain-rmse:0.48413\teval-rmse:0.514589\n",
      "[199]\ttrain-rmse:0.483873\teval-rmse:0.514398\n",
      "[200]\ttrain-rmse:0.483602\teval-rmse:0.514194\n",
      "[201]\ttrain-rmse:0.48337\teval-rmse:0.514048\n",
      "[202]\ttrain-rmse:0.483082\teval-rmse:0.513818\n",
      "[203]\ttrain-rmse:0.48284\teval-rmse:0.513646\n",
      "[204]\ttrain-rmse:0.482572\teval-rmse:0.513432\n",
      "[205]\ttrain-rmse:0.482356\teval-rmse:0.513255\n",
      "[206]\ttrain-rmse:0.482126\teval-rmse:0.513043\n",
      "[207]\ttrain-rmse:0.481817\teval-rmse:0.512831\n",
      "[208]\ttrain-rmse:0.481542\teval-rmse:0.512636\n",
      "[209]\ttrain-rmse:0.481318\teval-rmse:0.512464\n",
      "[210]\ttrain-rmse:0.481093\teval-rmse:0.512279\n",
      "[211]\ttrain-rmse:0.480857\teval-rmse:0.512136\n",
      "[212]\ttrain-rmse:0.480601\teval-rmse:0.511937\n",
      "[213]\ttrain-rmse:0.480375\teval-rmse:0.511786\n",
      "[214]\ttrain-rmse:0.480142\teval-rmse:0.511605\n",
      "[215]\ttrain-rmse:0.479941\teval-rmse:0.51149\n",
      "[216]\ttrain-rmse:0.479703\teval-rmse:0.511317\n",
      "[217]\ttrain-rmse:0.479485\teval-rmse:0.511158\n",
      "[218]\ttrain-rmse:0.479268\teval-rmse:0.510998\n",
      "[219]\ttrain-rmse:0.479026\teval-rmse:0.510849\n",
      "[220]\ttrain-rmse:0.47879\teval-rmse:0.510678\n",
      "[221]\ttrain-rmse:0.478552\teval-rmse:0.510497\n",
      "[222]\ttrain-rmse:0.478339\teval-rmse:0.510363\n",
      "[223]\ttrain-rmse:0.478102\teval-rmse:0.510209\n",
      "[224]\ttrain-rmse:0.477844\teval-rmse:0.51005\n",
      "[225]\ttrain-rmse:0.477646\teval-rmse:0.509924\n",
      "[226]\ttrain-rmse:0.47746\teval-rmse:0.509774\n",
      "[227]\ttrain-rmse:0.477277\teval-rmse:0.509634\n",
      "[228]\ttrain-rmse:0.477051\teval-rmse:0.509464\n",
      "[229]\ttrain-rmse:0.476849\teval-rmse:0.509292\n",
      "[230]\ttrain-rmse:0.476623\teval-rmse:0.509126\n",
      "[231]\ttrain-rmse:0.47642\teval-rmse:0.508965\n",
      "[232]\ttrain-rmse:0.47619\teval-rmse:0.508819\n",
      "[233]\ttrain-rmse:0.475989\teval-rmse:0.508673\n",
      "[234]\ttrain-rmse:0.475773\teval-rmse:0.508527\n",
      "[235]\ttrain-rmse:0.475623\teval-rmse:0.50843\n",
      "[236]\ttrain-rmse:0.475418\teval-rmse:0.508322\n",
      "[237]\ttrain-rmse:0.47522\teval-rmse:0.508161\n",
      "[238]\ttrain-rmse:0.475033\teval-rmse:0.508008\n",
      "[239]\ttrain-rmse:0.474906\teval-rmse:0.507928\n",
      "[240]\ttrain-rmse:0.474702\teval-rmse:0.507809\n",
      "[241]\ttrain-rmse:0.474528\teval-rmse:0.507681\n",
      "[242]\ttrain-rmse:0.474336\teval-rmse:0.50753\n",
      "[243]\ttrain-rmse:0.474135\teval-rmse:0.507388\n",
      "[244]\ttrain-rmse:0.473912\teval-rmse:0.507188\n",
      "[245]\ttrain-rmse:0.473706\teval-rmse:0.507065\n",
      "[246]\ttrain-rmse:0.473473\teval-rmse:0.506902\n",
      "[247]\ttrain-rmse:0.473313\teval-rmse:0.506788\n",
      "[248]\ttrain-rmse:0.473127\teval-rmse:0.506669\n",
      "[249]\ttrain-rmse:0.472938\teval-rmse:0.506536\n",
      "[250]\ttrain-rmse:0.472723\teval-rmse:0.506387\n",
      "[251]\ttrain-rmse:0.47251\teval-rmse:0.506244\n",
      "[252]\ttrain-rmse:0.472324\teval-rmse:0.506122\n",
      "[253]\ttrain-rmse:0.472145\teval-rmse:0.506008\n",
      "[254]\ttrain-rmse:0.471966\teval-rmse:0.505888\n",
      "[255]\ttrain-rmse:0.471783\teval-rmse:0.505767\n",
      "[256]\ttrain-rmse:0.471631\teval-rmse:0.505643\n",
      "[257]\ttrain-rmse:0.471479\teval-rmse:0.505545\n",
      "[258]\ttrain-rmse:0.471317\teval-rmse:0.505436\n",
      "[259]\ttrain-rmse:0.471103\teval-rmse:0.50526\n",
      "[260]\ttrain-rmse:0.470925\teval-rmse:0.505126\n",
      "[261]\ttrain-rmse:0.470742\teval-rmse:0.504998\n",
      "[262]\ttrain-rmse:0.470586\teval-rmse:0.504888\n",
      "[263]\ttrain-rmse:0.470443\teval-rmse:0.504799\n",
      "[264]\ttrain-rmse:0.470298\teval-rmse:0.504682\n",
      "[265]\ttrain-rmse:0.470162\teval-rmse:0.504625\n",
      "[266]\ttrain-rmse:0.470022\teval-rmse:0.504547\n",
      "[267]\ttrain-rmse:0.469851\teval-rmse:0.504417\n",
      "[268]\ttrain-rmse:0.469697\teval-rmse:0.504273\n",
      "[269]\ttrain-rmse:0.469498\teval-rmse:0.504151\n",
      "[270]\ttrain-rmse:0.469334\teval-rmse:0.504029\n",
      "[271]\ttrain-rmse:0.469196\teval-rmse:0.503938\n",
      "[272]\ttrain-rmse:0.469015\teval-rmse:0.503803\n",
      "[273]\ttrain-rmse:0.468847\teval-rmse:0.503664\n",
      "[274]\ttrain-rmse:0.468651\teval-rmse:0.503544\n",
      "[275]\ttrain-rmse:0.468485\teval-rmse:0.503431\n",
      "[276]\ttrain-rmse:0.468347\teval-rmse:0.503336\n",
      "[277]\ttrain-rmse:0.468201\teval-rmse:0.503226\n",
      "[278]\ttrain-rmse:0.468034\teval-rmse:0.503096\n",
      "[279]\ttrain-rmse:0.467879\teval-rmse:0.502999\n",
      "[280]\ttrain-rmse:0.467725\teval-rmse:0.502869\n",
      "[281]\ttrain-rmse:0.467589\teval-rmse:0.502788\n",
      "[282]\ttrain-rmse:0.46746\teval-rmse:0.502693\n",
      "[283]\ttrain-rmse:0.467289\teval-rmse:0.502557\n",
      "[284]\ttrain-rmse:0.467127\teval-rmse:0.502448\n",
      "[285]\ttrain-rmse:0.466976\teval-rmse:0.502365\n",
      "[286]\ttrain-rmse:0.466873\teval-rmse:0.50228\n",
      "[287]\ttrain-rmse:0.46672\teval-rmse:0.502184\n",
      "[288]\ttrain-rmse:0.466552\teval-rmse:0.502073\n",
      "[289]\ttrain-rmse:0.466429\teval-rmse:0.501996\n",
      "[290]\ttrain-rmse:0.466285\teval-rmse:0.501919\n",
      "[291]\ttrain-rmse:0.466125\teval-rmse:0.501843\n",
      "[292]\ttrain-rmse:0.465981\teval-rmse:0.501739\n",
      "[293]\ttrain-rmse:0.465858\teval-rmse:0.501662\n",
      "[294]\ttrain-rmse:0.465741\teval-rmse:0.501595\n",
      "[295]\ttrain-rmse:0.465633\teval-rmse:0.501556\n",
      "[296]\ttrain-rmse:0.465527\teval-rmse:0.501489\n",
      "[297]\ttrain-rmse:0.465379\teval-rmse:0.501376\n",
      "[298]\ttrain-rmse:0.465263\teval-rmse:0.501296\n",
      "[299]\ttrain-rmse:0.465115\teval-rmse:0.501208\n",
      "[300]\ttrain-rmse:0.464947\teval-rmse:0.501117\n",
      "[301]\ttrain-rmse:0.46482\teval-rmse:0.501045\n",
      "[302]\ttrain-rmse:0.464671\teval-rmse:0.50093\n",
      "[303]\ttrain-rmse:0.464573\teval-rmse:0.500887\n",
      "[304]\ttrain-rmse:0.464376\teval-rmse:0.500747\n",
      "[305]\ttrain-rmse:0.464272\teval-rmse:0.500692\n",
      "[306]\ttrain-rmse:0.464149\teval-rmse:0.500628\n",
      "[307]\ttrain-rmse:0.464029\teval-rmse:0.500567\n",
      "[308]\ttrain-rmse:0.463903\teval-rmse:0.5005\n",
      "[309]\ttrain-rmse:0.46378\teval-rmse:0.500422\n",
      "[310]\ttrain-rmse:0.463662\teval-rmse:0.500342\n",
      "[311]\ttrain-rmse:0.463555\teval-rmse:0.500288\n",
      "[312]\ttrain-rmse:0.463433\teval-rmse:0.500192\n",
      "[313]\ttrain-rmse:0.463293\teval-rmse:0.500101\n",
      "[314]\ttrain-rmse:0.463174\teval-rmse:0.500027\n",
      "[315]\ttrain-rmse:0.463019\teval-rmse:0.499953\n",
      "[316]\ttrain-rmse:0.462901\teval-rmse:0.499887\n",
      "[317]\ttrain-rmse:0.462759\teval-rmse:0.499819\n",
      "[318]\ttrain-rmse:0.462616\teval-rmse:0.499752\n",
      "[319]\ttrain-rmse:0.462493\teval-rmse:0.499686\n",
      "[320]\ttrain-rmse:0.462379\teval-rmse:0.499618\n",
      "[321]\ttrain-rmse:0.462249\teval-rmse:0.499543\n",
      "[322]\ttrain-rmse:0.462141\teval-rmse:0.499492\n",
      "[323]\ttrain-rmse:0.462061\teval-rmse:0.499473\n",
      "[324]\ttrain-rmse:0.461939\teval-rmse:0.499411\n",
      "[325]\ttrain-rmse:0.461793\teval-rmse:0.499331\n",
      "[326]\ttrain-rmse:0.461648\teval-rmse:0.499267\n",
      "[327]\ttrain-rmse:0.461534\teval-rmse:0.499204\n",
      "[328]\ttrain-rmse:0.461429\teval-rmse:0.499143\n",
      "[329]\ttrain-rmse:0.461318\teval-rmse:0.499062\n",
      "[330]\ttrain-rmse:0.461198\teval-rmse:0.499013\n",
      "[331]\ttrain-rmse:0.46107\teval-rmse:0.49897\n",
      "[332]\ttrain-rmse:0.460996\teval-rmse:0.498925\n",
      "[333]\ttrain-rmse:0.46087\teval-rmse:0.498873\n",
      "[334]\ttrain-rmse:0.460732\teval-rmse:0.498785\n",
      "[335]\ttrain-rmse:0.460613\teval-rmse:0.498728\n",
      "[336]\ttrain-rmse:0.460496\teval-rmse:0.498672\n",
      "[337]\ttrain-rmse:0.460359\teval-rmse:0.498618\n",
      "[338]\ttrain-rmse:0.460253\teval-rmse:0.498536\n",
      "[339]\ttrain-rmse:0.460117\teval-rmse:0.498452\n",
      "[340]\ttrain-rmse:0.460011\teval-rmse:0.498386\n",
      "[341]\ttrain-rmse:0.459874\teval-rmse:0.49831\n",
      "[342]\ttrain-rmse:0.459803\teval-rmse:0.498258\n",
      "[343]\ttrain-rmse:0.459685\teval-rmse:0.498189\n",
      "[344]\ttrain-rmse:0.459552\teval-rmse:0.498132\n",
      "[345]\ttrain-rmse:0.459421\teval-rmse:0.49803\n",
      "[346]\ttrain-rmse:0.459332\teval-rmse:0.497996\n",
      "[347]\ttrain-rmse:0.459192\teval-rmse:0.497919\n",
      "[348]\ttrain-rmse:0.459093\teval-rmse:0.497856\n",
      "[349]\ttrain-rmse:0.459003\teval-rmse:0.497805\n",
      "[350]\ttrain-rmse:0.458897\teval-rmse:0.497772\n",
      "[351]\ttrain-rmse:0.458757\teval-rmse:0.497665\n",
      "[352]\ttrain-rmse:0.458651\teval-rmse:0.497585\n",
      "[353]\ttrain-rmse:0.458558\teval-rmse:0.497539\n",
      "[354]\ttrain-rmse:0.458454\teval-rmse:0.497481\n",
      "[355]\ttrain-rmse:0.458351\teval-rmse:0.497404\n",
      "[356]\ttrain-rmse:0.458269\teval-rmse:0.497406\n",
      "[357]\ttrain-rmse:0.458132\teval-rmse:0.497341\n",
      "[358]\ttrain-rmse:0.458042\teval-rmse:0.497298\n",
      "[359]\ttrain-rmse:0.45795\teval-rmse:0.497212\n",
      "[360]\ttrain-rmse:0.45785\teval-rmse:0.497115\n",
      "[361]\ttrain-rmse:0.457754\teval-rmse:0.497075\n",
      "[362]\ttrain-rmse:0.457631\teval-rmse:0.497009\n",
      "[363]\ttrain-rmse:0.457494\teval-rmse:0.496935\n",
      "[364]\ttrain-rmse:0.457386\teval-rmse:0.496844\n",
      "[365]\ttrain-rmse:0.457285\teval-rmse:0.496781\n",
      "[366]\ttrain-rmse:0.457202\teval-rmse:0.496746\n",
      "[367]\ttrain-rmse:0.457106\teval-rmse:0.496692\n",
      "[368]\ttrain-rmse:0.457024\teval-rmse:0.496656\n",
      "[369]\ttrain-rmse:0.456935\teval-rmse:0.4966\n",
      "[370]\ttrain-rmse:0.456858\teval-rmse:0.496564\n",
      "[371]\ttrain-rmse:0.456805\teval-rmse:0.496549\n",
      "[372]\ttrain-rmse:0.456704\teval-rmse:0.496486\n",
      "[373]\ttrain-rmse:0.456605\teval-rmse:0.496442\n",
      "[374]\ttrain-rmse:0.456543\teval-rmse:0.496395\n",
      "[375]\ttrain-rmse:0.456445\teval-rmse:0.49635\n",
      "[376]\ttrain-rmse:0.456373\teval-rmse:0.496315\n",
      "[377]\ttrain-rmse:0.456277\teval-rmse:0.496299\n",
      "[378]\ttrain-rmse:0.45617\teval-rmse:0.496233\n",
      "[379]\ttrain-rmse:0.456079\teval-rmse:0.496214\n",
      "[380]\ttrain-rmse:0.455962\teval-rmse:0.496159\n",
      "[381]\ttrain-rmse:0.455869\teval-rmse:0.496136\n",
      "[382]\ttrain-rmse:0.455769\teval-rmse:0.496095\n",
      "[383]\ttrain-rmse:0.455716\teval-rmse:0.496054\n",
      "[384]\ttrain-rmse:0.455622\teval-rmse:0.496028\n",
      "[385]\ttrain-rmse:0.45553\teval-rmse:0.495998\n",
      "[386]\ttrain-rmse:0.455459\teval-rmse:0.495962\n",
      "[387]\ttrain-rmse:0.455388\teval-rmse:0.495921\n",
      "[388]\ttrain-rmse:0.45527\teval-rmse:0.495896\n",
      "[389]\ttrain-rmse:0.4552\teval-rmse:0.495854\n",
      "[390]\ttrain-rmse:0.455137\teval-rmse:0.495821\n",
      "[391]\ttrain-rmse:0.455053\teval-rmse:0.495773\n",
      "[392]\ttrain-rmse:0.454965\teval-rmse:0.495727\n",
      "[393]\ttrain-rmse:0.454858\teval-rmse:0.495698\n",
      "[394]\ttrain-rmse:0.454764\teval-rmse:0.495639\n",
      "[395]\ttrain-rmse:0.454688\teval-rmse:0.495597\n",
      "[396]\ttrain-rmse:0.454599\teval-rmse:0.495562\n",
      "[397]\ttrain-rmse:0.454523\teval-rmse:0.495503\n",
      "[398]\ttrain-rmse:0.454464\teval-rmse:0.495491\n",
      "[399]\ttrain-rmse:0.454391\teval-rmse:0.495453\n",
      "[400]\ttrain-rmse:0.454326\teval-rmse:0.49543\n",
      "[401]\ttrain-rmse:0.454239\teval-rmse:0.495396\n",
      "[402]\ttrain-rmse:0.454147\teval-rmse:0.495351\n",
      "[403]\ttrain-rmse:0.454073\teval-rmse:0.495307\n",
      "[404]\ttrain-rmse:0.453939\teval-rmse:0.495218\n",
      "[405]\ttrain-rmse:0.453866\teval-rmse:0.495204\n",
      "[406]\ttrain-rmse:0.453817\teval-rmse:0.495184\n",
      "[407]\ttrain-rmse:0.453725\teval-rmse:0.495155\n",
      "[408]\ttrain-rmse:0.453619\teval-rmse:0.495137\n",
      "[409]\ttrain-rmse:0.453508\teval-rmse:0.495086\n",
      "[410]\ttrain-rmse:0.453446\teval-rmse:0.495063\n",
      "[411]\ttrain-rmse:0.453349\teval-rmse:0.494999\n",
      "[412]\ttrain-rmse:0.453248\teval-rmse:0.494961\n",
      "[413]\ttrain-rmse:0.453159\teval-rmse:0.494916\n",
      "[414]\ttrain-rmse:0.453081\teval-rmse:0.494893\n",
      "[415]\ttrain-rmse:0.453007\teval-rmse:0.494851\n",
      "[416]\ttrain-rmse:0.452918\teval-rmse:0.494835\n",
      "[417]\ttrain-rmse:0.452835\teval-rmse:0.494796\n",
      "[418]\ttrain-rmse:0.452793\teval-rmse:0.494764\n",
      "[419]\ttrain-rmse:0.452727\teval-rmse:0.494736\n",
      "[420]\ttrain-rmse:0.452644\teval-rmse:0.494705\n",
      "[421]\ttrain-rmse:0.452597\teval-rmse:0.494685\n",
      "[422]\ttrain-rmse:0.452495\teval-rmse:0.494646\n",
      "[423]\ttrain-rmse:0.452422\teval-rmse:0.494619\n",
      "[424]\ttrain-rmse:0.452393\teval-rmse:0.494631\n",
      "[425]\ttrain-rmse:0.45231\teval-rmse:0.494581\n",
      "[426]\ttrain-rmse:0.452251\teval-rmse:0.494543\n",
      "[427]\ttrain-rmse:0.452161\teval-rmse:0.494506\n",
      "[428]\ttrain-rmse:0.452094\teval-rmse:0.494493\n",
      "[429]\ttrain-rmse:0.452014\teval-rmse:0.494452\n",
      "[430]\ttrain-rmse:0.451962\teval-rmse:0.494437\n",
      "[431]\ttrain-rmse:0.451891\teval-rmse:0.494415\n",
      "[432]\ttrain-rmse:0.451816\teval-rmse:0.494382\n",
      "[433]\ttrain-rmse:0.451739\teval-rmse:0.494332\n",
      "[434]\ttrain-rmse:0.451683\teval-rmse:0.494305\n",
      "[435]\ttrain-rmse:0.451578\teval-rmse:0.494243\n",
      "[436]\ttrain-rmse:0.451478\teval-rmse:0.494191\n",
      "[437]\ttrain-rmse:0.451409\teval-rmse:0.494152\n",
      "[438]\ttrain-rmse:0.451333\teval-rmse:0.494117\n",
      "[439]\ttrain-rmse:0.451245\teval-rmse:0.494072\n",
      "[440]\ttrain-rmse:0.451161\teval-rmse:0.494026\n",
      "[441]\ttrain-rmse:0.4511\teval-rmse:0.494002\n",
      "[442]\ttrain-rmse:0.451028\teval-rmse:0.49396\n",
      "[443]\ttrain-rmse:0.450969\teval-rmse:0.493939\n",
      "[444]\ttrain-rmse:0.450922\teval-rmse:0.493913\n",
      "[445]\ttrain-rmse:0.450876\teval-rmse:0.493888\n",
      "[446]\ttrain-rmse:0.450812\teval-rmse:0.49387\n",
      "[447]\ttrain-rmse:0.450732\teval-rmse:0.49384\n",
      "[448]\ttrain-rmse:0.450666\teval-rmse:0.493816\n",
      "[449]\ttrain-rmse:0.450605\teval-rmse:0.493779\n",
      "[450]\ttrain-rmse:0.450554\teval-rmse:0.493758\n",
      "[451]\ttrain-rmse:0.45049\teval-rmse:0.493731\n",
      "[452]\ttrain-rmse:0.450386\teval-rmse:0.493693\n",
      "[453]\ttrain-rmse:0.450316\teval-rmse:0.493659\n",
      "[454]\ttrain-rmse:0.450272\teval-rmse:0.493644\n",
      "[455]\ttrain-rmse:0.450219\teval-rmse:0.493639\n",
      "[456]\ttrain-rmse:0.45018\teval-rmse:0.493627\n",
      "[457]\ttrain-rmse:0.450073\teval-rmse:0.493577\n",
      "[458]\ttrain-rmse:0.449998\teval-rmse:0.493519\n",
      "[459]\ttrain-rmse:0.449935\teval-rmse:0.49349\n",
      "[460]\ttrain-rmse:0.449879\teval-rmse:0.493473\n",
      "[461]\ttrain-rmse:0.449818\teval-rmse:0.493485\n",
      "[462]\ttrain-rmse:0.449769\teval-rmse:0.493484\n",
      "[463]\ttrain-rmse:0.449711\teval-rmse:0.493461\n",
      "[464]\ttrain-rmse:0.449661\teval-rmse:0.493443\n",
      "[465]\ttrain-rmse:0.449589\teval-rmse:0.493406\n",
      "[466]\ttrain-rmse:0.449498\teval-rmse:0.493343\n",
      "[467]\ttrain-rmse:0.449427\teval-rmse:0.493333\n",
      "[468]\ttrain-rmse:0.44934\teval-rmse:0.493311\n",
      "[469]\ttrain-rmse:0.44928\teval-rmse:0.493295\n",
      "[470]\ttrain-rmse:0.449165\teval-rmse:0.493234\n",
      "[471]\ttrain-rmse:0.449103\teval-rmse:0.493224\n",
      "[472]\ttrain-rmse:0.449035\teval-rmse:0.493196\n",
      "[473]\ttrain-rmse:0.448931\teval-rmse:0.493171\n",
      "[474]\ttrain-rmse:0.448901\teval-rmse:0.49317\n",
      "[475]\ttrain-rmse:0.448837\teval-rmse:0.493142\n",
      "[476]\ttrain-rmse:0.448778\teval-rmse:0.493137\n",
      "[477]\ttrain-rmse:0.448725\teval-rmse:0.493116\n",
      "[478]\ttrain-rmse:0.448639\teval-rmse:0.493079\n",
      "[479]\ttrain-rmse:0.448581\teval-rmse:0.493038\n",
      "[480]\ttrain-rmse:0.44852\teval-rmse:0.493017\n",
      "[481]\ttrain-rmse:0.448493\teval-rmse:0.493024\n",
      "[482]\ttrain-rmse:0.448448\teval-rmse:0.493017\n",
      "[483]\ttrain-rmse:0.448383\teval-rmse:0.492988\n",
      "[484]\ttrain-rmse:0.448303\teval-rmse:0.492968\n",
      "[485]\ttrain-rmse:0.448248\teval-rmse:0.492966\n",
      "[486]\ttrain-rmse:0.448219\teval-rmse:0.492948\n",
      "[487]\ttrain-rmse:0.448181\teval-rmse:0.492947\n",
      "[488]\ttrain-rmse:0.448105\teval-rmse:0.492936\n",
      "[489]\ttrain-rmse:0.448041\teval-rmse:0.492905\n",
      "[490]\ttrain-rmse:0.447973\teval-rmse:0.492878\n",
      "[491]\ttrain-rmse:0.447924\teval-rmse:0.492854\n",
      "[492]\ttrain-rmse:0.447865\teval-rmse:0.49283\n",
      "[493]\ttrain-rmse:0.447805\teval-rmse:0.492797\n",
      "[494]\ttrain-rmse:0.447731\teval-rmse:0.492792\n",
      "[495]\ttrain-rmse:0.447704\teval-rmse:0.492766\n",
      "[496]\ttrain-rmse:0.447665\teval-rmse:0.492762\n",
      "[497]\ttrain-rmse:0.447616\teval-rmse:0.492734\n",
      "[498]\ttrain-rmse:0.447566\teval-rmse:0.492705\n",
      "[499]\ttrain-rmse:0.44747\teval-rmse:0.492671\n",
      "[500]\ttrain-rmse:0.447418\teval-rmse:0.492642\n",
      "[501]\ttrain-rmse:0.447315\teval-rmse:0.492599\n",
      "[502]\ttrain-rmse:0.447274\teval-rmse:0.492588\n",
      "[503]\ttrain-rmse:0.447237\teval-rmse:0.492568\n",
      "[504]\ttrain-rmse:0.447148\teval-rmse:0.492533\n",
      "[505]\ttrain-rmse:0.447105\teval-rmse:0.492531\n",
      "[506]\ttrain-rmse:0.447089\teval-rmse:0.492515\n",
      "[507]\ttrain-rmse:0.447027\teval-rmse:0.492475\n",
      "[508]\ttrain-rmse:0.446967\teval-rmse:0.492442\n",
      "[509]\ttrain-rmse:0.446927\teval-rmse:0.492419\n",
      "[510]\ttrain-rmse:0.44688\teval-rmse:0.4924\n",
      "[511]\ttrain-rmse:0.446823\teval-rmse:0.49237\n",
      "[512]\ttrain-rmse:0.446776\teval-rmse:0.492337\n",
      "[513]\ttrain-rmse:0.446702\teval-rmse:0.492294\n",
      "[514]\ttrain-rmse:0.446651\teval-rmse:0.492269\n",
      "[515]\ttrain-rmse:0.446564\teval-rmse:0.492233\n",
      "[516]\ttrain-rmse:0.446497\teval-rmse:0.492196\n",
      "[517]\ttrain-rmse:0.446436\teval-rmse:0.492175\n",
      "[518]\ttrain-rmse:0.446383\teval-rmse:0.492169\n",
      "[519]\ttrain-rmse:0.446348\teval-rmse:0.492182\n",
      "[520]\ttrain-rmse:0.446283\teval-rmse:0.49216\n",
      "[521]\ttrain-rmse:0.446232\teval-rmse:0.492131\n",
      "[522]\ttrain-rmse:0.446198\teval-rmse:0.492117\n",
      "[523]\ttrain-rmse:0.446148\teval-rmse:0.492114\n",
      "[524]\ttrain-rmse:0.446125\teval-rmse:0.492114\n",
      "[525]\ttrain-rmse:0.44607\teval-rmse:0.492085\n",
      "[526]\ttrain-rmse:0.446\teval-rmse:0.492084\n",
      "[527]\ttrain-rmse:0.445942\teval-rmse:0.49205\n",
      "[528]\ttrain-rmse:0.445875\teval-rmse:0.492054\n",
      "[529]\ttrain-rmse:0.445774\teval-rmse:0.492011\n",
      "[530]\ttrain-rmse:0.445727\teval-rmse:0.492002\n",
      "[531]\ttrain-rmse:0.445667\teval-rmse:0.492007\n",
      "[532]\ttrain-rmse:0.445595\teval-rmse:0.491959\n",
      "[533]\ttrain-rmse:0.445557\teval-rmse:0.491926\n",
      "[534]\ttrain-rmse:0.445507\teval-rmse:0.491906\n",
      "[535]\ttrain-rmse:0.445447\teval-rmse:0.491882\n",
      "[536]\ttrain-rmse:0.445398\teval-rmse:0.491866\n",
      "[537]\ttrain-rmse:0.445354\teval-rmse:0.491843\n",
      "[538]\ttrain-rmse:0.445308\teval-rmse:0.491821\n",
      "[539]\ttrain-rmse:0.445279\teval-rmse:0.49182\n",
      "[540]\ttrain-rmse:0.445244\teval-rmse:0.491808\n",
      "[541]\ttrain-rmse:0.445223\teval-rmse:0.491789\n",
      "[542]\ttrain-rmse:0.445138\teval-rmse:0.491748\n",
      "[543]\ttrain-rmse:0.445098\teval-rmse:0.491751\n",
      "[544]\ttrain-rmse:0.445081\teval-rmse:0.491721\n",
      "[545]\ttrain-rmse:0.445038\teval-rmse:0.491703\n",
      "[546]\ttrain-rmse:0.444995\teval-rmse:0.491674\n",
      "[547]\ttrain-rmse:0.44493\teval-rmse:0.491647\n",
      "[548]\ttrain-rmse:0.444906\teval-rmse:0.491661\n",
      "[549]\ttrain-rmse:0.44486\teval-rmse:0.491655\n",
      "[550]\ttrain-rmse:0.444817\teval-rmse:0.491654\n",
      "[551]\ttrain-rmse:0.444777\teval-rmse:0.491651\n",
      "[552]\ttrain-rmse:0.444746\teval-rmse:0.491647\n",
      "[553]\ttrain-rmse:0.444697\teval-rmse:0.49162\n",
      "[554]\ttrain-rmse:0.444666\teval-rmse:0.491618\n",
      "[555]\ttrain-rmse:0.44462\teval-rmse:0.491599\n",
      "[556]\ttrain-rmse:0.4446\teval-rmse:0.491589\n",
      "[557]\ttrain-rmse:0.444554\teval-rmse:0.491562\n",
      "[558]\ttrain-rmse:0.444505\teval-rmse:0.491547\n",
      "[559]\ttrain-rmse:0.444489\teval-rmse:0.491562\n",
      "[560]\ttrain-rmse:0.444407\teval-rmse:0.491538\n",
      "[561]\ttrain-rmse:0.444326\teval-rmse:0.491515\n",
      "[562]\ttrain-rmse:0.444291\teval-rmse:0.49151\n",
      "[563]\ttrain-rmse:0.444243\teval-rmse:0.491489\n",
      "[564]\ttrain-rmse:0.444179\teval-rmse:0.49149\n",
      "[565]\ttrain-rmse:0.444129\teval-rmse:0.491489\n",
      "[566]\ttrain-rmse:0.444108\teval-rmse:0.491496\n",
      "[567]\ttrain-rmse:0.444059\teval-rmse:0.491505\n",
      "[568]\ttrain-rmse:0.444036\teval-rmse:0.491522\n",
      "[569]\ttrain-rmse:0.443995\teval-rmse:0.491527\n",
      "[570]\ttrain-rmse:0.443956\teval-rmse:0.491503\n",
      "[571]\ttrain-rmse:0.443922\teval-rmse:0.491512\n",
      "[572]\ttrain-rmse:0.443875\teval-rmse:0.491481\n",
      "[573]\ttrain-rmse:0.443808\teval-rmse:0.491459\n",
      "[574]\ttrain-rmse:0.443742\teval-rmse:0.491453\n",
      "[575]\ttrain-rmse:0.443682\teval-rmse:0.491433\n",
      "[576]\ttrain-rmse:0.44363\teval-rmse:0.491406\n",
      "[577]\ttrain-rmse:0.443549\teval-rmse:0.491416\n",
      "[578]\ttrain-rmse:0.443474\teval-rmse:0.491395\n",
      "[579]\ttrain-rmse:0.443431\teval-rmse:0.49137\n",
      "[580]\ttrain-rmse:0.44338\teval-rmse:0.491358\n",
      "[581]\ttrain-rmse:0.443331\teval-rmse:0.491353\n",
      "[582]\ttrain-rmse:0.443303\teval-rmse:0.491342\n",
      "[583]\ttrain-rmse:0.443246\teval-rmse:0.491308\n",
      "[584]\ttrain-rmse:0.443213\teval-rmse:0.491303\n",
      "[585]\ttrain-rmse:0.443198\teval-rmse:0.491341\n",
      "[586]\ttrain-rmse:0.443128\teval-rmse:0.491345\n",
      "[587]\ttrain-rmse:0.443107\teval-rmse:0.491342\n",
      "[588]\ttrain-rmse:0.443064\teval-rmse:0.491328\n",
      "[589]\ttrain-rmse:0.442996\teval-rmse:0.491325\n",
      "[590]\ttrain-rmse:0.44297\teval-rmse:0.491322\n",
      "[591]\ttrain-rmse:0.442926\teval-rmse:0.49131\n",
      "[592]\ttrain-rmse:0.442912\teval-rmse:0.491309\n",
      "[593]\ttrain-rmse:0.442871\teval-rmse:0.491292\n",
      "[594]\ttrain-rmse:0.44285\teval-rmse:0.491291\n",
      "[595]\ttrain-rmse:0.442821\teval-rmse:0.491276\n",
      "[596]\ttrain-rmse:0.442785\teval-rmse:0.491226\n",
      "[597]\ttrain-rmse:0.442731\teval-rmse:0.4912\n",
      "[598]\ttrain-rmse:0.442691\teval-rmse:0.491176\n",
      "[599]\ttrain-rmse:0.442646\teval-rmse:0.491182\n",
      "[600]\ttrain-rmse:0.442621\teval-rmse:0.491169\n",
      "[601]\ttrain-rmse:0.442593\teval-rmse:0.491166\n",
      "[602]\ttrain-rmse:0.442575\teval-rmse:0.491154\n",
      "[603]\ttrain-rmse:0.442545\teval-rmse:0.491115\n",
      "[604]\ttrain-rmse:0.442473\teval-rmse:0.491104\n",
      "[605]\ttrain-rmse:0.442442\teval-rmse:0.491113\n",
      "[606]\ttrain-rmse:0.442393\teval-rmse:0.491068\n",
      "[607]\ttrain-rmse:0.442366\teval-rmse:0.491063\n",
      "[608]\ttrain-rmse:0.44235\teval-rmse:0.491067\n",
      "[609]\ttrain-rmse:0.442293\teval-rmse:0.491047\n",
      "[610]\ttrain-rmse:0.442269\teval-rmse:0.491041\n",
      "[611]\ttrain-rmse:0.442234\teval-rmse:0.491057\n",
      "[612]\ttrain-rmse:0.442181\teval-rmse:0.491054\n",
      "[613]\ttrain-rmse:0.442134\teval-rmse:0.491041\n",
      "[614]\ttrain-rmse:0.442059\teval-rmse:0.491038\n",
      "[615]\ttrain-rmse:0.442039\teval-rmse:0.491028\n",
      "[616]\ttrain-rmse:0.442007\teval-rmse:0.490999\n",
      "[617]\ttrain-rmse:0.44198\teval-rmse:0.491002\n",
      "[618]\ttrain-rmse:0.441934\teval-rmse:0.490958\n",
      "[619]\ttrain-rmse:0.441921\teval-rmse:0.490953\n",
      "[620]\ttrain-rmse:0.441878\teval-rmse:0.49093\n",
      "[621]\ttrain-rmse:0.441845\teval-rmse:0.490912\n",
      "[622]\ttrain-rmse:0.441805\teval-rmse:0.490909\n",
      "[623]\ttrain-rmse:0.441736\teval-rmse:0.490873\n",
      "[624]\ttrain-rmse:0.441708\teval-rmse:0.490876\n",
      "[625]\ttrain-rmse:0.441671\teval-rmse:0.490865\n",
      "[626]\ttrain-rmse:0.441595\teval-rmse:0.490869\n",
      "[627]\ttrain-rmse:0.441563\teval-rmse:0.490878\n",
      "[628]\ttrain-rmse:0.441521\teval-rmse:0.490855\n",
      "[629]\ttrain-rmse:0.441504\teval-rmse:0.490844\n",
      "[630]\ttrain-rmse:0.441461\teval-rmse:0.490851\n",
      "[631]\ttrain-rmse:0.441439\teval-rmse:0.490847\n",
      "[632]\ttrain-rmse:0.441411\teval-rmse:0.49085\n",
      "[633]\ttrain-rmse:0.441349\teval-rmse:0.490844\n",
      "[634]\ttrain-rmse:0.441308\teval-rmse:0.490825\n",
      "[635]\ttrain-rmse:0.44126\teval-rmse:0.490792\n",
      "[636]\ttrain-rmse:0.441234\teval-rmse:0.490791\n",
      "[637]\ttrain-rmse:0.441166\teval-rmse:0.490761\n",
      "[638]\ttrain-rmse:0.441101\teval-rmse:0.490771\n",
      "[639]\ttrain-rmse:0.441048\teval-rmse:0.490763\n",
      "[640]\ttrain-rmse:0.441001\teval-rmse:0.490774\n",
      "[641]\ttrain-rmse:0.440988\teval-rmse:0.490792\n",
      "[642]\ttrain-rmse:0.440953\teval-rmse:0.49079\n",
      "[643]\ttrain-rmse:0.440924\teval-rmse:0.490774\n",
      "[644]\ttrain-rmse:0.44087\teval-rmse:0.490759\n",
      "[645]\ttrain-rmse:0.440831\teval-rmse:0.490733\n",
      "[646]\ttrain-rmse:0.440806\teval-rmse:0.490738\n",
      "[647]\ttrain-rmse:0.440783\teval-rmse:0.490731\n",
      "[648]\ttrain-rmse:0.440747\teval-rmse:0.490724\n",
      "[649]\ttrain-rmse:0.440712\teval-rmse:0.490718\n",
      "[650]\ttrain-rmse:0.440682\teval-rmse:0.490719\n",
      "[651]\ttrain-rmse:0.440662\teval-rmse:0.490742\n",
      "[652]\ttrain-rmse:0.440617\teval-rmse:0.490734\n",
      "[653]\ttrain-rmse:0.44059\teval-rmse:0.490739\n",
      "[654]\ttrain-rmse:0.440544\teval-rmse:0.490736\n",
      "[655]\ttrain-rmse:0.440528\teval-rmse:0.490757\n",
      "[656]\ttrain-rmse:0.440514\teval-rmse:0.49076\n",
      "[657]\ttrain-rmse:0.440466\teval-rmse:0.490761\n",
      "[658]\ttrain-rmse:0.440409\teval-rmse:0.490743\n",
      "[659]\ttrain-rmse:0.440368\teval-rmse:0.49075\n",
      "[660]\ttrain-rmse:0.440337\teval-rmse:0.490744\n",
      "[661]\ttrain-rmse:0.440326\teval-rmse:0.490745\n",
      "[662]\ttrain-rmse:0.440304\teval-rmse:0.490746\n",
      "[663]\ttrain-rmse:0.440277\teval-rmse:0.490746\n",
      "[664]\ttrain-rmse:0.440279\teval-rmse:0.490767\n",
      "[665]\ttrain-rmse:0.440228\teval-rmse:0.490762\n",
      "[666]\ttrain-rmse:0.440209\teval-rmse:0.490766\n",
      "[667]\ttrain-rmse:0.440156\teval-rmse:0.490743\n",
      "[668]\ttrain-rmse:0.440119\teval-rmse:0.490704\n",
      "[669]\ttrain-rmse:0.44007\teval-rmse:0.490664\n",
      "[670]\ttrain-rmse:0.440054\teval-rmse:0.490669\n",
      "[671]\ttrain-rmse:0.440004\teval-rmse:0.49064\n",
      "[672]\ttrain-rmse:0.439966\teval-rmse:0.490605\n",
      "[673]\ttrain-rmse:0.439906\teval-rmse:0.490581\n",
      "[674]\ttrain-rmse:0.439891\teval-rmse:0.490579\n",
      "[675]\ttrain-rmse:0.439866\teval-rmse:0.490574\n",
      "[676]\ttrain-rmse:0.439809\teval-rmse:0.490549\n",
      "[677]\ttrain-rmse:0.439762\teval-rmse:0.490529\n",
      "[678]\ttrain-rmse:0.439742\teval-rmse:0.490532\n",
      "[679]\ttrain-rmse:0.439719\teval-rmse:0.49053\n",
      "[680]\ttrain-rmse:0.439669\teval-rmse:0.490543\n",
      "[681]\ttrain-rmse:0.43965\teval-rmse:0.490524\n",
      "[682]\ttrain-rmse:0.439618\teval-rmse:0.490536\n",
      "[683]\ttrain-rmse:0.439576\teval-rmse:0.49052\n",
      "[684]\ttrain-rmse:0.439531\teval-rmse:0.490497\n",
      "[685]\ttrain-rmse:0.439493\teval-rmse:0.490499\n",
      "[686]\ttrain-rmse:0.439469\teval-rmse:0.490495\n",
      "[687]\ttrain-rmse:0.439431\teval-rmse:0.490475\n",
      "[688]\ttrain-rmse:0.439405\teval-rmse:0.490461\n",
      "[689]\ttrain-rmse:0.439368\teval-rmse:0.490452\n",
      "[690]\ttrain-rmse:0.439344\teval-rmse:0.490465\n",
      "[691]\ttrain-rmse:0.439324\teval-rmse:0.490455\n",
      "[692]\ttrain-rmse:0.43929\teval-rmse:0.49045\n",
      "[693]\ttrain-rmse:0.439255\teval-rmse:0.490434\n",
      "[694]\ttrain-rmse:0.439208\teval-rmse:0.490408\n",
      "[695]\ttrain-rmse:0.439189\teval-rmse:0.490416\n",
      "[696]\ttrain-rmse:0.439136\teval-rmse:0.490415\n",
      "[697]\ttrain-rmse:0.439085\teval-rmse:0.490413\n",
      "[698]\ttrain-rmse:0.439057\teval-rmse:0.490408\n",
      "[699]\ttrain-rmse:0.43901\teval-rmse:0.490388\n",
      "[700]\ttrain-rmse:0.43896\teval-rmse:0.490405\n",
      "[701]\ttrain-rmse:0.438929\teval-rmse:0.490421\n",
      "[702]\ttrain-rmse:0.438913\teval-rmse:0.490418\n",
      "[703]\ttrain-rmse:0.438881\teval-rmse:0.490405\n",
      "[704]\ttrain-rmse:0.438838\teval-rmse:0.490387\n",
      "[705]\ttrain-rmse:0.438811\teval-rmse:0.490381\n",
      "[706]\ttrain-rmse:0.438734\teval-rmse:0.49034\n",
      "[707]\ttrain-rmse:0.438703\teval-rmse:0.490336\n",
      "[708]\ttrain-rmse:0.438671\teval-rmse:0.490346\n",
      "[709]\ttrain-rmse:0.438651\teval-rmse:0.490356\n",
      "[710]\ttrain-rmse:0.438599\teval-rmse:0.490367\n",
      "[711]\ttrain-rmse:0.43857\teval-rmse:0.490373\n",
      "[712]\ttrain-rmse:0.438547\teval-rmse:0.49037\n",
      "[713]\ttrain-rmse:0.438495\teval-rmse:0.490364\n",
      "[714]\ttrain-rmse:0.43846\teval-rmse:0.490346\n",
      "[715]\ttrain-rmse:0.438433\teval-rmse:0.490327\n",
      "[716]\ttrain-rmse:0.43839\teval-rmse:0.490335\n",
      "[717]\ttrain-rmse:0.438372\teval-rmse:0.490327\n",
      "[718]\ttrain-rmse:0.438341\teval-rmse:0.490332\n",
      "[719]\ttrain-rmse:0.438335\teval-rmse:0.490336\n",
      "[720]\ttrain-rmse:0.438288\teval-rmse:0.490315\n",
      "[721]\ttrain-rmse:0.43826\teval-rmse:0.490313\n",
      "[722]\ttrain-rmse:0.438245\teval-rmse:0.490293\n",
      "[723]\ttrain-rmse:0.438218\teval-rmse:0.490291\n",
      "[724]\ttrain-rmse:0.438195\teval-rmse:0.490272\n",
      "[725]\ttrain-rmse:0.438163\teval-rmse:0.490258\n",
      "[726]\ttrain-rmse:0.438151\teval-rmse:0.490252\n",
      "[727]\ttrain-rmse:0.438122\teval-rmse:0.490261\n",
      "[728]\ttrain-rmse:0.438081\teval-rmse:0.49027\n",
      "[729]\ttrain-rmse:0.438021\teval-rmse:0.490236\n",
      "[730]\ttrain-rmse:0.43799\teval-rmse:0.490249\n",
      "[731]\ttrain-rmse:0.437953\teval-rmse:0.490254\n",
      "[732]\ttrain-rmse:0.437918\teval-rmse:0.490253\n",
      "[733]\ttrain-rmse:0.43787\teval-rmse:0.490269\n",
      "[734]\ttrain-rmse:0.437843\teval-rmse:0.490264\n",
      "[735]\ttrain-rmse:0.43779\teval-rmse:0.490257\n",
      "[736]\ttrain-rmse:0.437769\teval-rmse:0.490262\n",
      "[737]\ttrain-rmse:0.437713\teval-rmse:0.490245\n",
      "[738]\ttrain-rmse:0.437701\teval-rmse:0.490228\n",
      "[739]\ttrain-rmse:0.437684\teval-rmse:0.490234\n",
      "[740]\ttrain-rmse:0.437666\teval-rmse:0.490231\n",
      "[741]\ttrain-rmse:0.437633\teval-rmse:0.490239\n",
      "[742]\ttrain-rmse:0.437607\teval-rmse:0.490224\n",
      "[743]\ttrain-rmse:0.43757\teval-rmse:0.490222\n",
      "[744]\ttrain-rmse:0.437538\teval-rmse:0.490214\n",
      "[745]\ttrain-rmse:0.437515\teval-rmse:0.490221\n",
      "[746]\ttrain-rmse:0.437493\teval-rmse:0.490221\n",
      "[747]\ttrain-rmse:0.437486\teval-rmse:0.4902\n",
      "[748]\ttrain-rmse:0.437451\teval-rmse:0.490199\n",
      "[749]\ttrain-rmse:0.437423\teval-rmse:0.490185\n",
      "[750]\ttrain-rmse:0.437381\teval-rmse:0.490162\n",
      "[751]\ttrain-rmse:0.437374\teval-rmse:0.490154\n",
      "[752]\ttrain-rmse:0.437351\teval-rmse:0.490163\n",
      "[753]\ttrain-rmse:0.437329\teval-rmse:0.490157\n",
      "[754]\ttrain-rmse:0.437316\teval-rmse:0.490154\n",
      "[755]\ttrain-rmse:0.437318\teval-rmse:0.490188\n",
      "[756]\ttrain-rmse:0.437289\teval-rmse:0.490186\n",
      "[757]\ttrain-rmse:0.437286\teval-rmse:0.490202\n",
      "[758]\ttrain-rmse:0.437231\teval-rmse:0.490218\n",
      "[759]\ttrain-rmse:0.437195\teval-rmse:0.490209\n",
      "[760]\ttrain-rmse:0.437154\teval-rmse:0.490218\n",
      "[761]\ttrain-rmse:0.437105\teval-rmse:0.490213\n",
      "[762]\ttrain-rmse:0.437088\teval-rmse:0.490201\n",
      "[763]\ttrain-rmse:0.437026\teval-rmse:0.490198\n",
      "[764]\ttrain-rmse:0.437007\teval-rmse:0.490199\n",
      "[765]\ttrain-rmse:0.436973\teval-rmse:0.490175\n",
      "[766]\ttrain-rmse:0.436937\teval-rmse:0.490198\n",
      "[767]\ttrain-rmse:0.436914\teval-rmse:0.490219\n",
      "[768]\ttrain-rmse:0.436906\teval-rmse:0.49024\n",
      "[769]\ttrain-rmse:0.436875\teval-rmse:0.490252\n",
      "[770]\ttrain-rmse:0.436829\teval-rmse:0.490247\n",
      "[771]\ttrain-rmse:0.436804\teval-rmse:0.49024\n",
      "[772]\ttrain-rmse:0.436764\teval-rmse:0.490218\n",
      "[773]\ttrain-rmse:0.436724\teval-rmse:0.490227\n",
      "[774]\ttrain-rmse:0.436687\teval-rmse:0.49023\n",
      "[775]\ttrain-rmse:0.436669\teval-rmse:0.490232\n",
      "[776]\ttrain-rmse:0.43664\teval-rmse:0.490226\n",
      "[777]\ttrain-rmse:0.436604\teval-rmse:0.490224\n",
      "[778]\ttrain-rmse:0.436588\teval-rmse:0.490217\n",
      "[779]\ttrain-rmse:0.436571\teval-rmse:0.490252\n",
      "[780]\ttrain-rmse:0.43654\teval-rmse:0.490233\n",
      "[781]\ttrain-rmse:0.436508\teval-rmse:0.490232\n",
      "[782]\ttrain-rmse:0.436473\teval-rmse:0.490231\n",
      "[783]\ttrain-rmse:0.436448\teval-rmse:0.490237\n",
      "[784]\ttrain-rmse:0.436427\teval-rmse:0.490244\n",
      "[785]\ttrain-rmse:0.436414\teval-rmse:0.490258\n",
      "[786]\ttrain-rmse:0.436379\teval-rmse:0.490249\n",
      "[787]\ttrain-rmse:0.436366\teval-rmse:0.490244\n",
      "[788]\ttrain-rmse:0.436343\teval-rmse:0.490259\n",
      "[789]\ttrain-rmse:0.436335\teval-rmse:0.490264\n",
      "[790]\ttrain-rmse:0.436319\teval-rmse:0.490265\n",
      "[791]\ttrain-rmse:0.436296\teval-rmse:0.490289\n",
      "[792]\ttrain-rmse:0.436278\teval-rmse:0.490289\n",
      "[793]\ttrain-rmse:0.436247\teval-rmse:0.490283\n",
      "[794]\ttrain-rmse:0.436203\teval-rmse:0.490277\n",
      "[795]\ttrain-rmse:0.436153\teval-rmse:0.490268\n",
      "[796]\ttrain-rmse:0.436138\teval-rmse:0.490261\n",
      "[797]\ttrain-rmse:0.436121\teval-rmse:0.490252\n",
      "[798]\ttrain-rmse:0.436099\teval-rmse:0.490257\n",
      "[799]\ttrain-rmse:0.436045\teval-rmse:0.490264\n",
      "[800]\ttrain-rmse:0.436035\teval-rmse:0.490255\n",
      "[801]\ttrain-rmse:0.435986\teval-rmse:0.490243\n",
      "Stopping. Best iteration:\n",
      "[751]\ttrain-rmse:0.437374\teval-rmse:0.490154\n",
      "\n"
     ]
    }
   ],
   "source": [
    "# tuning parameters\n",
    "params1 = {\n",
    "    'objective': 'reg:linear',\n",
    "    'booster': 'gbtree', \n",
    "    'eval_metric': 'rmse',\n",
    "    'eta': 0.005,\n",
    "    'subsample': 0.1, \n",
    "    'colsample_bytree': 0.8,\n",
    "    'max_depth': 5,\n",
    "    'reg_alpha' : 0.007,\n",
    "    'reg_lambda' : 0.0,\n",
    "    'base_score': ave_y,\n",
    "    'silent': 0,\n",
    "    'seed': 12345,\n",
    "}\n",
    "\n",
    "# watchlist is used for early stopping\n",
    "watchlist = [(dtrain1, 'train'), (dvalid1, 'eval')]\n",
    "\n",
    "# train model\n",
    "xgb_model1 = xgb.train(params1, \n",
    "                       dtrain1, \n",
    "                       10000,\n",
    "                       evals=watchlist, \n",
    "                       early_stopping_rounds=50,   ###\n",
    "                       verbose_eval=True)\n",
    "\n",
    "num_boost_round = xgb_model1.best_iteration\n",
    "\n",
    "# create assessment stats and submission file\n",
    "#xgb_preds1_val = h2o.H2OFrame(xgb_model1.predict(dvalid1).tolist())\n",
    "#ranked_preds_plot('SalePrice', valid, xgb_preds1_val) \n",
    "#xgb_preds1_test = h2o.H2OFrame(xgb_model1.predict(dtest).tolist())\n",
    "#gen_submission(xgb_preds1_test) \n",
    "\n"
   ]
  },
  {
   "cell_type": "code",
   "execution_count": null,
   "metadata": {
    "collapsed": true
   },
   "outputs": [],
   "source": [
    "\n",
    "#stopping_rounds=20: train-rmse:0.437374\n",
    "#0.34135 public leaderborad"
   ]
  },
  {
   "cell_type": "code",
   "execution_count": 48,
   "metadata": {
    "collapsed": false
   },
   "outputs": [
    {
     "data": {
      "text/html": [
       "<table>\n",
       "<thead>\n",
       "<tr><th style=\"text-align: right;\">   id</th><th style=\"text-align: right;\">  price_doc</th></tr>\n",
       "</thead>\n",
       "<tbody>\n",
       "<tr><td style=\"text-align: right;\">30474</td><td style=\"text-align: right;\">5.35406e+06</td></tr>\n",
       "<tr><td style=\"text-align: right;\">30475</td><td style=\"text-align: right;\">7.80288e+06</td></tr>\n",
       "<tr><td style=\"text-align: right;\">30476</td><td style=\"text-align: right;\">5.39556e+06</td></tr>\n",
       "<tr><td style=\"text-align: right;\">30477</td><td style=\"text-align: right;\">5.47273e+06</td></tr>\n",
       "<tr><td style=\"text-align: right;\">30478</td><td style=\"text-align: right;\">5.00366e+06</td></tr>\n",
       "<tr><td style=\"text-align: right;\">30479</td><td style=\"text-align: right;\">6.76249e+06</td></tr>\n",
       "<tr><td style=\"text-align: right;\">30480</td><td style=\"text-align: right;\">4.66805e+06</td></tr>\n",
       "<tr><td style=\"text-align: right;\">30481</td><td style=\"text-align: right;\">4.523e+06  </td></tr>\n",
       "<tr><td style=\"text-align: right;\">30482</td><td style=\"text-align: right;\">4.97569e+06</td></tr>\n",
       "<tr><td style=\"text-align: right;\">30483</td><td style=\"text-align: right;\">4.98672e+06</td></tr>\n",
       "</tbody>\n",
       "</table>"
      ]
     },
     "metadata": {},
     "output_type": "display_data"
    },
    {
     "data": {
      "text/plain": []
     },
     "execution_count": 48,
     "metadata": {},
     "output_type": "execute_result"
    }
   ],
   "source": [
    "xgb_preds1_val = h2o.H2OFrame(xgb_model1.predict(dvalid1).tolist())\n",
    "#ranked_preds_plot('SalePrice', valid, xgb_preds1_val) \n",
    "xgb_preds1_test = h2o.H2OFrame(xgb_model1.predict(dtest).tolist())\n",
    "gen_submission(xgb_preds1_test)"
   ]
  },
  {
   "cell_type": "markdown",
   "metadata": {
    "collapsed": true
   },
   "source": [
    "### Random forest model"
   ]
  },
  {
   "cell_type": "code",
   "execution_count": 53,
   "metadata": {
    "collapsed": false
   },
   "outputs": [
    {
     "ename": "H2OResponseError",
     "evalue": "ModelBuilderErrorV3  (water.exceptions.H2OModelBuilderIllegalArgumentException):\n    timestamp = 1497836305429\n    error_url = '/3/ModelBuilders/drf'\n    msg = 'Illegal argument(s) for DRF model: rf_model.  Details: ERRR on field: _train: Missing training frame: py_104_sid_abc6'\n    dev_msg = 'Illegal argument(s) for DRF model: rf_model.  Details: ERRR on field: _train: Missing training frame: py_104_sid_abc6'\n    http_status = 412\n    values = {'messages': [{'_log_level': 1, '_field_name': '_train', '_message': 'Missing training frame: py_104_sid_abc6'}], 'algo': 'DRF', 'parameters': {'_train': {'name': 'py_104_sid_abc6', 'type': 'Key'}, '_valid': {'name': 'py_107_sid_abc6', 'type': 'Key'}, '_nfolds': 3, '_keep_cross_validation_predictions': True, '_keep_cross_validation_fold_assignment': False, '_parallelize_cross_validation': True, '_auto_rebalance': True, '_seed': 12345, '_fold_assignment': 'AUTO', '_categorical_encoding': 'AUTO', '_max_categorical_levels': 10, '_distribution': 'AUTO', '_tweedie_power': 1.5, '_quantile_alpha': 0.5, '_huber_alpha': 0.9, '_ignored_columns': ['ecology', 'big_market_raion', 'culture_objects_top_25', 'detention_facility_raion', 'radiation_raion', 'big_road1_1line', 'product_type', 'oil_chemistry_raion', 'incineration_raion', 'railroad_terminal_raion', 'sub_area', 'nuclear_reactor_raion', 'railroad_1line', 'id', 'thermal_power_plant_raion', 'water_1line'], '_ignore_const_cols': True, '_weights_column': None, '_offset_column': None, '_fold_column': None, '_is_cv_model': False, '_score_each_iteration': True, '_max_runtime_secs': 0.0, '_stopping_rounds': 50, '_stopping_metric': 'AUTO', '_stopping_tolerance': 0.001, '_response_column': 'price_doc', '_balance_classes': False, '_max_after_balance_size': 5.0, '_class_sampling_factors': None, '_max_confusion_matrix_size': 20, '_checkpoint': None, '_pretrained_autoencoder': None, '_ntrees': 10000, '_max_depth': 10, '_min_rows': 1.0, '_nbins': 20, '_nbins_cats': 1024, '_min_split_improvement': 1e-05, '_histogram_type': 'AUTO', '_r2_stopping': 1.7976931348623157e+308, '_nbins_top_level': 1024, '_build_tree_one_node': False, '_score_tree_interval': 0, '_initial_score_interval': 4000, '_score_interval': 4000, '_sample_rate': 0.8, '_sample_rate_per_class': None, '_calibrate_model': False, '_calibration_frame': None, '_col_sample_rate_change_per_level': 1.0, '_col_sample_rate_per_tree': 0.1, '_binomial_double_trees': False, '_mtries': -1}, 'error_count': 2}\n    exception_msg = 'Illegal argument(s) for DRF model: rf_model.  Details: ERRR on field: _train: Missing training frame: py_104_sid_abc6'\n    stacktrace =\n        water.exceptions.H2OModelBuilderIllegalArgumentException: Illegal argument(s) for DRF model: rf_model.  Details: ERRR on field: _train: Missing training frame: py_104_sid_abc6\n        water.exceptions.H2OModelBuilderIllegalArgumentException.makeFromBuilder(H2OModelBuilderIllegalArgumentException.java:20)\n        hex.ModelBuilder.trainModel(ModelBuilder.java:198)\n        water.api.ModelBuilderHandler.handle(ModelBuilderHandler.java:53)\n        water.api.ModelBuilderHandler.handle(ModelBuilderHandler.java:16)\n        water.api.RequestServer.serve(RequestServer.java:448)\n        water.api.RequestServer.doGeneric(RequestServer.java:297)\n        water.api.RequestServer.doPost(RequestServer.java:223)\n        javax.servlet.http.HttpServlet.service(HttpServlet.java:755)\n        javax.servlet.http.HttpServlet.service(HttpServlet.java:848)\n        org.eclipse.jetty.servlet.ServletHolder.handle(ServletHolder.java:684)\n        org.eclipse.jetty.servlet.ServletHandler.doHandle(ServletHandler.java:503)\n        org.eclipse.jetty.server.handler.ContextHandler.doHandle(ContextHandler.java:1086)\n        org.eclipse.jetty.servlet.ServletHandler.doScope(ServletHandler.java:429)\n        org.eclipse.jetty.server.handler.ContextHandler.doScope(ContextHandler.java:1020)\n        org.eclipse.jetty.server.handler.ScopedHandler.handle(ScopedHandler.java:135)\n        org.eclipse.jetty.server.handler.HandlerCollection.handle(HandlerCollection.java:154)\n        org.eclipse.jetty.server.handler.HandlerWrapper.handle(HandlerWrapper.java:116)\n        water.JettyHTTPD$LoginHandler.handle(JettyHTTPD.java:183)\n        org.eclipse.jetty.server.handler.HandlerCollection.handle(HandlerCollection.java:154)\n        org.eclipse.jetty.server.handler.HandlerWrapper.handle(HandlerWrapper.java:116)\n        org.eclipse.jetty.server.Server.handle(Server.java:370)\n        org.eclipse.jetty.server.AbstractHttpConnection.handleRequest(AbstractHttpConnection.java:494)\n        org.eclipse.jetty.server.BlockingHttpConnection.handleRequest(BlockingHttpConnection.java:53)\n        org.eclipse.jetty.server.AbstractHttpConnection.content(AbstractHttpConnection.java:982)\n        org.eclipse.jetty.server.AbstractHttpConnection$RequestHandler.content(AbstractHttpConnection.java:1043)\n        org.eclipse.jetty.http.HttpParser.parseNext(HttpParser.java:865)\n        org.eclipse.jetty.http.HttpParser.parseAvailable(HttpParser.java:240)\n        org.eclipse.jetty.server.BlockingHttpConnection.handle(BlockingHttpConnection.java:72)\n        org.eclipse.jetty.server.bio.SocketConnector$ConnectorEndPoint.run(SocketConnector.java:264)\n        org.eclipse.jetty.util.thread.QueuedThreadPool.runJob(QueuedThreadPool.java:608)\n        org.eclipse.jetty.util.thread.QueuedThreadPool$3.run(QueuedThreadPool.java:543)\n        java.lang.Thread.run(Thread.java:748)\n    parameters = {'__meta': {'schema_version': 3, 'schema_name': 'DRFParametersV3', 'schema_type': 'DRFParameters'}, 'model_id': None, 'training_frame': None, 'validation_frame': None, 'nfolds': 3, 'keep_cross_validation_predictions': True, 'keep_cross_validation_fold_assignment': False, 'parallelize_cross_validation': True, 'distribution': 'AUTO', 'tweedie_power': 1.5, 'quantile_alpha': 0.5, 'huber_alpha': 0.9, 'response_column': {'__meta': {'schema_version': 3, 'schema_name': 'ColSpecifierV3', 'schema_type': 'VecSpecifier'}, 'column_name': 'price_doc', 'is_member_of_frames': None}, 'weights_column': None, 'offset_column': None, 'fold_column': None, 'fold_assignment': 'AUTO', 'categorical_encoding': 'AUTO', 'max_categorical_levels': 10, 'ignored_columns': ['ecology', 'big_market_raion', 'culture_objects_top_25', 'detention_facility_raion', 'radiation_raion', 'big_road1_1line', 'product_type', 'oil_chemistry_raion', 'incineration_raion', 'railroad_terminal_raion', 'sub_area', 'nuclear_reactor_raion', 'railroad_1line', 'id', 'thermal_power_plant_raion', 'water_1line'], 'ignore_const_cols': True, 'score_each_iteration': True, 'checkpoint': None, 'stopping_rounds': 50, 'max_runtime_secs': 0.0, 'stopping_metric': 'AUTO', 'stopping_tolerance': 0.001, 'balance_classes': False, 'class_sampling_factors': None, 'max_after_balance_size': 5.0, 'max_confusion_matrix_size': 20, 'max_hit_ratio_k': 0, 'ntrees': 10000, 'max_depth': 10, 'min_rows': 1.0, 'nbins': 20, 'nbins_top_level': 1024, 'nbins_cats': 1024, 'r2_stopping': 1.7976931348623157e+308, 'seed': 12345, 'build_tree_one_node': False, 'sample_rate': 0.8, 'sample_rate_per_class': None, 'col_sample_rate_per_tree': 0.1, 'col_sample_rate_change_per_level': 1.0, 'score_tree_interval': 0, 'min_split_improvement': 1e-05, 'histogram_type': 'AUTO', 'calibrate_model': False, 'calibration_frame': None, 'mtries': -1, 'binomial_double_trees': False}\n    messages = [{'__meta': {'schema_version': 3, 'schema_name': 'ValidationMessageV3', 'schema_type': 'ValidationMessage'}, 'message_type': 'ERRR', 'field_name': 'train', 'message': 'Missing training frame: py_104_sid_abc6'}]\n    error_count = 2\n",
     "output_type": "error",
     "traceback": [
      "\u001b[0;31m---------------------------------------------------------------------------\u001b[0m",
      "\u001b[0;31mH2OResponseError\u001b[0m                          Traceback (most recent call last)",
      "\u001b[0;32m<ipython-input-53-778eb9e90e39>\u001b[0m in \u001b[0;36m<module>\u001b[0;34m()\u001b[0m\n\u001b[1;32m     17\u001b[0m     \u001b[0my\u001b[0m\u001b[0;34m=\u001b[0m\u001b[0;34m'price_doc'\u001b[0m\u001b[0;34m,\u001b[0m\u001b[0;34m\u001b[0m\u001b[0m\n\u001b[1;32m     18\u001b[0m     \u001b[0mtraining_frame\u001b[0m\u001b[0;34m=\u001b[0m\u001b[0mtrain\u001b[0m\u001b[0;34m,\u001b[0m\u001b[0;34m\u001b[0m\u001b[0m\n\u001b[0;32m---> 19\u001b[0;31m     validation_frame=valid)\n\u001b[0m\u001b[1;32m     20\u001b[0m \u001b[0;34m\u001b[0m\u001b[0m\n\u001b[1;32m     21\u001b[0m \u001b[0;31m# print model information\u001b[0m\u001b[0;34m\u001b[0m\u001b[0;34m\u001b[0m\u001b[0m\n",
      "\u001b[0;32m/anaconda/lib/python3.6/site-packages/h2o/estimators/estimator_base.py\u001b[0m in \u001b[0;36mtrain\u001b[0;34m(self, x, y, training_frame, offset_column, fold_column, weights_column, validation_frame, max_runtime_secs, ignored_columns, model_id)\u001b[0m\n\u001b[1;32m    194\u001b[0m         \u001b[0mrest_ver\u001b[0m \u001b[0;34m=\u001b[0m \u001b[0mparms\u001b[0m\u001b[0;34m.\u001b[0m\u001b[0mpop\u001b[0m\u001b[0;34m(\u001b[0m\u001b[0;34m\"_rest_version\"\u001b[0m\u001b[0;34m)\u001b[0m \u001b[0;32mif\u001b[0m \u001b[0;34m\"_rest_version\"\u001b[0m \u001b[0;32min\u001b[0m \u001b[0mparms\u001b[0m \u001b[0;32melse\u001b[0m \u001b[0;36m3\u001b[0m\u001b[0;34m\u001b[0m\u001b[0m\n\u001b[1;32m    195\u001b[0m \u001b[0;34m\u001b[0m\u001b[0m\n\u001b[0;32m--> 196\u001b[0;31m         model = H2OJob(h2o.api(\"POST /%d/ModelBuilders/%s\" % (rest_ver, self.algo), data=parms),\n\u001b[0m\u001b[1;32m    197\u001b[0m                        job_type=(self.algo + \" Model Build\"))\n\u001b[1;32m    198\u001b[0m \u001b[0;34m\u001b[0m\u001b[0m\n",
      "\u001b[0;32m/anaconda/lib/python3.6/site-packages/h2o/h2o.py\u001b[0m in \u001b[0;36mapi\u001b[0;34m(endpoint, data, json, filename, save_to)\u001b[0m\n\u001b[1;32m    100\u001b[0m     \u001b[0;31m# type checks are performed in H2OConnection class\u001b[0m\u001b[0;34m\u001b[0m\u001b[0;34m\u001b[0m\u001b[0m\n\u001b[1;32m    101\u001b[0m     \u001b[0m_check_connection\u001b[0m\u001b[0;34m(\u001b[0m\u001b[0;34m)\u001b[0m\u001b[0;34m\u001b[0m\u001b[0m\n\u001b[0;32m--> 102\u001b[0;31m     \u001b[0;32mreturn\u001b[0m \u001b[0mh2oconn\u001b[0m\u001b[0;34m.\u001b[0m\u001b[0mrequest\u001b[0m\u001b[0;34m(\u001b[0m\u001b[0mendpoint\u001b[0m\u001b[0;34m,\u001b[0m \u001b[0mdata\u001b[0m\u001b[0;34m=\u001b[0m\u001b[0mdata\u001b[0m\u001b[0;34m,\u001b[0m \u001b[0mjson\u001b[0m\u001b[0;34m=\u001b[0m\u001b[0mjson\u001b[0m\u001b[0;34m,\u001b[0m \u001b[0mfilename\u001b[0m\u001b[0;34m=\u001b[0m\u001b[0mfilename\u001b[0m\u001b[0;34m,\u001b[0m \u001b[0msave_to\u001b[0m\u001b[0;34m=\u001b[0m\u001b[0msave_to\u001b[0m\u001b[0;34m)\u001b[0m\u001b[0;34m\u001b[0m\u001b[0m\n\u001b[0m\u001b[1;32m    103\u001b[0m \u001b[0;34m\u001b[0m\u001b[0m\n\u001b[1;32m    104\u001b[0m \u001b[0;34m\u001b[0m\u001b[0m\n",
      "\u001b[0;32m/anaconda/lib/python3.6/site-packages/h2o/backend/connection.py\u001b[0m in \u001b[0;36mrequest\u001b[0;34m(self, endpoint, data, json, filename, save_to)\u001b[0m\n\u001b[1;32m    400\u001b[0m                                     auth=self._auth, verify=self._verify_ssl_cert, proxies=self._proxies)\n\u001b[1;32m    401\u001b[0m             \u001b[0mself\u001b[0m\u001b[0;34m.\u001b[0m\u001b[0m_log_end_transaction\u001b[0m\u001b[0;34m(\u001b[0m\u001b[0mstart_time\u001b[0m\u001b[0;34m,\u001b[0m \u001b[0mresp\u001b[0m\u001b[0;34m)\u001b[0m\u001b[0;34m\u001b[0m\u001b[0m\n\u001b[0;32m--> 402\u001b[0;31m             \u001b[0;32mreturn\u001b[0m \u001b[0mself\u001b[0m\u001b[0;34m.\u001b[0m\u001b[0m_process_response\u001b[0m\u001b[0;34m(\u001b[0m\u001b[0mresp\u001b[0m\u001b[0;34m,\u001b[0m \u001b[0msave_to\u001b[0m\u001b[0;34m)\u001b[0m\u001b[0;34m\u001b[0m\u001b[0m\n\u001b[0m\u001b[1;32m    403\u001b[0m \u001b[0;34m\u001b[0m\u001b[0m\n\u001b[1;32m    404\u001b[0m         \u001b[0;32mexcept\u001b[0m \u001b[0;34m(\u001b[0m\u001b[0mrequests\u001b[0m\u001b[0;34m.\u001b[0m\u001b[0mexceptions\u001b[0m\u001b[0;34m.\u001b[0m\u001b[0mConnectionError\u001b[0m\u001b[0;34m,\u001b[0m \u001b[0mrequests\u001b[0m\u001b[0;34m.\u001b[0m\u001b[0mexceptions\u001b[0m\u001b[0;34m.\u001b[0m\u001b[0mHTTPError\u001b[0m\u001b[0;34m)\u001b[0m \u001b[0;32mas\u001b[0m \u001b[0me\u001b[0m\u001b[0;34m:\u001b[0m\u001b[0;34m\u001b[0m\u001b[0m\n",
      "\u001b[0;32m/anaconda/lib/python3.6/site-packages/h2o/backend/connection.py\u001b[0m in \u001b[0;36m_process_response\u001b[0;34m(response, save_to)\u001b[0m\n\u001b[1;32m    723\u001b[0m         \u001b[0;31m# Client errors (400 = \"Bad Request\", 404 = \"Not Found\", 412 = \"Precondition Failed\")\u001b[0m\u001b[0;34m\u001b[0m\u001b[0;34m\u001b[0m\u001b[0m\n\u001b[1;32m    724\u001b[0m         \u001b[0;32mif\u001b[0m \u001b[0mstatus_code\u001b[0m \u001b[0;32min\u001b[0m \u001b[0;34m{\u001b[0m\u001b[0;36m400\u001b[0m\u001b[0;34m,\u001b[0m \u001b[0;36m404\u001b[0m\u001b[0;34m,\u001b[0m \u001b[0;36m412\u001b[0m\u001b[0;34m}\u001b[0m \u001b[0;32mand\u001b[0m \u001b[0misinstance\u001b[0m\u001b[0;34m(\u001b[0m\u001b[0mdata\u001b[0m\u001b[0;34m,\u001b[0m \u001b[0;34m(\u001b[0m\u001b[0mH2OErrorV3\u001b[0m\u001b[0;34m,\u001b[0m \u001b[0mH2OModelBuilderErrorV3\u001b[0m\u001b[0;34m)\u001b[0m\u001b[0;34m)\u001b[0m\u001b[0;34m:\u001b[0m\u001b[0;34m\u001b[0m\u001b[0m\n\u001b[0;32m--> 725\u001b[0;31m             \u001b[0;32mraise\u001b[0m \u001b[0mH2OResponseError\u001b[0m\u001b[0;34m(\u001b[0m\u001b[0mdata\u001b[0m\u001b[0;34m)\u001b[0m\u001b[0;34m\u001b[0m\u001b[0m\n\u001b[0m\u001b[1;32m    726\u001b[0m \u001b[0;34m\u001b[0m\u001b[0m\n\u001b[1;32m    727\u001b[0m         \u001b[0;31m# Server errors (notably 500 = \"Server Error\")\u001b[0m\u001b[0;34m\u001b[0m\u001b[0;34m\u001b[0m\u001b[0m\n",
      "\u001b[0;31mH2OResponseError\u001b[0m: ModelBuilderErrorV3  (water.exceptions.H2OModelBuilderIllegalArgumentException):\n    timestamp = 1497836305429\n    error_url = '/3/ModelBuilders/drf'\n    msg = 'Illegal argument(s) for DRF model: rf_model.  Details: ERRR on field: _train: Missing training frame: py_104_sid_abc6'\n    dev_msg = 'Illegal argument(s) for DRF model: rf_model.  Details: ERRR on field: _train: Missing training frame: py_104_sid_abc6'\n    http_status = 412\n    values = {'messages': [{'_log_level': 1, '_field_name': '_train', '_message': 'Missing training frame: py_104_sid_abc6'}], 'algo': 'DRF', 'parameters': {'_train': {'name': 'py_104_sid_abc6', 'type': 'Key'}, '_valid': {'name': 'py_107_sid_abc6', 'type': 'Key'}, '_nfolds': 3, '_keep_cross_validation_predictions': True, '_keep_cross_validation_fold_assignment': False, '_parallelize_cross_validation': True, '_auto_rebalance': True, '_seed': 12345, '_fold_assignment': 'AUTO', '_categorical_encoding': 'AUTO', '_max_categorical_levels': 10, '_distribution': 'AUTO', '_tweedie_power': 1.5, '_quantile_alpha': 0.5, '_huber_alpha': 0.9, '_ignored_columns': ['ecology', 'big_market_raion', 'culture_objects_top_25', 'detention_facility_raion', 'radiation_raion', 'big_road1_1line', 'product_type', 'oil_chemistry_raion', 'incineration_raion', 'railroad_terminal_raion', 'sub_area', 'nuclear_reactor_raion', 'railroad_1line', 'id', 'thermal_power_plant_raion', 'water_1line'], '_ignore_const_cols': True, '_weights_column': None, '_offset_column': None, '_fold_column': None, '_is_cv_model': False, '_score_each_iteration': True, '_max_runtime_secs': 0.0, '_stopping_rounds': 50, '_stopping_metric': 'AUTO', '_stopping_tolerance': 0.001, '_response_column': 'price_doc', '_balance_classes': False, '_max_after_balance_size': 5.0, '_class_sampling_factors': None, '_max_confusion_matrix_size': 20, '_checkpoint': None, '_pretrained_autoencoder': None, '_ntrees': 10000, '_max_depth': 10, '_min_rows': 1.0, '_nbins': 20, '_nbins_cats': 1024, '_min_split_improvement': 1e-05, '_histogram_type': 'AUTO', '_r2_stopping': 1.7976931348623157e+308, '_nbins_top_level': 1024, '_build_tree_one_node': False, '_score_tree_interval': 0, '_initial_score_interval': 4000, '_score_interval': 4000, '_sample_rate': 0.8, '_sample_rate_per_class': None, '_calibrate_model': False, '_calibration_frame': None, '_col_sample_rate_change_per_level': 1.0, '_col_sample_rate_per_tree': 0.1, '_binomial_double_trees': False, '_mtries': -1}, 'error_count': 2}\n    exception_msg = 'Illegal argument(s) for DRF model: rf_model.  Details: ERRR on field: _train: Missing training frame: py_104_sid_abc6'\n    stacktrace =\n        water.exceptions.H2OModelBuilderIllegalArgumentException: Illegal argument(s) for DRF model: rf_model.  Details: ERRR on field: _train: Missing training frame: py_104_sid_abc6\n        water.exceptions.H2OModelBuilderIllegalArgumentException.makeFromBuilder(H2OModelBuilderIllegalArgumentException.java:20)\n        hex.ModelBuilder.trainModel(ModelBuilder.java:198)\n        water.api.ModelBuilderHandler.handle(ModelBuilderHandler.java:53)\n        water.api.ModelBuilderHandler.handle(ModelBuilderHandler.java:16)\n        water.api.RequestServer.serve(RequestServer.java:448)\n        water.api.RequestServer.doGeneric(RequestServer.java:297)\n        water.api.RequestServer.doPost(RequestServer.java:223)\n        javax.servlet.http.HttpServlet.service(HttpServlet.java:755)\n        javax.servlet.http.HttpServlet.service(HttpServlet.java:848)\n        org.eclipse.jetty.servlet.ServletHolder.handle(ServletHolder.java:684)\n        org.eclipse.jetty.servlet.ServletHandler.doHandle(ServletHandler.java:503)\n        org.eclipse.jetty.server.handler.ContextHandler.doHandle(ContextHandler.java:1086)\n        org.eclipse.jetty.servlet.ServletHandler.doScope(ServletHandler.java:429)\n        org.eclipse.jetty.server.handler.ContextHandler.doScope(ContextHandler.java:1020)\n        org.eclipse.jetty.server.handler.ScopedHandler.handle(ScopedHandler.java:135)\n        org.eclipse.jetty.server.handler.HandlerCollection.handle(HandlerCollection.java:154)\n        org.eclipse.jetty.server.handler.HandlerWrapper.handle(HandlerWrapper.java:116)\n        water.JettyHTTPD$LoginHandler.handle(JettyHTTPD.java:183)\n        org.eclipse.jetty.server.handler.HandlerCollection.handle(HandlerCollection.java:154)\n        org.eclipse.jetty.server.handler.HandlerWrapper.handle(HandlerWrapper.java:116)\n        org.eclipse.jetty.server.Server.handle(Server.java:370)\n        org.eclipse.jetty.server.AbstractHttpConnection.handleRequest(AbstractHttpConnection.java:494)\n        org.eclipse.jetty.server.BlockingHttpConnection.handleRequest(BlockingHttpConnection.java:53)\n        org.eclipse.jetty.server.AbstractHttpConnection.content(AbstractHttpConnection.java:982)\n        org.eclipse.jetty.server.AbstractHttpConnection$RequestHandler.content(AbstractHttpConnection.java:1043)\n        org.eclipse.jetty.http.HttpParser.parseNext(HttpParser.java:865)\n        org.eclipse.jetty.http.HttpParser.parseAvailable(HttpParser.java:240)\n        org.eclipse.jetty.server.BlockingHttpConnection.handle(BlockingHttpConnection.java:72)\n        org.eclipse.jetty.server.bio.SocketConnector$ConnectorEndPoint.run(SocketConnector.java:264)\n        org.eclipse.jetty.util.thread.QueuedThreadPool.runJob(QueuedThreadPool.java:608)\n        org.eclipse.jetty.util.thread.QueuedThreadPool$3.run(QueuedThreadPool.java:543)\n        java.lang.Thread.run(Thread.java:748)\n    parameters = {'__meta': {'schema_version': 3, 'schema_name': 'DRFParametersV3', 'schema_type': 'DRFParameters'}, 'model_id': None, 'training_frame': None, 'validation_frame': None, 'nfolds': 3, 'keep_cross_validation_predictions': True, 'keep_cross_validation_fold_assignment': False, 'parallelize_cross_validation': True, 'distribution': 'AUTO', 'tweedie_power': 1.5, 'quantile_alpha': 0.5, 'huber_alpha': 0.9, 'response_column': {'__meta': {'schema_version': 3, 'schema_name': 'ColSpecifierV3', 'schema_type': 'VecSpecifier'}, 'column_name': 'price_doc', 'is_member_of_frames': None}, 'weights_column': None, 'offset_column': None, 'fold_column': None, 'fold_assignment': 'AUTO', 'categorical_encoding': 'AUTO', 'max_categorical_levels': 10, 'ignored_columns': ['ecology', 'big_market_raion', 'culture_objects_top_25', 'detention_facility_raion', 'radiation_raion', 'big_road1_1line', 'product_type', 'oil_chemistry_raion', 'incineration_raion', 'railroad_terminal_raion', 'sub_area', 'nuclear_reactor_raion', 'railroad_1line', 'id', 'thermal_power_plant_raion', 'water_1line'], 'ignore_const_cols': True, 'score_each_iteration': True, 'checkpoint': None, 'stopping_rounds': 50, 'max_runtime_secs': 0.0, 'stopping_metric': 'AUTO', 'stopping_tolerance': 0.001, 'balance_classes': False, 'class_sampling_factors': None, 'max_after_balance_size': 5.0, 'max_confusion_matrix_size': 20, 'max_hit_ratio_k': 0, 'ntrees': 10000, 'max_depth': 10, 'min_rows': 1.0, 'nbins': 20, 'nbins_top_level': 1024, 'nbins_cats': 1024, 'r2_stopping': 1.7976931348623157e+308, 'seed': 12345, 'build_tree_one_node': False, 'sample_rate': 0.8, 'sample_rate_per_class': None, 'col_sample_rate_per_tree': 0.1, 'col_sample_rate_change_per_level': 1.0, 'score_tree_interval': 0, 'min_split_improvement': 1e-05, 'histogram_type': 'AUTO', 'calibrate_model': False, 'calibration_frame': None, 'mtries': -1, 'binomial_double_trees': False}\n    messages = [{'__meta': {'schema_version': 3, 'schema_name': 'ValidationMessageV3', 'schema_type': 'ValidationMessage'}, 'message_type': 'ERRR', 'field_name': 'train', 'message': 'Missing training frame: py_104_sid_abc6'}]\n    error_count = 2\n"
     ]
    }
   ],
   "source": [
    "# initialize rf model\n",
    "rf_model1 = H2ORandomForestEstimator(\n",
    "    ntrees=10000,                    \n",
    "    max_depth=10, \n",
    "    col_sample_rate_per_tree=0.1,\n",
    "    sample_rate=0.8,\n",
    "    stopping_rounds=50,\n",
    "    score_each_iteration=True,\n",
    "    nfolds=3,\n",
    "    keep_cross_validation_predictions=True,\n",
    "    model_id = 'rf_model',\n",
    "    seed=12345)           \n",
    "\n",
    "# train rf model\n",
    "rf_model1.train(\n",
    "    x=encoded_combined_nums,\n",
    "    y='price_doc',\n",
    "    training_frame=train,\n",
    "    validation_frame=valid)\n",
    "\n",
    "# print model information\n",
    "print(rf_model1)\n",
    "\n",
    "rf_preds1_val = rf_model1.predict(valid)\n",
    "ranked_preds_plot('price_doc', valid, rf_preds1_val) # valid RMSE not so hot ...\n",
    "rf_preds1_test = rf_model1.predict(test)\n",
    "gen_submission(rf_preds1_test) \n",
    "\n",
    "#  public leaderboard"
   ]
  },
  {
   "cell_type": "code",
   "execution_count": null,
   "metadata": {
    "collapsed": true
   },
   "outputs": [],
   "source": []
  },
  {
   "cell_type": "markdown",
   "metadata": {
    "collapsed": true
   },
   "source": [
    "### H2O Extremely random trees model"
   ]
  },
  {
   "cell_type": "code",
   "execution_count": null,
   "metadata": {
    "collapsed": true
   },
   "outputs": [],
   "source": [
    "# initialize extra trees model\n",
    "ert_model1 = H2ORandomForestEstimator(\n",
    "    ntrees=10000,                    \n",
    "    max_depth=10, \n",
    "    col_sample_rate_per_tree=0.1,\n",
    "    sample_rate=0.8,\n",
    "    stopping_rounds=50,\n",
    "    score_each_iteration=True,\n",
    "    nfolds=3,\n",
    "    keep_cross_validation_predictions=True,\n",
    "    seed=12345,\n",
    "    histogram_type='random') # <- this is what makes it ERT instead of RF\n",
    "\n",
    "# train ert model\n",
    "ert_model1.train(\n",
    "    x=encoded_combined_nums,\n",
    "    y='price_doc',\n",
    "    training_frame=train,\n",
    "    validation_frame=valid)\n",
    "\n",
    "# print model information/create submission\n",
    "print(ert_model1)\n",
    "ert_preds1_val = ert_model1.predict(valid)\n",
    "ranked_preds_plot('price_doc', valid, ert_preds1_val) # valid RMSE not so hot ...\n",
    "ert_preds1_test = ert_model1.predict(test)\n",
    "gen_submission(ert_preds1_test) \n",
    "\n",
    "#  public leaderboard"
   ]
  },
  {
   "cell_type": "code",
   "execution_count": null,
   "metadata": {
    "collapsed": true
   },
   "outputs": [],
   "source": []
  },
  {
   "cell_type": "markdown",
   "metadata": {},
   "source": [
    "### H2O GBM model"
   ]
  },
  {
   "cell_type": "code",
   "execution_count": null,
   "metadata": {
    "collapsed": true
   },
   "outputs": [],
   "source": [
    "# initialize H2O GBM\n",
    "h2o_gbm_model = H2OGradientBoostingEstimator(\n",
    "    ntrees = 10000,\n",
    "    learn_rate = 0.005,\n",
    "    sample_rate = 0.1, \n",
    "    col_sample_rate = 0.8,\n",
    "    max_depth = 5,\n",
    "    nfolds = 3,\n",
    "    keep_cross_validation_predictions=True,\n",
    "    stopping_rounds = 10,\n",
    "    seed = 12345)\n",
    "\n",
    "# execute training\n",
    "h2o_gbm_model.train(x=encoded_combined_nums,\n",
    "                    y='price_doc',\n",
    "                    training_frame=train,\n",
    "                    validation_frame=valid)\n",
    "\n",
    "# print model information/create submission\n",
    "print(h2o_gbm_model)\n",
    "h2o_gbm_preds1_val = h2o_gbm_model.predict(valid)\n",
    "ranked_preds_plot('price_doc', valid, h2o_gbm_preds1_val) # better validation error\n",
    "h2o_gbm_preds1_test = h2o_gbm_model.predict(test)\n",
    "gen_submission(h2o_gbm_preds1_test) \n",
    "\n",
    "#  public leaderboard"
   ]
  },
  {
   "cell_type": "code",
   "execution_count": null,
   "metadata": {
    "collapsed": true
   },
   "outputs": [],
   "source": []
  },
  {
   "cell_type": "markdown",
   "metadata": {},
   "source": [
    "### Train H2O stacked ensemble"
   ]
  },
  {
   "cell_type": "code",
   "execution_count": null,
   "metadata": {
    "collapsed": true
   },
   "outputs": [],
   "source": [
    "stack = H2OStackedEnsembleEstimator(training_frame=train, \n",
    "                                    validation_frame=valid, \n",
    "                                    base_models=[rf_model1, ert_model1, \n",
    "                                                 h2o_gbm_model,])\n",
    "\n",
    "stack.train(x=encoded_combined_nums,\n",
    "            y='price_doc',\n",
    "            training_frame=train,\n",
    "            validation_frame=valid)\n",
    "\n",
    "# print model information/create submission\n",
    "print(stack)\n",
    "stack_preds1_val = stack.predict(valid)\n",
    "ranked_preds_plot('price_doc', valid, stack_preds1_val) \n",
    "stack_preds1_test = stack.predict(test)\n",
    "gen_submission(stack_preds1_test)"
   ]
  },
  {
   "cell_type": "code",
   "execution_count": null,
   "metadata": {
    "collapsed": true
   },
   "outputs": [],
   "source": []
  },
  {
   "cell_type": "markdown",
   "metadata": {},
   "source": [
    "#### Shutdown H2O"
   ]
  },
  {
   "cell_type": "code",
   "execution_count": 54,
   "metadata": {
    "collapsed": false
   },
   "outputs": [
    {
     "name": "stdout",
     "output_type": "stream",
     "text": [
      "Are you sure you want to shutdown the H2O instance running at http://127.0.0.1:54323 (Y/N)? Y\n",
      "H2O session _sid_ba6f closed.\n"
     ]
    }
   ],
   "source": [
    "# Shutdown H2O - this will erase all your unsaved frames and models in H2O\n",
    "h2o.cluster().shutdown(prompt=True)"
   ]
  },
  {
   "cell_type": "code",
   "execution_count": null,
   "metadata": {
    "collapsed": true
   },
   "outputs": [],
   "source": []
  }
 ],
 "metadata": {
  "anaconda-cloud": {},
  "kernelspec": {
   "display_name": "Python 3",
   "language": "python",
   "name": "python3"
  },
  "language_info": {
   "codemirror_mode": {
    "name": "ipython",
    "version": 3
   },
   "file_extension": ".py",
   "mimetype": "text/x-python",
   "name": "python",
   "nbconvert_exporter": "python",
   "pygments_lexer": "ipython3",
   "version": "3.6.0"
  }
 },
 "nbformat": 4,
 "nbformat_minor": 1
}
