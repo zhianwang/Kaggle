{
 "cells": [
  {
   "cell_type": "markdown",
   "metadata": {},
   "source": [
    "## Sberbank Russian Housing Market\n",
    "##### Group member: Ying Zhang, Zhian Wang"
   ]
  },
  {
   "cell_type": "code",
   "execution_count": 1,
   "metadata": {
    "collapsed": false
   },
   "outputs": [],
   "source": [
    "wd = \"/Users/zwang/GWU/Kaggle/Housing_Mkt/data\"\n",
    "import pandas as pd\n",
    "import numpy as np\n",
    "train_df = pd.read_csv(wd+\"/train.csv\")\n",
    "train_df = train_df.reset_index(drop=True)\n",
    "test_df = pd.read_csv(wd+\"/test.csv\")\n",
    "test_df = test_df.reset_index(drop=True)"
   ]
  },
  {
   "cell_type": "markdown",
   "metadata": {},
   "source": [
    "### Data Preparation"
   ]
  },
  {
   "cell_type": "code",
   "execution_count": 2,
   "metadata": {
    "collapsed": true
   },
   "outputs": [],
   "source": [
    "# Remove the outlier of full_sq\n",
    "ind = train_df[train_df['full_sq'] > 2000].index\n",
    "train_df = train_df.drop(ind)"
   ]
  },
  {
   "cell_type": "code",
   "execution_count": 3,
   "metadata": {
    "collapsed": true
   },
   "outputs": [],
   "source": [
    "# Remove the outliter in life_sq\n",
    "ind = train_df[train_df['life_sq'] > 2000].index\n",
    "train_df = train_df.drop(ind)"
   ]
  },
  {
   "cell_type": "code",
   "execution_count": 4,
   "metadata": {
    "collapsed": true
   },
   "outputs": [],
   "source": [
    "# Remove the outliter in kitch_sq\n",
    "ind = train_df[train_df['kitch_sq'] > 500].index\n",
    "train_df = train_df.drop(ind)"
   ]
  },
  {
   "cell_type": "code",
   "execution_count": 5,
   "metadata": {
    "collapsed": false
   },
   "outputs": [
    {
     "name": "stderr",
     "output_type": "stream",
     "text": [
      "/anaconda/lib/python3.6/site-packages/pandas/core/indexing.py:141: SettingWithCopyWarning: \n",
      "A value is trying to be set on a copy of a slice from a DataFrame\n",
      "\n",
      "See the caveats in the documentation: http://pandas.pydata.org/pandas-docs/stable/indexing.html#indexing-view-versus-copy\n",
      "  self._setitem_with_indexer(indexer, value)\n"
     ]
    },
    {
     "data": {
      "text/plain": [
       "0"
      ]
     },
     "execution_count": 5,
     "metadata": {},
     "output_type": "execute_result"
    }
   ],
   "source": [
    "(train_df['life_sq'] > train_df['full_sq']).sum()\n",
    "life_sq = train_df['life_sq'].ix[train_df['life_sq'] < train_df['full_sq']].median()\n",
    "full_sq = train_df['full_sq'].median()\n",
    "life_full = life_sq/full_sq \n",
    "life_full\n",
    "train_df['life_sq'].ix[train_df['life_sq'] > train_df['full_sq']] = train_df['full_sq']*life_full\n",
    "(train_df['life_sq'] > train_df['full_sq']).sum()"
   ]
  },
  {
   "cell_type": "code",
   "execution_count": 6,
   "metadata": {
    "collapsed": false
   },
   "outputs": [
    {
     "name": "stderr",
     "output_type": "stream",
     "text": [
      "/anaconda/lib/python3.6/site-packages/pandas/core/indexing.py:141: SettingWithCopyWarning: \n",
      "A value is trying to be set on a copy of a slice from a DataFrame\n",
      "\n",
      "See the caveats in the documentation: http://pandas.pydata.org/pandas-docs/stable/indexing.html#indexing-view-versus-copy\n",
      "  self._setitem_with_indexer(indexer, value)\n"
     ]
    },
    {
     "data": {
      "text/plain": [
       "0"
      ]
     },
     "execution_count": 6,
     "metadata": {},
     "output_type": "execute_result"
    }
   ],
   "source": [
    "(test_df['life_sq'] > test_df['full_sq']).sum()\n",
    "life_sq = test_df['life_sq'].ix[test_df['life_sq'] < test_df['full_sq']].median()\n",
    "full_sq = test_df['full_sq'].median()\n",
    "life_full = life_sq/full_sq \n",
    "life_full\n",
    "test_df['life_sq'].ix[test_df['life_sq'] > test_df['full_sq']] = test_df['full_sq']*life_full\n",
    "(test_df['life_sq'] > test_df['full_sq']).sum()"
   ]
  },
  {
   "cell_type": "code",
   "execution_count": 7,
   "metadata": {
    "collapsed": false
   },
   "outputs": [
    {
     "name": "stderr",
     "output_type": "stream",
     "text": [
      "/anaconda/lib/python3.6/site-packages/pandas/core/indexing.py:141: SettingWithCopyWarning: \n",
      "A value is trying to be set on a copy of a slice from a DataFrame\n",
      "\n",
      "See the caveats in the documentation: http://pandas.pydata.org/pandas-docs/stable/indexing.html#indexing-view-versus-copy\n",
      "  self._setitem_with_indexer(indexer, value)\n"
     ]
    },
    {
     "data": {
      "text/plain": [
       "0"
      ]
     },
     "execution_count": 7,
     "metadata": {},
     "output_type": "execute_result"
    }
   ],
   "source": [
    "kitch_sq = train_df['kitch_sq'].ix[train_df['kitch_sq'] < train_df['full_sq']].median()\n",
    "full_sq = train_df['full_sq'].median()\n",
    "kitch_full = kitch_sq/full_sq \n",
    "kitch_full\n",
    "train_df['kitch_sq'].ix[train_df['kitch_sq'] > train_df['full_sq']] = train_df['full_sq']*kitch_full\n",
    "(train_df['kitch_sq'] > train_df['full_sq']).sum()"
   ]
  },
  {
   "cell_type": "code",
   "execution_count": 8,
   "metadata": {
    "collapsed": false
   },
   "outputs": [
    {
     "name": "stderr",
     "output_type": "stream",
     "text": [
      "/anaconda/lib/python3.6/site-packages/pandas/core/indexing.py:141: SettingWithCopyWarning: \n",
      "A value is trying to be set on a copy of a slice from a DataFrame\n",
      "\n",
      "See the caveats in the documentation: http://pandas.pydata.org/pandas-docs/stable/indexing.html#indexing-view-versus-copy\n",
      "  self._setitem_with_indexer(indexer, value)\n"
     ]
    },
    {
     "data": {
      "text/plain": [
       "0"
      ]
     },
     "execution_count": 8,
     "metadata": {},
     "output_type": "execute_result"
    }
   ],
   "source": [
    "kitch_sq = test_df['kitch_sq'].ix[test_df['kitch_sq'] < test_df['full_sq']].median()\n",
    "full_sq = test_df['full_sq'].median()\n",
    "kitch_full = kitch_sq/full_sq \n",
    "kitch_full\n",
    "test_df['kitch_sq'].ix[test_df['kitch_sq'] > test_df['full_sq']] = test_df['full_sq']*kitch_full\n",
    "(test_df['kitch_sq'] > test_df['full_sq']).sum()"
   ]
  },
  {
   "cell_type": "code",
   "execution_count": 9,
   "metadata": {
    "collapsed": false
   },
   "outputs": [
    {
     "name": "stderr",
     "output_type": "stream",
     "text": [
      "/anaconda/lib/python3.6/site-packages/pandas/core/indexing.py:141: SettingWithCopyWarning: \n",
      "A value is trying to be set on a copy of a slice from a DataFrame\n",
      "\n",
      "See the caveats in the documentation: http://pandas.pydata.org/pandas-docs/stable/indexing.html#indexing-view-versus-copy\n",
      "  self._setitem_with_indexer(indexer, value)\n"
     ]
    },
    {
     "data": {
      "text/plain": [
       "0"
      ]
     },
     "execution_count": 9,
     "metadata": {},
     "output_type": "execute_result"
    }
   ],
   "source": [
    "train_df['floor'].ix[train_df['floor'] > train_df['max_floor']] = train_df['max_floor']*0.5\n",
    "(train_df['floor'] > train_df['max_floor']).sum()"
   ]
  },
  {
   "cell_type": "code",
   "execution_count": 10,
   "metadata": {
    "collapsed": false
   },
   "outputs": [
    {
     "name": "stderr",
     "output_type": "stream",
     "text": [
      "/anaconda/lib/python3.6/site-packages/pandas/core/indexing.py:141: SettingWithCopyWarning: \n",
      "A value is trying to be set on a copy of a slice from a DataFrame\n",
      "\n",
      "See the caveats in the documentation: http://pandas.pydata.org/pandas-docs/stable/indexing.html#indexing-view-versus-copy\n",
      "  self._setitem_with_indexer(indexer, value)\n"
     ]
    },
    {
     "data": {
      "text/plain": [
       "0"
      ]
     },
     "execution_count": 10,
     "metadata": {},
     "output_type": "execute_result"
    }
   ],
   "source": [
    "test_df['floor'].ix[test_df['floor'] > test_df['max_floor']] = test_df['max_floor']*0.5\n",
    "(test_df['floor'] > test_df['max_floor']).sum()"
   ]
  },
  {
   "cell_type": "code",
   "execution_count": 11,
   "metadata": {
    "collapsed": true
   },
   "outputs": [],
   "source": [
    "train_df.loc[train_df['state'] == 33, 'state'] = train_df['state'].mode().iloc[0]"
   ]
  },
  {
   "cell_type": "code",
   "execution_count": 12,
   "metadata": {
    "collapsed": true
   },
   "outputs": [],
   "source": [
    "train_df.loc[train_df['build_year'] == 20052009, 'build_year'] = 2007\n",
    "ind = train_df[(train_df['build_year'] <= 1691) | (train_df['build_year'] >= 2018)].index\n",
    "by_df = train_df.drop(ind).sort_values(by=['build_year'])"
   ]
  },
  {
   "cell_type": "markdown",
   "metadata": {},
   "source": [
    "### Impute Missing Value"
   ]
  },
  {
   "cell_type": "code",
   "execution_count": 13,
   "metadata": {
    "collapsed": false
   },
   "outputs": [
    {
     "data": {
      "text/plain": [
       "['hospital_beds_raion',\n",
       " 'build_year',\n",
       " 'state',\n",
       " 'cafe_sum_500_min_price_avg',\n",
       " 'cafe_sum_500_max_price_avg',\n",
       " 'cafe_avg_price_500',\n",
       " 'max_floor',\n",
       " 'material',\n",
       " 'num_room',\n",
       " 'kitch_sq',\n",
       " 'preschool_quota',\n",
       " 'school_quota',\n",
       " 'cafe_sum_1000_max_price_avg',\n",
       " 'cafe_sum_1000_min_price_avg',\n",
       " 'cafe_avg_price_1000',\n",
       " 'life_sq',\n",
       " 'build_count_before_1920',\n",
       " 'build_count_block',\n",
       " 'raion_build_count_with_material_info',\n",
       " 'build_count_wood',\n",
       " 'build_count_frame',\n",
       " 'build_count_brick',\n",
       " 'build_count_monolith',\n",
       " 'build_count_panel',\n",
       " 'build_count_foam',\n",
       " 'build_count_slag',\n",
       " 'build_count_mix',\n",
       " 'raion_build_count_with_builddate_info',\n",
       " 'build_count_1971-1995',\n",
       " 'build_count_1921-1945',\n",
       " 'build_count_1946-1970',\n",
       " 'build_count_after_1995',\n",
       " 'cafe_sum_1500_min_price_avg',\n",
       " 'cafe_sum_1500_max_price_avg',\n",
       " 'cafe_avg_price_1500',\n",
       " 'cafe_sum_2000_min_price_avg',\n",
       " 'cafe_sum_2000_max_price_avg',\n",
       " 'cafe_avg_price_2000',\n",
       " 'cafe_sum_3000_min_price_avg',\n",
       " 'cafe_sum_3000_max_price_avg',\n",
       " 'cafe_avg_price_3000',\n",
       " 'cafe_sum_5000_max_price_avg',\n",
       " 'cafe_sum_5000_min_price_avg',\n",
       " 'cafe_avg_price_5000',\n",
       " 'prom_part_5000',\n",
       " 'floor',\n",
       " 'railroad_station_walk_km',\n",
       " 'railroad_station_walk_min',\n",
       " 'ID_railroad_station_walk',\n",
       " 'metro_km_walk',\n",
       " 'metro_min_walk']"
      ]
     },
     "execution_count": 13,
     "metadata": {},
     "output_type": "execute_result"
    }
   ],
   "source": [
    "train_na = train_df.isnull().sum()\n",
    "train_na = train_na.drop(train_na[train_na == 0].index).sort_values(ascending=False)\n",
    "train_na_list = train_na.index.tolist()\n",
    "train_na_list"
   ]
  },
  {
   "cell_type": "code",
   "execution_count": 14,
   "metadata": {
    "collapsed": true
   },
   "outputs": [],
   "source": [
    "train_df = train_df.fillna(train_df.mean())"
   ]
  },
  {
   "cell_type": "code",
   "execution_count": 15,
   "metadata": {
    "collapsed": false
   },
   "outputs": [],
   "source": [
    "test_df = test_df.fillna(test_df.mean())"
   ]
  },
  {
   "cell_type": "markdown",
   "metadata": {},
   "source": [
    "#### Add some features"
   ]
  },
  {
   "cell_type": "code",
   "execution_count": 16,
   "metadata": {
    "collapsed": true
   },
   "outputs": [],
   "source": [
    "def add_features(df):\n",
    "    \n",
    "    #Floor\n",
    "    df['floor_ratio'] = df['floor'] / df['max_floor'].astype(float)\n",
    "    df['floor_from_top'] = df['max_floor'] - df['floor']\n",
    "    #Sq areas\n",
    "    df['kitch_sq_ratio'] = df['kitch_sq'] / df['full_sq'].astype(float)\n",
    "    df['life_sq_ratio'] = df['life_sq'] / df['full_sq'].astype(float)\n",
    "    df['full_sq_per_room'] = df['full_sq'] / df['num_room'].astype(float)\n",
    "    df['life_sq_per_room'] = df['life_sq'] / df['num_room'].astype(float)\n",
    "    df['full_living_sq_diff'] = df['full_sq'] - df['life_sq']\n",
    "\n",
    "    #Date\n",
    "    df[\"year\"] = pd.to_datetime(df[\"timestamp\"], coerce=True).dt.year\n",
    "    df[\"month\"] = pd.to_datetime(df[\"timestamp\"], coerce=True).dt.month\n",
    "    df[\"day\"] = pd.to_datetime(df[\"timestamp\"], coerce=True).dt.day\n",
    "    df[\"dayofyear\"] = pd.to_datetime(df[\"timestamp\"], coerce=True).dt.dayofyear\n",
    "    \n",
    "\n",
    "    return df"
   ]
  },
  {
   "cell_type": "code",
   "execution_count": 17,
   "metadata": {
    "collapsed": false
   },
   "outputs": [
    {
     "name": "stderr",
     "output_type": "stream",
     "text": [
      "/anaconda/lib/python3.6/site-packages/ipykernel/__main__.py:14: FutureWarning: the coerce=True keyword is deprecated, use errors='coerce' instead\n",
      "/anaconda/lib/python3.6/site-packages/ipykernel/__main__.py:15: FutureWarning: the coerce=True keyword is deprecated, use errors='coerce' instead\n",
      "/anaconda/lib/python3.6/site-packages/ipykernel/__main__.py:16: FutureWarning: the coerce=True keyword is deprecated, use errors='coerce' instead\n",
      "/anaconda/lib/python3.6/site-packages/ipykernel/__main__.py:17: FutureWarning: the coerce=True keyword is deprecated, use errors='coerce' instead\n"
     ]
    }
   ],
   "source": [
    "train_df = add_features(train_df)\n",
    "test_df = add_features(test_df)"
   ]
  },
  {
   "cell_type": "code",
   "execution_count": 18,
   "metadata": {
    "collapsed": false
   },
   "outputs": [
    {
     "data": {
      "text/html": [
       "<div>\n",
       "<table border=\"1\" class=\"dataframe\">\n",
       "  <thead>\n",
       "    <tr style=\"text-align: right;\">\n",
       "      <th></th>\n",
       "      <th>id</th>\n",
       "      <th>timestamp</th>\n",
       "      <th>full_sq</th>\n",
       "      <th>life_sq</th>\n",
       "      <th>floor</th>\n",
       "      <th>max_floor</th>\n",
       "      <th>material</th>\n",
       "      <th>build_year</th>\n",
       "      <th>num_room</th>\n",
       "      <th>kitch_sq</th>\n",
       "      <th>...</th>\n",
       "      <th>floor_from_top</th>\n",
       "      <th>kitch_sq_ratio</th>\n",
       "      <th>life_sq_ratio</th>\n",
       "      <th>full_sq_per_room</th>\n",
       "      <th>life_sq_per_room</th>\n",
       "      <th>full_living_sq_diff</th>\n",
       "      <th>year</th>\n",
       "      <th>month</th>\n",
       "      <th>day</th>\n",
       "      <th>dayofyear</th>\n",
       "    </tr>\n",
       "  </thead>\n",
       "  <tbody>\n",
       "    <tr>\n",
       "      <th>0</th>\n",
       "      <td>1</td>\n",
       "      <td>2011-08-20</td>\n",
       "      <td>43</td>\n",
       "      <td>27.0</td>\n",
       "      <td>4.0</td>\n",
       "      <td>12.559613</td>\n",
       "      <td>1.826736</td>\n",
       "      <td>1879.239962</td>\n",
       "      <td>1.909826</td>\n",
       "      <td>5.970745</td>\n",
       "      <td>...</td>\n",
       "      <td>8.559613</td>\n",
       "      <td>0.138855</td>\n",
       "      <td>0.627907</td>\n",
       "      <td>22.515137</td>\n",
       "      <td>14.137412</td>\n",
       "      <td>16.0</td>\n",
       "      <td>2011</td>\n",
       "      <td>8</td>\n",
       "      <td>20</td>\n",
       "      <td>232</td>\n",
       "    </tr>\n",
       "    <tr>\n",
       "      <th>1</th>\n",
       "      <td>2</td>\n",
       "      <td>2011-08-23</td>\n",
       "      <td>34</td>\n",
       "      <td>19.0</td>\n",
       "      <td>3.0</td>\n",
       "      <td>12.559613</td>\n",
       "      <td>1.826736</td>\n",
       "      <td>1879.239962</td>\n",
       "      <td>1.909826</td>\n",
       "      <td>5.970745</td>\n",
       "      <td>...</td>\n",
       "      <td>9.559613</td>\n",
       "      <td>0.175610</td>\n",
       "      <td>0.558824</td>\n",
       "      <td>17.802667</td>\n",
       "      <td>9.948549</td>\n",
       "      <td>15.0</td>\n",
       "      <td>2011</td>\n",
       "      <td>8</td>\n",
       "      <td>23</td>\n",
       "      <td>235</td>\n",
       "    </tr>\n",
       "    <tr>\n",
       "      <th>2</th>\n",
       "      <td>3</td>\n",
       "      <td>2011-08-27</td>\n",
       "      <td>43</td>\n",
       "      <td>29.0</td>\n",
       "      <td>2.0</td>\n",
       "      <td>12.559613</td>\n",
       "      <td>1.826736</td>\n",
       "      <td>1879.239962</td>\n",
       "      <td>1.909826</td>\n",
       "      <td>5.970745</td>\n",
       "      <td>...</td>\n",
       "      <td>10.559613</td>\n",
       "      <td>0.138855</td>\n",
       "      <td>0.674419</td>\n",
       "      <td>22.515137</td>\n",
       "      <td>15.184627</td>\n",
       "      <td>14.0</td>\n",
       "      <td>2011</td>\n",
       "      <td>8</td>\n",
       "      <td>27</td>\n",
       "      <td>239</td>\n",
       "    </tr>\n",
       "    <tr>\n",
       "      <th>3</th>\n",
       "      <td>4</td>\n",
       "      <td>2011-09-01</td>\n",
       "      <td>89</td>\n",
       "      <td>50.0</td>\n",
       "      <td>9.0</td>\n",
       "      <td>12.559613</td>\n",
       "      <td>1.826736</td>\n",
       "      <td>1879.239962</td>\n",
       "      <td>1.909826</td>\n",
       "      <td>5.970745</td>\n",
       "      <td>...</td>\n",
       "      <td>3.559613</td>\n",
       "      <td>0.067087</td>\n",
       "      <td>0.561798</td>\n",
       "      <td>46.601098</td>\n",
       "      <td>26.180392</td>\n",
       "      <td>39.0</td>\n",
       "      <td>2011</td>\n",
       "      <td>9</td>\n",
       "      <td>1</td>\n",
       "      <td>244</td>\n",
       "    </tr>\n",
       "    <tr>\n",
       "      <th>4</th>\n",
       "      <td>5</td>\n",
       "      <td>2011-09-05</td>\n",
       "      <td>77</td>\n",
       "      <td>77.0</td>\n",
       "      <td>4.0</td>\n",
       "      <td>12.559613</td>\n",
       "      <td>1.826736</td>\n",
       "      <td>1879.239962</td>\n",
       "      <td>1.909826</td>\n",
       "      <td>5.970745</td>\n",
       "      <td>...</td>\n",
       "      <td>8.559613</td>\n",
       "      <td>0.077542</td>\n",
       "      <td>1.000000</td>\n",
       "      <td>40.317804</td>\n",
       "      <td>40.317804</td>\n",
       "      <td>0.0</td>\n",
       "      <td>2011</td>\n",
       "      <td>9</td>\n",
       "      <td>5</td>\n",
       "      <td>248</td>\n",
       "    </tr>\n",
       "  </tbody>\n",
       "</table>\n",
       "<p>5 rows × 303 columns</p>\n",
       "</div>"
      ],
      "text/plain": [
       "   id   timestamp  full_sq  life_sq  floor  max_floor  material   build_year  \\\n",
       "0   1  2011-08-20       43     27.0    4.0  12.559613  1.826736  1879.239962   \n",
       "1   2  2011-08-23       34     19.0    3.0  12.559613  1.826736  1879.239962   \n",
       "2   3  2011-08-27       43     29.0    2.0  12.559613  1.826736  1879.239962   \n",
       "3   4  2011-09-01       89     50.0    9.0  12.559613  1.826736  1879.239962   \n",
       "4   5  2011-09-05       77     77.0    4.0  12.559613  1.826736  1879.239962   \n",
       "\n",
       "   num_room  kitch_sq    ...      floor_from_top kitch_sq_ratio life_sq_ratio  \\\n",
       "0  1.909826  5.970745    ...            8.559613       0.138855      0.627907   \n",
       "1  1.909826  5.970745    ...            9.559613       0.175610      0.558824   \n",
       "2  1.909826  5.970745    ...           10.559613       0.138855      0.674419   \n",
       "3  1.909826  5.970745    ...            3.559613       0.067087      0.561798   \n",
       "4  1.909826  5.970745    ...            8.559613       0.077542      1.000000   \n",
       "\n",
       "   full_sq_per_room  life_sq_per_room  full_living_sq_diff  year  month  day  \\\n",
       "0         22.515137         14.137412                 16.0  2011      8   20   \n",
       "1         17.802667          9.948549                 15.0  2011      8   23   \n",
       "2         22.515137         15.184627                 14.0  2011      8   27   \n",
       "3         46.601098         26.180392                 39.0  2011      9    1   \n",
       "4         40.317804         40.317804                  0.0  2011      9    5   \n",
       "\n",
       "   dayofyear  \n",
       "0        232  \n",
       "1        235  \n",
       "2        239  \n",
       "3        244  \n",
       "4        248  \n",
       "\n",
       "[5 rows x 303 columns]"
      ]
     },
     "execution_count": 18,
     "metadata": {},
     "output_type": "execute_result"
    }
   ],
   "source": [
    "train_df.head()"
   ]
  },
  {
   "cell_type": "markdown",
   "metadata": {},
   "source": [
    "#### Log the price"
   ]
  },
  {
   "cell_type": "code",
   "execution_count": null,
   "metadata": {
    "collapsed": false
   },
   "outputs": [],
   "source": [
    "#train_df['price_doc_log'] = np.log1p(train_df['price_doc'])"
   ]
  },
  {
   "cell_type": "markdown",
   "metadata": {},
   "source": [
    "### Variable importance"
   ]
  },
  {
   "cell_type": "code",
   "execution_count": null,
   "metadata": {
    "collapsed": true
   },
   "outputs": [],
   "source": [
    "\"\"\"\n",
    "from sklearn.ensemble import RandomForestRegressor\n",
    "from sklearn.preprocessing import LabelEncoder\n",
    "X_train = train_df.drop(labels=['timestamp', 'id', 'incineration_raion'], axis=1).dropna()\n",
    "y_train = X_train['price_doc_log']\n",
    "X_train.drop('price_doc_log', axis=1, inplace=True)\n",
    "for f in X_train.columns:\n",
    "    if X_train[f].dtype == 'object':\n",
    "        lbl = LabelEncoder()\n",
    "        lbl.fit(X_train[f])\n",
    "        X_train[f] = lbl.transform(X_train[f])\n",
    "rf = RandomForestRegressor(random_state=0)\n",
    "rf = rf.fit(X_train, y_train)\n",
    "\"\"\""
   ]
  },
  {
   "cell_type": "code",
   "execution_count": null,
   "metadata": {
    "collapsed": false
   },
   "outputs": [],
   "source": [
    "\"\"\"\n",
    "fi = list(zip(X_train.columns, rf.feature_importances_))\n",
    "print('## rf variable importance')\n",
    "d = [print('## %-40s%s' % (i)) for i in fi[:30]]\n",
    "\"\"\""
   ]
  },
  {
   "cell_type": "code",
   "execution_count": null,
   "metadata": {
    "collapsed": false
   },
   "outputs": [],
   "source": [
    "#print(fi[:30])"
   ]
  },
  {
   "cell_type": "code",
   "execution_count": null,
   "metadata": {
    "collapsed": false
   },
   "outputs": [],
   "source": [
    "#[i[0] for i in fi[:30]]"
   ]
  },
  {
   "cell_type": "code",
   "execution_count": null,
   "metadata": {
    "collapsed": false
   },
   "outputs": [],
   "source": [
    "#train_df = train_df.drop('price_doc_log',axis = 1)"
   ]
  },
  {
   "cell_type": "markdown",
   "metadata": {},
   "source": [
    "## Model"
   ]
  },
  {
   "cell_type": "code",
   "execution_count": 1,
   "metadata": {
    "collapsed": false
   },
   "outputs": [
    {
     "name": "stdout",
     "output_type": "stream",
     "text": [
      "Checking whether there is an H2O instance running at http://localhost:54321..... not found.\n",
      "Attempting to start a local H2O server...\n",
      "  Java Version: java version \"1.8.0_131\"; Java(TM) SE Runtime Environment (build 1.8.0_131-b11); Java HotSpot(TM) 64-Bit Server VM (build 25.131-b11, mixed mode)\n",
      "  Starting server from /anaconda/lib/python3.6/site-packages/h2o/backend/bin/h2o.jar\n",
      "  Ice root: /var/folders/4r/5_zmhl8n2y90_l2743gnnbj00000gn/T/tmp4p7jatrq\n",
      "  JVM stdout: /var/folders/4r/5_zmhl8n2y90_l2743gnnbj00000gn/T/tmp4p7jatrq/h2o_zwang_started_from_python.out\n",
      "  JVM stderr: /var/folders/4r/5_zmhl8n2y90_l2743gnnbj00000gn/T/tmp4p7jatrq/h2o_zwang_started_from_python.err\n",
      "  Server is running at http://127.0.0.1:54321\n",
      "Connecting to H2O server at http://127.0.0.1:54321... successful.\n"
     ]
    },
    {
     "data": {
      "text/html": [
       "<div style=\"overflow:auto\"><table style=\"width:50%\"><tr><td>H2O cluster uptime:</td>\n",
       "<td>04 secs</td></tr>\n",
       "<tr><td>H2O cluster version:</td>\n",
       "<td>3.12.0.1</td></tr>\n",
       "<tr><td>H2O cluster version age:</td>\n",
       "<td>14 days, 9 hours and 17 minutes </td></tr>\n",
       "<tr><td>H2O cluster name:</td>\n",
       "<td>H2O_from_python_zwang_bw5gjw</td></tr>\n",
       "<tr><td>H2O cluster total nodes:</td>\n",
       "<td>1</td></tr>\n",
       "<tr><td>H2O cluster free memory:</td>\n",
       "<td>3.556 Gb</td></tr>\n",
       "<tr><td>H2O cluster total cores:</td>\n",
       "<td>4</td></tr>\n",
       "<tr><td>H2O cluster allowed cores:</td>\n",
       "<td>4</td></tr>\n",
       "<tr><td>H2O cluster status:</td>\n",
       "<td>accepting new members, healthy</td></tr>\n",
       "<tr><td>H2O connection url:</td>\n",
       "<td>http://127.0.0.1:54321</td></tr>\n",
       "<tr><td>H2O connection proxy:</td>\n",
       "<td>None</td></tr>\n",
       "<tr><td>H2O internal security:</td>\n",
       "<td>False</td></tr>\n",
       "<tr><td>Python version:</td>\n",
       "<td>3.6.0 final</td></tr></table></div>"
      ],
      "text/plain": [
       "--------------------------  -------------------------------\n",
       "H2O cluster uptime:         04 secs\n",
       "H2O cluster version:        3.12.0.1\n",
       "H2O cluster version age:    14 days, 9 hours and 17 minutes\n",
       "H2O cluster name:           H2O_from_python_zwang_bw5gjw\n",
       "H2O cluster total nodes:    1\n",
       "H2O cluster free memory:    3.556 Gb\n",
       "H2O cluster total cores:    4\n",
       "H2O cluster allowed cores:  4\n",
       "H2O cluster status:         accepting new members, healthy\n",
       "H2O connection url:         http://127.0.0.1:54321\n",
       "H2O connection proxy:\n",
       "H2O internal security:      False\n",
       "Python version:             3.6.0 final\n",
       "--------------------------  -------------------------------"
      ]
     },
     "metadata": {},
     "output_type": "display_data"
    }
   ],
   "source": [
    "import h2o\n",
    "from h2o.estimators.gbm import H2OGradientBoostingEstimator \n",
    "from h2o.estimators.random_forest import H2ORandomForestEstimator\n",
    "from h2o.grid.grid_search import H2OGridSearch \n",
    "from h2o.estimators.xgboost import H2OXGBoostEstimator\n",
    "from h2o.estimators.stackedensemble import H2OStackedEnsembleEstimator\n",
    "import xgboost as xgb\n",
    "h2o.init(nthreads=-1, max_mem_size=\"4g\") # give h2o as much memory as possible\n",
    "h2o.no_progress() # turn off h2o progress bars\n",
    "\n",
    "import numpy as np\n",
    "import pandas as pd"
   ]
  },
  {
   "cell_type": "code",
   "execution_count": 20,
   "metadata": {
    "collapsed": false
   },
   "outputs": [
    {
     "name": "stdout",
     "output_type": "stream",
     "text": [
      "(30464, 303)\n",
      "(7662, 302)\n"
     ]
    }
   ],
   "source": [
    "print(train_df.shape)\n",
    "print(test_df.shape)"
   ]
  },
  {
   "cell_type": "code",
   "execution_count": 21,
   "metadata": {
    "collapsed": false
   },
   "outputs": [
    {
     "name": "stdout",
     "output_type": "stream",
     "text": [
      "(30464, 303)\n",
      "(7662, 303)\n"
     ]
    }
   ],
   "source": [
    "train = h2o.H2OFrame(train_df)\n",
    "test = h2o.H2OFrame(test_df)\n",
    "\n",
    "dummy_col = np.random.rand(test.shape[0])\n",
    "test = test.cbind(h2o.H2OFrame(dummy_col))\n",
    "cols = test.columns\n",
    "cols[-1] = 'price_doc'\n",
    "test.columns = cols\n",
    "print(train.shape)\n",
    "print(test.shape)"
   ]
  },
  {
   "cell_type": "code",
   "execution_count": 22,
   "metadata": {
    "collapsed": true
   },
   "outputs": [],
   "source": [
    "def get_type_lists(frame=train, rejects=['id', 'price_doc']):   \n",
    "    nums, cats = [], []\n",
    "    for key, val in frame.types.items():\n",
    "        if key not in rejects:\n",
    "            if val == 'enum':\n",
    "                cats.append(key)\n",
    "            else: \n",
    "                nums.append(key)                \n",
    "    print('Numeric =', nums)                \n",
    "    print()\n",
    "    print('Categorical =', cats)\n",
    "    \n",
    "    return nums, cats"
   ]
  },
  {
   "cell_type": "code",
   "execution_count": 23,
   "metadata": {
    "collapsed": false,
    "scrolled": true
   },
   "outputs": [
    {
     "name": "stdout",
     "output_type": "stream",
     "text": [
      "Numeric = ['timestamp', 'full_sq', 'life_sq', 'floor', 'max_floor', 'material', 'build_year', 'num_room', 'kitch_sq', 'state', 'area_m', 'raion_popul', 'green_zone_part', 'indust_part', 'children_preschool', 'preschool_quota', 'preschool_education_centers_raion', 'children_school', 'school_quota', 'school_education_centers_raion', 'school_education_centers_top_20_raion', 'hospital_beds_raion', 'healthcare_centers_raion', 'university_top_20_raion', 'sport_objects_raion', 'additional_education_raion', 'culture_objects_top_25_raion', 'shopping_centers_raion', 'office_raion', 'full_all', 'male_f', 'female_f', 'young_all', 'young_male', 'young_female', 'work_all', 'work_male', 'work_female', 'ekder_all', 'ekder_male', 'ekder_female', '0_6_all', '0_6_male', '0_6_female', '7_14_all', '7_14_male', '7_14_female', '0_17_all', '0_17_male', '0_17_female', '16_29_all', '16_29_male', '16_29_female', '0_13_all', '0_13_male', '0_13_female', 'raion_build_count_with_material_info', 'build_count_block', 'build_count_wood', 'build_count_frame', 'build_count_brick', 'build_count_monolith', 'build_count_panel', 'build_count_foam', 'build_count_slag', 'build_count_mix', 'raion_build_count_with_builddate_info', 'build_count_before_1920', 'build_count_1921-1945', 'build_count_1946-1970', 'build_count_1971-1995', 'build_count_after_1995', 'ID_metro', 'metro_min_avto', 'metro_km_avto', 'metro_min_walk', 'metro_km_walk', 'kindergarten_km', 'school_km', 'park_km', 'green_zone_km', 'industrial_km', 'water_treatment_km', 'cemetery_km', 'incineration_km', 'railroad_station_walk_km', 'railroad_station_walk_min', 'ID_railroad_station_walk', 'railroad_station_avto_km', 'railroad_station_avto_min', 'ID_railroad_station_avto', 'public_transport_station_km', 'public_transport_station_min_walk', 'water_km', 'mkad_km', 'ttk_km', 'sadovoe_km', 'bulvar_ring_km', 'kremlin_km', 'big_road1_km', 'ID_big_road1', 'big_road2_km', 'ID_big_road2', 'railroad_km', 'zd_vokzaly_avto_km', 'ID_railroad_terminal', 'bus_terminal_avto_km', 'ID_bus_terminal', 'oil_chemistry_km', 'nuclear_reactor_km', 'radiation_km', 'power_transmission_line_km', 'thermal_power_plant_km', 'ts_km', 'big_market_km', 'market_shop_km', 'fitness_km', 'swim_pool_km', 'ice_rink_km', 'stadium_km', 'basketball_km', 'hospice_morgue_km', 'detention_facility_km', 'public_healthcare_km', 'university_km', 'workplaces_km', 'shopping_centers_km', 'office_km', 'additional_education_km', 'preschool_km', 'big_church_km', 'church_synagogue_km', 'mosque_km', 'theater_km', 'museum_km', 'exhibition_km', 'catering_km', 'green_part_500', 'prom_part_500', 'office_count_500', 'office_sqm_500', 'trc_count_500', 'trc_sqm_500', 'cafe_count_500', 'cafe_sum_500_min_price_avg', 'cafe_sum_500_max_price_avg', 'cafe_avg_price_500', 'cafe_count_500_na_price', 'cafe_count_500_price_500', 'cafe_count_500_price_1000', 'cafe_count_500_price_1500', 'cafe_count_500_price_2500', 'cafe_count_500_price_4000', 'cafe_count_500_price_high', 'big_church_count_500', 'church_count_500', 'mosque_count_500', 'leisure_count_500', 'sport_count_500', 'market_count_500', 'green_part_1000', 'prom_part_1000', 'office_count_1000', 'office_sqm_1000', 'trc_count_1000', 'trc_sqm_1000', 'cafe_count_1000', 'cafe_sum_1000_min_price_avg', 'cafe_sum_1000_max_price_avg', 'cafe_avg_price_1000', 'cafe_count_1000_na_price', 'cafe_count_1000_price_500', 'cafe_count_1000_price_1000', 'cafe_count_1000_price_1500', 'cafe_count_1000_price_2500', 'cafe_count_1000_price_4000', 'cafe_count_1000_price_high', 'big_church_count_1000', 'church_count_1000', 'mosque_count_1000', 'leisure_count_1000', 'sport_count_1000', 'market_count_1000', 'green_part_1500', 'prom_part_1500', 'office_count_1500', 'office_sqm_1500', 'trc_count_1500', 'trc_sqm_1500', 'cafe_count_1500', 'cafe_sum_1500_min_price_avg', 'cafe_sum_1500_max_price_avg', 'cafe_avg_price_1500', 'cafe_count_1500_na_price', 'cafe_count_1500_price_500', 'cafe_count_1500_price_1000', 'cafe_count_1500_price_1500', 'cafe_count_1500_price_2500', 'cafe_count_1500_price_4000', 'cafe_count_1500_price_high', 'big_church_count_1500', 'church_count_1500', 'mosque_count_1500', 'leisure_count_1500', 'sport_count_1500', 'market_count_1500', 'green_part_2000', 'prom_part_2000', 'office_count_2000', 'office_sqm_2000', 'trc_count_2000', 'trc_sqm_2000', 'cafe_count_2000', 'cafe_sum_2000_min_price_avg', 'cafe_sum_2000_max_price_avg', 'cafe_avg_price_2000', 'cafe_count_2000_na_price', 'cafe_count_2000_price_500', 'cafe_count_2000_price_1000', 'cafe_count_2000_price_1500', 'cafe_count_2000_price_2500', 'cafe_count_2000_price_4000', 'cafe_count_2000_price_high', 'big_church_count_2000', 'church_count_2000', 'mosque_count_2000', 'leisure_count_2000', 'sport_count_2000', 'market_count_2000', 'green_part_3000', 'prom_part_3000', 'office_count_3000', 'office_sqm_3000', 'trc_count_3000', 'trc_sqm_3000', 'cafe_count_3000', 'cafe_sum_3000_min_price_avg', 'cafe_sum_3000_max_price_avg', 'cafe_avg_price_3000', 'cafe_count_3000_na_price', 'cafe_count_3000_price_500', 'cafe_count_3000_price_1000', 'cafe_count_3000_price_1500', 'cafe_count_3000_price_2500', 'cafe_count_3000_price_4000', 'cafe_count_3000_price_high', 'big_church_count_3000', 'church_count_3000', 'mosque_count_3000', 'leisure_count_3000', 'sport_count_3000', 'market_count_3000', 'green_part_5000', 'prom_part_5000', 'office_count_5000', 'office_sqm_5000', 'trc_count_5000', 'trc_sqm_5000', 'cafe_count_5000', 'cafe_sum_5000_min_price_avg', 'cafe_sum_5000_max_price_avg', 'cafe_avg_price_5000', 'cafe_count_5000_na_price', 'cafe_count_5000_price_500', 'cafe_count_5000_price_1000', 'cafe_count_5000_price_1500', 'cafe_count_5000_price_2500', 'cafe_count_5000_price_4000', 'cafe_count_5000_price_high', 'big_church_count_5000', 'church_count_5000', 'mosque_count_5000', 'leisure_count_5000', 'sport_count_5000', 'market_count_5000', 'floor_ratio', 'floor_from_top', 'kitch_sq_ratio', 'life_sq_ratio', 'full_sq_per_room', 'life_sq_per_room', 'full_living_sq_diff', 'year', 'month', 'day', 'dayofyear']\n",
      "\n",
      "Categorical = ['product_type', 'sub_area', 'culture_objects_top_25', 'thermal_power_plant_raion', 'incineration_raion', 'oil_chemistry_raion', 'radiation_raion', 'railroad_terminal_raion', 'big_market_raion', 'nuclear_reactor_raion', 'detention_facility_raion', 'water_1line', 'big_road1_1line', 'railroad_1line', 'ecology']\n"
     ]
    }
   ],
   "source": [
    "original_nums, cats = get_type_lists()"
   ]
  },
  {
   "cell_type": "code",
   "execution_count": 24,
   "metadata": {
    "collapsed": false
   },
   "outputs": [
    {
     "name": "stdout",
     "output_type": "stream",
     "text": [
      "(21378, 303)\n",
      "(9086, 303)\n"
     ]
    }
   ],
   "source": [
    "train, valid = train.split_frame([0.7], seed=12345)\n",
    "print(train.shape)\n",
    "print(valid.shape)"
   ]
  },
  {
   "cell_type": "markdown",
   "metadata": {},
   "source": [
    "### Encode categorical vars using shrunken averages"
   ]
  },
  {
   "cell_type": "code",
   "execution_count": 25,
   "metadata": {
    "collapsed": true
   },
   "outputs": [],
   "source": [
    "def target_encoder(training_frame, test_frame, x, y, lambda_=0.15, threshold=150, test=False):\n",
    "\n",
    "    # convert to pandas\n",
    "    trdf = training_frame.as_data_frame().loc[:, [x,y]] # df\n",
    "    tss = test_frame.as_data_frame().loc[:, x]          # series\n",
    "\n",
    "\n",
    "    # create dictionary of level:encode val\n",
    "\n",
    "    encode_name = x + '_Tencode'\n",
    "    overall_mean = trdf[y].mean()\n",
    "    row_val_dict = {}\n",
    "\n",
    "    for level in trdf[x].unique():\n",
    "        level_df = trdf[trdf[x] == level][y]\n",
    "        level_n = level_df.shape[0]\n",
    "        level_mean = level_df.mean()\n",
    "        if level_n >= threshold:\n",
    "            row_val_dict[level] = level_mean\n",
    "        else:\n",
    "            row_val_dict[level] = ((1 - lambda_) * level_mean) +\\\n",
    "                                  (lambda_ * overall_mean)\n",
    "\n",
    "    row_val_dict[np.nan] = overall_mean # handle missing values\n",
    "\n",
    "    if test:\n",
    "        print(row_val_dict)\n",
    "\n",
    "    # apply the transform to training data\n",
    "    trdf[encode_name] = trdf[x].apply(lambda i: row_val_dict[i])\n",
    "\n",
    "    # apply the transform to test data\n",
    "    tsdf = pd.DataFrame(columns=[x, encode_name])\n",
    "    tsdf[x] = tss\n",
    "    tsdf.loc[:, encode_name] = overall_mean # handle previously unseen values\n",
    "    # handle values that are seen in tsdf but not row_val_dict\n",
    "    for i, col_i in enumerate(tsdf[x]):\n",
    "        try:\n",
    "            row_val_dict[col_i]\n",
    "        except:\n",
    "            # a value that appeared in tsdf isn't in the row_val_dict so just\n",
    "            # make it the overall_mean\n",
    "            row_val_dict[col_i] = overall_mean\n",
    "    tsdf[encode_name] = tsdf[x].apply(lambda i: row_val_dict[i])\n",
    "\n",
    "\n",
    "    # convert back to H2O\n",
    "\n",
    "    trdf = h2o.H2OFrame(trdf[encode_name].as_matrix())\n",
    "    trdf.columns = [encode_name]\n",
    "\n",
    "    tsdf = h2o.H2OFrame(tsdf[encode_name].as_matrix())\n",
    "    tsdf.columns = [encode_name]\n",
    "\n",
    "    return (trdf, tsdf)"
   ]
  },
  {
   "cell_type": "code",
   "execution_count": 26,
   "metadata": {
    "collapsed": false,
    "scrolled": true
   },
   "outputs": [
    {
     "name": "stdout",
     "output_type": "stream",
     "text": [
      "Encoding: product_type (1/15) ...\n",
      "Encoding: sub_area (2/15) ...\n",
      "Encoding: culture_objects_top_25 (3/15) ...\n",
      "Encoding: thermal_power_plant_raion (4/15) ...\n",
      "Encoding: incineration_raion (5/15) ...\n",
      "Encoding: oil_chemistry_raion (6/15) ...\n",
      "Encoding: radiation_raion (7/15) ...\n",
      "Encoding: railroad_terminal_raion (8/15) ...\n",
      "Encoding: big_market_raion (9/15) ...\n",
      "Encoding: nuclear_reactor_raion (10/15) ...\n",
      "Encoding: detention_facility_raion (11/15) ...\n",
      "Encoding: water_1line (12/15) ...\n",
      "Encoding: big_road1_1line (13/15) ...\n",
      "Encoding: railroad_1line (14/15) ...\n",
      "Encoding: ecology (15/15) ...\n",
      "Done.\n"
     ]
    }
   ],
   "source": [
    "total = len(cats)\n",
    "for i, var in enumerate(cats):\n",
    "    \n",
    "    tr_enc, _ = target_encoder(train, test, var, 'price_doc')\n",
    "    v_enc, ts_enc = target_encoder(valid, test, var, 'price_doc')\n",
    "    \n",
    "    print('Encoding: ' + var + ' (' + str(i+1) + '/' + str(total) + ') ...')\n",
    "\n",
    "    train = train.cbind(tr_enc)\n",
    "    valid = valid.cbind(v_enc)\n",
    "    test = test.cbind(ts_enc)    \n",
    "    \n",
    "print('Done.')"
   ]
  },
  {
   "cell_type": "code",
   "execution_count": 27,
   "metadata": {
    "collapsed": false,
    "scrolled": true
   },
   "outputs": [
    {
     "name": "stdout",
     "output_type": "stream",
     "text": [
      "Numeric = ['timestamp', 'full_sq', 'life_sq', 'floor', 'max_floor', 'material', 'build_year', 'num_room', 'kitch_sq', 'state', 'area_m', 'raion_popul', 'green_zone_part', 'indust_part', 'children_preschool', 'preschool_quota', 'preschool_education_centers_raion', 'children_school', 'school_quota', 'school_education_centers_raion', 'school_education_centers_top_20_raion', 'hospital_beds_raion', 'healthcare_centers_raion', 'university_top_20_raion', 'sport_objects_raion', 'additional_education_raion', 'culture_objects_top_25_raion', 'shopping_centers_raion', 'office_raion', 'full_all', 'male_f', 'female_f', 'young_all', 'young_male', 'young_female', 'work_all', 'work_male', 'work_female', 'ekder_all', 'ekder_male', 'ekder_female', '0_6_all', '0_6_male', '0_6_female', '7_14_all', '7_14_male', '7_14_female', '0_17_all', '0_17_male', '0_17_female', '16_29_all', '16_29_male', '16_29_female', '0_13_all', '0_13_male', '0_13_female', 'raion_build_count_with_material_info', 'build_count_block', 'build_count_wood', 'build_count_frame', 'build_count_brick', 'build_count_monolith', 'build_count_panel', 'build_count_foam', 'build_count_slag', 'build_count_mix', 'raion_build_count_with_builddate_info', 'build_count_before_1920', 'build_count_1921-1945', 'build_count_1946-1970', 'build_count_1971-1995', 'build_count_after_1995', 'ID_metro', 'metro_min_avto', 'metro_km_avto', 'metro_min_walk', 'metro_km_walk', 'kindergarten_km', 'school_km', 'park_km', 'green_zone_km', 'industrial_km', 'water_treatment_km', 'cemetery_km', 'incineration_km', 'railroad_station_walk_km', 'railroad_station_walk_min', 'ID_railroad_station_walk', 'railroad_station_avto_km', 'railroad_station_avto_min', 'ID_railroad_station_avto', 'public_transport_station_km', 'public_transport_station_min_walk', 'water_km', 'mkad_km', 'ttk_km', 'sadovoe_km', 'bulvar_ring_km', 'kremlin_km', 'big_road1_km', 'ID_big_road1', 'big_road2_km', 'ID_big_road2', 'railroad_km', 'zd_vokzaly_avto_km', 'ID_railroad_terminal', 'bus_terminal_avto_km', 'ID_bus_terminal', 'oil_chemistry_km', 'nuclear_reactor_km', 'radiation_km', 'power_transmission_line_km', 'thermal_power_plant_km', 'ts_km', 'big_market_km', 'market_shop_km', 'fitness_km', 'swim_pool_km', 'ice_rink_km', 'stadium_km', 'basketball_km', 'hospice_morgue_km', 'detention_facility_km', 'public_healthcare_km', 'university_km', 'workplaces_km', 'shopping_centers_km', 'office_km', 'additional_education_km', 'preschool_km', 'big_church_km', 'church_synagogue_km', 'mosque_km', 'theater_km', 'museum_km', 'exhibition_km', 'catering_km', 'green_part_500', 'prom_part_500', 'office_count_500', 'office_sqm_500', 'trc_count_500', 'trc_sqm_500', 'cafe_count_500', 'cafe_sum_500_min_price_avg', 'cafe_sum_500_max_price_avg', 'cafe_avg_price_500', 'cafe_count_500_na_price', 'cafe_count_500_price_500', 'cafe_count_500_price_1000', 'cafe_count_500_price_1500', 'cafe_count_500_price_2500', 'cafe_count_500_price_4000', 'cafe_count_500_price_high', 'big_church_count_500', 'church_count_500', 'mosque_count_500', 'leisure_count_500', 'sport_count_500', 'market_count_500', 'green_part_1000', 'prom_part_1000', 'office_count_1000', 'office_sqm_1000', 'trc_count_1000', 'trc_sqm_1000', 'cafe_count_1000', 'cafe_sum_1000_min_price_avg', 'cafe_sum_1000_max_price_avg', 'cafe_avg_price_1000', 'cafe_count_1000_na_price', 'cafe_count_1000_price_500', 'cafe_count_1000_price_1000', 'cafe_count_1000_price_1500', 'cafe_count_1000_price_2500', 'cafe_count_1000_price_4000', 'cafe_count_1000_price_high', 'big_church_count_1000', 'church_count_1000', 'mosque_count_1000', 'leisure_count_1000', 'sport_count_1000', 'market_count_1000', 'green_part_1500', 'prom_part_1500', 'office_count_1500', 'office_sqm_1500', 'trc_count_1500', 'trc_sqm_1500', 'cafe_count_1500', 'cafe_sum_1500_min_price_avg', 'cafe_sum_1500_max_price_avg', 'cafe_avg_price_1500', 'cafe_count_1500_na_price', 'cafe_count_1500_price_500', 'cafe_count_1500_price_1000', 'cafe_count_1500_price_1500', 'cafe_count_1500_price_2500', 'cafe_count_1500_price_4000', 'cafe_count_1500_price_high', 'big_church_count_1500', 'church_count_1500', 'mosque_count_1500', 'leisure_count_1500', 'sport_count_1500', 'market_count_1500', 'green_part_2000', 'prom_part_2000', 'office_count_2000', 'office_sqm_2000', 'trc_count_2000', 'trc_sqm_2000', 'cafe_count_2000', 'cafe_sum_2000_min_price_avg', 'cafe_sum_2000_max_price_avg', 'cafe_avg_price_2000', 'cafe_count_2000_na_price', 'cafe_count_2000_price_500', 'cafe_count_2000_price_1000', 'cafe_count_2000_price_1500', 'cafe_count_2000_price_2500', 'cafe_count_2000_price_4000', 'cafe_count_2000_price_high', 'big_church_count_2000', 'church_count_2000', 'mosque_count_2000', 'leisure_count_2000', 'sport_count_2000', 'market_count_2000', 'green_part_3000', 'prom_part_3000', 'office_count_3000', 'office_sqm_3000', 'trc_count_3000', 'trc_sqm_3000', 'cafe_count_3000', 'cafe_sum_3000_min_price_avg', 'cafe_sum_3000_max_price_avg', 'cafe_avg_price_3000', 'cafe_count_3000_na_price', 'cafe_count_3000_price_500', 'cafe_count_3000_price_1000', 'cafe_count_3000_price_1500', 'cafe_count_3000_price_2500', 'cafe_count_3000_price_4000', 'cafe_count_3000_price_high', 'big_church_count_3000', 'church_count_3000', 'mosque_count_3000', 'leisure_count_3000', 'sport_count_3000', 'market_count_3000', 'green_part_5000', 'prom_part_5000', 'office_count_5000', 'office_sqm_5000', 'trc_count_5000', 'trc_sqm_5000', 'cafe_count_5000', 'cafe_sum_5000_min_price_avg', 'cafe_sum_5000_max_price_avg', 'cafe_avg_price_5000', 'cafe_count_5000_na_price', 'cafe_count_5000_price_500', 'cafe_count_5000_price_1000', 'cafe_count_5000_price_1500', 'cafe_count_5000_price_2500', 'cafe_count_5000_price_4000', 'cafe_count_5000_price_high', 'big_church_count_5000', 'church_count_5000', 'mosque_count_5000', 'leisure_count_5000', 'sport_count_5000', 'market_count_5000', 'floor_ratio', 'floor_from_top', 'kitch_sq_ratio', 'life_sq_ratio', 'full_sq_per_room', 'life_sq_per_room', 'full_living_sq_diff', 'year', 'month', 'day', 'dayofyear', 'product_type_Tencode', 'sub_area_Tencode', 'culture_objects_top_25_Tencode', 'thermal_power_plant_raion_Tencode', 'incineration_raion_Tencode', 'oil_chemistry_raion_Tencode', 'radiation_raion_Tencode', 'railroad_terminal_raion_Tencode', 'big_market_raion_Tencode', 'nuclear_reactor_raion_Tencode', 'detention_facility_raion_Tencode', 'water_1line_Tencode', 'big_road1_1line_Tencode', 'railroad_1line_Tencode', 'ecology_Tencode']\n",
      "\n",
      "Categorical = ['product_type', 'sub_area', 'culture_objects_top_25', 'thermal_power_plant_raion', 'incineration_raion', 'oil_chemistry_raion', 'radiation_raion', 'railroad_terminal_raion', 'big_market_raion', 'nuclear_reactor_raion', 'detention_facility_raion', 'water_1line', 'big_road1_1line', 'railroad_1line', 'ecology']\n"
     ]
    }
   ],
   "source": [
    "encoded_nums, cats = get_type_lists(frame=train)"
   ]
  },
  {
   "cell_type": "markdown",
   "metadata": {},
   "source": [
    "### Log the price"
   ]
  },
  {
   "cell_type": "code",
   "execution_count": 28,
   "metadata": {
    "collapsed": false
   },
   "outputs": [
    {
     "data": {
      "text/html": [
       "<table>\n",
       "<thead>\n",
       "<tr><th style=\"text-align: right;\">  price_doc</th></tr>\n",
       "</thead>\n",
       "<tbody>\n",
       "<tr><td style=\"text-align: right;\">    15.582 </td></tr>\n",
       "<tr><td style=\"text-align: right;\">    15.6073</td></tr>\n",
       "<tr><td style=\"text-align: right;\">    15.556 </td></tr>\n",
       "</tbody>\n",
       "</table>"
      ]
     },
     "metadata": {},
     "output_type": "display_data"
    },
    {
     "name": "stdout",
     "output_type": "stream",
     "text": [
      "\n"
     ]
    },
    {
     "data": {
      "image/png": "[encoded data removed]",
      "text/plain": [
       "<matplotlib.figure.Figure at 0x1142248d0>"
      ]
     },
     "metadata": {},
     "output_type": "display_data"
    }
   ],
   "source": [
    "# Check log transform - looks good\n",
    "%matplotlib inline\n",
    "train['price_doc'].log().as_data_frame().hist()\n",
    "\n",
    "# Execute log transform\n",
    "train['price_doc'] = train['price_doc'].log()\n",
    "valid['price_doc'] = valid['price_doc'].log()\n",
    "print(train[0:3, 'price_doc'])\n",
    "#print(valid[0:3, 'price_doc'])"
   ]
  },
  {
   "cell_type": "code",
   "execution_count": 29,
   "metadata": {
    "collapsed": false
   },
   "outputs": [
    {
     "name": "stdout",
     "output_type": "stream",
     "text": [
      "(21378, 318)\n",
      "(9086, 318)\n",
      "(7662, 318)\n"
     ]
    }
   ],
   "source": [
    "print(train.shape)\n",
    "print(valid.shape)\n",
    "print(test.shape)"
   ]
  },
  {
   "cell_type": "markdown",
   "metadata": {},
   "source": [
    "#### Define ranked predictions plot function"
   ]
  },
  {
   "cell_type": "code",
   "execution_count": 30,
   "metadata": {
    "collapsed": true
   },
   "outputs": [],
   "source": [
    "def ranked_preds_plot(y, valid, preds):\n",
    "    \n",
    "    \"\"\" Generates ranked prediction plot.\n",
    "    \n",
    "    :param y: Name of target variable.\n",
    "    :param valid: Name of validation H2OFrame.\n",
    "    :param preds: Column vector of predictions to plot.\n",
    "\n",
    "    \"\"\"\n",
    "    \n",
    "    # plot top frame values\n",
    "    preds.columns = ['predict']\n",
    "    yhat_frame = valid.cbind(preds)\n",
    "    print(yhat_frame[0:10, [y, 'predict']])\n",
    "\n",
    "    # plot sorted predictions\n",
    "    yhat_frame_df = yhat_frame[[y, 'predict']].as_data_frame()\n",
    "    yhat_frame_df.sort_values(by='predict', inplace=True)\n",
    "    yhat_frame_df.reset_index(inplace=True, drop=True)\n",
    "    _ = yhat_frame_df.plot(title='Ranked Predictions Plot')"
   ]
  },
  {
   "cell_type": "markdown",
   "metadata": {},
   "source": [
    "### Variable importance"
   ]
  },
  {
   "cell_type": "code",
   "execution_count": null,
   "metadata": {
    "collapsed": false
   },
   "outputs": [],
   "source": [
    "# initialize rf model\n",
    "rf_model1 = H2ORandomForestEstimator(\n",
    "    ntrees=10000,                    \n",
    "    max_depth=10, \n",
    "    col_sample_rate_per_tree=0.1,\n",
    "    sample_rate=0.8,\n",
    "    stopping_rounds=50,\n",
    "    score_each_iteration=True,\n",
    "    nfolds=3,\n",
    "    keep_cross_validation_predictions=True,\n",
    "    seed=12345)           \n",
    "\n",
    "# train rf model\n",
    "rf_model1.train(\n",
    "    x=encoded_nums,\n",
    "    y='price_doc',\n",
    "    training_frame=train,\n",
    "    validation_frame=valid)\n",
    "\n",
    "# print model information\n",
    "print(rf_model1)\n",
    "\n",
    "rf_preds1_val = rf_model1.predict(valid)\n",
    "ranked_preds_plot('price_doc', valid, rf_preds1_val) # valid RMSE not so hot ...\n",
    "rf_preds1_test = rf_model1.predict(test)"
   ]
  },
  {
   "cell_type": "code",
   "execution_count": null,
   "metadata": {
    "collapsed": false
   },
   "outputs": [],
   "source": [
    "l = rf_model1.varimp()\n",
    "FI = [i[0] for i in l[:50]]"
   ]
  },
  {
   "cell_type": "code",
   "execution_count": null,
   "metadata": {
    "collapsed": false
   },
   "outputs": [],
   "source": [
    "print(FI)"
   ]
  },
  {
   "cell_type": "code",
   "execution_count": 31,
   "metadata": {
    "collapsed": true
   },
   "outputs": [],
   "source": [
    "FI = ['full_sq', 'life_sq', 'num_room', 'full_living_sq_diff', 'sub_area_Tencode', 'cafe_count_5000_price_2500', 'kitch_sq_ratio', 'full_sq_per_room', 'cafe_count_2000', 'cafe_count_5000_price_high', 'kitch_sq', 'cafe_count_3000_price_1000', 'life_sq_per_room', 'sport_count_3000', 'cafe_count_3000', 'trc_count_3000', 'cafe_count_3000_price_1500', 'cafe_count_2000_price_2500', 'cafe_count_5000_price_1000', 'cafe_count_2000_price_1500', 'timestamp', 'year', 'cafe_count_3000_price_2500', 'nuclear_reactor_km', 'cafe_count_5000', 'market_shop_km', 'life_sq_ratio', 'ttk_km', 'cafe_count_5000_price_1500', 'big_church_km', 'office_sqm_5000', 'swim_pool_km', 'cafe_count_1500_price_2500', 'sadovoe_km', 'build_year', 'floor_ratio', 'max_floor', 'cafe_sum_5000_min_price_avg', 'sport_count_5000', 'metro_min_avto', 'floor', 'prom_part_5000', 'material', 'cafe_count_1500', 'office_count_3000', 'metro_km_walk', 'ice_rink_km', 'kremlin_km', 'prom_part_1500', 'prom_part_3000']"
   ]
  },
  {
   "cell_type": "code",
   "execution_count": 32,
   "metadata": {
    "collapsed": false
   },
   "outputs": [
    {
     "name": "stdout",
     "output_type": "stream",
     "text": [
      "['full_sq', 'life_sq', 'num_room', 'full_living_sq_diff', 'sub_area_Tencode', 'cafe_count_5000_price_2500', 'kitch_sq_ratio', 'full_sq_per_room', 'cafe_count_2000', 'cafe_count_5000_price_high', 'kitch_sq', 'cafe_count_3000_price_1000', 'life_sq_per_room', 'sport_count_3000', 'cafe_count_3000', 'trc_count_3000', 'cafe_count_3000_price_1500', 'cafe_count_2000_price_2500', 'cafe_count_5000_price_1000', 'cafe_count_2000_price_1500', 'timestamp', 'year', 'cafe_count_3000_price_2500', 'nuclear_reactor_km', 'cafe_count_5000', 'market_shop_km', 'life_sq_ratio', 'ttk_km', 'cafe_count_5000_price_1500', 'big_church_km', 'office_sqm_5000', 'swim_pool_km', 'cafe_count_1500_price_2500', 'sadovoe_km', 'build_year', 'floor_ratio', 'max_floor', 'cafe_sum_5000_min_price_avg', 'sport_count_5000', 'metro_min_avto', 'floor', 'prom_part_5000', 'material', 'cafe_count_1500', 'office_count_3000', 'metro_km_walk', 'ice_rink_km', 'kremlin_km', 'prom_part_1500', 'prom_part_3000']\n"
     ]
    }
   ],
   "source": [
    "print(FI)"
   ]
  },
  {
   "cell_type": "markdown",
   "metadata": {
    "collapsed": true
   },
   "source": [
    "### Create combination features"
   ]
  },
  {
   "cell_type": "code",
   "execution_count": 33,
   "metadata": {
    "collapsed": true
   },
   "outputs": [],
   "source": [
    "def feature_combiner(training_frame, test_frame, nums):\n",
    "    total = len(nums)\n",
    "    \n",
    "    # convert to pandas\n",
    "    train_df = training_frame.as_data_frame()\n",
    "    test_df = test_frame.as_data_frame()\n",
    "    \n",
    "    for i, col_i in enumerate(nums):\n",
    "        \n",
    "        print('Combining: ' + col_i + ' (' + str(i+1) + '/' + str(total) + ') ...')        \n",
    "        \n",
    "        for j, col_j in enumerate(nums):\n",
    "            \n",
    "            # don't repeat (i*j = j*i)\n",
    "            if i < j:\n",
    "                \n",
    "                # convert to pandas\n",
    "                col_i_train_df = train_df[col_i]\n",
    "                col_j_train_df = train_df[col_j]\n",
    "                col_i_test_df = test_df[col_i]\n",
    "                col_j_test_df = test_df[col_j] \n",
    "\n",
    "                # multiply, convert back to h2o\n",
    "                train_df[str(col_i + '|' + col_j)] = col_i_train_df.values*col_j_train_df.values\n",
    "                test_df[str(col_i + '|' + col_j)] = col_i_test_df.values*col_j_test_df.values\n",
    "                \n",
    "    print('Done.')\n",
    "    \n",
    "    # convert back to h2o\n",
    "    \n",
    "    print('Converting to H2OFrame ...')\n",
    "    \n",
    "    training_frame = h2o.H2OFrame(train_df)\n",
    "    training_frame.columns = list(train_df)\n",
    "    test_frame = h2o.H2OFrame(test_df)\n",
    "    test_frame.columns = list(test_df)\n",
    "    \n",
    "    print('Done.')\n",
    "    print()\n",
    "    \n",
    "    # conserve memory \n",
    "    del train_df\n",
    "    del test_df \n",
    "    \n",
    "    return training_frame, test_frame"
   ]
  },
  {
   "cell_type": "code",
   "execution_count": 34,
   "metadata": {
    "collapsed": false,
    "scrolled": true
   },
   "outputs": [
    {
     "name": "stdout",
     "output_type": "stream",
     "text": [
      "Combining: full_sq (1/50) ...\n",
      "Combining: life_sq (2/50) ...\n",
      "Combining: num_room (3/50) ...\n",
      "Combining: full_living_sq_diff (4/50) ...\n",
      "Combining: sub_area_Tencode (5/50) ...\n",
      "Combining: cafe_count_5000_price_2500 (6/50) ...\n",
      "Combining: kitch_sq_ratio (7/50) ...\n",
      "Combining: full_sq_per_room (8/50) ...\n",
      "Combining: cafe_count_2000 (9/50) ...\n",
      "Combining: cafe_count_5000_price_high (10/50) ...\n",
      "Combining: kitch_sq (11/50) ...\n",
      "Combining: cafe_count_3000_price_1000 (12/50) ...\n",
      "Combining: life_sq_per_room (13/50) ...\n",
      "Combining: sport_count_3000 (14/50) ...\n",
      "Combining: cafe_count_3000 (15/50) ...\n",
      "Combining: trc_count_3000 (16/50) ...\n",
      "Combining: cafe_count_3000_price_1500 (17/50) ...\n",
      "Combining: cafe_count_2000_price_2500 (18/50) ...\n",
      "Combining: cafe_count_5000_price_1000 (19/50) ...\n",
      "Combining: cafe_count_2000_price_1500 (20/50) ...\n",
      "Combining: timestamp (21/50) ...\n",
      "Combining: year (22/50) ...\n",
      "Combining: cafe_count_3000_price_2500 (23/50) ...\n",
      "Combining: nuclear_reactor_km (24/50) ...\n",
      "Combining: cafe_count_5000 (25/50) ...\n",
      "Combining: market_shop_km (26/50) ...\n",
      "Combining: life_sq_ratio (27/50) ...\n",
      "Combining: ttk_km (28/50) ...\n",
      "Combining: cafe_count_5000_price_1500 (29/50) ...\n",
      "Combining: big_church_km (30/50) ...\n",
      "Combining: office_sqm_5000 (31/50) ...\n",
      "Combining: swim_pool_km (32/50) ...\n",
      "Combining: cafe_count_1500_price_2500 (33/50) ...\n",
      "Combining: sadovoe_km (34/50) ...\n",
      "Combining: build_year (35/50) ...\n",
      "Combining: floor_ratio (36/50) ...\n",
      "Combining: max_floor (37/50) ...\n",
      "Combining: cafe_sum_5000_min_price_avg (38/50) ...\n",
      "Combining: sport_count_5000 (39/50) ...\n",
      "Combining: metro_min_avto (40/50) ...\n",
      "Combining: floor (41/50) ...\n",
      "Combining: prom_part_5000 (42/50) ...\n",
      "Combining: material (43/50) ...\n",
      "Combining: cafe_count_1500 (44/50) ...\n",
      "Combining: office_count_3000 (45/50) ...\n",
      "Combining: metro_km_walk (46/50) ...\n",
      "Combining: ice_rink_km (47/50) ...\n",
      "Combining: kremlin_km (48/50) ...\n",
      "Combining: prom_part_1500 (49/50) ...\n",
      "Combining: prom_part_3000 (50/50) ...\n",
      "Done.\n",
      "Converting to H2OFrame ...\n",
      "Done.\n",
      "\n",
      "Combining: full_sq (1/50) ...\n",
      "Combining: life_sq (2/50) ...\n",
      "Combining: num_room (3/50) ...\n",
      "Combining: full_living_sq_diff (4/50) ...\n",
      "Combining: sub_area_Tencode (5/50) ...\n",
      "Combining: cafe_count_5000_price_2500 (6/50) ...\n",
      "Combining: kitch_sq_ratio (7/50) ...\n",
      "Combining: full_sq_per_room (8/50) ...\n",
      "Combining: cafe_count_2000 (9/50) ...\n",
      "Combining: cafe_count_5000_price_high (10/50) ...\n",
      "Combining: kitch_sq (11/50) ...\n",
      "Combining: cafe_count_3000_price_1000 (12/50) ...\n",
      "Combining: life_sq_per_room (13/50) ...\n",
      "Combining: sport_count_3000 (14/50) ...\n",
      "Combining: cafe_count_3000 (15/50) ...\n",
      "Combining: trc_count_3000 (16/50) ...\n",
      "Combining: cafe_count_3000_price_1500 (17/50) ...\n",
      "Combining: cafe_count_2000_price_2500 (18/50) ...\n",
      "Combining: cafe_count_5000_price_1000 (19/50) ...\n",
      "Combining: cafe_count_2000_price_1500 (20/50) ...\n",
      "Combining: timestamp (21/50) ...\n",
      "Combining: year (22/50) ...\n",
      "Combining: cafe_count_3000_price_2500 (23/50) ...\n",
      "Combining: nuclear_reactor_km (24/50) ...\n",
      "Combining: cafe_count_5000 (25/50) ...\n",
      "Combining: market_shop_km (26/50) ...\n",
      "Combining: life_sq_ratio (27/50) ...\n",
      "Combining: ttk_km (28/50) ...\n",
      "Combining: cafe_count_5000_price_1500 (29/50) ...\n",
      "Combining: big_church_km (30/50) ...\n",
      "Combining: office_sqm_5000 (31/50) ...\n",
      "Combining: swim_pool_km (32/50) ...\n",
      "Combining: cafe_count_1500_price_2500 (33/50) ...\n",
      "Combining: sadovoe_km (34/50) ...\n",
      "Combining: build_year (35/50) ...\n",
      "Combining: floor_ratio (36/50) ...\n",
      "Combining: max_floor (37/50) ...\n",
      "Combining: cafe_sum_5000_min_price_avg (38/50) ...\n",
      "Combining: sport_count_5000 (39/50) ...\n",
      "Combining: metro_min_avto (40/50) ...\n",
      "Combining: floor (41/50) ...\n",
      "Combining: prom_part_5000 (42/50) ...\n",
      "Combining: material (43/50) ...\n",
      "Combining: cafe_count_1500 (44/50) ...\n",
      "Combining: office_count_3000 (45/50) ...\n",
      "Combining: metro_km_walk (46/50) ...\n",
      "Combining: ice_rink_km (47/50) ...\n",
      "Combining: kremlin_km (48/50) ...\n",
      "Combining: prom_part_1500 (49/50) ...\n",
      "Combining: prom_part_3000 (50/50) ...\n",
      "Done.\n",
      "Converting to H2OFrame ...\n",
      "Done.\n",
      "\n"
     ]
    }
   ],
   "source": [
    "train, _ = feature_combiner(train, test, FI)\n",
    "valid, test = feature_combiner(valid, test, FI)"
   ]
  },
  {
   "cell_type": "code",
   "execution_count": 35,
   "metadata": {
    "collapsed": false
   },
   "outputs": [
    {
     "name": "stdout",
     "output_type": "stream",
     "text": [
      "Numeric = ['timestamp', 'full_sq', 'life_sq', 'floor', 'max_floor', 'material', 'build_year', 'num_room', 'kitch_sq', 'state', 'area_m', 'raion_popul', 'green_zone_part', 'indust_part', 'children_preschool', 'preschool_quota', 'preschool_education_centers_raion', 'children_school', 'school_quota', 'school_education_centers_raion', 'school_education_centers_top_20_raion', 'hospital_beds_raion', 'healthcare_centers_raion', 'university_top_20_raion', 'sport_objects_raion', 'additional_education_raion', 'culture_objects_top_25_raion', 'shopping_centers_raion', 'office_raion', 'full_all', 'male_f', 'female_f', 'young_all', 'young_male', 'young_female', 'work_all', 'work_male', 'work_female', 'ekder_all', 'ekder_male', 'ekder_female', '0_6_all', '0_6_male', '0_6_female', '7_14_all', '7_14_male', '7_14_female', '0_17_all', '0_17_male', '0_17_female', '16_29_all', '16_29_male', '16_29_female', '0_13_all', '0_13_male', '0_13_female', 'raion_build_count_with_material_info', 'build_count_block', 'build_count_wood', 'build_count_frame', 'build_count_brick', 'build_count_monolith', 'build_count_panel', 'build_count_foam', 'build_count_slag', 'build_count_mix', 'raion_build_count_with_builddate_info', 'build_count_before_1920', 'build_count_1921-1945', 'build_count_1946-1970', 'build_count_1971-1995', 'build_count_after_1995', 'ID_metro', 'metro_min_avto', 'metro_km_avto', 'metro_min_walk', 'metro_km_walk', 'kindergarten_km', 'school_km', 'park_km', 'green_zone_km', 'industrial_km', 'water_treatment_km', 'cemetery_km', 'incineration_km', 'railroad_station_walk_km', 'railroad_station_walk_min', 'ID_railroad_station_walk', 'railroad_station_avto_km', 'railroad_station_avto_min', 'ID_railroad_station_avto', 'public_transport_station_km', 'public_transport_station_min_walk', 'water_km', 'mkad_km', 'ttk_km', 'sadovoe_km', 'bulvar_ring_km', 'kremlin_km', 'big_road1_km', 'ID_big_road1', 'big_road2_km', 'ID_big_road2', 'railroad_km', 'zd_vokzaly_avto_km', 'ID_railroad_terminal', 'bus_terminal_avto_km', 'ID_bus_terminal', 'oil_chemistry_km', 'nuclear_reactor_km', 'radiation_km', 'power_transmission_line_km', 'thermal_power_plant_km', 'ts_km', 'big_market_km', 'market_shop_km', 'fitness_km', 'swim_pool_km', 'ice_rink_km', 'stadium_km', 'basketball_km', 'hospice_morgue_km', 'detention_facility_km', 'public_healthcare_km', 'university_km', 'workplaces_km', 'shopping_centers_km', 'office_km', 'additional_education_km', 'preschool_km', 'big_church_km', 'church_synagogue_km', 'mosque_km', 'theater_km', 'museum_km', 'exhibition_km', 'catering_km', 'green_part_500', 'prom_part_500', 'office_count_500', 'office_sqm_500', 'trc_count_500', 'trc_sqm_500', 'cafe_count_500', 'cafe_sum_500_min_price_avg', 'cafe_sum_500_max_price_avg', 'cafe_avg_price_500', 'cafe_count_500_na_price', 'cafe_count_500_price_500', 'cafe_count_500_price_1000', 'cafe_count_500_price_1500', 'cafe_count_500_price_2500', 'cafe_count_500_price_4000', 'cafe_count_500_price_high', 'big_church_count_500', 'church_count_500', 'mosque_count_500', 'leisure_count_500', 'sport_count_500', 'market_count_500', 'green_part_1000', 'prom_part_1000', 'office_count_1000', 'office_sqm_1000', 'trc_count_1000', 'trc_sqm_1000', 'cafe_count_1000', 'cafe_sum_1000_min_price_avg', 'cafe_sum_1000_max_price_avg', 'cafe_avg_price_1000', 'cafe_count_1000_na_price', 'cafe_count_1000_price_500', 'cafe_count_1000_price_1000', 'cafe_count_1000_price_1500', 'cafe_count_1000_price_2500', 'cafe_count_1000_price_4000', 'cafe_count_1000_price_high', 'big_church_count_1000', 'church_count_1000', 'mosque_count_1000', 'leisure_count_1000', 'sport_count_1000', 'market_count_1000', 'green_part_1500', 'prom_part_1500', 'office_count_1500', 'office_sqm_1500', 'trc_count_1500', 'trc_sqm_1500', 'cafe_count_1500', 'cafe_sum_1500_min_price_avg', 'cafe_sum_1500_max_price_avg', 'cafe_avg_price_1500', 'cafe_count_1500_na_price', 'cafe_count_1500_price_500', 'cafe_count_1500_price_1000', 'cafe_count_1500_price_1500', 'cafe_count_1500_price_2500', 'cafe_count_1500_price_4000', 'cafe_count_1500_price_high', 'big_church_count_1500', 'church_count_1500', 'mosque_count_1500', 'leisure_count_1500', 'sport_count_1500', 'market_count_1500', 'green_part_2000', 'prom_part_2000', 'office_count_2000', 'office_sqm_2000', 'trc_count_2000', 'trc_sqm_2000', 'cafe_count_2000', 'cafe_sum_2000_min_price_avg', 'cafe_sum_2000_max_price_avg', 'cafe_avg_price_2000', 'cafe_count_2000_na_price', 'cafe_count_2000_price_500', 'cafe_count_2000_price_1000', 'cafe_count_2000_price_1500', 'cafe_count_2000_price_2500', 'cafe_count_2000_price_4000', 'cafe_count_2000_price_high', 'big_church_count_2000', 'church_count_2000', 'mosque_count_2000', 'leisure_count_2000', 'sport_count_2000', 'market_count_2000', 'green_part_3000', 'prom_part_3000', 'office_count_3000', 'office_sqm_3000', 'trc_count_3000', 'trc_sqm_3000', 'cafe_count_3000', 'cafe_sum_3000_min_price_avg', 'cafe_sum_3000_max_price_avg', 'cafe_avg_price_3000', 'cafe_count_3000_na_price', 'cafe_count_3000_price_500', 'cafe_count_3000_price_1000', 'cafe_count_3000_price_1500', 'cafe_count_3000_price_2500', 'cafe_count_3000_price_4000', 'cafe_count_3000_price_high', 'big_church_count_3000', 'church_count_3000', 'mosque_count_3000', 'leisure_count_3000', 'sport_count_3000', 'market_count_3000', 'green_part_5000', 'prom_part_5000', 'office_count_5000', 'office_sqm_5000', 'trc_count_5000', 'trc_sqm_5000', 'cafe_count_5000', 'cafe_sum_5000_min_price_avg', 'cafe_sum_5000_max_price_avg', 'cafe_avg_price_5000', 'cafe_count_5000_na_price', 'cafe_count_5000_price_500', 'cafe_count_5000_price_1000', 'cafe_count_5000_price_1500', 'cafe_count_5000_price_2500', 'cafe_count_5000_price_4000', 'cafe_count_5000_price_high', 'big_church_count_5000', 'church_count_5000', 'mosque_count_5000', 'leisure_count_5000', 'sport_count_5000', 'market_count_5000', 'floor_ratio', 'floor_from_top', 'kitch_sq_ratio', 'life_sq_ratio', 'full_sq_per_room', 'life_sq_per_room', 'full_living_sq_diff', 'year', 'month', 'day', 'dayofyear', 'product_type_Tencode', 'sub_area_Tencode', 'culture_objects_top_25_Tencode', 'thermal_power_plant_raion_Tencode', 'incineration_raion_Tencode', 'oil_chemistry_raion_Tencode', 'radiation_raion_Tencode', 'railroad_terminal_raion_Tencode', 'big_market_raion_Tencode', 'nuclear_reactor_raion_Tencode', 'detention_facility_raion_Tencode', 'water_1line_Tencode', 'big_road1_1line_Tencode', 'railroad_1line_Tencode', 'ecology_Tencode', 'full_sq|life_sq', 'full_sq|num_room', 'full_sq|full_living_sq_diff', 'full_sq|sub_area_Tencode', 'full_sq|cafe_count_5000_price_2500', 'full_sq|kitch_sq_ratio', 'full_sq|full_sq_per_room', 'full_sq|cafe_count_2000', 'full_sq|cafe_count_5000_price_high', 'full_sq|kitch_sq', 'full_sq|cafe_count_3000_price_1000', 'full_sq|life_sq_per_room', 'full_sq|sport_count_3000', 'full_sq|cafe_count_3000', 'full_sq|trc_count_3000', 'full_sq|cafe_count_3000_price_1500', 'full_sq|cafe_count_2000_price_2500', 'full_sq|cafe_count_5000_price_1000', 'full_sq|cafe_count_2000_price_1500', 'full_sq|timestamp', 'full_sq|year', 'full_sq|cafe_count_3000_price_2500', 'full_sq|nuclear_reactor_km', 'full_sq|cafe_count_5000', 'full_sq|market_shop_km', 'full_sq|life_sq_ratio', 'full_sq|ttk_km', 'full_sq|cafe_count_5000_price_1500', 'full_sq|big_church_km', 'full_sq|office_sqm_5000', 'full_sq|swim_pool_km', 'full_sq|cafe_count_1500_price_2500', 'full_sq|sadovoe_km', 'full_sq|build_year', 'full_sq|floor_ratio', 'full_sq|max_floor', 'full_sq|cafe_sum_5000_min_price_avg', 'full_sq|sport_count_5000', 'full_sq|metro_min_avto', 'full_sq|floor', 'full_sq|prom_part_5000', 'full_sq|material', 'full_sq|cafe_count_1500', 'full_sq|office_count_3000', 'full_sq|metro_km_walk', 'full_sq|ice_rink_km', 'full_sq|kremlin_km', 'full_sq|prom_part_1500', 'full_sq|prom_part_3000', 'life_sq|num_room', 'life_sq|full_living_sq_diff', 'life_sq|sub_area_Tencode', 'life_sq|cafe_count_5000_price_2500', 'life_sq|kitch_sq_ratio', 'life_sq|full_sq_per_room', 'life_sq|cafe_count_2000', 'life_sq|cafe_count_5000_price_high', 'life_sq|kitch_sq', 'life_sq|cafe_count_3000_price_1000', 'life_sq|life_sq_per_room', 'life_sq|sport_count_3000', 'life_sq|cafe_count_3000', 'life_sq|trc_count_3000', 'life_sq|cafe_count_3000_price_1500', 'life_sq|cafe_count_2000_price_2500', 'life_sq|cafe_count_5000_price_1000', 'life_sq|cafe_count_2000_price_1500', 'life_sq|timestamp', 'life_sq|year', 'life_sq|cafe_count_3000_price_2500', 'life_sq|nuclear_reactor_km', 'life_sq|cafe_count_5000', 'life_sq|market_shop_km', 'life_sq|life_sq_ratio', 'life_sq|ttk_km', 'life_sq|cafe_count_5000_price_1500', 'life_sq|big_church_km', 'life_sq|office_sqm_5000', 'life_sq|swim_pool_km', 'life_sq|cafe_count_1500_price_2500', 'life_sq|sadovoe_km', 'life_sq|build_year', 'life_sq|floor_ratio', 'life_sq|max_floor', 'life_sq|cafe_sum_5000_min_price_avg', 'life_sq|sport_count_5000', 'life_sq|metro_min_avto', 'life_sq|floor', 'life_sq|prom_part_5000', 'life_sq|material', 'life_sq|cafe_count_1500', 'life_sq|office_count_3000', 'life_sq|metro_km_walk', 'life_sq|ice_rink_km', 'life_sq|kremlin_km', 'life_sq|prom_part_1500', 'life_sq|prom_part_3000', 'num_room|full_living_sq_diff', 'num_room|sub_area_Tencode', 'num_room|cafe_count_5000_price_2500', 'num_room|kitch_sq_ratio', 'num_room|full_sq_per_room', 'num_room|cafe_count_2000', 'num_room|cafe_count_5000_price_high', 'num_room|kitch_sq', 'num_room|cafe_count_3000_price_1000', 'num_room|life_sq_per_room', 'num_room|sport_count_3000', 'num_room|cafe_count_3000', 'num_room|trc_count_3000', 'num_room|cafe_count_3000_price_1500', 'num_room|cafe_count_2000_price_2500', 'num_room|cafe_count_5000_price_1000', 'num_room|cafe_count_2000_price_1500', 'num_room|timestamp', 'num_room|year', 'num_room|cafe_count_3000_price_2500', 'num_room|nuclear_reactor_km', 'num_room|cafe_count_5000', 'num_room|market_shop_km', 'num_room|life_sq_ratio', 'num_room|ttk_km', 'num_room|cafe_count_5000_price_1500', 'num_room|big_church_km', 'num_room|office_sqm_5000', 'num_room|swim_pool_km', 'num_room|cafe_count_1500_price_2500', 'num_room|sadovoe_km', 'num_room|build_year', 'num_room|floor_ratio', 'num_room|max_floor', 'num_room|cafe_sum_5000_min_price_avg', 'num_room|sport_count_5000', 'num_room|metro_min_avto', 'num_room|floor', 'num_room|prom_part_5000', 'num_room|material', 'num_room|cafe_count_1500', 'num_room|office_count_3000', 'num_room|metro_km_walk', 'num_room|ice_rink_km', 'num_room|kremlin_km', 'num_room|prom_part_1500', 'num_room|prom_part_3000', 'full_living_sq_diff|sub_area_Tencode', 'full_living_sq_diff|cafe_count_5000_price_2500', 'full_living_sq_diff|kitch_sq_ratio', 'full_living_sq_diff|full_sq_per_room', 'full_living_sq_diff|cafe_count_2000', 'full_living_sq_diff|cafe_count_5000_price_high', 'full_living_sq_diff|kitch_sq', 'full_living_sq_diff|cafe_count_3000_price_1000', 'full_living_sq_diff|life_sq_per_room', 'full_living_sq_diff|sport_count_3000', 'full_living_sq_diff|cafe_count_3000', 'full_living_sq_diff|trc_count_3000', 'full_living_sq_diff|cafe_count_3000_price_1500', 'full_living_sq_diff|cafe_count_2000_price_2500', 'full_living_sq_diff|cafe_count_5000_price_1000', 'full_living_sq_diff|cafe_count_2000_price_1500', 'full_living_sq_diff|timestamp', 'full_living_sq_diff|year', 'full_living_sq_diff|cafe_count_3000_price_2500', 'full_living_sq_diff|nuclear_reactor_km', 'full_living_sq_diff|cafe_count_5000', 'full_living_sq_diff|market_shop_km', 'full_living_sq_diff|life_sq_ratio', 'full_living_sq_diff|ttk_km', 'full_living_sq_diff|cafe_count_5000_price_1500', 'full_living_sq_diff|big_church_km', 'full_living_sq_diff|office_sqm_5000', 'full_living_sq_diff|swim_pool_km', 'full_living_sq_diff|cafe_count_1500_price_2500', 'full_living_sq_diff|sadovoe_km', 'full_living_sq_diff|build_year', 'full_living_sq_diff|floor_ratio', 'full_living_sq_diff|max_floor', 'full_living_sq_diff|cafe_sum_5000_min_price_avg', 'full_living_sq_diff|sport_count_5000', 'full_living_sq_diff|metro_min_avto', 'full_living_sq_diff|floor', 'full_living_sq_diff|prom_part_5000', 'full_living_sq_diff|material', 'full_living_sq_diff|cafe_count_1500', 'full_living_sq_diff|office_count_3000', 'full_living_sq_diff|metro_km_walk', 'full_living_sq_diff|ice_rink_km', 'full_living_sq_diff|kremlin_km', 'full_living_sq_diff|prom_part_1500', 'full_living_sq_diff|prom_part_3000', 'sub_area_Tencode|cafe_count_5000_price_2500', 'sub_area_Tencode|kitch_sq_ratio', 'sub_area_Tencode|full_sq_per_room', 'sub_area_Tencode|cafe_count_2000', 'sub_area_Tencode|cafe_count_5000_price_high', 'sub_area_Tencode|kitch_sq', 'sub_area_Tencode|cafe_count_3000_price_1000', 'sub_area_Tencode|life_sq_per_room', 'sub_area_Tencode|sport_count_3000', 'sub_area_Tencode|cafe_count_3000', 'sub_area_Tencode|trc_count_3000', 'sub_area_Tencode|cafe_count_3000_price_1500', 'sub_area_Tencode|cafe_count_2000_price_2500', 'sub_area_Tencode|cafe_count_5000_price_1000', 'sub_area_Tencode|cafe_count_2000_price_1500', 'sub_area_Tencode|timestamp', 'sub_area_Tencode|year', 'sub_area_Tencode|cafe_count_3000_price_2500', 'sub_area_Tencode|nuclear_reactor_km', 'sub_area_Tencode|cafe_count_5000', 'sub_area_Tencode|market_shop_km', 'sub_area_Tencode|life_sq_ratio', 'sub_area_Tencode|ttk_km', 'sub_area_Tencode|cafe_count_5000_price_1500', 'sub_area_Tencode|big_church_km', 'sub_area_Tencode|office_sqm_5000', 'sub_area_Tencode|swim_pool_km', 'sub_area_Tencode|cafe_count_1500_price_2500', 'sub_area_Tencode|sadovoe_km', 'sub_area_Tencode|build_year', 'sub_area_Tencode|floor_ratio', 'sub_area_Tencode|max_floor', 'sub_area_Tencode|cafe_sum_5000_min_price_avg', 'sub_area_Tencode|sport_count_5000', 'sub_area_Tencode|metro_min_avto', 'sub_area_Tencode|floor', 'sub_area_Tencode|prom_part_5000', 'sub_area_Tencode|material', 'sub_area_Tencode|cafe_count_1500', 'sub_area_Tencode|office_count_3000', 'sub_area_Tencode|metro_km_walk', 'sub_area_Tencode|ice_rink_km', 'sub_area_Tencode|kremlin_km', 'sub_area_Tencode|prom_part_1500', 'sub_area_Tencode|prom_part_3000', 'cafe_count_5000_price_2500|kitch_sq_ratio', 'cafe_count_5000_price_2500|full_sq_per_room', 'cafe_count_5000_price_2500|cafe_count_2000', 'cafe_count_5000_price_2500|cafe_count_5000_price_high', 'cafe_count_5000_price_2500|kitch_sq', 'cafe_count_5000_price_2500|cafe_count_3000_price_1000', 'cafe_count_5000_price_2500|life_sq_per_room', 'cafe_count_5000_price_2500|sport_count_3000', 'cafe_count_5000_price_2500|cafe_count_3000', 'cafe_count_5000_price_2500|trc_count_3000', 'cafe_count_5000_price_2500|cafe_count_3000_price_1500', 'cafe_count_5000_price_2500|cafe_count_2000_price_2500', 'cafe_count_5000_price_2500|cafe_count_5000_price_1000', 'cafe_count_5000_price_2500|cafe_count_2000_price_1500', 'cafe_count_5000_price_2500|timestamp', 'cafe_count_5000_price_2500|year', 'cafe_count_5000_price_2500|cafe_count_3000_price_2500', 'cafe_count_5000_price_2500|nuclear_reactor_km', 'cafe_count_5000_price_2500|cafe_count_5000', 'cafe_count_5000_price_2500|market_shop_km', 'cafe_count_5000_price_2500|life_sq_ratio', 'cafe_count_5000_price_2500|ttk_km', 'cafe_count_5000_price_2500|cafe_count_5000_price_1500', 'cafe_count_5000_price_2500|big_church_km', 'cafe_count_5000_price_2500|office_sqm_5000', 'cafe_count_5000_price_2500|swim_pool_km', 'cafe_count_5000_price_2500|cafe_count_1500_price_2500', 'cafe_count_5000_price_2500|sadovoe_km', 'cafe_count_5000_price_2500|build_year', 'cafe_count_5000_price_2500|floor_ratio', 'cafe_count_5000_price_2500|max_floor', 'cafe_count_5000_price_2500|cafe_sum_5000_min_price_avg', 'cafe_count_5000_price_2500|sport_count_5000', 'cafe_count_5000_price_2500|metro_min_avto', 'cafe_count_5000_price_2500|floor', 'cafe_count_5000_price_2500|prom_part_5000', 'cafe_count_5000_price_2500|material', 'cafe_count_5000_price_2500|cafe_count_1500', 'cafe_count_5000_price_2500|office_count_3000', 'cafe_count_5000_price_2500|metro_km_walk', 'cafe_count_5000_price_2500|ice_rink_km', 'cafe_count_5000_price_2500|kremlin_km', 'cafe_count_5000_price_2500|prom_part_1500', 'cafe_count_5000_price_2500|prom_part_3000', 'kitch_sq_ratio|full_sq_per_room', 'kitch_sq_ratio|cafe_count_2000', 'kitch_sq_ratio|cafe_count_5000_price_high', 'kitch_sq_ratio|kitch_sq', 'kitch_sq_ratio|cafe_count_3000_price_1000', 'kitch_sq_ratio|life_sq_per_room', 'kitch_sq_ratio|sport_count_3000', 'kitch_sq_ratio|cafe_count_3000', 'kitch_sq_ratio|trc_count_3000', 'kitch_sq_ratio|cafe_count_3000_price_1500', 'kitch_sq_ratio|cafe_count_2000_price_2500', 'kitch_sq_ratio|cafe_count_5000_price_1000', 'kitch_sq_ratio|cafe_count_2000_price_1500', 'kitch_sq_ratio|timestamp', 'kitch_sq_ratio|year', 'kitch_sq_ratio|cafe_count_3000_price_2500', 'kitch_sq_ratio|nuclear_reactor_km', 'kitch_sq_ratio|cafe_count_5000', 'kitch_sq_ratio|market_shop_km', 'kitch_sq_ratio|life_sq_ratio', 'kitch_sq_ratio|ttk_km', 'kitch_sq_ratio|cafe_count_5000_price_1500', 'kitch_sq_ratio|big_church_km', 'kitch_sq_ratio|office_sqm_5000', 'kitch_sq_ratio|swim_pool_km', 'kitch_sq_ratio|cafe_count_1500_price_2500', 'kitch_sq_ratio|sadovoe_km', 'kitch_sq_ratio|build_year', 'kitch_sq_ratio|floor_ratio', 'kitch_sq_ratio|max_floor', 'kitch_sq_ratio|cafe_sum_5000_min_price_avg', 'kitch_sq_ratio|sport_count_5000', 'kitch_sq_ratio|metro_min_avto', 'kitch_sq_ratio|floor', 'kitch_sq_ratio|prom_part_5000', 'kitch_sq_ratio|material', 'kitch_sq_ratio|cafe_count_1500', 'kitch_sq_ratio|office_count_3000', 'kitch_sq_ratio|metro_km_walk', 'kitch_sq_ratio|ice_rink_km', 'kitch_sq_ratio|kremlin_km', 'kitch_sq_ratio|prom_part_1500', 'kitch_sq_ratio|prom_part_3000', 'full_sq_per_room|cafe_count_2000', 'full_sq_per_room|cafe_count_5000_price_high', 'full_sq_per_room|kitch_sq', 'full_sq_per_room|cafe_count_3000_price_1000', 'full_sq_per_room|life_sq_per_room', 'full_sq_per_room|sport_count_3000', 'full_sq_per_room|cafe_count_3000', 'full_sq_per_room|trc_count_3000', 'full_sq_per_room|cafe_count_3000_price_1500', 'full_sq_per_room|cafe_count_2000_price_2500', 'full_sq_per_room|cafe_count_5000_price_1000', 'full_sq_per_room|cafe_count_2000_price_1500', 'full_sq_per_room|timestamp', 'full_sq_per_room|year', 'full_sq_per_room|cafe_count_3000_price_2500', 'full_sq_per_room|nuclear_reactor_km', 'full_sq_per_room|cafe_count_5000', 'full_sq_per_room|market_shop_km', 'full_sq_per_room|life_sq_ratio', 'full_sq_per_room|ttk_km', 'full_sq_per_room|cafe_count_5000_price_1500', 'full_sq_per_room|big_church_km', 'full_sq_per_room|office_sqm_5000', 'full_sq_per_room|swim_pool_km', 'full_sq_per_room|cafe_count_1500_price_2500', 'full_sq_per_room|sadovoe_km', 'full_sq_per_room|build_year', 'full_sq_per_room|floor_ratio', 'full_sq_per_room|max_floor', 'full_sq_per_room|cafe_sum_5000_min_price_avg', 'full_sq_per_room|sport_count_5000', 'full_sq_per_room|metro_min_avto', 'full_sq_per_room|floor', 'full_sq_per_room|prom_part_5000', 'full_sq_per_room|material', 'full_sq_per_room|cafe_count_1500', 'full_sq_per_room|office_count_3000', 'full_sq_per_room|metro_km_walk', 'full_sq_per_room|ice_rink_km', 'full_sq_per_room|kremlin_km', 'full_sq_per_room|prom_part_1500', 'full_sq_per_room|prom_part_3000', 'cafe_count_2000|cafe_count_5000_price_high', 'cafe_count_2000|kitch_sq', 'cafe_count_2000|cafe_count_3000_price_1000', 'cafe_count_2000|life_sq_per_room', 'cafe_count_2000|sport_count_3000', 'cafe_count_2000|cafe_count_3000', 'cafe_count_2000|trc_count_3000', 'cafe_count_2000|cafe_count_3000_price_1500', 'cafe_count_2000|cafe_count_2000_price_2500', 'cafe_count_2000|cafe_count_5000_price_1000', 'cafe_count_2000|cafe_count_2000_price_1500', 'cafe_count_2000|timestamp', 'cafe_count_2000|year', 'cafe_count_2000|cafe_count_3000_price_2500', 'cafe_count_2000|nuclear_reactor_km', 'cafe_count_2000|cafe_count_5000', 'cafe_count_2000|market_shop_km', 'cafe_count_2000|life_sq_ratio', 'cafe_count_2000|ttk_km', 'cafe_count_2000|cafe_count_5000_price_1500', 'cafe_count_2000|big_church_km', 'cafe_count_2000|office_sqm_5000', 'cafe_count_2000|swim_pool_km', 'cafe_count_2000|cafe_count_1500_price_2500', 'cafe_count_2000|sadovoe_km', 'cafe_count_2000|build_year', 'cafe_count_2000|floor_ratio', 'cafe_count_2000|max_floor', 'cafe_count_2000|cafe_sum_5000_min_price_avg', 'cafe_count_2000|sport_count_5000', 'cafe_count_2000|metro_min_avto', 'cafe_count_2000|floor', 'cafe_count_2000|prom_part_5000', 'cafe_count_2000|material', 'cafe_count_2000|cafe_count_1500', 'cafe_count_2000|office_count_3000', 'cafe_count_2000|metro_km_walk', 'cafe_count_2000|ice_rink_km', 'cafe_count_2000|kremlin_km', 'cafe_count_2000|prom_part_1500', 'cafe_count_2000|prom_part_3000', 'cafe_count_5000_price_high|kitch_sq', 'cafe_count_5000_price_high|cafe_count_3000_price_1000', 'cafe_count_5000_price_high|life_sq_per_room', 'cafe_count_5000_price_high|sport_count_3000', 'cafe_count_5000_price_high|cafe_count_3000', 'cafe_count_5000_price_high|trc_count_3000', 'cafe_count_5000_price_high|cafe_count_3000_price_1500', 'cafe_count_5000_price_high|cafe_count_2000_price_2500', 'cafe_count_5000_price_high|cafe_count_5000_price_1000', 'cafe_count_5000_price_high|cafe_count_2000_price_1500', 'cafe_count_5000_price_high|timestamp', 'cafe_count_5000_price_high|year', 'cafe_count_5000_price_high|cafe_count_3000_price_2500', 'cafe_count_5000_price_high|nuclear_reactor_km', 'cafe_count_5000_price_high|cafe_count_5000', 'cafe_count_5000_price_high|market_shop_km', 'cafe_count_5000_price_high|life_sq_ratio', 'cafe_count_5000_price_high|ttk_km', 'cafe_count_5000_price_high|cafe_count_5000_price_1500', 'cafe_count_5000_price_high|big_church_km', 'cafe_count_5000_price_high|office_sqm_5000', 'cafe_count_5000_price_high|swim_pool_km', 'cafe_count_5000_price_high|cafe_count_1500_price_2500', 'cafe_count_5000_price_high|sadovoe_km', 'cafe_count_5000_price_high|build_year', 'cafe_count_5000_price_high|floor_ratio', 'cafe_count_5000_price_high|max_floor', 'cafe_count_5000_price_high|cafe_sum_5000_min_price_avg', 'cafe_count_5000_price_high|sport_count_5000', 'cafe_count_5000_price_high|metro_min_avto', 'cafe_count_5000_price_high|floor', 'cafe_count_5000_price_high|prom_part_5000', 'cafe_count_5000_price_high|material', 'cafe_count_5000_price_high|cafe_count_1500', 'cafe_count_5000_price_high|office_count_3000', 'cafe_count_5000_price_high|metro_km_walk', 'cafe_count_5000_price_high|ice_rink_km', 'cafe_count_5000_price_high|kremlin_km', 'cafe_count_5000_price_high|prom_part_1500', 'cafe_count_5000_price_high|prom_part_3000', 'kitch_sq|cafe_count_3000_price_1000', 'kitch_sq|life_sq_per_room', 'kitch_sq|sport_count_3000', 'kitch_sq|cafe_count_3000', 'kitch_sq|trc_count_3000', 'kitch_sq|cafe_count_3000_price_1500', 'kitch_sq|cafe_count_2000_price_2500', 'kitch_sq|cafe_count_5000_price_1000', 'kitch_sq|cafe_count_2000_price_1500', 'kitch_sq|timestamp', 'kitch_sq|year', 'kitch_sq|cafe_count_3000_price_2500', 'kitch_sq|nuclear_reactor_km', 'kitch_sq|cafe_count_5000', 'kitch_sq|market_shop_km', 'kitch_sq|life_sq_ratio', 'kitch_sq|ttk_km', 'kitch_sq|cafe_count_5000_price_1500', 'kitch_sq|big_church_km', 'kitch_sq|office_sqm_5000', 'kitch_sq|swim_pool_km', 'kitch_sq|cafe_count_1500_price_2500', 'kitch_sq|sadovoe_km', 'kitch_sq|build_year', 'kitch_sq|floor_ratio', 'kitch_sq|max_floor', 'kitch_sq|cafe_sum_5000_min_price_avg', 'kitch_sq|sport_count_5000', 'kitch_sq|metro_min_avto', 'kitch_sq|floor', 'kitch_sq|prom_part_5000', 'kitch_sq|material', 'kitch_sq|cafe_count_1500', 'kitch_sq|office_count_3000', 'kitch_sq|metro_km_walk', 'kitch_sq|ice_rink_km', 'kitch_sq|kremlin_km', 'kitch_sq|prom_part_1500', 'kitch_sq|prom_part_3000', 'cafe_count_3000_price_1000|life_sq_per_room', 'cafe_count_3000_price_1000|sport_count_3000', 'cafe_count_3000_price_1000|cafe_count_3000', 'cafe_count_3000_price_1000|trc_count_3000', 'cafe_count_3000_price_1000|cafe_count_3000_price_1500', 'cafe_count_3000_price_1000|cafe_count_2000_price_2500', 'cafe_count_3000_price_1000|cafe_count_5000_price_1000', 'cafe_count_3000_price_1000|cafe_count_2000_price_1500', 'cafe_count_3000_price_1000|timestamp', 'cafe_count_3000_price_1000|year', 'cafe_count_3000_price_1000|cafe_count_3000_price_2500', 'cafe_count_3000_price_1000|nuclear_reactor_km', 'cafe_count_3000_price_1000|cafe_count_5000', 'cafe_count_3000_price_1000|market_shop_km', 'cafe_count_3000_price_1000|life_sq_ratio', 'cafe_count_3000_price_1000|ttk_km', 'cafe_count_3000_price_1000|cafe_count_5000_price_1500', 'cafe_count_3000_price_1000|big_church_km', 'cafe_count_3000_price_1000|office_sqm_5000', 'cafe_count_3000_price_1000|swim_pool_km', 'cafe_count_3000_price_1000|cafe_count_1500_price_2500', 'cafe_count_3000_price_1000|sadovoe_km', 'cafe_count_3000_price_1000|build_year', 'cafe_count_3000_price_1000|floor_ratio', 'cafe_count_3000_price_1000|max_floor', 'cafe_count_3000_price_1000|cafe_sum_5000_min_price_avg', 'cafe_count_3000_price_1000|sport_count_5000', 'cafe_count_3000_price_1000|metro_min_avto', 'cafe_count_3000_price_1000|floor', 'cafe_count_3000_price_1000|prom_part_5000', 'cafe_count_3000_price_1000|material', 'cafe_count_3000_price_1000|cafe_count_1500', 'cafe_count_3000_price_1000|office_count_3000', 'cafe_count_3000_price_1000|metro_km_walk', 'cafe_count_3000_price_1000|ice_rink_km', 'cafe_count_3000_price_1000|kremlin_km', 'cafe_count_3000_price_1000|prom_part_1500', 'cafe_count_3000_price_1000|prom_part_3000', 'life_sq_per_room|sport_count_3000', 'life_sq_per_room|cafe_count_3000', 'life_sq_per_room|trc_count_3000', 'life_sq_per_room|cafe_count_3000_price_1500', 'life_sq_per_room|cafe_count_2000_price_2500', 'life_sq_per_room|cafe_count_5000_price_1000', 'life_sq_per_room|cafe_count_2000_price_1500', 'life_sq_per_room|timestamp', 'life_sq_per_room|year', 'life_sq_per_room|cafe_count_3000_price_2500', 'life_sq_per_room|nuclear_reactor_km', 'life_sq_per_room|cafe_count_5000', 'life_sq_per_room|market_shop_km', 'life_sq_per_room|life_sq_ratio', 'life_sq_per_room|ttk_km', 'life_sq_per_room|cafe_count_5000_price_1500', 'life_sq_per_room|big_church_km', 'life_sq_per_room|office_sqm_5000', 'life_sq_per_room|swim_pool_km', 'life_sq_per_room|cafe_count_1500_price_2500', 'life_sq_per_room|sadovoe_km', 'life_sq_per_room|build_year', 'life_sq_per_room|floor_ratio', 'life_sq_per_room|max_floor', 'life_sq_per_room|cafe_sum_5000_min_price_avg', 'life_sq_per_room|sport_count_5000', 'life_sq_per_room|metro_min_avto', 'life_sq_per_room|floor', 'life_sq_per_room|prom_part_5000', 'life_sq_per_room|material', 'life_sq_per_room|cafe_count_1500', 'life_sq_per_room|office_count_3000', 'life_sq_per_room|metro_km_walk', 'life_sq_per_room|ice_rink_km', 'life_sq_per_room|kremlin_km', 'life_sq_per_room|prom_part_1500', 'life_sq_per_room|prom_part_3000', 'sport_count_3000|cafe_count_3000', 'sport_count_3000|trc_count_3000', 'sport_count_3000|cafe_count_3000_price_1500', 'sport_count_3000|cafe_count_2000_price_2500', 'sport_count_3000|cafe_count_5000_price_1000', 'sport_count_3000|cafe_count_2000_price_1500', 'sport_count_3000|timestamp', 'sport_count_3000|year', 'sport_count_3000|cafe_count_3000_price_2500', 'sport_count_3000|nuclear_reactor_km', 'sport_count_3000|cafe_count_5000', 'sport_count_3000|market_shop_km', 'sport_count_3000|life_sq_ratio', 'sport_count_3000|ttk_km', 'sport_count_3000|cafe_count_5000_price_1500', 'sport_count_3000|big_church_km', 'sport_count_3000|office_sqm_5000', 'sport_count_3000|swim_pool_km', 'sport_count_3000|cafe_count_1500_price_2500', 'sport_count_3000|sadovoe_km', 'sport_count_3000|build_year', 'sport_count_3000|floor_ratio', 'sport_count_3000|max_floor', 'sport_count_3000|cafe_sum_5000_min_price_avg', 'sport_count_3000|sport_count_5000', 'sport_count_3000|metro_min_avto', 'sport_count_3000|floor', 'sport_count_3000|prom_part_5000', 'sport_count_3000|material', 'sport_count_3000|cafe_count_1500', 'sport_count_3000|office_count_3000', 'sport_count_3000|metro_km_walk', 'sport_count_3000|ice_rink_km', 'sport_count_3000|kremlin_km', 'sport_count_3000|prom_part_1500', 'sport_count_3000|prom_part_3000', 'cafe_count_3000|trc_count_3000', 'cafe_count_3000|cafe_count_3000_price_1500', 'cafe_count_3000|cafe_count_2000_price_2500', 'cafe_count_3000|cafe_count_5000_price_1000', 'cafe_count_3000|cafe_count_2000_price_1500', 'cafe_count_3000|timestamp', 'cafe_count_3000|year', 'cafe_count_3000|cafe_count_3000_price_2500', 'cafe_count_3000|nuclear_reactor_km', 'cafe_count_3000|cafe_count_5000', 'cafe_count_3000|market_shop_km', 'cafe_count_3000|life_sq_ratio', 'cafe_count_3000|ttk_km', 'cafe_count_3000|cafe_count_5000_price_1500', 'cafe_count_3000|big_church_km', 'cafe_count_3000|office_sqm_5000', 'cafe_count_3000|swim_pool_km', 'cafe_count_3000|cafe_count_1500_price_2500', 'cafe_count_3000|sadovoe_km', 'cafe_count_3000|build_year', 'cafe_count_3000|floor_ratio', 'cafe_count_3000|max_floor', 'cafe_count_3000|cafe_sum_5000_min_price_avg', 'cafe_count_3000|sport_count_5000', 'cafe_count_3000|metro_min_avto', 'cafe_count_3000|floor', 'cafe_count_3000|prom_part_5000', 'cafe_count_3000|material', 'cafe_count_3000|cafe_count_1500', 'cafe_count_3000|office_count_3000', 'cafe_count_3000|metro_km_walk', 'cafe_count_3000|ice_rink_km', 'cafe_count_3000|kremlin_km', 'cafe_count_3000|prom_part_1500', 'cafe_count_3000|prom_part_3000', 'trc_count_3000|cafe_count_3000_price_1500', 'trc_count_3000|cafe_count_2000_price_2500', 'trc_count_3000|cafe_count_5000_price_1000', 'trc_count_3000|cafe_count_2000_price_1500', 'trc_count_3000|timestamp', 'trc_count_3000|year', 'trc_count_3000|cafe_count_3000_price_2500', 'trc_count_3000|nuclear_reactor_km', 'trc_count_3000|cafe_count_5000', 'trc_count_3000|market_shop_km', 'trc_count_3000|life_sq_ratio', 'trc_count_3000|ttk_km', 'trc_count_3000|cafe_count_5000_price_1500', 'trc_count_3000|big_church_km', 'trc_count_3000|office_sqm_5000', 'trc_count_3000|swim_pool_km', 'trc_count_3000|cafe_count_1500_price_2500', 'trc_count_3000|sadovoe_km', 'trc_count_3000|build_year', 'trc_count_3000|floor_ratio', 'trc_count_3000|max_floor', 'trc_count_3000|cafe_sum_5000_min_price_avg', 'trc_count_3000|sport_count_5000', 'trc_count_3000|metro_min_avto', 'trc_count_3000|floor', 'trc_count_3000|prom_part_5000', 'trc_count_3000|material', 'trc_count_3000|cafe_count_1500', 'trc_count_3000|office_count_3000', 'trc_count_3000|metro_km_walk', 'trc_count_3000|ice_rink_km', 'trc_count_3000|kremlin_km', 'trc_count_3000|prom_part_1500', 'trc_count_3000|prom_part_3000', 'cafe_count_3000_price_1500|cafe_count_2000_price_2500', 'cafe_count_3000_price_1500|cafe_count_5000_price_1000', 'cafe_count_3000_price_1500|cafe_count_2000_price_1500', 'cafe_count_3000_price_1500|timestamp', 'cafe_count_3000_price_1500|year', 'cafe_count_3000_price_1500|cafe_count_3000_price_2500', 'cafe_count_3000_price_1500|nuclear_reactor_km', 'cafe_count_3000_price_1500|cafe_count_5000', 'cafe_count_3000_price_1500|market_shop_km', 'cafe_count_3000_price_1500|life_sq_ratio', 'cafe_count_3000_price_1500|ttk_km', 'cafe_count_3000_price_1500|cafe_count_5000_price_1500', 'cafe_count_3000_price_1500|big_church_km', 'cafe_count_3000_price_1500|office_sqm_5000', 'cafe_count_3000_price_1500|swim_pool_km', 'cafe_count_3000_price_1500|cafe_count_1500_price_2500', 'cafe_count_3000_price_1500|sadovoe_km', 'cafe_count_3000_price_1500|build_year', 'cafe_count_3000_price_1500|floor_ratio', 'cafe_count_3000_price_1500|max_floor', 'cafe_count_3000_price_1500|cafe_sum_5000_min_price_avg', 'cafe_count_3000_price_1500|sport_count_5000', 'cafe_count_3000_price_1500|metro_min_avto', 'cafe_count_3000_price_1500|floor', 'cafe_count_3000_price_1500|prom_part_5000', 'cafe_count_3000_price_1500|material', 'cafe_count_3000_price_1500|cafe_count_1500', 'cafe_count_3000_price_1500|office_count_3000', 'cafe_count_3000_price_1500|metro_km_walk', 'cafe_count_3000_price_1500|ice_rink_km', 'cafe_count_3000_price_1500|kremlin_km', 'cafe_count_3000_price_1500|prom_part_1500', 'cafe_count_3000_price_1500|prom_part_3000', 'cafe_count_2000_price_2500|cafe_count_5000_price_1000', 'cafe_count_2000_price_2500|cafe_count_2000_price_1500', 'cafe_count_2000_price_2500|timestamp', 'cafe_count_2000_price_2500|year', 'cafe_count_2000_price_2500|cafe_count_3000_price_2500', 'cafe_count_2000_price_2500|nuclear_reactor_km', 'cafe_count_2000_price_2500|cafe_count_5000', 'cafe_count_2000_price_2500|market_shop_km', 'cafe_count_2000_price_2500|life_sq_ratio', 'cafe_count_2000_price_2500|ttk_km', 'cafe_count_2000_price_2500|cafe_count_5000_price_1500', 'cafe_count_2000_price_2500|big_church_km', 'cafe_count_2000_price_2500|office_sqm_5000', 'cafe_count_2000_price_2500|swim_pool_km', 'cafe_count_2000_price_2500|cafe_count_1500_price_2500', 'cafe_count_2000_price_2500|sadovoe_km', 'cafe_count_2000_price_2500|build_year', 'cafe_count_2000_price_2500|floor_ratio', 'cafe_count_2000_price_2500|max_floor', 'cafe_count_2000_price_2500|cafe_sum_5000_min_price_avg', 'cafe_count_2000_price_2500|sport_count_5000', 'cafe_count_2000_price_2500|metro_min_avto', 'cafe_count_2000_price_2500|floor', 'cafe_count_2000_price_2500|prom_part_5000', 'cafe_count_2000_price_2500|material', 'cafe_count_2000_price_2500|cafe_count_1500', 'cafe_count_2000_price_2500|office_count_3000', 'cafe_count_2000_price_2500|metro_km_walk', 'cafe_count_2000_price_2500|ice_rink_km', 'cafe_count_2000_price_2500|kremlin_km', 'cafe_count_2000_price_2500|prom_part_1500', 'cafe_count_2000_price_2500|prom_part_3000', 'cafe_count_5000_price_1000|cafe_count_2000_price_1500', 'cafe_count_5000_price_1000|timestamp', 'cafe_count_5000_price_1000|year', 'cafe_count_5000_price_1000|cafe_count_3000_price_2500', 'cafe_count_5000_price_1000|nuclear_reactor_km', 'cafe_count_5000_price_1000|cafe_count_5000', 'cafe_count_5000_price_1000|market_shop_km', 'cafe_count_5000_price_1000|life_sq_ratio', 'cafe_count_5000_price_1000|ttk_km', 'cafe_count_5000_price_1000|cafe_count_5000_price_1500', 'cafe_count_5000_price_1000|big_church_km', 'cafe_count_5000_price_1000|office_sqm_5000', 'cafe_count_5000_price_1000|swim_pool_km', 'cafe_count_5000_price_1000|cafe_count_1500_price_2500', 'cafe_count_5000_price_1000|sadovoe_km', 'cafe_count_5000_price_1000|build_year', 'cafe_count_5000_price_1000|floor_ratio', 'cafe_count_5000_price_1000|max_floor', 'cafe_count_5000_price_1000|cafe_sum_5000_min_price_avg', 'cafe_count_5000_price_1000|sport_count_5000', 'cafe_count_5000_price_1000|metro_min_avto', 'cafe_count_5000_price_1000|floor', 'cafe_count_5000_price_1000|prom_part_5000', 'cafe_count_5000_price_1000|material', 'cafe_count_5000_price_1000|cafe_count_1500', 'cafe_count_5000_price_1000|office_count_3000', 'cafe_count_5000_price_1000|metro_km_walk', 'cafe_count_5000_price_1000|ice_rink_km', 'cafe_count_5000_price_1000|kremlin_km', 'cafe_count_5000_price_1000|prom_part_1500', 'cafe_count_5000_price_1000|prom_part_3000', 'cafe_count_2000_price_1500|timestamp', 'cafe_count_2000_price_1500|year', 'cafe_count_2000_price_1500|cafe_count_3000_price_2500', 'cafe_count_2000_price_1500|nuclear_reactor_km', 'cafe_count_2000_price_1500|cafe_count_5000', 'cafe_count_2000_price_1500|market_shop_km', 'cafe_count_2000_price_1500|life_sq_ratio', 'cafe_count_2000_price_1500|ttk_km', 'cafe_count_2000_price_1500|cafe_count_5000_price_1500', 'cafe_count_2000_price_1500|big_church_km', 'cafe_count_2000_price_1500|office_sqm_5000', 'cafe_count_2000_price_1500|swim_pool_km', 'cafe_count_2000_price_1500|cafe_count_1500_price_2500', 'cafe_count_2000_price_1500|sadovoe_km', 'cafe_count_2000_price_1500|build_year', 'cafe_count_2000_price_1500|floor_ratio', 'cafe_count_2000_price_1500|max_floor', 'cafe_count_2000_price_1500|cafe_sum_5000_min_price_avg', 'cafe_count_2000_price_1500|sport_count_5000', 'cafe_count_2000_price_1500|metro_min_avto', 'cafe_count_2000_price_1500|floor', 'cafe_count_2000_price_1500|prom_part_5000', 'cafe_count_2000_price_1500|material', 'cafe_count_2000_price_1500|cafe_count_1500', 'cafe_count_2000_price_1500|office_count_3000', 'cafe_count_2000_price_1500|metro_km_walk', 'cafe_count_2000_price_1500|ice_rink_km', 'cafe_count_2000_price_1500|kremlin_km', 'cafe_count_2000_price_1500|prom_part_1500', 'cafe_count_2000_price_1500|prom_part_3000', 'timestamp|year', 'timestamp|cafe_count_3000_price_2500', 'timestamp|nuclear_reactor_km', 'timestamp|cafe_count_5000', 'timestamp|market_shop_km', 'timestamp|life_sq_ratio', 'timestamp|ttk_km', 'timestamp|cafe_count_5000_price_1500', 'timestamp|big_church_km', 'timestamp|office_sqm_5000', 'timestamp|swim_pool_km', 'timestamp|cafe_count_1500_price_2500', 'timestamp|sadovoe_km', 'timestamp|build_year', 'timestamp|floor_ratio', 'timestamp|max_floor', 'timestamp|cafe_sum_5000_min_price_avg', 'timestamp|sport_count_5000', 'timestamp|metro_min_avto', 'timestamp|floor', 'timestamp|prom_part_5000', 'timestamp|material', 'timestamp|cafe_count_1500', 'timestamp|office_count_3000', 'timestamp|metro_km_walk', 'timestamp|ice_rink_km', 'timestamp|kremlin_km', 'timestamp|prom_part_1500', 'timestamp|prom_part_3000', 'year|cafe_count_3000_price_2500', 'year|nuclear_reactor_km', 'year|cafe_count_5000', 'year|market_shop_km', 'year|life_sq_ratio', 'year|ttk_km', 'year|cafe_count_5000_price_1500', 'year|big_church_km', 'year|office_sqm_5000', 'year|swim_pool_km', 'year|cafe_count_1500_price_2500', 'year|sadovoe_km', 'year|build_year', 'year|floor_ratio', 'year|max_floor', 'year|cafe_sum_5000_min_price_avg', 'year|sport_count_5000', 'year|metro_min_avto', 'year|floor', 'year|prom_part_5000', 'year|material', 'year|cafe_count_1500', 'year|office_count_3000', 'year|metro_km_walk', 'year|ice_rink_km', 'year|kremlin_km', 'year|prom_part_1500', 'year|prom_part_3000', 'cafe_count_3000_price_2500|nuclear_reactor_km', 'cafe_count_3000_price_2500|cafe_count_5000', 'cafe_count_3000_price_2500|market_shop_km', 'cafe_count_3000_price_2500|life_sq_ratio', 'cafe_count_3000_price_2500|ttk_km', 'cafe_count_3000_price_2500|cafe_count_5000_price_1500', 'cafe_count_3000_price_2500|big_church_km', 'cafe_count_3000_price_2500|office_sqm_5000', 'cafe_count_3000_price_2500|swim_pool_km', 'cafe_count_3000_price_2500|cafe_count_1500_price_2500', 'cafe_count_3000_price_2500|sadovoe_km', 'cafe_count_3000_price_2500|build_year', 'cafe_count_3000_price_2500|floor_ratio', 'cafe_count_3000_price_2500|max_floor', 'cafe_count_3000_price_2500|cafe_sum_5000_min_price_avg', 'cafe_count_3000_price_2500|sport_count_5000', 'cafe_count_3000_price_2500|metro_min_avto', 'cafe_count_3000_price_2500|floor', 'cafe_count_3000_price_2500|prom_part_5000', 'cafe_count_3000_price_2500|material', 'cafe_count_3000_price_2500|cafe_count_1500', 'cafe_count_3000_price_2500|office_count_3000', 'cafe_count_3000_price_2500|metro_km_walk', 'cafe_count_3000_price_2500|ice_rink_km', 'cafe_count_3000_price_2500|kremlin_km', 'cafe_count_3000_price_2500|prom_part_1500', 'cafe_count_3000_price_2500|prom_part_3000', 'nuclear_reactor_km|cafe_count_5000', 'nuclear_reactor_km|market_shop_km', 'nuclear_reactor_km|life_sq_ratio', 'nuclear_reactor_km|ttk_km', 'nuclear_reactor_km|cafe_count_5000_price_1500', 'nuclear_reactor_km|big_church_km', 'nuclear_reactor_km|office_sqm_5000', 'nuclear_reactor_km|swim_pool_km', 'nuclear_reactor_km|cafe_count_1500_price_2500', 'nuclear_reactor_km|sadovoe_km', 'nuclear_reactor_km|build_year', 'nuclear_reactor_km|floor_ratio', 'nuclear_reactor_km|max_floor', 'nuclear_reactor_km|cafe_sum_5000_min_price_avg', 'nuclear_reactor_km|sport_count_5000', 'nuclear_reactor_km|metro_min_avto', 'nuclear_reactor_km|floor', 'nuclear_reactor_km|prom_part_5000', 'nuclear_reactor_km|material', 'nuclear_reactor_km|cafe_count_1500', 'nuclear_reactor_km|office_count_3000', 'nuclear_reactor_km|metro_km_walk', 'nuclear_reactor_km|ice_rink_km', 'nuclear_reactor_km|kremlin_km', 'nuclear_reactor_km|prom_part_1500', 'nuclear_reactor_km|prom_part_3000', 'cafe_count_5000|market_shop_km', 'cafe_count_5000|life_sq_ratio', 'cafe_count_5000|ttk_km', 'cafe_count_5000|cafe_count_5000_price_1500', 'cafe_count_5000|big_church_km', 'cafe_count_5000|office_sqm_5000', 'cafe_count_5000|swim_pool_km', 'cafe_count_5000|cafe_count_1500_price_2500', 'cafe_count_5000|sadovoe_km', 'cafe_count_5000|build_year', 'cafe_count_5000|floor_ratio', 'cafe_count_5000|max_floor', 'cafe_count_5000|cafe_sum_5000_min_price_avg', 'cafe_count_5000|sport_count_5000', 'cafe_count_5000|metro_min_avto', 'cafe_count_5000|floor', 'cafe_count_5000|prom_part_5000', 'cafe_count_5000|material', 'cafe_count_5000|cafe_count_1500', 'cafe_count_5000|office_count_3000', 'cafe_count_5000|metro_km_walk', 'cafe_count_5000|ice_rink_km', 'cafe_count_5000|kremlin_km', 'cafe_count_5000|prom_part_1500', 'cafe_count_5000|prom_part_3000', 'market_shop_km|life_sq_ratio', 'market_shop_km|ttk_km', 'market_shop_km|cafe_count_5000_price_1500', 'market_shop_km|big_church_km', 'market_shop_km|office_sqm_5000', 'market_shop_km|swim_pool_km', 'market_shop_km|cafe_count_1500_price_2500', 'market_shop_km|sadovoe_km', 'market_shop_km|build_year', 'market_shop_km|floor_ratio', 'market_shop_km|max_floor', 'market_shop_km|cafe_sum_5000_min_price_avg', 'market_shop_km|sport_count_5000', 'market_shop_km|metro_min_avto', 'market_shop_km|floor', 'market_shop_km|prom_part_5000', 'market_shop_km|material', 'market_shop_km|cafe_count_1500', 'market_shop_km|office_count_3000', 'market_shop_km|metro_km_walk', 'market_shop_km|ice_rink_km', 'market_shop_km|kremlin_km', 'market_shop_km|prom_part_1500', 'market_shop_km|prom_part_3000', 'life_sq_ratio|ttk_km', 'life_sq_ratio|cafe_count_5000_price_1500', 'life_sq_ratio|big_church_km', 'life_sq_ratio|office_sqm_5000', 'life_sq_ratio|swim_pool_km', 'life_sq_ratio|cafe_count_1500_price_2500', 'life_sq_ratio|sadovoe_km', 'life_sq_ratio|build_year', 'life_sq_ratio|floor_ratio', 'life_sq_ratio|max_floor', 'life_sq_ratio|cafe_sum_5000_min_price_avg', 'life_sq_ratio|sport_count_5000', 'life_sq_ratio|metro_min_avto', 'life_sq_ratio|floor', 'life_sq_ratio|prom_part_5000', 'life_sq_ratio|material', 'life_sq_ratio|cafe_count_1500', 'life_sq_ratio|office_count_3000', 'life_sq_ratio|metro_km_walk', 'life_sq_ratio|ice_rink_km', 'life_sq_ratio|kremlin_km', 'life_sq_ratio|prom_part_1500', 'life_sq_ratio|prom_part_3000', 'ttk_km|cafe_count_5000_price_1500', 'ttk_km|big_church_km', 'ttk_km|office_sqm_5000', 'ttk_km|swim_pool_km', 'ttk_km|cafe_count_1500_price_2500', 'ttk_km|sadovoe_km', 'ttk_km|build_year', 'ttk_km|floor_ratio', 'ttk_km|max_floor', 'ttk_km|cafe_sum_5000_min_price_avg', 'ttk_km|sport_count_5000', 'ttk_km|metro_min_avto', 'ttk_km|floor', 'ttk_km|prom_part_5000', 'ttk_km|material', 'ttk_km|cafe_count_1500', 'ttk_km|office_count_3000', 'ttk_km|metro_km_walk', 'ttk_km|ice_rink_km', 'ttk_km|kremlin_km', 'ttk_km|prom_part_1500', 'ttk_km|prom_part_3000', 'cafe_count_5000_price_1500|big_church_km', 'cafe_count_5000_price_1500|office_sqm_5000', 'cafe_count_5000_price_1500|swim_pool_km', 'cafe_count_5000_price_1500|cafe_count_1500_price_2500', 'cafe_count_5000_price_1500|sadovoe_km', 'cafe_count_5000_price_1500|build_year', 'cafe_count_5000_price_1500|floor_ratio', 'cafe_count_5000_price_1500|max_floor', 'cafe_count_5000_price_1500|cafe_sum_5000_min_price_avg', 'cafe_count_5000_price_1500|sport_count_5000', 'cafe_count_5000_price_1500|metro_min_avto', 'cafe_count_5000_price_1500|floor', 'cafe_count_5000_price_1500|prom_part_5000', 'cafe_count_5000_price_1500|material', 'cafe_count_5000_price_1500|cafe_count_1500', 'cafe_count_5000_price_1500|office_count_3000', 'cafe_count_5000_price_1500|metro_km_walk', 'cafe_count_5000_price_1500|ice_rink_km', 'cafe_count_5000_price_1500|kremlin_km', 'cafe_count_5000_price_1500|prom_part_1500', 'cafe_count_5000_price_1500|prom_part_3000', 'big_church_km|office_sqm_5000', 'big_church_km|swim_pool_km', 'big_church_km|cafe_count_1500_price_2500', 'big_church_km|sadovoe_km', 'big_church_km|build_year', 'big_church_km|floor_ratio', 'big_church_km|max_floor', 'big_church_km|cafe_sum_5000_min_price_avg', 'big_church_km|sport_count_5000', 'big_church_km|metro_min_avto', 'big_church_km|floor', 'big_church_km|prom_part_5000', 'big_church_km|material', 'big_church_km|cafe_count_1500', 'big_church_km|office_count_3000', 'big_church_km|metro_km_walk', 'big_church_km|ice_rink_km', 'big_church_km|kremlin_km', 'big_church_km|prom_part_1500', 'big_church_km|prom_part_3000', 'office_sqm_5000|swim_pool_km', 'office_sqm_5000|cafe_count_1500_price_2500', 'office_sqm_5000|sadovoe_km', 'office_sqm_5000|build_year', 'office_sqm_5000|floor_ratio', 'office_sqm_5000|max_floor', 'office_sqm_5000|cafe_sum_5000_min_price_avg', 'office_sqm_5000|sport_count_5000', 'office_sqm_5000|metro_min_avto', 'office_sqm_5000|floor', 'office_sqm_5000|prom_part_5000', 'office_sqm_5000|material', 'office_sqm_5000|cafe_count_1500', 'office_sqm_5000|office_count_3000', 'office_sqm_5000|metro_km_walk', 'office_sqm_5000|ice_rink_km', 'office_sqm_5000|kremlin_km', 'office_sqm_5000|prom_part_1500', 'office_sqm_5000|prom_part_3000', 'swim_pool_km|cafe_count_1500_price_2500', 'swim_pool_km|sadovoe_km', 'swim_pool_km|build_year', 'swim_pool_km|floor_ratio', 'swim_pool_km|max_floor', 'swim_pool_km|cafe_sum_5000_min_price_avg', 'swim_pool_km|sport_count_5000', 'swim_pool_km|metro_min_avto', 'swim_pool_km|floor', 'swim_pool_km|prom_part_5000', 'swim_pool_km|material', 'swim_pool_km|cafe_count_1500', 'swim_pool_km|office_count_3000', 'swim_pool_km|metro_km_walk', 'swim_pool_km|ice_rink_km', 'swim_pool_km|kremlin_km', 'swim_pool_km|prom_part_1500', 'swim_pool_km|prom_part_3000', 'cafe_count_1500_price_2500|sadovoe_km', 'cafe_count_1500_price_2500|build_year', 'cafe_count_1500_price_2500|floor_ratio', 'cafe_count_1500_price_2500|max_floor', 'cafe_count_1500_price_2500|cafe_sum_5000_min_price_avg', 'cafe_count_1500_price_2500|sport_count_5000', 'cafe_count_1500_price_2500|metro_min_avto', 'cafe_count_1500_price_2500|floor', 'cafe_count_1500_price_2500|prom_part_5000', 'cafe_count_1500_price_2500|material', 'cafe_count_1500_price_2500|cafe_count_1500', 'cafe_count_1500_price_2500|office_count_3000', 'cafe_count_1500_price_2500|metro_km_walk', 'cafe_count_1500_price_2500|ice_rink_km', 'cafe_count_1500_price_2500|kremlin_km', 'cafe_count_1500_price_2500|prom_part_1500', 'cafe_count_1500_price_2500|prom_part_3000', 'sadovoe_km|build_year', 'sadovoe_km|floor_ratio', 'sadovoe_km|max_floor', 'sadovoe_km|cafe_sum_5000_min_price_avg', 'sadovoe_km|sport_count_5000', 'sadovoe_km|metro_min_avto', 'sadovoe_km|floor', 'sadovoe_km|prom_part_5000', 'sadovoe_km|material', 'sadovoe_km|cafe_count_1500', 'sadovoe_km|office_count_3000', 'sadovoe_km|metro_km_walk', 'sadovoe_km|ice_rink_km', 'sadovoe_km|kremlin_km', 'sadovoe_km|prom_part_1500', 'sadovoe_km|prom_part_3000', 'build_year|floor_ratio', 'build_year|max_floor', 'build_year|cafe_sum_5000_min_price_avg', 'build_year|sport_count_5000', 'build_year|metro_min_avto', 'build_year|floor', 'build_year|prom_part_5000', 'build_year|material', 'build_year|cafe_count_1500', 'build_year|office_count_3000', 'build_year|metro_km_walk', 'build_year|ice_rink_km', 'build_year|kremlin_km', 'build_year|prom_part_1500', 'build_year|prom_part_3000', 'floor_ratio|max_floor', 'floor_ratio|cafe_sum_5000_min_price_avg', 'floor_ratio|sport_count_5000', 'floor_ratio|metro_min_avto', 'floor_ratio|floor', 'floor_ratio|prom_part_5000', 'floor_ratio|material', 'floor_ratio|cafe_count_1500', 'floor_ratio|office_count_3000', 'floor_ratio|metro_km_walk', 'floor_ratio|ice_rink_km', 'floor_ratio|kremlin_km', 'floor_ratio|prom_part_1500', 'floor_ratio|prom_part_3000', 'max_floor|cafe_sum_5000_min_price_avg', 'max_floor|sport_count_5000', 'max_floor|metro_min_avto', 'max_floor|floor', 'max_floor|prom_part_5000', 'max_floor|material', 'max_floor|cafe_count_1500', 'max_floor|office_count_3000', 'max_floor|metro_km_walk', 'max_floor|ice_rink_km', 'max_floor|kremlin_km', 'max_floor|prom_part_1500', 'max_floor|prom_part_3000', 'cafe_sum_5000_min_price_avg|sport_count_5000', 'cafe_sum_5000_min_price_avg|metro_min_avto', 'cafe_sum_5000_min_price_avg|floor', 'cafe_sum_5000_min_price_avg|prom_part_5000', 'cafe_sum_5000_min_price_avg|material', 'cafe_sum_5000_min_price_avg|cafe_count_1500', 'cafe_sum_5000_min_price_avg|office_count_3000', 'cafe_sum_5000_min_price_avg|metro_km_walk', 'cafe_sum_5000_min_price_avg|ice_rink_km', 'cafe_sum_5000_min_price_avg|kremlin_km', 'cafe_sum_5000_min_price_avg|prom_part_1500', 'cafe_sum_5000_min_price_avg|prom_part_3000', 'sport_count_5000|metro_min_avto', 'sport_count_5000|floor', 'sport_count_5000|prom_part_5000', 'sport_count_5000|material', 'sport_count_5000|cafe_count_1500', 'sport_count_5000|office_count_3000', 'sport_count_5000|metro_km_walk', 'sport_count_5000|ice_rink_km', 'sport_count_5000|kremlin_km', 'sport_count_5000|prom_part_1500', 'sport_count_5000|prom_part_3000', 'metro_min_avto|floor', 'metro_min_avto|prom_part_5000', 'metro_min_avto|material', 'metro_min_avto|cafe_count_1500', 'metro_min_avto|office_count_3000', 'metro_min_avto|metro_km_walk', 'metro_min_avto|ice_rink_km', 'metro_min_avto|kremlin_km', 'metro_min_avto|prom_part_1500', 'metro_min_avto|prom_part_3000', 'floor|prom_part_5000', 'floor|material', 'floor|cafe_count_1500', 'floor|office_count_3000', 'floor|metro_km_walk', 'floor|ice_rink_km', 'floor|kremlin_km', 'floor|prom_part_1500', 'floor|prom_part_3000', 'prom_part_5000|material', 'prom_part_5000|cafe_count_1500', 'prom_part_5000|office_count_3000', 'prom_part_5000|metro_km_walk', 'prom_part_5000|ice_rink_km', 'prom_part_5000|kremlin_km', 'prom_part_5000|prom_part_1500', 'prom_part_5000|prom_part_3000', 'material|cafe_count_1500', 'material|office_count_3000', 'material|metro_km_walk', 'material|ice_rink_km', 'material|kremlin_km', 'material|prom_part_1500', 'material|prom_part_3000', 'cafe_count_1500|office_count_3000', 'cafe_count_1500|metro_km_walk', 'cafe_count_1500|ice_rink_km', 'cafe_count_1500|kremlin_km', 'cafe_count_1500|prom_part_1500', 'cafe_count_1500|prom_part_3000', 'office_count_3000|metro_km_walk', 'office_count_3000|ice_rink_km', 'office_count_3000|kremlin_km', 'office_count_3000|prom_part_1500', 'office_count_3000|prom_part_3000', 'metro_km_walk|ice_rink_km', 'metro_km_walk|kremlin_km', 'metro_km_walk|prom_part_1500', 'metro_km_walk|prom_part_3000', 'ice_rink_km|kremlin_km', 'ice_rink_km|prom_part_1500', 'ice_rink_km|prom_part_3000', 'kremlin_km|prom_part_1500', 'kremlin_km|prom_part_3000', 'prom_part_1500|prom_part_3000']\n",
      "\n",
      "Categorical = ['product_type', 'sub_area', 'culture_objects_top_25', 'thermal_power_plant_raion', 'incineration_raion', 'oil_chemistry_raion', 'radiation_raion', 'railroad_terminal_raion', 'big_market_raion', 'nuclear_reactor_raion', 'detention_facility_raion', 'water_1line', 'big_road1_1line', 'railroad_1line', 'ecology']\n"
     ]
    }
   ],
   "source": [
    "encoded_combined_nums, cats = get_type_lists(frame=train)"
   ]
  },
  {
   "cell_type": "code",
   "execution_count": null,
   "metadata": {
    "collapsed": false
   },
   "outputs": [],
   "source": [
    "encoded_combined_nums"
   ]
  },
  {
   "cell_type": "code",
   "execution_count": null,
   "metadata": {
    "collapsed": true
   },
   "outputs": [],
   "source": [
    "newtrain_df = train.as_data_frame()\n",
    "newvalid_df = valid.as_data_frame()\n",
    "newtest_df = test.as_data_frame()"
   ]
  },
  {
   "cell_type": "code",
   "execution_count": null,
   "metadata": {
    "collapsed": false
   },
   "outputs": [],
   "source": [
    "#newtest_df.head()"
   ]
  },
  {
   "cell_type": "code",
   "execution_count": null,
   "metadata": {
    "collapsed": true
   },
   "outputs": [],
   "source": [
    "newvalid_df.to_csv('/Users/zwang/GWU/Kaggle/Housing_Mkt/data/newvalid.csv')\n",
    "newtrain_df.to_csv('/Users/zwang/GWU/Kaggle/Housing_Mkt/data/newtrain.csv')\n",
    "newtest_df.to_csv('/Users/zwang/GWU/Kaggle/Housing_Mkt/data/newtest.csv')"
   ]
  },
  {
   "cell_type": "markdown",
   "metadata": {},
   "source": [
    "#### Function to generate submission file"
   ]
  },
  {
   "cell_type": "code",
   "execution_count": 36,
   "metadata": {
    "collapsed": true
   },
   "outputs": [],
   "source": [
    "import re\n",
    "import time\n",
    "\n",
    "def gen_submission(preds, test=test):\n",
    "    # create time stamp\n",
    "    time_stamp = re.sub('[: ]', '_', time.asctime())\n",
    "\n",
    "    # create predictions column\n",
    "    sub = test['id'].cbind(preds.exp())\n",
    "    sub.columns = ['id', 'price_doc']\n",
    "    \n",
    "    # save file for submission\n",
    "    sub_fname = wd+'/submission_' + str(time_stamp) + '.csv'\n",
    "    h2o.download_csv(sub, sub_fname)\n",
    "    return sub"
   ]
  },
  {
   "cell_type": "markdown",
   "metadata": {},
   "source": [
    "### Native XGBoost"
   ]
  },
  {
   "cell_type": "code",
   "execution_count": null,
   "metadata": {
    "collapsed": false
   },
   "outputs": [],
   "source": [
    "\n",
    "ave_y = train['price_doc'].mean()[0] ###\n",
    "\n",
    "# XGBoost uses SVMLight data structure, not Numpy arrays or Pandas data frames \n",
    "dtrain1 = xgb.DMatrix(train.as_data_frame()[encoded_combined_nums],\n",
    "                      train.as_data_frame()['price_doc'], feature_names = encoded_combined_nums) ###\n",
    "dvalid1 = xgb.DMatrix(valid.as_data_frame()[encoded_combined_nums],\n",
    "                      valid.as_data_frame()['price_doc'], feature_names = encoded_combined_nums)\n",
    "dtest = xgb.DMatrix(test.as_data_frame()[encoded_combined_nums], feature_names = encoded_combined_nums)\n",
    "\n"
   ]
  },
  {
   "cell_type": "code",
   "execution_count": null,
   "metadata": {
    "collapsed": false,
    "scrolled": true
   },
   "outputs": [],
   "source": [
    "# tuning parameters\n",
    "params1 = {\n",
    "    'objective': 'reg:linear',\n",
    "    'booster': 'gbtree', \n",
    "    'eval_metric': 'rmse',\n",
    "    'eta': 0.005,\n",
    "    'subsample': 0.1, \n",
    "    'colsample_bytree': 0.8,\n",
    "    'max_depth': 5,\n",
    "    'reg_alpha' : 0.007,\n",
    "    'reg_lambda' : 0.0,\n",
    "    'base_score': ave_y,\n",
    "    'silent': 0,\n",
    "    'seed': 12345,\n",
    "}\n",
    "\n",
    "# watchlist is used for early stopping\n",
    "watchlist = [(dtrain1, 'train'), (dvalid1, 'eval')]\n",
    "\n",
    "# train model\n",
    "xgb_model1 = xgb.train(params1, \n",
    "                       dtrain1, \n",
    "                       10000,\n",
    "                       evals=watchlist, \n",
    "                       early_stopping_rounds=50,   ###\n",
    "                       verbose_eval=True)\n",
    "\n",
    "num_boost_round = xgb_model1.best_iteration\n",
    "\n",
    "# create assessment stats and submission file\n",
    "#xgb_preds1_val = h2o.H2OFrame(xgb_model1.predict(dvalid1).tolist())\n",
    "#ranked_preds_plot('price_log', valid, xgb_preds1_val) \n",
    "#xgb_preds1_test = h2o.H2OFrame(xgb_model1.predict(dtest).tolist())\n",
    "#gen_submission(xgb_preds1_test) \n"
   ]
  },
  {
   "cell_type": "code",
   "execution_count": null,
   "metadata": {
    "collapsed": true
   },
   "outputs": [],
   "source": [
    "#[820]\ttrain-rmse:0.437213\n",
    "#0.33717 public leaderborad"
   ]
  },
  {
   "cell_type": "code",
   "execution_count": null,
   "metadata": {
    "collapsed": false
   },
   "outputs": [],
   "source": [
    "\n",
    "xgb_preds1_val = h2o.H2OFrame(xgb_model1.predict(dvalid1).tolist())\n",
    "#ranked_preds_plot('SalePrice', valid, xgb_preds1_val) \n",
    "xgb_preds1_test = h2o.H2OFrame(xgb_model1.predict(dtest).tolist())\n",
    "gen_submission(xgb_preds1_test)\n"
   ]
  },
  {
   "cell_type": "markdown",
   "metadata": {
    "collapsed": true
   },
   "source": [
    "### H2O Random forest model"
   ]
  },
  {
   "cell_type": "code",
   "execution_count": null,
   "metadata": {
    "collapsed": false
   },
   "outputs": [],
   "source": [
    "# initialize rf model\n",
    "rf_model1 = H2ORandomForestEstimator(\n",
    "    ntrees=10000,                    \n",
    "    max_depth=10, \n",
    "    col_sample_rate_per_tree=0.1,\n",
    "    sample_rate=0.8,\n",
    "    stopping_rounds=50,\n",
    "    score_each_iteration=True,\n",
    "    nfolds=3,\n",
    "    keep_cross_validation_predictions=True,\n",
    "    model_id = 'rf_model',\n",
    "    seed=12345)           \n",
    "\n",
    "# train rf model\n",
    "rf_model1.train(\n",
    "    x=encoded_combined_nums,\n",
    "    y='price_doc',\n",
    "    training_frame=train,\n",
    "    validation_frame=valid)\n",
    "\n",
    "# print model information\n",
    "print(rf_model1)\n",
    "\n",
    "#rf_preds1_val = rf_model1.predict(valid)\n",
    "#ranked_preds_plot('price_doc', valid, rf_preds1_val) # valid RMSE not so hot ...\n",
    "#rf_preds1_test = rf_model1.predict(test)\n",
    "#gen_submission(rf_preds1_test) \n",
    "\n",
    "#Training RMSE: 0.4592090940116257"
   ]
  },
  {
   "cell_type": "code",
   "execution_count": null,
   "metadata": {
    "collapsed": false
   },
   "outputs": [],
   "source": [
    "# save the model\n",
    "model_path = h2o.save_model(model=rf_model1, path=\"/Users/zwang/GWU/Kaggle/Housing_Mkt/mymodel\", force=True)"
   ]
  },
  {
   "cell_type": "code",
   "execution_count": null,
   "metadata": {
    "collapsed": false
   },
   "outputs": [],
   "source": [
    "rf_preds1_val = rf_model1.predict(valid)\n",
    "ranked_preds_plot('price_doc', valid, rf_preds1_val) # valid RMSE not so hot ...\n",
    "rf_preds1_test = rf_model1.predict(test)"
   ]
  },
  {
   "cell_type": "code",
   "execution_count": null,
   "metadata": {
    "collapsed": false
   },
   "outputs": [],
   "source": [
    "rf_preds1_val = rf_model1.predict(valid)\n",
    "ranked_preds_plot('price_doc', valid, rf_preds1_val) # valid RMSE not so hot ...\n",
    "rf_preds1_test = rf_model1.predict(test)\n",
    "gen_submission(rf_preds1_test) \n",
    "#  public leaderboard"
   ]
  },
  {
   "cell_type": "markdown",
   "metadata": {
    "collapsed": true
   },
   "source": [
    "### H2O Extremely random trees model"
   ]
  },
  {
   "cell_type": "code",
   "execution_count": null,
   "metadata": {
    "collapsed": false,
    "scrolled": true
   },
   "outputs": [],
   "source": [
    "# initialize extra trees model\n",
    "ert_model1 = H2ORandomForestEstimator(\n",
    "    ntrees=10000,                    \n",
    "    max_depth=10, \n",
    "    col_sample_rate_per_tree=0.1,\n",
    "    sample_rate=0.8,\n",
    "    stopping_rounds=50,\n",
    "    score_each_iteration=True,\n",
    "    nfolds=3,\n",
    "    keep_cross_validation_predictions=True,\n",
    "    seed=12345,\n",
    "    model_id='ert_model',\n",
    "    histogram_type='random') # <- this is what makes it ERT instead of RF\n",
    "\n",
    "# train ert model\n",
    "ert_model1.train(\n",
    "    x=encoded_combined_nums,\n",
    "    y='price_doc',\n",
    "    training_frame=train,\n",
    "    validation_frame=valid)\n",
    "\n",
    "# print model information/create submission\n",
    "print(ert_model1)\n",
    "\n",
    "#Training RMSE: 0.4595724410094952"
   ]
  },
  {
   "cell_type": "code",
   "execution_count": null,
   "metadata": {
    "collapsed": true
   },
   "outputs": [],
   "source": [
    "# save the model\n",
    "model_path = h2o.save_model(model=ert_model1, path=\"/Users/zwang/GWU/Kaggle/Housing_Mkt/mymodel\", force=True)"
   ]
  },
  {
   "cell_type": "code",
   "execution_count": null,
   "metadata": {
    "collapsed": true
   },
   "outputs": [],
   "source": []
  },
  {
   "cell_type": "code",
   "execution_count": null,
   "metadata": {
    "collapsed": false
   },
   "outputs": [],
   "source": [
    "ert_preds1_val = ert_model1.predict(valid)\n",
    "ranked_preds_plot('price_doc', valid, ert_preds1_val) # valid RMSE not so hot ...\n",
    "ert_preds1_test = ert_model1.predict(test)\n",
    "gen_submission(ert_preds1_test) \n",
    "\n",
    "#  public leaderboard"
   ]
  },
  {
   "cell_type": "markdown",
   "metadata": {},
   "source": [
    "### H2O GBM model"
   ]
  },
  {
   "cell_type": "code",
   "execution_count": null,
   "metadata": {
    "collapsed": false
   },
   "outputs": [],
   "source": [
    "# initialize H2O GBM\n",
    "h2o_gbm_model = H2OGradientBoostingEstimator(\n",
    "    ntrees = 10000,\n",
    "    learn_rate = 0.005,\n",
    "    sample_rate = 0.1, \n",
    "    col_sample_rate = 0.8,\n",
    "    max_depth = 5,\n",
    "    nfolds = 3,\n",
    "    keep_cross_validation_predictions=True,\n",
    "    stopping_rounds = 10,\n",
    "    model_id='gbm_model',\n",
    "    seed = 12345)\n",
    "\n",
    "# execute training\n",
    "h2o_gbm_model.train(x=encoded_combined_nums,\n",
    "                    y='price_doc',\n",
    "                    training_frame=train,\n",
    "                    validation_frame=valid)\n",
    "\n",
    "# print model information/create submission\n",
    "print(h2o_gbm_model)\n",
    "\n",
    "#Training RMSE: 0.4294278354558745"
   ]
  },
  {
   "cell_type": "code",
   "execution_count": null,
   "metadata": {
    "collapsed": true
   },
   "outputs": [],
   "source": [
    "# save the model\n",
    "model_path = h2o.save_model(model=h2o_gbm_model, path=\"/Users/zwang/GWU/Kaggle/Housing_Mkt/mymodel\", force=True)"
   ]
  },
  {
   "cell_type": "code",
   "execution_count": null,
   "metadata": {
    "collapsed": false,
    "scrolled": true
   },
   "outputs": [],
   "source": [
    "h2o_gbm_preds1_val = h2o_gbm_model.predict(valid)\n",
    "ranked_preds_plot('price_doc', valid, h2o_gbm_preds1_val) # better validation error\n",
    "h2o_gbm_preds1_test = h2o_gbm_model.predict(test)\n",
    "gen_submission(h2o_gbm_preds1_test) \n",
    "\n",
    "#  public leaderboard"
   ]
  },
  {
   "cell_type": "markdown",
   "metadata": {},
   "source": [
    "### H2O XGBoost"
   ]
  },
  {
   "cell_type": "code",
   "execution_count": 38,
   "metadata": {
    "collapsed": false
   },
   "outputs": [
    {
     "name": "stdout",
     "output_type": "stream",
     "text": [
      "Model Details\n",
      "=============\n",
      "H2OXGBoostEstimator :  XGBoost\n",
      "Model Key:  xgb_model\n",
      "\n",
      "\n",
      "ModelMetricsRegression: xgboost\n",
      "** Reported on train data. **\n",
      "\n",
      "MSE: 0.17082965950658358\n",
      "RMSE: 0.4133154479408961\n",
      "MAE: 0.2560182644660886\n",
      "RMSLE: 0.02581061323124867\n",
      "Mean Residual Deviance: 0.17082965950658358\n",
      "\n",
      "ModelMetricsRegression: xgboost\n",
      "** Reported on validation data. **\n",
      "\n",
      "MSE: 0.2294047270806207\n",
      "RMSE: 0.4789621353307803\n",
      "MAE: 0.2913241175442258\n",
      "RMSLE: 0.02990711007249716\n",
      "Mean Residual Deviance: 0.2294047270806207\n",
      "\n",
      "ModelMetricsRegression: xgboost\n",
      "** Reported on cross-validation data. **\n",
      "\n",
      "MSE: 0.20825891241159095\n",
      "RMSE: 0.4563539332706479\n",
      "MAE: 0.27696183671539987\n",
      "RMSLE: 0.028395965473060815\n",
      "Mean Residual Deviance: 0.20825891241159095\n",
      "Cross-Validation Metrics Summary: \n"
     ]
    },
    {
     "data": {
      "text/html": [
       "<div style=\"overflow:auto\"><table style=\"width:50%\"><tr><td><b></b></td>\n",
       "<td><b>mean</b></td>\n",
       "<td><b>sd</b></td>\n",
       "<td><b>cv_1_valid</b></td>\n",
       "<td><b>cv_2_valid</b></td>\n",
       "<td><b>cv_3_valid</b></td></tr>\n",
       "<tr><td>mae</td>\n",
       "<td>0.2769603</td>\n",
       "<td>0.0026734</td>\n",
       "<td>0.2735995</td>\n",
       "<td>0.2822422</td>\n",
       "<td>0.2750393</td></tr>\n",
       "<tr><td>mean_residual_deviance</td>\n",
       "<td>0.2082630</td>\n",
       "<td>0.0047922</td>\n",
       "<td>0.2007122</td>\n",
       "<td>0.2171505</td>\n",
       "<td>0.2069262</td></tr>\n",
       "<tr><td>mse</td>\n",
       "<td>0.2082630</td>\n",
       "<td>0.0047922</td>\n",
       "<td>0.2007122</td>\n",
       "<td>0.2171505</td>\n",
       "<td>0.2069262</td></tr>\n",
       "<tr><td>r2</td>\n",
       "<td>0.4236124</td>\n",
       "<td>0.0088802</td>\n",
       "<td>0.4413559</td>\n",
       "<td>0.4154126</td>\n",
       "<td>0.4140687</td></tr>\n",
       "<tr><td>residual_deviance</td>\n",
       "<td>0.2082630</td>\n",
       "<td>0.0047922</td>\n",
       "<td>0.2007122</td>\n",
       "<td>0.2171505</td>\n",
       "<td>0.2069262</td></tr>\n",
       "<tr><td>rmse</td>\n",
       "<td>0.4562982</td>\n",
       "<td>0.0052392</td>\n",
       "<td>0.4480091</td>\n",
       "<td>0.4659941</td>\n",
       "<td>0.4548914</td></tr>\n",
       "<tr><td>rmsle</td>\n",
       "<td>0.0283922</td>\n",
       "<td>0.0003390</td>\n",
       "<td>0.0278599</td>\n",
       "<td>0.0290221</td>\n",
       "<td>0.0282945</td></tr></table></div>"
      ],
      "text/plain": [
       "                        mean       sd           cv_1_valid    cv_2_valid    cv_3_valid\n",
       "----------------------  ---------  -----------  ------------  ------------  ------------\n",
       "mae                     0.27696    0.00267343   0.273599      0.282242      0.275039\n",
       "mean_residual_deviance  0.208263   0.00479217   0.200712      0.21715       0.206926\n",
       "mse                     0.208263   0.00479217   0.200712      0.21715       0.206926\n",
       "r2                      0.423612   0.00888024   0.441356      0.415413      0.414069\n",
       "residual_deviance       0.208263   0.00479217   0.200712      0.21715       0.206926\n",
       "rmse                    0.456298   0.00523924   0.448009      0.465994      0.454891\n",
       "rmsle                   0.0283922  0.000339036  0.0278599     0.0290221     0.0282945"
      ]
     },
     "metadata": {},
     "output_type": "display_data"
    },
    {
     "name": "stdout",
     "output_type": "stream",
     "text": [
      "Scoring History: \n"
     ]
    },
    {
     "data": {
      "text/html": [
       "<div style=\"overflow:auto\"><table style=\"width:50%\"><tr><td><b></b></td>\n",
       "<td><b>timestamp</b></td>\n",
       "<td><b>duration</b></td>\n",
       "<td><b>number_of_trees</b></td>\n",
       "<td><b>training_rmse</b></td>\n",
       "<td><b>training_mae</b></td>\n",
       "<td><b>training_deviance</b></td>\n",
       "<td><b>validation_rmse</b></td>\n",
       "<td><b>validation_mae</b></td>\n",
       "<td><b>validation_deviance</b></td></tr>\n",
       "<tr><td></td>\n",
       "<td>2017-06-21 00:01:08</td>\n",
       "<td> 2:02:01.127</td>\n",
       "<td>0.0</td>\n",
       "<td>15.1245910</td>\n",
       "<td>15.1126412</td>\n",
       "<td>228.7532544</td>\n",
       "<td>15.1147002</td>\n",
       "<td>15.1022868</td>\n",
       "<td>228.4541615</td></tr>\n",
       "<tr><td></td>\n",
       "<td>2017-06-21 00:01:28</td>\n",
       "<td> 2:02:21.165</td>\n",
       "<td>1.0</td>\n",
       "<td>15.0490651</td>\n",
       "<td>15.0370898</td>\n",
       "<td>226.4743618</td>\n",
       "<td>15.0391592</td>\n",
       "<td>15.0267166</td>\n",
       "<td>226.1763092</td></tr>\n",
       "<tr><td></td>\n",
       "<td>2017-06-21 00:01:34</td>\n",
       "<td> 2:02:27.286</td>\n",
       "<td>4.0</td>\n",
       "<td>14.8247340</td>\n",
       "<td>14.8126634</td>\n",
       "<td>219.7727380</td>\n",
       "<td>14.8148224</td>\n",
       "<td>14.8022743</td>\n",
       "<td>219.4789617</td></tr>\n",
       "<tr><td></td>\n",
       "<td>2017-06-21 00:01:39</td>\n",
       "<td> 2:02:31.928</td>\n",
       "<td>6.0</td>\n",
       "<td>14.6770792</td>\n",
       "<td>14.6649538</td>\n",
       "<td>215.4166530</td>\n",
       "<td>14.6671594</td>\n",
       "<td>14.6545491</td>\n",
       "<td>215.1255648</td></tr>\n",
       "<tr><td></td>\n",
       "<td>2017-06-21 00:01:43</td>\n",
       "<td> 2:02:36.241</td>\n",
       "<td>8.0</td>\n",
       "<td>14.5308968</td>\n",
       "<td>14.5187138</td>\n",
       "<td>211.1469616</td>\n",
       "<td>14.5210009</td>\n",
       "<td>14.5083250</td>\n",
       "<td>210.8594659</td></tr>\n",
       "<tr><td>---</td>\n",
       "<td>---</td>\n",
       "<td>---</td>\n",
       "<td>---</td>\n",
       "<td>---</td>\n",
       "<td>---</td>\n",
       "<td>---</td>\n",
       "<td>---</td>\n",
       "<td>---</td>\n",
       "<td>---</td></tr>\n",
       "<tr><td></td>\n",
       "<td>2017-06-21 01:24:20</td>\n",
       "<td> 3:25:12.537</td>\n",
       "<td>1312.0</td>\n",
       "<td>0.4137429</td>\n",
       "<td>0.2568312</td>\n",
       "<td>0.1711832</td>\n",
       "<td>0.4789959</td>\n",
       "<td>0.2919229</td>\n",
       "<td>0.2294371</td></tr>\n",
       "<tr><td></td>\n",
       "<td>2017-06-21 01:24:32</td>\n",
       "<td> 3:25:24.758</td>\n",
       "<td>1315.0</td>\n",
       "<td>0.4136105</td>\n",
       "<td>0.2565888</td>\n",
       "<td>0.1710737</td>\n",
       "<td>0.4789795</td>\n",
       "<td>0.2917401</td>\n",
       "<td>0.2294214</td></tr>\n",
       "<tr><td></td>\n",
       "<td>2017-06-21 01:24:44</td>\n",
       "<td> 3:25:37.107</td>\n",
       "<td>1318.0</td>\n",
       "<td>0.4135076</td>\n",
       "<td>0.2563848</td>\n",
       "<td>0.1709885</td>\n",
       "<td>0.4789660</td>\n",
       "<td>0.2915845</td>\n",
       "<td>0.2294085</td></tr>\n",
       "<tr><td></td>\n",
       "<td>2017-06-21 01:24:56</td>\n",
       "<td> 3:25:48.966</td>\n",
       "<td>1321.0</td>\n",
       "<td>0.4134299</td>\n",
       "<td>0.2562112</td>\n",
       "<td>0.1709242</td>\n",
       "<td>0.4789598</td>\n",
       "<td>0.2914529</td>\n",
       "<td>0.2294025</td></tr>\n",
       "<tr><td></td>\n",
       "<td>2017-06-21 01:25:08</td>\n",
       "<td> 3:26:01.119</td>\n",
       "<td>1324.0</td>\n",
       "<td>0.4133154</td>\n",
       "<td>0.2560183</td>\n",
       "<td>0.1708297</td>\n",
       "<td>0.4789621</td>\n",
       "<td>0.2913241</td>\n",
       "<td>0.2294047</td></tr></table></div>"
      ],
      "text/plain": [
       "     timestamp            duration     number_of_trees    training_rmse       training_mae         training_deviance    validation_rmse      validation_mae       validation_deviance\n",
       "---  -------------------  -----------  -----------------  ------------------  -------------------  -------------------  -------------------  -------------------  ---------------------\n",
       "     2017-06-21 00:01:08  2:02:01.127  0.0                15.124591047517928  15.112641215960096   228.75325435465948   15.11470017858498    15.102286794126336   228.45416148851683\n",
       "     2017-06-21 00:01:28  2:02:21.165  1.0                15.049065146951024  15.03708980529901    226.47436179717607   15.039159191214353   15.026716586837889   226.17630917868712\n",
       "     2017-06-21 00:01:34  2:02:27.286  4.0                14.824733994739958  14.812663434304918   219.77273801479853   14.814822365272928   14.802274345124893   219.47896171459092\n",
       "     2017-06-21 00:01:39  2:02:31.928  6.0                14.677079171342642  14.664953760756045   215.41665300186003   14.667159396650076   14.654549080062589   215.12556476674064\n",
       "     2017-06-21 00:01:43  2:02:36.241  8.0                14.530896792818602  14.518713833624615   211.14696160354592   14.521000856055581   14.508324990208497   210.85946586156692\n",
       "---  ---                  ---          ---                ---                 ---                  ---                  ---                  ---                  ---\n",
       "     2017-06-21 01:24:20  3:25:12.537  1312.0             0.4137428792878234  0.25683117176041276  0.17118317016137838  0.47899594202801127  0.29192287890942065  0.22943711247930196\n",
       "     2017-06-21 01:24:32  3:25:24.758  1315.0             0.413610549142372   0.25658883637156965  0.17107368636185452  0.47897950488409397  0.29174012348511763  0.22942136609901181\n",
       "     2017-06-21 01:24:44  3:25:37.107  1318.0             0.4135075676515191  0.2563847711238171   0.17098850850507563  0.4789660384559263   0.2915845430555938   0.22940846599416384\n",
       "     2017-06-21 01:24:56  3:25:48.966  1321.0             0.4134298555192021  0.2562111832605063   0.1709242454346283   0.4789597690608711   0.2914529072406558   0.22940246037884301\n",
       "     2017-06-21 01:25:08  3:26:01.119  1324.0             0.4133154479408961  0.2560182644660886   0.17082965950658358  0.4789621353307803   0.2913241175442258   0.2294047270806207"
      ]
     },
     "metadata": {},
     "output_type": "display_data"
    },
    {
     "name": "stdout",
     "output_type": "stream",
     "text": [
      "\n",
      "See the whole table with table.as_data_frame()\n",
      "Variable Importances: \n"
     ]
    },
    {
     "data": {
      "text/html": [
       "<div style=\"overflow:auto\"><table style=\"width:50%\"><tr><td><b>variable</b></td>\n",
       "<td><b>relative_importance</b></td>\n",
       "<td><b>scaled_importance</b></td>\n",
       "<td><b>percentage</b></td></tr>\n",
       "<tr><td>full_sq|sub_area_Tencode</td>\n",
       "<td>1001.0</td>\n",
       "<td>1.0</td>\n",
       "<td>0.0460399</td></tr>\n",
       "<tr><td>timestamp</td>\n",
       "<td>532.0</td>\n",
       "<td>0.5314685</td>\n",
       "<td>0.0244688</td></tr>\n",
       "<tr><td>full_sq|timestamp</td>\n",
       "<td>238.0</td>\n",
       "<td>0.2377622</td>\n",
       "<td>0.0109466</td></tr>\n",
       "<tr><td>state</td>\n",
       "<td>195.0</td>\n",
       "<td>0.1948052</td>\n",
       "<td>0.0089688</td></tr>\n",
       "<tr><td>num_room|timestamp</td>\n",
       "<td>162.0</td>\n",
       "<td>0.1618382</td>\n",
       "<td>0.0074510</td></tr>\n",
       "<tr><td>---</td>\n",
       "<td>---</td>\n",
       "<td>---</td>\n",
       "<td>---</td></tr>\n",
       "<tr><td>mosque_count_500</td>\n",
       "<td>1.0</td>\n",
       "<td>0.0009990</td>\n",
       "<td>0.0000460</td></tr>\n",
       "<tr><td>cafe_count_3000_price_1000|cafe_count_1500</td>\n",
       "<td>1.0</td>\n",
       "<td>0.0009990</td>\n",
       "<td>0.0000460</td></tr>\n",
       "<tr><td>cafe_count_5000_price_2500|cafe_sum_5000_min_price_avg</td>\n",
       "<td>1.0</td>\n",
       "<td>0.0009990</td>\n",
       "<td>0.0000460</td></tr>\n",
       "<tr><td>year|office_count_3000</td>\n",
       "<td>1.0</td>\n",
       "<td>0.0009990</td>\n",
       "<td>0.0000460</td></tr>\n",
       "<tr><td>ID_railroad_terminal</td>\n",
       "<td>1.0</td>\n",
       "<td>0.0009990</td>\n",
       "<td>0.0000460</td></tr></table></div>"
      ],
      "text/plain": [
       "variable                                                relative_importance    scaled_importance     percentage\n",
       "------------------------------------------------------  ---------------------  --------------------  ---------------------\n",
       "full_sq|sub_area_Tencode                                1001.0                 1.0                   0.04603992273019961\n",
       "timestamp                                               532.0                  0.5314685314685315    0.02446877012234385\n",
       "full_sq|timestamp                                       238.0                  0.23776223776223776   0.010946555054732776\n",
       "state                                                   195.0                  0.19480519480519481   0.008968816116272652\n",
       "num_room|timestamp                                      162.0                  0.16183816183816183   0.007451016465826511\n",
       "---                                                     ---                    ---                   ---\n",
       "mosque_count_500                                        1.0                    0.000999000999000999  4.599392880139822e-05\n",
       "cafe_count_3000_price_1000|cafe_count_1500              1.0                    0.000999000999000999  4.599392880139822e-05\n",
       "cafe_count_5000_price_2500|cafe_sum_5000_min_price_avg  1.0                    0.000999000999000999  4.599392880139822e-05\n",
       "year|office_count_3000                                  1.0                    0.000999000999000999  4.599392880139822e-05\n",
       "ID_railroad_terminal                                    1.0                    0.000999000999000999  4.599392880139822e-05"
      ]
     },
     "metadata": {},
     "output_type": "display_data"
    },
    {
     "name": "stdout",
     "output_type": "stream",
     "text": [
      "\n",
      "See the whole table with table.as_data_frame()\n",
      "\n"
     ]
    }
   ],
   "source": [
    "# initialize XGB GBM\n",
    "h2o_xgb_model = H2OXGBoostEstimator(\n",
    "    ntrees = 10000,\n",
    "    learn_rate = 0.005,\n",
    "    sample_rate = 0.7, \n",
    "    col_sample_rate = 0.8,\n",
    "    max_depth = 5,\n",
    "    nfolds = 3,\n",
    "    keep_cross_validation_predictions=True,\n",
    "    stopping_rounds = 10,\n",
    "    model_id='xgb_model',\n",
    "    seed = 12345)\n",
    "\n",
    "# execute training \n",
    "h2o_xgb_model.train(x=encoded_combined_nums,\n",
    "                    y='price_doc',\n",
    "                    training_frame=train,\n",
    "                    validation_frame=valid)\n",
    "\n",
    "# print model information/create submission\n",
    "print(h2o_xgb_model)\n",
    "\n",
    "#Training RMSE: 0.42416106883643906  sample_rate = 0.1\n",
    "# RMSE: 0.4133154479408961 sample_rate = 0.7"
   ]
  },
  {
   "cell_type": "code",
   "execution_count": 39,
   "metadata": {
    "collapsed": false
   },
   "outputs": [
    {
     "data": {
      "text/html": [
       "<table>\n",
       "<thead>\n",
       "<tr><th style=\"text-align: right;\">  price_doc</th><th style=\"text-align: right;\">  predict</th></tr>\n",
       "</thead>\n",
       "<tbody>\n",
       "<tr><td style=\"text-align: right;\">    16.3881</td><td style=\"text-align: right;\">  15.8526</td></tr>\n",
       "<tr><td style=\"text-align: right;\">    14.5087</td><td style=\"text-align: right;\">  15.402 </td></tr>\n",
       "<tr><td style=\"text-align: right;\">    14.5087</td><td style=\"text-align: right;\">  15.2662</td></tr>\n",
       "<tr><td style=\"text-align: right;\">    14.4307</td><td style=\"text-align: right;\">  15.4883</td></tr>\n",
       "<tr><td style=\"text-align: right;\">    15.6561</td><td style=\"text-align: right;\">  15.2929</td></tr>\n",
       "<tr><td style=\"text-align: right;\">    15.8824</td><td style=\"text-align: right;\">  15.338 </td></tr>\n",
       "<tr><td style=\"text-align: right;\">    15.4642</td><td style=\"text-align: right;\">  15.2538</td></tr>\n",
       "<tr><td style=\"text-align: right;\">    15.5905</td><td style=\"text-align: right;\">  15.1004</td></tr>\n",
       "<tr><td style=\"text-align: right;\">    16.7224</td><td style=\"text-align: right;\">  15.956 </td></tr>\n",
       "<tr><td style=\"text-align: right;\">    15.556 </td><td style=\"text-align: right;\">  15.2765</td></tr>\n",
       "</tbody>\n",
       "</table>"
      ]
     },
     "metadata": {},
     "output_type": "display_data"
    },
    {
     "name": "stdout",
     "output_type": "stream",
     "text": [
      "\n"
     ]
    },
    {
     "data": {
      "text/html": [
       "<table>\n",
       "<thead>\n",
       "<tr><th style=\"text-align: right;\">   id</th><th style=\"text-align: right;\">  price_doc</th></tr>\n",
       "</thead>\n",
       "<tbody>\n",
       "<tr><td style=\"text-align: right;\">30474</td><td style=\"text-align: right;\">5.41445e+06</td></tr>\n",
       "<tr><td style=\"text-align: right;\">30475</td><td style=\"text-align: right;\">8.42002e+06</td></tr>\n",
       "<tr><td style=\"text-align: right;\">30476</td><td style=\"text-align: right;\">5.04586e+06</td></tr>\n",
       "<tr><td style=\"text-align: right;\">30477</td><td style=\"text-align: right;\">5.96353e+06</td></tr>\n",
       "<tr><td style=\"text-align: right;\">30478</td><td style=\"text-align: right;\">5.06868e+06</td></tr>\n",
       "<tr><td style=\"text-align: right;\">30479</td><td style=\"text-align: right;\">7.30907e+06</td></tr>\n",
       "<tr><td style=\"text-align: right;\">30480</td><td style=\"text-align: right;\">4.58497e+06</td></tr>\n",
       "<tr><td style=\"text-align: right;\">30481</td><td style=\"text-align: right;\">4.57065e+06</td></tr>\n",
       "<tr><td style=\"text-align: right;\">30482</td><td style=\"text-align: right;\">4.94338e+06</td></tr>\n",
       "<tr><td style=\"text-align: right;\">30483</td><td style=\"text-align: right;\">4.90511e+06</td></tr>\n",
       "</tbody>\n",
       "</table>"
      ]
     },
     "metadata": {},
     "output_type": "display_data"
    },
    {
     "data": {
      "text/plain": []
     },
     "execution_count": 39,
     "metadata": {},
     "output_type": "execute_result"
    },
    {
     "data": {
      "image/png": "[encoded data removed]",
      "text/plain": [
       "<matplotlib.figure.Figure at 0x1185f81d0>"
      ]
     },
     "metadata": {},
     "output_type": "display_data"
    }
   ],
   "source": [
    "h2o_xgb_preds1_val = h2o_xgb_model.predict(valid)\n",
    "ranked_preds_plot('price_doc', valid, h2o_xgb_preds1_val) \n",
    "h2o_xgb_preds1_test = h2o_xgb_model.predict(test)\n",
    "gen_submission(h2o_xgb_preds1_test) \n",
    "\n",
    "#  on public leaderboard"
   ]
  },
  {
   "cell_type": "code",
   "execution_count": 40,
   "metadata": {
    "collapsed": true
   },
   "outputs": [],
   "source": [
    "# save the model\n",
    "model_path = h2o.save_model(model=h2o_xgb_model, path=\"/Users/zwang/GWU/Kaggle/Housing_Mkt/mymodel2\", force=True)"
   ]
  },
  {
   "cell_type": "markdown",
   "metadata": {},
   "source": [
    "### load saved model"
   ]
  },
  {
   "cell_type": "code",
   "execution_count": 4,
   "metadata": {
    "collapsed": true
   },
   "outputs": [],
   "source": [
    "# load data\n",
    "train = h2o.import_file('/Users/zwang/GWU/Kaggle/Housing_Mkt/data/newtrain.csv')\n",
    "valid = h2o.import_file('/Users/zwang/GWU/Kaggle/Housing_Mkt/data/newvalid.csv')\n",
    "test = h2o.import_file('/Users/zwang/GWU/Kaggle/Housing_Mkt/data/newtest.csv')"
   ]
  },
  {
   "cell_type": "code",
   "execution_count": 5,
   "metadata": {
    "collapsed": true
   },
   "outputs": [],
   "source": [
    "def get_type_lists(frame=train, rejects=['id', 'price_doc']):   \n",
    "    nums, cats = [], []\n",
    "    for key, val in frame.types.items():\n",
    "        if key not in rejects:\n",
    "            if val == 'enum':\n",
    "                cats.append(key)\n",
    "            else: \n",
    "                nums.append(key)                \n",
    "    print('Numeric =', nums)                \n",
    "    print()\n",
    "    print('Categorical =', cats)\n",
    "    \n",
    "    return nums, cats"
   ]
  },
  {
   "cell_type": "code",
   "execution_count": 6,
   "metadata": {
    "collapsed": false
   },
   "outputs": [
    {
     "name": "stdout",
     "output_type": "stream",
     "text": [
      "Numeric = ['C1', 'timestamp', 'full_sq', 'life_sq', 'floor', 'max_floor', 'material', 'build_year', 'num_room', 'kitch_sq', 'state', 'area_m', 'raion_popul', 'green_zone_part', 'indust_part', 'children_preschool', 'preschool_quota', 'preschool_education_centers_raion', 'children_school', 'school_quota', 'school_education_centers_raion', 'school_education_centers_top_20_raion', 'hospital_beds_raion', 'healthcare_centers_raion', 'university_top_20_raion', 'sport_objects_raion', 'additional_education_raion', 'culture_objects_top_25_raion', 'shopping_centers_raion', 'office_raion', 'full_all', 'male_f', 'female_f', 'young_all', 'young_male', 'young_female', 'work_all', 'work_male', 'work_female', 'ekder_all', 'ekder_male', 'ekder_female', '0_6_all', '0_6_male', '0_6_female', '7_14_all', '7_14_male', '7_14_female', '0_17_all', '0_17_male', '0_17_female', '16_29_all', '16_29_male', '16_29_female', '0_13_all', '0_13_male', '0_13_female', 'raion_build_count_with_material_info', 'build_count_block', 'build_count_wood', 'build_count_frame', 'build_count_brick', 'build_count_monolith', 'build_count_panel', 'build_count_foam', 'build_count_slag', 'build_count_mix', 'raion_build_count_with_builddate_info', 'build_count_before_1920', 'build_count_1921-1945', 'build_count_1946-1970', 'build_count_1971-1995', 'build_count_after_1995', 'ID_metro', 'metro_min_avto', 'metro_km_avto', 'metro_min_walk', 'metro_km_walk', 'kindergarten_km', 'school_km', 'park_km', 'green_zone_km', 'industrial_km', 'water_treatment_km', 'cemetery_km', 'incineration_km', 'railroad_station_walk_km', 'railroad_station_walk_min', 'ID_railroad_station_walk', 'railroad_station_avto_km', 'railroad_station_avto_min', 'ID_railroad_station_avto', 'public_transport_station_km', 'public_transport_station_min_walk', 'water_km', 'mkad_km', 'ttk_km', 'sadovoe_km', 'bulvar_ring_km', 'kremlin_km', 'big_road1_km', 'ID_big_road1', 'big_road2_km', 'ID_big_road2', 'railroad_km', 'zd_vokzaly_avto_km', 'ID_railroad_terminal', 'bus_terminal_avto_km', 'ID_bus_terminal', 'oil_chemistry_km', 'nuclear_reactor_km', 'radiation_km', 'power_transmission_line_km', 'thermal_power_plant_km', 'ts_km', 'big_market_km', 'market_shop_km', 'fitness_km', 'swim_pool_km', 'ice_rink_km', 'stadium_km', 'basketball_km', 'hospice_morgue_km', 'detention_facility_km', 'public_healthcare_km', 'university_km', 'workplaces_km', 'shopping_centers_km', 'office_km', 'additional_education_km', 'preschool_km', 'big_church_km', 'church_synagogue_km', 'mosque_km', 'theater_km', 'museum_km', 'exhibition_km', 'catering_km', 'green_part_500', 'prom_part_500', 'office_count_500', 'office_sqm_500', 'trc_count_500', 'trc_sqm_500', 'cafe_count_500', 'cafe_sum_500_min_price_avg', 'cafe_sum_500_max_price_avg', 'cafe_avg_price_500', 'cafe_count_500_na_price', 'cafe_count_500_price_500', 'cafe_count_500_price_1000', 'cafe_count_500_price_1500', 'cafe_count_500_price_2500', 'cafe_count_500_price_4000', 'cafe_count_500_price_high', 'big_church_count_500', 'church_count_500', 'mosque_count_500', 'leisure_count_500', 'sport_count_500', 'market_count_500', 'green_part_1000', 'prom_part_1000', 'office_count_1000', 'office_sqm_1000', 'trc_count_1000', 'trc_sqm_1000', 'cafe_count_1000', 'cafe_sum_1000_min_price_avg', 'cafe_sum_1000_max_price_avg', 'cafe_avg_price_1000', 'cafe_count_1000_na_price', 'cafe_count_1000_price_500', 'cafe_count_1000_price_1000', 'cafe_count_1000_price_1500', 'cafe_count_1000_price_2500', 'cafe_count_1000_price_4000', 'cafe_count_1000_price_high', 'big_church_count_1000', 'church_count_1000', 'mosque_count_1000', 'leisure_count_1000', 'sport_count_1000', 'market_count_1000', 'green_part_1500', 'prom_part_1500', 'office_count_1500', 'office_sqm_1500', 'trc_count_1500', 'trc_sqm_1500', 'cafe_count_1500', 'cafe_sum_1500_min_price_avg', 'cafe_sum_1500_max_price_avg', 'cafe_avg_price_1500', 'cafe_count_1500_na_price', 'cafe_count_1500_price_500', 'cafe_count_1500_price_1000', 'cafe_count_1500_price_1500', 'cafe_count_1500_price_2500', 'cafe_count_1500_price_4000', 'cafe_count_1500_price_high', 'big_church_count_1500', 'church_count_1500', 'mosque_count_1500', 'leisure_count_1500', 'sport_count_1500', 'market_count_1500', 'green_part_2000', 'prom_part_2000', 'office_count_2000', 'office_sqm_2000', 'trc_count_2000', 'trc_sqm_2000', 'cafe_count_2000', 'cafe_sum_2000_min_price_avg', 'cafe_sum_2000_max_price_avg', 'cafe_avg_price_2000', 'cafe_count_2000_na_price', 'cafe_count_2000_price_500', 'cafe_count_2000_price_1000', 'cafe_count_2000_price_1500', 'cafe_count_2000_price_2500', 'cafe_count_2000_price_4000', 'cafe_count_2000_price_high', 'big_church_count_2000', 'church_count_2000', 'mosque_count_2000', 'leisure_count_2000', 'sport_count_2000', 'market_count_2000', 'green_part_3000', 'prom_part_3000', 'office_count_3000', 'office_sqm_3000', 'trc_count_3000', 'trc_sqm_3000', 'cafe_count_3000', 'cafe_sum_3000_min_price_avg', 'cafe_sum_3000_max_price_avg', 'cafe_avg_price_3000', 'cafe_count_3000_na_price', 'cafe_count_3000_price_500', 'cafe_count_3000_price_1000', 'cafe_count_3000_price_1500', 'cafe_count_3000_price_2500', 'cafe_count_3000_price_4000', 'cafe_count_3000_price_high', 'big_church_count_3000', 'church_count_3000', 'mosque_count_3000', 'leisure_count_3000', 'sport_count_3000', 'market_count_3000', 'green_part_5000', 'prom_part_5000', 'office_count_5000', 'office_sqm_5000', 'trc_count_5000', 'trc_sqm_5000', 'cafe_count_5000', 'cafe_sum_5000_min_price_avg', 'cafe_sum_5000_max_price_avg', 'cafe_avg_price_5000', 'cafe_count_5000_na_price', 'cafe_count_5000_price_500', 'cafe_count_5000_price_1000', 'cafe_count_5000_price_1500', 'cafe_count_5000_price_2500', 'cafe_count_5000_price_4000', 'cafe_count_5000_price_high', 'big_church_count_5000', 'church_count_5000', 'mosque_count_5000', 'leisure_count_5000', 'sport_count_5000', 'market_count_5000', 'floor_ratio', 'floor_from_top', 'kitch_sq_ratio', 'life_sq_ratio', 'full_sq_per_room', 'life_sq_per_room', 'full_living_sq_diff', 'year', 'month', 'day', 'dayofyear', 'product_type_Tencode', 'sub_area_Tencode', 'culture_objects_top_25_Tencode', 'thermal_power_plant_raion_Tencode', 'incineration_raion_Tencode', 'oil_chemistry_raion_Tencode', 'radiation_raion_Tencode', 'railroad_terminal_raion_Tencode', 'big_market_raion_Tencode', 'nuclear_reactor_raion_Tencode', 'detention_facility_raion_Tencode', 'water_1line_Tencode', 'big_road1_1line_Tencode', 'railroad_1line_Tencode', 'ecology_Tencode', 'full_sq|life_sq', 'full_sq|num_room', 'full_sq|full_living_sq_diff', 'full_sq|sub_area_Tencode', 'full_sq|cafe_count_5000_price_2500', 'full_sq|kitch_sq_ratio', 'full_sq|full_sq_per_room', 'full_sq|cafe_count_2000', 'full_sq|cafe_count_5000_price_high', 'full_sq|kitch_sq', 'full_sq|cafe_count_3000_price_1000', 'full_sq|life_sq_per_room', 'full_sq|sport_count_3000', 'full_sq|cafe_count_3000', 'full_sq|trc_count_3000', 'full_sq|cafe_count_3000_price_1500', 'full_sq|cafe_count_2000_price_2500', 'full_sq|cafe_count_5000_price_1000', 'full_sq|cafe_count_2000_price_1500', 'full_sq|timestamp', 'full_sq|year', 'full_sq|cafe_count_3000_price_2500', 'full_sq|nuclear_reactor_km', 'full_sq|cafe_count_5000', 'full_sq|market_shop_km', 'full_sq|life_sq_ratio', 'full_sq|ttk_km', 'full_sq|cafe_count_5000_price_1500', 'full_sq|big_church_km', 'full_sq|office_sqm_5000', 'full_sq|swim_pool_km', 'full_sq|cafe_count_1500_price_2500', 'full_sq|sadovoe_km', 'full_sq|build_year', 'full_sq|floor_ratio', 'full_sq|max_floor', 'full_sq|cafe_sum_5000_min_price_avg', 'full_sq|sport_count_5000', 'full_sq|metro_min_avto', 'full_sq|floor', 'full_sq|prom_part_5000', 'full_sq|material', 'full_sq|cafe_count_1500', 'full_sq|office_count_3000', 'full_sq|metro_km_walk', 'full_sq|ice_rink_km', 'full_sq|kremlin_km', 'full_sq|prom_part_1500', 'full_sq|prom_part_3000', 'life_sq|num_room', 'life_sq|full_living_sq_diff', 'life_sq|sub_area_Tencode', 'life_sq|cafe_count_5000_price_2500', 'life_sq|kitch_sq_ratio', 'life_sq|full_sq_per_room', 'life_sq|cafe_count_2000', 'life_sq|cafe_count_5000_price_high', 'life_sq|kitch_sq', 'life_sq|cafe_count_3000_price_1000', 'life_sq|life_sq_per_room', 'life_sq|sport_count_3000', 'life_sq|cafe_count_3000', 'life_sq|trc_count_3000', 'life_sq|cafe_count_3000_price_1500', 'life_sq|cafe_count_2000_price_2500', 'life_sq|cafe_count_5000_price_1000', 'life_sq|cafe_count_2000_price_1500', 'life_sq|timestamp', 'life_sq|year', 'life_sq|cafe_count_3000_price_2500', 'life_sq|nuclear_reactor_km', 'life_sq|cafe_count_5000', 'life_sq|market_shop_km', 'life_sq|life_sq_ratio', 'life_sq|ttk_km', 'life_sq|cafe_count_5000_price_1500', 'life_sq|big_church_km', 'life_sq|office_sqm_5000', 'life_sq|swim_pool_km', 'life_sq|cafe_count_1500_price_2500', 'life_sq|sadovoe_km', 'life_sq|build_year', 'life_sq|floor_ratio', 'life_sq|max_floor', 'life_sq|cafe_sum_5000_min_price_avg', 'life_sq|sport_count_5000', 'life_sq|metro_min_avto', 'life_sq|floor', 'life_sq|prom_part_5000', 'life_sq|material', 'life_sq|cafe_count_1500', 'life_sq|office_count_3000', 'life_sq|metro_km_walk', 'life_sq|ice_rink_km', 'life_sq|kremlin_km', 'life_sq|prom_part_1500', 'life_sq|prom_part_3000', 'num_room|full_living_sq_diff', 'num_room|sub_area_Tencode', 'num_room|cafe_count_5000_price_2500', 'num_room|kitch_sq_ratio', 'num_room|full_sq_per_room', 'num_room|cafe_count_2000', 'num_room|cafe_count_5000_price_high', 'num_room|kitch_sq', 'num_room|cafe_count_3000_price_1000', 'num_room|life_sq_per_room', 'num_room|sport_count_3000', 'num_room|cafe_count_3000', 'num_room|trc_count_3000', 'num_room|cafe_count_3000_price_1500', 'num_room|cafe_count_2000_price_2500', 'num_room|cafe_count_5000_price_1000', 'num_room|cafe_count_2000_price_1500', 'num_room|timestamp', 'num_room|year', 'num_room|cafe_count_3000_price_2500', 'num_room|nuclear_reactor_km', 'num_room|cafe_count_5000', 'num_room|market_shop_km', 'num_room|life_sq_ratio', 'num_room|ttk_km', 'num_room|cafe_count_5000_price_1500', 'num_room|big_church_km', 'num_room|office_sqm_5000', 'num_room|swim_pool_km', 'num_room|cafe_count_1500_price_2500', 'num_room|sadovoe_km', 'num_room|build_year', 'num_room|floor_ratio', 'num_room|max_floor', 'num_room|cafe_sum_5000_min_price_avg', 'num_room|sport_count_5000', 'num_room|metro_min_avto', 'num_room|floor', 'num_room|prom_part_5000', 'num_room|material', 'num_room|cafe_count_1500', 'num_room|office_count_3000', 'num_room|metro_km_walk', 'num_room|ice_rink_km', 'num_room|kremlin_km', 'num_room|prom_part_1500', 'num_room|prom_part_3000', 'full_living_sq_diff|sub_area_Tencode', 'full_living_sq_diff|cafe_count_5000_price_2500', 'full_living_sq_diff|kitch_sq_ratio', 'full_living_sq_diff|full_sq_per_room', 'full_living_sq_diff|cafe_count_2000', 'full_living_sq_diff|cafe_count_5000_price_high', 'full_living_sq_diff|kitch_sq', 'full_living_sq_diff|cafe_count_3000_price_1000', 'full_living_sq_diff|life_sq_per_room', 'full_living_sq_diff|sport_count_3000', 'full_living_sq_diff|cafe_count_3000', 'full_living_sq_diff|trc_count_3000', 'full_living_sq_diff|cafe_count_3000_price_1500', 'full_living_sq_diff|cafe_count_2000_price_2500', 'full_living_sq_diff|cafe_count_5000_price_1000', 'full_living_sq_diff|cafe_count_2000_price_1500', 'full_living_sq_diff|timestamp', 'full_living_sq_diff|year', 'full_living_sq_diff|cafe_count_3000_price_2500', 'full_living_sq_diff|nuclear_reactor_km', 'full_living_sq_diff|cafe_count_5000', 'full_living_sq_diff|market_shop_km', 'full_living_sq_diff|life_sq_ratio', 'full_living_sq_diff|ttk_km', 'full_living_sq_diff|cafe_count_5000_price_1500', 'full_living_sq_diff|big_church_km', 'full_living_sq_diff|office_sqm_5000', 'full_living_sq_diff|swim_pool_km', 'full_living_sq_diff|cafe_count_1500_price_2500', 'full_living_sq_diff|sadovoe_km', 'full_living_sq_diff|build_year', 'full_living_sq_diff|floor_ratio', 'full_living_sq_diff|max_floor', 'full_living_sq_diff|cafe_sum_5000_min_price_avg', 'full_living_sq_diff|sport_count_5000', 'full_living_sq_diff|metro_min_avto', 'full_living_sq_diff|floor', 'full_living_sq_diff|prom_part_5000', 'full_living_sq_diff|material', 'full_living_sq_diff|cafe_count_1500', 'full_living_sq_diff|office_count_3000', 'full_living_sq_diff|metro_km_walk', 'full_living_sq_diff|ice_rink_km', 'full_living_sq_diff|kremlin_km', 'full_living_sq_diff|prom_part_1500', 'full_living_sq_diff|prom_part_3000', 'sub_area_Tencode|cafe_count_5000_price_2500', 'sub_area_Tencode|kitch_sq_ratio', 'sub_area_Tencode|full_sq_per_room', 'sub_area_Tencode|cafe_count_2000', 'sub_area_Tencode|cafe_count_5000_price_high', 'sub_area_Tencode|kitch_sq', 'sub_area_Tencode|cafe_count_3000_price_1000', 'sub_area_Tencode|life_sq_per_room', 'sub_area_Tencode|sport_count_3000', 'sub_area_Tencode|cafe_count_3000', 'sub_area_Tencode|trc_count_3000', 'sub_area_Tencode|cafe_count_3000_price_1500', 'sub_area_Tencode|cafe_count_2000_price_2500', 'sub_area_Tencode|cafe_count_5000_price_1000', 'sub_area_Tencode|cafe_count_2000_price_1500', 'sub_area_Tencode|timestamp', 'sub_area_Tencode|year', 'sub_area_Tencode|cafe_count_3000_price_2500', 'sub_area_Tencode|nuclear_reactor_km', 'sub_area_Tencode|cafe_count_5000', 'sub_area_Tencode|market_shop_km', 'sub_area_Tencode|life_sq_ratio', 'sub_area_Tencode|ttk_km', 'sub_area_Tencode|cafe_count_5000_price_1500', 'sub_area_Tencode|big_church_km', 'sub_area_Tencode|office_sqm_5000', 'sub_area_Tencode|swim_pool_km', 'sub_area_Tencode|cafe_count_1500_price_2500', 'sub_area_Tencode|sadovoe_km', 'sub_area_Tencode|build_year', 'sub_area_Tencode|floor_ratio', 'sub_area_Tencode|max_floor', 'sub_area_Tencode|cafe_sum_5000_min_price_avg', 'sub_area_Tencode|sport_count_5000', 'sub_area_Tencode|metro_min_avto', 'sub_area_Tencode|floor', 'sub_area_Tencode|prom_part_5000', 'sub_area_Tencode|material', 'sub_area_Tencode|cafe_count_1500', 'sub_area_Tencode|office_count_3000', 'sub_area_Tencode|metro_km_walk', 'sub_area_Tencode|ice_rink_km', 'sub_area_Tencode|kremlin_km', 'sub_area_Tencode|prom_part_1500', 'sub_area_Tencode|prom_part_3000', 'cafe_count_5000_price_2500|kitch_sq_ratio', 'cafe_count_5000_price_2500|full_sq_per_room', 'cafe_count_5000_price_2500|cafe_count_2000', 'cafe_count_5000_price_2500|cafe_count_5000_price_high', 'cafe_count_5000_price_2500|kitch_sq', 'cafe_count_5000_price_2500|cafe_count_3000_price_1000', 'cafe_count_5000_price_2500|life_sq_per_room', 'cafe_count_5000_price_2500|sport_count_3000', 'cafe_count_5000_price_2500|cafe_count_3000', 'cafe_count_5000_price_2500|trc_count_3000', 'cafe_count_5000_price_2500|cafe_count_3000_price_1500', 'cafe_count_5000_price_2500|cafe_count_2000_price_2500', 'cafe_count_5000_price_2500|cafe_count_5000_price_1000', 'cafe_count_5000_price_2500|cafe_count_2000_price_1500', 'cafe_count_5000_price_2500|timestamp', 'cafe_count_5000_price_2500|year', 'cafe_count_5000_price_2500|cafe_count_3000_price_2500', 'cafe_count_5000_price_2500|nuclear_reactor_km', 'cafe_count_5000_price_2500|cafe_count_5000', 'cafe_count_5000_price_2500|market_shop_km', 'cafe_count_5000_price_2500|life_sq_ratio', 'cafe_count_5000_price_2500|ttk_km', 'cafe_count_5000_price_2500|cafe_count_5000_price_1500', 'cafe_count_5000_price_2500|big_church_km', 'cafe_count_5000_price_2500|office_sqm_5000', 'cafe_count_5000_price_2500|swim_pool_km', 'cafe_count_5000_price_2500|cafe_count_1500_price_2500', 'cafe_count_5000_price_2500|sadovoe_km', 'cafe_count_5000_price_2500|build_year', 'cafe_count_5000_price_2500|floor_ratio', 'cafe_count_5000_price_2500|max_floor', 'cafe_count_5000_price_2500|cafe_sum_5000_min_price_avg', 'cafe_count_5000_price_2500|sport_count_5000', 'cafe_count_5000_price_2500|metro_min_avto', 'cafe_count_5000_price_2500|floor', 'cafe_count_5000_price_2500|prom_part_5000', 'cafe_count_5000_price_2500|material', 'cafe_count_5000_price_2500|cafe_count_1500', 'cafe_count_5000_price_2500|office_count_3000', 'cafe_count_5000_price_2500|metro_km_walk', 'cafe_count_5000_price_2500|ice_rink_km', 'cafe_count_5000_price_2500|kremlin_km', 'cafe_count_5000_price_2500|prom_part_1500', 'cafe_count_5000_price_2500|prom_part_3000', 'kitch_sq_ratio|full_sq_per_room', 'kitch_sq_ratio|cafe_count_2000', 'kitch_sq_ratio|cafe_count_5000_price_high', 'kitch_sq_ratio|kitch_sq', 'kitch_sq_ratio|cafe_count_3000_price_1000', 'kitch_sq_ratio|life_sq_per_room', 'kitch_sq_ratio|sport_count_3000', 'kitch_sq_ratio|cafe_count_3000', 'kitch_sq_ratio|trc_count_3000', 'kitch_sq_ratio|cafe_count_3000_price_1500', 'kitch_sq_ratio|cafe_count_2000_price_2500', 'kitch_sq_ratio|cafe_count_5000_price_1000', 'kitch_sq_ratio|cafe_count_2000_price_1500', 'kitch_sq_ratio|timestamp', 'kitch_sq_ratio|year', 'kitch_sq_ratio|cafe_count_3000_price_2500', 'kitch_sq_ratio|nuclear_reactor_km', 'kitch_sq_ratio|cafe_count_5000', 'kitch_sq_ratio|market_shop_km', 'kitch_sq_ratio|life_sq_ratio', 'kitch_sq_ratio|ttk_km', 'kitch_sq_ratio|cafe_count_5000_price_1500', 'kitch_sq_ratio|big_church_km', 'kitch_sq_ratio|office_sqm_5000', 'kitch_sq_ratio|swim_pool_km', 'kitch_sq_ratio|cafe_count_1500_price_2500', 'kitch_sq_ratio|sadovoe_km', 'kitch_sq_ratio|build_year', 'kitch_sq_ratio|floor_ratio', 'kitch_sq_ratio|max_floor', 'kitch_sq_ratio|cafe_sum_5000_min_price_avg', 'kitch_sq_ratio|sport_count_5000', 'kitch_sq_ratio|metro_min_avto', 'kitch_sq_ratio|floor', 'kitch_sq_ratio|prom_part_5000', 'kitch_sq_ratio|material', 'kitch_sq_ratio|cafe_count_1500', 'kitch_sq_ratio|office_count_3000', 'kitch_sq_ratio|metro_km_walk', 'kitch_sq_ratio|ice_rink_km', 'kitch_sq_ratio|kremlin_km', 'kitch_sq_ratio|prom_part_1500', 'kitch_sq_ratio|prom_part_3000', 'full_sq_per_room|cafe_count_2000', 'full_sq_per_room|cafe_count_5000_price_high', 'full_sq_per_room|kitch_sq', 'full_sq_per_room|cafe_count_3000_price_1000', 'full_sq_per_room|life_sq_per_room', 'full_sq_per_room|sport_count_3000', 'full_sq_per_room|cafe_count_3000', 'full_sq_per_room|trc_count_3000', 'full_sq_per_room|cafe_count_3000_price_1500', 'full_sq_per_room|cafe_count_2000_price_2500', 'full_sq_per_room|cafe_count_5000_price_1000', 'full_sq_per_room|cafe_count_2000_price_1500', 'full_sq_per_room|timestamp', 'full_sq_per_room|year', 'full_sq_per_room|cafe_count_3000_price_2500', 'full_sq_per_room|nuclear_reactor_km', 'full_sq_per_room|cafe_count_5000', 'full_sq_per_room|market_shop_km', 'full_sq_per_room|life_sq_ratio', 'full_sq_per_room|ttk_km', 'full_sq_per_room|cafe_count_5000_price_1500', 'full_sq_per_room|big_church_km', 'full_sq_per_room|office_sqm_5000', 'full_sq_per_room|swim_pool_km', 'full_sq_per_room|cafe_count_1500_price_2500', 'full_sq_per_room|sadovoe_km', 'full_sq_per_room|build_year', 'full_sq_per_room|floor_ratio', 'full_sq_per_room|max_floor', 'full_sq_per_room|cafe_sum_5000_min_price_avg', 'full_sq_per_room|sport_count_5000', 'full_sq_per_room|metro_min_avto', 'full_sq_per_room|floor', 'full_sq_per_room|prom_part_5000', 'full_sq_per_room|material', 'full_sq_per_room|cafe_count_1500', 'full_sq_per_room|office_count_3000', 'full_sq_per_room|metro_km_walk', 'full_sq_per_room|ice_rink_km', 'full_sq_per_room|kremlin_km', 'full_sq_per_room|prom_part_1500', 'full_sq_per_room|prom_part_3000', 'cafe_count_2000|cafe_count_5000_price_high', 'cafe_count_2000|kitch_sq', 'cafe_count_2000|cafe_count_3000_price_1000', 'cafe_count_2000|life_sq_per_room', 'cafe_count_2000|sport_count_3000', 'cafe_count_2000|cafe_count_3000', 'cafe_count_2000|trc_count_3000', 'cafe_count_2000|cafe_count_3000_price_1500', 'cafe_count_2000|cafe_count_2000_price_2500', 'cafe_count_2000|cafe_count_5000_price_1000', 'cafe_count_2000|cafe_count_2000_price_1500', 'cafe_count_2000|timestamp', 'cafe_count_2000|year', 'cafe_count_2000|cafe_count_3000_price_2500', 'cafe_count_2000|nuclear_reactor_km', 'cafe_count_2000|cafe_count_5000', 'cafe_count_2000|market_shop_km', 'cafe_count_2000|life_sq_ratio', 'cafe_count_2000|ttk_km', 'cafe_count_2000|cafe_count_5000_price_1500', 'cafe_count_2000|big_church_km', 'cafe_count_2000|office_sqm_5000', 'cafe_count_2000|swim_pool_km', 'cafe_count_2000|cafe_count_1500_price_2500', 'cafe_count_2000|sadovoe_km', 'cafe_count_2000|build_year', 'cafe_count_2000|floor_ratio', 'cafe_count_2000|max_floor', 'cafe_count_2000|cafe_sum_5000_min_price_avg', 'cafe_count_2000|sport_count_5000', 'cafe_count_2000|metro_min_avto', 'cafe_count_2000|floor', 'cafe_count_2000|prom_part_5000', 'cafe_count_2000|material', 'cafe_count_2000|cafe_count_1500', 'cafe_count_2000|office_count_3000', 'cafe_count_2000|metro_km_walk', 'cafe_count_2000|ice_rink_km', 'cafe_count_2000|kremlin_km', 'cafe_count_2000|prom_part_1500', 'cafe_count_2000|prom_part_3000', 'cafe_count_5000_price_high|kitch_sq', 'cafe_count_5000_price_high|cafe_count_3000_price_1000', 'cafe_count_5000_price_high|life_sq_per_room', 'cafe_count_5000_price_high|sport_count_3000', 'cafe_count_5000_price_high|cafe_count_3000', 'cafe_count_5000_price_high|trc_count_3000', 'cafe_count_5000_price_high|cafe_count_3000_price_1500', 'cafe_count_5000_price_high|cafe_count_2000_price_2500', 'cafe_count_5000_price_high|cafe_count_5000_price_1000', 'cafe_count_5000_price_high|cafe_count_2000_price_1500', 'cafe_count_5000_price_high|timestamp', 'cafe_count_5000_price_high|year', 'cafe_count_5000_price_high|cafe_count_3000_price_2500', 'cafe_count_5000_price_high|nuclear_reactor_km', 'cafe_count_5000_price_high|cafe_count_5000', 'cafe_count_5000_price_high|market_shop_km', 'cafe_count_5000_price_high|life_sq_ratio', 'cafe_count_5000_price_high|ttk_km', 'cafe_count_5000_price_high|cafe_count_5000_price_1500', 'cafe_count_5000_price_high|big_church_km', 'cafe_count_5000_price_high|office_sqm_5000', 'cafe_count_5000_price_high|swim_pool_km', 'cafe_count_5000_price_high|cafe_count_1500_price_2500', 'cafe_count_5000_price_high|sadovoe_km', 'cafe_count_5000_price_high|build_year', 'cafe_count_5000_price_high|floor_ratio', 'cafe_count_5000_price_high|max_floor', 'cafe_count_5000_price_high|cafe_sum_5000_min_price_avg', 'cafe_count_5000_price_high|sport_count_5000', 'cafe_count_5000_price_high|metro_min_avto', 'cafe_count_5000_price_high|floor', 'cafe_count_5000_price_high|prom_part_5000', 'cafe_count_5000_price_high|material', 'cafe_count_5000_price_high|cafe_count_1500', 'cafe_count_5000_price_high|office_count_3000', 'cafe_count_5000_price_high|metro_km_walk', 'cafe_count_5000_price_high|ice_rink_km', 'cafe_count_5000_price_high|kremlin_km', 'cafe_count_5000_price_high|prom_part_1500', 'cafe_count_5000_price_high|prom_part_3000', 'kitch_sq|cafe_count_3000_price_1000', 'kitch_sq|life_sq_per_room', 'kitch_sq|sport_count_3000', 'kitch_sq|cafe_count_3000', 'kitch_sq|trc_count_3000', 'kitch_sq|cafe_count_3000_price_1500', 'kitch_sq|cafe_count_2000_price_2500', 'kitch_sq|cafe_count_5000_price_1000', 'kitch_sq|cafe_count_2000_price_1500', 'kitch_sq|timestamp', 'kitch_sq|year', 'kitch_sq|cafe_count_3000_price_2500', 'kitch_sq|nuclear_reactor_km', 'kitch_sq|cafe_count_5000', 'kitch_sq|market_shop_km', 'kitch_sq|life_sq_ratio', 'kitch_sq|ttk_km', 'kitch_sq|cafe_count_5000_price_1500', 'kitch_sq|big_church_km', 'kitch_sq|office_sqm_5000', 'kitch_sq|swim_pool_km', 'kitch_sq|cafe_count_1500_price_2500', 'kitch_sq|sadovoe_km', 'kitch_sq|build_year', 'kitch_sq|floor_ratio', 'kitch_sq|max_floor', 'kitch_sq|cafe_sum_5000_min_price_avg', 'kitch_sq|sport_count_5000', 'kitch_sq|metro_min_avto', 'kitch_sq|floor', 'kitch_sq|prom_part_5000', 'kitch_sq|material', 'kitch_sq|cafe_count_1500', 'kitch_sq|office_count_3000', 'kitch_sq|metro_km_walk', 'kitch_sq|ice_rink_km', 'kitch_sq|kremlin_km', 'kitch_sq|prom_part_1500', 'kitch_sq|prom_part_3000', 'cafe_count_3000_price_1000|life_sq_per_room', 'cafe_count_3000_price_1000|sport_count_3000', 'cafe_count_3000_price_1000|cafe_count_3000', 'cafe_count_3000_price_1000|trc_count_3000', 'cafe_count_3000_price_1000|cafe_count_3000_price_1500', 'cafe_count_3000_price_1000|cafe_count_2000_price_2500', 'cafe_count_3000_price_1000|cafe_count_5000_price_1000', 'cafe_count_3000_price_1000|cafe_count_2000_price_1500', 'cafe_count_3000_price_1000|timestamp', 'cafe_count_3000_price_1000|year', 'cafe_count_3000_price_1000|cafe_count_3000_price_2500', 'cafe_count_3000_price_1000|nuclear_reactor_km', 'cafe_count_3000_price_1000|cafe_count_5000', 'cafe_count_3000_price_1000|market_shop_km', 'cafe_count_3000_price_1000|life_sq_ratio', 'cafe_count_3000_price_1000|ttk_km', 'cafe_count_3000_price_1000|cafe_count_5000_price_1500', 'cafe_count_3000_price_1000|big_church_km', 'cafe_count_3000_price_1000|office_sqm_5000', 'cafe_count_3000_price_1000|swim_pool_km', 'cafe_count_3000_price_1000|cafe_count_1500_price_2500', 'cafe_count_3000_price_1000|sadovoe_km', 'cafe_count_3000_price_1000|build_year', 'cafe_count_3000_price_1000|floor_ratio', 'cafe_count_3000_price_1000|max_floor', 'cafe_count_3000_price_1000|cafe_sum_5000_min_price_avg', 'cafe_count_3000_price_1000|sport_count_5000', 'cafe_count_3000_price_1000|metro_min_avto', 'cafe_count_3000_price_1000|floor', 'cafe_count_3000_price_1000|prom_part_5000', 'cafe_count_3000_price_1000|material', 'cafe_count_3000_price_1000|cafe_count_1500', 'cafe_count_3000_price_1000|office_count_3000', 'cafe_count_3000_price_1000|metro_km_walk', 'cafe_count_3000_price_1000|ice_rink_km', 'cafe_count_3000_price_1000|kremlin_km', 'cafe_count_3000_price_1000|prom_part_1500', 'cafe_count_3000_price_1000|prom_part_3000', 'life_sq_per_room|sport_count_3000', 'life_sq_per_room|cafe_count_3000', 'life_sq_per_room|trc_count_3000', 'life_sq_per_room|cafe_count_3000_price_1500', 'life_sq_per_room|cafe_count_2000_price_2500', 'life_sq_per_room|cafe_count_5000_price_1000', 'life_sq_per_room|cafe_count_2000_price_1500', 'life_sq_per_room|timestamp', 'life_sq_per_room|year', 'life_sq_per_room|cafe_count_3000_price_2500', 'life_sq_per_room|nuclear_reactor_km', 'life_sq_per_room|cafe_count_5000', 'life_sq_per_room|market_shop_km', 'life_sq_per_room|life_sq_ratio', 'life_sq_per_room|ttk_km', 'life_sq_per_room|cafe_count_5000_price_1500', 'life_sq_per_room|big_church_km', 'life_sq_per_room|office_sqm_5000', 'life_sq_per_room|swim_pool_km', 'life_sq_per_room|cafe_count_1500_price_2500', 'life_sq_per_room|sadovoe_km', 'life_sq_per_room|build_year', 'life_sq_per_room|floor_ratio', 'life_sq_per_room|max_floor', 'life_sq_per_room|cafe_sum_5000_min_price_avg', 'life_sq_per_room|sport_count_5000', 'life_sq_per_room|metro_min_avto', 'life_sq_per_room|floor', 'life_sq_per_room|prom_part_5000', 'life_sq_per_room|material', 'life_sq_per_room|cafe_count_1500', 'life_sq_per_room|office_count_3000', 'life_sq_per_room|metro_km_walk', 'life_sq_per_room|ice_rink_km', 'life_sq_per_room|kremlin_km', 'life_sq_per_room|prom_part_1500', 'life_sq_per_room|prom_part_3000', 'sport_count_3000|cafe_count_3000', 'sport_count_3000|trc_count_3000', 'sport_count_3000|cafe_count_3000_price_1500', 'sport_count_3000|cafe_count_2000_price_2500', 'sport_count_3000|cafe_count_5000_price_1000', 'sport_count_3000|cafe_count_2000_price_1500', 'sport_count_3000|timestamp', 'sport_count_3000|year', 'sport_count_3000|cafe_count_3000_price_2500', 'sport_count_3000|nuclear_reactor_km', 'sport_count_3000|cafe_count_5000', 'sport_count_3000|market_shop_km', 'sport_count_3000|life_sq_ratio', 'sport_count_3000|ttk_km', 'sport_count_3000|cafe_count_5000_price_1500', 'sport_count_3000|big_church_km', 'sport_count_3000|office_sqm_5000', 'sport_count_3000|swim_pool_km', 'sport_count_3000|cafe_count_1500_price_2500', 'sport_count_3000|sadovoe_km', 'sport_count_3000|build_year', 'sport_count_3000|floor_ratio', 'sport_count_3000|max_floor', 'sport_count_3000|cafe_sum_5000_min_price_avg', 'sport_count_3000|sport_count_5000', 'sport_count_3000|metro_min_avto', 'sport_count_3000|floor', 'sport_count_3000|prom_part_5000', 'sport_count_3000|material', 'sport_count_3000|cafe_count_1500', 'sport_count_3000|office_count_3000', 'sport_count_3000|metro_km_walk', 'sport_count_3000|ice_rink_km', 'sport_count_3000|kremlin_km', 'sport_count_3000|prom_part_1500', 'sport_count_3000|prom_part_3000', 'cafe_count_3000|trc_count_3000', 'cafe_count_3000|cafe_count_3000_price_1500', 'cafe_count_3000|cafe_count_2000_price_2500', 'cafe_count_3000|cafe_count_5000_price_1000', 'cafe_count_3000|cafe_count_2000_price_1500', 'cafe_count_3000|timestamp', 'cafe_count_3000|year', 'cafe_count_3000|cafe_count_3000_price_2500', 'cafe_count_3000|nuclear_reactor_km', 'cafe_count_3000|cafe_count_5000', 'cafe_count_3000|market_shop_km', 'cafe_count_3000|life_sq_ratio', 'cafe_count_3000|ttk_km', 'cafe_count_3000|cafe_count_5000_price_1500', 'cafe_count_3000|big_church_km', 'cafe_count_3000|office_sqm_5000', 'cafe_count_3000|swim_pool_km', 'cafe_count_3000|cafe_count_1500_price_2500', 'cafe_count_3000|sadovoe_km', 'cafe_count_3000|build_year', 'cafe_count_3000|floor_ratio', 'cafe_count_3000|max_floor', 'cafe_count_3000|cafe_sum_5000_min_price_avg', 'cafe_count_3000|sport_count_5000', 'cafe_count_3000|metro_min_avto', 'cafe_count_3000|floor', 'cafe_count_3000|prom_part_5000', 'cafe_count_3000|material', 'cafe_count_3000|cafe_count_1500', 'cafe_count_3000|office_count_3000', 'cafe_count_3000|metro_km_walk', 'cafe_count_3000|ice_rink_km', 'cafe_count_3000|kremlin_km', 'cafe_count_3000|prom_part_1500', 'cafe_count_3000|prom_part_3000', 'trc_count_3000|cafe_count_3000_price_1500', 'trc_count_3000|cafe_count_2000_price_2500', 'trc_count_3000|cafe_count_5000_price_1000', 'trc_count_3000|cafe_count_2000_price_1500', 'trc_count_3000|timestamp', 'trc_count_3000|year', 'trc_count_3000|cafe_count_3000_price_2500', 'trc_count_3000|nuclear_reactor_km', 'trc_count_3000|cafe_count_5000', 'trc_count_3000|market_shop_km', 'trc_count_3000|life_sq_ratio', 'trc_count_3000|ttk_km', 'trc_count_3000|cafe_count_5000_price_1500', 'trc_count_3000|big_church_km', 'trc_count_3000|office_sqm_5000', 'trc_count_3000|swim_pool_km', 'trc_count_3000|cafe_count_1500_price_2500', 'trc_count_3000|sadovoe_km', 'trc_count_3000|build_year', 'trc_count_3000|floor_ratio', 'trc_count_3000|max_floor', 'trc_count_3000|cafe_sum_5000_min_price_avg', 'trc_count_3000|sport_count_5000', 'trc_count_3000|metro_min_avto', 'trc_count_3000|floor', 'trc_count_3000|prom_part_5000', 'trc_count_3000|material', 'trc_count_3000|cafe_count_1500', 'trc_count_3000|office_count_3000', 'trc_count_3000|metro_km_walk', 'trc_count_3000|ice_rink_km', 'trc_count_3000|kremlin_km', 'trc_count_3000|prom_part_1500', 'trc_count_3000|prom_part_3000', 'cafe_count_3000_price_1500|cafe_count_2000_price_2500', 'cafe_count_3000_price_1500|cafe_count_5000_price_1000', 'cafe_count_3000_price_1500|cafe_count_2000_price_1500', 'cafe_count_3000_price_1500|timestamp', 'cafe_count_3000_price_1500|year', 'cafe_count_3000_price_1500|cafe_count_3000_price_2500', 'cafe_count_3000_price_1500|nuclear_reactor_km', 'cafe_count_3000_price_1500|cafe_count_5000', 'cafe_count_3000_price_1500|market_shop_km', 'cafe_count_3000_price_1500|life_sq_ratio', 'cafe_count_3000_price_1500|ttk_km', 'cafe_count_3000_price_1500|cafe_count_5000_price_1500', 'cafe_count_3000_price_1500|big_church_km', 'cafe_count_3000_price_1500|office_sqm_5000', 'cafe_count_3000_price_1500|swim_pool_km', 'cafe_count_3000_price_1500|cafe_count_1500_price_2500', 'cafe_count_3000_price_1500|sadovoe_km', 'cafe_count_3000_price_1500|build_year', 'cafe_count_3000_price_1500|floor_ratio', 'cafe_count_3000_price_1500|max_floor', 'cafe_count_3000_price_1500|cafe_sum_5000_min_price_avg', 'cafe_count_3000_price_1500|sport_count_5000', 'cafe_count_3000_price_1500|metro_min_avto', 'cafe_count_3000_price_1500|floor', 'cafe_count_3000_price_1500|prom_part_5000', 'cafe_count_3000_price_1500|material', 'cafe_count_3000_price_1500|cafe_count_1500', 'cafe_count_3000_price_1500|office_count_3000', 'cafe_count_3000_price_1500|metro_km_walk', 'cafe_count_3000_price_1500|ice_rink_km', 'cafe_count_3000_price_1500|kremlin_km', 'cafe_count_3000_price_1500|prom_part_1500', 'cafe_count_3000_price_1500|prom_part_3000', 'cafe_count_2000_price_2500|cafe_count_5000_price_1000', 'cafe_count_2000_price_2500|cafe_count_2000_price_1500', 'cafe_count_2000_price_2500|timestamp', 'cafe_count_2000_price_2500|year', 'cafe_count_2000_price_2500|cafe_count_3000_price_2500', 'cafe_count_2000_price_2500|nuclear_reactor_km', 'cafe_count_2000_price_2500|cafe_count_5000', 'cafe_count_2000_price_2500|market_shop_km', 'cafe_count_2000_price_2500|life_sq_ratio', 'cafe_count_2000_price_2500|ttk_km', 'cafe_count_2000_price_2500|cafe_count_5000_price_1500', 'cafe_count_2000_price_2500|big_church_km', 'cafe_count_2000_price_2500|office_sqm_5000', 'cafe_count_2000_price_2500|swim_pool_km', 'cafe_count_2000_price_2500|cafe_count_1500_price_2500', 'cafe_count_2000_price_2500|sadovoe_km', 'cafe_count_2000_price_2500|build_year', 'cafe_count_2000_price_2500|floor_ratio', 'cafe_count_2000_price_2500|max_floor', 'cafe_count_2000_price_2500|cafe_sum_5000_min_price_avg', 'cafe_count_2000_price_2500|sport_count_5000', 'cafe_count_2000_price_2500|metro_min_avto', 'cafe_count_2000_price_2500|floor', 'cafe_count_2000_price_2500|prom_part_5000', 'cafe_count_2000_price_2500|material', 'cafe_count_2000_price_2500|cafe_count_1500', 'cafe_count_2000_price_2500|office_count_3000', 'cafe_count_2000_price_2500|metro_km_walk', 'cafe_count_2000_price_2500|ice_rink_km', 'cafe_count_2000_price_2500|kremlin_km', 'cafe_count_2000_price_2500|prom_part_1500', 'cafe_count_2000_price_2500|prom_part_3000', 'cafe_count_5000_price_1000|cafe_count_2000_price_1500', 'cafe_count_5000_price_1000|timestamp', 'cafe_count_5000_price_1000|year', 'cafe_count_5000_price_1000|cafe_count_3000_price_2500', 'cafe_count_5000_price_1000|nuclear_reactor_km', 'cafe_count_5000_price_1000|cafe_count_5000', 'cafe_count_5000_price_1000|market_shop_km', 'cafe_count_5000_price_1000|life_sq_ratio', 'cafe_count_5000_price_1000|ttk_km', 'cafe_count_5000_price_1000|cafe_count_5000_price_1500', 'cafe_count_5000_price_1000|big_church_km', 'cafe_count_5000_price_1000|office_sqm_5000', 'cafe_count_5000_price_1000|swim_pool_km', 'cafe_count_5000_price_1000|cafe_count_1500_price_2500', 'cafe_count_5000_price_1000|sadovoe_km', 'cafe_count_5000_price_1000|build_year', 'cafe_count_5000_price_1000|floor_ratio', 'cafe_count_5000_price_1000|max_floor', 'cafe_count_5000_price_1000|cafe_sum_5000_min_price_avg', 'cafe_count_5000_price_1000|sport_count_5000', 'cafe_count_5000_price_1000|metro_min_avto', 'cafe_count_5000_price_1000|floor', 'cafe_count_5000_price_1000|prom_part_5000', 'cafe_count_5000_price_1000|material', 'cafe_count_5000_price_1000|cafe_count_1500', 'cafe_count_5000_price_1000|office_count_3000', 'cafe_count_5000_price_1000|metro_km_walk', 'cafe_count_5000_price_1000|ice_rink_km', 'cafe_count_5000_price_1000|kremlin_km', 'cafe_count_5000_price_1000|prom_part_1500', 'cafe_count_5000_price_1000|prom_part_3000', 'cafe_count_2000_price_1500|timestamp', 'cafe_count_2000_price_1500|year', 'cafe_count_2000_price_1500|cafe_count_3000_price_2500', 'cafe_count_2000_price_1500|nuclear_reactor_km', 'cafe_count_2000_price_1500|cafe_count_5000', 'cafe_count_2000_price_1500|market_shop_km', 'cafe_count_2000_price_1500|life_sq_ratio', 'cafe_count_2000_price_1500|ttk_km', 'cafe_count_2000_price_1500|cafe_count_5000_price_1500', 'cafe_count_2000_price_1500|big_church_km', 'cafe_count_2000_price_1500|office_sqm_5000', 'cafe_count_2000_price_1500|swim_pool_km', 'cafe_count_2000_price_1500|cafe_count_1500_price_2500', 'cafe_count_2000_price_1500|sadovoe_km', 'cafe_count_2000_price_1500|build_year', 'cafe_count_2000_price_1500|floor_ratio', 'cafe_count_2000_price_1500|max_floor', 'cafe_count_2000_price_1500|cafe_sum_5000_min_price_avg', 'cafe_count_2000_price_1500|sport_count_5000', 'cafe_count_2000_price_1500|metro_min_avto', 'cafe_count_2000_price_1500|floor', 'cafe_count_2000_price_1500|prom_part_5000', 'cafe_count_2000_price_1500|material', 'cafe_count_2000_price_1500|cafe_count_1500', 'cafe_count_2000_price_1500|office_count_3000', 'cafe_count_2000_price_1500|metro_km_walk', 'cafe_count_2000_price_1500|ice_rink_km', 'cafe_count_2000_price_1500|kremlin_km', 'cafe_count_2000_price_1500|prom_part_1500', 'cafe_count_2000_price_1500|prom_part_3000', 'timestamp|year', 'timestamp|cafe_count_3000_price_2500', 'timestamp|nuclear_reactor_km', 'timestamp|cafe_count_5000', 'timestamp|market_shop_km', 'timestamp|life_sq_ratio', 'timestamp|ttk_km', 'timestamp|cafe_count_5000_price_1500', 'timestamp|big_church_km', 'timestamp|office_sqm_5000', 'timestamp|swim_pool_km', 'timestamp|cafe_count_1500_price_2500', 'timestamp|sadovoe_km', 'timestamp|build_year', 'timestamp|floor_ratio', 'timestamp|max_floor', 'timestamp|cafe_sum_5000_min_price_avg', 'timestamp|sport_count_5000', 'timestamp|metro_min_avto', 'timestamp|floor', 'timestamp|prom_part_5000', 'timestamp|material', 'timestamp|cafe_count_1500', 'timestamp|office_count_3000', 'timestamp|metro_km_walk', 'timestamp|ice_rink_km', 'timestamp|kremlin_km', 'timestamp|prom_part_1500', 'timestamp|prom_part_3000', 'year|cafe_count_3000_price_2500', 'year|nuclear_reactor_km', 'year|cafe_count_5000', 'year|market_shop_km', 'year|life_sq_ratio', 'year|ttk_km', 'year|cafe_count_5000_price_1500', 'year|big_church_km', 'year|office_sqm_5000', 'year|swim_pool_km', 'year|cafe_count_1500_price_2500', 'year|sadovoe_km', 'year|build_year', 'year|floor_ratio', 'year|max_floor', 'year|cafe_sum_5000_min_price_avg', 'year|sport_count_5000', 'year|metro_min_avto', 'year|floor', 'year|prom_part_5000', 'year|material', 'year|cafe_count_1500', 'year|office_count_3000', 'year|metro_km_walk', 'year|ice_rink_km', 'year|kremlin_km', 'year|prom_part_1500', 'year|prom_part_3000', 'cafe_count_3000_price_2500|nuclear_reactor_km', 'cafe_count_3000_price_2500|cafe_count_5000', 'cafe_count_3000_price_2500|market_shop_km', 'cafe_count_3000_price_2500|life_sq_ratio', 'cafe_count_3000_price_2500|ttk_km', 'cafe_count_3000_price_2500|cafe_count_5000_price_1500', 'cafe_count_3000_price_2500|big_church_km', 'cafe_count_3000_price_2500|office_sqm_5000', 'cafe_count_3000_price_2500|swim_pool_km', 'cafe_count_3000_price_2500|cafe_count_1500_price_2500', 'cafe_count_3000_price_2500|sadovoe_km', 'cafe_count_3000_price_2500|build_year', 'cafe_count_3000_price_2500|floor_ratio', 'cafe_count_3000_price_2500|max_floor', 'cafe_count_3000_price_2500|cafe_sum_5000_min_price_avg', 'cafe_count_3000_price_2500|sport_count_5000', 'cafe_count_3000_price_2500|metro_min_avto', 'cafe_count_3000_price_2500|floor', 'cafe_count_3000_price_2500|prom_part_5000', 'cafe_count_3000_price_2500|material', 'cafe_count_3000_price_2500|cafe_count_1500', 'cafe_count_3000_price_2500|office_count_3000', 'cafe_count_3000_price_2500|metro_km_walk', 'cafe_count_3000_price_2500|ice_rink_km', 'cafe_count_3000_price_2500|kremlin_km', 'cafe_count_3000_price_2500|prom_part_1500', 'cafe_count_3000_price_2500|prom_part_3000', 'nuclear_reactor_km|cafe_count_5000', 'nuclear_reactor_km|market_shop_km', 'nuclear_reactor_km|life_sq_ratio', 'nuclear_reactor_km|ttk_km', 'nuclear_reactor_km|cafe_count_5000_price_1500', 'nuclear_reactor_km|big_church_km', 'nuclear_reactor_km|office_sqm_5000', 'nuclear_reactor_km|swim_pool_km', 'nuclear_reactor_km|cafe_count_1500_price_2500', 'nuclear_reactor_km|sadovoe_km', 'nuclear_reactor_km|build_year', 'nuclear_reactor_km|floor_ratio', 'nuclear_reactor_km|max_floor', 'nuclear_reactor_km|cafe_sum_5000_min_price_avg', 'nuclear_reactor_km|sport_count_5000', 'nuclear_reactor_km|metro_min_avto', 'nuclear_reactor_km|floor', 'nuclear_reactor_km|prom_part_5000', 'nuclear_reactor_km|material', 'nuclear_reactor_km|cafe_count_1500', 'nuclear_reactor_km|office_count_3000', 'nuclear_reactor_km|metro_km_walk', 'nuclear_reactor_km|ice_rink_km', 'nuclear_reactor_km|kremlin_km', 'nuclear_reactor_km|prom_part_1500', 'nuclear_reactor_km|prom_part_3000', 'cafe_count_5000|market_shop_km', 'cafe_count_5000|life_sq_ratio', 'cafe_count_5000|ttk_km', 'cafe_count_5000|cafe_count_5000_price_1500', 'cafe_count_5000|big_church_km', 'cafe_count_5000|office_sqm_5000', 'cafe_count_5000|swim_pool_km', 'cafe_count_5000|cafe_count_1500_price_2500', 'cafe_count_5000|sadovoe_km', 'cafe_count_5000|build_year', 'cafe_count_5000|floor_ratio', 'cafe_count_5000|max_floor', 'cafe_count_5000|cafe_sum_5000_min_price_avg', 'cafe_count_5000|sport_count_5000', 'cafe_count_5000|metro_min_avto', 'cafe_count_5000|floor', 'cafe_count_5000|prom_part_5000', 'cafe_count_5000|material', 'cafe_count_5000|cafe_count_1500', 'cafe_count_5000|office_count_3000', 'cafe_count_5000|metro_km_walk', 'cafe_count_5000|ice_rink_km', 'cafe_count_5000|kremlin_km', 'cafe_count_5000|prom_part_1500', 'cafe_count_5000|prom_part_3000', 'market_shop_km|life_sq_ratio', 'market_shop_km|ttk_km', 'market_shop_km|cafe_count_5000_price_1500', 'market_shop_km|big_church_km', 'market_shop_km|office_sqm_5000', 'market_shop_km|swim_pool_km', 'market_shop_km|cafe_count_1500_price_2500', 'market_shop_km|sadovoe_km', 'market_shop_km|build_year', 'market_shop_km|floor_ratio', 'market_shop_km|max_floor', 'market_shop_km|cafe_sum_5000_min_price_avg', 'market_shop_km|sport_count_5000', 'market_shop_km|metro_min_avto', 'market_shop_km|floor', 'market_shop_km|prom_part_5000', 'market_shop_km|material', 'market_shop_km|cafe_count_1500', 'market_shop_km|office_count_3000', 'market_shop_km|metro_km_walk', 'market_shop_km|ice_rink_km', 'market_shop_km|kremlin_km', 'market_shop_km|prom_part_1500', 'market_shop_km|prom_part_3000', 'life_sq_ratio|ttk_km', 'life_sq_ratio|cafe_count_5000_price_1500', 'life_sq_ratio|big_church_km', 'life_sq_ratio|office_sqm_5000', 'life_sq_ratio|swim_pool_km', 'life_sq_ratio|cafe_count_1500_price_2500', 'life_sq_ratio|sadovoe_km', 'life_sq_ratio|build_year', 'life_sq_ratio|floor_ratio', 'life_sq_ratio|max_floor', 'life_sq_ratio|cafe_sum_5000_min_price_avg', 'life_sq_ratio|sport_count_5000', 'life_sq_ratio|metro_min_avto', 'life_sq_ratio|floor', 'life_sq_ratio|prom_part_5000', 'life_sq_ratio|material', 'life_sq_ratio|cafe_count_1500', 'life_sq_ratio|office_count_3000', 'life_sq_ratio|metro_km_walk', 'life_sq_ratio|ice_rink_km', 'life_sq_ratio|kremlin_km', 'life_sq_ratio|prom_part_1500', 'life_sq_ratio|prom_part_3000', 'ttk_km|cafe_count_5000_price_1500', 'ttk_km|big_church_km', 'ttk_km|office_sqm_5000', 'ttk_km|swim_pool_km', 'ttk_km|cafe_count_1500_price_2500', 'ttk_km|sadovoe_km', 'ttk_km|build_year', 'ttk_km|floor_ratio', 'ttk_km|max_floor', 'ttk_km|cafe_sum_5000_min_price_avg', 'ttk_km|sport_count_5000', 'ttk_km|metro_min_avto', 'ttk_km|floor', 'ttk_km|prom_part_5000', 'ttk_km|material', 'ttk_km|cafe_count_1500', 'ttk_km|office_count_3000', 'ttk_km|metro_km_walk', 'ttk_km|ice_rink_km', 'ttk_km|kremlin_km', 'ttk_km|prom_part_1500', 'ttk_km|prom_part_3000', 'cafe_count_5000_price_1500|big_church_km', 'cafe_count_5000_price_1500|office_sqm_5000', 'cafe_count_5000_price_1500|swim_pool_km', 'cafe_count_5000_price_1500|cafe_count_1500_price_2500', 'cafe_count_5000_price_1500|sadovoe_km', 'cafe_count_5000_price_1500|build_year', 'cafe_count_5000_price_1500|floor_ratio', 'cafe_count_5000_price_1500|max_floor', 'cafe_count_5000_price_1500|cafe_sum_5000_min_price_avg', 'cafe_count_5000_price_1500|sport_count_5000', 'cafe_count_5000_price_1500|metro_min_avto', 'cafe_count_5000_price_1500|floor', 'cafe_count_5000_price_1500|prom_part_5000', 'cafe_count_5000_price_1500|material', 'cafe_count_5000_price_1500|cafe_count_1500', 'cafe_count_5000_price_1500|office_count_3000', 'cafe_count_5000_price_1500|metro_km_walk', 'cafe_count_5000_price_1500|ice_rink_km', 'cafe_count_5000_price_1500|kremlin_km', 'cafe_count_5000_price_1500|prom_part_1500', 'cafe_count_5000_price_1500|prom_part_3000', 'big_church_km|office_sqm_5000', 'big_church_km|swim_pool_km', 'big_church_km|cafe_count_1500_price_2500', 'big_church_km|sadovoe_km', 'big_church_km|build_year', 'big_church_km|floor_ratio', 'big_church_km|max_floor', 'big_church_km|cafe_sum_5000_min_price_avg', 'big_church_km|sport_count_5000', 'big_church_km|metro_min_avto', 'big_church_km|floor', 'big_church_km|prom_part_5000', 'big_church_km|material', 'big_church_km|cafe_count_1500', 'big_church_km|office_count_3000', 'big_church_km|metro_km_walk', 'big_church_km|ice_rink_km', 'big_church_km|kremlin_km', 'big_church_km|prom_part_1500', 'big_church_km|prom_part_3000', 'office_sqm_5000|swim_pool_km', 'office_sqm_5000|cafe_count_1500_price_2500', 'office_sqm_5000|sadovoe_km', 'office_sqm_5000|build_year', 'office_sqm_5000|floor_ratio', 'office_sqm_5000|max_floor', 'office_sqm_5000|cafe_sum_5000_min_price_avg', 'office_sqm_5000|sport_count_5000', 'office_sqm_5000|metro_min_avto', 'office_sqm_5000|floor', 'office_sqm_5000|prom_part_5000', 'office_sqm_5000|material', 'office_sqm_5000|cafe_count_1500', 'office_sqm_5000|office_count_3000', 'office_sqm_5000|metro_km_walk', 'office_sqm_5000|ice_rink_km', 'office_sqm_5000|kremlin_km', 'office_sqm_5000|prom_part_1500', 'office_sqm_5000|prom_part_3000', 'swim_pool_km|cafe_count_1500_price_2500', 'swim_pool_km|sadovoe_km', 'swim_pool_km|build_year', 'swim_pool_km|floor_ratio', 'swim_pool_km|max_floor', 'swim_pool_km|cafe_sum_5000_min_price_avg', 'swim_pool_km|sport_count_5000', 'swim_pool_km|metro_min_avto', 'swim_pool_km|floor', 'swim_pool_km|prom_part_5000', 'swim_pool_km|material', 'swim_pool_km|cafe_count_1500', 'swim_pool_km|office_count_3000', 'swim_pool_km|metro_km_walk', 'swim_pool_km|ice_rink_km', 'swim_pool_km|kremlin_km', 'swim_pool_km|prom_part_1500', 'swim_pool_km|prom_part_3000', 'cafe_count_1500_price_2500|sadovoe_km', 'cafe_count_1500_price_2500|build_year', 'cafe_count_1500_price_2500|floor_ratio', 'cafe_count_1500_price_2500|max_floor', 'cafe_count_1500_price_2500|cafe_sum_5000_min_price_avg', 'cafe_count_1500_price_2500|sport_count_5000', 'cafe_count_1500_price_2500|metro_min_avto', 'cafe_count_1500_price_2500|floor', 'cafe_count_1500_price_2500|prom_part_5000', 'cafe_count_1500_price_2500|material', 'cafe_count_1500_price_2500|cafe_count_1500', 'cafe_count_1500_price_2500|office_count_3000', 'cafe_count_1500_price_2500|metro_km_walk', 'cafe_count_1500_price_2500|ice_rink_km', 'cafe_count_1500_price_2500|kremlin_km', 'cafe_count_1500_price_2500|prom_part_1500', 'cafe_count_1500_price_2500|prom_part_3000', 'sadovoe_km|build_year', 'sadovoe_km|floor_ratio', 'sadovoe_km|max_floor', 'sadovoe_km|cafe_sum_5000_min_price_avg', 'sadovoe_km|sport_count_5000', 'sadovoe_km|metro_min_avto', 'sadovoe_km|floor', 'sadovoe_km|prom_part_5000', 'sadovoe_km|material', 'sadovoe_km|cafe_count_1500', 'sadovoe_km|office_count_3000', 'sadovoe_km|metro_km_walk', 'sadovoe_km|ice_rink_km', 'sadovoe_km|kremlin_km', 'sadovoe_km|prom_part_1500', 'sadovoe_km|prom_part_3000', 'build_year|floor_ratio', 'build_year|max_floor', 'build_year|cafe_sum_5000_min_price_avg', 'build_year|sport_count_5000', 'build_year|metro_min_avto', 'build_year|floor', 'build_year|prom_part_5000', 'build_year|material', 'build_year|cafe_count_1500', 'build_year|office_count_3000', 'build_year|metro_km_walk', 'build_year|ice_rink_km', 'build_year|kremlin_km', 'build_year|prom_part_1500', 'build_year|prom_part_3000', 'floor_ratio|max_floor', 'floor_ratio|cafe_sum_5000_min_price_avg', 'floor_ratio|sport_count_5000', 'floor_ratio|metro_min_avto', 'floor_ratio|floor', 'floor_ratio|prom_part_5000', 'floor_ratio|material', 'floor_ratio|cafe_count_1500', 'floor_ratio|office_count_3000', 'floor_ratio|metro_km_walk', 'floor_ratio|ice_rink_km', 'floor_ratio|kremlin_km', 'floor_ratio|prom_part_1500', 'floor_ratio|prom_part_3000', 'max_floor|cafe_sum_5000_min_price_avg', 'max_floor|sport_count_5000', 'max_floor|metro_min_avto', 'max_floor|floor', 'max_floor|prom_part_5000', 'max_floor|material', 'max_floor|cafe_count_1500', 'max_floor|office_count_3000', 'max_floor|metro_km_walk', 'max_floor|ice_rink_km', 'max_floor|kremlin_km', 'max_floor|prom_part_1500', 'max_floor|prom_part_3000', 'cafe_sum_5000_min_price_avg|sport_count_5000', 'cafe_sum_5000_min_price_avg|metro_min_avto', 'cafe_sum_5000_min_price_avg|floor', 'cafe_sum_5000_min_price_avg|prom_part_5000', 'cafe_sum_5000_min_price_avg|material', 'cafe_sum_5000_min_price_avg|cafe_count_1500', 'cafe_sum_5000_min_price_avg|office_count_3000', 'cafe_sum_5000_min_price_avg|metro_km_walk', 'cafe_sum_5000_min_price_avg|ice_rink_km', 'cafe_sum_5000_min_price_avg|kremlin_km', 'cafe_sum_5000_min_price_avg|prom_part_1500', 'cafe_sum_5000_min_price_avg|prom_part_3000', 'sport_count_5000|metro_min_avto', 'sport_count_5000|floor', 'sport_count_5000|prom_part_5000', 'sport_count_5000|material', 'sport_count_5000|cafe_count_1500', 'sport_count_5000|office_count_3000', 'sport_count_5000|metro_km_walk', 'sport_count_5000|ice_rink_km', 'sport_count_5000|kremlin_km', 'sport_count_5000|prom_part_1500', 'sport_count_5000|prom_part_3000', 'metro_min_avto|floor', 'metro_min_avto|prom_part_5000', 'metro_min_avto|material', 'metro_min_avto|cafe_count_1500', 'metro_min_avto|office_count_3000', 'metro_min_avto|metro_km_walk', 'metro_min_avto|ice_rink_km', 'metro_min_avto|kremlin_km', 'metro_min_avto|prom_part_1500', 'metro_min_avto|prom_part_3000', 'floor|prom_part_5000', 'floor|material', 'floor|cafe_count_1500', 'floor|office_count_3000', 'floor|metro_km_walk', 'floor|ice_rink_km', 'floor|kremlin_km', 'floor|prom_part_1500', 'floor|prom_part_3000', 'prom_part_5000|material', 'prom_part_5000|cafe_count_1500', 'prom_part_5000|office_count_3000', 'prom_part_5000|metro_km_walk', 'prom_part_5000|ice_rink_km', 'prom_part_5000|kremlin_km', 'prom_part_5000|prom_part_1500', 'prom_part_5000|prom_part_3000', 'material|cafe_count_1500', 'material|office_count_3000', 'material|metro_km_walk', 'material|ice_rink_km', 'material|kremlin_km', 'material|prom_part_1500', 'material|prom_part_3000', 'cafe_count_1500|office_count_3000', 'cafe_count_1500|metro_km_walk', 'cafe_count_1500|ice_rink_km', 'cafe_count_1500|kremlin_km', 'cafe_count_1500|prom_part_1500', 'cafe_count_1500|prom_part_3000', 'office_count_3000|metro_km_walk', 'office_count_3000|ice_rink_km', 'office_count_3000|kremlin_km', 'office_count_3000|prom_part_1500', 'office_count_3000|prom_part_3000', 'metro_km_walk|ice_rink_km', 'metro_km_walk|kremlin_km', 'metro_km_walk|prom_part_1500', 'metro_km_walk|prom_part_3000', 'ice_rink_km|kremlin_km', 'ice_rink_km|prom_part_1500', 'ice_rink_km|prom_part_3000', 'kremlin_km|prom_part_1500', 'kremlin_km|prom_part_3000', 'prom_part_1500|prom_part_3000']\n",
      "\n",
      "Categorical = ['product_type', 'sub_area', 'culture_objects_top_25', 'thermal_power_plant_raion', 'incineration_raion', 'oil_chemistry_raion', 'radiation_raion', 'railroad_terminal_raion', 'big_market_raion', 'nuclear_reactor_raion', 'detention_facility_raion', 'water_1line', 'big_road1_1line', 'railroad_1line', 'ecology']\n"
     ]
    }
   ],
   "source": [
    "encoded_combined_nums, cats = get_type_lists(frame=train)"
   ]
  },
  {
   "cell_type": "code",
   "execution_count": 2,
   "metadata": {
    "collapsed": true
   },
   "outputs": [],
   "source": [
    "# load the model\n",
    "rf_model1 = h2o.load_model(\"/Users/zwang/GWU/Kaggle/Housing_Mkt/mymodel/rf_model\")\n",
    "ert_model1 = h2o.load_model(\"/Users/zwang/GWU/Kaggle/Housing_Mkt/mymodel/ert_model\")\n",
    "h2o_gbm_model = h2o.load_model(\"/Users/zwang/GWU/Kaggle/Housing_Mkt/mymodel/gbm_model\")\n",
    "h2o_xgb_model2 = h2o.load_model(\"/Users/zwang/GWU/Kaggle/Housing_Mkt/mymodel2/xgb_model\")"
   ]
  },
  {
   "cell_type": "code",
   "execution_count": 7,
   "metadata": {
    "collapsed": false
   },
   "outputs": [],
   "source": [
    "h2o_gbm_preds1_val = h2o_gbm_model.predict(valid)\n",
    "#ranked_preds_plot('price_doc', valid, h2o_gbm_preds1_val) # better validation error\n",
    "h2o_gbm_preds1_test = h2o_gbm_model.predict(test)\n",
    "#gen_submission(h2o_gbm_preds1_test) "
   ]
  },
  {
   "cell_type": "code",
   "execution_count": null,
   "metadata": {
    "collapsed": false
   },
   "outputs": [],
   "source": [
    "h2o_xgb_preds1_val = h2o_xgb_model2.predict(valid)\n",
    "#ranked_preds_plot('price_doc', valid, h2o_xgb_preds1_val) \n",
    "h2o_xgb_preds1_test = h2o_xgb_model2.predict(test)"
   ]
  },
  {
   "cell_type": "code",
   "execution_count": 10,
   "metadata": {
    "collapsed": false
   },
   "outputs": [
    {
     "name": "stdout",
     "output_type": "stream",
     "text": [
      "Model Details\n",
      "=============\n",
      "H2OXGBoostEstimator :  XGBoost\n",
      "Model Key:  xgb_model\n",
      "\n",
      "\n",
      "ModelMetricsRegression: xgboost\n",
      "** Reported on train data. **\n",
      "\n",
      "MSE: 0.17082965950658358\n",
      "RMSE: 0.4133154479408961\n",
      "MAE: 0.2560182644660886\n",
      "RMSLE: 0.02581061323124867\n",
      "Mean Residual Deviance: 0.17082965950658358\n",
      "\n",
      "ModelMetricsRegression: xgboost\n",
      "** Reported on validation data. **\n",
      "\n",
      "MSE: 0.2294047270806207\n",
      "RMSE: 0.4789621353307803\n",
      "MAE: 0.2913241175442258\n",
      "RMSLE: 0.02990711007249716\n",
      "Mean Residual Deviance: 0.2294047270806207\n",
      "\n",
      "ModelMetricsRegression: xgboost\n",
      "** Reported on cross-validation data. **\n",
      "\n",
      "MSE: 0.20825891241159095\n",
      "RMSE: 0.4563539332706479\n",
      "MAE: 0.27696183671539987\n",
      "RMSLE: 0.028395965473060815\n",
      "Mean Residual Deviance: 0.20825891241159095\n",
      "Cross-Validation Metrics Summary: \n"
     ]
    },
    {
     "data": {
      "text/html": [
       "<div style=\"overflow:auto\"><table style=\"width:50%\"><tr><td><b></b></td>\n",
       "<td><b>mean</b></td>\n",
       "<td><b>sd</b></td>\n",
       "<td><b>cv_1_valid</b></td>\n",
       "<td><b>cv_2_valid</b></td>\n",
       "<td><b>cv_3_valid</b></td></tr>\n",
       "<tr><td>mae</td>\n",
       "<td>0.2769603</td>\n",
       "<td>0.0026734</td>\n",
       "<td>0.2735995</td>\n",
       "<td>0.2822422</td>\n",
       "<td>0.2750393</td></tr>\n",
       "<tr><td>mean_residual_deviance</td>\n",
       "<td>0.2082630</td>\n",
       "<td>0.0047922</td>\n",
       "<td>0.2007122</td>\n",
       "<td>0.2171505</td>\n",
       "<td>0.2069262</td></tr>\n",
       "<tr><td>mse</td>\n",
       "<td>0.2082630</td>\n",
       "<td>0.0047922</td>\n",
       "<td>0.2007122</td>\n",
       "<td>0.2171505</td>\n",
       "<td>0.2069262</td></tr>\n",
       "<tr><td>r2</td>\n",
       "<td>0.4236124</td>\n",
       "<td>0.0088802</td>\n",
       "<td>0.4413559</td>\n",
       "<td>0.4154126</td>\n",
       "<td>0.4140687</td></tr>\n",
       "<tr><td>residual_deviance</td>\n",
       "<td>0.2082630</td>\n",
       "<td>0.0047922</td>\n",
       "<td>0.2007122</td>\n",
       "<td>0.2171505</td>\n",
       "<td>0.2069262</td></tr>\n",
       "<tr><td>rmse</td>\n",
       "<td>0.4562982</td>\n",
       "<td>0.0052392</td>\n",
       "<td>0.4480091</td>\n",
       "<td>0.4659941</td>\n",
       "<td>0.4548914</td></tr>\n",
       "<tr><td>rmsle</td>\n",
       "<td>0.0283922</td>\n",
       "<td>0.0003390</td>\n",
       "<td>0.0278599</td>\n",
       "<td>0.0290221</td>\n",
       "<td>0.0282945</td></tr></table></div>"
      ],
      "text/plain": [
       "                        mean       sd           cv_1_valid    cv_2_valid    cv_3_valid\n",
       "----------------------  ---------  -----------  ------------  ------------  ------------\n",
       "mae                     0.27696    0.00267343   0.273599      0.282242      0.275039\n",
       "mean_residual_deviance  0.208263   0.00479217   0.200712      0.21715       0.206926\n",
       "mse                     0.208263   0.00479217   0.200712      0.21715       0.206926\n",
       "r2                      0.423612   0.00888024   0.441356      0.415413      0.414069\n",
       "residual_deviance       0.208263   0.00479217   0.200712      0.21715       0.206926\n",
       "rmse                    0.456298   0.00523924   0.448009      0.465994      0.454891\n",
       "rmsle                   0.0283922  0.000339036  0.0278599     0.0290221     0.0282945"
      ]
     },
     "metadata": {},
     "output_type": "display_data"
    },
    {
     "name": "stdout",
     "output_type": "stream",
     "text": [
      "Scoring History: \n"
     ]
    },
    {
     "data": {
      "text/html": [
       "<div style=\"overflow:auto\"><table style=\"width:50%\"><tr><td><b></b></td>\n",
       "<td><b>timestamp</b></td>\n",
       "<td><b>duration</b></td>\n",
       "<td><b>number_of_trees</b></td>\n",
       "<td><b>training_rmse</b></td>\n",
       "<td><b>training_mae</b></td>\n",
       "<td><b>training_deviance</b></td>\n",
       "<td><b>validation_rmse</b></td>\n",
       "<td><b>validation_mae</b></td>\n",
       "<td><b>validation_deviance</b></td></tr>\n",
       "<tr><td></td>\n",
       "<td>2017-06-21 00:01:08</td>\n",
       "<td> 2:02:01.127</td>\n",
       "<td>0.0</td>\n",
       "<td>15.1245910</td>\n",
       "<td>15.1126412</td>\n",
       "<td>228.7532544</td>\n",
       "<td>15.1147002</td>\n",
       "<td>15.1022868</td>\n",
       "<td>228.4541615</td></tr>\n",
       "<tr><td></td>\n",
       "<td>2017-06-21 00:01:28</td>\n",
       "<td> 2:02:21.165</td>\n",
       "<td>1.0</td>\n",
       "<td>15.0490651</td>\n",
       "<td>15.0370898</td>\n",
       "<td>226.4743618</td>\n",
       "<td>15.0391592</td>\n",
       "<td>15.0267166</td>\n",
       "<td>226.1763092</td></tr>\n",
       "<tr><td></td>\n",
       "<td>2017-06-21 00:01:34</td>\n",
       "<td> 2:02:27.286</td>\n",
       "<td>4.0</td>\n",
       "<td>14.8247340</td>\n",
       "<td>14.8126634</td>\n",
       "<td>219.7727380</td>\n",
       "<td>14.8148224</td>\n",
       "<td>14.8022743</td>\n",
       "<td>219.4789617</td></tr>\n",
       "<tr><td></td>\n",
       "<td>2017-06-21 00:01:39</td>\n",
       "<td> 2:02:31.928</td>\n",
       "<td>6.0</td>\n",
       "<td>14.6770792</td>\n",
       "<td>14.6649538</td>\n",
       "<td>215.4166530</td>\n",
       "<td>14.6671594</td>\n",
       "<td>14.6545491</td>\n",
       "<td>215.1255648</td></tr>\n",
       "<tr><td></td>\n",
       "<td>2017-06-21 00:01:43</td>\n",
       "<td> 2:02:36.241</td>\n",
       "<td>8.0</td>\n",
       "<td>14.5308968</td>\n",
       "<td>14.5187138</td>\n",
       "<td>211.1469616</td>\n",
       "<td>14.5210009</td>\n",
       "<td>14.5083250</td>\n",
       "<td>210.8594659</td></tr>\n",
       "<tr><td>---</td>\n",
       "<td>---</td>\n",
       "<td>---</td>\n",
       "<td>---</td>\n",
       "<td>---</td>\n",
       "<td>---</td>\n",
       "<td>---</td>\n",
       "<td>---</td>\n",
       "<td>---</td>\n",
       "<td>---</td></tr>\n",
       "<tr><td></td>\n",
       "<td>2017-06-21 01:24:20</td>\n",
       "<td> 3:25:12.537</td>\n",
       "<td>1312.0</td>\n",
       "<td>0.4137429</td>\n",
       "<td>0.2568312</td>\n",
       "<td>0.1711832</td>\n",
       "<td>0.4789959</td>\n",
       "<td>0.2919229</td>\n",
       "<td>0.2294371</td></tr>\n",
       "<tr><td></td>\n",
       "<td>2017-06-21 01:24:32</td>\n",
       "<td> 3:25:24.758</td>\n",
       "<td>1315.0</td>\n",
       "<td>0.4136105</td>\n",
       "<td>0.2565888</td>\n",
       "<td>0.1710737</td>\n",
       "<td>0.4789795</td>\n",
       "<td>0.2917401</td>\n",
       "<td>0.2294214</td></tr>\n",
       "<tr><td></td>\n",
       "<td>2017-06-21 01:24:44</td>\n",
       "<td> 3:25:37.107</td>\n",
       "<td>1318.0</td>\n",
       "<td>0.4135076</td>\n",
       "<td>0.2563848</td>\n",
       "<td>0.1709885</td>\n",
       "<td>0.4789660</td>\n",
       "<td>0.2915845</td>\n",
       "<td>0.2294085</td></tr>\n",
       "<tr><td></td>\n",
       "<td>2017-06-21 01:24:56</td>\n",
       "<td> 3:25:48.966</td>\n",
       "<td>1321.0</td>\n",
       "<td>0.4134299</td>\n",
       "<td>0.2562112</td>\n",
       "<td>0.1709242</td>\n",
       "<td>0.4789598</td>\n",
       "<td>0.2914529</td>\n",
       "<td>0.2294025</td></tr>\n",
       "<tr><td></td>\n",
       "<td>2017-06-21 01:25:08</td>\n",
       "<td> 3:26:01.119</td>\n",
       "<td>1324.0</td>\n",
       "<td>0.4133154</td>\n",
       "<td>0.2560183</td>\n",
       "<td>0.1708297</td>\n",
       "<td>0.4789621</td>\n",
       "<td>0.2913241</td>\n",
       "<td>0.2294047</td></tr></table></div>"
      ],
      "text/plain": [
       "     timestamp            duration     number_of_trees    training_rmse       training_mae         training_deviance    validation_rmse      validation_mae       validation_deviance\n",
       "---  -------------------  -----------  -----------------  ------------------  -------------------  -------------------  -------------------  -------------------  ---------------------\n",
       "     2017-06-21 00:01:08  2:02:01.127  0.0                15.124591047517928  15.112641215960096   228.75325435465948   15.11470017858498    15.102286794126336   228.45416148851683\n",
       "     2017-06-21 00:01:28  2:02:21.165  1.0                15.049065146951024  15.03708980529901    226.47436179717607   15.039159191214353   15.026716586837889   226.17630917868712\n",
       "     2017-06-21 00:01:34  2:02:27.286  4.0                14.824733994739958  14.812663434304918   219.77273801479853   14.814822365272928   14.802274345124893   219.47896171459092\n",
       "     2017-06-21 00:01:39  2:02:31.928  6.0                14.677079171342642  14.664953760756045   215.41665300186003   14.667159396650076   14.654549080062589   215.12556476674064\n",
       "     2017-06-21 00:01:43  2:02:36.241  8.0                14.530896792818602  14.518713833624615   211.14696160354592   14.521000856055581   14.508324990208497   210.85946586156692\n",
       "---  ---                  ---          ---                ---                 ---                  ---                  ---                  ---                  ---\n",
       "     2017-06-21 01:24:20  3:25:12.537  1312.0             0.4137428792878234  0.25683117176041276  0.17118317016137838  0.47899594202801127  0.29192287890942065  0.22943711247930196\n",
       "     2017-06-21 01:24:32  3:25:24.758  1315.0             0.413610549142372   0.25658883637156965  0.17107368636185452  0.47897950488409397  0.29174012348511763  0.22942136609901181\n",
       "     2017-06-21 01:24:44  3:25:37.107  1318.0             0.4135075676515191  0.2563847711238171   0.17098850850507563  0.4789660384559263   0.2915845430555938   0.22940846599416384\n",
       "     2017-06-21 01:24:56  3:25:48.966  1321.0             0.4134298555192021  0.2562111832605063   0.1709242454346283   0.4789597690608711   0.2914529072406558   0.22940246037884301\n",
       "     2017-06-21 01:25:08  3:26:01.119  1324.0             0.4133154479408961  0.2560182644660886   0.17082965950658358  0.4789621353307803   0.2913241175442258   0.2294047270806207"
      ]
     },
     "metadata": {},
     "output_type": "display_data"
    },
    {
     "name": "stdout",
     "output_type": "stream",
     "text": [
      "\n",
      "See the whole table with table.as_data_frame()\n",
      "Variable Importances: \n"
     ]
    },
    {
     "data": {
      "text/html": [
       "<div style=\"overflow:auto\"><table style=\"width:50%\"><tr><td><b>variable</b></td>\n",
       "<td><b>relative_importance</b></td>\n",
       "<td><b>scaled_importance</b></td>\n",
       "<td><b>percentage</b></td></tr>\n",
       "<tr><td>full_sq|sub_area_Tencode</td>\n",
       "<td>1001.0</td>\n",
       "<td>1.0</td>\n",
       "<td>0.0460399</td></tr>\n",
       "<tr><td>timestamp</td>\n",
       "<td>532.0</td>\n",
       "<td>0.5314685</td>\n",
       "<td>0.0244688</td></tr>\n",
       "<tr><td>full_sq|timestamp</td>\n",
       "<td>238.0</td>\n",
       "<td>0.2377622</td>\n",
       "<td>0.0109466</td></tr>\n",
       "<tr><td>state</td>\n",
       "<td>195.0</td>\n",
       "<td>0.1948052</td>\n",
       "<td>0.0089688</td></tr>\n",
       "<tr><td>num_room|timestamp</td>\n",
       "<td>162.0</td>\n",
       "<td>0.1618382</td>\n",
       "<td>0.0074510</td></tr>\n",
       "<tr><td>---</td>\n",
       "<td>---</td>\n",
       "<td>---</td>\n",
       "<td>---</td></tr>\n",
       "<tr><td>mosque_count_500</td>\n",
       "<td>1.0</td>\n",
       "<td>0.0009990</td>\n",
       "<td>0.0000460</td></tr>\n",
       "<tr><td>cafe_count_3000_price_1000|cafe_count_1500</td>\n",
       "<td>1.0</td>\n",
       "<td>0.0009990</td>\n",
       "<td>0.0000460</td></tr>\n",
       "<tr><td>cafe_count_5000_price_2500|cafe_sum_5000_min_price_avg</td>\n",
       "<td>1.0</td>\n",
       "<td>0.0009990</td>\n",
       "<td>0.0000460</td></tr>\n",
       "<tr><td>year|office_count_3000</td>\n",
       "<td>1.0</td>\n",
       "<td>0.0009990</td>\n",
       "<td>0.0000460</td></tr>\n",
       "<tr><td>ID_railroad_terminal</td>\n",
       "<td>1.0</td>\n",
       "<td>0.0009990</td>\n",
       "<td>0.0000460</td></tr></table></div>"
      ],
      "text/plain": [
       "variable                                                relative_importance    scaled_importance     percentage\n",
       "------------------------------------------------------  ---------------------  --------------------  ---------------------\n",
       "full_sq|sub_area_Tencode                                1001.0                 1.0                   0.04603992273019961\n",
       "timestamp                                               532.0                  0.5314685314685315    0.02446877012234385\n",
       "full_sq|timestamp                                       238.0                  0.23776223776223776   0.010946555054732776\n",
       "state                                                   195.0                  0.19480519480519481   0.008968816116272652\n",
       "num_room|timestamp                                      162.0                  0.16183816183816183   0.007451016465826511\n",
       "---                                                     ---                    ---                   ---\n",
       "mosque_count_500                                        1.0                    0.000999000999000999  4.599392880139822e-05\n",
       "cafe_count_3000_price_1000|cafe_count_1500              1.0                    0.000999000999000999  4.599392880139822e-05\n",
       "cafe_count_5000_price_2500|cafe_sum_5000_min_price_avg  1.0                    0.000999000999000999  4.599392880139822e-05\n",
       "year|office_count_3000                                  1.0                    0.000999000999000999  4.599392880139822e-05\n",
       "ID_railroad_terminal                                    1.0                    0.000999000999000999  4.599392880139822e-05"
      ]
     },
     "metadata": {},
     "output_type": "display_data"
    },
    {
     "name": "stdout",
     "output_type": "stream",
     "text": [
      "\n",
      "See the whole table with table.as_data_frame()\n"
     ]
    },
    {
     "data": {
      "text/plain": []
     },
     "execution_count": 10,
     "metadata": {},
     "output_type": "execute_result"
    }
   ],
   "source": [
    "h2o_xgb_model2"
   ]
  },
  {
   "cell_type": "markdown",
   "metadata": {},
   "source": [
    "### Train H2O stacked ensemble"
   ]
  },
  {
   "cell_type": "code",
   "execution_count": null,
   "metadata": {
    "collapsed": false,
    "scrolled": true
   },
   "outputs": [],
   "source": [
    "stack = H2OStackedEnsembleEstimator(training_frame=train, \n",
    "                                    validation_frame=valid,\n",
    "                                    base_models=[rf_model1, ert_model1, \n",
    "                                                 h2o_gbm_model,h2o_xgb_model2])\n",
    "\n",
    "stack.train(x=encoded_combined_nums,\n",
    "            y='price_doc',\n",
    "            training_frame=train,\n",
    "            validation_frame=valid)\n",
    "\n",
    "# print model information/create submission\n",
    "print(stack)\n",
    "\n",
    "# stacking without xgb\n",
    "# RMSE: 0.39708713580391003\n",
    "# 0.32659 in public leaderboard\n",
    "\n",
    "# stacking all four model\n",
    "# \n"
   ]
  },
  {
   "cell_type": "code",
   "execution_count": null,
   "metadata": {
    "collapsed": false
   },
   "outputs": [],
   "source": [
    "stack_preds1_val = stack.predict(valid)\n",
    "ranked_preds_plot('price_doc', valid, stack_preds1_val) \n",
    "stack_preds1_test = stack.predict(test)\n",
    "gen_submission(stack_preds1_test)"
   ]
  },
  {
   "cell_type": "markdown",
   "metadata": {},
   "source": [
    "### Blending"
   ]
  },
  {
   "cell_type": "code",
   "execution_count": null,
   "metadata": {
    "collapsed": true
   },
   "outputs": [],
   "source": [
    "import os\n",
    "\n",
    "def pred_blender(dir_, files):\n",
    "    \n",
    "    \"\"\" Performs simple blending of prediction files. \n",
    "    \n",
    "    :param dir_: Directory in which files to be read are stored.\n",
    "    :param files: List of prediction files to be blended.\n",
    "    \n",
    "    \"\"\"\n",
    "    \n",
    "    # read predictions in files list and cbind\n",
    "    for i, file in enumerate(files):\n",
    "        if i == 0:\n",
    "            df = pd.read_csv(dir_ + os.sep + file).drop('price_doc', axis=1)\n",
    "        col = pd.read_csv(dir_ + os.sep + file).drop('id', axis=1)\n",
    "        col.columns = ['price_doc' + str(i)]\n",
    "        df = pd.concat([df, col], axis=1)\n",
    "        \n",
    "    # create mean prediction    \n",
    "    df['mean'] = df.iloc[:, 1:].mean(axis=1)\n",
    "    print(df.head())\n",
    "        \n",
    "    # create time stamp\n",
    "    time_stamp = re.sub('[: ]', '_', time.asctime())        \n",
    "        \n",
    "    # write new submission file    \n",
    "    df = df[['id', 'mean']]\n",
    "    df.columns = ['id', 'price_doc']\n",
    "    \n",
    "    # save file for submission\n",
    "    sub_fname = wd+'/submission_' + str(time_stamp) + '.csv'\n",
    "    df.to_csv(sub_fname, index=False)"
   ]
  },
  {
   "cell_type": "code",
   "execution_count": null,
   "metadata": {
    "collapsed": false
   },
   "outputs": [],
   "source": [
    "# create blending\n",
    "pred_blender(wd,\n",
    "            ['submissionRF_Mon_Jun_19_22_31_58_2017.csv',\n",
    "             'submissionERF_Mon_Jun_19_22_56_05_2017.csv',\n",
    "             'submissionGBM_Tue_Jun_20_00_52_56_2017.csv',\n",
    "             'submissionXGB_Tue_Jun_20_15_06_26_2017.csv'])"
   ]
  },
  {
   "cell_type": "markdown",
   "metadata": {},
   "source": [
    "#### Shutdown H2O"
   ]
  },
  {
   "cell_type": "code",
   "execution_count": 52,
   "metadata": {
    "collapsed": false
   },
   "outputs": [
    {
     "name": "stdout",
     "output_type": "stream",
     "text": [
      "Are you sure you want to shutdown the H2O instance running at http://127.0.0.1:54321 (Y/N)? Y\n",
      "H2O session _sid_b358 closed.\n"
     ]
    }
   ],
   "source": [
    "# Shutdown H2O - this will erase all your unsaved frames and models in H2O\n",
    "h2o.cluster().shutdown(prompt=True)"
   ]
  },
  {
   "cell_type": "code",
   "execution_count": null,
   "metadata": {
    "collapsed": true
   },
   "outputs": [],
   "source": []
  }
 ],
 "metadata": {
  "anaconda-cloud": {},
  "kernelspec": {
   "display_name": "Python 3",
   "language": "python",
   "name": "python3"
  },
  "language_info": {
   "codemirror_mode": {
    "name": "ipython",
    "version": 3
   },
   "file_extension": ".py",
   "mimetype": "text/x-python",
   "name": "python",
   "nbconvert_exporter": "python",
   "pygments_lexer": "ipython3",
   "version": "3.6.0"
  }
 },
 "nbformat": 4,
 "nbformat_minor": 1
}
