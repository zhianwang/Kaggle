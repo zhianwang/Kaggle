{
 "cells": [
  {
   "cell_type": "markdown",
   "metadata": {},
   "source": [
    "## Two Sigma: Rental Listing Inquiries\n",
    "##### Group member: Ying Zhang, Zhian Wang, Zezhi Zhou"
   ]
  },
  {
   "cell_type": "markdown",
   "metadata": {},
   "source": [
    "### Data cleaning:\n",
    "Bining: bathrooms;num_photos\n",
    "\n",
    "Winsorizing: price\n",
    "\n",
    "Encoding: display_address; street_address; manager_id; building_id\n",
    "\n",
    "Naive Bayes: probability(interest_level|manager_id)\n",
    "\n",
    "Feature Extraction: features\n",
    "\n",
    "Transformation:\n",
    "    * transfer created to day of year; month; day \n",
    "    * transform price to log(price)\n",
    "    \n",
    "### Model selection\n",
    "We use three models: XGboost; random forest; neural networks.\n",
    "\n",
    "The XGboost model performed the lowest log_loss score, thus, we choose XGboost."
   ]
  },
  {
   "cell_type": "code",
   "execution_count": 1,
   "metadata": {
    "collapsed": true
   },
   "outputs": [],
   "source": [
    "import xgboost as xgb\n",
    "import pandas as pd\n",
    "from scipy.stats.mstats import winsorize\n",
    "import matplotlib.pyplot as plt\n",
    "%matplotlib inline\n",
    "import seaborn as sns\n",
    "import math\n",
    "import numpy as np\n",
    "import re\n",
    "import textblob\n",
    "from stop_words import get_stop_words\n",
    "stop_words = get_stop_words('en')\n",
    "from sklearn import preprocessing\n",
    "from datetime import datetime\n",
    "from sklearn import model_selection\n",
    "from sklearn.metrics import log_loss\n",
    "from sklearn.preprocessing import Imputer\n",
    "from sklearn.model_selection import train_test_split\n",
    "from sklearn.ensemble import ExtraTreesClassifier\n",
    "from scipy import sparse\n",
    "\n",
    "import re\n",
    "import textblob\n",
    "from stop_words import get_stop_words\n",
    "stop_words = get_stop_words('en')\n",
    "\n",
    "def process(line): \n",
    "    word = re.compile('\\w{3,}')\n",
    "    line = word.findall(line.lower())\n",
    "    sentiment = []\n",
    "    for i in line:\n",
    "        if i not in stop_words:\n",
    "            analysis = textblob.TextBlob(i)\n",
    "            sentiment.append(analysis.sentiment.polarity)\n",
    "    if len(sentiment) != 0:\n",
    "        return sum(sentiment)/len(sentiment)\n",
    "\n",
    "def encoding(df, col):\n",
    "    le = preprocessing.LabelEncoder()\n",
    "    le.fit(train_df[col].values.tolist() + test_df[col].values.tolist())\n",
    "    return le.transform(df[col].values.tolist())\n",
    "\n",
    "def num_description(text):\n",
    "    word = re.compile('\\w{3,}')\n",
    "    text = word.findall(text.lower())\n",
    "    t = []\n",
    "    for i in text:\n",
    "        if i not in stop_words:\n",
    "            t.append(i)\n",
    "    return len(t)"
   ]
  },
  {
   "cell_type": "markdown",
   "metadata": {},
   "source": [
    "### Data exploration"
   ]
  },
  {
   "cell_type": "code",
   "execution_count": 2,
   "metadata": {
    "collapsed": false,
    "scrolled": true
   },
   "outputs": [
    {
     "data": {
      "text/html": [
       "<div>\n",
       "<table border=\"1\" class=\"dataframe\">\n",
       "  <thead>\n",
       "    <tr style=\"text-align: right;\">\n",
       "      <th></th>\n",
       "      <th>bathrooms</th>\n",
       "      <th>bedrooms</th>\n",
       "      <th>building_id</th>\n",
       "      <th>created</th>\n",
       "      <th>description</th>\n",
       "      <th>display_address</th>\n",
       "      <th>features</th>\n",
       "      <th>interest_level</th>\n",
       "      <th>latitude</th>\n",
       "      <th>listing_id</th>\n",
       "      <th>longitude</th>\n",
       "      <th>manager_id</th>\n",
       "      <th>photos</th>\n",
       "      <th>price</th>\n",
       "      <th>street_address</th>\n",
       "    </tr>\n",
       "  </thead>\n",
       "  <tbody>\n",
       "    <tr>\n",
       "      <th>0</th>\n",
       "      <td>1.5</td>\n",
       "      <td>3</td>\n",
       "      <td>53a5b119ba8f7b61d4e010512e0dfc85</td>\n",
       "      <td>2016-06-24 07:54:24</td>\n",
       "      <td>A Brand New 3 Bedroom 1.5 bath ApartmentEnjoy ...</td>\n",
       "      <td>Metropolitan Avenue</td>\n",
       "      <td>[]</td>\n",
       "      <td>medium</td>\n",
       "      <td>40.7145</td>\n",
       "      <td>7211212</td>\n",
       "      <td>-73.9425</td>\n",
       "      <td>5ba989232d0489da1b5f2c45f6688adc</td>\n",
       "      <td>[https://photos.renthop.com/2/7211212_1ed4542e...</td>\n",
       "      <td>3000</td>\n",
       "      <td>792 Metropolitan Avenue</td>\n",
       "    </tr>\n",
       "    <tr>\n",
       "      <th>1</th>\n",
       "      <td>1.0</td>\n",
       "      <td>2</td>\n",
       "      <td>c5c8a357cba207596b04d1afd1e4f130</td>\n",
       "      <td>2016-06-12 12:19:27</td>\n",
       "      <td></td>\n",
       "      <td>Columbus Avenue</td>\n",
       "      <td>[Doorman, Elevator, Fitness Center, Cats Allow...</td>\n",
       "      <td>low</td>\n",
       "      <td>40.7947</td>\n",
       "      <td>7150865</td>\n",
       "      <td>-73.9667</td>\n",
       "      <td>7533621a882f71e25173b27e3139d83d</td>\n",
       "      <td>[https://photos.renthop.com/2/7150865_be3306c5...</td>\n",
       "      <td>5465</td>\n",
       "      <td>808 Columbus Avenue</td>\n",
       "    </tr>\n",
       "    <tr>\n",
       "      <th>2</th>\n",
       "      <td>1.0</td>\n",
       "      <td>1</td>\n",
       "      <td>c3ba40552e2120b0acfc3cb5730bb2aa</td>\n",
       "      <td>2016-04-17 03:26:41</td>\n",
       "      <td>Top Top West Village location, beautiful Pre-w...</td>\n",
       "      <td>W 13 Street</td>\n",
       "      <td>[Laundry In Building, Dishwasher, Hardwood Flo...</td>\n",
       "      <td>high</td>\n",
       "      <td>40.7388</td>\n",
       "      <td>6887163</td>\n",
       "      <td>-74.0018</td>\n",
       "      <td>d9039c43983f6e564b1482b273bd7b01</td>\n",
       "      <td>[https://photos.renthop.com/2/6887163_de85c427...</td>\n",
       "      <td>2850</td>\n",
       "      <td>241 W 13 Street</td>\n",
       "    </tr>\n",
       "    <tr>\n",
       "      <th>3</th>\n",
       "      <td>1.0</td>\n",
       "      <td>1</td>\n",
       "      <td>28d9ad350afeaab8027513a3e52ac8d5</td>\n",
       "      <td>2016-04-18 02:22:02</td>\n",
       "      <td>Building Amenities - Garage - Garden - fitness...</td>\n",
       "      <td>East 49th Street</td>\n",
       "      <td>[Hardwood Floors, No Fee]</td>\n",
       "      <td>low</td>\n",
       "      <td>40.7539</td>\n",
       "      <td>6888711</td>\n",
       "      <td>-73.9677</td>\n",
       "      <td>1067e078446a7897d2da493d2f741316</td>\n",
       "      <td>[https://photos.renthop.com/2/6888711_6e660cee...</td>\n",
       "      <td>3275</td>\n",
       "      <td>333 East 49th Street</td>\n",
       "    </tr>\n",
       "    <tr>\n",
       "      <th>4</th>\n",
       "      <td>1.0</td>\n",
       "      <td>4</td>\n",
       "      <td>0</td>\n",
       "      <td>2016-04-28 01:32:41</td>\n",
       "      <td>Beautifully renovated 3 bedroom flex 4 bedroom...</td>\n",
       "      <td>West 143rd Street</td>\n",
       "      <td>[Pre-War]</td>\n",
       "      <td>low</td>\n",
       "      <td>40.8241</td>\n",
       "      <td>6934781</td>\n",
       "      <td>-73.9493</td>\n",
       "      <td>98e13ad4b495b9613cef886d79a6291f</td>\n",
       "      <td>[https://photos.renthop.com/2/6934781_1fa4b41a...</td>\n",
       "      <td>3350</td>\n",
       "      <td>500 West 143rd Street</td>\n",
       "    </tr>\n",
       "    <tr>\n",
       "      <th>5</th>\n",
       "      <td>2.0</td>\n",
       "      <td>4</td>\n",
       "      <td>38a913e46c94a7f46ddf19b756a9640c</td>\n",
       "      <td>2016-04-19 04:24:47</td>\n",
       "      <td></td>\n",
       "      <td>West 18th Street</td>\n",
       "      <td>[]</td>\n",
       "      <td>medium</td>\n",
       "      <td>40.7429</td>\n",
       "      <td>6894514</td>\n",
       "      <td>-74.0028</td>\n",
       "      <td>b209e2c4384a64cc307c26759ee0c651</td>\n",
       "      <td>[https://photos.renthop.com/2/6894514_9abb8592...</td>\n",
       "      <td>7995</td>\n",
       "      <td>350 West 18th Street</td>\n",
       "    </tr>\n",
       "    <tr>\n",
       "      <th>6</th>\n",
       "      <td>1.0</td>\n",
       "      <td>2</td>\n",
       "      <td>3ba49a93260ca5df92fde024cb4ca61f</td>\n",
       "      <td>2016-04-27 03:19:56</td>\n",
       "      <td>Stunning unit with a great location and lots o...</td>\n",
       "      <td>West 107th Street</td>\n",
       "      <td>[prewar, elevator, Dogs Allowed, Cats Allowed,...</td>\n",
       "      <td>low</td>\n",
       "      <td>40.8012</td>\n",
       "      <td>6930771</td>\n",
       "      <td>-73.9660</td>\n",
       "      <td>01287194f20de51872e81f660def4784</td>\n",
       "      <td>[https://photos.renthop.com/2/6930771_7e3622b6...</td>\n",
       "      <td>3600</td>\n",
       "      <td>210 West 107th Street</td>\n",
       "    </tr>\n",
       "    <tr>\n",
       "      <th>7</th>\n",
       "      <td>2.0</td>\n",
       "      <td>1</td>\n",
       "      <td>0372927bcb6a0949613ef5bf893bbac7</td>\n",
       "      <td>2016-04-13 06:01:42</td>\n",
       "      <td>This huge sunny ,plenty of lights 1 bed/2 bath...</td>\n",
       "      <td>West 21st Street</td>\n",
       "      <td>[Doorman, Elevator, Pre-War, Terrace, Laundry ...</td>\n",
       "      <td>low</td>\n",
       "      <td>40.7427</td>\n",
       "      <td>6867392</td>\n",
       "      <td>-73.9957</td>\n",
       "      <td>e6472c7237327dd3903b3d6f6a94515a</td>\n",
       "      <td>[https://photos.renthop.com/2/6867392_b18283f6...</td>\n",
       "      <td>5645</td>\n",
       "      <td>155 West 21st Street</td>\n",
       "    </tr>\n",
       "    <tr>\n",
       "      <th>8</th>\n",
       "      <td>1.0</td>\n",
       "      <td>1</td>\n",
       "      <td>a7efbeb58190aa267b4a9121cd0c88c0</td>\n",
       "      <td>2016-04-20 02:36:35</td>\n",
       "      <td>&lt;p&gt;&lt;a  website_redacted</td>\n",
       "      <td>Hamilton Terrace</td>\n",
       "      <td>[Cats Allowed, Dogs Allowed, Elevator, Laundry...</td>\n",
       "      <td>medium</td>\n",
       "      <td>40.8234</td>\n",
       "      <td>6898799</td>\n",
       "      <td>-73.9457</td>\n",
       "      <td>c1a6598437b7db560cde66e5a297a53f</td>\n",
       "      <td>[https://photos.renthop.com/2/6898799_3759be4c...</td>\n",
       "      <td>1725</td>\n",
       "      <td>63 Hamilton Terrace</td>\n",
       "    </tr>\n",
       "    <tr>\n",
       "      <th>9</th>\n",
       "      <td>2.0</td>\n",
       "      <td>4</td>\n",
       "      <td>0</td>\n",
       "      <td>2016-04-02 02:58:15</td>\n",
       "      <td>This is a spacious four bedroom with every bed...</td>\n",
       "      <td>522 E 11th</td>\n",
       "      <td>[Dishwasher, Hardwood Floors]</td>\n",
       "      <td>low</td>\n",
       "      <td>40.7278</td>\n",
       "      <td>6814332</td>\n",
       "      <td>-73.9808</td>\n",
       "      <td>23a01ea7717b38875f5b070282d1b9d2</td>\n",
       "      <td>[https://photos.renthop.com/2/6814332_e19a8552...</td>\n",
       "      <td>5800</td>\n",
       "      <td>522 E 11th</td>\n",
       "    </tr>\n",
       "  </tbody>\n",
       "</table>\n",
       "</div>"
      ],
      "text/plain": [
       "   bathrooms  bedrooms                       building_id              created  \\\n",
       "0        1.5         3  53a5b119ba8f7b61d4e010512e0dfc85  2016-06-24 07:54:24   \n",
       "1        1.0         2  c5c8a357cba207596b04d1afd1e4f130  2016-06-12 12:19:27   \n",
       "2        1.0         1  c3ba40552e2120b0acfc3cb5730bb2aa  2016-04-17 03:26:41   \n",
       "3        1.0         1  28d9ad350afeaab8027513a3e52ac8d5  2016-04-18 02:22:02   \n",
       "4        1.0         4                                 0  2016-04-28 01:32:41   \n",
       "5        2.0         4  38a913e46c94a7f46ddf19b756a9640c  2016-04-19 04:24:47   \n",
       "6        1.0         2  3ba49a93260ca5df92fde024cb4ca61f  2016-04-27 03:19:56   \n",
       "7        2.0         1  0372927bcb6a0949613ef5bf893bbac7  2016-04-13 06:01:42   \n",
       "8        1.0         1  a7efbeb58190aa267b4a9121cd0c88c0  2016-04-20 02:36:35   \n",
       "9        2.0         4                                 0  2016-04-02 02:58:15   \n",
       "\n",
       "                                         description      display_address  \\\n",
       "0  A Brand New 3 Bedroom 1.5 bath ApartmentEnjoy ...  Metropolitan Avenue   \n",
       "1                                                         Columbus Avenue   \n",
       "2  Top Top West Village location, beautiful Pre-w...          W 13 Street   \n",
       "3  Building Amenities - Garage - Garden - fitness...     East 49th Street   \n",
       "4  Beautifully renovated 3 bedroom flex 4 bedroom...    West 143rd Street   \n",
       "5                                                        West 18th Street   \n",
       "6  Stunning unit with a great location and lots o...    West 107th Street   \n",
       "7  This huge sunny ,plenty of lights 1 bed/2 bath...     West 21st Street   \n",
       "8                           <p><a  website_redacted      Hamilton Terrace   \n",
       "9  This is a spacious four bedroom with every bed...           522 E 11th   \n",
       "\n",
       "                                            features interest_level  latitude  \\\n",
       "0                                                 []         medium   40.7145   \n",
       "1  [Doorman, Elevator, Fitness Center, Cats Allow...            low   40.7947   \n",
       "2  [Laundry In Building, Dishwasher, Hardwood Flo...           high   40.7388   \n",
       "3                          [Hardwood Floors, No Fee]            low   40.7539   \n",
       "4                                          [Pre-War]            low   40.8241   \n",
       "5                                                 []         medium   40.7429   \n",
       "6  [prewar, elevator, Dogs Allowed, Cats Allowed,...            low   40.8012   \n",
       "7  [Doorman, Elevator, Pre-War, Terrace, Laundry ...            low   40.7427   \n",
       "8  [Cats Allowed, Dogs Allowed, Elevator, Laundry...         medium   40.8234   \n",
       "9                      [Dishwasher, Hardwood Floors]            low   40.7278   \n",
       "\n",
       "   listing_id  longitude                        manager_id  \\\n",
       "0     7211212   -73.9425  5ba989232d0489da1b5f2c45f6688adc   \n",
       "1     7150865   -73.9667  7533621a882f71e25173b27e3139d83d   \n",
       "2     6887163   -74.0018  d9039c43983f6e564b1482b273bd7b01   \n",
       "3     6888711   -73.9677  1067e078446a7897d2da493d2f741316   \n",
       "4     6934781   -73.9493  98e13ad4b495b9613cef886d79a6291f   \n",
       "5     6894514   -74.0028  b209e2c4384a64cc307c26759ee0c651   \n",
       "6     6930771   -73.9660  01287194f20de51872e81f660def4784   \n",
       "7     6867392   -73.9957  e6472c7237327dd3903b3d6f6a94515a   \n",
       "8     6898799   -73.9457  c1a6598437b7db560cde66e5a297a53f   \n",
       "9     6814332   -73.9808  23a01ea7717b38875f5b070282d1b9d2   \n",
       "\n",
       "                                              photos  price  \\\n",
       "0  [https://photos.renthop.com/2/7211212_1ed4542e...   3000   \n",
       "1  [https://photos.renthop.com/2/7150865_be3306c5...   5465   \n",
       "2  [https://photos.renthop.com/2/6887163_de85c427...   2850   \n",
       "3  [https://photos.renthop.com/2/6888711_6e660cee...   3275   \n",
       "4  [https://photos.renthop.com/2/6934781_1fa4b41a...   3350   \n",
       "5  [https://photos.renthop.com/2/6894514_9abb8592...   7995   \n",
       "6  [https://photos.renthop.com/2/6930771_7e3622b6...   3600   \n",
       "7  [https://photos.renthop.com/2/6867392_b18283f6...   5645   \n",
       "8  [https://photos.renthop.com/2/6898799_3759be4c...   1725   \n",
       "9  [https://photos.renthop.com/2/6814332_e19a8552...   5800   \n",
       "\n",
       "            street_address  \n",
       "0  792 Metropolitan Avenue  \n",
       "1      808 Columbus Avenue  \n",
       "2          241 W 13 Street  \n",
       "3     333 East 49th Street  \n",
       "4    500 West 143rd Street  \n",
       "5     350 West 18th Street  \n",
       "6    210 West 107th Street  \n",
       "7     155 West 21st Street  \n",
       "8      63 Hamilton Terrace  \n",
       "9               522 E 11th  "
      ]
     },
     "execution_count": 2,
     "metadata": {},
     "output_type": "execute_result"
    }
   ],
   "source": [
    "wd = \"/Users/zy/Documents/2017Spring/DataMinning/Project/data\"\n",
    "train_df = pd.read_json(wd+\"/train.json\")\n",
    "train_df = train_df.reset_index(drop=True)\n",
    "test_df = pd.read_json(wd+\"/test.json\")\n",
    "test_df = test_df.reset_index(drop=True)\n",
    "train_df.head(10)"
   ]
  },
  {
   "cell_type": "code",
   "execution_count": 75,
   "metadata": {
    "collapsed": false
   },
   "outputs": [
    {
     "data": {
      "text/html": [
       "<div>\n",
       "<table border=\"1\" class=\"dataframe\">\n",
       "  <thead>\n",
       "    <tr style=\"text-align: right;\">\n",
       "      <th></th>\n",
       "      <th>bathrooms</th>\n",
       "      <th>bedrooms</th>\n",
       "      <th>building_id</th>\n",
       "      <th>created</th>\n",
       "      <th>description</th>\n",
       "      <th>display_address</th>\n",
       "      <th>features</th>\n",
       "      <th>latitude</th>\n",
       "      <th>listing_id</th>\n",
       "      <th>longitude</th>\n",
       "      <th>manager_id</th>\n",
       "      <th>photos</th>\n",
       "      <th>price</th>\n",
       "      <th>street_address</th>\n",
       "    </tr>\n",
       "  </thead>\n",
       "  <tbody>\n",
       "    <tr>\n",
       "      <th>0</th>\n",
       "      <td>1.0</td>\n",
       "      <td>1</td>\n",
       "      <td>79780be1514f645d7e6be99a3de696c5</td>\n",
       "      <td>2016-06-11 05:29:41</td>\n",
       "      <td>Large with awesome terrace--accessible via bed...</td>\n",
       "      <td>Suffolk Street</td>\n",
       "      <td>[Elevator, Laundry in Building, Laundry in Uni...</td>\n",
       "      <td>40.7185</td>\n",
       "      <td>7142618</td>\n",
       "      <td>-73.9865</td>\n",
       "      <td>b1b1852c416d78d7765d746cb1b8921f</td>\n",
       "      <td>[https://photos.renthop.com/2/7142618_1c45a2c8...</td>\n",
       "      <td>2950</td>\n",
       "      <td>99 Suffolk Street</td>\n",
       "    </tr>\n",
       "    <tr>\n",
       "      <th>1</th>\n",
       "      <td>1.0</td>\n",
       "      <td>2</td>\n",
       "      <td>0</td>\n",
       "      <td>2016-06-24 06:36:34</td>\n",
       "      <td>Prime Soho - between Bleecker and Houston - Ne...</td>\n",
       "      <td>Thompson Street</td>\n",
       "      <td>[Pre-War, Dogs Allowed, Cats Allowed]</td>\n",
       "      <td>40.7278</td>\n",
       "      <td>7210040</td>\n",
       "      <td>-74.0000</td>\n",
       "      <td>d0b5648017832b2427eeb9956d966a14</td>\n",
       "      <td>[https://photos.renthop.com/2/7210040_d824cc71...</td>\n",
       "      <td>2850</td>\n",
       "      <td>176 Thompson Street</td>\n",
       "    </tr>\n",
       "    <tr>\n",
       "      <th>2</th>\n",
       "      <td>1.0</td>\n",
       "      <td>1</td>\n",
       "      <td>3dbbb69fd52e0d25131aa1cd459c87eb</td>\n",
       "      <td>2016-06-03 04:29:40</td>\n",
       "      <td>New York chic has reached a new level ...</td>\n",
       "      <td>101 East 10th Street</td>\n",
       "      <td>[Doorman, Elevator, No Fee]</td>\n",
       "      <td>40.7306</td>\n",
       "      <td>7103890</td>\n",
       "      <td>-73.9890</td>\n",
       "      <td>9ca6f3baa475c37a3b3521a394d65467</td>\n",
       "      <td>[https://photos.renthop.com/2/7103890_85b33077...</td>\n",
       "      <td>3758</td>\n",
       "      <td>101 East 10th Street</td>\n",
       "    </tr>\n",
       "    <tr>\n",
       "      <th>3</th>\n",
       "      <td>1.0</td>\n",
       "      <td>2</td>\n",
       "      <td>783d21d013a7e655bddc4ed0d461cc5e</td>\n",
       "      <td>2016-06-11 06:17:35</td>\n",
       "      <td>Step into this fantastic new Construction in t...</td>\n",
       "      <td>South Third Street\\r</td>\n",
       "      <td>[Roof Deck, Balcony, Elevator, Laundry in Buil...</td>\n",
       "      <td>40.7109</td>\n",
       "      <td>7143442</td>\n",
       "      <td>-73.9571</td>\n",
       "      <td>0b9d5db96db8472d7aeb67c67338c4d2</td>\n",
       "      <td>[https://photos.renthop.com/2/7143442_0879e9e0...</td>\n",
       "      <td>3300</td>\n",
       "      <td>251  South Third Street\\r</td>\n",
       "    </tr>\n",
       "    <tr>\n",
       "      <th>4</th>\n",
       "      <td>2.0</td>\n",
       "      <td>2</td>\n",
       "      <td>6134e7c4dd1a98d9aee36623c9872b49</td>\n",
       "      <td>2016-04-12 05:24:17</td>\n",
       "      <td>~Take a stroll in Central Park, enjoy the ente...</td>\n",
       "      <td>Midtown West, 8th Ave</td>\n",
       "      <td>[Common Outdoor Space, Cats Allowed, Dogs Allo...</td>\n",
       "      <td>40.7650</td>\n",
       "      <td>6860601</td>\n",
       "      <td>-73.9845</td>\n",
       "      <td>b5eda0eb31b042ce2124fd9e9fcfce2f</td>\n",
       "      <td>[https://photos.renthop.com/2/6860601_c96164d8...</td>\n",
       "      <td>4900</td>\n",
       "      <td>260 West 54th Street</td>\n",
       "    </tr>\n",
       "  </tbody>\n",
       "</table>\n",
       "</div>"
      ],
      "text/plain": [
       "   bathrooms  bedrooms                       building_id              created  \\\n",
       "0        1.0         1  79780be1514f645d7e6be99a3de696c5  2016-06-11 05:29:41   \n",
       "1        1.0         2                                 0  2016-06-24 06:36:34   \n",
       "2        1.0         1  3dbbb69fd52e0d25131aa1cd459c87eb  2016-06-03 04:29:40   \n",
       "3        1.0         2  783d21d013a7e655bddc4ed0d461cc5e  2016-06-11 06:17:35   \n",
       "4        2.0         2  6134e7c4dd1a98d9aee36623c9872b49  2016-04-12 05:24:17   \n",
       "\n",
       "                                         description        display_address  \\\n",
       "0  Large with awesome terrace--accessible via bed...         Suffolk Street   \n",
       "1  Prime Soho - between Bleecker and Houston - Ne...        Thompson Street   \n",
       "2          New York chic has reached a new level ...   101 East 10th Street   \n",
       "3  Step into this fantastic new Construction in t...   South Third Street\\r   \n",
       "4  ~Take a stroll in Central Park, enjoy the ente...  Midtown West, 8th Ave   \n",
       "\n",
       "                                            features  latitude  listing_id  \\\n",
       "0  [Elevator, Laundry in Building, Laundry in Uni...   40.7185     7142618   \n",
       "1              [Pre-War, Dogs Allowed, Cats Allowed]   40.7278     7210040   \n",
       "2                        [Doorman, Elevator, No Fee]   40.7306     7103890   \n",
       "3  [Roof Deck, Balcony, Elevator, Laundry in Buil...   40.7109     7143442   \n",
       "4  [Common Outdoor Space, Cats Allowed, Dogs Allo...   40.7650     6860601   \n",
       "\n",
       "   longitude                        manager_id  \\\n",
       "0   -73.9865  b1b1852c416d78d7765d746cb1b8921f   \n",
       "1   -74.0000  d0b5648017832b2427eeb9956d966a14   \n",
       "2   -73.9890  9ca6f3baa475c37a3b3521a394d65467   \n",
       "3   -73.9571  0b9d5db96db8472d7aeb67c67338c4d2   \n",
       "4   -73.9845  b5eda0eb31b042ce2124fd9e9fcfce2f   \n",
       "\n",
       "                                              photos  price  \\\n",
       "0  [https://photos.renthop.com/2/7142618_1c45a2c8...   2950   \n",
       "1  [https://photos.renthop.com/2/7210040_d824cc71...   2850   \n",
       "2  [https://photos.renthop.com/2/7103890_85b33077...   3758   \n",
       "3  [https://photos.renthop.com/2/7143442_0879e9e0...   3300   \n",
       "4  [https://photos.renthop.com/2/6860601_c96164d8...   4900   \n",
       "\n",
       "              street_address  \n",
       "0          99 Suffolk Street  \n",
       "1        176 Thompson Street  \n",
       "2       101 East 10th Street  \n",
       "3  251  South Third Street\\r  \n",
       "4       260 West 54th Street  "
      ]
     },
     "execution_count": 75,
     "metadata": {},
     "output_type": "execute_result"
    }
   ],
   "source": [
    "test_df.head()"
   ]
  },
  {
   "cell_type": "code",
   "execution_count": 8,
   "metadata": {
    "collapsed": true
   },
   "outputs": [],
   "source": [
    "#test_df.to_csv(\"data/test.csv\",index=False)\n",
    "#train_df.to_csv(\"data/train.csv\",index=False)"
   ]
  },
  {
   "cell_type": "code",
   "execution_count": 3,
   "metadata": {
    "collapsed": false
   },
   "outputs": [
    {
     "data": {
      "text/plain": [
       "<matplotlib.axes._subplots.AxesSubplot at 0x12979cd68>"
      ]
     },
     "execution_count": 3,
     "metadata": {},
     "output_type": "execute_result"
    },
    {
     "data": {
      "image/png": "[encoded data removed]",
      "text/plain": [
       "<matplotlib.figure.Figure at 0x12b7d2748>"
      ]
     },
     "metadata": {},
     "output_type": "display_data"
    }
   ],
   "source": [
    "import matplotlib.pyplot as plt\n",
    "%matplotlib inline\n",
    "import seaborn as sns\n",
    "\n",
    "interest_level = train_df['interest_level'].value_counts()\n",
    "x = interest_level.index\n",
    "y = interest_level.values\n",
    "sns.barplot(x, y )"
   ]
  },
  {
   "cell_type": "code",
   "execution_count": 87,
   "metadata": {
    "collapsed": false
   },
   "outputs": [
    {
     "data": {
      "text/plain": [
       "<matplotlib.text.Text at 0x131371780>"
      ]
     },
     "execution_count": 87,
     "metadata": {},
     "output_type": "execute_result"
    },
    {
     "data": {
      "image/png": "[encoded data removed]",
      "text/plain": [
       "<matplotlib.figure.Figure at 0x1314363c8>"
      ]
     },
     "metadata": {},
     "output_type": "display_data"
    }
   ],
   "source": [
    "bathrooms = train_df['bathrooms'].value_counts()\n",
    "x = bathrooms.index\n",
    "y = bathrooms.values\n",
    "sns.barplot(x, y )\n",
    "plt.xlabel('number of bathrooms', fontsize=12)\n",
    "plt.ylabel('number of records', fontsize=12)"
   ]
  },
  {
   "cell_type": "code",
   "execution_count": 5,
   "metadata": {
    "collapsed": false
   },
   "outputs": [
    {
     "name": "stderr",
     "output_type": "stream",
     "text": [
      "/Users/zy/anaconda/lib/python3.5/site-packages/pandas/core/indexing.py:132: SettingWithCopyWarning: \n",
      "A value is trying to be set on a copy of a slice from a DataFrame\n",
      "\n",
      "See the caveats in the documentation: http://pandas.pydata.org/pandas-docs/stable/indexing.html#indexing-view-versus-copy\n",
      "  self._setitem_with_indexer(indexer, value)\n"
     ]
    }
   ],
   "source": [
    "train_df['bathrooms'].ix[train_df['bathrooms']>=3.5] = 3.5"
   ]
  },
  {
   "cell_type": "code",
   "execution_count": 6,
   "metadata": {
    "collapsed": false
   },
   "outputs": [
    {
     "data": {
      "text/plain": [
       "<matplotlib.axes._subplots.AxesSubplot at 0x129547748>"
      ]
     },
     "execution_count": 6,
     "metadata": {},
     "output_type": "execute_result"
    },
    {
     "data": {
      "image/png": "[encoded data removed]",
      "text/plain": [
       "<matplotlib.figure.Figure at 0x1293c7940>"
      ]
     },
     "metadata": {},
     "output_type": "display_data"
    }
   ],
   "source": [
    "bathrooms = train_df['bathrooms'].value_counts()\n",
    "x = bathrooms.index\n",
    "y = bathrooms.values\n",
    "sns.barplot(x, y )"
   ]
  },
  {
   "cell_type": "code",
   "execution_count": 7,
   "metadata": {
    "collapsed": false
   },
   "outputs": [
    {
     "data": {
      "text/plain": [
       "<matplotlib.axes._subplots.AxesSubplot at 0x129503c50>"
      ]
     },
     "execution_count": 7,
     "metadata": {},
     "output_type": "execute_result"
    },
    {
     "data": {
      "image/png": "[encoded data removed]",
      "text/plain": [
       "<matplotlib.figure.Figure at 0x12a62f588>"
      ]
     },
     "metadata": {},
     "output_type": "display_data"
    }
   ],
   "source": [
    "bedrooms = train_df['bedrooms'].value_counts()\n",
    "x = bedrooms.index\n",
    "y = bedrooms.values\n",
    "sns.barplot(x, y )"
   ]
  },
  {
   "cell_type": "code",
   "execution_count": 8,
   "metadata": {
    "collapsed": false
   },
   "outputs": [
    {
     "data": {
      "text/plain": [
       "<matplotlib.collections.PathCollection at 0x129609b00>"
      ]
     },
     "execution_count": 8,
     "metadata": {},
     "output_type": "execute_result"
    },
    {
     "data": {
      "image/png": "[encoded data removed]",
      "text/plain": [
       "<matplotlib.figure.Figure at 0x1296ac9b0>"
      ]
     },
     "metadata": {},
     "output_type": "display_data"
    }
   ],
   "source": [
    "plt.scatter(range(len(train_df)), train_df.price)"
   ]
  },
  {
   "cell_type": "code",
   "execution_count": 9,
   "metadata": {
    "collapsed": false
   },
   "outputs": [
    {
     "data": {
      "text/plain": [
       "<matplotlib.axes._subplots.AxesSubplot at 0x12961d080>"
      ]
     },
     "execution_count": 9,
     "metadata": {},
     "output_type": "execute_result"
    },
    {
     "data": {
      "image/png": "[encoded data removed]",
      "text/plain": [
       "<matplotlib.figure.Figure at 0x1296b0518>"
      ]
     },
     "metadata": {},
     "output_type": "display_data"
    }
   ],
   "source": [
    "from scipy.stats.mstats import winsorize\n",
    "train_df['price'] = winsorize(train_df['price'], limits=[0.01, 0.01])\n",
    "sns.distplot(train_df.price.values, bins=100, kde=True)"
   ]
  },
  {
   "cell_type": "code",
   "execution_count": 10,
   "metadata": {
    "collapsed": false
   },
   "outputs": [],
   "source": [
    "import math\n",
    "import numpy as np\n",
    "train_df['Log_price']=np.log(train_df['price'].astype(float))"
   ]
  },
  {
   "cell_type": "code",
   "execution_count": 11,
   "metadata": {
    "collapsed": false
   },
   "outputs": [
    {
     "data": {
      "text/plain": [
       "<matplotlib.axes._subplots.AxesSubplot at 0x129bc0048>"
      ]
     },
     "execution_count": 11,
     "metadata": {},
     "output_type": "execute_result"
    },
    {
     "data": {
      "image/png": "[encoded data removed]",
      "text/plain": [
       "<matplotlib.figure.Figure at 0x1296b0b70>"
      ]
     },
     "metadata": {},
     "output_type": "display_data"
    }
   ],
   "source": [
    "sns.distplot(train_df.Log_price.values, bins=100, kde=True)"
   ]
  },
  {
   "cell_type": "code",
   "execution_count": 12,
   "metadata": {
    "collapsed": false
   },
   "outputs": [
    {
     "data": {
      "text/plain": [
       "bathrooms          0\n",
       "bedrooms           0\n",
       "building_id        0\n",
       "created            0\n",
       "description        0\n",
       "display_address    0\n",
       "features           0\n",
       "latitude           0\n",
       "listing_id         0\n",
       "longitude          0\n",
       "manager_id         0\n",
       "photos             0\n",
       "price              0\n",
       "street_address     0\n",
       "dtype: int64"
      ]
     },
     "execution_count": 12,
     "metadata": {},
     "output_type": "execute_result"
    }
   ],
   "source": [
    "#check for missing values\n",
    "pd.isnull(train_df).sum()\n",
    "pd.isnull(test_df).sum() "
   ]
  },
  {
   "cell_type": "code",
   "execution_count": 13,
   "metadata": {
    "collapsed": false
   },
   "outputs": [
    {
     "data": {
      "text/plain": [
       "<matplotlib.axes._subplots.AxesSubplot at 0x12932aac8>"
      ]
     },
     "execution_count": 13,
     "metadata": {},
     "output_type": "execute_result"
    },
    {
     "data": {
      "image/png": "[encoded data removed]",
      "text/plain": [
       "<matplotlib.figure.Figure at 0x129394d30>"
      ]
     },
     "metadata": {},
     "output_type": "display_data"
    }
   ],
   "source": [
    "train_df['num_photos']=train_df['photos'].apply(len)\n",
    "num_photos = train_df['num_photos'].value_counts()\n",
    "x = num_photos.index\n",
    "y = num_photos.values\n",
    "sns.barplot(x, y )"
   ]
  },
  {
   "cell_type": "code",
   "execution_count": 14,
   "metadata": {
    "collapsed": false
   },
   "outputs": [
    {
     "name": "stderr",
     "output_type": "stream",
     "text": [
      "/Users/zy/anaconda/lib/python3.5/site-packages/pandas/core/indexing.py:132: SettingWithCopyWarning: \n",
      "A value is trying to be set on a copy of a slice from a DataFrame\n",
      "\n",
      "See the caveats in the documentation: http://pandas.pydata.org/pandas-docs/stable/indexing.html#indexing-view-versus-copy\n",
      "  self._setitem_with_indexer(indexer, value)\n"
     ]
    },
    {
     "data": {
      "text/plain": [
       "<matplotlib.axes._subplots.AxesSubplot at 0x129411358>"
      ]
     },
     "execution_count": 14,
     "metadata": {},
     "output_type": "execute_result"
    },
    {
     "data": {
      "image/png": "[encoded data removed]",
      "text/plain": [
       "<matplotlib.figure.Figure at 0x12952ab00>"
      ]
     },
     "metadata": {},
     "output_type": "display_data"
    }
   ],
   "source": [
    "train_df['num_photos'].ix[train_df['num_photos']>=16] = 16\n",
    "num_photos = train_df['num_photos'].value_counts()\n",
    "x = num_photos.index\n",
    "y = num_photos.values\n",
    "sns.barplot(x, y )"
   ]
  },
  {
   "cell_type": "code",
   "execution_count": 15,
   "metadata": {
    "collapsed": false
   },
   "outputs": [
    {
     "name": "stderr",
     "output_type": "stream",
     "text": [
      "/Users/zy/anaconda/lib/python3.5/site-packages/ipykernel/__main__.py:1: FutureWarning: the coerce=True keyword is deprecated, use errors='coerce' instead\n",
      "  if __name__ == '__main__':\n",
      "/Users/zy/anaconda/lib/python3.5/site-packages/ipykernel/__main__.py:2: FutureWarning: the coerce=True keyword is deprecated, use errors='coerce' instead\n",
      "  from ipykernel import kernelapp as app\n",
      "/Users/zy/anaconda/lib/python3.5/site-packages/ipykernel/__main__.py:3: FutureWarning: the coerce=True keyword is deprecated, use errors='coerce' instead\n",
      "  app.launch_new_instance()\n"
     ]
    }
   ],
   "source": [
    "train_df[\"created_year\"] = pd.to_datetime(train_df[\"created\"], coerce=True).dt.year\n",
    "train_df[\"created_month\"] = pd.to_datetime(train_df[\"created\"], coerce=True).dt.month\n",
    "train_df[\"created_day\"] = pd.to_datetime(train_df[\"created\"], coerce=True).dt.day"
   ]
  },
  {
   "cell_type": "code",
   "execution_count": 147,
   "metadata": {
    "collapsed": false
   },
   "outputs": [
    {
     "data": {
      "text/plain": [
       "<matplotlib.axes._subplots.AxesSubplot at 0x130159c50>"
      ]
     },
     "execution_count": 147,
     "metadata": {},
     "output_type": "execute_result"
    },
    {
     "data": {
      "image/png": "[encoded data removed]",
      "text/plain": [
       "<matplotlib.figure.Figure at 0x1301d3908>"
      ]
     },
     "metadata": {},
     "output_type": "display_data"
    }
   ],
   "source": [
    "sns.countplot(x=\"created_day\", hue=\"interest_level\", hue_order=['low', 'medium', 'high'], data=train_df)"
   ]
  },
  {
   "cell_type": "code",
   "execution_count": 71,
   "metadata": {
    "collapsed": false
   },
   "outputs": [],
   "source": [
    "train_df[\"description_score\"] = train_df['description'].apply(process)"
   ]
  },
  {
   "cell_type": "markdown",
   "metadata": {},
   "source": [
    "### Data Cleaning"
   ]
  },
  {
   "cell_type": "code",
   "execution_count": 3,
   "metadata": {
    "collapsed": false
   },
   "outputs": [],
   "source": [
    "wd = \"/Users/zy/Documents/2017Spring/DataMinning/Project/data\"\n",
    "train_df = pd.read_json(wd+\"/train.json\")\n",
    "train_df = train_df.reset_index(drop=True)\n",
    "test_df = pd.read_json(wd+\"/test.json\")\n",
    "test_df = test_df.reset_index(drop=True)"
   ]
  },
  {
   "cell_type": "markdown",
   "metadata": {},
   "source": [
    "#### * Train Data"
   ]
  },
  {
   "cell_type": "code",
   "execution_count": 4,
   "metadata": {
    "collapsed": false
   },
   "outputs": [
    {
     "name": "stderr",
     "output_type": "stream",
     "text": [
      "/Users/zy/anaconda/lib/python3.5/site-packages/pandas/core/indexing.py:132: SettingWithCopyWarning: \n",
      "A value is trying to be set on a copy of a slice from a DataFrame\n",
      "\n",
      "See the caveats in the documentation: http://pandas.pydata.org/pandas-docs/stable/indexing.html#indexing-view-versus-copy\n",
      "  self._setitem_with_indexer(indexer, value)\n"
     ]
    }
   ],
   "source": [
    "#train_df[\"description_score\"] = train_df['description'].apply(process)\n",
    "#train_score = train_df[\"description_score\"].to_frame()\n",
    "#train_score.to_csv(\"data/train_score.csv\")\n",
    "df = pd.read_csv(\"https://raw.githubusercontent.com/YingZhang1028/practicum/master/Data_DataMining/train_score.csv\")\n",
    "train_df[\"description_score\"] = df[\"description_score\"]\n",
    "train_df[\"description_score\"].ix[np.isnan(train_df[\"description_score\"]) == True] = train_df[\"description_score\"].mean()"
   ]
  },
  {
   "cell_type": "code",
   "execution_count": 5,
   "metadata": {
    "collapsed": false
   },
   "outputs": [],
   "source": [
    "train_df[\"num_description\"]= train_df[\"description\"].apply(num_description)\n",
    "#train_df[\"num_description\"]= train_df[\"description\"].apply(lambda x: len(word.findall(x)))"
   ]
  },
  {
   "cell_type": "code",
   "execution_count": 6,
   "metadata": {
    "collapsed": false
   },
   "outputs": [
    {
     "name": "stderr",
     "output_type": "stream",
     "text": [
      "/Users/zy/anaconda/lib/python3.5/site-packages/pandas/core/indexing.py:132: SettingWithCopyWarning: \n",
      "A value is trying to be set on a copy of a slice from a DataFrame\n",
      "\n",
      "See the caveats in the documentation: http://pandas.pydata.org/pandas-docs/stable/indexing.html#indexing-view-versus-copy\n",
      "  self._setitem_with_indexer(indexer, value)\n",
      "/Users/zy/anaconda/lib/python3.5/site-packages/ipykernel/__main__.py:6: FutureWarning: the coerce=True keyword is deprecated, use errors='coerce' instead\n",
      "/Users/zy/anaconda/lib/python3.5/site-packages/ipykernel/__main__.py:7: FutureWarning: the coerce=True keyword is deprecated, use errors='coerce' instead\n",
      "/Users/zy/anaconda/lib/python3.5/site-packages/ipykernel/__main__.py:8: FutureWarning: the coerce=True keyword is deprecated, use errors='coerce' instead\n"
     ]
    }
   ],
   "source": [
    "train_df['bathrooms'].ix[train_df['bathrooms']>=3.5] = 3.5\n",
    "train_df['price'] = winsorize(train_df['price'], limits=[0.01, 0.01])\n",
    "train_df['Log_price']=np.log(train_df['price'].astype(float))\n",
    "train_df['num_photos']=train_df['photos'].apply(len)\n",
    "\n",
    "train_df[\"created_month\"] = pd.to_datetime(train_df[\"created\"], coerce=True).dt.month\n",
    "train_df[\"created_day\"] = pd.to_datetime(train_df[\"created\"], coerce=True).dt.day\n",
    "train_df[\"created_dayofyear\"]=pd.to_datetime(train_df[\"created\"], coerce=True).dt.dayofyear\n",
    "train_df[\"num_features\"] = train_df[\"features\"].apply(len)"
   ]
  },
  {
   "cell_type": "code",
   "execution_count": 7,
   "metadata": {
    "collapsed": true
   },
   "outputs": [],
   "source": [
    "train_df[\"display_address\"] = encoding(train_df,\"display_address\")\n",
    "train_df[\"street_address\"] = encoding(train_df,\"street_address\")\n",
    "train_df[\"manager_id\"] = encoding(train_df,\"manager_id\")\n",
    "train_df[\"building_id\"] = encoding(train_df,\"building_id\")"
   ]
  },
  {
   "cell_type": "markdown",
   "metadata": {},
   "source": [
    "#### * Test Data"
   ]
  },
  {
   "cell_type": "code",
   "execution_count": 8,
   "metadata": {
    "collapsed": false
   },
   "outputs": [
    {
     "name": "stderr",
     "output_type": "stream",
     "text": [
      "/Users/zy/anaconda/lib/python3.5/site-packages/pandas/core/indexing.py:132: SettingWithCopyWarning: \n",
      "A value is trying to be set on a copy of a slice from a DataFrame\n",
      "\n",
      "See the caveats in the documentation: http://pandas.pydata.org/pandas-docs/stable/indexing.html#indexing-view-versus-copy\n",
      "  self._setitem_with_indexer(indexer, value)\n"
     ]
    }
   ],
   "source": [
    "#test_df[\"description_score\"] = test_df['description'].apply(process)\n",
    "#test_score = test_df[\"description_score\"].to_frame()\n",
    "#test_score.to_csv(\"data/test_score.csv\")\n",
    "df = pd.read_csv(\"https://raw.githubusercontent.com/YingZhang1028/practicum/master/Data_DataMining/test_score.csv\")\n",
    "test_df[\"description_score\"] = df[\"description_score\"]\n",
    "test_df[\"description_score\"].ix[np.isnan(test_df[\"description_score\"]) == True] = test_df[\"description_score\"].mean()"
   ]
  },
  {
   "cell_type": "code",
   "execution_count": 9,
   "metadata": {
    "collapsed": true
   },
   "outputs": [],
   "source": [
    "test_df[\"num_description\"]= test_df[\"description\"].apply(num_description)\n",
    "#word = re.compile('\\w{3,}')\n",
    "#test_df[\"num_description\"]= test_df[\"description\"].apply(lambda x: len(word.findall(x)))"
   ]
  },
  {
   "cell_type": "code",
   "execution_count": 10,
   "metadata": {
    "collapsed": false,
    "scrolled": true
   },
   "outputs": [
    {
     "name": "stderr",
     "output_type": "stream",
     "text": [
      "/Users/zy/anaconda/lib/python3.5/site-packages/pandas/core/indexing.py:132: SettingWithCopyWarning: \n",
      "A value is trying to be set on a copy of a slice from a DataFrame\n",
      "\n",
      "See the caveats in the documentation: http://pandas.pydata.org/pandas-docs/stable/indexing.html#indexing-view-versus-copy\n",
      "  self._setitem_with_indexer(indexer, value)\n",
      "/Users/zy/anaconda/lib/python3.5/site-packages/ipykernel/__main__.py:6: FutureWarning: the coerce=True keyword is deprecated, use errors='coerce' instead\n",
      "/Users/zy/anaconda/lib/python3.5/site-packages/ipykernel/__main__.py:7: FutureWarning: the coerce=True keyword is deprecated, use errors='coerce' instead\n",
      "/Users/zy/anaconda/lib/python3.5/site-packages/ipykernel/__main__.py:8: FutureWarning: the coerce=True keyword is deprecated, use errors='coerce' instead\n"
     ]
    }
   ],
   "source": [
    "test_df['bathrooms'].ix[test_df['bathrooms']>=3.5] = 3.5\n",
    "test_df['price'] = winsorize(test_df['price'], limits=[0.01, 0.01])\n",
    "test_df['Log_price']=np.log(test_df['price'].astype(float))\n",
    "test_df['num_photos']=test_df['photos'].apply(len)\n",
    "\n",
    "test_df[\"created_dayofyear\"]=pd.to_datetime(test_df[\"created\"], coerce=True).dt.dayofyear\n",
    "test_df[\"created_month\"] = pd.to_datetime(test_df[\"created\"], coerce=True).dt.month\n",
    "test_df[\"created_day\"] = pd.to_datetime(test_df[\"created\"], coerce=True).dt.day\n",
    "test_df[\"num_features\"] = test_df[\"features\"].apply(len)"
   ]
  },
  {
   "cell_type": "code",
   "execution_count": 11,
   "metadata": {
    "collapsed": true
   },
   "outputs": [],
   "source": [
    "test_df[\"display_address\"] = encoding(test_df,\"display_address\")\n",
    "test_df[\"street_address\"] = encoding(test_df,\"street_address\")\n",
    "test_df[\"manager_id\"] = encoding(test_df,\"manager_id\")\n",
    "test_df[\"building_id\"] = encoding(test_df,\"building_id\")"
   ]
  },
  {
   "cell_type": "markdown",
   "metadata": {},
   "source": [
    "### "
   ]
  },
  {
   "cell_type": "code",
   "execution_count": 12,
   "metadata": {
    "collapsed": false
   },
   "outputs": [
    {
     "name": "stderr",
     "output_type": "stream",
     "text": [
      "/Users/zy/anaconda/lib/python3.5/site-packages/pandas/core/indexing.py:132: SettingWithCopyWarning: \n",
      "A value is trying to be set on a copy of a slice from a DataFrame\n",
      "\n",
      "See the caveats in the documentation: http://pandas.pydata.org/pandas-docs/stable/indexing.html#indexing-view-versus-copy\n",
      "  self._setitem_with_indexer(indexer, value)\n"
     ]
    }
   ],
   "source": [
    "train_df[\"manager_level_low\"] = np.nan\n",
    "train_df[\"manager_level_medium\"] = np.nan\n",
    "train_df[\"manager_level_high\"] = np.nan\n",
    "\n",
    "for i in train_df[\"manager_id\"].unique():\n",
    "    df = train_df[train_df[\"manager_id\"]== i]\n",
    "    num = len(df)\n",
    "    low = len(df[df[\"interest_level\"]== \"low\"])\n",
    "    high = len(df[df[\"interest_level\"]== \"high\"])\n",
    "    medium = len(df[df[\"interest_level\"]== \"medium\"])\n",
    "    pro_low = low/num\n",
    "    pro_high = high/num\n",
    "    pro_medium = medium/num \n",
    "    train_df['manager_level_low'].ix[train_df[\"manager_id\"]== i] = pro_low\n",
    "    train_df['manager_level_high'].ix[train_df[\"manager_id\"]== i] = pro_high\n",
    "    train_df['manager_level_medium'].ix[train_df[\"manager_id\"]== i] = pro_medium\n",
    "    \n",
    "test_df[\"manager_level_low\"] = np.nan\n",
    "test_df[\"manager_level_medium\"] = np.nan\n",
    "test_df[\"manager_level_high\"] = np.nan\n",
    "\n",
    "for i in test_df[\"manager_id\"].unique():\n",
    "    if i in train_df[\"manager_id\"].unique():\n",
    "        pro_low = float(train_df[train_df[\"manager_id\"]== i].manager_level_low.unique())\n",
    "        pro_high = float(train_df[train_df[\"manager_id\"]== i].manager_level_high.unique())\n",
    "        pro_medium = float(train_df[train_df[\"manager_id\"]== i].manager_level_medium.unique())\n",
    "        test_df['manager_level_low'].ix[test_df[\"manager_id\"]== i] = pro_low\n",
    "        test_df['manager_level_high'].ix[test_df[\"manager_id\"]== i] = pro_high\n",
    "        test_df['manager_level_medium'].ix[test_df[\"manager_id\"]== i] = pro_medium      "
   ]
  },
  {
   "cell_type": "code",
   "execution_count": 13,
   "metadata": {
    "collapsed": false
   },
   "outputs": [],
   "source": [
    "from sklearn.feature_extraction.text import TfidfTransformer, CountVectorizer, TfidfVectorizer\n",
    "def feature_extra(text):\n",
    "    t = [i.replace(\" \",\"\").lower() for i in text]\n",
    "    feature = \"\"\n",
    "    for i in t:\n",
    "        feature += i+\" \"\n",
    "    return feature\n",
    "\n",
    "train_df['feature_extraction'] = train_df[\"features\"].apply(feature_extra)\n",
    "test_df['feature_extraction'] = test_df[\"features\"].apply(feature_extra)\n",
    "\n",
    "tfidf = CountVectorizer(stop_words='english', max_features=200)\n",
    "tr_sparse = tfidf.fit_transform(train_df['feature_extraction'])\n",
    "te_sparse = tfidf.transform(test_df['feature_extraction'])"
   ]
  },
  {
   "cell_type": "code",
   "execution_count": 13,
   "metadata": {
    "collapsed": false
   },
   "outputs": [
    {
     "data": {
      "text/html": [
       "<div>\n",
       "<table border=\"1\" class=\"dataframe\">\n",
       "  <thead>\n",
       "    <tr style=\"text-align: right;\">\n",
       "      <th></th>\n",
       "      <th>bathrooms</th>\n",
       "      <th>bedrooms</th>\n",
       "      <th>building_id</th>\n",
       "      <th>created</th>\n",
       "      <th>description</th>\n",
       "      <th>display_address</th>\n",
       "      <th>features</th>\n",
       "      <th>interest_level</th>\n",
       "      <th>latitude</th>\n",
       "      <th>listing_id</th>\n",
       "      <th>...</th>\n",
       "      <th>Log_price</th>\n",
       "      <th>num_photos</th>\n",
       "      <th>created_month</th>\n",
       "      <th>created_day</th>\n",
       "      <th>created_dayofyear</th>\n",
       "      <th>num_features</th>\n",
       "      <th>manager_level_low</th>\n",
       "      <th>manager_level_medium</th>\n",
       "      <th>manager_level_high</th>\n",
       "      <th>feature_extraction</th>\n",
       "    </tr>\n",
       "  </thead>\n",
       "  <tbody>\n",
       "    <tr>\n",
       "      <th>0</th>\n",
       "      <td>1.5</td>\n",
       "      <td>3</td>\n",
       "      <td>3797</td>\n",
       "      <td>2016-06-24 07:54:24</td>\n",
       "      <td>A Brand New 3 Bedroom 1.5 bath ApartmentEnjoy ...</td>\n",
       "      <td>12282</td>\n",
       "      <td>[]</td>\n",
       "      <td>medium</td>\n",
       "      <td>40.7145</td>\n",
       "      <td>7211212</td>\n",
       "      <td>...</td>\n",
       "      <td>8.006368</td>\n",
       "      <td>5</td>\n",
       "      <td>6</td>\n",
       "      <td>24</td>\n",
       "      <td>176</td>\n",
       "      <td>0</td>\n",
       "      <td>0.744444</td>\n",
       "      <td>0.255556</td>\n",
       "      <td>0.000000</td>\n",
       "      <td></td>\n",
       "    </tr>\n",
       "    <tr>\n",
       "      <th>1</th>\n",
       "      <td>1.0</td>\n",
       "      <td>2</td>\n",
       "      <td>8986</td>\n",
       "      <td>2016-06-12 12:19:27</td>\n",
       "      <td></td>\n",
       "      <td>9080</td>\n",
       "      <td>[Doorman, Elevator, Fitness Center, Cats Allow...</td>\n",
       "      <td>low</td>\n",
       "      <td>40.7947</td>\n",
       "      <td>7150865</td>\n",
       "      <td>...</td>\n",
       "      <td>8.606119</td>\n",
       "      <td>11</td>\n",
       "      <td>6</td>\n",
       "      <td>12</td>\n",
       "      <td>164</td>\n",
       "      <td>5</td>\n",
       "      <td>0.988372</td>\n",
       "      <td>0.011628</td>\n",
       "      <td>0.000000</td>\n",
       "      <td>doorman elevator fitnesscenter catsallowed dog...</td>\n",
       "    </tr>\n",
       "    <tr>\n",
       "      <th>2</th>\n",
       "      <td>1.0</td>\n",
       "      <td>1</td>\n",
       "      <td>8889</td>\n",
       "      <td>2016-04-17 03:26:41</td>\n",
       "      <td>Top Top West Village location, beautiful Pre-w...</td>\n",
       "      <td>13719</td>\n",
       "      <td>[Laundry In Building, Dishwasher, Hardwood Flo...</td>\n",
       "      <td>high</td>\n",
       "      <td>40.7388</td>\n",
       "      <td>6887163</td>\n",
       "      <td>...</td>\n",
       "      <td>7.955074</td>\n",
       "      <td>8</td>\n",
       "      <td>4</td>\n",
       "      <td>17</td>\n",
       "      <td>108</td>\n",
       "      <td>4</td>\n",
       "      <td>0.574627</td>\n",
       "      <td>0.365672</td>\n",
       "      <td>0.059701</td>\n",
       "      <td>laundryinbuilding dishwasher hardwoodfloors pe...</td>\n",
       "    </tr>\n",
       "    <tr>\n",
       "      <th>3</th>\n",
       "      <td>1.0</td>\n",
       "      <td>1</td>\n",
       "      <td>1848</td>\n",
       "      <td>2016-04-18 02:22:02</td>\n",
       "      <td>Building Amenities - Garage - Garden - fitness...</td>\n",
       "      <td>10866</td>\n",
       "      <td>[Hardwood Floors, No Fee]</td>\n",
       "      <td>low</td>\n",
       "      <td>40.7539</td>\n",
       "      <td>6888711</td>\n",
       "      <td>...</td>\n",
       "      <td>8.094073</td>\n",
       "      <td>3</td>\n",
       "      <td>4</td>\n",
       "      <td>18</td>\n",
       "      <td>109</td>\n",
       "      <td>2</td>\n",
       "      <td>0.806283</td>\n",
       "      <td>0.125654</td>\n",
       "      <td>0.068063</td>\n",
       "      <td>hardwoodfloors nofee</td>\n",
       "    </tr>\n",
       "    <tr>\n",
       "      <th>4</th>\n",
       "      <td>1.0</td>\n",
       "      <td>4</td>\n",
       "      <td>0</td>\n",
       "      <td>2016-04-28 01:32:41</td>\n",
       "      <td>Beautifully renovated 3 bedroom flex 4 bedroom...</td>\n",
       "      <td>15072</td>\n",
       "      <td>[Pre-War]</td>\n",
       "      <td>low</td>\n",
       "      <td>40.8241</td>\n",
       "      <td>6934781</td>\n",
       "      <td>...</td>\n",
       "      <td>8.116716</td>\n",
       "      <td>3</td>\n",
       "      <td>4</td>\n",
       "      <td>28</td>\n",
       "      <td>119</td>\n",
       "      <td>1</td>\n",
       "      <td>1.000000</td>\n",
       "      <td>0.000000</td>\n",
       "      <td>0.000000</td>\n",
       "      <td>pre-war</td>\n",
       "    </tr>\n",
       "  </tbody>\n",
       "</table>\n",
       "<p>5 rows × 27 columns</p>\n",
       "</div>"
      ],
      "text/plain": [
       "   bathrooms  bedrooms  building_id              created  \\\n",
       "0        1.5         3         3797  2016-06-24 07:54:24   \n",
       "1        1.0         2         8986  2016-06-12 12:19:27   \n",
       "2        1.0         1         8889  2016-04-17 03:26:41   \n",
       "3        1.0         1         1848  2016-04-18 02:22:02   \n",
       "4        1.0         4            0  2016-04-28 01:32:41   \n",
       "\n",
       "                                         description  display_address  \\\n",
       "0  A Brand New 3 Bedroom 1.5 bath ApartmentEnjoy ...            12282   \n",
       "1                                                                9080   \n",
       "2  Top Top West Village location, beautiful Pre-w...            13719   \n",
       "3  Building Amenities - Garage - Garden - fitness...            10866   \n",
       "4  Beautifully renovated 3 bedroom flex 4 bedroom...            15072   \n",
       "\n",
       "                                            features interest_level  latitude  \\\n",
       "0                                                 []         medium   40.7145   \n",
       "1  [Doorman, Elevator, Fitness Center, Cats Allow...            low   40.7947   \n",
       "2  [Laundry In Building, Dishwasher, Hardwood Flo...           high   40.7388   \n",
       "3                          [Hardwood Floors, No Fee]            low   40.7539   \n",
       "4                                          [Pre-War]            low   40.8241   \n",
       "\n",
       "   listing_id                        ...                          Log_price  \\\n",
       "0     7211212                        ...                           8.006368   \n",
       "1     7150865                        ...                           8.606119   \n",
       "2     6887163                        ...                           7.955074   \n",
       "3     6888711                        ...                           8.094073   \n",
       "4     6934781                        ...                           8.116716   \n",
       "\n",
       "   num_photos created_month  created_day  created_dayofyear  num_features  \\\n",
       "0           5             6           24                176             0   \n",
       "1          11             6           12                164             5   \n",
       "2           8             4           17                108             4   \n",
       "3           3             4           18                109             2   \n",
       "4           3             4           28                119             1   \n",
       "\n",
       "   manager_level_low  manager_level_medium  manager_level_high  \\\n",
       "0           0.744444              0.255556            0.000000   \n",
       "1           0.988372              0.011628            0.000000   \n",
       "2           0.574627              0.365672            0.059701   \n",
       "3           0.806283              0.125654            0.068063   \n",
       "4           1.000000              0.000000            0.000000   \n",
       "\n",
       "                                  feature_extraction  \n",
       "0                                                     \n",
       "1  doorman elevator fitnesscenter catsallowed dog...  \n",
       "2  laundryinbuilding dishwasher hardwoodfloors pe...  \n",
       "3                              hardwoodfloors nofee   \n",
       "4                                           pre-war   \n",
       "\n",
       "[5 rows x 27 columns]"
      ]
     },
     "execution_count": 13,
     "metadata": {},
     "output_type": "execute_result"
    }
   ],
   "source": [
    "train_df.head()"
   ]
  },
  {
   "cell_type": "code",
   "execution_count": 14,
   "metadata": {
    "collapsed": false
   },
   "outputs": [
    {
     "data": {
      "text/html": [
       "<div>\n",
       "<table border=\"1\" class=\"dataframe\">\n",
       "  <thead>\n",
       "    <tr style=\"text-align: right;\">\n",
       "      <th></th>\n",
       "      <th>bathrooms</th>\n",
       "      <th>bedrooms</th>\n",
       "      <th>building_id</th>\n",
       "      <th>created</th>\n",
       "      <th>description</th>\n",
       "      <th>display_address</th>\n",
       "      <th>features</th>\n",
       "      <th>latitude</th>\n",
       "      <th>listing_id</th>\n",
       "      <th>longitude</th>\n",
       "      <th>...</th>\n",
       "      <th>Log_price</th>\n",
       "      <th>num_photos</th>\n",
       "      <th>created_dayofyear</th>\n",
       "      <th>created_month</th>\n",
       "      <th>created_day</th>\n",
       "      <th>num_features</th>\n",
       "      <th>manager_level_low</th>\n",
       "      <th>manager_level_medium</th>\n",
       "      <th>manager_level_high</th>\n",
       "      <th>feature_extraction</th>\n",
       "    </tr>\n",
       "  </thead>\n",
       "  <tbody>\n",
       "    <tr>\n",
       "      <th>0</th>\n",
       "      <td>1.0</td>\n",
       "      <td>1</td>\n",
       "      <td>10542</td>\n",
       "      <td>2016-06-11 05:29:41</td>\n",
       "      <td>Large with awesome terrace--accessible via bed...</td>\n",
       "      <td>18330</td>\n",
       "      <td>[Elevator, Laundry in Building, Laundry in Uni...</td>\n",
       "      <td>40.7185</td>\n",
       "      <td>7142618</td>\n",
       "      <td>-73.9865</td>\n",
       "      <td>...</td>\n",
       "      <td>7.989560</td>\n",
       "      <td>8</td>\n",
       "      <td>163</td>\n",
       "      <td>6</td>\n",
       "      <td>11</td>\n",
       "      <td>6</td>\n",
       "      <td>NaN</td>\n",
       "      <td>NaN</td>\n",
       "      <td>NaN</td>\n",
       "      <td>elevator laundryinbuilding laundryinunit dishw...</td>\n",
       "    </tr>\n",
       "    <tr>\n",
       "      <th>1</th>\n",
       "      <td>1.0</td>\n",
       "      <td>2</td>\n",
       "      <td>0</td>\n",
       "      <td>2016-06-24 06:36:34</td>\n",
       "      <td>Prime Soho - between Bleecker and Houston - Ne...</td>\n",
       "      <td>18413</td>\n",
       "      <td>[Pre-War, Dogs Allowed, Cats Allowed]</td>\n",
       "      <td>40.7278</td>\n",
       "      <td>7210040</td>\n",
       "      <td>-74.0000</td>\n",
       "      <td>...</td>\n",
       "      <td>7.955074</td>\n",
       "      <td>3</td>\n",
       "      <td>176</td>\n",
       "      <td>6</td>\n",
       "      <td>24</td>\n",
       "      <td>3</td>\n",
       "      <td>NaN</td>\n",
       "      <td>NaN</td>\n",
       "      <td>NaN</td>\n",
       "      <td>pre-war dogsallowed catsallowed</td>\n",
       "    </tr>\n",
       "  </tbody>\n",
       "</table>\n",
       "<p>2 rows × 26 columns</p>\n",
       "</div>"
      ],
      "text/plain": [
       "   bathrooms  bedrooms  building_id              created  \\\n",
       "0        1.0         1        10542  2016-06-11 05:29:41   \n",
       "1        1.0         2            0  2016-06-24 06:36:34   \n",
       "\n",
       "                                         description  display_address  \\\n",
       "0  Large with awesome terrace--accessible via bed...            18330   \n",
       "1  Prime Soho - between Bleecker and Houston - Ne...            18413   \n",
       "\n",
       "                                            features  latitude  listing_id  \\\n",
       "0  [Elevator, Laundry in Building, Laundry in Uni...   40.7185     7142618   \n",
       "1              [Pre-War, Dogs Allowed, Cats Allowed]   40.7278     7210040   \n",
       "\n",
       "   longitude                        ...                          Log_price  \\\n",
       "0   -73.9865                        ...                           7.989560   \n",
       "1   -74.0000                        ...                           7.955074   \n",
       "\n",
       "  num_photos  created_dayofyear  created_month  created_day  num_features  \\\n",
       "0          8                163              6           11             6   \n",
       "1          3                176              6           24             3   \n",
       "\n",
       "   manager_level_low  manager_level_medium  manager_level_high  \\\n",
       "0                NaN                   NaN                 NaN   \n",
       "1                NaN                   NaN                 NaN   \n",
       "\n",
       "                                  feature_extraction  \n",
       "0  elevator laundryinbuilding laundryinunit dishw...  \n",
       "1                   pre-war dogsallowed catsallowed   \n",
       "\n",
       "[2 rows x 26 columns]"
      ]
     },
     "execution_count": 14,
     "metadata": {},
     "output_type": "execute_result"
    }
   ],
   "source": [
    "test_df.head(2)"
   ]
  },
  {
   "cell_type": "markdown",
   "metadata": {},
   "source": [
    "### XGboost : the best model"
   ]
  },
  {
   "cell_type": "code",
   "execution_count": 25,
   "metadata": {
    "collapsed": true
   },
   "outputs": [],
   "source": [
    "train_df[\"price_t\"] =train_df[\"price\"]/train_df[\"bedrooms\"]\n",
    "test_df[\"price_t\"] = test_df[\"price\"]/test_df[\"bedrooms\"] \n",
    "\n",
    "train_df[\"room_sum\"] = train_df[\"bedrooms\"]+train_df[\"bathrooms\"] \n",
    "test_df[\"room_sum\"] = test_df[\"bedrooms\"]+test_df[\"bathrooms\"] \n",
    "\n",
    "train_df['price_per_room'] = train_df['price']/train_df['room_sum']\n",
    "test_df['price_per_room'] = test_df['price']/test_df['room_sum']\n",
    "\n",
    "\n",
    "train_df['half_bathrooms'] = train_df[\"bathrooms\"] - train_df[\"bathrooms\"].apply(int)\n",
    "test_df['half_bathrooms'] = test_df[\"bathrooms\"] - test_df[\"bathrooms\"].apply(int)"
   ]
  },
  {
   "cell_type": "code",
   "execution_count": 18,
   "metadata": {
    "collapsed": true
   },
   "outputs": [],
   "source": [
    "def runXGB(train_X, train_y, test_X, test_y=None, feature_names=None, seed_val=0, num_rounds=1000):\n",
    "    param = {}\n",
    "    param['objective'] = 'multi:softprob'\n",
    "    param['eta'] = 0.1\n",
    "    param['max_depth'] = 6\n",
    "    param['silent'] = 1\n",
    "    param['num_class'] = 3\n",
    "    param['eval_metric'] = \"mlogloss\"\n",
    "    param['min_child_weight'] = 1\n",
    "    param['subsample'] = 0.7\n",
    "    param['colsample_bytree'] = 0.7\n",
    "    param['seed'] = seed_val\n",
    "    num_rounds = num_rounds\n",
    "\n",
    "    plst = list(param.items())\n",
    "    xgtrain = xgb.DMatrix(train_X, label=train_y)\n",
    "\n",
    "    if test_y is not None:\n",
    "        xgtest = xgb.DMatrix(test_X, label=test_y)\n",
    "        watchlist = [ (xgtrain,'train'), (xgtest, 'test') ]\n",
    "        model = xgb.train(plst, xgtrain, num_rounds, watchlist, early_stopping_rounds=20)\n",
    "    else:\n",
    "        xgtest = xgb.DMatrix(test_X)\n",
    "        model = xgb.train(plst, xgtrain, num_rounds)\n",
    "\n",
    "    pred_test_y = model.predict(xgtest)\n",
    "    return pred_test_y, model\n"
   ]
  },
  {
   "cell_type": "code",
   "execution_count": 27,
   "metadata": {
    "collapsed": false
   },
   "outputs": [],
   "source": [
    "features_to_use = [\"Log_price\",\"num_photos\",\"created_month\",\"created_day\",\"bathrooms\", \"bedrooms\",\n",
    "                 \"latitude\",\"longitude\",\"description_score\",\"num_features\",\"num_description\",\n",
    "                  \"manager_id\", \"building_id\", \"created_dayofyear\",\n",
    "                  \"manager_level_low\",\"manager_level_medium\",\"manager_level_high\", \"display_address\",\"street_address\",\n",
    "                  \"price_t\", \"room_sum\",'price_per_room','half_bathrooms'\n",
    "                  ]"
   ]
  },
  {
   "cell_type": "code",
   "execution_count": 28,
   "metadata": {
    "collapsed": false
   },
   "outputs": [
    {
     "name": "stdout",
     "output_type": "stream",
     "text": [
      "(49352, 223) (74659, 223)\n"
     ]
    }
   ],
   "source": [
    "from scipy import sparse\n",
    "train_X = sparse.hstack([train_df[features_to_use], tr_sparse]).tocsr()\n",
    "test_X = sparse.hstack([test_df[features_to_use], te_sparse]).tocsr()\n",
    "\n",
    "target_num_map = {'high':0, 'medium':1, 'low':2}\n",
    "train_y = np.array(train_df['interest_level'].apply(lambda x: target_num_map[x]))\n",
    "print(train_X.shape, test_X.shape)"
   ]
  },
  {
   "cell_type": "code",
   "execution_count": 29,
   "metadata": {
    "collapsed": false
   },
   "outputs": [
    {
     "name": "stdout",
     "output_type": "stream",
     "text": [
      "[0]\ttrain-mlogloss:1.0256\ttest-mlogloss:1.02729\n",
      "Multiple eval metrics have been passed: 'test-mlogloss' will be used for early stopping.\n",
      "\n",
      "Will train until test-mlogloss hasn't improved in 20 rounds.\n",
      "[1]\ttrain-mlogloss:0.964369\ttest-mlogloss:0.96737\n",
      "[2]\ttrain-mlogloss:0.911802\ttest-mlogloss:0.916025\n",
      "[3]\ttrain-mlogloss:0.866025\ttest-mlogloss:0.871745\n",
      "[4]\ttrain-mlogloss:0.827189\ttest-mlogloss:0.834218\n",
      "[5]\ttrain-mlogloss:0.794033\ttest-mlogloss:0.802169\n",
      "[6]\ttrain-mlogloss:0.764908\ttest-mlogloss:0.773733\n",
      "[7]\ttrain-mlogloss:0.740653\ttest-mlogloss:0.750645\n",
      "[8]\ttrain-mlogloss:0.716012\ttest-mlogloss:0.726976\n",
      "[9]\ttrain-mlogloss:0.694129\ttest-mlogloss:0.706213\n",
      "[10]\ttrain-mlogloss:0.674815\ttest-mlogloss:0.687971\n",
      "[11]\ttrain-mlogloss:0.657922\ttest-mlogloss:0.672176\n",
      "[12]\ttrain-mlogloss:0.643188\ttest-mlogloss:0.658479\n",
      "[13]\ttrain-mlogloss:0.629922\ttest-mlogloss:0.646121\n",
      "[14]\ttrain-mlogloss:0.6177\ttest-mlogloss:0.635061\n",
      "[15]\ttrain-mlogloss:0.607381\ttest-mlogloss:0.625675\n",
      "[16]\ttrain-mlogloss:0.597126\ttest-mlogloss:0.61626\n",
      "[17]\ttrain-mlogloss:0.587549\ttest-mlogloss:0.607711\n",
      "[18]\ttrain-mlogloss:0.579292\ttest-mlogloss:0.600308\n",
      "[19]\ttrain-mlogloss:0.571845\ttest-mlogloss:0.593556\n",
      "[20]\ttrain-mlogloss:0.564778\ttest-mlogloss:0.587235\n",
      "[21]\ttrain-mlogloss:0.558397\ttest-mlogloss:0.581684\n",
      "[22]\ttrain-mlogloss:0.552892\ttest-mlogloss:0.576816\n",
      "[23]\ttrain-mlogloss:0.547505\ttest-mlogloss:0.572389\n",
      "[24]\ttrain-mlogloss:0.542759\ttest-mlogloss:0.568374\n",
      "[25]\ttrain-mlogloss:0.538125\ttest-mlogloss:0.564313\n",
      "[26]\ttrain-mlogloss:0.534038\ttest-mlogloss:0.560827\n",
      "[27]\ttrain-mlogloss:0.530412\ttest-mlogloss:0.557946\n",
      "[28]\ttrain-mlogloss:0.52707\ttest-mlogloss:0.555104\n",
      "[29]\ttrain-mlogloss:0.523365\ttest-mlogloss:0.55182\n",
      "[30]\ttrain-mlogloss:0.520268\ttest-mlogloss:0.549378\n",
      "[31]\ttrain-mlogloss:0.517251\ttest-mlogloss:0.546903\n",
      "[32]\ttrain-mlogloss:0.514137\ttest-mlogloss:0.544584\n",
      "[33]\ttrain-mlogloss:0.51126\ttest-mlogloss:0.542405\n",
      "[34]\ttrain-mlogloss:0.508922\ttest-mlogloss:0.540783\n",
      "[35]\ttrain-mlogloss:0.506863\ttest-mlogloss:0.539165\n",
      "[36]\ttrain-mlogloss:0.504653\ttest-mlogloss:0.537826\n",
      "[37]\ttrain-mlogloss:0.502772\ttest-mlogloss:0.536405\n",
      "[38]\ttrain-mlogloss:0.500504\ttest-mlogloss:0.534635\n",
      "[39]\ttrain-mlogloss:0.498627\ttest-mlogloss:0.533295\n",
      "[40]\ttrain-mlogloss:0.496121\ttest-mlogloss:0.531459\n",
      "[41]\ttrain-mlogloss:0.494105\ttest-mlogloss:0.530273\n",
      "[42]\ttrain-mlogloss:0.492307\ttest-mlogloss:0.529152\n",
      "[43]\ttrain-mlogloss:0.490652\ttest-mlogloss:0.527943\n",
      "[44]\ttrain-mlogloss:0.489163\ttest-mlogloss:0.526814\n",
      "[45]\ttrain-mlogloss:0.487484\ttest-mlogloss:0.525858\n",
      "[46]\ttrain-mlogloss:0.485986\ttest-mlogloss:0.524899\n",
      "[47]\ttrain-mlogloss:0.484473\ttest-mlogloss:0.523872\n",
      "[48]\ttrain-mlogloss:0.483275\ttest-mlogloss:0.523042\n",
      "[49]\ttrain-mlogloss:0.481821\ttest-mlogloss:0.522083\n",
      "[50]\ttrain-mlogloss:0.480031\ttest-mlogloss:0.521299\n",
      "[51]\ttrain-mlogloss:0.478375\ttest-mlogloss:0.520674\n",
      "[52]\ttrain-mlogloss:0.476839\ttest-mlogloss:0.519759\n",
      "[53]\ttrain-mlogloss:0.475742\ttest-mlogloss:0.51907\n",
      "[54]\ttrain-mlogloss:0.474106\ttest-mlogloss:0.518148\n",
      "[55]\ttrain-mlogloss:0.472853\ttest-mlogloss:0.517493\n",
      "[56]\ttrain-mlogloss:0.471393\ttest-mlogloss:0.516861\n",
      "[57]\ttrain-mlogloss:0.470099\ttest-mlogloss:0.516169\n",
      "[58]\ttrain-mlogloss:0.469252\ttest-mlogloss:0.515671\n",
      "[59]\ttrain-mlogloss:0.46796\ttest-mlogloss:0.514947\n",
      "[60]\ttrain-mlogloss:0.466692\ttest-mlogloss:0.514215\n",
      "[61]\ttrain-mlogloss:0.465551\ttest-mlogloss:0.5137\n",
      "[62]\ttrain-mlogloss:0.464004\ttest-mlogloss:0.513025\n",
      "[63]\ttrain-mlogloss:0.462796\ttest-mlogloss:0.51233\n",
      "[64]\ttrain-mlogloss:0.461811\ttest-mlogloss:0.511888\n",
      "[65]\ttrain-mlogloss:0.460763\ttest-mlogloss:0.511228\n",
      "[66]\ttrain-mlogloss:0.459476\ttest-mlogloss:0.510648\n",
      "[67]\ttrain-mlogloss:0.458554\ttest-mlogloss:0.510344\n",
      "[68]\ttrain-mlogloss:0.457473\ttest-mlogloss:0.509974\n",
      "[69]\ttrain-mlogloss:0.456388\ttest-mlogloss:0.509417\n",
      "[70]\ttrain-mlogloss:0.455553\ttest-mlogloss:0.509024\n",
      "[71]\ttrain-mlogloss:0.454609\ttest-mlogloss:0.508662\n",
      "[72]\ttrain-mlogloss:0.453971\ttest-mlogloss:0.508391\n",
      "[73]\ttrain-mlogloss:0.453194\ttest-mlogloss:0.508075\n",
      "[74]\ttrain-mlogloss:0.452442\ttest-mlogloss:0.507687\n",
      "[75]\ttrain-mlogloss:0.451399\ttest-mlogloss:0.507497\n",
      "[76]\ttrain-mlogloss:0.450393\ttest-mlogloss:0.507064\n",
      "[77]\ttrain-mlogloss:0.449731\ttest-mlogloss:0.506755\n",
      "[78]\ttrain-mlogloss:0.448759\ttest-mlogloss:0.506415\n",
      "[79]\ttrain-mlogloss:0.447851\ttest-mlogloss:0.506052\n",
      "[80]\ttrain-mlogloss:0.446919\ttest-mlogloss:0.505567\n",
      "[81]\ttrain-mlogloss:0.445764\ttest-mlogloss:0.505315\n",
      "[82]\ttrain-mlogloss:0.445226\ttest-mlogloss:0.505196\n",
      "[83]\ttrain-mlogloss:0.444251\ttest-mlogloss:0.504933\n",
      "[84]\ttrain-mlogloss:0.44346\ttest-mlogloss:0.504659\n",
      "[85]\ttrain-mlogloss:0.442626\ttest-mlogloss:0.504391\n",
      "[86]\ttrain-mlogloss:0.441695\ttest-mlogloss:0.504186\n",
      "[87]\ttrain-mlogloss:0.44111\ttest-mlogloss:0.504089\n",
      "[88]\ttrain-mlogloss:0.440148\ttest-mlogloss:0.503865\n",
      "[89]\ttrain-mlogloss:0.438889\ttest-mlogloss:0.503421\n",
      "[90]\ttrain-mlogloss:0.437755\ttest-mlogloss:0.503059\n",
      "[91]\ttrain-mlogloss:0.43724\ttest-mlogloss:0.502916\n",
      "[92]\ttrain-mlogloss:0.436421\ttest-mlogloss:0.502612\n",
      "[93]\ttrain-mlogloss:0.435232\ttest-mlogloss:0.502254\n",
      "[94]\ttrain-mlogloss:0.434823\ttest-mlogloss:0.502077\n",
      "[95]\ttrain-mlogloss:0.434084\ttest-mlogloss:0.502036\n",
      "[96]\ttrain-mlogloss:0.433456\ttest-mlogloss:0.501939\n",
      "[97]\ttrain-mlogloss:0.432555\ttest-mlogloss:0.501891\n",
      "[98]\ttrain-mlogloss:0.431719\ttest-mlogloss:0.501584\n",
      "[99]\ttrain-mlogloss:0.4308\ttest-mlogloss:0.501475\n",
      "[100]\ttrain-mlogloss:0.429864\ttest-mlogloss:0.501315\n",
      "[101]\ttrain-mlogloss:0.429084\ttest-mlogloss:0.50109\n",
      "[102]\ttrain-mlogloss:0.428365\ttest-mlogloss:0.501005\n",
      "[103]\ttrain-mlogloss:0.427477\ttest-mlogloss:0.500953\n",
      "[104]\ttrain-mlogloss:0.426494\ttest-mlogloss:0.50081\n",
      "[105]\ttrain-mlogloss:0.425508\ttest-mlogloss:0.500485\n",
      "[106]\ttrain-mlogloss:0.424737\ttest-mlogloss:0.50041\n",
      "[107]\ttrain-mlogloss:0.423897\ttest-mlogloss:0.500079\n",
      "[108]\ttrain-mlogloss:0.423071\ttest-mlogloss:0.49984\n",
      "[109]\ttrain-mlogloss:0.42234\ttest-mlogloss:0.499711\n",
      "[110]\ttrain-mlogloss:0.421748\ttest-mlogloss:0.499575\n",
      "[111]\ttrain-mlogloss:0.420976\ttest-mlogloss:0.499391\n",
      "[112]\ttrain-mlogloss:0.420298\ttest-mlogloss:0.499311\n",
      "[113]\ttrain-mlogloss:0.419725\ttest-mlogloss:0.499234\n",
      "[114]\ttrain-mlogloss:0.419008\ttest-mlogloss:0.499114\n",
      "[115]\ttrain-mlogloss:0.418525\ttest-mlogloss:0.499089\n",
      "[116]\ttrain-mlogloss:0.418007\ttest-mlogloss:0.498857\n",
      "[117]\ttrain-mlogloss:0.417351\ttest-mlogloss:0.498704\n",
      "[118]\ttrain-mlogloss:0.416729\ttest-mlogloss:0.498568\n",
      "[119]\ttrain-mlogloss:0.41605\ttest-mlogloss:0.498396\n",
      "[120]\ttrain-mlogloss:0.41516\ttest-mlogloss:0.498275\n",
      "[121]\ttrain-mlogloss:0.414611\ttest-mlogloss:0.498175\n",
      "[122]\ttrain-mlogloss:0.413901\ttest-mlogloss:0.498021\n",
      "[123]\ttrain-mlogloss:0.413095\ttest-mlogloss:0.497943\n",
      "[124]\ttrain-mlogloss:0.412613\ttest-mlogloss:0.497841\n",
      "[125]\ttrain-mlogloss:0.412039\ttest-mlogloss:0.497872\n",
      "[126]\ttrain-mlogloss:0.411199\ttest-mlogloss:0.497797\n",
      "[127]\ttrain-mlogloss:0.410371\ttest-mlogloss:0.497585\n",
      "[128]\ttrain-mlogloss:0.409675\ttest-mlogloss:0.497628\n",
      "[129]\ttrain-mlogloss:0.408896\ttest-mlogloss:0.497624\n",
      "[130]\ttrain-mlogloss:0.408092\ttest-mlogloss:0.497523\n",
      "[131]\ttrain-mlogloss:0.407507\ttest-mlogloss:0.497441\n",
      "[132]\ttrain-mlogloss:0.406772\ttest-mlogloss:0.497418\n",
      "[133]\ttrain-mlogloss:0.406323\ttest-mlogloss:0.497309\n",
      "[134]\ttrain-mlogloss:0.405774\ttest-mlogloss:0.497164\n",
      "[135]\ttrain-mlogloss:0.405157\ttest-mlogloss:0.497188\n",
      "[136]\ttrain-mlogloss:0.404515\ttest-mlogloss:0.497155\n",
      "[137]\ttrain-mlogloss:0.404011\ttest-mlogloss:0.496969\n",
      "[138]\ttrain-mlogloss:0.403103\ttest-mlogloss:0.496833\n",
      "[139]\ttrain-mlogloss:0.40273\ttest-mlogloss:0.496797\n",
      "[140]\ttrain-mlogloss:0.402288\ttest-mlogloss:0.4968\n",
      "[141]\ttrain-mlogloss:0.401913\ttest-mlogloss:0.496786\n",
      "[142]\ttrain-mlogloss:0.401359\ttest-mlogloss:0.496615\n",
      "[143]\ttrain-mlogloss:0.400789\ttest-mlogloss:0.496496\n",
      "[144]\ttrain-mlogloss:0.399882\ttest-mlogloss:0.496425\n",
      "[145]\ttrain-mlogloss:0.399253\ttest-mlogloss:0.496285\n",
      "[146]\ttrain-mlogloss:0.398541\ttest-mlogloss:0.496131\n",
      "[147]\ttrain-mlogloss:0.398059\ttest-mlogloss:0.496044\n",
      "[148]\ttrain-mlogloss:0.397388\ttest-mlogloss:0.496071\n",
      "[149]\ttrain-mlogloss:0.396651\ttest-mlogloss:0.496108\n",
      "[150]\ttrain-mlogloss:0.396048\ttest-mlogloss:0.495984\n",
      "[151]\ttrain-mlogloss:0.39574\ttest-mlogloss:0.495923\n",
      "[152]\ttrain-mlogloss:0.39498\ttest-mlogloss:0.495895\n",
      "[153]\ttrain-mlogloss:0.394439\ttest-mlogloss:0.495841\n",
      "[154]\ttrain-mlogloss:0.393765\ttest-mlogloss:0.495721\n",
      "[155]\ttrain-mlogloss:0.393234\ttest-mlogloss:0.495695\n",
      "[156]\ttrain-mlogloss:0.392599\ttest-mlogloss:0.495636\n",
      "[157]\ttrain-mlogloss:0.392085\ttest-mlogloss:0.495644\n",
      "[158]\ttrain-mlogloss:0.391236\ttest-mlogloss:0.495682\n",
      "[159]\ttrain-mlogloss:0.390536\ttest-mlogloss:0.495606\n",
      "[160]\ttrain-mlogloss:0.38971\ttest-mlogloss:0.495433\n",
      "[161]\ttrain-mlogloss:0.388988\ttest-mlogloss:0.495364\n",
      "[162]\ttrain-mlogloss:0.388428\ttest-mlogloss:0.495205\n",
      "[163]\ttrain-mlogloss:0.387613\ttest-mlogloss:0.495211\n",
      "[164]\ttrain-mlogloss:0.387131\ttest-mlogloss:0.495214\n",
      "[165]\ttrain-mlogloss:0.386389\ttest-mlogloss:0.495329\n",
      "[166]\ttrain-mlogloss:0.385735\ttest-mlogloss:0.495294\n",
      "[167]\ttrain-mlogloss:0.385301\ttest-mlogloss:0.495128\n",
      "[168]\ttrain-mlogloss:0.384659\ttest-mlogloss:0.495108\n",
      "[169]\ttrain-mlogloss:0.384015\ttest-mlogloss:0.495034\n",
      "[170]\ttrain-mlogloss:0.383501\ttest-mlogloss:0.495001\n",
      "[171]\ttrain-mlogloss:0.382969\ttest-mlogloss:0.494836\n",
      "[172]\ttrain-mlogloss:0.382366\ttest-mlogloss:0.494817\n",
      "[173]\ttrain-mlogloss:0.381753\ttest-mlogloss:0.494832\n",
      "[174]\ttrain-mlogloss:0.381194\ttest-mlogloss:0.4949\n",
      "[175]\ttrain-mlogloss:0.380671\ttest-mlogloss:0.49488\n",
      "[176]\ttrain-mlogloss:0.380115\ttest-mlogloss:0.494999\n",
      "[177]\ttrain-mlogloss:0.379515\ttest-mlogloss:0.494885\n",
      "[178]\ttrain-mlogloss:0.378979\ttest-mlogloss:0.494886\n",
      "[179]\ttrain-mlogloss:0.378363\ttest-mlogloss:0.494877\n",
      "[180]\ttrain-mlogloss:0.377744\ttest-mlogloss:0.494836\n",
      "[181]\ttrain-mlogloss:0.377269\ttest-mlogloss:0.494897\n",
      "[182]\ttrain-mlogloss:0.376587\ttest-mlogloss:0.494985\n",
      "[183]\ttrain-mlogloss:0.376006\ttest-mlogloss:0.495044\n",
      "[184]\ttrain-mlogloss:0.375624\ttest-mlogloss:0.494992\n",
      "[185]\ttrain-mlogloss:0.37521\ttest-mlogloss:0.495012\n",
      "[186]\ttrain-mlogloss:0.37445\ttest-mlogloss:0.495058\n",
      "[187]\ttrain-mlogloss:0.373667\ttest-mlogloss:0.495018\n",
      "[188]\ttrain-mlogloss:0.373229\ttest-mlogloss:0.49506\n",
      "[189]\ttrain-mlogloss:0.372615\ttest-mlogloss:0.494897\n",
      "[190]\ttrain-mlogloss:0.371978\ttest-mlogloss:0.494915\n",
      "[191]\ttrain-mlogloss:0.371395\ttest-mlogloss:0.494973\n",
      "[192]\ttrain-mlogloss:0.370799\ttest-mlogloss:0.495011\n",
      "Stopping. Best iteration:\n",
      "[172]\ttrain-mlogloss:0.382366\ttest-mlogloss:0.494817\n",
      "\n",
      "[0.49501140313422892]\n"
     ]
    }
   ],
   "source": [
    "import xgboost as xgb\n",
    "cv_scores = []\n",
    "kf = model_selection.KFold(n_splits=5, shuffle=True, random_state=2016)\n",
    "for dev_index, val_index in kf.split(range(train_X.shape[0])):\n",
    "        dev_X, val_X = train_X[dev_index,:], train_X[val_index,:]\n",
    "        dev_y, val_y = train_y[dev_index], train_y[val_index]\n",
    "        preds, model = runXGB(dev_X, dev_y, val_X, val_y)\n",
    "        cv_scores.append(log_loss(val_y, preds))\n",
    "        print(cv_scores)\n",
    "        break"
   ]
  },
  {
   "cell_type": "code",
   "execution_count": 30,
   "metadata": {
    "collapsed": true
   },
   "outputs": [],
   "source": [
    "preds, model = runXGB(train_X, train_y, test_X, num_rounds=400)\n",
    "out_df = pd.DataFrame(preds)\n",
    "out_df.columns = [\"high\", \"medium\", \"low\"]\n",
    "out_df[\"listing_id\"] = test_df.listing_id.values\n",
    "out_df.to_csv(\"data/prediction.csv\", index=False)"
   ]
  },
  {
   "cell_type": "markdown",
   "metadata": {},
   "source": [
    "### The outcome"
   ]
  },
  {
   "cell_type": "code",
   "execution_count": 31,
   "metadata": {
    "collapsed": false
   },
   "outputs": [
    {
     "data": {
      "text/html": [
       "<div>\n",
       "<table border=\"1\" class=\"dataframe\">\n",
       "  <thead>\n",
       "    <tr style=\"text-align: right;\">\n",
       "      <th></th>\n",
       "      <th>listing_id</th>\n",
       "      <th>high</th>\n",
       "      <th>medium</th>\n",
       "      <th>low</th>\n",
       "    </tr>\n",
       "  </thead>\n",
       "  <tbody>\n",
       "    <tr>\n",
       "      <th>0</th>\n",
       "      <td>7142618</td>\n",
       "      <td>0.072204</td>\n",
       "      <td>0.380277</td>\n",
       "      <td>0.547519</td>\n",
       "    </tr>\n",
       "    <tr>\n",
       "      <th>1</th>\n",
       "      <td>7210040</td>\n",
       "      <td>0.113386</td>\n",
       "      <td>0.273819</td>\n",
       "      <td>0.612795</td>\n",
       "    </tr>\n",
       "    <tr>\n",
       "      <th>2</th>\n",
       "      <td>7103890</td>\n",
       "      <td>0.124432</td>\n",
       "      <td>0.132424</td>\n",
       "      <td>0.743144</td>\n",
       "    </tr>\n",
       "    <tr>\n",
       "      <th>3</th>\n",
       "      <td>7143442</td>\n",
       "      <td>0.000051</td>\n",
       "      <td>0.000775</td>\n",
       "      <td>0.999174</td>\n",
       "    </tr>\n",
       "    <tr>\n",
       "      <th>4</th>\n",
       "      <td>6860601</td>\n",
       "      <td>0.080586</td>\n",
       "      <td>0.103095</td>\n",
       "      <td>0.816319</td>\n",
       "    </tr>\n",
       "    <tr>\n",
       "      <th>5</th>\n",
       "      <td>6840081</td>\n",
       "      <td>0.019829</td>\n",
       "      <td>0.070577</td>\n",
       "      <td>0.909595</td>\n",
       "    </tr>\n",
       "    <tr>\n",
       "      <th>6</th>\n",
       "      <td>6922337</td>\n",
       "      <td>0.000097</td>\n",
       "      <td>0.221687</td>\n",
       "      <td>0.778216</td>\n",
       "    </tr>\n",
       "    <tr>\n",
       "      <th>7</th>\n",
       "      <td>6913616</td>\n",
       "      <td>0.000116</td>\n",
       "      <td>0.001046</td>\n",
       "      <td>0.998838</td>\n",
       "    </tr>\n",
       "    <tr>\n",
       "      <th>8</th>\n",
       "      <td>6937820</td>\n",
       "      <td>0.105496</td>\n",
       "      <td>0.328262</td>\n",
       "      <td>0.566242</td>\n",
       "    </tr>\n",
       "    <tr>\n",
       "      <th>9</th>\n",
       "      <td>6893933</td>\n",
       "      <td>0.980709</td>\n",
       "      <td>0.008482</td>\n",
       "      <td>0.010809</td>\n",
       "    </tr>\n",
       "  </tbody>\n",
       "</table>\n",
       "</div>"
      ],
      "text/plain": [
       "   listing_id      high    medium       low\n",
       "0     7142618  0.072204  0.380277  0.547519\n",
       "1     7210040  0.113386  0.273819  0.612795\n",
       "2     7103890  0.124432  0.132424  0.743144\n",
       "3     7143442  0.000051  0.000775  0.999174\n",
       "4     6860601  0.080586  0.103095  0.816319\n",
       "5     6840081  0.019829  0.070577  0.909595\n",
       "6     6922337  0.000097  0.221687  0.778216\n",
       "7     6913616  0.000116  0.001046  0.998838\n",
       "8     6937820  0.105496  0.328262  0.566242\n",
       "9     6893933  0.980709  0.008482  0.010809"
      ]
     },
     "execution_count": 31,
     "metadata": {},
     "output_type": "execute_result"
    }
   ],
   "source": [
    "out_df[[\"listing_id\",\"high\",\"medium\",\"low\"]].head(10)"
   ]
  },
  {
   "cell_type": "markdown",
   "metadata": {
    "collapsed": true
   },
   "source": [
    "### Neural Network"
   ]
  },
  {
   "cell_type": "code",
   "execution_count": 24,
   "metadata": {
    "collapsed": false
   },
   "outputs": [],
   "source": [
    "feature = [\"Log_price\",\"num_photos\",\"created_month\",\"created_day\",\"bathrooms\", \"bedrooms\",\n",
    "                 \"latitude\",\"longitude\",\"description_score\",\"num_features\",\"num_description\",\n",
    "                  \"created_dayofyear\",\n",
    "                  \"manager_level_low\",\"manager_level_medium\",\"manager_level_high\", \"display_address\",\"street_address\"]\n",
    "\n",
    "from scipy import sparse\n",
    "train_X_2 = sparse.hstack([train_df[feature], tr_sparse]).tocsr()\n",
    "test_X_2 = sparse.hstack([test_df[feature], te_sparse]).tocsr()\n",
    "\n",
    "target = {'high':0, 'medium':1, 'low':2}\n",
    "train_y = np.array(train_df['interest_level'].apply(lambda x: target[x]))"
   ]
  },
  {
   "cell_type": "code",
   "execution_count": 25,
   "metadata": {
    "collapsed": false
   },
   "outputs": [
    {
     "name": "stdout",
     "output_type": "stream",
     "text": [
      "Fitting 10 folds for each of 1 candidates, totalling 10 fits\n"
     ]
    },
    {
     "name": "stderr",
     "output_type": "stream",
     "text": [
      "/Users/zy/anaconda/lib/python3.5/site-packages/sklearn/grid_search.py:43: DeprecationWarning: This module was deprecated in version 0.18 in favor of the model_selection module into which all the refactored classes and functions are moved. This module will be removed in 0.20.\n",
      "  DeprecationWarning)\n"
     ]
    },
    {
     "name": "stdout",
     "output_type": "stream",
     "text": [
      "[CV] alpha=1e-05, activation=tanh, hidden_layer_sizes=(30, 10, 5) ....\n",
      "[CV] alpha=1e-05, activation=tanh, hidden_layer_sizes=(30, 10, 5) ....\n"
     ]
    },
    {
     "name": "stderr",
     "output_type": "stream",
     "text": [
      "/Users/zy/anaconda/lib/python3.5/site-packages/sklearn/metrics/scorer.py:127: DeprecationWarning: Scoring method log_loss was renamed to neg_log_loss in version 0.18 and will be removed in 0.20.\n",
      "  sample_weight=sample_weight)\n"
     ]
    },
    {
     "name": "stdout",
     "output_type": "stream",
     "text": [
      "[CV]  alpha=1e-05, activation=tanh, hidden_layer_sizes=(30, 10, 5) -   4.3s\n",
      "[CV] alpha=1e-05, activation=tanh, hidden_layer_sizes=(30, 10, 5) ....\n"
     ]
    },
    {
     "name": "stderr",
     "output_type": "stream",
     "text": [
      "/Users/zy/anaconda/lib/python3.5/site-packages/sklearn/metrics/scorer.py:127: DeprecationWarning: Scoring method log_loss was renamed to neg_log_loss in version 0.18 and will be removed in 0.20.\n",
      "  sample_weight=sample_weight)\n"
     ]
    },
    {
     "name": "stdout",
     "output_type": "stream",
     "text": [
      "[CV]  alpha=1e-05, activation=tanh, hidden_layer_sizes=(30, 10, 5) -   4.8s\n",
      "[CV] alpha=1e-05, activation=tanh, hidden_layer_sizes=(30, 10, 5) ....\n"
     ]
    },
    {
     "name": "stderr",
     "output_type": "stream",
     "text": [
      "/Users/zy/anaconda/lib/python3.5/site-packages/sklearn/metrics/scorer.py:127: DeprecationWarning: Scoring method log_loss was renamed to neg_log_loss in version 0.18 and will be removed in 0.20.\n",
      "  sample_weight=sample_weight)\n"
     ]
    },
    {
     "name": "stdout",
     "output_type": "stream",
     "text": [
      "[CV]  alpha=1e-05, activation=tanh, hidden_layer_sizes=(30, 10, 5) -   3.4s\n",
      "[CV] alpha=1e-05, activation=tanh, hidden_layer_sizes=(30, 10, 5) ....\n"
     ]
    },
    {
     "name": "stderr",
     "output_type": "stream",
     "text": [
      "/Users/zy/anaconda/lib/python3.5/site-packages/sklearn/metrics/scorer.py:127: DeprecationWarning: Scoring method log_loss was renamed to neg_log_loss in version 0.18 and will be removed in 0.20.\n",
      "  sample_weight=sample_weight)\n"
     ]
    },
    {
     "name": "stdout",
     "output_type": "stream",
     "text": [
      "[CV]  alpha=1e-05, activation=tanh, hidden_layer_sizes=(30, 10, 5) -   4.7s\n",
      "[CV] alpha=1e-05, activation=tanh, hidden_layer_sizes=(30, 10, 5) ....\n"
     ]
    },
    {
     "name": "stderr",
     "output_type": "stream",
     "text": [
      "/Users/zy/anaconda/lib/python3.5/site-packages/sklearn/metrics/scorer.py:127: DeprecationWarning: Scoring method log_loss was renamed to neg_log_loss in version 0.18 and will be removed in 0.20.\n",
      "  sample_weight=sample_weight)\n"
     ]
    },
    {
     "name": "stdout",
     "output_type": "stream",
     "text": [
      "[CV]  alpha=1e-05, activation=tanh, hidden_layer_sizes=(30, 10, 5) -   3.3s\n",
      "[CV] alpha=1e-05, activation=tanh, hidden_layer_sizes=(30, 10, 5) ....\n"
     ]
    },
    {
     "name": "stderr",
     "output_type": "stream",
     "text": [
      "/Users/zy/anaconda/lib/python3.5/site-packages/sklearn/metrics/scorer.py:127: DeprecationWarning: Scoring method log_loss was renamed to neg_log_loss in version 0.18 and will be removed in 0.20.\n",
      "  sample_weight=sample_weight)\n"
     ]
    },
    {
     "name": "stdout",
     "output_type": "stream",
     "text": [
      "[CV]  alpha=1e-05, activation=tanh, hidden_layer_sizes=(30, 10, 5) -   5.8s\n",
      "[CV] alpha=1e-05, activation=tanh, hidden_layer_sizes=(30, 10, 5) ....\n"
     ]
    },
    {
     "name": "stderr",
     "output_type": "stream",
     "text": [
      "/Users/zy/anaconda/lib/python3.5/site-packages/sklearn/metrics/scorer.py:127: DeprecationWarning: Scoring method log_loss was renamed to neg_log_loss in version 0.18 and will be removed in 0.20.\n",
      "  sample_weight=sample_weight)\n"
     ]
    },
    {
     "name": "stdout",
     "output_type": "stream",
     "text": [
      "[CV]  alpha=1e-05, activation=tanh, hidden_layer_sizes=(30, 10, 5) -   4.3s\n",
      "[CV] alpha=1e-05, activation=tanh, hidden_layer_sizes=(30, 10, 5) ....\n"
     ]
    },
    {
     "name": "stderr",
     "output_type": "stream",
     "text": [
      "/Users/zy/anaconda/lib/python3.5/site-packages/sklearn/metrics/scorer.py:127: DeprecationWarning: Scoring method log_loss was renamed to neg_log_loss in version 0.18 and will be removed in 0.20.\n",
      "  sample_weight=sample_weight)\n"
     ]
    },
    {
     "name": "stdout",
     "output_type": "stream",
     "text": [
      "[CV]  alpha=1e-05, activation=tanh, hidden_layer_sizes=(30, 10, 5) -   3.7s\n",
      "[CV] alpha=1e-05, activation=tanh, hidden_layer_sizes=(30, 10, 5) ....\n"
     ]
    },
    {
     "name": "stderr",
     "output_type": "stream",
     "text": [
      "/Users/zy/anaconda/lib/python3.5/site-packages/sklearn/metrics/scorer.py:127: DeprecationWarning: Scoring method log_loss was renamed to neg_log_loss in version 0.18 and will be removed in 0.20.\n",
      "  sample_weight=sample_weight)\n"
     ]
    },
    {
     "name": "stdout",
     "output_type": "stream",
     "text": [
      "[CV]  alpha=1e-05, activation=tanh, hidden_layer_sizes=(30, 10, 5) -   3.1s\n"
     ]
    },
    {
     "name": "stderr",
     "output_type": "stream",
     "text": [
      "/Users/zy/anaconda/lib/python3.5/site-packages/sklearn/metrics/scorer.py:127: DeprecationWarning: Scoring method log_loss was renamed to neg_log_loss in version 0.18 and will be removed in 0.20.\n",
      "  sample_weight=sample_weight)\n"
     ]
    },
    {
     "name": "stdout",
     "output_type": "stream",
     "text": [
      "[CV]  alpha=1e-05, activation=tanh, hidden_layer_sizes=(30, 10, 5) -   4.4s\n"
     ]
    },
    {
     "name": "stderr",
     "output_type": "stream",
     "text": [
      "[Parallel(n_jobs=2)]: Done  10 out of  10 | elapsed:   22.4s finished\n"
     ]
    },
    {
     "name": "stdout",
     "output_type": "stream",
     "text": [
      "- Time: 0.42 minutes\n",
      "- Best score: -0.7877\n",
      "- Best params: {'alpha': 1e-05, 'activation': 'tanh', 'hidden_layer_sizes': (30, 10, 5)}\n"
     ]
    }
   ],
   "source": [
    "# Classifier\n",
    "from sklearn.neural_network import MLPClassifier\n",
    "from sklearn.grid_search import GridSearchCV\n",
    "import time as time\n",
    "\n",
    "clf_nn = MLPClassifier(solver='adam', shuffle=True,random_state=2016)\n",
    "params = {\n",
    "    'alpha': [1e-5], # 1e-5, 1e-4...\n",
    "    'activation': ['tanh'], # 'relu', 'sigmoid'....\n",
    "    'hidden_layer_sizes': [(30, 10, 5)]#, (30, 30, 5), (20, 20, 20), (30, 30, 5)]\n",
    "}\n",
    "gs_nn = GridSearchCV(clf_nn, param_grid=params, scoring='log_loss', n_jobs=2, cv=10, verbose=2, refit=True) # cv=5\n",
    "start = time.time()\n",
    "gs_nn.fit(train_X_2,train_y)\n",
    "print('- Time: %.2f minutes' % ((time.time() - start)/60))\n",
    "print('- Best score: %.4f' % gs_nn.best_score_)\n",
    "print('- Best params: %s' % gs_nn.best_params_)"
   ]
  },
  {
   "cell_type": "markdown",
   "metadata": {
    "collapsed": true
   },
   "source": [
    "### Random Forest"
   ]
  },
  {
   "cell_type": "code",
   "execution_count": 83,
   "metadata": {
    "collapsed": false
   },
   "outputs": [],
   "source": [
    "#Impute Missing Values\n",
    "from sklearn.preprocessing import Imputer\n",
    "fill_NaN = Imputer(missing_values=np.nan, strategy='mean', axis=1)\n",
    "train_imputed = pd.DataFrame(fill_NaN.fit_transform(train_df[feature_to_use]))\n",
    "train_imputed.columns = train_df[feature_to_use].columns\n",
    "train_imputed.index = train_df.index\n",
    "\n",
    "test_imputed = pd.DataFrame(fill_NaN.fit_transform(test_df[feature_to_use]))\n",
    "test_imputed.columns = test_df[feature_to_use].columns\n",
    "test_imputed.index = test_df.index"
   ]
  },
  {
   "cell_type": "code",
   "execution_count": 28,
   "metadata": {
    "collapsed": false
   },
   "outputs": [
    {
     "name": "stdout",
     "output_type": "stream",
     "text": [
      "(49352, 219) (74659, 219) (49352,)\n",
      "Training...n_estimators=100\n",
      "0.736326344359\n"
     ]
    }
   ],
   "source": [
    "#Build final dataset\n",
    "from sklearn.model_selection import train_test_split\n",
    "from sklearn.ensemble import ExtraTreesClassifier\n",
    "\n",
    "train_X = sparse.hstack([train_imputed, tr_sparse]).tocsr()\n",
    "test_X = sparse.hstack([test_imputed, te_sparse]).tocsr()\n",
    "\n",
    "target_num_map = {'high':0, 'medium':1, 'low':2}\n",
    "train_y = np.array(train_df['interest_level'].apply(lambda x: target_num_map[x]))\n",
    "print(train_X.shape, test_X.shape, train_y.shape)\n",
    "\n",
    "X_train, X_val, y_train, y_val = train_test_split(train_X, train_y, test_size=0.20)\n",
    "\n",
    "print(\"Training...n_estimators=100\")\n",
    "clf = ExtraTreesClassifier(n_estimators=100)\n",
    "clf.fit(X_train, y_train)\n",
    "y_val_pred = clf.predict_proba(X_val)\n",
    "print(log_loss(y_val, y_val_pred))\n"
   ]
  },
  {
   "cell_type": "code",
   "execution_count": 16,
   "metadata": {
    "collapsed": false
   },
   "outputs": [
    {
     "data": {
      "text/html": [
       "<div>\n",
       "<table border=\"1\" class=\"dataframe\">\n",
       "  <thead>\n",
       "    <tr style=\"text-align: right;\">\n",
       "      <th></th>\n",
       "      <th>bathrooms</th>\n",
       "      <th>bedrooms</th>\n",
       "      <th>building_id</th>\n",
       "      <th>created</th>\n",
       "      <th>description</th>\n",
       "      <th>display_address</th>\n",
       "      <th>features</th>\n",
       "      <th>interest_level</th>\n",
       "      <th>latitude</th>\n",
       "      <th>listing_id</th>\n",
       "      <th>...</th>\n",
       "      <th>Log_price</th>\n",
       "      <th>num_photos</th>\n",
       "      <th>created_month</th>\n",
       "      <th>created_day</th>\n",
       "      <th>created_dayofyear</th>\n",
       "      <th>num_features</th>\n",
       "      <th>manager_level_low</th>\n",
       "      <th>manager_level_medium</th>\n",
       "      <th>manager_level_high</th>\n",
       "      <th>feature_extraction</th>\n",
       "    </tr>\n",
       "  </thead>\n",
       "  <tbody>\n",
       "    <tr>\n",
       "      <th>0</th>\n",
       "      <td>1.5</td>\n",
       "      <td>3</td>\n",
       "      <td>3797</td>\n",
       "      <td>2016-06-24 07:54:24</td>\n",
       "      <td>A Brand New 3 Bedroom 1.5 bath ApartmentEnjoy ...</td>\n",
       "      <td>12282</td>\n",
       "      <td>[]</td>\n",
       "      <td>medium</td>\n",
       "      <td>40.7145</td>\n",
       "      <td>7211212</td>\n",
       "      <td>...</td>\n",
       "      <td>8.006368</td>\n",
       "      <td>5</td>\n",
       "      <td>6</td>\n",
       "      <td>24</td>\n",
       "      <td>176</td>\n",
       "      <td>0</td>\n",
       "      <td>0.744444</td>\n",
       "      <td>0.255556</td>\n",
       "      <td>0.0</td>\n",
       "      <td></td>\n",
       "    </tr>\n",
       "  </tbody>\n",
       "</table>\n",
       "<p>1 rows × 27 columns</p>\n",
       "</div>"
      ],
      "text/plain": [
       "   bathrooms  bedrooms  building_id              created  \\\n",
       "0        1.5         3         3797  2016-06-24 07:54:24   \n",
       "\n",
       "                                         description  display_address  \\\n",
       "0  A Brand New 3 Bedroom 1.5 bath ApartmentEnjoy ...            12282   \n",
       "\n",
       "  features interest_level  latitude  listing_id         ...          \\\n",
       "0       []         medium   40.7145     7211212         ...           \n",
       "\n",
       "   Log_price  num_photos created_month  created_day  created_dayofyear  \\\n",
       "0   8.006368           5             6           24                176   \n",
       "\n",
       "   num_features  manager_level_low  manager_level_medium  manager_level_high  \\\n",
       "0             0           0.744444              0.255556                 0.0   \n",
       "\n",
       "   feature_extraction  \n",
       "0                      \n",
       "\n",
       "[1 rows x 27 columns]"
      ]
     },
     "execution_count": 16,
     "metadata": {},
     "output_type": "execute_result"
    }
   ],
   "source": [
    "train_df.head(1)"
   ]
  },
  {
   "cell_type": "markdown",
   "metadata": {},
   "source": [
    "### Surrogate Model"
   ]
  },
  {
   "cell_type": "code",
   "execution_count": 93,
   "metadata": {
    "collapsed": false
   },
   "outputs": [],
   "source": [
    "predict, model = runXGB(train_X, train_y, train_X, num_rounds=400)\n",
    "out_train = pd.DataFrame(predict)"
   ]
  },
  {
   "cell_type": "code",
   "execution_count": 94,
   "metadata": {
    "collapsed": false
   },
   "outputs": [
    {
     "data": {
      "text/html": [
       "<div>\n",
       "<table border=\"1\" class=\"dataframe\">\n",
       "  <thead>\n",
       "    <tr style=\"text-align: right;\">\n",
       "      <th></th>\n",
       "      <th>high</th>\n",
       "      <th>medium</th>\n",
       "      <th>low</th>\n",
       "    </tr>\n",
       "  </thead>\n",
       "  <tbody>\n",
       "    <tr>\n",
       "      <th>0</th>\n",
       "      <td>0.000273</td>\n",
       "      <td>0.401475</td>\n",
       "      <td>0.598252</td>\n",
       "    </tr>\n",
       "    <tr>\n",
       "      <th>1</th>\n",
       "      <td>0.000010</td>\n",
       "      <td>0.003006</td>\n",
       "      <td>0.996984</td>\n",
       "    </tr>\n",
       "    <tr>\n",
       "      <th>2</th>\n",
       "      <td>0.164398</td>\n",
       "      <td>0.540704</td>\n",
       "      <td>0.294898</td>\n",
       "    </tr>\n",
       "    <tr>\n",
       "      <th>3</th>\n",
       "      <td>0.006340</td>\n",
       "      <td>0.034250</td>\n",
       "      <td>0.959410</td>\n",
       "    </tr>\n",
       "    <tr>\n",
       "      <th>4</th>\n",
       "      <td>0.000019</td>\n",
       "      <td>0.000118</td>\n",
       "      <td>0.999863</td>\n",
       "    </tr>\n",
       "  </tbody>\n",
       "</table>\n",
       "</div>"
      ],
      "text/plain": [
       "       high    medium       low\n",
       "0  0.000273  0.401475  0.598252\n",
       "1  0.000010  0.003006  0.996984\n",
       "2  0.164398  0.540704  0.294898\n",
       "3  0.006340  0.034250  0.959410\n",
       "4  0.000019  0.000118  0.999863"
      ]
     },
     "execution_count": 94,
     "metadata": {},
     "output_type": "execute_result"
    }
   ],
   "source": [
    "out_train.columns = [\"high\", \"medium\", \"low\"]\n",
    "out_train.head()"
   ]
  },
  {
   "cell_type": "code",
   "execution_count": 95,
   "metadata": {
    "collapsed": true
   },
   "outputs": [],
   "source": [
    "from sklearn.tree import export_graphviz\n",
    "lt = [\"low\",\"medium\",\"high\"]\n",
    "predict = out_train[lt].idxmax(axis=1)\n",
    "target = {'high':0, 'medium':1, 'low':2}\n",
    "predict= np.array(predict.apply(lambda x: target[x]))"
   ]
  },
  {
   "cell_type": "code",
   "execution_count": 96,
   "metadata": {
    "collapsed": false
   },
   "outputs": [],
   "source": [
    "features = [\"Log_price\",\"num_photos\",\"created_month\",\"created_day\",\"bathrooms\", \"bedrooms\",\n",
    "            \"latitude\",\"longitude\",\"description_score\",\"num_features\",\"num_description\",\n",
    "            \"created_dayofyear\",\"manager_level_low\",\"manager_level_medium\",\"manager_level_high\", \"display_address\",\"street_address\"]\n",
    "X = train_df[features].iloc[:,0:].values"
   ]
  },
  {
   "cell_type": "code",
   "execution_count": 102,
   "metadata": {
    "collapsed": true
   },
   "outputs": [],
   "source": [
    "from sklearn import tree\n",
    "clf = tree.DecisionTreeClassifier(criterion='gini', splitter='best', max_depth=3, min_samples_split=2, max_features=4)\n",
    "clf = clf.fit(X, predict)\n",
    "tree.export_graphviz(clf, out_file='dt.dot',feature_names=features)"
   ]
  },
  {
   "cell_type": "code",
   "execution_count": 110,
   "metadata": {
    "collapsed": false
   },
   "outputs": [
    {
     "data": {
      "text/plain": [
       "True"
      ]
     },
     "execution_count": 110,
     "metadata": {},
     "output_type": "execute_result"
    }
   ],
   "source": [
    "import pydotplus \n",
    "from sklearn import tree\n",
    "dot_data = tree.export_graphviz(clf, out_file=None,feature_names= features,class_names = [\"high\",\"medium\",\"low\"]) \n",
    "graph = pydotplus.graph_from_dot_data(dot_data)   \n",
    "#graph.write_pdf(\"dt2.pdf\")"
   ]
  },
  {
   "cell_type": "code",
   "execution_count": 81,
   "metadata": {
    "collapsed": false
   },
   "outputs": [
    {
     "data": {
      "text/html": [
       "<div>\n",
       "<table border=\"1\" class=\"dataframe\">\n",
       "  <thead>\n",
       "    <tr style=\"text-align: right;\">\n",
       "      <th></th>\n",
       "      <th>bathrooms</th>\n",
       "      <th>bedrooms</th>\n",
       "      <th>building_id</th>\n",
       "      <th>created</th>\n",
       "      <th>description</th>\n",
       "      <th>display_address</th>\n",
       "      <th>features</th>\n",
       "      <th>interest_level</th>\n",
       "      <th>latitude</th>\n",
       "      <th>listing_id</th>\n",
       "      <th>...</th>\n",
       "      <th>manager_level_low</th>\n",
       "      <th>manager_level_medium</th>\n",
       "      <th>manager_level_high</th>\n",
       "      <th>feature_extraction</th>\n",
       "      <th>building_level_low</th>\n",
       "      <th>building_level_medium</th>\n",
       "      <th>building_level_high</th>\n",
       "      <th>high</th>\n",
       "      <th>medium</th>\n",
       "      <th>low</th>\n",
       "    </tr>\n",
       "  </thead>\n",
       "  <tbody>\n",
       "    <tr>\n",
       "      <th>0</th>\n",
       "      <td>1.5</td>\n",
       "      <td>3</td>\n",
       "      <td>3797</td>\n",
       "      <td>2016-06-24 07:54:24</td>\n",
       "      <td>A Brand New 3 Bedroom 1.5 bath ApartmentEnjoy ...</td>\n",
       "      <td>12282</td>\n",
       "      <td>[]</td>\n",
       "      <td>2</td>\n",
       "      <td>40.7145</td>\n",
       "      <td>7211212</td>\n",
       "      <td>...</td>\n",
       "      <td>0.744444</td>\n",
       "      <td>0.255556</td>\n",
       "      <td>0.000000</td>\n",
       "      <td></td>\n",
       "      <td>0.666667</td>\n",
       "      <td>0.333333</td>\n",
       "      <td>0.000000</td>\n",
       "      <td>0.213387</td>\n",
       "      <td>0.258345</td>\n",
       "      <td>0.528268</td>\n",
       "    </tr>\n",
       "    <tr>\n",
       "      <th>1</th>\n",
       "      <td>1.0</td>\n",
       "      <td>2</td>\n",
       "      <td>8986</td>\n",
       "      <td>2016-06-12 12:19:27</td>\n",
       "      <td></td>\n",
       "      <td>9080</td>\n",
       "      <td>[Doorman, Elevator, Fitness Center, Cats Allow...</td>\n",
       "      <td>2</td>\n",
       "      <td>40.7947</td>\n",
       "      <td>7150865</td>\n",
       "      <td>...</td>\n",
       "      <td>0.988372</td>\n",
       "      <td>0.011628</td>\n",
       "      <td>0.000000</td>\n",
       "      <td>doorman elevator fitnesscenter catsallowed dog...</td>\n",
       "      <td>0.916667</td>\n",
       "      <td>0.083333</td>\n",
       "      <td>0.000000</td>\n",
       "      <td>0.173499</td>\n",
       "      <td>0.123002</td>\n",
       "      <td>0.703498</td>\n",
       "    </tr>\n",
       "    <tr>\n",
       "      <th>2</th>\n",
       "      <td>1.0</td>\n",
       "      <td>1</td>\n",
       "      <td>8889</td>\n",
       "      <td>2016-04-17 03:26:41</td>\n",
       "      <td>Top Top West Village location, beautiful Pre-w...</td>\n",
       "      <td>13719</td>\n",
       "      <td>[Laundry In Building, Dishwasher, Hardwood Flo...</td>\n",
       "      <td>2</td>\n",
       "      <td>40.7388</td>\n",
       "      <td>6887163</td>\n",
       "      <td>...</td>\n",
       "      <td>0.574627</td>\n",
       "      <td>0.365672</td>\n",
       "      <td>0.059701</td>\n",
       "      <td>laundryinbuilding dishwasher hardwoodfloors pe...</td>\n",
       "      <td>0.379310</td>\n",
       "      <td>0.448276</td>\n",
       "      <td>0.172414</td>\n",
       "      <td>0.046577</td>\n",
       "      <td>0.085019</td>\n",
       "      <td>0.868404</td>\n",
       "    </tr>\n",
       "    <tr>\n",
       "      <th>3</th>\n",
       "      <td>1.0</td>\n",
       "      <td>1</td>\n",
       "      <td>1848</td>\n",
       "      <td>2016-04-18 02:22:02</td>\n",
       "      <td>Building Amenities - Garage - Garden - fitness...</td>\n",
       "      <td>10866</td>\n",
       "      <td>[Hardwood Floors, No Fee]</td>\n",
       "      <td>2</td>\n",
       "      <td>40.7539</td>\n",
       "      <td>6888711</td>\n",
       "      <td>...</td>\n",
       "      <td>0.806283</td>\n",
       "      <td>0.125654</td>\n",
       "      <td>0.068063</td>\n",
       "      <td>hardwoodfloors nofee</td>\n",
       "      <td>0.898990</td>\n",
       "      <td>0.090909</td>\n",
       "      <td>0.010101</td>\n",
       "      <td>0.000029</td>\n",
       "      <td>0.000379</td>\n",
       "      <td>0.999592</td>\n",
       "    </tr>\n",
       "    <tr>\n",
       "      <th>4</th>\n",
       "      <td>1.0</td>\n",
       "      <td>4</td>\n",
       "      <td>0</td>\n",
       "      <td>2016-04-28 01:32:41</td>\n",
       "      <td>Beautifully renovated 3 bedroom flex 4 bedroom...</td>\n",
       "      <td>15072</td>\n",
       "      <td>[Pre-War]</td>\n",
       "      <td>2</td>\n",
       "      <td>40.8241</td>\n",
       "      <td>6934781</td>\n",
       "      <td>...</td>\n",
       "      <td>1.000000</td>\n",
       "      <td>0.000000</td>\n",
       "      <td>0.000000</td>\n",
       "      <td>pre-war</td>\n",
       "      <td>0.915762</td>\n",
       "      <td>0.060705</td>\n",
       "      <td>0.023534</td>\n",
       "      <td>0.096201</td>\n",
       "      <td>0.097723</td>\n",
       "      <td>0.806076</td>\n",
       "    </tr>\n",
       "  </tbody>\n",
       "</table>\n",
       "<p>5 rows × 33 columns</p>\n",
       "</div>"
      ],
      "text/plain": [
       "   bathrooms  bedrooms  building_id              created  \\\n",
       "0        1.5         3         3797  2016-06-24 07:54:24   \n",
       "1        1.0         2         8986  2016-06-12 12:19:27   \n",
       "2        1.0         1         8889  2016-04-17 03:26:41   \n",
       "3        1.0         1         1848  2016-04-18 02:22:02   \n",
       "4        1.0         4            0  2016-04-28 01:32:41   \n",
       "\n",
       "                                         description  display_address  \\\n",
       "0  A Brand New 3 Bedroom 1.5 bath ApartmentEnjoy ...            12282   \n",
       "1                                                                9080   \n",
       "2  Top Top West Village location, beautiful Pre-w...            13719   \n",
       "3  Building Amenities - Garage - Garden - fitness...            10866   \n",
       "4  Beautifully renovated 3 bedroom flex 4 bedroom...            15072   \n",
       "\n",
       "                                            features  interest_level  \\\n",
       "0                                                 []               2   \n",
       "1  [Doorman, Elevator, Fitness Center, Cats Allow...               2   \n",
       "2  [Laundry In Building, Dishwasher, Hardwood Flo...               2   \n",
       "3                          [Hardwood Floors, No Fee]               2   \n",
       "4                                          [Pre-War]               2   \n",
       "\n",
       "   latitude  listing_id    ...     manager_level_low  manager_level_medium  \\\n",
       "0   40.7145     7211212    ...              0.744444              0.255556   \n",
       "1   40.7947     7150865    ...              0.988372              0.011628   \n",
       "2   40.7388     6887163    ...              0.574627              0.365672   \n",
       "3   40.7539     6888711    ...              0.806283              0.125654   \n",
       "4   40.8241     6934781    ...              1.000000              0.000000   \n",
       "\n",
       "  manager_level_high                                 feature_extraction  \\\n",
       "0           0.000000                                                      \n",
       "1           0.000000  doorman elevator fitnesscenter catsallowed dog...   \n",
       "2           0.059701  laundryinbuilding dishwasher hardwoodfloors pe...   \n",
       "3           0.068063                              hardwoodfloors nofee    \n",
       "4           0.000000                                           pre-war    \n",
       "\n",
       "   building_level_low  building_level_medium  building_level_high      high  \\\n",
       "0            0.666667               0.333333             0.000000  0.213387   \n",
       "1            0.916667               0.083333             0.000000  0.173499   \n",
       "2            0.379310               0.448276             0.172414  0.046577   \n",
       "3            0.898990               0.090909             0.010101  0.000029   \n",
       "4            0.915762               0.060705             0.023534  0.096201   \n",
       "\n",
       "     medium       low  \n",
       "0  0.258345  0.528268  \n",
       "1  0.123002  0.703498  \n",
       "2  0.085019  0.868404  \n",
       "3  0.000379  0.999592  \n",
       "4  0.097723  0.806076  \n",
       "\n",
       "[5 rows x 33 columns]"
      ]
     },
     "execution_count": 81,
     "metadata": {},
     "output_type": "execute_result"
    }
   ],
   "source": [
    "out_train = out_df\n",
    "train = train_df\n",
    "train[\"interest_level\"] = out_train[[\"high\",\"medium\",\"low\"]].idxmax(axis=1).apply(lambda x: target[x])\n",
    "train[[\"high\",\"medium\",\"low\"]] = out_train[[\"high\",\"medium\",\"low\"]]"
   ]
  },
  {
   "cell_type": "code",
   "execution_count": 83,
   "metadata": {
    "collapsed": true
   },
   "outputs": [],
   "source": [
    "#train.to_csv(\"data/Surrogate.csv\",index=False)"
   ]
  },
  {
   "cell_type": "code",
   "execution_count": null,
   "metadata": {
    "collapsed": true
   },
   "outputs": [],
   "source": []
  }
 ],
 "metadata": {
  "anaconda-cloud": {},
  "kernelspec": {
   "display_name": "Python [Root]",
   "language": "python",
   "name": "Python [Root]"
  },
  "language_info": {
   "codemirror_mode": {
    "name": "ipython",
    "version": 3
   },
   "file_extension": ".py",
   "mimetype": "text/x-python",
   "name": "python",
   "nbconvert_exporter": "python",
   "pygments_lexer": "ipython3",
   "version": "3.5.2"
  }
 },
 "nbformat": 4,
 "nbformat_minor": 1
}
